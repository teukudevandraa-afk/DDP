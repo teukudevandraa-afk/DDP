From: <Saved by Blink>
Snapshot-Content-Location: https://colab.research.google.com/drive/1S8Z2UcMhg2HEUKcM0QSOBssCKNE29knw?authuser=0#scrollTo=Zusv-TPTEx_X
Subject: Untitled13.ipynb - Colab
Date: Thu, 23 Oct 2025 15:33:51 +0700
MIME-Version: 1.0
Content-Type: multipart/related;
	type="text/html";
	boundary="----MultipartBoundary--o4C46MD1v5LjRKaEEJJp6V0O1heQ16TtDUGnAqoxwB----"


------MultipartBoundary--o4C46MD1v5LjRKaEEJJp6V0O1heQ16TtDUGnAqoxwB----
Content-Type: text/html
Content-ID: <frame-D6C777E0EF85CAFC0D00621D263AA466@mhtml.blink>
Content-Transfer-Encoding: binary
Content-Location: https://colab.research.google.com/drive/1S8Z2UcMhg2HEUKcM0QSOBssCKNE29knw?authuser=0#scrollTo=Zusv-TPTEx_X

<!DOCTYPE html><html lang="id" theme="dark" editor="Default Dark"><head><meta http-equiv="Content-Type" content="text/html; charset=UTF-8"><link rel="stylesheet" type="text/css" href="cid:css-4429cc59-46ae-46a3-89d0-4a4189dd634d@mhtml.blink" /><link rel="stylesheet" type="text/css" href="cid:css-e03570b3-f83f-462f-82e9-811a6fdda034@mhtml.blink" /><link rel="stylesheet" type="text/css" href="cid:css-c9734a42-be38-4436-8e28-0f935463ea9a@mhtml.blink" /><link rel="stylesheet" type="text/css" href="cid:css-ac9d814e-2986-418c-8f57-fa3412b8a5ec@mhtml.blink" /><link rel="stylesheet" type="text/css" href="cid:css-47c94ba0-02ad-4d82-94e2-78d68d8da86a@mhtml.blink" /><link rel="stylesheet" type="text/css" href="cid:css-7e609b74-833c-4019-86d4-d9719d808bc9@mhtml.blink" /><link rel="stylesheet" type="text/css" href="cid:css-cc91cfe1-9394-4bf1-9122-bffadb9a60c6@mhtml.blink" /><link rel="stylesheet" type="text/css" href="cid:css-a296d88a-4ef7-4a82-93dd-a7a64939cb30@mhtml.blink" /><link rel="stylesheet" type="text/css" href="cid:css-85e30e85-e942-4189-a76a-ace52e84d1d1@mhtml.blink" /><link rel="stylesheet" type="text/css" href="cid:css-3f47b6db-55fd-4239-8ad8-58dcde105231@mhtml.blink" /><meta http-equiv="origin-trial" content="A7vZI3v+Gz7JfuRolKNM4Aff6zaGuT7X0mf3wtoZTnKv6497cVMnhy03KDqX7kBz/q/iidW7srW31oQbBt4VhgoAAACUeyJvcmlnaW4iOiJodHRwczovL3d3dy5nb29nbGUuY29tOjQ0MyIsImZlYXR1cmUiOiJEaXNhYmxlVGhpcmRQYXJ0eVN0b3JhZ2VQYXJ0aXRpb25pbmczIiwiZXhwaXJ5IjoxNzU3OTgwODAwLCJpc1N1YmRvbWFpbiI6dHJ1ZSwiaXNUaGlyZFBhcnR5Ijp0cnVlfQ=="><meta http-equiv="origin-trial" content="A7vZI3v+Gz7JfuRolKNM4Aff6zaGuT7X0mf3wtoZTnKv6497cVMnhy03KDqX7kBz/q/iidW7srW31oQbBt4VhgoAAACUeyJvcmlnaW4iOiJodHRwczovL3d3dy5nb29nbGUuY29tOjQ0MyIsImZlYXR1cmUiOiJEaXNhYmxlVGhpcmRQYXJ0eVN0b3JhZ2VQYXJ0aXRpb25pbmczIiwiZXhwaXJ5IjoxNzU3OTgwODAwLCJpc1N1YmRvbWFpbiI6dHJ1ZSwiaXNUaGlyZFBhcnR5Ijp0cnVlfQ=="><meta name="og-profile-acct" content="devandramuda@gmail.com"><meta name="referrer" content="origin"><meta name="viewport" content="width=device-width, initial-scale=1"><title>Untitled13.ipynb - Colab</title><link href="https://fonts.googleapis.com/css2?family=Google+Symbols:FILL@0..1&amp;display=block" rel="stylesheet"><link href="https://fonts.googleapis.com/css?family=Roboto:300,400,500,600,700|Google+Sans:300,400,500,600,700|Google+Sans+Text:400,500,700&amp;display=block" rel="stylesheet"><link rel="search" type="application/opensearchdescription+xml" href="https://colab.research.google.com/opensearch.xml" title="Google Colab"><link rel="stylesheet" href="https://ssl.gstatic.com/colaboratory-static/common/dbf976ca262648de3ec2dd49c71d3a64/v2/external/bundle.css"><link id="favicon-link" rel="shortcut icon" href="https://ssl.gstatic.com/colaboratory-static/common/dbf976ca262648de3ec2dd49c71d3a64/img%2Ffavicon_busy.ico"><meta name="google-site-verification" content="wRgpUU3mIRZPD1GORBPNonaotM72092B_DsqQFWNa4s"><meta name="google-site-verification" content="dsf7CRwnDkQv6Ot4gXTXx8_nVf8A9cb5o30hZ7cGAIo"><meta name="google-site-verification" content="K1UdZBHJXQYnJGXIK1KuutmVy6dn3vG2sEyV9D1C6dM"><meta name="google-site-verification" content="wdGthzzfu0IjM3qpFqTuQL9poAQZAvAaFKyuzetLpIM"><meta name="google-site-verification" content="qZJ77guHGO0TObHUBRYVdXQlIhXBBuz8dahJVmIlzCo"><meta name="google-site-verification" content="7ahoeOOKT2ZR781GZ5xK4L9t7yO1ZOHc-gaoUALEYgw"><meta name="google-site-verification" content="PHgaSKwdxZELS21aixtLhfpvaHtKen9pnVJ25EI35Zs"><meta name="google-site-verification" content="qylwTsZSLomIg1JrChne7cPcXmtC2Xh_5ZxlJWLlAH0"><meta name="google-site-verification" content="BQfukMqFy1nu2Q2gjGbNTDA8MJ_Y4L2brCYA1h6ewkY"><meta name="google-site-verification" content="pIZq7V_Vt54MAfdQe5afm8zeJrl3o4GkRW-etNvnlKI"><meta name="google-site-verification" content="Ozey1ptWUQW13_lCEhpPMOcmRBLqdyB3WEL-TJUjskU"><meta name="google-site-verification" content="z-WR3zzv8XZ5FFfBLLDbyTiN35UXm01nWUS2Uej5pwg"><meta name="google-site-verification" content="rF5iXzWe9KZXJes1dQNhOUkS4_z_e97IrsVoCx2trek"><meta name="google-site-verification" content="vsXaeD7OD0m3iK8Z54fG8TYGC5eT17KeL_xMHtdiyWI"><meta name="google-site-verification" content="cpB5oulaGwqSxsg4E-9q2MVbK87iE9NAUUVxdveucPw"><meta name="google-site-verification" content="b6bOMRzMVX2bJABYDGBPtpGcB_AUZ-o2SOTggQXErkg"><meta name="google-site-verification" content="88fgsZDoVRBuRnDPMIEjcHCxsEXzODOqEsJoqtvQsDc"><meta name="google-site-verification" content="hZkpVtQ8gdGznkTfUekRWeGY05QyeLXb6q946CFw2-c"><meta name="google-site-verification" content="sMarhZgb4va_L_7UTdMR43gDZ2gVqc_5GHN4REpQPGY"><meta name="google-site-verification" content="26aKGBCw3XblB5Ou01UhxY5WDtMqHjoTm6P-lvF6AqE"><meta name="google-site-verification" content="DGionF7db9g0dOgeBXwOAN2tmCzWBdo5yOdc_-5UcuE"><meta name="google-site-verification" content="Q9LlidR0toR7UtSyVO23xNeaqJmRp8I6r4ghBQTtntU"><meta name="google-site-verification" content="rQawcZaTEK_UrDG30cz_7nVKOVvBass61QEes0Tm04g"><meta name="google-site-verification" content="-N1hdkiHJQ6kwJALkHVh2ZzV2fFNER0schZl2AU6zvc"><meta name="google-site-verification" content="8L3ghjzKIj241AYAmEygniTe604tsXFkIrb1v-DBtGo"><meta name="google-site-verification" content="Gz6pcDgVFH_aS-aPTYW21rSHcWl0LAgKCWJtdXPVTNo"><meta name="google-site-verification" content="KiunYPvrY5x8umvAWcjhwPrB677xCar2LeT_8yaVrDg"><meta name="google-site-verification" content="LypEVvHhYiLSzDs9PabhmOmsfMfEjVGq2rLXJbtqdzY"><meta property="og:type" content="article"><meta property="og:image" content="https://colab.research.google.com/img/colab_favicon_256px.png"><meta property="og:title" content="Google Colab"><meta http-equiv="origin-trial" content="Agk/t4Bt05W7j6CHeqXH9+6ccDayrBsQPqCLDPSElphe/7cUobayuvN0A3huajTbJenIjp6qibLteh6e0IEWrgIAAAB4eyJvcmlnaW4iOiJodHRwczovL2NvbGFiLnJlc2VhcmNoLmdvb2dsZS5jb206NDQzIiwiZmVhdHVyZSI6IkRpc2FibGVUaGlyZFBhcnR5U3RvcmFnZVBhcnRpdGlvbmluZzIiLCJleHBpcnkiOjE3NDIzNDIzOTl9"><link type="text/css" href="https://www.gstatic.com/og/_/ss/k=og.qtm.6c-EVA8RIQg.L.W.O/m=qcwid,qba/excm=qaaw,qadd,qaid,qein,qhaw,qhba,qhbr,qhch,qhga,qhid,qhin/d=1/ed=1/ct=zgms/rs=AA2YrTst1B5KY57uLFRFvf1ggmX3Hzcwtw" rel="stylesheet"><link rel="stylesheet" type="text/css" data-name="vs/editor/editor.main" href="https://ssl.gstatic.com/colaboratory-static/common/dbf976ca262648de3ec2dd49c71d3a64/js%2Fmonaco_editor%2F/vs/editor/editor.main.css"><link href="https://www.gstatic.com/images/icons/material/anim/mspin/mspin_googcolor_medium.css" rel="stylesheet"></head><body class="mobile" style="overscroll-behavior: contain;"><div style="visibility: hidden; overflow: hidden; position: absolute; top: 0px; height: 1px; width: auto; padding: 0px; border: 0px; margin: 0px; text-align: left; text-indent: 0px; text-transform: none; line-height: normal; letter-spacing: normal; word-spacing: normal;"><div id="MathJax_Hidden"></div></div><div id="MathJax_Message" style="display: none;"></div><div class="scripts"></div><colab-snackbar leading="" labeltext="" id="message-area" class="message-area"><template shadowmode="open"><!---->
      <!--?lit$149699970$-->
      <div class="mdc-snackbar mdc-snackbar--leading">
        <div class="mdc-snackbar__surface">
          <!--?lit$149699970$-->
          <div class="mdc-snackbar__actions">
            <slot name="action"></slot>
            <slot name="dismiss"></slot>
          </div>
        </div>
      </div><!--?--></template>
      <md-icon-button class="close" slot="dismiss" title="Tutup" data-aria-label="Tutup" value=""><template shadowmode="open" shadowdelegatesfocus=""><!----><button id="button" class="icon-button  standard " aria-label="Tutup">
        <!--?lit$149699970$--><md-focus-ring part="focus-ring" for="button" aria-hidden="true"><template shadowmode="open"><!----></template></md-focus-ring>
        <!--?lit$149699970$--><md-ripple aria-hidden="true"><template shadowmode="open"><!----><div class="surface   "></div></template></md-ripple>
        <!--?lit$149699970$--><span class="icon"><slot></slot></span>
        <!--?lit$149699970$-->
        <!--?lit$149699970$--><span class="touch"></span>
  </button></template>
        <md-icon aria-hidden="true"><template shadowmode="open"><!----><slot></slot></template>close</md-icon>
      </md-icon-button>
    </colab-snackbar><colab-snackbar leading="" labeltext="" id="message-area-secondary" class="message-area startup"><template shadowmode="open"><!---->
      <!--?lit$149699970$-->
      <div class="mdc-snackbar mdc-snackbar--leading">
        <div class="mdc-snackbar__surface">
          <!--?lit$149699970$--><div class="mdc-snackbar__label" role="status" aria-live="polite">Memuat…</div>
          <div class="mdc-snackbar__actions">
            <slot name="action"></slot>
            <slot name="dismiss"></slot>
          </div>
        </div>
      </div><!--?--></template>
      <md-icon-button class="close" slot="dismiss" title="Tutup" data-aria-label="Tutup" value=""><template shadowmode="open" shadowdelegatesfocus=""><!----><button id="button" class="icon-button  standard " aria-label="Tutup">
        <!--?lit$149699970$--><md-focus-ring part="focus-ring" for="button" aria-hidden="true"><template shadowmode="open"><!----></template></md-focus-ring>
        <!--?lit$149699970$--><md-ripple aria-hidden="true"><template shadowmode="open"><!----><div class="surface   "></div></template></md-ripple>
        <!--?lit$149699970$--><span class="icon"><slot></slot></span>
        <!--?lit$149699970$-->
        <!--?lit$149699970$--><span class="touch"></span>
  </button></template>
        <md-icon aria-hidden="true"><template shadowmode="open"><!----><slot></slot></template>close</md-icon>
      </md-icon-button>
    </colab-snackbar><div ng-non-bindable=""></div><div class="gb_Qc" ng-non-bindable="" style="visibility: hidden; left: 222px; top: 44px; display: none;"><div class="gb_Rc"><div>Akun Google</div><div class="gb_g">Devandra Muda</div><div>devandramuda@gmail.com</div><div class="gb_Sc"></div></div></div><div style="position: absolute; width: 0px; height: 0px; overflow: hidden; padding: 0px; border: 0px; margin: 0px;"><div id="MathJax_Font_Test" style="position: absolute; visibility: hidden; top: 0px; left: 0px; width: auto; min-width: 0px; max-width: none; padding: 0px; border: 0px; margin: 0px; white-space: nowrap; text-align: left; text-indent: 0px; text-transform: none; line-height: normal; letter-spacing: normal; word-spacing: normal; font-size: 40px; font-weight: normal; font-style: normal; font-size-adjust: none; font-family: MathJax_Size1, monospace;"></div></div><div class="notebook-vertical">
      <!--?lit$149699970$--><colab-skip-link><template shadowmode="open"><!----><md-elevated-button class="link" href="#notebook-main" value=""><template shadowmode="open" shadowdelegatesfocus=""><!---->
      <!--?lit$149699970$--><md-elevation part="elevation" aria-hidden="true"><template shadowmode="open"><!----><span class="shadow"></span></template></md-elevation>
      <div class="background"></div>
      <md-focus-ring part="focus-ring" for="link" aria-hidden="true"><template shadowmode="open"><!----></template></md-focus-ring>
      <md-ripple part="ripple" for="link" aria-hidden="true"><template shadowmode="open"><!----><div class="surface   "></div></template></md-ripple>
      <!--?lit$149699970$--><a id="link" class="button" href="https://colab.research.google.com/drive/1S8Z2UcMhg2HEUKcM0QSOBssCKNE29knw?authuser=0#notebook-main"><!--?lit$149699970$-->
      <span class="touch"></span>
      <!--?lit$149699970$--><slot name="icon"></slot>
      <span class="label"><slot></slot></span>
      <!--?lit$149699970$-->
    
    </a>
    </template><!--?lit$149699970$-->Langsung ke konten utama</md-elevated-button></template></colab-skip-link>
      <div class="top-floater"><div>
    <!--?lit$149699970$-->
    <!--?lit$149699970$--> <!--?lit$149699970$-->
    <div id="header" style="display: none;">
      <div id="header-background"> <div></div></div>
      <div id="header-content" class="layout horizontal">
        <div id="header-doc-toolbar">
          <md-icon-button class="mobile-header-menu" value=""><template shadowmode="open" shadowdelegatesfocus=""><!----><button id="button" class="icon-button  standard ">
        <!--?lit$149699970$--><md-focus-ring part="focus-ring" for="button" aria-hidden="true"><template shadowmode="open"><!----></template></md-focus-ring>
        <!--?lit$149699970$--><md-ripple aria-hidden="true"><template shadowmode="open"><!----><div class="surface"></div></template></md-ripple>
        <!--?lit$149699970$--><span class="icon"><slot></slot></span>
        <!--?lit$149699970$-->
        <!--?lit$149699970$--><span class="touch"></span>
  </button></template>
            <md-icon aria-hidden="true"><template shadowmode="open"><!----><slot></slot></template>menu</md-icon>
          </md-icon-button>
        </div>
        <div id="document-info">
          <!--?lit$149699970$--> <!--?lit$149699970$--><md-icon class="file-location-icon" id="file-type" aria-hidden="true" title="Notebook yang disimpan di Google Drive"><template shadowmode="open"><!----><slot></slot></template><!--?lit$149699970$-->
      <svg viewBox="0 0 192 192">
        <path d="M128.33,122l7.59,26.17l19.89,21.42c0,0,0,0,0,0v0c2.69-1.55,4.98-3.8,6.59-6.59l18.48-32 c1.61-2.78,2.41-5.89,2.41-9l-28.38-5.5L128.33,122z" fill="#EA4335"></path>
        <path d="M123.48,18.41c-2.69-1.55-5.78-2.41-9-2.41H77.53c-3.2,0-6.32,0.88-9,2.41l0,0l7.96,26.81l19.44,20.64 L96,66l0,0l19.58-20.89L123.48,18.41C123.48,18.41,123.48,18.41,123.48,18.41C123.48,18.41,123.48,18.41,123.48,18.41z" fill="#188038"></path>
        <path d="M63.67,122l-28.33-6.5L8.72,122c0,3.1,0.8,6.2,2.4,8.99L29.6,163c1.61,2.78,3.9,5.03,6.59,6.59 l19.59-20.18L63.67,122L63.67,122z" fill="#1967D2"></path>
        <path d="M155.47,69l-25.4-44c-1.61-2.79-3.9-5.04-6.59-6.59L96,66l32.33,56h54.95c0-3.11-0.8-6.21-2.41-9 L155.47,69z" fill="#FBBC04"></path><path d="M128.33,122H63.67l-27.48,47.59c2.69,1.55,5.78,2.41,9,2.41h101.61c3.22,0,6.31-0.86,9-2.41L128.33,122z" fill="#4285F4"></path>
        <path d="M96,66L68.53,18.41c-2.69,1.55-4.97,3.79-6.58,6.57l-50.83,88.05c-1.6,2.78-2.4,5.88-2.4,8.97h54.95L96,66 z" fill="#34A853"></path>
      </svg></md-icon>
    <input id="doc-name" class="doc-name" maxlength="259" autocomplete="off" aria-label="Nama notebook" command="rename" aria-describedby="doc-name-tooltip" style="width: 137.143px;"><colab-tooltip-trigger aria-hidden="true" for="doc-name" id="doc-name-tooltip"><template shadowmode="open"><!----><!--?lit$149699970$--><!----><div><!--?lit$149699970$-->Ganti nama notebook</div><!----><!--?--></template>
        </colab-tooltip-trigger><colab-input-sizer aria-hidden="true" style="left: -1000%; position: absolute; font-family: &quot;Google Sans&quot;, Roboto, Noto, sans-serif; font-size: 18px; font-weight: 400; letter-spacing: normal; padding-left: 3px; padding-right: 4px; white-space: pre;">Untitled13.ipynb_</colab-input-sizer>
        </div>
        <div id="header-right">
          <div class="header-onegoogle-container"> <div class="onegoogle"><div class="gb_Ha gb_Cd gb_yb gb_9a" id="gb"><div class="gb_1d gb_wb gb_Rd" ng-non-bindable="" data-ogsr-up="" style="padding:0;height:auto;display:block"><div class="gb_Bd" style="display:block"><div class="gb_id"></div><div class="gb_z gb_ud gb_Pf gb_1"><div class="gb_D gb_vb gb_Pf gb_1"><a class="gb_B gb_0a gb_1" aria-expanded="false" aria-label="Akun Google: Devandra Muda  
(devandramuda@gmail.com)" href="https://accounts.google.com/SignOutOptions?hl=id&amp;continue=https://colab.research.google.com/%3Fauthuser%3D0&amp;ec=GBRAqQM" tabindex="0" role="button"><span class="gb_ae"><img class="gb_Q gbii" src="https://lh3.google.com/u/0/ogw/AF2bZyjhJHA9ukeRK7apaoApHWr3DofAW52FM8PrwmAJwXTYyQ=s32-c-mo" alt="" aria-hidden="true" data-noaft=""></span><div class="gb_R gb_S" aria-hidden="true"><svg class="gb_La" height="14" viewBox="0 0 14 14" width="14" xmlns="http://www.w3.org/2000/svg"><circle class="gb_Ma" cx="7" cy="7" r="7"></circle><path class="gb_Oa" d="M6 10H8V12H6V10ZM6 2H8V8H6V2Z"></path></svg></div></a></div></div></div><div aria-hidden="true" style="overflow: hidden; position: fixed; inset: 0px; width: 100%; z-index: 991; height: 0px; visibility: hidden; min-height: 210px;"><iframe role="presentation" frameborder="0" scrolling="no" name="account" src="cid:frame-06A72ED4591937818E07C98450C4A754@mhtml.blink" style="height: 100%; width: 100%; color-scheme: light; visibility: hidden;"></iframe><div class="gb_Ja gb_Ka" style="background:#e9eef6;">  <button class="gb_Fa" aria-label="Close"> <svg height="14" viewBox="0 0 14 14" width="14" xmlns="http://www.w3.org/2000/svg"> <path fill="#444746" d="M1.4 14L2.38419e-07 12.6L5.6 7L2.38419e-07 1.4L1.4 -4.76837e-07L7 5.6L12.6 -4.76837e-07L14 1.4L8.4 7L14 12.6L12.6 14L7 8.4L1.4 14Z"></path> </svg> </button>  <div style="padding:12px;vertical-align:middle;margin-left:calc(50% - 24px);margin-top:98px;" dir="ltr"> <div class="mspin-medium"> <div> <div></div> </div> </div> </div></div></div><div style="overflow: hidden; position: absolute; top: 0px; visibility: hidden; width: 420px; z-index: 991; height: 280px; margin-top: 70px; right: 0px; margin-right: 25px;"></div></div></div></div></div>
        </div>
      </div>
    </div>
  </div></div><colab-notebook-toolbar id="top-toolbar" class="horizontal layout center noshrink collapsed"><!----> <!--?lit$149699970$--><span class="toolbar-add-code-split"><colab-toolbar-button class="dense-button split-button" command="insert-cell-below" icon="add" id="toolbar-add-code" label="Tambahkan sel kode" title="Tambahkan sel kode"><template shadowmode="open"><!----><md-text-button id="button" data-aria-disabled="false" data-aria-label="Tambahkan sel kode  " value="" has-icon=""><template shadowmode="open" shadowdelegatesfocus=""><!---->
      <!--?lit$149699970$-->
      <div class="background"></div>
      <md-focus-ring part="focus-ring" for="button" aria-hidden="true"><template shadowmode="open"><!----></template></md-focus-ring>
      <md-ripple part="ripple" for="button" aria-hidden="true"><template shadowmode="open"><!----><div class="surface"></div></template></md-ripple>
      <!--?lit$149699970$--><button id="button" class="button" aria-label="Tambahkan sel kode  ">
      <!--?lit$149699970$-->
      <span class="touch"></span>
      <!--?lit$149699970$--><slot name="icon"></slot>
      <span class="label"><slot></slot></span>
      <!--?lit$149699970$-->
    
    </button>
    </template>
        <!--?lit$149699970$--><md-icon slot="icon" aria-hidden="true"><template shadowmode="open"><!----><slot></slot></template><!--?lit$149699970$-->add</md-icon>
        <span class="button-content"><slot></slot></span>
        <!--?lit$149699970$-->
      </md-text-button>
      <!--?lit$149699970$--><!--?--></template><md-icon aria-hidden="true"><template shadowmode="open"><!----><slot></slot></template>code</md-icon></colab-toolbar-button>
            <!--?lit$149699970$--></span>
          <colab-toolbar-button class="dense-button" command="add-text" icon="add" id="toolbar-add-text" label="Tambahkan sel teks" title="Tambahkan sel teks"><template shadowmode="open"><!----><md-text-button id="button" data-aria-disabled="false" data-aria-label="Tambahkan sel teks  " value="" has-icon=""><template shadowmode="open" shadowdelegatesfocus=""><!---->
      <!--?lit$149699970$-->
      <div class="background"></div>
      <md-focus-ring part="focus-ring" for="button" aria-hidden="true"><template shadowmode="open"><!----></template></md-focus-ring>
      <md-ripple part="ripple" for="button" aria-hidden="true"><template shadowmode="open"><!----><div class="surface   "></div></template></md-ripple>
      <!--?lit$149699970$--><button id="button" class="button" aria-label="Tambahkan sel teks  ">
      <!--?lit$149699970$-->
      <span class="touch"></span>
      <!--?lit$149699970$--><slot name="icon"></slot>
      <span class="label"><slot></slot></span>
      <!--?lit$149699970$-->
    
    </button>
    </template>
        <!--?lit$149699970$--><md-icon slot="icon" aria-hidden="true"><template shadowmode="open"><!----><slot></slot></template><!--?lit$149699970$-->add</md-icon>
        <span class="button-content"><slot></slot></span>
        <!--?lit$149699970$-->
      </md-text-button>
      <!--?lit$149699970$--><!--?--></template>
            <md-icon aria-hidden="true"><template shadowmode="open"><!----><slot></slot></template>format_size</md-icon></colab-toolbar-button>
    <span class="flex"></span>
    <!--?lit$149699970$--><!--?lit$149699970$--><colab-connect-button><template shadowmode="open"><!----> <!--?lit$149699970$--> <!--?lit$149699970$--><md-icon-button id="connect-icon" class="icon-okay" data-aria-label="Fokus pada sel yang terakhir dijalankan" value=""><template shadowmode="open" shadowdelegatesfocus=""><!----><button id="button" class="icon-button  standard " aria-label="Fokus pada sel yang terakhir dijalankan">
        <!--?lit$149699970$--><md-focus-ring part="focus-ring" for="button" aria-hidden="true"><template shadowmode="open"><!----></template></md-focus-ring>
        <!--?lit$149699970$--><md-ripple aria-hidden="true"><template shadowmode="open"><!----><div class="surface   "></div></template></md-ripple>
        <!--?lit$149699970$--><span class="icon"><slot></slot></span>
        <!--?lit$149699970$-->
        <!--?lit$149699970$--><span class="touch"></span>
  </button></template>
            <md-icon aria-hidden="true"><template shadowmode="open"><!----><slot></slot></template><!--?lit$149699970$-->more_horiz</md-icon>
          </md-icon-button>
          <colab-tooltip-trigger for="connect-icon" id="connect-icon-tooltip" aria-hidden="true" message="Fokus pada sel yang terakhir dijalankan"><template shadowmode="open"><!----><!--?lit$149699970$--><!----><div><!--?lit$149699970$-->Fokus pada sel yang terakhir dijalankan</div><!----><!--?--></template>
          </colab-tooltip-trigger>
      <colab-toolbar-button id="connect" class="split-button" tooltipid="colab-connect-tooltip" tooltiptext="Menunggu untuk menyelesaikan eksekusi saat ini.
backend Google Compute Engine Python 3
RAM: 0.95 GB/12.67 GB
Disk: 39.63 GB/107.72 GB"><template shadowmode="open"><!----><md-text-button id="button" value="" data-aria-disabled="false"><template shadowmode="open" shadowdelegatesfocus=""><!---->
      <!--?lit$149699970$-->
      <div class="background"></div>
      <md-focus-ring part="focus-ring" for="button" aria-hidden="true"><template shadowmode="open"><!----></template></md-focus-ring>
      <md-ripple part="ripple" for="button" aria-hidden="true"><template shadowmode="open"><!----><div class="surface   "></div></template></md-ripple>
      <!--?lit$149699970$--><button id="button" class="button">
      <!--?lit$149699970$-->
      <span class="touch"></span>
      <!--?lit$149699970$--><slot name="icon"></slot>
      <span class="label"><slot></slot></span>
      <!--?lit$149699970$-->
    
    </button>
    </template>
        <!--?lit$149699970$-->
        <span class="button-content"><slot></slot></span>
        <!--?lit$149699970$--><span class="screenreader-only"><!--?lit$149699970$-->Menunggu untuk menyelesaikan eksekusi saat ini.
backend Google Compute Engine Python 3
RAM: 0.95 GB/12.67 GB
Disk: 39.63 GB/107.72 GB <!--?lit$149699970$--></span>
      </md-text-button>
      <!--?lit$149699970$--> <colab-tooltip-trigger for="button" aria-hidden="true" id="colab-connect-tooltip" message="Menunggu untuk menyelesaikan eksekusi saat ini.
backend Google Compute Engine Python 3
RAM: 0.95 GB/12.67 GB
Disk: 39.63 GB/107.72 GB" shortcut=""><template shadowmode="open"><!----><!--?lit$149699970$--><!----><div><!--?lit$149699970$-->Menunggu untuk menyelesaikan eksekusi saat ini.</div><!----><!----><div><!--?lit$149699970$-->backend Google Compute Engine Python 3</div><!----><!----><div><!--?lit$149699970$-->RAM: 0.95 GB/12.67 GB</div><!----><!----><div><!--?lit$149699970$-->Disk: 39.63 GB/107.72 GB</div><!----><!--?--></template>
          </colab-tooltip-trigger><!--?--></template>
        <!--?lit$149699970$--> <div id="connect-button-resource-display">
          <!--?lit$149699970$--><colab-usage-sparkline class="ram" label="RAM"><template shadowmode="open"><!---->
      <div class="label"><!--?lit$149699970$-->RAM</div>
      <!--?lit$149699970$-->
      <canvas height="14" width="20"></canvas>
    </template></colab-usage-sparkline>
          <!--?lit$149699970$--><colab-usage-sparkline class="disks" label="Disk"><template shadowmode="open"><!---->
      <div class="label"><!--?lit$149699970$-->Disk</div>
      <!--?lit$149699970$-->
      <canvas height="14" width="20"></canvas>
    </template></colab-usage-sparkline>
        </div>
      </colab-toolbar-button>
      <!--?lit$149699970$--> <md-icon-button id="connect-dropdown" class="connect-dropdown" data-aria-haspopup="menu" data-aria-label="Opsi sambungan tambahan" value="" data-aria-expanded="false"><template shadowmode="open" shadowdelegatesfocus=""><!----><button id="button" class="icon-button  standard " aria-label="Opsi sambungan tambahan" aria-haspopup="menu" aria-expanded="false">
        <!--?lit$149699970$--><md-focus-ring part="focus-ring" for="button" aria-hidden="true"><template shadowmode="open"><!----></template></md-focus-ring>
        <!--?lit$149699970$--><md-ripple aria-hidden="true"><template shadowmode="open"><!----><div class="surface"></div></template></md-ripple>
        <!--?lit$149699970$--><span class="icon"><slot></slot></span>
        <!--?lit$149699970$-->
        <!--?lit$149699970$--><span class="touch"></span>
  </button></template>
        <md-icon aria-hidden="true"><template shadowmode="open"><!----><slot></slot></template>arrow_drop_down</md-icon>
      </md-icon-button>
      <colab-tooltip-trigger for="connect-dropdown" id="connect-dropdown-tooltip" aria-hidden="true" message="Opsi sambungan tambahan"><template shadowmode="open"><!----><!--?lit$149699970$--><!----><div><!--?lit$149699970$-->Opsi sambungan tambahan</div><!----><!--?--></template>
      </colab-tooltip-trigger>
      <!--?lit$149699970$--><!--?--></template></colab-connect-button><!--?-->
    <!--?lit$149699970$--><span class="colab-separator"></span>
    <!--?lit$149699970$--><md-icon-button toggle="" command="toggle-header" id="toggle-header-button" data-aria-label="Alihkan visibilitas header" aria-describedby="toggle-header-button-tooltip" value="" selected=""><template shadowmode="open" shadowdelegatesfocus=""><!----><button id="button" class="icon-button standard selected" aria-label="Alihkan visibilitas header" aria-pressed="true">
        <!--?lit$149699970$--><md-focus-ring part="focus-ring" for="button" aria-hidden="true"><template shadowmode="open"><!----></template></md-focus-ring>
        <!--?lit$149699970$--><md-ripple aria-hidden="true"><template shadowmode="open"><!----><div class="surface"></div></template></md-ripple>
        <!--?lit$149699970$-->
        <!--?lit$149699970$--><span class="icon icon--selected"><slot name="selected"><slot></slot></slot></span>
        <!--?lit$149699970$--><span class="touch"></span>
  </button></template>
    <md-icon aria-hidden="true"><template shadowmode="open"><!----><slot></slot></template>expand_less</md-icon>
    <md-icon slot="selected" aria-hidden="true"><template shadowmode="open"><!----><slot></slot></template>expand_more</md-icon>
  </md-icon-button><colab-tooltip-trigger aria-hidden="true" for="toggle-header-button" id="toggle-header-button-tooltip"><template shadowmode="open"><!----><!--?lit$149699970$--><!----><div><!--?lit$149699970$-->Alihkan visibilitas header</div><!----><!--?--></template>
        </colab-tooltip-trigger><!--?--></colab-notebook-toolbar><div class="notebook-horizontal">
        <!--?lit$149699970$--><colab-left-pane role="complementary" aria-label="left pane"><!----><div class="colab-left-pane-nib layout vertical" role="toolbar" aria-orientation="vertical">
        <div class="left-pane-top"><!----><div class="left-pane-button">
        <!--?lit$149699970$--><md-icon-button toggle="" command="show-toc-pane" data-aria-label="Daftar isi" title="Daftar isi" value=""><template shadowmode="open" shadowdelegatesfocus=""><!----><button id="button" class="icon-button  standard " aria-label="Daftar isi" aria-pressed="false">
        <!--?lit$149699970$--><md-focus-ring part="focus-ring" for="button" aria-hidden="true"><template shadowmode="open"><!----></template></md-focus-ring>
        <!--?lit$149699970$--><md-ripple aria-hidden="true"><template shadowmode="open"><!----><div class="surface   "></div></template></md-ripple>
        <!--?lit$149699970$--><span class="icon"><slot></slot></span>
        <!--?lit$149699970$-->
        <!--?lit$149699970$--><span class="touch"></span>
  </button></template>
      <md-icon aria-hidden="true"><template shadowmode="open"><!----><slot></slot></template><!--?lit$149699970$-->format_list_bulleted</md-icon>
    </md-icon-button> <!--?lit$149699970$-->
      </div><!----><div class="left-pane-button">
        <!--?lit$149699970$--><md-icon-button toggle="" command="snippets" data-aria-label="Cuplikan kode" title="Cuplikan kode" value="" tabindex="-1"><template shadowmode="open" shadowdelegatesfocus=""><!----><button id="button" class="icon-button  standard " aria-label="Cuplikan kode" aria-pressed="false">
        <!--?lit$149699970$--><md-focus-ring part="focus-ring" for="button" aria-hidden="true"><template shadowmode="open"><!----></template></md-focus-ring>
        <!--?lit$149699970$--><md-ripple aria-hidden="true"><template shadowmode="open"><!----><div class="surface   "></div></template></md-ripple>
        <!--?lit$149699970$--><span class="icon"><slot></slot></span>
        <!--?lit$149699970$-->
        <!--?lit$149699970$--><span class="touch"></span>
  </button></template>
      <md-icon aria-hidden="true"><template shadowmode="open"><!----><slot></slot></template><!--?lit$149699970$-->code</md-icon>
    </md-icon-button> <!--?lit$149699970$-->
      </div><!----><div class="left-pane-button">
        <!--?lit$149699970$--><md-icon-button toggle="" command="open-user-secrets" data-aria-label="Rahasia" title="Rahasia" value="" tabindex="-1"><template shadowmode="open" shadowdelegatesfocus=""><!----><button id="button" class="icon-button  standard " aria-label="Rahasia" aria-pressed="false">
        <!--?lit$149699970$--><md-focus-ring part="focus-ring" for="button" aria-hidden="true"><template shadowmode="open"><!----></template></md-focus-ring>
        <!--?lit$149699970$--><md-ripple aria-hidden="true"><template shadowmode="open"><!----><div class="surface   "></div></template></md-ripple>
        <!--?lit$149699970$--><span class="icon"><slot></slot></span>
        <!--?lit$149699970$-->
        <!--?lit$149699970$--><span class="touch"></span>
  </button></template>
      <md-icon aria-hidden="true"><template shadowmode="open"><!----><slot></slot></template><!--?lit$149699970$-->vpn_key</md-icon>
    </md-icon-button> <!--?lit$149699970$-->
      </div><!----><div class="left-pane-button">
        <!--?lit$149699970$--><md-icon-button toggle="" command="show-files" data-aria-label="File" title="File" value="" tabindex="-1"><template shadowmode="open" shadowdelegatesfocus=""><!----><button id="button" class="icon-button  standard " aria-label="File" aria-pressed="false">
        <!--?lit$149699970$--><md-focus-ring part="focus-ring" for="button" aria-hidden="true"><template shadowmode="open"><!----></template></md-focus-ring>
        <!--?lit$149699970$--><md-ripple aria-hidden="true"><template shadowmode="open"><!----><div class="surface   "></div></template></md-ripple>
        <!--?lit$149699970$--><span class="icon"><slot></slot></span>
        <!--?lit$149699970$-->
        <!--?lit$149699970$--><span class="touch"></span>
  </button></template>
      <md-icon aria-hidden="true"><template shadowmode="open"><!----><slot></slot></template><!--?lit$149699970$-->folder</md-icon>
    </md-icon-button> <!--?lit$149699970$-->
      </div></div>
      </div></colab-left-pane>
        <div class="layout vertical grow">
          <colab-tab-layout-container class="layout horizontal grow flexible-tabs"><!----> <div class="layout vertical tab-pane-parent">
      <!--?lit$149699970$--> <div class="layout horizontal tab-pane-parent">
      <!--?lit$149699970$--><colab-tab-pane class="layout vertical grow no-header focused" align="vertical"><!----> <div class="layout vertical grow">
    <div class="tab-pane-header layout horizontal noshrink">
      <md-tabs><template shadowmode="open"><!---->
      <div class="tabs">
        <slot></slot>
      </div>
      <md-divider part="divider"><template shadowmode="open"><!----></template></md-divider>
    </template><md-primary-tab noink="" title="" aria-labelledby="tab-title-y5vCpLmCCb1N" class="selected-tab" md-tab="" active="" tabindex="0"><template shadowmode="open"><!----><div class="button" role="presentation">
      <md-focus-ring part="focus-ring" inward="" aria-hidden="true"><template shadowmode="open"><!----></template></md-focus-ring>
      <md-elevation part="elevation" aria-hidden="true"><template shadowmode="open"><!----><span class="shadow"></span></template></md-elevation>
      <md-ripple aria-hidden="true"><template shadowmode="open"><!----><div class="surface   "></div></template></md-ripple>
      <div role="presentation" class="content  has-label stacked ">
        <slot name="icon"></slot>
        <slot></slot>
        <!--?lit$149699970$--><div class="indicator"></div>
      </div>
      <!--?lit$149699970$-->
    </div></template>
          <div class="colab-tab-header"> <!--?lit$149699970$--><span class="colab-tab-title" id="tab-title-y5vCpLmCCb1N">
          <!--?lit$149699970$--><!--?lit$149699970$-->Notebook<!--?-->
        </span> <!--?lit$149699970$--> </div>
        </md-primary-tab></md-tabs>
      <div class="layout grow"></div>
      <!--?lit$149699970$--><md-icon-button data-aria-expanded="false" data-aria-haspopup="menu" id="tab-pane-0-more-actions-button" data-aria-label="Tindakan tab lainnya" value=""><template shadowmode="open" shadowdelegatesfocus=""><!----><button id="button" class="icon-button  standard " aria-label="Tindakan tab lainnya" aria-haspopup="menu" aria-expanded="false">
        <!--?lit$149699970$--><md-focus-ring part="focus-ring" for="button" aria-hidden="true"><template shadowmode="open"><!----></template></md-focus-ring>
        <!--?lit$149699970$--><md-ripple aria-hidden="true"><template shadowmode="open"><!----><div class="surface   "></div></template></md-ripple>
        <!--?lit$149699970$--><span class="icon"><slot></slot></span>
        <!--?lit$149699970$-->
        <!--?lit$149699970$--><span class="touch"></span>
  </button></template>
      <md-icon aria-hidden="true"><template shadowmode="open"><!----><slot></slot></template><!--?lit$149699970$-->more_horiz</md-icon>
    </md-icon-button>
    <colab-tooltip-trigger aria-hidden="true" for="tab-pane-0-more-actions-button" message="Tindakan tab lainnya"><template shadowmode="open"><!----><!--?lit$149699970$--><!----><div><!--?lit$149699970$-->Tindakan tab lainnya</div><!----><!--?--></template>
    </colab-tooltip-trigger><!--?lit$149699970$-->
    </div>
    <div class="layout vertical grow tab-pane-container"> <colab-tab class="layout vertical grow notebook-tab-content selected-tab"><!----> <div class="overflow-flexbox-workaround">
      <colab-shaded-scroller ignore-dom-changes="" role="main" id="notebook-main" class="notebook-container" aria-label="Notebook" tabindex="-1">
        <div class="notebook-scrolling-horizontal-container">
          <div class="notebook-scrolling-horizontal">
            <div class="notebook-content-background">
              <!--?lit$149699970$-->
              <div class="notebook-content ">
                <!--?lit$149699970$--><div class="add-cell">
      <hr>
    </div>
                <div class="notebook-cell-list"><div class="cell code notebook-cell code-has-output" id="cell-MXLgfIv9DE_a" role="region" aria-label="Sel 0: Sel kode: " tabindex="-1" style="opacity: 1;"><div class="cell-tag-editor sticky"></div><div class="agent-focus-label">
      <md-icon aria-hidden="true"><template shadowmode="open"><!----><slot></slot></template>spark</md-icon>
      <!--?lit$149699970$-->Gemini
    </div><div class="cell-toolbar sticky"></div><div class="main-content"><div class="cell-contents"><div class="cell-mask"></div><span class="imported-info-area"></span><div class="codecell-input-output">
      <div class="inputarea horizontal layout code">
        <div class="cell-gutter">
          <!-- Bounding range for vertical scrolling of icons -->
          <div class="cell-execution-container">
            <colab-run-button><template shadowmode="open"><!----> <div class="cell-execution">
      <button id="run-button" aria-describedby="run-button-tooltip" aria-label="Jalankan sel" aria-disabled="false">
        <span aria-hidden="true" class="cell-execution-indicator"><!--?lit$149699970$-->
<svg xmlns="http://www.w3.org/2000/svg" viewBox="0 0 24 24">
  <!--?lit$149699970$-->
  <mask id="playSymbolMask">
    <rect width="100%" height="100%" fill="white"></rect>
    <polygon points="10,8 17,12 10,16" fill="black"></polygon>
  </mask>
  <circle cx="12" cy="12" r="7.8" mask="url(#playSymbolMask)" id="filledCircle"></circle>
</svg></span>
      </button>
      <!--?lit$149699970$--><colab-tooltip-trigger for="run-button" id="run-button-tooltip" aria-hidden="true" message="Jalankan sel (Ctrl+Enter)
sel telah dieksekusi sejak perubahan terakhir

dijalankan oleh Devandra Muda
14.56 (0 menit yang lalu)
dijalankan dalam 0.086 d"><template shadowmode="open"><!----><!--?lit$149699970$--><!----><div><!--?lit$149699970$-->Jalankan sel (Ctrl+Enter)</div><!----><!----><div><!--?lit$149699970$-->sel telah dieksekusi sejak perubahan terakhir</div><!----><!----><br><!----><!----><div><!--?lit$149699970$-->dijalankan oleh Devandra Muda</div><!----><!----><div><!--?lit$149699970$-->14.56 (0 menit yang lalu)</div><!----><!----><div><!--?lit$149699970$-->dijalankan dalam 0.086 d</div><!----><!--?--></template>
    </colab-tooltip-trigger> <!--?lit$149699970$--><div class="status">
      <div class="execution-count"><!--?lit$149699970$-->[4]</div>
      <!--?lit$149699970$--><div class="last-run">
      <md-icon aria-hidden="true"><template shadowmode="open"><!----><slot></slot></template><!--?lit$149699970$-->check</md-icon>
      <div><!--?lit$149699970$-->0 d</div>
    </div>
    </div>
    </div></template></colab-run-button>
          </div>
        </div>
      <pre class="editor flex monaco monaco-colorized colab-dark colab-dark" contenteditable="true" data-lang="notebook-python"><span><span class="mtk1">kendaraan&nbsp;=&nbsp;</span><span class="mtk14">[</span><span class="mtk5">"namakendaraan"</span><span class="mtk14">,</span><span class="mtk5">"jeniskendaraan"</span><span class="mtk14">,</span><span class="mtk1"> </span><span class="mtk5">"jeniskendaraan"</span><span class="mtk14">,</span><span class="mtk1"> </span><span class="mtk5">"cckendaraan"</span><span class="mtk14">,</span><span class="mtk1"> </span><span class="mtk5">"rodakendaraan"</span><span class="mtk14">]</span></span><br><span><span></span></span><br><span><span class="mtk1">kendaraan.extend</span><span class="mtk14">([</span><span class="mtk5">"hargakendaaan"</span><span class="mtk14">,</span><span class="mtk1"> </span><span class="mtk5">"tipekendaraan"</span><span class="mtk14">])</span></span><br><span><span></span></span><br><span><span class="mtk1">kendaraan.insert</span><span class="mtk14">(</span><span class="mtk6">2</span><span class="mtk14">,</span><span class="mtk1"> </span><span class="mtk5">"merkkendaraan"</span><span class="mtk14">)</span></span><br><span><span></span></span><br><span><span class="mtk17">print</span><span class="mtk14">(</span><span class="mtk1">kendaraan</span><span class="mtk14">)</span></span><br></pre><colab-form class="formview vertical layout flex"><div class="widget-area vertical layout"></div></colab-form></div>
    <div class="output" aria-label="Output sel 0" role="region"><!----> <div class="output-header"> </div>
        <div class="output-content">
          <div class="output-info"><colab-output-info><template shadowmode="open"><!----><!--?lit$149699970$--><!--?lit$149699970$--><md-icon-button data-aria-expanded="false" data-aria-haspopup="menu" class="menu-button" data-aria-label="Tindakan output sel kode" id="menu-button" value=""><template shadowmode="open" shadowdelegatesfocus=""><!----><button id="button" class="icon-button  standard " aria-label="Tindakan output sel kode" aria-haspopup="menu" aria-expanded="false">
        <!--?lit$149699970$--><md-focus-ring part="focus-ring" for="button" aria-hidden="true"><template shadowmode="open"><!----></template></md-focus-ring>
        <!--?lit$149699970$--><md-ripple aria-hidden="true"><template shadowmode="open"><!----><div class="surface   "></div></template></md-ripple>
        <!--?lit$149699970$--><span class="icon"><slot></slot></span>
        <!--?lit$149699970$-->
        <!--?lit$149699970$--><span class="touch"></span>
  </button></template>
        <md-icon aria-hidden="true"><template shadowmode="open"><!----><slot></slot></template><!--?lit$149699970$--><svg viewBox="0 0 24 24"><!--?lit$149699970$--><path d="m15.9 3.07c-4.32 0.0742-8.64-0.0355-13 0.0568-1.37 0.307-1.74 2.1-1.41 3.26 0.469 0.606 1.86 0.384 1.66-0.525 0.0448-0.329-0.183-0.93 0.354-0.766h13.3v1.53h1.71c0.0709-1.13 0.141-2.62-0.968-3.3-0.511-0.264-1.11-0.252-1.67-0.259zm2.94 6.84v4.87c1.62-1.62 3.24-3.24 4.87-4.87h-4.87zm0 0h-1.71v3.43l1.57 1.57c0.32-1.65 0.0556-3.34 0.135-5zm-1.71 3.43v-3.43h-3.43c1.14 1.14 2.29 2.29 3.43 3.43zm1.4 4.27h-1.71v1.48h-13.6v-1.48h-1.71c-0.0473 1.15-0.16 2.72 1.09 3.29 1.47 0.506 3.02 0.0265 4.53 0.192 3.34-0.0051 6.68 0.0336 10-0.0245 1.49-0.366 1.56-2.22 1.42-3.45zm-10.1-1.12c-0.398-0.483-0.796-0.967-1.19-1.45 0.59-0.683 1.18-1.37 1.77-2.05h-8.67v-2h8.67c-0.59-0.683-1.18-1.37-1.77-2.05 0.398-0.483 0.796-0.967 1.19-1.45 1.28 1.5 2.56 3 3.84 4.5-1.28 1.5-2.56 3-3.84 4.5z"></path></svg></md-icon>
      </md-icon-button>
      <colab-tooltip-trigger aria-hidden="true" id="menu-button-tooltip" for="menu-button" message="Tindakan output sel kode"><template shadowmode="open"><!----><!--?lit$149699970$--><!----><div><!--?lit$149699970$-->Tindakan output sel kode</div><!----><!--?--></template></colab-tooltip-trigger><!--?--></template></colab-output-info></div>
          <div class="output-iframe-container">
            <div class="output-iframe-sizer" style="min-height: 0px;"> <div><div><colab-static-output-renderer role="group" tabindex="0"><div><div class="stream output-id-1 output_text"><pre>['namakendaraan', 'jeniskendaraan', 'merkkendaraan', 'jeniskendaraan', 'cckendaraan', 'rodakendaraan', 'hargakendaaan', 'tipekendaraan']
</pre></div></div><div></div></colab-static-output-renderer></div></div><div><div></div></div></div>
          </div>
        </div></div><colab-cell-next-steps><template shadowmode="open"><!----></template></colab-cell-next-steps></div></div></div><div class="add-cell">
      <hr>
    </div></div><div class="cell code notebook-cell focused running code-has-output" id="cell-Zusv-TPTEx_X" role="region" aria-label="Sel 1: Sel kode: " tabindex="-1" style="opacity: 1;"><div class="cell-tag-editor sticky"></div><div class="agent-focus-label">
      <md-icon aria-hidden="true"><template shadowmode="open"><!----><slot></slot></template>spark</md-icon>
      <!--?lit$149699970$-->Gemini
    </div><div class="cell-toolbar sticky"><colab-cell-toolbar><template shadowmode="open"><!----><!--?lit$149699970$--><!----> <md-icon-button touch-target="none" aria-describedby="button-move-cell-up-tooltip" data-aria-label="Naikkan sel
Ctrl+M K" command="move-cell-up" id="button-move-cell-up" value=""><template shadowmode="open" shadowdelegatesfocus=""><!----><button id="button" class="icon-button  standard " aria-label="Naikkan sel
Ctrl+M K">
        <!--?lit$149699970$--><md-focus-ring part="focus-ring" for="button" aria-hidden="true"><template shadowmode="open"><!----></template></md-focus-ring>
        <!--?lit$149699970$--><md-ripple aria-hidden="true"><template shadowmode="open"><!----><div class="surface   "></div></template></md-ripple>
        <!--?lit$149699970$--><span class="icon"><slot></slot></span>
        <!--?lit$149699970$-->
        <!--?lit$149699970$--><span class="touch"></span>
  </button></template>
        <md-icon aria-hidden="true"><template shadowmode="open"><!----><slot></slot></template><!--?lit$149699970$-->arrow_upward</md-icon>
        <!--?lit$149699970$-->
      </md-icon-button>
      <colab-tooltip-trigger aria-hidden="true" for="button-move-cell-up" id="button-move-cell-up-tooltip" message="Naikkan sel
Ctrl+M K"><template shadowmode="open"><!----><!--?lit$149699970$--><!----><div><!--?lit$149699970$-->Naikkan sel</div><!----><!----><div><!--?lit$149699970$-->Ctrl+M K</div><!----><!--?--></template>
      </colab-tooltip-trigger><!----><!----> <md-icon-button touch-target="none" aria-describedby="button-move-cell-down-tooltip" data-aria-label="Turunkan sel
Ctrl+M J" command="move-cell-down" id="button-move-cell-down" soft-disabled="" value=""><template shadowmode="open" shadowdelegatesfocus=""><!----><button id="button" class="icon-button  standard " aria-label="Turunkan sel
Ctrl+M J" aria-disabled="true">
        <!--?lit$149699970$--><md-focus-ring part="focus-ring" for="button" aria-hidden="true"><template shadowmode="open"><!----></template></md-focus-ring>
        <!--?lit$149699970$--><md-ripple disabled="" aria-hidden="true"><template shadowmode="open"><!----><div class="surface   "></div></template></md-ripple>
        <!--?lit$149699970$--><span class="icon"><slot></slot></span>
        <!--?lit$149699970$-->
        <!--?lit$149699970$--><span class="touch"></span>
  </button></template>
        <md-icon aria-hidden="true"><template shadowmode="open"><!----><slot></slot></template><!--?lit$149699970$-->arrow_downward</md-icon>
        <!--?lit$149699970$-->
      </md-icon-button>
      <colab-tooltip-trigger aria-hidden="true" for="button-move-cell-down" id="button-move-cell-down-tooltip" message="Turunkan sel
Ctrl+M J"><template shadowmode="open"><!----><!--?lit$149699970$--><!----><div><!--?lit$149699970$-->Turunkan sel</div><!----><!----><div><!--?lit$149699970$-->Ctrl+M J</div><!----><!--?--></template>
      </colab-tooltip-trigger><!----><!----><!--?lit$149699970$--><md-menu positioning="popover" quick="" aria-labelledby="ai-menu-anchor-Zusv-TPTEx_X" anchor="ai-menu-anchor-Zusv-TPTEx_X" aria-hidden="true"><template shadowmode="open"><!---->
      <div class="menu   " popover="manual" style="display: none;">
        <!--?lit$149699970$--><md-elevation part="elevation" aria-hidden="true"><template shadowmode="open"><!----><span class="shadow"></span></template></md-elevation>
        <div class="items">
          <div class="item-padding"> <!--?lit$149699970$--><slot></slot> </div>
        </div>
      </div>
    </template>
    <!--?lit$149699970$--><!----><md-menu-item command="generate-code" md-menu-item="" tabindex="0"><template shadowmode="open" shadowdelegatesfocus=""><!---->
      <li id="item" role="menuitem" class="list-item   " tabindex="0"><!--?lit$149699970$-->
      <md-item><template shadowmode="open"><!---->
      <slot name="container"></slot>
      <slot class="non-text" name="start"></slot>
      <div class="text">
        <slot name="overline"></slot>
        <slot class="default-slot"></slot>
        <slot name="headline"></slot>
        <slot name="supporting-text"></slot>
      </div>
      <slot class="non-text" name="trailing-supporting-text"></slot>
      <slot class="non-text" name="end"></slot>
    </template>
        <div slot="container">
          <!--?lit$149699970$--> <md-ripple part="ripple" for="item" aria-hidden="true"><template shadowmode="open"><!----><div class="surface   "></div></template></md-ripple> <!--?lit$149699970$--> <md-focus-ring part="focus-ring" for="item" inward="" aria-hidden="true"><template shadowmode="open"><!----></template></md-focus-ring>
        </div>
        <slot name="start" slot="start"></slot>
        <slot name="end" slot="end"></slot>
        <!--?lit$149699970$-->
      <slot></slot>
      <slot name="overline" slot="overline"></slot>
      <slot name="headline" slot="headline"></slot>
      <slot name="supporting-text" slot="supporting-text"></slot>
      <slot name="trailing-supporting-text" slot="trailing-supporting-text"></slot>
    
      </md-item>
    </li>
    </template>
    <span slot="headline"><!--?lit$149699970$-->Buat kode</span>
  </md-menu-item><!----><!----><md-menu-item command="explain-cell" md-menu-item="" tabindex="-1"><template shadowmode="open" shadowdelegatesfocus=""><!---->
      <li id="item" role="menuitem" class="list-item   " tabindex="0"><!--?lit$149699970$-->
      <md-item><template shadowmode="open"><!---->
      <slot name="container"></slot>
      <slot class="non-text" name="start"></slot>
      <div class="text">
        <slot name="overline"></slot>
        <slot class="default-slot"></slot>
        <slot name="headline"></slot>
        <slot name="supporting-text"></slot>
      </div>
      <slot class="non-text" name="trailing-supporting-text"></slot>
      <slot class="non-text" name="end"></slot>
    </template>
        <div slot="container">
          <!--?lit$149699970$--> <md-ripple part="ripple" for="item" aria-hidden="true"><template shadowmode="open"><!----><div class="surface   "></div></template></md-ripple> <!--?lit$149699970$--> <md-focus-ring part="focus-ring" for="item" inward="" aria-hidden="true"><template shadowmode="open"><!----></template></md-focus-ring>
        </div>
        <slot name="start" slot="start"></slot>
        <slot name="end" slot="end"></slot>
        <!--?lit$149699970$-->
      <slot></slot>
      <slot name="overline" slot="overline"></slot>
      <slot name="headline" slot="headline"></slot>
      <slot name="supporting-text" slot="supporting-text"></slot>
      <slot name="trailing-supporting-text" slot="trailing-supporting-text"></slot>
    
      </md-item>
    </li>
    </template>
    <span slot="headline"><!--?lit$149699970$-->Jelaskan kode</span>
  </md-menu-item><!----><!----><md-menu-item command="transform-code" md-menu-item="" tabindex="-1"><template shadowmode="open" shadowdelegatesfocus=""><!---->
      <li id="item" role="menuitem" class="list-item   " tabindex="0"><!--?lit$149699970$-->
      <md-item><template shadowmode="open"><!---->
      <slot name="container"></slot>
      <slot class="non-text" name="start"></slot>
      <div class="text">
        <slot name="overline"></slot>
        <slot class="default-slot"></slot>
        <slot name="headline"></slot>
        <slot name="supporting-text"></slot>
      </div>
      <slot class="non-text" name="trailing-supporting-text"></slot>
      <slot class="non-text" name="end"></slot>
    </template>
        <div slot="container">
          <!--?lit$149699970$--> <md-ripple part="ripple" for="item" aria-hidden="true"><template shadowmode="open"><!----><div class="surface   "></div></template></md-ripple> <!--?lit$149699970$--> <md-focus-ring part="focus-ring" for="item" inward="" aria-hidden="true"><template shadowmode="open"><!----></template></md-focus-ring>
        </div>
        <slot name="start" slot="start"></slot>
        <slot name="end" slot="end"></slot>
        <!--?lit$149699970$-->
      <slot></slot>
      <slot name="overline" slot="overline"></slot>
      <slot name="headline" slot="headline"></slot>
      <slot name="supporting-text" slot="supporting-text"></slot>
      <slot name="trailing-supporting-text" slot="trailing-supporting-text"></slot>
    
      </md-item>
    </li>
    </template>
    <span slot="headline"><!--?lit$149699970$-->Transformasi kode</span>
  </md-menu-item><!---->
  </md-menu>
          <md-icon-button touch-target="none" data-aria-haspopup="menu" data-aria-expanded="false" aria-describedby="ai-menu-anchor-Zusv-TPTEx_X-tooltip" data-aria-label="Fitur AI yang tersedia" id="ai-menu-anchor-Zusv-TPTEx_X" value=""><template shadowmode="open" shadowdelegatesfocus=""><!----><button id="button" class="icon-button  standard " aria-label="Fitur AI yang tersedia" aria-haspopup="menu" aria-expanded="false">
        <!--?lit$149699970$--><md-focus-ring part="focus-ring" for="button" aria-hidden="true"><template shadowmode="open"><!----></template></md-focus-ring>
        <!--?lit$149699970$--><md-ripple aria-hidden="true"><template shadowmode="open"><!----><div class="surface   "></div></template></md-ripple>
        <!--?lit$149699970$--><span class="icon"><slot></slot></span>
        <!--?lit$149699970$-->
        <!--?lit$149699970$--><span class="touch"></span>
  </button></template>
            <md-icon aria-hidden="true"><template shadowmode="open"><!----><slot></slot></template>
              <!--?lit$149699970$-->pen_spark
            </md-icon>
          </md-icon-button>
          <colab-tooltip-trigger aria-hidden="true" for="ai-menu-anchor-Zusv-TPTEx_X" id="ai-menu-anchor-Zusv-TPTEx_X-tooltip" message="Fitur AI yang tersedia"><template shadowmode="open"><!----><!--?lit$149699970$--><!----><div><!--?lit$149699970$-->Fitur AI yang tersedia</div><!----><!--?--></template>
          </colab-tooltip-trigger><!----><!----> <md-icon-button touch-target="none" aria-describedby="button-toggle-edit-markdown-tooltip" data-aria-label="Edit" command="toggle-edit-markdown" id="button-toggle-edit-markdown" toggle="" style="display: none;" value=""><template shadowmode="open" shadowdelegatesfocus=""><!----><button id="button" class="icon-button  standard " aria-label="Edit" aria-pressed="false">
        <!--?lit$149699970$--><md-focus-ring part="focus-ring" for="button" aria-hidden="true"><template shadowmode="open"><!----></template></md-focus-ring>
        <!--?lit$149699970$--><md-ripple aria-hidden="true"><template shadowmode="open"><!----><div class="surface   "></div></template></md-ripple>
        <!--?lit$149699970$--><span class="icon"><slot></slot></span>
        <!--?lit$149699970$-->
        <!--?lit$149699970$--><span class="touch"></span>
  </button></template>
        <md-icon aria-hidden="true"><template shadowmode="open"><!----><slot></slot></template><!--?lit$149699970$-->edit</md-icon>
        <!--?lit$149699970$--><md-icon slot="selected" aria-hidden="true"><template shadowmode="open"><!----><slot></slot></template><!--?lit$149699970$-->edit_off</md-icon>
      </md-icon-button>
      <colab-tooltip-trigger aria-hidden="true" for="button-toggle-edit-markdown" id="button-toggle-edit-markdown-tooltip" message="Edit"><template shadowmode="open"><!----><!--?lit$149699970$--><!----><div><!--?lit$149699970$-->Edit</div><!----><!--?--></template>
      </colab-tooltip-trigger><!----><!----> <md-icon-button touch-target="none" aria-describedby="button-delete-cell-or-selection-tooltip" data-aria-label="Hapus sel
Ctrl+M D" command="delete-cell-or-selection" id="button-delete-cell-or-selection" value=""><template shadowmode="open" shadowdelegatesfocus=""><!----><button id="button" class="icon-button  standard " aria-label="Hapus sel
Ctrl+M D">
        <!--?lit$149699970$--><md-focus-ring part="focus-ring" for="button" aria-hidden="true"><template shadowmode="open"><!----></template></md-focus-ring>
        <!--?lit$149699970$--><md-ripple aria-hidden="true"><template shadowmode="open"><!----><div class="surface   "></div></template></md-ripple>
        <!--?lit$149699970$--><span class="icon"><slot></slot></span>
        <!--?lit$149699970$-->
        <!--?lit$149699970$--><span class="touch"></span>
  </button></template>
        <md-icon aria-hidden="true"><template shadowmode="open"><!----><slot></slot></template><!--?lit$149699970$-->delete</md-icon>
        <!--?lit$149699970$-->
      </md-icon-button>
      <colab-tooltip-trigger aria-hidden="true" for="button-delete-cell-or-selection" id="button-delete-cell-or-selection-tooltip" message="Hapus sel
Ctrl+M D"><template shadowmode="open"><!----><!--?lit$149699970$--><!----><div><!--?lit$149699970$-->Hapus sel</div><!----><!----><div><!--?lit$149699970$-->Ctrl+M D</div><!----><!--?--></template>
      </colab-tooltip-trigger><!----><!--?lit$149699970$--><md-icon-button touch-target="none" data-aria-expanded="false" data-aria-haspopup="menu" aria-describedby="button-more-actions-tooltip" data-aria-label="Tindakan sel lainnya" class="cell-toolbar-more" id="button-more-actions" value=""><template shadowmode="open" shadowdelegatesfocus=""><!----><button id="button" class="icon-button  standard " aria-label="Tindakan sel lainnya" aria-haspopup="menu" aria-expanded="false">
        <!--?lit$149699970$--><md-focus-ring part="focus-ring" for="button" aria-hidden="true"><template shadowmode="open"><!----></template></md-focus-ring>
        <!--?lit$149699970$--><md-ripple aria-hidden="true"><template shadowmode="open"><!----><div class="surface   "></div></template></md-ripple>
        <!--?lit$149699970$--><span class="icon"><slot></slot></span>
        <!--?lit$149699970$-->
        <!--?lit$149699970$--><span class="touch"></span>
  </button></template><md-icon aria-hidden="true"><template shadowmode="open"><!----><slot></slot></template>more_vert</md-icon>
      </md-icon-button>
      <colab-tooltip-trigger aria-hidden="true" for="button-more-actions" id="button-more-actions-tooltip" message="Tindakan sel lainnya"><template shadowmode="open"><!----><!--?lit$149699970$--><!----><div><!--?lit$149699970$-->Tindakan sel lainnya</div><!----><!--?--></template>
      </colab-tooltip-trigger><!--?--></template></colab-cell-toolbar></div><div class="main-content"><div class="cell-contents"><div class="cell-mask"></div><span class="imported-info-area"></span><div class="codecell-input-output">
      <div class="inputarea horizontal layout code">
        <div class="cell-gutter">
          <!-- Bounding range for vertical scrolling of icons -->
          <div class="cell-execution-container">
            <colab-run-button><template shadowmode="open"><!----> <div class="cell-execution focused animating running hovered">
      <button id="run-button" aria-describedby="run-button-tooltip" aria-label="Jalankan sel" aria-disabled="false">
        <span aria-hidden="true" class="cell-execution-indicator"><!--?lit$149699970$-->
  <md-circular-progress indeterminate="" data-aria-hidden="true"><template shadowmode="open"><!---->
      <div role="progressbar" aria-valuemin="0" class="progress  indeterminate " aria-valuemax="1"><!--?lit$149699970$--> <div class="spinner">
      <div class="left">
        <div class="circle"></div>
      </div>
      <div class="right">
        <div class="circle"></div>
      </div>
    </div></div>
    </template>
  </md-circular-progress>
  <!--?lit$149699970$-->
  <svg xmlns="http://www.w3.org/2000/svg" viewBox="0 0 24 24" id="stop-symbol">
    <mask id="stopSymbolMask">
      <rect width="100%" height="100%" fill="white"></rect>
      <polygon points="9,9 9,15 15,15 15,9" fill="black"></polygon>
    </mask>
    <circle cx="12" cy="12" r="6.4224" mask="url(#stopSymbolMask)" id="filledCircle"></circle>
  </svg>
    
</span>
      </button>
      <!--?lit$149699970$--><colab-tooltip-trigger for="run-button" id="run-button-tooltip" aria-hidden="true" message="Interupsi eksekusi (Ctrl+M I)
sel telah dieksekusi sejak perubahan terakhir

dimulai pada 15.24 (0 menit yang lalu)"><template shadowmode="open"><!----><!--?lit$149699970$--><!----><div><!--?lit$149699970$-->Interupsi eksekusi (Ctrl+M I)</div><!----><!----><div><!--?lit$149699970$-->sel telah dieksekusi sejak perubahan terakhir</div><!----><!----><br><!----><!----><div><!--?lit$149699970$-->dimulai pada 15.24 (0 menit yang lalu)</div><!----><!--?--></template>
    </colab-tooltip-trigger> <!--?lit$149699970$--><div class="status">
      <div class="execution-count"><!--?lit$149699970$-->[30]</div>
      <!--?lit$149699970$-->
    </div>
    </div></template></colab-run-button>
          </div>
        </div>
      <pre class="editor flex monaco monaco-colorized colab-dark colab-dark" contenteditable="true" data-lang="notebook-python" style=""><span><span class="mtk17">print</span><span class="mtk14">(</span><span class="mtk5">"program&nbsp;menghitung"</span><span class="mtk14">)</span></span><br><span><span class="mtk17">print</span><span class="mtk14">(</span><span class="mtk5">"1,&nbsp;persegi"</span><span class="mtk14">)</span></span><br><span><span class="mtk17">print</span><span class="mtk14">(</span><span class="mtk5">"2,&nbsp;lingkaran"</span><span class="mtk14">)</span></span><br><span><span class="mtk17">print</span><span class="mtk14">(</span><span class="mtk5">"3,&nbsp;segitiga"</span><span class="mtk14">)</span></span><br><span><span></span></span><br><span><span class="mtk1">hitung&nbsp;=&nbsp;</span><span class="mtk16">int</span><span class="mtk14">(</span><span class="mtk17">input</span><span class="mtk14">(</span><span class="mtk5">"memilih&nbsp;program&nbsp;(1/2/3):&nbsp;"</span><span class="mtk14">))</span></span><br><span><span></span></span><br><span><span class="mtk20">if</span><span class="mtk1">&nbsp;hitung&nbsp;==&nbsp;</span><span class="mtk6">1</span><span class="mtk14">:</span></span><br><span><span class="mtk1">&nbsp;&nbsp;sisi&nbsp;=&nbsp;</span><span class="mtk16">float</span><span class="mtk14">(</span><span class="mtk17">input</span><span class="mtk14">(</span><span class="mtk5">"masukkan&nbsp;panjang&nbsp;sisi:&nbsp;"</span><span class="mtk14">))</span></span><br><span><span class="mtk1">&nbsp;&nbsp;luas&nbsp;=&nbsp;sisi&nbsp;*&nbsp;sisi</span></span><br><span><span class="mtk1">&nbsp;&nbsp;</span><span class="mtk17">print</span><span class="mtk14">(</span><span class="mtk1">luas</span><span class="mtk14">)</span></span><br><span><span class="mtk20">elif</span><span class="mtk1">&nbsp;hitung&nbsp;==&nbsp;</span><span class="mtk6">2</span><span class="mtk14">:</span></span><br><span><span class="mtk1">&nbsp;&nbsp;r=&nbsp;</span><span class="mtk16">float</span><span class="mtk14">(</span><span class="mtk17">input</span><span class="mtk14">(</span><span class="mtk5">"masukkan&nbsp;jari-jari&nbsp;lingkaran:&nbsp;"</span><span class="mtk14">))</span></span><br><span><span class="mtk1">&nbsp;&nbsp;luas&nbsp;=&nbsp;</span><span class="mtk6">3.14</span><span class="mtk1">&nbsp;*&nbsp;r&nbsp;*&nbsp;r</span></span><br><span><span class="mtk1">&nbsp;&nbsp;</span><span class="mtk17">print</span><span class="mtk14">(</span><span class="mtk1">luas</span><span class="mtk14">)</span></span><br><span><span class="mtk20">elif</span><span class="mtk1">&nbsp;hitung&nbsp;==&nbsp;</span><span class="mtk6">3</span><span class="mtk14">:</span></span><br><span><span class="mtk1">&nbsp;&nbsp;alas&nbsp;=&nbsp;</span><span class="mtk16">float</span><span class="mtk14">(</span><span class="mtk17">input</span><span class="mtk14">(</span><span class="mtk5">"masukkan&nbsp;alas&nbsp;segitiga:&nbsp;"</span><span class="mtk14">))</span></span><br><span><span class="mtk1">&nbsp;&nbsp;tinggi&nbsp;=&nbsp;</span><span class="mtk16">float</span><span class="mtk14">(</span><span class="mtk17">input</span><span class="mtk14">(</span><span class="mtk5">"masukkan&nbsp;tinggi&nbsp;segitiga:&nbsp;"</span><span class="mtk14">))</span></span><br><span><span class="mtk1">&nbsp;&nbsp;luas&nbsp;=&nbsp;</span><span class="mtk6">0.5</span><span class="mtk1">&nbsp;*&nbsp;alas&nbsp;*&nbsp;tinggi</span></span><br><span><span class="mtk1">&nbsp;&nbsp;</span><span class="mtk17">print</span><span class="mtk14">(</span><span class="mtk1">luas</span><span class="mtk14">)</span></span><br><span><span class="mtk20">else</span><span class="mtk14">:</span></span><br><span><span class="mtk1">&nbsp;&nbsp;</span><span class="mtk17">print</span><span class="mtk14">(</span><span class="mtk5">"SALAH&nbsp;PILIH!"</span><span class="mtk14">)</span></span><br></pre><colab-form class="formview vertical layout flex"><div class="widget-area vertical layout"></div></colab-form></div>
    <div class="output" aria-label="Output sel 1" role="region"><!----> <div class="output-header"> </div>
        <div class="output-content">
          <div class="output-info"><colab-output-info><template shadowmode="open"><!----><!--?lit$149699970$--><!--?lit$149699970$--><md-icon-button data-aria-expanded="false" data-aria-haspopup="menu" class="menu-button focused hovered" data-aria-label="Tindakan output sel kode" id="menu-button" value=""><template shadowmode="open" shadowdelegatesfocus=""><!----><button id="button" class="icon-button  standard " aria-label="Tindakan output sel kode" aria-haspopup="menu" aria-expanded="false">
        <!--?lit$149699970$--><md-focus-ring part="focus-ring" for="button" aria-hidden="true"><template shadowmode="open"><!----></template></md-focus-ring>
        <!--?lit$149699970$--><md-ripple aria-hidden="true"><template shadowmode="open"><!----><div class="surface   "></div></template></md-ripple>
        <!--?lit$149699970$--><span class="icon"><slot></slot></span>
        <!--?lit$149699970$-->
        <!--?lit$149699970$--><span class="touch"></span>
  </button></template>
        <md-icon aria-hidden="true"><template shadowmode="open"><!----><slot></slot></template><!--?lit$149699970$-->more_horiz</md-icon>
      </md-icon-button>
      <colab-tooltip-trigger aria-hidden="true" id="menu-button-tooltip" for="menu-button" message="Tindakan output sel kode"><template shadowmode="open"><!----><!--?lit$149699970$--><!----><div><!--?lit$149699970$-->Tindakan output sel kode</div><!----><!--?--></template></colab-tooltip-trigger><!--?--></template></colab-output-info></div>
          <div class="output-iframe-container">
            <div class="output-iframe-sizer" style="min-height: 721px;"> <div><div><colab-static-output-renderer tabindex="0" role="group"><div><div class="stream output-id-1 output_text"><pre>program menghitung
1, persegi
2, lingkaran
3, segitiga
</pre></div></div><div><pre>memilih program (1/2/3): <input class="raw_input"></pre></div></colab-static-output-renderer></div></div></div>
          </div>
        </div></div><colab-cell-next-steps><template shadowmode="open"><!----></template></colab-cell-next-steps></div></div></div><div class="add-cell">
      <hr>
    </div></div></div>
              </div>
            </div>
          <section class="sidebar" aria-label="Komentar" style="display: none;"></section></div>
          <!--?lit$149699970$--> <div class="footer-links" style="padding-bottom: 8px;">
      <a target="_blank" href="https://colab.research.google.com/signup?utm_source=footer&amp;utm_medium=link&amp;utm_campaign=footer_links">
        <!--?lit$149699970$-->Produk berbayar Colab
      </a>
      -
      <a href="https://colab.research.google.com/cancel-subscription" target="_blank">
        <!--?lit$149699970$-->Batalkan kontrak di sini
      </a>
    </div>
        </div>
      </colab-shaded-scroller>
      <div class="notebook-scroll-shadow" style=""></div>
    </div><div class="right-pane-snap-hint"></div></colab-tab></div>
  </div></colab-tab-pane>
      <colab-resizer style="width: 37%" class="we-resize no-tabs"><div class="resizer-thumb"></div>
        <!--?lit$149699970$--><colab-tab-pane class="layout vertical grow no-tabs" align="vertical"><!----> <div class="layout vertical grow">
    <div class="tab-pane-header layout horizontal noshrink">
      <md-tabs><template shadowmode="open"><!---->
      <div class="tabs">
        <slot></slot>
      </div>
      <md-divider part="divider"><template shadowmode="open"><!----></template></md-divider>
    </template></md-tabs>
      <div class="layout grow"></div>
      <!--?lit$149699970$--><md-icon-button data-aria-expanded="false" data-aria-haspopup="menu" id="tab-pane-2-more-actions-button" data-aria-label="Tindakan tab lainnya" value=""><template shadowmode="open" shadowdelegatesfocus=""><!----><button id="button" class="icon-button  standard " aria-label="Tindakan tab lainnya" aria-haspopup="menu" aria-expanded="false">
        <!--?lit$149699970$--><md-focus-ring part="focus-ring" for="button" aria-hidden="true"><template shadowmode="open"><!----></template></md-focus-ring>
        <!--?lit$149699970$--><md-ripple aria-hidden="true"><template shadowmode="open"><!----><div class="surface   "></div></template></md-ripple>
        <!--?lit$149699970$--><span class="icon"><slot></slot></span>
        <!--?lit$149699970$-->
        <!--?lit$149699970$--><span class="touch"></span>
  </button></template>
      <md-icon aria-hidden="true"><template shadowmode="open"><!----><slot></slot></template><!--?lit$149699970$-->more_horiz</md-icon>
    </md-icon-button>
    <colab-tooltip-trigger aria-hidden="true" for="tab-pane-2-more-actions-button" message="Tindakan tab lainnya"><template shadowmode="open"><!----><!--?lit$149699970$--><!----><div><!--?lit$149699970$-->Tindakan tab lainnya</div><!----><!--?--></template>
    </colab-tooltip-trigger><!--?lit$149699970$-->
    </div>
    <div class="layout vertical grow tab-pane-container"> </div>
  </div></colab-tab-pane>
      </colab-resizer>
    </div>
      <colab-resizer style="height: 40%" class="sn-resize no-tabs"><div class="resizer-thumb"></div>
        <!--?lit$149699970$--> <div class="layout horizontal tab-pane-parent">
      <!--?lit$149699970$--><colab-tab-pane class="layout vertical grow no-tabs" align="vertical"><!----> <div class="layout vertical grow">
    <div class="tab-pane-header layout horizontal noshrink">
      <md-tabs><template shadowmode="open"><!---->
      <div class="tabs">
        <slot></slot>
      </div>
      <md-divider part="divider"><template shadowmode="open"><!----></template></md-divider>
    </template></md-tabs>
      <div class="layout grow"></div>
      <!--?lit$149699970$--><md-icon-button data-aria-expanded="false" data-aria-haspopup="menu" id="tab-pane-1-more-actions-button" data-aria-label="Tindakan tab lainnya" value=""><template shadowmode="open" shadowdelegatesfocus=""><!----><button id="button" class="icon-button  standard " aria-label="Tindakan tab lainnya" aria-haspopup="menu" aria-expanded="false">
        <!--?lit$149699970$--><md-focus-ring part="focus-ring" for="button" aria-hidden="true"><template shadowmode="open"><!----></template></md-focus-ring>
        <!--?lit$149699970$--><md-ripple aria-hidden="true"><template shadowmode="open"><!----><div class="surface   "></div></template></md-ripple>
        <!--?lit$149699970$--><span class="icon"><slot></slot></span>
        <!--?lit$149699970$-->
        <!--?lit$149699970$--><span class="touch"></span>
  </button></template>
      <md-icon aria-hidden="true"><template shadowmode="open"><!----><slot></slot></template><!--?lit$149699970$-->more_horiz</md-icon>
    </md-icon-button>
    <colab-tooltip-trigger aria-hidden="true" for="tab-pane-1-more-actions-button" message="Tindakan tab lainnya"><template shadowmode="open"><!----><!--?lit$149699970$--><!----><div><!--?lit$149699970$-->Tindakan tab lainnya</div><!----><!--?--></template>
    </colab-tooltip-trigger><!--?lit$149699970$-->
    </div>
    <div class="layout vertical grow tab-pane-container"> </div>
  </div></colab-tab-pane>
      <colab-resizer style="width: 37%" class="we-resize no-tabs"><div class="resizer-thumb"></div>
        <!--?lit$149699970$--><colab-tab-pane class="layout vertical grow no-tabs" align="vertical"><!----> <div class="layout vertical grow">
    <div class="tab-pane-header layout horizontal noshrink">
      <md-tabs><template shadowmode="open"><!---->
      <div class="tabs">
        <slot></slot>
      </div>
      <md-divider part="divider"><template shadowmode="open"><!----></template></md-divider>
    </template></md-tabs>
      <div class="layout grow"></div>
      <!--?lit$149699970$--><md-icon-button data-aria-expanded="false" data-aria-haspopup="menu" id="tab-pane-3-more-actions-button" data-aria-label="Tindakan tab lainnya" value=""><template shadowmode="open" shadowdelegatesfocus=""><!----><button id="button" class="icon-button  standard " aria-label="Tindakan tab lainnya" aria-haspopup="menu" aria-expanded="false">
        <!--?lit$149699970$--><md-focus-ring part="focus-ring" for="button" aria-hidden="true"><template shadowmode="open"><!----></template></md-focus-ring>
        <!--?lit$149699970$--><md-ripple aria-hidden="true"><template shadowmode="open"><!----><div class="surface   "></div></template></md-ripple>
        <!--?lit$149699970$--><span class="icon"><slot></slot></span>
        <!--?lit$149699970$-->
        <!--?lit$149699970$--><span class="touch"></span>
  </button></template>
      <md-icon aria-hidden="true"><template shadowmode="open"><!----><slot></slot></template><!--?lit$149699970$-->more_horiz</md-icon>
    </md-icon-button>
    <colab-tooltip-trigger aria-hidden="true" for="tab-pane-3-more-actions-button" message="Tindakan tab lainnya"><template shadowmode="open"><!----><!--?lit$149699970$--><!----><div><!--?lit$149699970$-->Tindakan tab lainnya</div><!----><!--?--></template>
    </colab-tooltip-trigger><!--?lit$149699970$-->
    </div>
    <div class="layout vertical grow tab-pane-container"> </div>
  </div></colab-tab-pane>
      </colab-resizer>
    </div>
      </colab-resizer>
    </div></colab-tab-layout-container>
        </div>
        <div class="proxies"><div><colab-dom-lifecycle-events style="display: none;"></colab-dom-lifecycle-events><iframe allow="" sandbox="allow-downloads allow-forms allow-pointer-lock allow-popups allow-popups-to-escape-sandbox allow-same-origin allow-scripts allow-storage-access-by-user-activation" src="cid:frame-8BE9959AE7035DB5960AC7900476DB85@mhtml.blink" style="width: 1px; height: 1px; position: absolute; top: -100px;"></iframe></div><div><colab-dom-lifecycle-events style="display: none;"></colab-dom-lifecycle-events><iframe allow="accelerometer; autoplay; gyroscope; magnetometer; xr-spatial-tracking; clipboard-write" sandbox="allow-downloads allow-forms allow-pointer-lock allow-popups allow-popups-to-escape-sandbox allow-same-origin allow-scripts allow-storage-access-by-user-activation allow-modals" src="cid:frame-C0CB138E93A1BFD5CBFE4A05F74CCDE2@mhtml.blink" style="width: 1px; height: 1px; position: absolute; top: -100px;"></iframe></div></div>
      <colab-file-viewer-manager></colab-file-viewer-manager></div>
    <colab-composer-floating-spark><template shadowmode="open"><!---->
      <md-icon-button toggle="" id="toggle-composer-button" data-aria-label="Aktifkan/nonaktifkan Gemini" value="" selected=""><template shadowmode="open" shadowdelegatesfocus=""><!----><button id="button" class="icon-button standard selected" aria-label="Aktifkan/nonaktifkan Gemini" aria-pressed="true">
        <!--?lit$149699970$--><md-focus-ring part="focus-ring" for="button" aria-hidden="true"><template shadowmode="open"><!----></template></md-focus-ring>
        <!--?lit$149699970$--><md-ripple aria-hidden="true"><template shadowmode="open"><!----><div class="surface"></div></template></md-ripple>
        <!--?lit$149699970$-->
        <!--?lit$149699970$--><span class="icon icon--selected"><slot name="selected"><slot></slot></slot></span>
        <!--?lit$149699970$--><span class="touch"></span>
  </button></template>
        <!--?lit$149699970$-->
      <div class="toggle-composer-unread-wrapper">
        <md-icon aria-hidden="true"><template shadowmode="open"><!----><slot></slot></template>spark</md-icon>
        <div class="toggle-composer-white-dot"></div>
      </div>
    
      </md-icon-button>
      <colab-tooltip-trigger aria-hidden="true" for="toggle-composer-button" message="Aktifkan/nonaktifkan Gemini"><template shadowmode="open"><!----><!--?lit$149699970$--><!----><div><!--?lit$149699970$-->Aktifkan/nonaktifkan Gemini</div><!----><!--?--></template>
      </colab-tooltip-trigger>
    </template></colab-composer-floating-spark></div><dialog class="doc-comments-area" aria-label="Komentar"><!----><div class="doc-comments-buttons">
        <md-text-button command="add-comment" value="" has-icon=""><template shadowmode="open" shadowdelegatesfocus=""><!---->
      <!--?lit$149699970$-->
      <div class="background"></div>
      <md-focus-ring part="focus-ring" for="button" aria-hidden="true"><template shadowmode="open"><!----></template></md-focus-ring>
      <md-ripple part="ripple" for="button" aria-hidden="true"><template shadowmode="open"><!----><div class="surface   "></div></template></md-ripple>
      <!--?lit$149699970$--><button id="button" class="button">
      <!--?lit$149699970$-->
      <span class="touch"></span>
      <!--?lit$149699970$--><slot name="icon"></slot>
      <span class="label"><slot></slot></span>
      <!--?lit$149699970$-->
    
    </button>
    </template>
          <md-icon slot="icon" filled="" aria-hidden="true"><template shadowmode="open"><!----><slot></slot></template>comment</md-icon>
          <!--?lit$149699970$-->Tambahkan komentar
        </md-text-button>
      </div></dialog><div class="thumbnail"></div><iframe id="apiproxy6edee350818a5c2d4aa1905377a8c3f1d5dc2ba30.649496605" name="apiproxy6edee350818a5c2d4aa1905377a8c3f1d5dc2ba30.649496605" src="cid:frame-1AB2EC2E3F003505FB3FBCB353F8221B@mhtml.blink" tabindex="-1" aria-hidden="true" style="width: 1px; height: 1px; position: absolute; top: -100px; display: none;"></iframe><div><div class="grecaptcha-badge" data-style="bottomright" style="width: 256px; height: 60px; position: fixed; visibility: hidden; display: block; transition: right 0.3s; bottom: 14px; right: -186px; box-shadow: gray 0px 0px 5px; border-radius: 2px; overflow: hidden;"><div class="grecaptcha-logo"><iframe title="reCAPTCHA" width="256" height="60" role="presentation" name="a-5vm5nesx907g" frameborder="0" scrolling="no" sandbox="allow-forms allow-popups allow-same-origin allow-scripts allow-top-navigation allow-modals allow-popups-to-escape-sandbox allow-storage-access-by-user-activation" src="cid:frame-6C4D8168C3835BCE1734ACD5F6431B19@mhtml.blink"></iframe></div><div class="grecaptcha-error"></div><textarea id="g-recaptcha-response-100000" name="g-recaptcha-response" class="g-recaptcha-response" style="width: 250px; height: 40px; border: 1px solid rgb(193, 193, 193); margin: 10px 25px; padding: 0px; resize: none; display: none;"></textarea></div><iframe style="display: none;"></iframe></div><iframe src="cid:frame-0A7D8053488D5C0ACB67CF6527D11A5A@mhtml.blink" style="display: none;"></iframe><div class="monaco-aria-container"><div class="monaco-alert" role="alert" aria-atomic="true"></div><div class="monaco-alert" role="alert" aria-atomic="true"></div><div class="monaco-status" role="complementary" aria-live="polite" aria-atomic="true"></div><div class="monaco-status" role="complementary" aria-live="polite" aria-atomic="true"></div></div></body></html>
------MultipartBoundary--o4C46MD1v5LjRKaEEJJp6V0O1heQ16TtDUGnAqoxwB----
Content-Type: image/png
Content-Transfer-Encoding: binary
Content-Location: https://lh3.google.com/u/0/ogw/AF2bZyjhJHA9ukeRK7apaoApHWr3DofAW52FM8PrwmAJwXTYyQ=s32-c-mo

�PNG

   IHDR   @   @   %�   sBIT��O�   bKGD � Q ӆ4  [IDATh��1hA�������.�&%���VF�APA0���BRb��El�B:9�Jl��E+Y����!�Q9Ͻ��{szAOD�e�����3��`gfo9�1��7}I������������������q�G���8�O5��#�(��V��o���������g�Oe :����b�{f��r��d>y��4@�ϫ�K.X*m�����&����k�=I"Y�|���ǝ�Qq��)�s�<Q�=M�s�q,�s�*�f`��q�G�sST��v�(X���  �=}�*Y�6-?�^?W5۱ǻ@�����-��Z!��*��Bm���Y�^�L�'1~\QKgI����+�'	��.�?;s�M�e��_���"D�@�ҧ�y����	I�.�}�*���A�����T��I�Vob2����I2�	�C�Ș���&o�Ē�����!�j�  �ѫG$+��5�u�zcW�᳐ݦF�| ��Q�
7�{Ѹ��m���T}1���$aOR�y���&�����,eǭ}�j5�!~��b!~��rT��f����a��i��i��i��i��i��i��i��iZ^�溙���:    IEND�B`�
------MultipartBoundary--o4C46MD1v5LjRKaEEJJp6V0O1heQ16TtDUGnAqoxwB----
Content-Type: image/svg+xml
Content-Transfer-Encoding: binary
Content-Location: https://www.gstatic.com/images/icons/material/anim/mspin/mspin_googcolor_medium.svg

<svg version="1" xmlns="http://www.w3.org/2000/svg" xmlns:xlink="http://www.w3.org/1999/xlink" width="11664" height="36" viewBox="0 0 11664 36"><defs><path id="a" fill="none" stroke-dasharray="58.9" d="M18 5.5A12.5 12.5 0 1 1 5.5 18" stroke-width="3" stroke-linecap="square"/><g id="b"><use xlink:href="#a" stroke-dashoffset="176.66"/><use xlink:href="#a" stroke-dashoffset="176.58" transform="translate(36)"/><use xlink:href="#a" stroke-dashoffset="176.32" transform="translate(72)"/><use xlink:href="#a" stroke-dashoffset="175.85" transform="translate(108)"/><use xlink:href="#a" stroke-dashoffset="175.14" transform="translate(144)"/><use xlink:href="#a" stroke-dashoffset="174.13" transform="translate(180)"/><use xlink:href="#a" stroke-dashoffset="172.78" transform="translate(216)"/><use xlink:href="#a" stroke-dashoffset="171.01" transform="translate(252)"/><use xlink:href="#a" stroke-dashoffset="168.78" transform="translate(288)"/><use xlink:href="#a" stroke-dashoffset="166.02" transform="translate(324)"/><use xlink:href="#a" stroke-dashoffset="162.73" transform="translate(360)"/><use xlink:href="#a" stroke-dashoffset="159.01" transform="translate(396)"/><use xlink:href="#a" stroke-dashoffset="155.04" transform="translate(432)"/><use xlink:href="#a" stroke-dashoffset="151.05" transform="translate(468)"/><use xlink:href="#a" stroke-dashoffset="147.23" transform="translate(504)"/><use xlink:href="#a" stroke-dashoffset="143.71" transform="translate(540)"/><use xlink:href="#a" stroke-dashoffset="140.54" transform="translate(576)"/><use xlink:href="#a" stroke-dashoffset="137.72" transform="translate(612)"/><use xlink:href="#a" stroke-dashoffset="135.21" transform="translate(648)"/><use xlink:href="#a" stroke-dashoffset="132.98" transform="translate(684)"/><use xlink:href="#a" stroke-dashoffset="131.01" transform="translate(720)"/><use xlink:href="#a" stroke-dashoffset="129.26" transform="translate(756)"/><use xlink:href="#a" stroke-dashoffset="127.71" transform="translate(792)"/><use xlink:href="#a" stroke-dashoffset="126.33" transform="translate(828)"/><use xlink:href="#a" stroke-dashoffset="125.1" transform="translate(864)"/><use xlink:href="#a" stroke-dashoffset="124.01" transform="translate(900)"/><use xlink:href="#a" stroke-dashoffset="123.04" transform="translate(936)"/><use xlink:href="#a" stroke-dashoffset="122.19" transform="translate(972)"/><use xlink:href="#a" stroke-dashoffset="121.43" transform="translate(1008)"/><use xlink:href="#a" stroke-dashoffset="120.77" transform="translate(1044)"/><use xlink:href="#a" stroke-dashoffset="120.19" transform="translate(1080)"/><use xlink:href="#a" stroke-dashoffset="119.69" transform="translate(1116)"/><use xlink:href="#a" stroke-dashoffset="119.26" transform="translate(1152)"/><use xlink:href="#a" stroke-dashoffset="118.89" transform="translate(1188)"/><use xlink:href="#a" stroke-dashoffset="118.58" transform="translate(1224)"/><use xlink:href="#a" stroke-dashoffset="118.33" transform="translate(1260)"/><use xlink:href="#a" stroke-dashoffset="118.13" transform="translate(1296)"/><use xlink:href="#a" stroke-dashoffset="117.98" transform="translate(1332)"/><use xlink:href="#a" stroke-dashoffset="117.88" transform="translate(1368)"/><use xlink:href="#a" stroke-dashoffset="117.82" transform="translate(1404)"/><use xlink:href="#a" stroke-dashoffset="117.8" transform="translate(1440)"/><use xlink:href="#a" stroke-dashoffset="117.72" transform="translate(1476)"/><use xlink:href="#a" stroke-dashoffset="117.46" transform="translate(1512)"/><use xlink:href="#a" stroke-dashoffset="117" transform="translate(1548)"/><use xlink:href="#a" stroke-dashoffset="116.29" transform="translate(1584)"/><use xlink:href="#a" stroke-dashoffset="115.29" transform="translate(1620)"/><use xlink:href="#a" stroke-dashoffset="113.94" transform="translate(1656)"/><use xlink:href="#a" stroke-dashoffset="112.19" transform="translate(1692)"/><use xlink:href="#a" stroke-dashoffset="109.97" transform="translate(1728)"/><use xlink:href="#a" stroke-dashoffset="107.23" transform="translate(1764)"/><use xlink:href="#a" stroke-dashoffset="103.96" transform="translate(1800)"/><use xlink:href="#a" stroke-dashoffset="100.27" transform="translate(1836)"/><use xlink:href="#a" stroke-dashoffset="96.32" transform="translate(1872)"/><use xlink:href="#a" stroke-dashoffset="92.35" transform="translate(1908)"/><use xlink:href="#a" stroke-dashoffset="88.56" transform="translate(1944)"/><use xlink:href="#a" stroke-dashoffset="85.07" transform="translate(1980)"/><use xlink:href="#a" stroke-dashoffset="81.92" transform="translate(2016)"/><use xlink:href="#a" stroke-dashoffset="79.11" transform="translate(2052)"/><use xlink:href="#a" stroke-dashoffset="76.61" transform="translate(2088)"/><use xlink:href="#a" stroke-dashoffset="74.4" transform="translate(2124)"/><use xlink:href="#a" stroke-dashoffset="72.45" transform="translate(2160)"/><use xlink:href="#a" stroke-dashoffset="70.71" transform="translate(2196)"/><use xlink:href="#a" stroke-dashoffset="69.16" transform="translate(2232)"/><use xlink:href="#a" stroke-dashoffset="67.79" transform="translate(2268)"/><use xlink:href="#a" stroke-dashoffset="66.57" transform="translate(2304)"/><use xlink:href="#a" stroke-dashoffset="65.49" transform="translate(2340)"/><use xlink:href="#a" stroke-dashoffset="64.53" transform="translate(2376)"/><use xlink:href="#a" stroke-dashoffset="63.68" transform="translate(2412)"/><use xlink:href="#a" stroke-dashoffset="62.93" transform="translate(2448)"/><use xlink:href="#a" stroke-dashoffset="62.27" transform="translate(2484)"/><use xlink:href="#a" stroke-dashoffset="61.7" transform="translate(2520)"/><use xlink:href="#a" stroke-dashoffset="61.2" transform="translate(2556)"/><use xlink:href="#a" stroke-dashoffset="60.77" transform="translate(2592)"/><use xlink:href="#a" stroke-dashoffset="60.4" transform="translate(2628)"/><use xlink:href="#a" stroke-dashoffset="60.1" transform="translate(2664)"/><use xlink:href="#a" stroke-dashoffset="59.85" transform="translate(2700)"/><use xlink:href="#a" stroke-dashoffset="59.65" transform="translate(2736)"/><use xlink:href="#a" stroke-dashoffset="59.5" transform="translate(2772)"/><use xlink:href="#a" stroke-dashoffset="59.4" transform="translate(2808)"/><use xlink:href="#a" stroke-dashoffset="59.34" transform="translate(2844)"/><use xlink:href="#a" stroke-dashoffset="59.32" transform="translate(2880)"/></g><g id="c"><use xlink:href="#a" stroke-dashoffset="70.71" transform="translate(2196)" opacity=".05"/><use xlink:href="#a" stroke-dashoffset="69.16" transform="translate(2232)" opacity=".1"/><use xlink:href="#a" stroke-dashoffset="67.79" transform="translate(2268)" opacity=".15"/><use xlink:href="#a" stroke-dashoffset="66.57" transform="translate(2304)" opacity=".2"/><use xlink:href="#a" stroke-dashoffset="65.49" transform="translate(2340)" opacity=".25"/><use xlink:href="#a" stroke-dashoffset="64.53" transform="translate(2376)" opacity=".3"/><use xlink:href="#a" stroke-dashoffset="63.68" transform="translate(2412)" opacity=".35"/><use xlink:href="#a" stroke-dashoffset="62.93" transform="translate(2448)" opacity=".4"/><use xlink:href="#a" stroke-dashoffset="62.27" transform="translate(2484)" opacity=".45"/><use xlink:href="#a" stroke-dashoffset="61.7" transform="translate(2520)" opacity=".5"/><use xlink:href="#a" stroke-dashoffset="61.2" transform="translate(2556)" opacity=".55"/><use xlink:href="#a" stroke-dashoffset="60.77" transform="translate(2592)" opacity=".6"/><use xlink:href="#a" stroke-dashoffset="60.4" transform="translate(2628)" opacity=".65"/><use xlink:href="#a" stroke-dashoffset="60.1" transform="translate(2664)" opacity=".7"/><use xlink:href="#a" stroke-dashoffset="59.85" transform="translate(2700)" opacity=".75"/><use xlink:href="#a" stroke-dashoffset="59.65" transform="translate(2736)" opacity=".8"/><use xlink:href="#a" stroke-dashoffset="59.5" transform="translate(2772)" opacity=".85"/><use xlink:href="#a" stroke-dashoffset="59.4" transform="translate(2808)" opacity=".9"/><use xlink:href="#a" stroke-dashoffset="59.34" transform="translate(2844)" opacity=".95"/><use xlink:href="#a" stroke-dashoffset="59.32" transform="translate(2880)"/></g></defs><use xlink:href="#b" stroke="#4285f4"/><use xlink:href="#c" stroke="#db4437"/><use xlink:href="#b" stroke="#db4437" transform="translate(2916)"/><use xlink:href="#c" stroke="#f4b400" transform="translate(2916)"/><use xlink:href="#b" stroke="#f4b400" transform="translate(5832)"/><use xlink:href="#c" stroke="#0f9d58" transform="translate(5832)"/><use xlink:href="#b" stroke="#0f9d58" transform="translate(8748)"/><use xlink:href="#c" stroke="#4285f4" transform="translate(8748)"/></svg>
------MultipartBoundary--o4C46MD1v5LjRKaEEJJp6V0O1heQ16TtDUGnAqoxwB----
Content-Type: text/css
Content-Transfer-Encoding: binary
Content-Location: https://www.gstatic.com/images/icons/material/anim/mspin/mspin_googcolor_medium.css

@charset "utf-8";

.mspin-medium { width: 36px; height: 36px; overflow: hidden; animation: 1568.63ms linear 0s infinite normal none running mspin-rotate; }

.mspin-medium > div { animation: 5332ms steps(4) 0s infinite normal none running mspin-revrot; }

.mspin-medium > div > div { background-image: url("mspin_googcolor_medium.svg"); background-size: 100%; width: 11664px; height: 36px; animation: 5332ms steps(324) 0s infinite normal none running mspin-medium-film; }

@-webkit-keyframes mspin-medium-film { 
  0% { transform: translateX(0px); }
  100% { transform: translateX(-11664px); }
}

@-webkit-keyframes mspin-rotate { 
  0% { transform: rotate(0deg); }
  100% { transform: rotate(360deg); }
}

@-webkit-keyframes mspin-revrot { 
  0% { transform: rotate(0deg); }
  100% { transform: rotate(-360deg); }
}

@keyframes mspin-medium-film { 
  0% { transform: translateX(0px); }
  100% { transform: translateX(-11664px); }
}

@keyframes mspin-rotate { 
  0% { transform: rotate(0deg); }
  100% { transform: rotate(360deg); }
}

@keyframes mspin-revrot { 
  0% { transform: rotate(0deg); }
  100% { transform: rotate(-360deg); }
}
------MultipartBoundary--o4C46MD1v5LjRKaEEJJp6V0O1heQ16TtDUGnAqoxwB----
Content-Type: text/css
Content-Transfer-Encoding: binary
Content-Location: https://ssl.gstatic.com/colaboratory-static/common/dbf976ca262648de3ec2dd49c71d3a64/js%2Fmonaco_editor%2F/vs/editor/editor.main.css

@charset "utf-8";

.monaco-action-bar { white-space: nowrap; height: 100%; }

.monaco-action-bar .actions-container { display: flex; margin: 0px auto; padding: 0px; height: 100%; width: 100%; align-items: center; }

.monaco-action-bar.vertical .actions-container { display: inline-block; }

.monaco-action-bar .action-item { display: block; align-items: center; justify-content: center; cursor: pointer; position: relative; }

.monaco-action-bar .action-item.disabled { cursor: default; }

.monaco-action-bar .action-item .codicon, .monaco-action-bar .action-item .icon { display: block; }

.monaco-action-bar .action-item .codicon { display: flex; align-items: center; width: 16px; height: 16px; }

.monaco-action-bar .action-label { display: flex; font-size: 11px; padding: 3px; border-radius: 5px; }

.monaco-action-bar .action-item.disabled .action-label, .monaco-action-bar .action-item.disabled .action-label::before, .monaco-action-bar .action-item.disabled .action-label:hover { opacity: 0.6; }

.monaco-action-bar.vertical { text-align: left; }

.monaco-action-bar.vertical .action-item { display: block; }

.monaco-action-bar.vertical .action-label.separator { display: block; border-bottom: 1px solid rgb(187, 187, 187); padding-top: 1px; margin-left: 0.8em; margin-right: 0.8em; }

.monaco-action-bar .action-item .action-label.separator { width: 1px; height: 16px; cursor: default; min-width: 1px; padding: 0px; background-color: rgb(187, 187, 187); margin: 5px 4px !important; }

.secondary-actions .monaco-action-bar .action-label { margin-left: 6px; }

.monaco-action-bar .action-item.select-container { overflow: hidden; flex: 1 1 0%; max-width: 170px; min-width: 60px; display: flex; align-items: center; justify-content: center; margin-right: 10px; }

.monaco-action-bar .action-item.action-dropdown-item { display: flex; }

.monaco-action-bar .action-item.action-dropdown-item > .action-dropdown-item-separator { display: flex; align-items: center; cursor: default; }

.monaco-action-bar .action-item.action-dropdown-item > .action-dropdown-item-separator > div { width: 1px; }

.monaco-aria-container { position: absolute; left: -999em; }

.monaco-text-button { box-sizing: border-box; display: flex; width: 100%; padding: 4px; border-radius: 2px; text-align: center; cursor: pointer; justify-content: center; align-items: center; border: 1px solid var(--vscode-button-border,transparent); line-height: 18px; }

.monaco-text-button:focus { outline-offset: 2px !important; }

.monaco-text-button:hover { text-decoration: none !important; }

.monaco-button.disabled, .monaco-button.disabled:focus { opacity: 0.4 !important; cursor: default; }

.monaco-text-button .codicon { margin: 0px 0.2em; color: inherit !important; }

.monaco-text-button.monaco-text-button-with-short-label { flex-flow: wrap; padding: 0px 4px; overflow: hidden; height: 28px; }

.monaco-text-button.monaco-text-button-with-short-label > .monaco-button-label { flex-basis: 100%; }

.monaco-text-button.monaco-text-button-with-short-label > .monaco-button-label-short { flex-grow: 1; width: 0px; overflow: hidden; }

.monaco-text-button.monaco-text-button-with-short-label > .monaco-button-label, .monaco-text-button.monaco-text-button-with-short-label > .monaco-button-label-short { display: flex; justify-content: center; align-items: center; font-weight: 400; font-style: inherit; padding: 4px 0px; }

.monaco-button-dropdown { display: flex; cursor: pointer; }

.monaco-button-dropdown.disabled { cursor: default; }

.monaco-button-dropdown > .monaco-button:focus { outline-offset: -1px !important; }

.monaco-button-dropdown.disabled > .monaco-button-dropdown-separator, .monaco-button-dropdown.disabled > .monaco-button.disabled, .monaco-button-dropdown.disabled > .monaco-button.disabled:focus { opacity: 0.4 !important; }

.monaco-button-dropdown > .monaco-button.monaco-text-button { border-right-width: 0px !important; }

.monaco-button-dropdown .monaco-button-dropdown-separator { padding: 4px 0px; cursor: default; }

.monaco-button-dropdown .monaco-button-dropdown-separator > div { height: 100%; width: 1px; }

.monaco-button-dropdown > .monaco-button.monaco-dropdown-button { border-top-color: ; border-top-style: ; border-top-width: ; border-right-color: ; border-right-style: ; border-right-width: ; border-bottom-color: ; border-bottom-style: ; border-bottom-width: ; border-left-color: ; border-left-style: ; border-image-source: ; border-image-slice: ; border-image-width: ; border-image-outset: ; border-image-repeat: ; border-radius: 0px 2px 2px 0px; border-left-width: 0px !important; }

.monaco-button-dropdown > .monaco-button.monaco-text-button { border-radius: 2px 0px 0px 2px; }

.monaco-description-button { display: flex; flex-direction: column; align-items: center; margin: 4px 5px; }

.monaco-description-button .monaco-button-description { font-style: italic; font-size: 11px; padding: 4px 20px; }

.monaco-description-button .monaco-button-description, .monaco-description-button .monaco-button-label { display: flex; justify-content: center; align-items: center; }

.monaco-description-button .monaco-button-description > .codicon, .monaco-description-button .monaco-button-label > .codicon { margin: 0px 0.2em; color: inherit !important; }

.monaco-button-dropdown.default-colors > .monaco-button, .monaco-button.default-colors { color: var(--vscode-button-foreground); background-color: var(--vscode-button-background); }

.monaco-button-dropdown.default-colors > .monaco-button:hover, .monaco-button.default-colors:hover { background-color: var(--vscode-button-hoverBackground); }

.monaco-button-dropdown.default-colors > .monaco-button.secondary, .monaco-button.default-colors.secondary { color: var(--vscode-button-secondaryForeground); background-color: var(--vscode-button-secondaryBackground); }

.monaco-button-dropdown.default-colors > .monaco-button.secondary:hover, .monaco-button.default-colors.secondary:hover { background-color: var(--vscode-button-secondaryHoverBackground); }

.monaco-button-dropdown.default-colors .monaco-button-dropdown-separator { background-color: var(--vscode-button-background); border-top: 1px solid var(--vscode-button-border); border-bottom: 1px solid var(--vscode-button-border); }

.monaco-button-dropdown.default-colors .monaco-button.secondary + .monaco-button-dropdown-separator { background-color: var(--vscode-button-secondaryBackground); }

.monaco-button-dropdown.default-colors .monaco-button-dropdown-separator > div { background-color: var(--vscode-button-separator); }

@font-face { font-family: codicon; font-display: block; src: url("../base/browser/ui/codicons/codicon/codicon.ttf") format("truetype"); }

.codicon[class*="codicon-"] { font: 16px / 1 codicon; display: inline-block; text-decoration: none; text-rendering: auto; text-align: center; text-transform: none; -webkit-font-smoothing: antialiased; user-select: none; }

.codicon-wrench-subaction { opacity: 0.5; }

@keyframes codicon-spin { 
  100% { transform: rotate(1turn); }
}

.codicon-gear.codicon-modifier-spin, .codicon-loading.codicon-modifier-spin, .codicon-notebook-state-executing.codicon-modifier-spin, .codicon-sync.codicon-modifier-spin { animation: 1.5s steps(30) 0s infinite normal none running codicon-spin; }

.codicon-modifier-disabled { opacity: 0.4; }

.codicon-loading, .codicon-tree-item-loading::before { animation-duration: 1s !important; animation-timing-function: cubic-bezier(0.53, 0.21, 0.29, 0.67) !important; }

.context-view { position: absolute; }

.context-view.fixed { color-scheme: initial; forced-color-adjust: initial; mask: initial; math-depth: initial; position: fixed; position-anchor: initial; text-size-adjust: initial; appearance: initial; color: inherit; font-family: inherit; font-feature-settings: initial; font-kerning: initial; font-optical-sizing: initial; font-palette: initial; font-size: 13px; font-size-adjust: initial; font-stretch: initial; font-style: initial; font-synthesis: initial; font-variant: initial; font-variation-settings: initial; font-weight: initial; position-area: initial; text-orientation: initial; text-rendering: initial; text-spacing-trim: initial; -webkit-font-smoothing: initial; -webkit-locale: initial; -webkit-text-orientation: initial; -webkit-writing-mode: initial; writing-mode: initial; zoom: initial; accent-color: initial; place-content: initial; place-items: initial; place-self: initial; alignment-baseline: initial; anchor-name: initial; anchor-scope: initial; animation-composition: initial; animation: initial; app-region: initial; aspect-ratio: initial; backdrop-filter: initial; backface-visibility: initial; background: initial; background-blend-mode: initial; baseline-shift: initial; baseline-source: initial; block-size: initial; border-block: initial; border: initial; border-radius: initial; border-collapse: initial; border-end-end-radius: initial; border-end-start-radius: initial; border-inline: initial; border-start-end-radius: initial; border-start-start-radius: initial; inset: initial; box-decoration-break: initial; box-shadow: initial; box-sizing: initial; break-after: initial; break-before: initial; break-inside: initial; buffered-rendering: initial; caption-side: initial; caret-animation: initial; caret-color: initial; clear: initial; clip: initial; clip-path: initial; clip-rule: initial; color-interpolation: initial; color-interpolation-filters: initial; color-rendering: initial; columns: initial; column-fill: initial; gap: initial; column-rule: initial; column-span: initial; contain: initial; contain-intrinsic-block-size: initial; contain-intrinsic-size: initial; contain-intrinsic-inline-size: initial; container: initial; content: initial; content-visibility: initial; corner-shape: initial; corner-block-end-shape: initial; corner-block-start-shape: initial; counter-increment: initial; counter-reset: initial; counter-set: initial; cursor: initial; cx: initial; cy: initial; d: initial; display: initial; dominant-baseline: initial; dynamic-range-limit: initial; empty-cells: initial; field-sizing: initial; fill: initial; fill-opacity: initial; fill-rule: initial; filter: initial; flex: initial; flex-flow: initial; float: initial; flood-color: initial; flood-opacity: initial; grid: initial; grid-area: initial; height: initial; hyphenate-character: initial; hyphenate-limit-chars: initial; hyphens: initial; image-orientation: initial; image-rendering: initial; initial-letter: initial; inline-size: initial; inset-block: initial; inset-inline: initial; interpolate-size: initial; isolation: initial; letter-spacing: initial; lighting-color: initial; line-break: initial; line-height: initial; list-style: initial; margin-block: initial; margin: initial; margin-inline: initial; marker: initial; mask-type: initial; math-shift: initial; math-style: initial; max-block-size: initial; max-height: initial; max-inline-size: initial; max-width: initial; min-block-size: initial; min-height: initial; min-inline-size: initial; min-width: initial; mix-blend-mode: initial; object-fit: initial; object-position: initial; object-view-box: initial; offset: initial; opacity: initial; order: initial; orphans: initial; outline: initial; outline-offset: initial; overflow-anchor: initial; overflow-block: initial; overflow-clip-margin: initial; overflow-inline: initial; overflow-wrap: initial; overflow: initial; overlay: initial; overscroll-behavior-block: initial; overscroll-behavior-inline: initial; overscroll-behavior: initial; padding-block: initial; padding: initial; padding-inline: initial; page: initial; page-orientation: initial; paint-order: initial; perspective: initial; perspective-origin: initial; pointer-events: initial; position-try: initial; position-visibility: initial; print-color-adjust: initial; quotes: initial; r: initial; reading-flow: initial; reading-order: initial; resize: initial; rotate: initial; ruby-align: initial; ruby-position: initial; rx: initial; ry: initial; scale: initial; scroll-behavior: initial; scroll-initial-target: initial; scroll-margin-block: initial; scroll-margin: initial; scroll-margin-inline: initial; scroll-marker-group: initial; scroll-padding-block: initial; scroll-padding: initial; scroll-padding-inline: initial; scroll-snap-align: initial; scroll-snap-stop: initial; scroll-snap-type: initial; scroll-target-group: initial; scroll-timeline: initial; scrollbar-color: initial; scrollbar-gutter: initial; scrollbar-width: initial; shape-image-threshold: initial; shape-margin: initial; shape-outside: initial; shape-rendering: initial; size: initial; speak: initial; stop-color: initial; stop-opacity: initial; stroke: initial; stroke-dasharray: initial; stroke-dashoffset: initial; stroke-linecap: initial; stroke-linejoin: initial; stroke-miterlimit: initial; stroke-opacity: initial; stroke-width: initial; tab-size: initial; table-layout: initial; text-align: initial; text-align-last: initial; text-anchor: initial; text-autospace: initial; text-box: initial; text-combine-upright: initial; text-decoration: initial; text-decoration-skip-ink: initial; text-emphasis: initial; text-emphasis-position: initial; text-indent: initial; text-overflow: initial; text-shadow: initial; text-transform: initial; text-underline-offset: initial; text-underline-position: initial; text-wrap: initial; timeline-scope: initial; touch-action: initial; transform: initial; transform-box: initial; transform-origin: initial; transform-style: initial; transition: initial; translate: initial; user-select: initial; vector-effect: initial; vertical-align: initial; view-timeline: initial; view-transition-class: initial; view-transition-group: initial; view-transition-name: initial; visibility: initial; border-spacing: initial; -webkit-box-align: initial; -webkit-box-decoration-break: initial; -webkit-box-direction: initial; -webkit-box-flex: initial; -webkit-box-ordinal-group: initial; -webkit-box-orient: initial; -webkit-box-pack: initial; -webkit-box-reflect: initial; -webkit-line-break: initial; -webkit-line-clamp: initial; -webkit-mask-box-image: initial; -webkit-rtl-ordering: initial; -webkit-ruby-position: initial; -webkit-tap-highlight-color: initial; -webkit-text-combine: initial; -webkit-text-decorations-in-effect: initial; -webkit-text-fill-color: initial; -webkit-text-security: initial; -webkit-text-stroke: initial; -webkit-user-drag: initial; white-space-collapse: initial; widows: initial; width: initial; will-change: initial; word-break: initial; word-spacing: initial; x: initial; y: initial; z-index: initial; }

.monaco-count-badge { padding: 3px 6px; border-radius: 11px; font-size: 11px; min-width: 18px; min-height: 18px; line-height: 11px; font-weight: 400; text-align: center; display: inline-block; box-sizing: border-box; }

.monaco-count-badge.long { padding: 2px 3px; border-radius: 2px; min-height: auto; line-height: normal; }

.monaco-dropdown { height: 100%; padding: 0px; }

.monaco-dropdown > .dropdown-label { cursor: pointer; height: 100%; display: flex; align-items: center; justify-content: center; }

.monaco-dropdown > .dropdown-label > .action-label.disabled { cursor: default; }

.monaco-dropdown-with-primary { flex-direction: row; border-radius: 5px; display: flex !important; }

.monaco-dropdown-with-primary > .action-container > .action-label { margin-right: 0px; }

.monaco-dropdown-with-primary > .dropdown-action-container > .monaco-dropdown > .dropdown-label .codicon[class*="codicon-"] { font-size: 12px; padding-left: 0px; padding-right: 0px; line-height: 16px; margin-left: -3px; }

.monaco-dropdown-with-primary > .dropdown-action-container > .monaco-dropdown > .dropdown-label > .action-label { display: block; background-size: 16px; background-position: 50% center; background-repeat: no-repeat; }

.monaco-findInput { position: relative; }

.monaco-findInput .monaco-inputbox { font-size: 13px; width: 100%; }

.monaco-findInput > .controls { position: absolute; top: 3px; right: 2px; }

.vs .monaco-findInput.disabled { background-color: rgb(225, 225, 225); }

.vs-dark .monaco-findInput.disabled { background-color: rgb(51, 51, 51); }

.hc-light .monaco-findInput.highlight-0 .controls, .monaco-findInput.highlight-0 .controls { animation: 0.1s linear 0s 1 normal none running monaco-findInput-highlight-0; }

.hc-light .monaco-findInput.highlight-1 .controls, .monaco-findInput.highlight-1 .controls { animation: 0.1s linear 0s 1 normal none running monaco-findInput-highlight-1; }

.hc-black .monaco-findInput.highlight-0 .controls, .vs-dark .monaco-findInput.highlight-0 .controls { animation: 0.1s linear 0s 1 normal none running monaco-findInput-highlight-dark-0; }

.hc-black .monaco-findInput.highlight-1 .controls, .vs-dark .monaco-findInput.highlight-1 .controls { animation: 0.1s linear 0s 1 normal none running monaco-findInput-highlight-dark-1; }

@keyframes monaco-findInput-highlight-0 { 
  0% { background: rgba(253, 255, 0, 0.8); }
  100% { background: transparent; }
}

@keyframes monaco-findInput-highlight-1 { 
  0% { background: rgba(253, 255, 0, 0.8); }
  99% { background: transparent; }
}

@keyframes monaco-findInput-highlight-dark-0 { 
  0% { background: rgba(255, 255, 255, 0.44); }
  100% { background: transparent; }
}

@keyframes monaco-findInput-highlight-dark-1 { 
  0% { background: rgba(255, 255, 255, 0.44); }
  99% { background: transparent; }
}

.monaco-hover { cursor: default; position: absolute; overflow: hidden; user-select: text; box-sizing: border-box; animation: 0.1s linear 0s 1 normal none running fadein; line-height: 1.5em; }

.monaco-hover.hidden { display: none; }

.monaco-hover a:hover:not(.disabled) { cursor: pointer; }

.monaco-hover .hover-contents:not(.html-hover-contents) { padding: 4px 8px; }

.monaco-hover .markdown-hover > .hover-contents:not(.code-hover-contents) { max-width: 500px; overflow-wrap: break-word; }

.monaco-hover .markdown-hover > .hover-contents:not(.code-hover-contents) hr { min-width: 100%; }

.monaco-hover .code, .monaco-hover h1, .monaco-hover h2, .monaco-hover h3, .monaco-hover h4, .monaco-hover h5, .monaco-hover h6, .monaco-hover p, .monaco-hover ul { margin: 8px 0px; }

.monaco-hover h1, .monaco-hover h2, .monaco-hover h3, .monaco-hover h4, .monaco-hover h5, .monaco-hover h6 { line-height: 1.1; }

.monaco-hover code { font-family: var(--monaco-monospace-font); }

.monaco-hover hr { box-sizing: border-box; border-left: 0px; border-right: 0px; margin: 4px -8px -4px; height: 1px; }

.monaco-hover .code:first-child, .monaco-hover p:first-child, .monaco-hover ul:first-child { margin-top: 0px; }

.monaco-hover .code:last-child, .monaco-hover p:last-child, .monaco-hover ul:last-child { margin-bottom: 0px; }

.monaco-hover ol, .monaco-hover ul { padding-left: 20px; }

.monaco-hover li > p { margin-bottom: 0px; }

.monaco-hover li > ul { margin-top: 0px; }

.monaco-hover code { border-radius: 3px; padding: 0px 0.4em; }

.monaco-hover .monaco-tokenized-source { white-space: pre-wrap; }

.monaco-hover .hover-row.status-bar { font-size: 12px; line-height: 22px; }

.monaco-hover .hover-row.status-bar .info { font-style: italic; padding: 0px 8px; }

.monaco-hover .hover-row.status-bar .actions { display: flex; padding: 0px 8px; }

.monaco-hover .hover-row.status-bar .actions .action-container { margin-right: 16px; cursor: pointer; }

.monaco-hover .hover-row.status-bar .actions .action-container .action .icon { padding-right: 4px; }

.monaco-hover .markdown-hover .hover-contents .codicon { color: inherit; font-size: inherit; vertical-align: middle; }

.monaco-hover .hover-contents a.code-link, .monaco-hover .hover-contents a.code-link:hover { color: inherit; }

.monaco-hover .hover-contents a.code-link::before { content: "("; }

.monaco-hover .hover-contents a.code-link::after { content: ")"; }

.monaco-hover .hover-contents a.code-link > span { text-decoration: underline; border-bottom: 1px solid transparent; text-underline-position: under; color: var(--vscode-textLink-foreground); }

.monaco-hover .hover-contents a.code-link > span:hover { color: var(--vscode-textLink-activeForeground); }

.monaco-hover .markdown-hover .hover-contents:not(.code-hover-contents):not(.html-hover-contents) span { margin-bottom: 4px; display: inline-block; }

.monaco-hover-content .action-container a { user-select: none; }

.monaco-hover-content .action-container.disabled { pointer-events: none; opacity: 0.4; cursor: default; }

.monaco-icon-label { display: flex; overflow: hidden; text-overflow: ellipsis; }

.monaco-icon-label::before { background-size: 16px; background-position: 0px center; background-repeat: no-repeat; padding-right: 6px; width: 16px; height: 22px; display: inline-block; -webkit-font-smoothing: antialiased; vertical-align: top; flex-shrink: 0; line-height: inherit !important; }

.monaco-icon-label-container.disabled { color: var(--vscode-disabledForeground); }

.monaco-icon-label > .monaco-icon-label-container { min-width: 0px; overflow: hidden; text-overflow: ellipsis; flex: 1 1 0%; }

.monaco-icon-label > .monaco-icon-label-container > .monaco-icon-name-container > .label-name { color: inherit; white-space: pre; }

.monaco-icon-label > .monaco-icon-label-container > .monaco-icon-name-container > .label-name > .label-separator { margin: 0px 2px; opacity: 0.5; }

.monaco-icon-label > .monaco-icon-label-container > .monaco-icon-description-container > .label-description { opacity: 0.7; margin-left: 0.5em; font-size: 0.9em; white-space: pre; }

.monaco-icon-label.nowrap > .monaco-icon-label-container > .monaco-icon-description-container > .label-description { white-space: nowrap; }

.vs .monaco-icon-label > .monaco-icon-label-container > .monaco-icon-description-container > .label-description { opacity: 0.95; }

.monaco-icon-label.italic > .monaco-icon-label-container > .monaco-icon-description-container > .label-description, .monaco-icon-label.italic > .monaco-icon-label-container > .monaco-icon-name-container > .label-name { font-style: italic; }

.monaco-icon-label.deprecated { text-decoration: line-through; opacity: 0.66; }

.monaco-icon-label.italic::after { font-style: italic; }

.monaco-icon-label.strikethrough > .monaco-icon-label-container > .monaco-icon-description-container > .label-description, .monaco-icon-label.strikethrough > .monaco-icon-label-container > .monaco-icon-name-container > .label-name { text-decoration: line-through; }

.monaco-icon-label::after { opacity: 0.75; font-size: 90%; font-weight: 600; margin: auto 16px 0px 5px; text-align: center; }

.monaco-list:focus .selected .monaco-icon-label, .monaco-list:focus .selected .monaco-icon-label::after { color: inherit !important; }

.monaco-list-row.focused.selected .label-description, .monaco-list-row.selected .label-description { opacity: 0.8; }

.monaco-inputbox { position: relative; display: block; padding: 0px; box-sizing: border-box; border-radius: 2px; font-size: inherit; }

.monaco-inputbox > .ibwrapper > .input, .monaco-inputbox > .ibwrapper > .mirror { padding: 4px 6px; }

.monaco-inputbox > .ibwrapper { position: relative; width: 100%; height: 100%; }

.monaco-inputbox > .ibwrapper > .input { display: inline-block; box-sizing: border-box; width: 100%; height: 100%; line-height: inherit; border: none; font-family: inherit; font-size: inherit; resize: none; color: inherit; }

.monaco-inputbox > .ibwrapper > input { text-overflow: ellipsis; }

.monaco-inputbox > .ibwrapper > textarea.input { display: block; scrollbar-width: none; outline: none; }

.monaco-inputbox > .ibwrapper > textarea.input::-webkit-scrollbar { display: none; }

.monaco-inputbox > .ibwrapper > textarea.input.empty { white-space: nowrap; }

.monaco-inputbox > .ibwrapper > .mirror { position: absolute; display: inline-block; width: 100%; top: 0px; left: 0px; box-sizing: border-box; white-space: pre-wrap; visibility: hidden; overflow-wrap: break-word; }

.monaco-inputbox-container { text-align: right; }

.monaco-inputbox-container .monaco-inputbox-message { display: inline-block; overflow: hidden; text-align: left; width: 100%; box-sizing: border-box; padding: 0.4em; font-size: 12px; line-height: 17px; margin-top: -1px; overflow-wrap: break-word; }

.monaco-inputbox .monaco-action-bar { position: absolute; right: 2px; top: 4px; }

.monaco-inputbox .monaco-action-bar .action-item { margin-left: 2px; }

.monaco-inputbox .monaco-action-bar .action-item .codicon { background-repeat: no-repeat; width: 16px; height: 16px; }

.monaco-keybinding { display: flex; align-items: center; line-height: 10px; }

.monaco-keybinding > .monaco-keybinding-key { display: inline-block; border-style: solid; border-width: 1px; border-radius: 3px; vertical-align: middle; font-size: 11px; padding: 3px 5px; margin: 0px 2px; }

.monaco-keybinding > .monaco-keybinding-key:first-child { margin-left: 0px; }

.monaco-keybinding > .monaco-keybinding-key:last-child { margin-right: 0px; }

.monaco-keybinding > .monaco-keybinding-key-separator { display: inline-block; }

.monaco-keybinding > .monaco-keybinding-key-chord-separator { width: 6px; }

.monaco-list { position: relative; height: 100%; width: 100%; white-space: nowrap; }

.monaco-list.mouse-support { user-select: none; }

.monaco-list > .monaco-scrollable-element { height: 100%; }

.monaco-list-rows { position: relative; width: 100%; height: 100%; }

.monaco-list.horizontal-scrolling .monaco-list-rows { width: auto; min-width: 100%; }

.monaco-list-row { position: absolute; box-sizing: border-box; overflow: hidden; width: 100%; }

.monaco-list.mouse-support .monaco-list-row { cursor: pointer; touch-action: none; }

.monaco-list-row.scrolling { display: none !important; }

.monaco-list.element-focused, .monaco-list.selection-multiple, .monaco-list.selection-single { outline: 0px !important; }

.monaco-drag-image { display: inline-block; padding: 1px 7px; border-radius: 10px; font-size: 12px; position: absolute; z-index: 1000; }

.monaco-list-type-filter-message { position: absolute; box-sizing: border-box; width: 100%; height: 100%; top: 0px; left: 0px; padding: 40px 1em 1em; text-align: center; white-space: normal; opacity: 0.7; pointer-events: none; }

.monaco-list-type-filter-message:empty { display: none; }

.monaco-mouse-cursor-text { cursor: text; }

.monaco-progress-container { width: 100%; height: 5px; overflow: hidden; }

.monaco-progress-container .progress-bit { width: 2%; height: 5px; position: absolute; left: 0px; display: none; }

.monaco-progress-container.active .progress-bit { display: inherit; }

.monaco-progress-container.discrete .progress-bit { left: 0px; transition: width 0.1s linear; }

.monaco-progress-container.discrete.done .progress-bit { width: 100%; }

.monaco-progress-container.infinite .progress-bit { animation-name: progress; animation-duration: 4s; animation-iteration-count: infinite; transform: translateZ(0px); animation-timing-function: linear; }

.monaco-progress-container.infinite.infinite-long-running .progress-bit { animation-timing-function: steps(100); }

@keyframes progress { 
  0% { transform: translateX(0px) scaleX(1); }
  50% { transform: translateX(2500%) scaleX(3); }
  100% { transform: translateX(4900%) scaleX(1); }
}

:root { --vscode-sash-size: 4px; }

.monaco-sash { position: absolute; z-index: 35; touch-action: none; }

.monaco-sash.disabled { pointer-events: none; }

.monaco-sash.mac.vertical { cursor: col-resize; }

.monaco-sash.vertical.minimum { cursor: e-resize; }

.monaco-sash.vertical.maximum { cursor: w-resize; }

.monaco-sash.mac.horizontal { cursor: row-resize; }

.monaco-sash.horizontal.minimum { cursor: s-resize; }

.monaco-sash.horizontal.maximum { cursor: n-resize; }

.monaco-sash.disabled { cursor: default !important; pointer-events: none !important; }

.monaco-sash.vertical { cursor: ew-resize; top: 0px; width: var(--vscode-sash-size); height: 100%; }

.monaco-sash.horizontal { cursor: ns-resize; left: 0px; width: 100%; height: var(--vscode-sash-size); }

.monaco-sash:not(.disabled) > .orthogonal-drag-handle { content: " "; height: calc(var(--vscode-sash-size)*2); width: calc(var(--vscode-sash-size)*2); z-index: 100; display: block; cursor: all-scroll; position: absolute; }

.monaco-sash.horizontal.orthogonal-edge-north:not(.disabled) > .orthogonal-drag-handle.start, .monaco-sash.horizontal.orthogonal-edge-south:not(.disabled) > .orthogonal-drag-handle.end { cursor: nwse-resize; }

.monaco-sash.horizontal.orthogonal-edge-north:not(.disabled) > .orthogonal-drag-handle.end, .monaco-sash.horizontal.orthogonal-edge-south:not(.disabled) > .orthogonal-drag-handle.start { cursor: nesw-resize; }

.monaco-sash.vertical > .orthogonal-drag-handle.start { left: calc(var(--vscode-sash-size)*-0.5); top: calc(var(--vscode-sash-size)*-1); }

.monaco-sash.vertical > .orthogonal-drag-handle.end { left: calc(var(--vscode-sash-size)*-0.5); bottom: calc(var(--vscode-sash-size)*-1); }

.monaco-sash.horizontal > .orthogonal-drag-handle.start { top: calc(var(--vscode-sash-size)*-0.5); left: calc(var(--vscode-sash-size)*-1); }

.monaco-sash.horizontal > .orthogonal-drag-handle.end { top: calc(var(--vscode-sash-size)*-0.5); right: calc(var(--vscode-sash-size)*-1); }

.monaco-sash::before { content: ""; pointer-events: none; position: absolute; width: 100%; height: 100%; background: transparent; }

.monaco-workbench:not(.reduce-motion) .monaco-sash::before { transition: background-color 0.1s ease-out; }

.monaco-sash.active::before, .monaco-sash.hover::before { background: var(--vscode-sash-hoverBorder); }

.monaco-sash.vertical::before { width: var(--vscode-sash-hover-size); left: calc(50% - var(--vscode-sash-hover-size)/2); }

.monaco-sash.horizontal::before { height: var(--vscode-sash-hover-size); top: calc(50% - var(--vscode-sash-hover-size)/2); }

.pointer-events-disabled { pointer-events: none !important; }

.monaco-sash.debug { background: rgb(0, 255, 255); }

.monaco-sash.debug.disabled { background: rgba(0, 255, 255, 0.2); }

.monaco-sash.debug:not(.disabled) > .orthogonal-drag-handle { background: red; }

.monaco-scrollable-element > .scrollbar > .scra { cursor: pointer; font-size: 11px !important; }

.monaco-scrollable-element > .visible { opacity: 1; background: transparent; transition: opacity 0.1s linear; z-index: 11; }

.monaco-scrollable-element > .invisible { opacity: 0; pointer-events: none; }

.monaco-scrollable-element > .invisible.fade { transition: opacity 0.8s linear; }

.monaco-scrollable-element > .shadow { position: absolute; display: none; }

.monaco-scrollable-element > .shadow.top { display: block; top: 0px; left: 3px; height: 3px; width: 100%; box-shadow: var(--vscode-scrollbar-shadow) 0 6px 6px -6px inset; }

.monaco-scrollable-element > .shadow.left { display: block; top: 3px; left: 0px; height: 100%; width: 3px; box-shadow: var(--vscode-scrollbar-shadow) 6px 0 6px -6px inset; }

.monaco-scrollable-element > .shadow.top-left-corner { display: block; top: 0px; left: 0px; height: 3px; width: 3px; }

.monaco-scrollable-element > .shadow.top.left { box-shadow: var(--vscode-scrollbar-shadow) 6px 0 6px -6px inset; }

.monaco-scrollable-element > .scrollbar > .slider { background: var(--vscode-scrollbarSlider-background); }

.monaco-scrollable-element > .scrollbar > .slider:hover { background: var(--vscode-scrollbarSlider-hoverBackground); }

.monaco-scrollable-element > .scrollbar > .slider.active { background: var(--vscode-scrollbarSlider-activeBackground); }

.monaco-select-box { width: 100%; cursor: pointer; border-radius: 2px; }

.monaco-select-box-dropdown-container { font-size: 13px; font-weight: 400; text-transform: none; }

.monaco-action-bar .action-item.select-container { cursor: default; }

.monaco-action-bar .action-item .monaco-select-box { cursor: pointer; min-width: 100px; min-height: 18px; padding: 2px 23px 2px 8px; }

.mac .monaco-action-bar .action-item .monaco-select-box { font-size: 11px; border-radius: 5px; }

.monaco-select-box-dropdown-padding { --dropdown-padding-top: 1px; --dropdown-padding-bottom: 1px; }

.hc-black .monaco-select-box-dropdown-padding, .hc-light .monaco-select-box-dropdown-padding { --dropdown-padding-top: 3px; --dropdown-padding-bottom: 4px; }

.monaco-select-box-dropdown-container { display: none; box-sizing: border-box; }

.monaco-select-box-dropdown-container > .select-box-details-pane > .select-box-description-markdown * { margin: 0px; }

.monaco-select-box-dropdown-container > .select-box-details-pane > .select-box-description-markdown a:focus { outline: -webkit-focus-ring-color solid 1px; outline-offset: -1px; }

.monaco-select-box-dropdown-container > .select-box-details-pane > .select-box-description-markdown code { line-height: 15px; font-family: var(--monaco-monospace-font); }

.monaco-select-box-dropdown-container.visible { display: flex; flex-direction: column; text-align: left; width: 1px; overflow: hidden; border-bottom-left-radius: 3px; border-bottom-right-radius: 3px; }

.monaco-select-box-dropdown-container > .select-box-dropdown-list-container { flex: 0 0 auto; align-self: flex-start; padding-top: var(--dropdown-padding-top); padding-bottom: var(--dropdown-padding-bottom); padding-left: 1px; padding-right: 1px; width: 100%; overflow: hidden; box-sizing: border-box; }

.monaco-select-box-dropdown-container > .select-box-details-pane { padding: 5px; }

.hc-black .monaco-select-box-dropdown-container > .select-box-dropdown-list-container { padding-top: var(--dropdown-padding-top); padding-bottom: var(--dropdown-padding-bottom); }

.monaco-select-box-dropdown-container > .select-box-dropdown-list-container .monaco-list .monaco-list-row { cursor: pointer; }

.monaco-select-box-dropdown-container > .select-box-dropdown-list-container .monaco-list .monaco-list-row > .option-text { text-overflow: ellipsis; overflow: hidden; padding-left: 3.5px; white-space: nowrap; float: left; }

.monaco-select-box-dropdown-container > .select-box-dropdown-list-container .monaco-list .monaco-list-row > .option-detail { text-overflow: ellipsis; overflow: hidden; padding-left: 3.5px; white-space: nowrap; float: left; opacity: 0.7; }

.monaco-select-box-dropdown-container > .select-box-dropdown-list-container .monaco-list .monaco-list-row > .option-decorator-right { text-overflow: ellipsis; overflow: hidden; padding-right: 10px; white-space: nowrap; float: right; }

.monaco-select-box-dropdown-container > .select-box-dropdown-list-container .monaco-list .monaco-list-row > .visually-hidden { position: absolute; left: -10000px; top: auto; width: 1px; height: 1px; overflow: hidden; }

.monaco-select-box-dropdown-container > .select-box-dropdown-container-width-control { flex: 1 1 auto; align-self: flex-start; opacity: 0; }

.monaco-select-box-dropdown-container > .select-box-dropdown-container-width-control > .width-control-div { overflow: hidden; max-height: 0px; }

.monaco-select-box-dropdown-container > .select-box-dropdown-container-width-control > .width-control-div > .option-text-width-control { padding-left: 4px; padding-right: 8px; white-space: nowrap; }

.monaco-split-view2 { position: relative; width: 100%; height: 100%; }

.monaco-split-view2 > .sash-container { position: absolute; width: 100%; height: 100%; pointer-events: none; }

.monaco-split-view2 > .sash-container > .monaco-sash { pointer-events: auto; }

.monaco-split-view2 > .monaco-scrollable-element { width: 100%; height: 100%; }

.monaco-split-view2 > .monaco-scrollable-element > .split-view-container { width: 100%; height: 100%; white-space: nowrap; position: relative; }

.monaco-split-view2 > .monaco-scrollable-element > .split-view-container > .split-view-view { white-space: normal; position: absolute; }

.monaco-split-view2 > .monaco-scrollable-element > .split-view-container > .split-view-view:not(.visible) { display: none; }

.monaco-split-view2.vertical > .monaco-scrollable-element > .split-view-container > .split-view-view { width: 100%; }

.monaco-split-view2.horizontal > .monaco-scrollable-element > .split-view-container > .split-view-view { height: 100%; }

.monaco-split-view2.separator-border > .monaco-scrollable-element > .split-view-container > .split-view-view:not(:first-child)::before { content: " "; position: absolute; top: 0px; left: 0px; z-index: 5; pointer-events: none; background-color: var(--separator-border); }

.monaco-split-view2.separator-border.horizontal > .monaco-scrollable-element > .split-view-container > .split-view-view:not(:first-child)::before { height: 100%; width: 1px; }

.monaco-split-view2.separator-border.vertical > .monaco-scrollable-element > .split-view-container > .split-view-view:not(:first-child)::before { height: 1px; width: 100%; }

.monaco-table { display: flex; flex-direction: column; position: relative; height: 100%; width: 100%; white-space: nowrap; overflow: hidden; }

.monaco-table > .monaco-split-view2 { border-bottom: 1px solid transparent; }

.monaco-table > .monaco-list { flex: 1 1 0%; }

.monaco-table-tr { display: flex; height: 100%; }

.monaco-table-th { width: 100%; height: 100%; font-weight: 700; overflow: hidden; text-overflow: ellipsis; }

.monaco-table-td, .monaco-table-th { box-sizing: border-box; flex-shrink: 0; overflow: hidden; white-space: nowrap; text-overflow: ellipsis; }

.monaco-table > .monaco-split-view2 .monaco-sash.vertical::before { content: ""; position: absolute; left: calc(var(--vscode-sash-size)/2); width: 0px; border-left: 1px solid transparent; }

.monaco-workbench:not(.reduce-motion) .monaco-table > .monaco-split-view2, .monaco-workbench:not(.reduce-motion) .monaco-table > .monaco-split-view2 .monaco-sash.vertical::before { transition: border-color 0.2s ease-out; }

.monaco-custom-toggle { margin-left: 2px; float: left; cursor: pointer; overflow: hidden; width: 20px; height: 20px; border-radius: 3px; border: 1px solid transparent; padding: 1px; box-sizing: border-box; user-select: none; }

.monaco-custom-toggle:hover { background-color: var(--vscode-inputOption-hoverBackground); }

.hc-black .monaco-custom-toggle:hover, .hc-light .monaco-custom-toggle:hover { border: 1px dashed var(--vscode-focusBorder); }

.hc-black .monaco-custom-toggle, .hc-black .monaco-custom-toggle:hover, .hc-light .monaco-custom-toggle, .hc-light .monaco-custom-toggle:hover { background: none; }

.monaco-custom-toggle.monaco-checkbox { height: 18px; width: 18px; border: 1px solid transparent; border-radius: 3px; margin-right: 9px; margin-left: 0px; padding: 0px; opacity: 1; background-size: 16px !important; }

.monaco-custom-toggle.monaco-checkbox:not(.checked)::before { visibility: hidden; }

.monaco-toolbar { height: 100%; }

.monaco-toolbar .toolbar-toggle-more { display: inline-block; padding: 0px; }

.monaco-tl-row { display: flex; height: 100%; align-items: center; position: relative; }

.monaco-tl-row.disabled { cursor: default; }

.monaco-tl-indent { height: 100%; position: absolute; top: 0px; left: 16px; pointer-events: none; }

.hide-arrows .monaco-tl-indent { left: 12px; }

.monaco-tl-indent > .indent-guide { display: inline-block; box-sizing: border-box; height: 100%; border-left: 1px solid transparent; }

.monaco-workbench:not(.reduce-motion) .monaco-tl-indent > .indent-guide { transition: border-color 0.1s linear; }

.monaco-tl-contents, .monaco-tl-twistie { height: 100%; }

.monaco-tl-twistie { font-size: 10px; text-align: right; padding-right: 6px; flex-shrink: 0; width: 16px; align-items: center; justify-content: center; transform: translateX(3px); display: flex !important; }

.monaco-tl-contents { flex: 1 1 0%; overflow: hidden; }

.monaco-tl-twistie::before { border-radius: 20px; }

.monaco-tl-twistie.collapsed::before { transform: rotate(-90deg); }

.monaco-tl-twistie.codicon-tree-item-loading::before { animation: 1.25s steps(30) 0s infinite normal none running codicon-spin; }

.monaco-tree-type-filter { position: absolute; top: 0px; display: flex; padding: 3px; max-width: 200px; z-index: 100; margin: 0px 6px; border: 1px solid var(--vscode-widget-border); border-bottom-left-radius: 4px; border-bottom-right-radius: 4px; }

.monaco-workbench:not(.reduce-motion) .monaco-tree-type-filter { transition: top 0.3s; }

.monaco-tree-type-filter.disabled { top: -40px !important; }

.monaco-tree-type-filter-grab { align-items: center; justify-content: center; cursor: grab; margin-right: 2px; display: flex !important; }

.monaco-tree-type-filter-grab.grabbing { cursor: grabbing; }

.monaco-tree-type-filter-input { flex: 1 1 0%; }

.monaco-tree-type-filter-input .monaco-inputbox { height: 23px; }

.monaco-tree-type-filter-input .monaco-inputbox > .ibwrapper > .input, .monaco-tree-type-filter-input .monaco-inputbox > .ibwrapper > .mirror { padding: 2px 4px; }

.monaco-tree-type-filter-input .monaco-findInput > .controls { top: 2px; }

.monaco-tree-type-filter-actionbar { margin-left: 4px; }

.monaco-tree-type-filter-actionbar .monaco-action-bar .action-label { padding: 2px; }

.monaco-editor .inputarea { min-width: 0px; min-height: 0px; margin: 0px; padding: 0px; position: absolute; resize: none; border: none; overflow: hidden; color: transparent; background-color: transparent; z-index: -10; outline: none !important; }

.monaco-editor .inputarea.ime-input { z-index: 10; caret-color: var(--vscode-editorCursor-foreground); color: var(--vscode-editor-foreground); }

.monaco-editor .blockDecorations-container { position: absolute; top: 0px; pointer-events: none; }

.monaco-editor .blockDecorations-block { position: absolute; box-sizing: border-box; }

.monaco-editor .margin-view-overlays .current-line, .monaco-editor .view-overlays .current-line { display: block; position: absolute; left: 0px; top: 0px; box-sizing: border-box; }

.monaco-editor .margin-view-overlays .current-line.current-line-margin.current-line-margin-both { border-right: 0px; }

.monaco-editor .lines-content .cdr { position: absolute; }

.monaco-editor .glyph-margin { position: absolute; top: 0px; }

.monaco-editor .glyph-margin-widgets .cgmr { position: absolute; display: flex; align-items: center; }

.monaco-editor .lines-content .core-guide { position: absolute; box-sizing: border-box; }

.monaco-editor .lines-content .core-guide-indent { box-shadow: 1px 0 0 0 var(--vscode-editorIndentGuide-background) inset; }

.monaco-editor .lines-content .core-guide-indent-active { box-shadow: 1px 0 0 0 var(--vscode-editorIndentGuide-activeBackground,--vscode-editorIndentGuide-background) inset; }

.monaco-editor .margin-view-overlays .line-numbers { font-variant-numeric: tabular-nums; position: absolute; text-align: right; display: inline-block; vertical-align: middle; box-sizing: border-box; cursor: default; height: 100%; }

.monaco-editor .relative-current-line-number { text-align: left; display: inline-block; width: 100%; }

.monaco-editor .margin-view-overlays .line-numbers.lh-odd { margin-top: 1px; }

.monaco-editor .line-numbers { color: var(--vscode-editorLineNumber-foreground); }

.monaco-editor .line-numbers.active-line-number { color: var(--vscode-editorLineNumber-activeForeground); }

.mtkcontrol { color: rgb(255, 255, 255) !important; background: rgb(150, 0, 0) !important; }

.mtkoverflow { background-color: var(--vscode-button-background,--vscode-editor-background); color: var(--vscode-button-foreground,--vscode-editor-foreground); border: 1px solid var(--vscode-contrastBorder); border-radius: 2px; padding: 4px; cursor: pointer; }

.mtkoverflow:hover { background-color: var(--vscode-button-hoverBackground); }

.monaco-editor.no-user-select .lines-content, .monaco-editor.no-user-select .view-line, .monaco-editor.no-user-select .view-lines { user-select: none; }

.monaco-editor.mac .lines-content:hover, .monaco-editor.mac .view-line:hover, .monaco-editor.mac .view-lines:hover { user-select: text; }

.monaco-editor.enable-user-select { user-select: initial; }

.monaco-editor .view-lines { white-space: nowrap; }

.monaco-editor .view-line { position: absolute; width: 100%; }

.monaco-editor .mtkw, .monaco-editor .mtkz { color: var(--vscode-editorWhitespace-foreground) !important; }

.monaco-editor .mtkz { display: inline-block; }

.monaco-editor .lines-decorations { position: absolute; top: 0px; background: rgb(255, 255, 255); }

.monaco-editor .margin-view-overlays .cldr { position: absolute; height: 100%; }

.monaco-editor .margin { background-color: var(--vscode-editorGutter-background); }

.monaco-editor .margin-view-overlays .cmdr { position: absolute; left: 0px; width: 100%; height: 100%; }

.monaco-editor .minimap.slider-mouseover .minimap-slider { opacity: 0; transition: opacity 0.1s linear; }

.monaco-editor .minimap.slider-mouseover .minimap-slider.active, .monaco-editor .minimap.slider-mouseover:hover .minimap-slider { opacity: 1; }

.monaco-editor .minimap-slider .minimap-slider-horizontal { background: var(--vscode-minimapSlider-background); }

.monaco-editor .minimap-slider:hover .minimap-slider-horizontal { background: var(--vscode-minimapSlider-hoverBackground); }

.monaco-editor .minimap-slider.active .minimap-slider-horizontal { background: var(--vscode-minimapSlider-activeBackground); }

.monaco-editor .minimap-shadow-visible { box-shadow: var(--vscode-scrollbar-shadow) -6px 0 6px -6px inset; }

.monaco-editor .minimap-shadow-hidden { position: absolute; width: 0px; }

.monaco-editor .minimap-shadow-visible { position: absolute; left: -6px; width: 6px; }

.monaco-editor.no-minimap-shadow .minimap-shadow-visible { position: absolute; left: -1px; width: 1px; }

.minimap.autohide { opacity: 0; transition: opacity 0.5s; }

.minimap.autohide:hover { opacity: 1; }

.monaco-editor .overlayWidgets { position: absolute; top: 0px; left: 0px; }

.monaco-editor .view-ruler { position: absolute; top: 0px; box-shadow: 1px 0 0 0 var(--vscode-editorRuler-foreground) inset; }

.monaco-editor .scroll-decoration { position: absolute; top: 0px; left: 0px; height: 6px; box-shadow: var(--vscode-scrollbar-shadow) 0 6px 6px -6px inset; }

.monaco-editor .lines-content .cslr { position: absolute; }

.monaco-editor .focused .selected-text { background-color: var(--vscode-editor-selectionBackground); }

.monaco-editor .selected-text { background-color: var(--vscode-editor-inactiveSelectionBackground); }

.monaco-editor .top-left-radius { border-top-left-radius: 3px; }

.monaco-editor .bottom-left-radius { border-bottom-left-radius: 3px; }

.monaco-editor .top-right-radius { border-top-right-radius: 3px; }

.monaco-editor .bottom-right-radius { border-bottom-right-radius: 3px; }

.monaco-editor.hc-black .top-left-radius { border-top-left-radius: 0px; }

.monaco-editor.hc-black .bottom-left-radius { border-bottom-left-radius: 0px; }

.monaco-editor.hc-black .top-right-radius { border-top-right-radius: 0px; }

.monaco-editor.hc-black .bottom-right-radius { border-bottom-right-radius: 0px; }

.monaco-editor.hc-light .top-left-radius { border-top-left-radius: 0px; }

.monaco-editor.hc-light .bottom-left-radius { border-bottom-left-radius: 0px; }

.monaco-editor.hc-light .top-right-radius { border-top-right-radius: 0px; }

.monaco-editor.hc-light .bottom-right-radius { border-bottom-right-radius: 0px; }

.monaco-editor .cursors-layer { position: absolute; top: 0px; }

.monaco-editor .cursors-layer > .cursor { position: absolute; overflow: hidden; box-sizing: border-box; }

.monaco-editor .cursors-layer.cursor-smooth-caret-animation > .cursor { transition: 80ms; }

.monaco-editor .cursors-layer.cursor-block-outline-style > .cursor { border-style: solid; border-width: 1px; background: transparent !important; }

.monaco-editor .cursors-layer.cursor-underline-style > .cursor { border-bottom-width: 2px; border-bottom-style: solid; background: transparent !important; }

.monaco-editor .cursors-layer.cursor-underline-thin-style > .cursor { border-bottom-width: 1px; border-bottom-style: solid; background: transparent !important; }

@keyframes monaco-cursor-smooth { 
  0%, 20% { opacity: 1; }
  60%, 100% { opacity: 0; }
}

@keyframes monaco-cursor-phase { 
  0%, 20% { opacity: 1; }
  90%, 100% { opacity: 0; }
}

@keyframes monaco-cursor-expand { 
  0%, 20% { transform: scaleY(1); }
  80%, 100% { transform: scaleY(0); }
}

.cursor-smooth { animation: 0.5s ease-in-out 0s 20 alternate none running monaco-cursor-smooth; }

.cursor-phase { animation: 0.5s ease-in-out 0s 20 alternate none running monaco-cursor-phase; }

.cursor-expand > .cursor { animation: 0.5s ease-in-out 0s 20 alternate none running monaco-cursor-expand; }

.monaco-editor .mwh { position: absolute; color: var(--vscode-editorWhitespace-foreground) !important; }

.monaco-editor .diff-hidden-lines-widget { width: 100%; }

.monaco-editor .diff-hidden-lines { height: 0px; transform: translateY(-10px); font-size: 13px; line-height: 14px; }

.diff-hidden-lines .bottom.dragging, .diff-hidden-lines .top.dragging, .diff-hidden-lines:not(.dragging) .bottom:hover, .monaco-editor .diff-hidden-lines:not(.dragging) .top:hover { background-color: var(--vscode-focusBorder); }

.diff-hidden-lines .bottom, .monaco-editor .diff-hidden-lines .top { transition: background-color 0.1s ease-out; height: 4px; background-color: transparent; background-clip: padding-box; border-bottom: 2px solid transparent; border-top: 4px solid transparent; cursor: ns-resize; }

.monaco-editor .diff-hidden-lines .top { transform: translateY(4px); }

.monaco-editor .diff-hidden-lines .bottom { transform: translateY(-6px); }

.monaco-editor .diff-unchanged-lines { background: var(--vscode-diffEditor-unchangedCodeBackground); }

.monaco-editor .noModificationsOverlay { z-index: 1; background: var(--vscode-editor-background); display: flex; justify-content: center; align-items: center; }

.monaco-editor .diff-hidden-lines .center { background: var(--vscode-diffEditor-unchangedRegionBackground); color: var(--vscode-diffEditor-unchangedRegionForeground); overflow: hidden; display: block; text-overflow: ellipsis; white-space: nowrap; height: 24px; }

.monaco-editor .diff-hidden-lines .center span.codicon { vertical-align: middle; }

.monaco-editor .diff-hidden-lines .center a:hover .codicon { cursor: pointer; color: var(--vscode-editorLink-activeForeground) !important; }

.monaco-editor .movedModified, .monaco-editor .movedOriginal { border: 2px solid var(--vscode-diffEditor-move-border); }

.monaco-diff-editor .moved-blocks-lines { position: absolute; pointer-events: none; }

.monaco-diff-editor .moved-blocks-lines path { fill: none; stroke: var(--vscode-diffEditor-move-border); stroke-width: 2; }

.monaco-editor .char-delete.diff-range-empty { margin-left: -1px; border-left: 3px solid var(--vscode-diffEditor-removedTextBackground); }

.monaco-editor .char-insert.diff-range-empty { border-left: 3px solid var(--vscode-diffEditor-insertedTextBackground); }

.monaco-editor .fold-unchanged { cursor: pointer; }

.monaco-diff-editor .diffOverview { z-index: 9; }

.monaco-diff-editor .diffOverview .diffViewport { z-index: 10; }

.monaco-diff-editor.vs .diffOverview { background: rgba(0, 0, 0, 0.03); }

.monaco-diff-editor.vs-dark .diffOverview { background: rgba(255, 255, 255, 0.01); }

.monaco-scrollable-element.modified-in-monaco-diff-editor.vs-dark .scrollbar, .monaco-scrollable-element.modified-in-monaco-diff-editor.vs .scrollbar { background: transparent; }

.monaco-scrollable-element.modified-in-monaco-diff-editor.hc-black .scrollbar, .monaco-scrollable-element.modified-in-monaco-diff-editor.hc-light .scrollbar { background: none; }

.monaco-scrollable-element.modified-in-monaco-diff-editor .slider { z-index: 10; }

.modified-in-monaco-diff-editor .slider.active { background: rgba(171, 171, 171, 0.4); }

.modified-in-monaco-diff-editor.hc-black .slider.active, .modified-in-monaco-diff-editor.hc-light .slider.active { background: none; }

.monaco-diff-editor .delete-sign, .monaco-diff-editor .insert-sign, .monaco-editor .delete-sign, .monaco-editor .insert-sign { align-items: center; font-size: 11px !important; opacity: 0.7 !important; display: flex !important; }

.monaco-diff-editor.hc-black .delete-sign, .monaco-diff-editor.hc-black .insert-sign, .monaco-diff-editor.hc-light .delete-sign, .monaco-diff-editor.hc-light .insert-sign, .monaco-editor.hc-black .delete-sign, .monaco-editor.hc-black .insert-sign, .monaco-editor.hc-light .delete-sign, .monaco-editor.hc-light .insert-sign { opacity: 1; }

.monaco-editor .inline-added-margin-view-zone, .monaco-editor .inline-deleted-margin-view-zone { text-align: right; }

.monaco-editor .arrow-revert-change { z-index: 10; position: absolute; }

.monaco-editor .arrow-revert-change:hover { cursor: pointer; }

.monaco-editor .view-zones .view-lines .view-line span { display: inline-block; }

.monaco-editor .margin-view-zones .lightbulb-glyph:hover { cursor: pointer; }

.monaco-diff-editor .char-insert, .monaco-editor .char-insert { background-color: var(--vscode-diffEditor-insertedTextBackground); }

.monaco-diff-editor .line-insert, .monaco-editor .line-insert { background-color: var(--vscode-diffEditor-insertedLineBackground,--vscode-diffEditor-insertedTextBackground); }

.monaco-editor .char-insert, .monaco-editor .line-insert { box-sizing: border-box; border: 1px solid var(--vscode-diffEditor-insertedTextBorder); }

.monaco-editor.hc-black .char-insert, .monaco-editor.hc-black .line-insert, .monaco-editor.hc-light .char-insert, .monaco-editor.hc-light .line-insert { border-style: dashed; }

.monaco-editor .char-delete, .monaco-editor .line-delete { box-sizing: border-box; border: 1px solid var(--vscode-diffEditor-removedTextBorder); }

.monaco-editor.hc-black .char-delete, .monaco-editor.hc-black .line-delete, .monaco-editor.hc-light .char-delete, .monaco-editor.hc-light .line-delete { border-style: dashed; }

.monaco-diff-editor .gutter-insert, .monaco-editor .gutter-insert, .monaco-editor .inline-added-margin-view-zone { background-color: var(--vscode-diffEditorGutter-insertedLineBackground,--vscode-diffEditor-insertedLineBackground,--vscode-diffEditor-insertedTextBackground); }

.monaco-diff-editor .char-delete, .monaco-editor .char-delete { background-color: var(--vscode-diffEditor-removedTextBackground); }

.monaco-diff-editor .line-delete, .monaco-editor .line-delete { background-color: var(--vscode-diffEditor-removedLineBackground,--vscode-diffEditor-removedTextBackground); }

.monaco-diff-editor .gutter-delete, .monaco-editor .gutter-delete, .monaco-editor .inline-deleted-margin-view-zone { background-color: var(--vscode-diffEditorGutter-removedLineBackground,--vscode-diffEditor-removedLineBackground,--vscode-diffEditor-removedTextBackground); }

.monaco-diff-editor.side-by-side .editor.modified { box-shadow: -6px 0 5px -5px var(--vscode-scrollbar-shadow); border-left: 1px solid var(--vscode-diffEditor-border); }

.monaco-diff-editor .diffViewport { background: var(--vscode-scrollbarSlider-background); }

.monaco-diff-editor .diffViewport:hover { background: var(--vscode-scrollbarSlider-hoverBackground); }

.monaco-diff-editor .diffViewport:active { background: var(--vscode-scrollbarSlider-activeBackground); }

.monaco-diff-editor .diff-review-line-number { text-align: right; display: inline-block; color: var(--vscode-editorLineNumber-foreground); }

.monaco-diff-editor .diff-review { position: absolute; user-select: none; z-index: 99; }

.monaco-diff-editor .diff-review-summary { padding-left: 10px; }

.monaco-diff-editor .diff-review-shadow { position: absolute; box-shadow: var(--vscode-scrollbar-shadow) 0 -6px 6px -6px inset; }

.monaco-diff-editor .diff-review-row { white-space: pre; }

.monaco-diff-editor .diff-review-table { display: table; min-width: 100%; }

.monaco-diff-editor .diff-review-row { display: table-row; width: 100%; }

.monaco-diff-editor .diff-review-spacer { display: inline-block; width: 10px; vertical-align: middle; }

.monaco-diff-editor .diff-review-spacer > .codicon { font-size: 9px !important; }

.monaco-diff-editor .diff-review-actions { display: inline-block; position: absolute; right: 10px; top: 2px; z-index: 100; }

.monaco-diff-editor .diff-review-actions .action-label { width: 16px; height: 16px; margin: 2px 0px; }

.monaco-editor .editor-widget input { color: inherit; }

.monaco-editor { position: relative; overflow: visible; text-size-adjust: 100%; color: var(--vscode-editor-foreground); }

.monaco-editor, .monaco-editor-background { background-color: var(--vscode-editor-background); }

.monaco-editor .rangeHighlight { background-color: var(--vscode-editor-rangeHighlightBackground); box-sizing: border-box; border: 1px solid var(--vscode-editor-rangeHighlightBorder); }

.monaco-editor.hc-black .rangeHighlight, .monaco-editor.hc-light .rangeHighlight { border-style: dotted; }

.monaco-editor .symbolHighlight { background-color: var(--vscode-editor-symbolHighlightBackground); box-sizing: border-box; border: 1px solid var(--vscode-editor-symbolHighlightBorder); }

.monaco-editor.hc-black .symbolHighlight, .monaco-editor.hc-light .symbolHighlight { border-style: dotted; }

.monaco-editor .overflow-guard { position: relative; overflow: hidden; }

.monaco-editor .view-overlays { position: absolute; top: 0px; }

.monaco-editor .squiggly-error { border-bottom: 4px double var(--vscode-editorError-border); }

.monaco-editor .squiggly-error::before { display: block; content: ""; width: 100%; height: 100%; background: var(--vscode-editorError-background); }

.monaco-editor .squiggly-warning { border-bottom: 4px double var(--vscode-editorWarning-border); }

.monaco-editor .squiggly-warning::before { display: block; content: ""; width: 100%; height: 100%; background: var(--vscode-editorWarning-background); }

.monaco-editor .squiggly-info { border-bottom: 4px double var(--vscode-editorInfo-border); }

.monaco-editor .squiggly-info::before { display: block; content: ""; width: 100%; height: 100%; background: var(--vscode-editorInfo-background); }

.monaco-editor .squiggly-hint { border-bottom: 2px dotted var(--vscode-editorHint-border); }

.monaco-editor.showUnused .squiggly-unnecessary { border-bottom: 2px dashed var(--vscode-editorUnnecessaryCode-border); }

.monaco-editor.showDeprecated .squiggly-inline-deprecated { text-decoration-line: line-through; text-decoration-thickness: initial; text-decoration-style: initial; text-decoration-color: var(--vscode-editor-foreground,inherit); }

.monaco-editor .selection-anchor { background-color: rgb(0, 122, 204); width: 2px !important; }

.monaco-editor .bracket-match { box-sizing: border-box; background-color: var(--vscode-editorBracketMatch-background); border: 1px solid var(--vscode-editorBracketMatch-border); }

.monaco-editor .lightBulbWidget { display: flex; align-items: center; justify-content: center; }

.monaco-editor .lightBulbWidget:hover { cursor: pointer; }

.monaco-editor .lightBulbWidget.codicon-light-bulb { color: var(--vscode-editorLightBulb-foreground); }

.monaco-editor .lightBulbWidget.codicon-lightbulb-autofix { color: var(--vscode-editorLightBulbAutoFix-foreground,var(--vscode-editorLightBulb-foreground)); }

.monaco-editor .lightBulbWidget::before { position: relative; z-index: 2; }

.monaco-editor .lightBulbWidget::after { position: absolute; top: 0px; left: 0px; content: ""; display: block; width: 100%; height: 100%; opacity: 0.3; background-color: var(--vscode-editor-background); z-index: 1; }

.monaco-editor .codelens-decoration { overflow: hidden; display: inline-block; text-overflow: ellipsis; white-space: nowrap; color: var(--vscode-editorCodeLens-foreground); line-height: var(--vscode-editorCodeLens-lineHeight); font-size: var(--vscode-editorCodeLens-fontSize); padding-right: calc(var(--vscode-editorCodeLens-fontSize)*0.5); font-feature-settings: var(--vscode-editorCodeLens-fontFeatureSettings); font-family: var(--vscode-editorCodeLens-fontFamily),var(--vscode-editorCodeLens-fontFamilyDefault); }

.monaco-editor .codelens-decoration > a, .monaco-editor .codelens-decoration > span { user-select: none; white-space: nowrap; vertical-align: sub; }

.monaco-editor .codelens-decoration > a { text-decoration: none; }

.monaco-editor .codelens-decoration > a:hover { cursor: pointer; }

.monaco-editor .codelens-decoration > a:hover, .monaco-editor .codelens-decoration > a:hover .codicon { color: var(--vscode-editorLink-activeForeground) !important; }

.monaco-editor .codelens-decoration .codicon { vertical-align: middle; line-height: var(--vscode-editorCodeLens-lineHeight); font-size: var(--vscode-editorCodeLens-fontSize); color: currentcolor !important; }

.monaco-editor .codelens-decoration > a:hover .codicon::before { cursor: pointer; }

@keyframes fadein { 
  0% { opacity: 0; visibility: visible; }
  100% { opacity: 1; }
}

.monaco-editor .codelens-decoration.fadein { animation: 0.1s linear 0s 1 normal none running fadein; }

.colorpicker-widget { height: 190px; user-select: none; }

.colorpicker-color-decoration, .hc-light .colorpicker-color-decoration { border: 0.1em solid rgb(0, 0, 0); box-sizing: border-box; margin: 0.1em 0.2em 0px; width: 0.8em; height: 0.8em; line-height: 0.8em; display: inline-block; cursor: pointer; }

.hc-black .colorpicker-color-decoration, .vs-dark .colorpicker-color-decoration { border: 0.1em solid rgb(238, 238, 238); }

.colorpicker-header { display: flex; height: 24px; position: relative; background: url("data:image/png;base64,iVBORw0KGgoAAAANSUhEUgAAAAQAAAAECAYAAACp8Z5+AAAAAXNSR0IArs4c6QAAAARnQU1BAACxjwv8YQUAAAAJcEhZcwAADsMAAA7DAcdvqGQAAAAZdEVYdFNvZnR3YXJlAHBhaW50Lm5ldCA0LjAuMTZEaa/1AAAAHUlEQVQYV2PYvXu3JAi7uLiAMaYAjAGTQBPYLQkAa/0Zef3qRswAAAAASUVORK5CYII=") 0% 0% / 9px 9px; image-rendering: pixelated; }

.colorpicker-header .picked-color { width: 240px; display: flex; align-items: center; justify-content: center; line-height: 24px; cursor: pointer; color: rgb(255, 255, 255); flex: 1 1 0%; }

.colorpicker-header .picked-color .codicon { color: inherit; font-size: 14px; position: absolute; left: 8px; }

.colorpicker-header .picked-color.light { color: rgb(0, 0, 0); }

.colorpicker-header .original-color { width: 74px; z-index: inherit; cursor: pointer; }

.standalone-colorpicker { color: var(--vscode-editorHoverWidget-foreground); background-color: var(--vscode-editorHoverWidget-background); border: 1px solid var(--vscode-editorHoverWidget-border); }

.colorpicker-header.standalone-colorpicker { border-bottom: none; }

.colorpicker-header .close-button { cursor: pointer; background-color: var(--vscode-editorHoverWidget-background); border-left: 1px solid var(--vscode-editorHoverWidget-border); }

.colorpicker-header .close-button-inner-div { width: 100%; height: 100%; text-align: center; }

.colorpicker-header .close-button-inner-div:hover { background-color: var(--vscode-toolbar-hoverBackground); }

.colorpicker-header .close-icon { padding: 3px; }

.colorpicker-body { display: flex; padding: 8px; position: relative; }

.colorpicker-body .saturation-wrap { overflow: hidden; height: 150px; position: relative; min-width: 220px; flex: 1 1 0%; }

.colorpicker-body .saturation-box { height: 150px; position: absolute; }

.colorpicker-body .saturation-selection { width: 9px; height: 9px; margin: -5px 0px 0px -5px; border: 1px solid rgb(255, 255, 255); border-radius: 100%; box-shadow: rgba(0, 0, 0, 0.8) 0px 0px 2px; position: absolute; }

.colorpicker-body .strip { width: 25px; height: 150px; }

.colorpicker-body .standalone-strip { width: 25px; height: 122px; }

.colorpicker-body .hue-strip { position: relative; margin-left: 8px; cursor: grab; background: linear-gradient(red 0px, rgb(255, 255, 0) 17%, rgb(0, 255, 0) 33%, rgb(0, 255, 255) 50%, rgb(0, 0, 255) 67%, rgb(255, 0, 255) 83%, red); }

.colorpicker-body .opacity-strip { position: relative; margin-left: 8px; cursor: grab; background: url("data:image/png;base64,iVBORw0KGgoAAAANSUhEUgAAAAQAAAAECAYAAACp8Z5+AAAAAXNSR0IArs4c6QAAAARnQU1BAACxjwv8YQUAAAAJcEhZcwAADsMAAA7DAcdvqGQAAAAZdEVYdFNvZnR3YXJlAHBhaW50Lm5ldCA0LjAuMTZEaa/1AAAAHUlEQVQYV2PYvXu3JAi7uLiAMaYAjAGTQBPYLQkAa/0Zef3qRswAAAAASUVORK5CYII=") 0% 0% / 9px 9px; image-rendering: pixelated; }

.colorpicker-body .strip.grabbing { cursor: grabbing; }

.colorpicker-body .slider { position: absolute; top: 0px; left: -2px; width: calc(100% + 4px); height: 4px; box-sizing: border-box; border: 1px solid rgba(255, 255, 255, 0.71); box-shadow: rgba(0, 0, 0, 0.85) 0px 0px 1px; }

.colorpicker-body .strip .overlay { height: 150px; pointer-events: none; }

.colorpicker-body .standalone-strip .standalone-overlay { height: 122px; pointer-events: none; }

.standalone-colorpicker-body { display: block; border-top: 1px solid transparent; border-right: 1px solid transparent; border-left: 1px solid transparent; border-image: initial; border-bottom: 1px solid var(--vscode-editorHoverWidget-border); overflow: hidden; }

.colorpicker-body .insert-button { position: absolute; height: 20px; width: 58px; padding: 0px; right: 8px; bottom: 8px; background: var(--vscode-button-background); color: var(--vscode-button-foreground); border-radius: 2px; border: none; cursor: pointer; }

.colorpicker-body .insert-button:hover { background: var(--vscode-button-hoverBackground); }

.monaco-editor.hc-light .dnd-target, .monaco-editor.vs .dnd-target { border-right: 2px dotted rgb(0, 0, 0); color: rgb(255, 255, 255); }

.monaco-editor.vs-dark .dnd-target { border-right: 2px dotted rgb(174, 175, 173); color: rgb(81, 80, 79); }

.monaco-editor.hc-black .dnd-target { border-right: 2px dotted rgb(255, 255, 255); color: rgb(0, 0, 0); }

.monaco-editor.hc-black.mac.mouse-default .view-lines, .monaco-editor.hc-light.mac.mouse-default .view-lines, .monaco-editor.mouse-default .view-lines, .monaco-editor.vs-dark.mac.mouse-default .view-lines { cursor: default; }

.monaco-editor.hc-black.mac.mouse-copy .view-lines, .monaco-editor.hc-light.mac.mouse-copy .view-lines, .monaco-editor.mouse-copy .view-lines, .monaco-editor.vs-dark.mac.mouse-copy .view-lines { cursor: copy; }

.post-edit-widget { box-shadow: 0 0 8px 2px var(--vscode-widget-shadow); border: 1px solid var(--vscode-widget-border,transparent); border-radius: 4px; background-color: var(--vscode-editorWidget-background); overflow: hidden; }

.post-edit-widget .monaco-button { padding: 2px; border: none; border-radius: 0px; }

.post-edit-widget .monaco-button:hover { background-color: var(--vscode-button-secondaryHoverBackground) !important; }

.post-edit-widget .monaco-button .codicon { margin: 0px; }

.monaco-editor .findOptionsWidget { background-color: var(--vscode-editorWidget-background); color: var(--vscode-editorWidget-foreground); box-shadow: 0 0 8px 2px var(--vscode-widget-shadow); border: 2px solid var(--vscode-contrastBorder); }

.monaco-editor .find-widget { position: absolute; z-index: 35; height: 33px; overflow: hidden; line-height: 19px; transition: transform 0.2s linear; padding: 0px 4px; box-sizing: border-box; transform: translateY(calc(-100% - 10px)); border-bottom-left-radius: 4px; border-bottom-right-radius: 4px; }

.monaco-workbench.reduce-motion .monaco-editor .find-widget { transition: transform linear; }

.monaco-editor .find-widget textarea { margin: 0px; }

.monaco-editor .find-widget.hiddenEditor { display: none; }

.monaco-editor .find-widget.replaceToggled > .replace-part { display: flex; }

.monaco-editor .find-widget.visible { transform: translateY(0px); }

.monaco-editor .find-widget .monaco-inputbox.synthetic-focus { outline: -webkit-focus-ring-color solid 1px; outline-offset: -1px; }

.monaco-editor .find-widget .monaco-inputbox .input { background-color: transparent; min-height: 0px; }

.monaco-editor .find-widget .monaco-findInput .input { font-size: 13px; }

.monaco-editor .find-widget > .find-part, .monaco-editor .find-widget > .replace-part { margin: 3px 25px 0px 17px; font-size: 12px; display: flex; }

.monaco-editor .find-widget > .find-part .monaco-inputbox, .monaco-editor .find-widget > .replace-part .monaco-inputbox { min-height: 25px; }

.monaco-editor .find-widget > .replace-part .monaco-inputbox > .ibwrapper > .mirror { padding-right: 22px; }

.monaco-editor .find-widget > .find-part .monaco-inputbox > .ibwrapper > .input, .monaco-editor .find-widget > .find-part .monaco-inputbox > .ibwrapper > .mirror, .monaco-editor .find-widget > .replace-part .monaco-inputbox > .ibwrapper > .input, .monaco-editor .find-widget > .replace-part .monaco-inputbox > .ibwrapper > .mirror { padding-top: 2px; padding-bottom: 2px; }

.monaco-editor .find-widget > .find-part .find-actions, .monaco-editor .find-widget > .replace-part .replace-actions { height: 25px; display: flex; align-items: center; }

.monaco-editor .find-widget .monaco-findInput { vertical-align: middle; display: flex; flex: 1 1 0%; }

.monaco-editor .find-widget .monaco-findInput .monaco-scrollable-element { width: 100%; }

.monaco-editor .find-widget .monaco-findInput .monaco-scrollable-element .scrollbar.vertical { opacity: 0; }

.monaco-editor .find-widget .matchesCount { display: flex; flex: initial; margin: 0px 0px 0px 3px; padding: 2px 0px 0px 2px; height: 25px; vertical-align: middle; box-sizing: border-box; text-align: center; line-height: 23px; }

.monaco-editor .find-widget .button { width: 16px; height: 16px; padding: 3px; border-radius: 5px; flex: initial; margin-left: 3px; background-position: 50% center; background-repeat: no-repeat; cursor: pointer; display: flex; align-items: center; justify-content: center; }

.monaco-editor .find-widget .codicon-find-selection { width: 22px; height: 22px; padding: 3px; border-radius: 5px; }

.monaco-editor .find-widget .button.left { margin-left: 0px; margin-right: 3px; }

.monaco-editor .find-widget .button.wide { width: auto; padding: 1px 6px; top: -1px; }

.monaco-editor .find-widget .button.toggle { position: absolute; top: 0px; left: 3px; width: 18px; height: 100%; border-radius: 0px; box-sizing: border-box; }

.monaco-editor .find-widget .button.toggle.disabled { display: none; }

.monaco-editor .find-widget .disabled { color: var(--vscode-disabledForeground); cursor: default; }

.monaco-editor .find-widget > .replace-part { display: none; }

.monaco-editor .find-widget > .replace-part > .monaco-findInput { position: relative; display: flex; vertical-align: middle; flex: 0 0 auto; }

.monaco-editor .find-widget > .replace-part > .monaco-findInput > .controls { position: absolute; top: 3px; right: 2px; }

.monaco-editor .find-widget.reduced-find-widget .matchesCount { display: none; }

.monaco-editor .find-widget.narrow-find-widget { max-width: 257px !important; }

.monaco-editor .find-widget.collapsed-find-widget { max-width: 170px !important; }

.monaco-editor .find-widget.collapsed-find-widget .button.next, .monaco-editor .find-widget.collapsed-find-widget .button.previous, .monaco-editor .find-widget.collapsed-find-widget .button.replace, .monaco-editor .find-widget.collapsed-find-widget .button.replace-all, .monaco-editor .find-widget.collapsed-find-widget > .find-part .monaco-findInput .controls { display: none; }

.monaco-editor .findMatch { animation-name: inherit !important; }

.monaco-editor .find-widget .monaco-sash { left: 0px !important; }

.monaco-editor.hc-black .find-widget .button::before { position: relative; top: 1px; left: 2px; }

.monaco-editor .find-widget > .button.codicon-widget-close { position: absolute; top: 5px; right: 4px; }

.monaco-editor .margin-view-overlays .codicon-folding-collapsed, .monaco-editor .margin-view-overlays .codicon-folding-expanded, .monaco-editor .margin-view-overlays .codicon-folding-manual-collapsed, .monaco-editor .margin-view-overlays .codicon-folding-manual-expanded { cursor: pointer; opacity: 0; transition: opacity 0.5s; display: flex; align-items: center; justify-content: center; font-size: 140%; margin-left: 2px; }

.monaco-workbench.reduce-motion .monaco-editor .margin-view-overlays .codicon-folding-collapsed, .monaco-workbench.reduce-motion .monaco-editor .margin-view-overlays .codicon-folding-expanded, .monaco-workbench.reduce-motion .monaco-editor .margin-view-overlays .codicon-folding-manual-collapsed, .monaco-workbench.reduce-motion .monaco-editor .margin-view-overlays .codicon-folding-manual-expanded { transition: initial; }

.monaco-editor .margin-view-overlays .codicon.alwaysShowFoldIcons, .monaco-editor .margin-view-overlays .codicon.codicon-folding-collapsed, .monaco-editor .margin-view-overlays .codicon.codicon-folding-manual-collapsed, .monaco-editor .margin-view-overlays:hover .codicon { opacity: 1; }

.monaco-editor .inline-folded::after { color: grey; margin: 0.1em 0.2em 0px; content: "⋯"; display: inline; line-height: 1em; cursor: pointer; }

.monaco-editor .folded-background { background-color: var(--vscode-editor-foldBackground); }

.monaco-editor .cldr.codicon.codicon-folding-collapsed, .monaco-editor .cldr.codicon.codicon-folding-expanded, .monaco-editor .cldr.codicon.codicon-folding-manual-collapsed, .monaco-editor .cldr.codicon.codicon-folding-manual-expanded { color: var(--vscode-editorGutter-foldingControlForeground) !important; }

.monaco-editor .peekview-widget .head .peekview-title .severity-icon { display: inline-block; vertical-align: text-top; margin-right: 4px; }

.monaco-editor .marker-widget { text-overflow: ellipsis; white-space: nowrap; }

.monaco-editor .marker-widget > .stale { opacity: 0.6; font-style: italic; }

.monaco-editor .marker-widget .title { display: inline-block; padding-right: 5px; }

.monaco-editor .marker-widget .descriptioncontainer { position: absolute; white-space: pre; user-select: text; padding: 8px 12px 0px 20px; }

.monaco-editor .marker-widget .descriptioncontainer .message { display: flex; flex-direction: column; }

.monaco-editor .marker-widget .descriptioncontainer .message .details { padding-left: 6px; }

.monaco-editor .marker-widget .descriptioncontainer .message .source, .monaco-editor .marker-widget .descriptioncontainer .message span.code { opacity: 0.6; }

.monaco-editor .marker-widget .descriptioncontainer .message a.code-link { opacity: 0.6; color: inherit; }

.monaco-editor .marker-widget .descriptioncontainer .message a.code-link::before { content: "("; }

.monaco-editor .marker-widget .descriptioncontainer .message a.code-link::after { content: ")"; }

.monaco-editor .marker-widget .descriptioncontainer .message a.code-link > span { text-decoration: underline; border-bottom: 1px solid transparent; text-underline-position: under; color: var(--vscode-textLink-activeForeground); }

.monaco-editor .marker-widget .descriptioncontainer .filename { cursor: pointer; }

.monaco-editor .goto-definition-link { text-decoration: underline; cursor: pointer; color: var(--vscode-editorLink-activeForeground) !important; }

.monaco-editor .zone-widget .zone-widget-container.reference-zone-widget { border-top-width: 1px; border-bottom-width: 1px; }

.monaco-editor .reference-zone-widget .inline { display: inline-block; vertical-align: top; }

.monaco-editor .reference-zone-widget .messages { height: 100%; width: 100%; text-align: center; padding: 3em 0px; }

.monaco-editor .reference-zone-widget .ref-tree { line-height: 23px; background-color: var(--vscode-peekViewResult-background); color: var(--vscode-peekViewResult-lineForeground); }

.monaco-editor .reference-zone-widget .ref-tree .reference { text-overflow: ellipsis; overflow: hidden; }

.monaco-editor .reference-zone-widget .ref-tree .reference-file { display: inline-flex; width: 100%; height: 100%; color: var(--vscode-peekViewResult-fileForeground); }

.monaco-editor .reference-zone-widget .ref-tree .monaco-list:focus .selected .reference-file { color: inherit !important; }

.monaco-editor .reference-zone-widget .ref-tree .monaco-list:focus .monaco-list-rows > .monaco-list-row.selected:not(.highlighted) { background-color: var(--vscode-peekViewResult-selectionBackground); color: var(--vscode-peekViewResult-selectionForeground) !important; }

.monaco-editor .reference-zone-widget .ref-tree .reference-file .count { margin-right: 12px; margin-left: auto; }

.monaco-editor .reference-zone-widget .ref-tree .referenceMatch .highlight { background-color: var(--vscode-peekViewResult-matchHighlightBackground); }

.monaco-editor .reference-zone-widget .preview .reference-decoration { background-color: var(--vscode-peekViewEditor-matchHighlightBackground); border: 2px solid var(--vscode-peekViewEditor-matchHighlightBorder); box-sizing: border-box; }

.monaco-editor .reference-zone-widget .preview .monaco-editor .inputarea.ime-input, .monaco-editor .reference-zone-widget .preview .monaco-editor .monaco-editor-background { background-color: var(--vscode-peekViewEditor-background); }

.monaco-editor .reference-zone-widget .preview .monaco-editor .margin { background-color: var(--vscode-peekViewEditorGutter-background); }

.monaco-editor.hc-black .reference-zone-widget .ref-tree .reference-file, .monaco-editor.hc-light .reference-zone-widget .ref-tree .reference-file { font-weight: 700; }

.monaco-editor.hc-black .reference-zone-widget .ref-tree .referenceMatch .highlight, .monaco-editor.hc-light .reference-zone-widget .ref-tree .referenceMatch .highlight { border: 1px dotted var(--vscode-contrastActiveBorder,transparent); box-sizing: border-box; }

.monaco-editor .hoverHighlight { background-color: var(--vscode-editor-hoverHighlightBackground); }

.monaco-editor .monaco-hover { color: var(--vscode-editorHoverWidget-foreground); background-color: var(--vscode-editorHoverWidget-background); border: 1px solid var(--vscode-editorHoverWidget-border); border-radius: 3px; }

.monaco-editor .monaco-hover a { color: var(--vscode-textLink-foreground); }

.monaco-editor .monaco-hover a:hover { color: var(--vscode-textLink-activeForeground); }

.monaco-editor .monaco-hover .hover-row .actions { background-color: var(--vscode-editorHoverWidget-statusBarBackground); }

.monaco-editor .monaco-hover code { background-color: var(--vscode-textCodeBlock-background); }

.monaco-editor.vs .valueSetReplacement { outline: solid 2px var(--vscode-editorBracketMatch-border); }

.monaco-editor .suggest-preview-additional-widget { white-space: nowrap; }

.monaco-editor .suggest-preview-additional-widget .content-spacer { color: transparent; white-space: pre; }

.monaco-editor .suggest-preview-additional-widget .button { display: inline-block; cursor: pointer; text-decoration: underline; text-underline-position: under; }

.monaco-editor .ghost-text-hidden { opacity: 0; font-size: 0px; }

.monaco-editor .ghost-text-decoration, .monaco-editor .suggest-preview-text .ghost-text { font-style: italic; }

.monaco-editor .inline-completion-text-to-replace { text-decoration: underline; text-underline-position: under; }

.monaco-editor .ghost-text-decoration, .monaco-editor .ghost-text-decoration-preview, .monaco-editor .suggest-preview-text .ghost-text { background-color: var(--vscode-editorGhostText-background); border: 1px solid var(--vscode-editorGhostText-border); color: var(--vscode-editorGhostText-foreground) !important; }

.monaco-editor .inlineSuggestionsHints.withBorder { z-index: 39; color: var(--vscode-editorHoverWidget-foreground); background-color: var(--vscode-editorHoverWidget-background); border: 1px solid var(--vscode-editorHoverWidget-border); }

.monaco-editor .inlineSuggestionsHints a, .monaco-editor .inlineSuggestionsHints a:hover { color: var(--vscode-foreground); }

.monaco-editor .inlineSuggestionsHints .keybinding { display: flex; margin-left: 4px; opacity: 0.6; }

.monaco-editor .inlineSuggestionsHints .keybinding .monaco-keybinding-key { font-size: 8px; padding: 2px 3px; }

.monaco-editor .inlineSuggestionsHints .custom-actions .action-item:nth-child(2) a { display: flex; min-width: 19px; justify-content: center; }

.monaco-editor .inlineSuggestionStatusBarItemLabel { margin-right: 2px; }

.inline-editor-progress-decoration { display: inline-block; width: 1em; height: 1em; }

.inline-progress-widget { justify-content: center; align-items: center; display: flex !important; }

.inline-progress-widget .icon { font-size: 80% !important; }

.inline-progress-widget:hover .icon { animation: auto ease 0s 1 normal none running none; font-size: 90% !important; }

.inline-progress-widget:hover .icon::before { content: ""; }

.monaco-editor .linked-editing-decoration { background-color: var(--vscode-editor-linkedEditingBackground); min-width: 1px; }

.monaco-editor .detected-link, .monaco-editor .detected-link-active { text-decoration: underline; text-underline-position: under; }

.monaco-editor .detected-link-active { cursor: pointer; color: var(--vscode-editorLink-activeForeground) !important; }

.monaco-editor .rendered-markdown kbd { background-color: var(--vscode-keybindingLabel-background); color: var(--vscode-keybindingLabel-foreground); border-radius: 3px; border-top-color: ; border-top-style: ; border-top-width: ; border-right-color: ; border-right-style: ; border-right-width: ; border-bottom-style: ; border-bottom-width: ; border-left-color: ; border-left-style: ; border-left-width: ; border-image-source: ; border-image-slice: ; border-image-width: ; border-image-outset: ; border-image-repeat: ; border-bottom-color: var(--vscode-keybindingLabel-bottomBorder); box-shadow: inset 0 -1px 0 var(--vscode-widget-shadow); vertical-align: middle; padding: 1px 3px; }

.monaco-editor .monaco-editor-overlaymessage { padding-bottom: 8px; z-index: 10000; }

.monaco-editor .monaco-editor-overlaymessage.below { padding-bottom: 0px; padding-top: 8px; z-index: 10000; }

@keyframes fadeIn { 
  0% { opacity: 0; }
  100% { opacity: 1; }
}

.monaco-editor .monaco-editor-overlaymessage.fadeIn { animation: 0.15s ease-out 0s 1 normal none running fadeIn; }

@keyframes fadeOut { 
  0% { opacity: 1; }
  100% { opacity: 0; }
}

.monaco-editor .monaco-editor-overlaymessage.fadeOut { animation: 0.1s ease-out 0s 1 normal none running fadeOut; }

.monaco-editor .monaco-editor-overlaymessage .message { padding: 2px 4px; color: var(--vscode-editorHoverWidget-foreground); background-color: var(--vscode-editorHoverWidget-background); border: 1px solid var(--vscode-inputValidation-infoBorder); border-radius: 3px; }

.monaco-editor .monaco-editor-overlaymessage .message p { margin-block: 0px; }

.monaco-editor .monaco-editor-overlaymessage .message a { color: var(--vscode-textLink-foreground); }

.monaco-editor .monaco-editor-overlaymessage .message a:hover { color: var(--vscode-textLink-activeForeground); }

.monaco-editor.hc-black .monaco-editor-overlaymessage .message, .monaco-editor.hc-light .monaco-editor-overlaymessage .message { border-width: 2px; }

.monaco-editor .monaco-editor-overlaymessage .anchor { z-index: 1000; border: 8px solid transparent; position: absolute; left: 2px; width: 0px !important; height: 0px !important; }

.monaco-editor .monaco-editor-overlaymessage .anchor.top { border-bottom-color: var(--vscode-inputValidation-infoBorder); }

.monaco-editor .monaco-editor-overlaymessage .anchor.below { border-top-color: var(--vscode-inputValidation-infoBorder); }

.monaco-editor .monaco-editor-overlaymessage.below .anchor.below, .monaco-editor .monaco-editor-overlaymessage:not(.below) .anchor.top { display: none; }

.monaco-editor .monaco-editor-overlaymessage.below .anchor.top { display: inherit; top: -8px; }

.monaco-editor .parameter-hints-widget { z-index: 39; display: flex; flex-direction: column; line-height: 1.5em; cursor: default; color: var(--vscode-editorHoverWidget-foreground); background-color: var(--vscode-editorHoverWidget-background); border: 1px solid var(--vscode-editorHoverWidget-border); }

.hc-black .monaco-editor .parameter-hints-widget, .hc-light .monaco-editor .parameter-hints-widget { border-width: 2px; }

.monaco-editor .parameter-hints-widget > .phwrapper { max-width: 440px; display: flex; flex-direction: row; }

.monaco-editor .parameter-hints-widget.multiple { min-height: 3.3em; padding: 0px; }

.monaco-editor .parameter-hints-widget.multiple .body::before { content: ""; display: block; height: 100%; position: absolute; opacity: 0.5; border-left: 1px solid var(--vscode-editorHoverWidget-border); }

.monaco-editor .parameter-hints-widget p, .monaco-editor .parameter-hints-widget ul { margin: 8px 0px; }

.monaco-editor .parameter-hints-widget .body, .monaco-editor .parameter-hints-widget .monaco-scrollable-element { display: flex; flex: 1 1 0%; flex-direction: column; min-height: 100%; }

.monaco-editor .parameter-hints-widget .signature { padding: 4px 5px; position: relative; }

.monaco-editor .parameter-hints-widget .signature.has-docs::after { content: ""; display: block; position: absolute; left: 0px; width: 100%; padding-top: 4px; opacity: 0.5; border-bottom: 1px solid var(--vscode-editorHoverWidget-border); }

.monaco-editor .parameter-hints-widget .docs { padding: 0px 10px 0px 5px; white-space: pre-wrap; }

.monaco-editor .parameter-hints-widget .docs.empty { display: none; }

.monaco-editor .parameter-hints-widget .docs a { color: var(--vscode-textLink-foreground); }

.monaco-editor .parameter-hints-widget .docs a:hover { color: var(--vscode-textLink-activeForeground); cursor: pointer; }

.monaco-editor .parameter-hints-widget .docs .markdown-docs { white-space: normal; }

.monaco-editor .parameter-hints-widget .docs code { font-family: var(--monaco-monospace-font); border-radius: 3px; padding: 0px 0.4em; background-color: var(--vscode-textCodeBlock-background); }

.monaco-editor .parameter-hints-widget .docs .code, .monaco-editor .parameter-hints-widget .docs .monaco-tokenized-source { white-space: pre-wrap; }

.monaco-editor .parameter-hints-widget .controls { display: none; flex-direction: column; align-items: center; min-width: 22px; justify-content: flex-end; }

.monaco-editor .parameter-hints-widget.multiple .controls { display: flex; padding: 0px 2px; }

.monaco-editor .parameter-hints-widget.multiple .button { width: 16px; height: 16px; background-repeat: no-repeat; cursor: pointer; }

.monaco-editor .parameter-hints-widget .button.previous { bottom: 24px; }

.monaco-editor .parameter-hints-widget .overloads { text-align: center; height: 12px; line-height: 12px; font-family: var(--monaco-monospace-font); }

.monaco-editor .parameter-hints-widget .signature .parameter.active { color: var(--vscode-editorHoverWidget-highlightForeground); font-weight: 700; }

.monaco-editor .parameter-hints-widget .documentation-parameter > .parameter { font-weight: 700; margin-right: 0.5em; }

.monaco-editor .peekview-widget .head { box-sizing: border-box; display: flex; justify-content: space-between; flex-wrap: nowrap; }

.monaco-editor .peekview-widget .head .peekview-title { display: flex; align-items: baseline; font-size: 13px; margin-left: 20px; min-width: 0px; text-overflow: ellipsis; overflow: hidden; }

.monaco-editor .peekview-widget .head .peekview-title.clickable { cursor: pointer; }

.monaco-editor .peekview-widget .head .peekview-title .dirname:not(:empty) { font-size: 0.9em; margin-left: 0.5em; }

.monaco-editor .peekview-widget .head .peekview-title .dirname, .monaco-editor .peekview-widget .head .peekview-title .filename, .monaco-editor .peekview-widget .head .peekview-title .meta { white-space: nowrap; overflow: hidden; text-overflow: ellipsis; }

.monaco-editor .peekview-widget .head .peekview-title .meta:not(:empty)::before { content: "-"; padding: 0px 0.3em; }

.monaco-editor .peekview-widget .head .peekview-actions { flex: 1 1 0%; text-align: right; padding-right: 2px; }

.monaco-editor .peekview-widget .head .peekview-actions > .monaco-action-bar { display: inline-block; }

.monaco-editor .peekview-widget .head .peekview-actions > .monaco-action-bar, .monaco-editor .peekview-widget .head .peekview-actions > .monaco-action-bar > .actions-container { height: 100%; }

.monaco-editor .peekview-widget > .body { border-top: 1px solid; position: relative; }

.monaco-editor .peekview-widget .head .peekview-title .codicon { margin-right: 4px; align-self: center; }

.monaco-editor .peekview-widget .monaco-list .monaco-list-row.focused .codicon { color: inherit !important; }

.monaco-editor .rename-box { z-index: 100; color: inherit; border-radius: 4px; }

.monaco-editor .rename-box.preview { padding: 4px 4px 0px; }

.monaco-editor .rename-box .rename-input { padding: 3px; border-radius: 2px; }

.monaco-editor .rename-box .rename-label { display: none; opacity: 0.8; }

.monaco-editor .rename-box.preview .rename-label { display: inherit; }

.monaco-editor .snippet-placeholder { min-width: 2px; outline-style: solid; outline-width: 1px; background-color: var(--vscode-editor-snippetTabstopHighlightBackground,transparent); outline-color: var(--vscode-editor-snippetTabstopHighlightBorder,transparent); }

.monaco-editor .finish-snippet-placeholder { outline-style: solid; outline-width: 1px; background-color: var(--vscode-editor-snippetFinalTabstopHighlightBackground,transparent); outline-color: var(--vscode-editor-snippetFinalTabstopHighlightBorder,transparent); }

.monaco-editor .sticky-line { color: var(--vscode-editorLineNumber-foreground); overflow: hidden; white-space: nowrap; display: inline-block; }

.monaco-editor .sticky-line-number { text-align: right; float: left; }

.monaco-editor .sticky-line-root { background-color: inherit; overflow: hidden; white-space: nowrap; width: 100%; }

.monaco-editor.hc-black .sticky-widget, .monaco-editor.hc-light .sticky-widget { border-bottom: 1px solid var(--vscode-contrastBorder); }

.monaco-editor .sticky-line-root:hover { background-color: var(--vscode-editorStickyScrollHover-background); cursor: pointer; }

.monaco-editor .sticky-widget { width: 100%; box-shadow: var(--vscode-scrollbar-shadow) 0 3px 2px -2px; z-index: 4; background-color: var(--vscode-editorStickyScroll-background); }

.monaco-editor .sticky-widget.peek { background-color: var(--vscode-peekViewEditorStickyScroll-background); }

.monaco-editor .suggest-widget { width: 430px; z-index: 40; display: flex; flex-direction: column; border-radius: 3px; }

.monaco-editor .suggest-widget.message { flex-direction: row; align-items: center; }

.monaco-editor .suggest-details, .monaco-editor .suggest-widget { flex: 0 1 auto; width: 100%; border: 1px solid var(--vscode-editorSuggestWidget-border); background-color: var(--vscode-editorSuggestWidget-background); }

.monaco-editor.hc-black .suggest-details, .monaco-editor.hc-black .suggest-widget, .monaco-editor.hc-light .suggest-details, .monaco-editor.hc-light .suggest-widget { border-width: 2px; }

.monaco-editor .suggest-widget .suggest-status-bar { box-sizing: border-box; display: none; flex-flow: row; justify-content: space-between; width: 100%; font-size: 80%; padding: 0px 4px; border-top: 1px solid var(--vscode-editorSuggestWidget-border); overflow: hidden; }

.monaco-editor .suggest-widget.with-status-bar .suggest-status-bar { display: flex; }

.monaco-editor .suggest-widget .suggest-status-bar .left { padding-right: 8px; }

.monaco-editor .suggest-widget.with-status-bar .suggest-status-bar .action-label { color: var(--vscode-editorSuggestWidgetStatus-foreground); }

.monaco-editor .suggest-widget.with-status-bar .suggest-status-bar .action-item:not(:last-of-type) .action-label { margin-right: 0px; }

.monaco-editor .suggest-widget.with-status-bar .suggest-status-bar .action-item:not(:last-of-type) .action-label::after { content: ", "; margin-right: 0.3em; }

.monaco-editor .suggest-widget.with-status-bar .monaco-list .monaco-list-row.focused.string-label > .contents > .main > .right > .readMore, .monaco-editor .suggest-widget.with-status-bar .monaco-list .monaco-list-row > .contents > .main > .right > .readMore { display: none; }

.monaco-editor .suggest-widget.with-status-bar:not(.docs-side) .monaco-list .monaco-list-row:hover > .contents > .main > .right.can-expand-details > .details-label { width: 100%; }

.monaco-editor .suggest-widget > .message { padding-left: 22px; }

.monaco-editor .suggest-widget > .tree { height: 100%; width: 100%; }

.monaco-editor .suggest-widget .monaco-list { user-select: none; }

.monaco-editor .suggest-widget .monaco-list .monaco-list-row { display: flex; box-sizing: border-box; padding-right: 10px; background-repeat: no-repeat; background-position: 2px 2px; white-space: nowrap; cursor: pointer; touch-action: none; }

.monaco-editor .suggest-widget .monaco-list .monaco-list-row.focused { color: var(--vscode-editorSuggestWidget-selectedForeground); }

.monaco-editor .suggest-widget .monaco-list .monaco-list-row.focused .codicon { color: var(--vscode-editorSuggestWidget-selectedIconForeground); }

.monaco-editor .suggest-widget .monaco-list .monaco-list-row > .contents { flex: 1 1 0%; height: 100%; overflow: hidden; padding-left: 2px; }

.monaco-editor .suggest-widget .monaco-list .monaco-list-row > .contents > .main { display: flex; overflow: hidden; text-overflow: ellipsis; white-space: pre; justify-content: space-between; }

.monaco-editor .suggest-widget .monaco-list .monaco-list-row > .contents > .main > .left, .monaco-editor .suggest-widget .monaco-list .monaco-list-row > .contents > .main > .right { display: flex; }

.monaco-editor .suggest-widget .monaco-list .monaco-list-row:not(.focused) > .contents > .main .monaco-icon-label { color: var(--vscode-editorSuggestWidget-foreground); }

.monaco-editor .suggest-widget:not(.frozen) .monaco-highlighted-label .highlight { font-weight: 700; }

.monaco-editor .suggest-widget .monaco-list .monaco-list-row > .contents > .main .monaco-highlighted-label .highlight { color: var(--vscode-editorSuggestWidget-highlightForeground); }

.monaco-editor .suggest-widget .monaco-list .monaco-list-row.focused > .contents > .main .monaco-highlighted-label .highlight { color: var(--vscode-editorSuggestWidget-focusHighlightForeground); }

.monaco-editor .suggest-details > .monaco-scrollable-element > .body > .header > .codicon-close, .monaco-editor .suggest-widget .monaco-list .monaco-list-row > .contents > .main > .right > .readMore::before { color: inherit; opacity: 1; font-size: 14px; cursor: pointer; }

.monaco-editor .suggest-details > .monaco-scrollable-element > .body > .header > .codicon-close { position: absolute; top: 6px; right: 2px; }

.monaco-editor .suggest-details > .monaco-scrollable-element > .body > .header > .codicon-close:hover, .monaco-editor .suggest-widget .monaco-list .monaco-list-row > .contents > .main > .right > .readMore:hover { opacity: 1; }

.monaco-editor .suggest-widget .monaco-list .monaco-list-row > .contents > .main > .right > .details-label { opacity: 0.7; }

.monaco-editor .suggest-widget .monaco-list .monaco-list-row > .contents > .main > .left > .signature-label { overflow: hidden; text-overflow: ellipsis; opacity: 0.6; }

.monaco-editor .suggest-widget .monaco-list .monaco-list-row > .contents > .main > .left > .qualifier-label { margin-left: 12px; opacity: 0.4; font-size: 85%; line-height: normal; text-overflow: ellipsis; overflow: hidden; align-self: center; }

.monaco-editor .suggest-widget .monaco-list .monaco-list-row > .contents > .main > .right > .details-label { font-size: 85%; margin-left: 1.1em; overflow: hidden; text-overflow: ellipsis; white-space: nowrap; }

.monaco-editor .suggest-widget .monaco-list .monaco-list-row > .contents > .main > .right > .details-label > .monaco-tokenized-source { display: inline; }

.monaco-editor .suggest-widget .monaco-list .monaco-list-row > .contents > .main > .right > .details-label { display: none; }

.monaco-editor .suggest-widget.docs-side .monaco-list .monaco-list-row.focused:not(.string-label) > .contents > .main > .right > .details-label, .monaco-editor .suggest-widget .monaco-list .monaco-list-row:not(.string-label) > .contents > .main > .right > .details-label, .monaco-editor .suggest-widget:not(.shows-details) .monaco-list .monaco-list-row.focused > .contents > .main > .right > .details-label { display: inline; }

.monaco-editor .suggest-widget:not(.docs-side) .monaco-list .monaco-list-row.focused:hover > .contents > .main > .right.can-expand-details > .details-label { width: calc(100% - 26px); }

.monaco-editor .suggest-widget .monaco-list .monaco-list-row > .contents > .main > .left { flex-shrink: 1; flex-grow: 1; overflow: hidden; }

.monaco-editor .suggest-widget .monaco-list .monaco-list-row > .contents > .main > .left > .monaco-icon-label { flex-shrink: 0; }

.monaco-editor .suggest-widget .monaco-list .monaco-list-row:not(.string-label) > .contents > .main > .left > .monaco-icon-label { max-width: 100%; }

.monaco-editor .suggest-widget .monaco-list .monaco-list-row.string-label > .contents > .main > .left > .monaco-icon-label { flex-shrink: 1; }

.monaco-editor .suggest-widget .monaco-list .monaco-list-row > .contents > .main > .right { overflow: hidden; flex-shrink: 4; max-width: 70%; }

.monaco-editor .suggest-widget .monaco-list .monaco-list-row > .contents > .main > .right > .readMore { display: inline-block; position: absolute; right: 10px; width: 18px; height: 18px; visibility: hidden; }

.monaco-editor .suggest-widget.docs-side .monaco-list .monaco-list-row > .contents > .main > .right > .readMore { display: none !important; }

.monaco-editor .suggest-widget .monaco-list .monaco-list-row.string-label > .contents > .main > .right > .readMore { display: none; }

.monaco-editor .suggest-widget .monaco-list .monaco-list-row.focused.string-label > .contents > .main > .right > .readMore { display: inline-block; }

.monaco-editor .suggest-widget .monaco-list .monaco-list-row.focused:hover > .contents > .main > .right > .readMore { visibility: visible; }

.monaco-editor .suggest-widget .monaco-list .monaco-list-row .monaco-icon-label.deprecated { opacity: 0.66; text-decoration: unset; }

.monaco-editor .suggest-widget .monaco-list .monaco-list-row .monaco-icon-label.deprecated > .monaco-icon-label-container > .monaco-icon-name-container { text-decoration: line-through; }

.monaco-editor .suggest-widget .monaco-list .monaco-list-row .monaco-icon-label::before { height: 100%; }

.monaco-editor .suggest-widget .monaco-list .monaco-list-row .icon { display: block; height: 16px; width: 16px; margin-left: 2px; background-repeat: no-repeat; background-size: 80%; background-position: 50% center; }

.monaco-editor .suggest-widget .monaco-list .monaco-list-row .icon.hide { display: none; }

.monaco-editor .suggest-widget .monaco-list .monaco-list-row .suggest-icon { display: flex; align-items: center; margin-right: 4px; }

.monaco-editor .suggest-widget.no-icons .monaco-list .monaco-list-row .icon, .monaco-editor .suggest-widget.no-icons .monaco-list .monaco-list-row .suggest-icon::before { display: none; }

.monaco-editor .suggest-widget .monaco-list .monaco-list-row .icon.customcolor .colorspan { margin: 0px 0px 0px 0.3em; border: 0.1em solid rgb(0, 0, 0); width: 0.7em; height: 0.7em; display: inline-block; }

.monaco-editor .suggest-details-container { z-index: 41; }

.monaco-editor .suggest-details { display: flex; flex-direction: column; cursor: default; color: var(--vscode-editorSuggestWidget-foreground); }

.monaco-editor .suggest-details.focused { border-color: var(--vscode-focusBorder); }

.monaco-editor .suggest-details a { color: var(--vscode-textLink-foreground); }

.monaco-editor .suggest-details a:hover { color: var(--vscode-textLink-activeForeground); }

.monaco-editor .suggest-details code { background-color: var(--vscode-textCodeBlock-background); }

.monaco-editor .suggest-details.no-docs { display: none; }

.monaco-editor .suggest-details > .monaco-scrollable-element { flex: 1 1 0%; }

.monaco-editor .suggest-details > .monaco-scrollable-element > .body { box-sizing: border-box; height: 100%; width: 100%; }

.monaco-editor .suggest-details > .monaco-scrollable-element > .body > .header > .type { flex: 2 1 0%; overflow: hidden; text-overflow: ellipsis; opacity: 0.7; white-space: pre; margin: 0px 24px 0px 0px; padding: 4px 0px 12px 5px; }

.monaco-editor .suggest-details > .monaco-scrollable-element > .body > .header > .type.auto-wrap { white-space: normal; word-break: break-all; }

.monaco-editor .suggest-details > .monaco-scrollable-element > .body > .docs { margin: 0px; padding: 4px 5px; white-space: pre-wrap; }

.monaco-editor .suggest-details.no-type > .monaco-scrollable-element > .body > .docs { margin-right: 24px; overflow: hidden; }

.monaco-editor .suggest-details > .monaco-scrollable-element > .body > .docs.markdown-docs { padding: 0px; white-space: normal; min-height: calc(8px + 1rem); }

.monaco-editor .suggest-details > .monaco-scrollable-element > .body > .docs.markdown-docs > div, .monaco-editor .suggest-details > .monaco-scrollable-element > .body > .docs.markdown-docs > span:not(:empty) { padding: 4px 5px; }

.monaco-editor .suggest-details > .monaco-scrollable-element > .body > .docs.markdown-docs > div > p:first-child { margin-top: 0px; }

.monaco-editor .suggest-details > .monaco-scrollable-element > .body > .docs.markdown-docs > div > p:last-child { margin-bottom: 0px; }

.monaco-editor .suggest-details > .monaco-scrollable-element > .body > .docs.markdown-docs .monaco-tokenized-source { white-space: pre; }

.monaco-editor .suggest-details > .monaco-scrollable-element > .body > .docs .code { white-space: pre-wrap; overflow-wrap: break-word; }

.monaco-editor .suggest-details > .monaco-scrollable-element > .body > .docs.markdown-docs .codicon { vertical-align: sub; }

.monaco-editor .suggest-details > .monaco-scrollable-element > .body > p:empty { display: none; }

.monaco-editor .suggest-details code { border-radius: 3px; padding: 0px 0.4em; }

.monaco-editor .suggest-details ol, .monaco-editor .suggest-details ul { padding-left: 20px; }

.monaco-editor .suggest-details p code { font-family: var(--monaco-monospace-font); }

.monaco-editor .codicon.codicon-symbol-array, .monaco-workbench .codicon.codicon-symbol-array { color: var(--vscode-symbolIcon-arrayForeground); }

.monaco-editor .codicon.codicon-symbol-boolean, .monaco-workbench .codicon.codicon-symbol-boolean { color: var(--vscode-symbolIcon-booleanForeground); }

.monaco-editor .codicon.codicon-symbol-class, .monaco-workbench .codicon.codicon-symbol-class { color: var(--vscode-symbolIcon-classForeground); }

.monaco-editor .codicon.codicon-symbol-method, .monaco-workbench .codicon.codicon-symbol-method { color: var(--vscode-symbolIcon-methodForeground); }

.monaco-editor .codicon.codicon-symbol-color, .monaco-workbench .codicon.codicon-symbol-color { color: var(--vscode-symbolIcon-colorForeground); }

.monaco-editor .codicon.codicon-symbol-constant, .monaco-workbench .codicon.codicon-symbol-constant { color: var(--vscode-symbolIcon-constantForeground); }

.monaco-editor .codicon.codicon-symbol-constructor, .monaco-workbench .codicon.codicon-symbol-constructor { color: var(--vscode-symbolIcon-constructorForeground); }

.monaco-editor .codicon.codicon-symbol-enum, .monaco-editor .codicon.codicon-symbol-value, .monaco-workbench .codicon.codicon-symbol-enum, .monaco-workbench .codicon.codicon-symbol-value { color: var(--vscode-symbolIcon-enumeratorForeground); }

.monaco-editor .codicon.codicon-symbol-enum-member, .monaco-workbench .codicon.codicon-symbol-enum-member { color: var(--vscode-symbolIcon-enumeratorMemberForeground); }

.monaco-editor .codicon.codicon-symbol-event, .monaco-workbench .codicon.codicon-symbol-event { color: var(--vscode-symbolIcon-eventForeground); }

.monaco-editor .codicon.codicon-symbol-field, .monaco-workbench .codicon.codicon-symbol-field { color: var(--vscode-symbolIcon-fieldForeground); }

.monaco-editor .codicon.codicon-symbol-file, .monaco-workbench .codicon.codicon-symbol-file { color: var(--vscode-symbolIcon-fileForeground); }

.monaco-editor .codicon.codicon-symbol-folder, .monaco-workbench .codicon.codicon-symbol-folder { color: var(--vscode-symbolIcon-folderForeground); }

.monaco-editor .codicon.codicon-symbol-function, .monaco-workbench .codicon.codicon-symbol-function { color: var(--vscode-symbolIcon-functionForeground); }

.monaco-editor .codicon.codicon-symbol-interface, .monaco-workbench .codicon.codicon-symbol-interface { color: var(--vscode-symbolIcon-interfaceForeground); }

.monaco-editor .codicon.codicon-symbol-key, .monaco-workbench .codicon.codicon-symbol-key { color: var(--vscode-symbolIcon-keyForeground); }

.monaco-editor .codicon.codicon-symbol-keyword, .monaco-workbench .codicon.codicon-symbol-keyword { color: var(--vscode-symbolIcon-keywordForeground); }

.monaco-editor .codicon.codicon-symbol-module, .monaco-workbench .codicon.codicon-symbol-module { color: var(--vscode-symbolIcon-moduleForeground); }

.monaco-editor .codicon.codicon-symbol-namespace, .monaco-workbench .codicon.codicon-symbol-namespace { color: var(--vscode-symbolIcon-namespaceForeground); }

.monaco-editor .codicon.codicon-symbol-null, .monaco-workbench .codicon.codicon-symbol-null { color: var(--vscode-symbolIcon-nullForeground); }

.monaco-editor .codicon.codicon-symbol-number, .monaco-workbench .codicon.codicon-symbol-number { color: var(--vscode-symbolIcon-numberForeground); }

.monaco-editor .codicon.codicon-symbol-object, .monaco-workbench .codicon.codicon-symbol-object { color: var(--vscode-symbolIcon-objectForeground); }

.monaco-editor .codicon.codicon-symbol-operator, .monaco-workbench .codicon.codicon-symbol-operator { color: var(--vscode-symbolIcon-operatorForeground); }

.monaco-editor .codicon.codicon-symbol-package, .monaco-workbench .codicon.codicon-symbol-package { color: var(--vscode-symbolIcon-packageForeground); }

.monaco-editor .codicon.codicon-symbol-property, .monaco-workbench .codicon.codicon-symbol-property { color: var(--vscode-symbolIcon-propertyForeground); }

.monaco-editor .codicon.codicon-symbol-reference, .monaco-workbench .codicon.codicon-symbol-reference { color: var(--vscode-symbolIcon-referenceForeground); }

.monaco-editor .codicon.codicon-symbol-snippet, .monaco-workbench .codicon.codicon-symbol-snippet { color: var(--vscode-symbolIcon-snippetForeground); }

.monaco-editor .codicon.codicon-symbol-string, .monaco-workbench .codicon.codicon-symbol-string { color: var(--vscode-symbolIcon-stringForeground); }

.monaco-editor .codicon.codicon-symbol-struct, .monaco-workbench .codicon.codicon-symbol-struct { color: var(--vscode-symbolIcon-structForeground); }

.monaco-editor .codicon.codicon-symbol-text, .monaco-workbench .codicon.codicon-symbol-text { color: var(--vscode-symbolIcon-textForeground); }

.monaco-editor .codicon.codicon-symbol-type-parameter, .monaco-workbench .codicon.codicon-symbol-type-parameter { color: var(--vscode-symbolIcon-typeParameterForeground); }

.monaco-editor .codicon.codicon-symbol-unit, .monaco-workbench .codicon.codicon-symbol-unit { color: var(--vscode-symbolIcon-unitForeground); }

.monaco-editor .codicon.codicon-symbol-variable, .monaco-workbench .codicon.codicon-symbol-variable { color: var(--vscode-symbolIcon-variableForeground); }

.editor-banner { box-sizing: border-box; cursor: default; width: 100%; font-size: 12px; display: flex; overflow: visible; height: 26px; background: var(--vscode-banner-background); }

.editor-banner .icon-container { display: flex; flex-shrink: 0; align-items: center; padding: 0px 6px 0px 10px; }

.editor-banner .icon-container.custom-icon { background-repeat: no-repeat; background-position: 50% center; background-size: 16px; width: 16px; padding: 0px; margin: 0px 6px 0px 10px; }

.editor-banner .message-container { display: flex; align-items: center; line-height: 26px; text-overflow: ellipsis; white-space: nowrap; overflow: hidden; }

.editor-banner .message-container p { margin-block: 0px; }

.editor-banner .message-actions-container { flex-grow: 1; flex-shrink: 0; line-height: 26px; margin: 0px 4px; }

.editor-banner .message-actions-container a.monaco-button { width: inherit; margin: 2px 8px; padding: 0px 12px; }

.editor-banner .message-actions-container a { padding: 3px; margin-left: 12px; text-decoration: underline; }

.editor-banner .action-container { padding: 0px 10px 0px 6px; }

.editor-banner { background-color: var(--vscode-banner-background); }

.editor-banner, .editor-banner .action-container .codicon, .editor-banner .message-actions-container .monaco-link { color: var(--vscode-banner-foreground); }

.editor-banner .icon-container .codicon { color: var(--vscode-banner-iconForeground); }

.monaco-editor .unicode-highlight { border: 1px solid var(--vscode-editorUnicodeHighlight-border); background-color: var(--vscode-editorUnicodeHighlight-background); box-sizing: border-box; }

.monaco-editor .focused .selectionHighlight { background-color: var(--vscode-editor-selectionHighlightBackground); box-sizing: border-box; border: 1px solid var(--vscode-editor-selectionHighlightBorder); }

.monaco-editor.hc-black .focused .selectionHighlight, .monaco-editor.hc-light .focused .selectionHighlight { border-style: dotted; }

.monaco-editor .wordHighlight { background-color: var(--vscode-editor-wordHighlightBackground); box-sizing: border-box; border: 1px solid var(--vscode-editor-wordHighlightBorder); }

.monaco-editor.hc-black .wordHighlight, .monaco-editor.hc-light .wordHighlight { border-style: dotted; }

.monaco-editor .wordHighlightStrong { background-color: var(--vscode-editor-wordHighlightStrongBackground); box-sizing: border-box; border: 1px solid var(--vscode-editor-wordHighlightStrongBorder); }

.monaco-editor.hc-black .wordHighlightStrong, .monaco-editor.hc-light .wordHighlightStrong { border-style: dotted; }

.monaco-editor .wordHighlightText { background-color: var(--vscode-editor-wordHighlightTextBackground); box-sizing: border-box; border: 1px solid var(--vscode-editor-wordHighlightTextBorder); }

.monaco-editor.hc-black .wordHighlightText, .monaco-editor.hc-light .wordHighlightText { border-style: dotted; }

.monaco-editor .zone-widget { position: absolute; z-index: 10; }

.monaco-editor .zone-widget .zone-widget-container { border-top-style: solid; border-bottom-style: solid; border-top-width: 0px; border-bottom-width: 0px; position: relative; }

.monaco-editor .iPadShowKeyboard { width: 58px; min-width: 0px; height: 36px; min-height: 0px; margin: 0px; padding: 0px; position: absolute; resize: none; overflow: hidden; background: url("data:image/svg+xml;base64,PHN2ZyB3aWR0aD0iNTMiIGhlaWdodD0iMzYiIGZpbGw9Im5vbmUiIHhtbG5zPSJodHRwOi8vd3d3LnczLm9yZy8yMDAwL3N2ZyI+PGcgY2xpcC1wYXRoPSJ1cmwoI2NsaXAwKSI+PHBhdGggZmlsbC1ydWxlPSJldmVub2RkIiBjbGlwLXJ1bGU9ImV2ZW5vZGQiIGQ9Ik00OC4wMzYgNC4wMUg0LjAwOFYzMi4wM2g0NC4wMjhWNC4wMXpNNC4wMDguMDA4QTQuMDAzIDQuMDAzIDAgMDAuMDA1IDQuMDFWMzIuMDNhNC4wMDMgNC4wMDMgMCAwMDQuMDAzIDQuMDAyaDQ0LjAyOGE0LjAwMyA0LjAwMyAwIDAwNC4wMDMtNC4wMDJWNC4wMUE0LjAwMyA0LjAwMyAwIDAwNDguMDM2LjAwOEg0LjAwOHpNOC4wMSA4LjAxM2g0LjAwM3Y0LjAwM0g4LjAxVjguMDEzem0xMi4wMDggMGgtNC4wMDJ2NC4wMDNoNC4wMDJWOC4wMTN6bTQuMDAzIDBoNC4wMDJ2NC4wMDNoLTQuMDAyVjguMDEzem0xMi4wMDggMGgtNC4wMDN2NC4wMDNoNC4wMDNWOC4wMTN6bTQuMDAyIDBoNC4wMDN2NC4wMDNINDAuMDNWOC4wMTN6bS0yNC4wMTUgOC4wMDVIOC4wMXY0LjAwM2g4LjAwNnYtNC4wMDN6bTQuMDAyIDBoNC4wMDN2NC4wMDNoLTQuMDAzdi00LjAwM3ptMTIuMDA4IDBoLTQuMDAzdjQuMDAzaDQuMDAzdi00LjAwM3ptMTIuMDA4IDB2NC4wMDNoLTguMDA1di00LjAwM2g4LjAwNXptLTMyLjAyMSA4LjAwNUg4LjAxdjQuMDAzaDQuMDAzdi00LjAwM3ptNC4wMDMgMGgyMC4wMTN2NC4wMDNIMTYuMDE2di00LjAwM3ptMjguMDE4IDBINDAuMDN2NC4wMDNoNC4wMDN2LTQuMDAzeiIgZmlsbD0iIzQyNDI0MiIvPjwvZz48ZGVmcz48Y2xpcFBhdGggaWQ9ImNsaXAwIj48cGF0aCBmaWxsPSIjZmZmIiBkPSJNMCAwaDUzdjM2SDB6Ii8+PC9jbGlwUGF0aD48L2RlZnM+PC9zdmc+") 50% center no-repeat; border: 4px solid rgb(246, 246, 246); border-radius: 4px; }

.monaco-editor.vs-dark .iPadShowKeyboard { background: url("data:image/svg+xml;base64,PHN2ZyB3aWR0aD0iNTMiIGhlaWdodD0iMzYiIGZpbGw9Im5vbmUiIHhtbG5zPSJodHRwOi8vd3d3LnczLm9yZy8yMDAwL3N2ZyI+PGcgY2xpcC1wYXRoPSJ1cmwoI2NsaXAwKSI+PHBhdGggZmlsbC1ydWxlPSJldmVub2RkIiBjbGlwLXJ1bGU9ImV2ZW5vZGQiIGQ9Ik00OC4wMzYgNC4wMUg0LjAwOFYzMi4wM2g0NC4wMjhWNC4wMXpNNC4wMDguMDA4QTQuMDAzIDQuMDAzIDAgMDAuMDA1IDQuMDFWMzIuMDNhNC4wMDMgNC4wMDMgMCAwMDQuMDAzIDQuMDAyaDQ0LjAyOGE0LjAwMyA0LjAwMyAwIDAwNC4wMDMtNC4wMDJWNC4wMUE0LjAwMyA0LjAwMyAwIDAwNDguMDM2LjAwOEg0LjAwOHpNOC4wMSA4LjAxM2g0LjAwM3Y0LjAwM0g4LjAxVjguMDEzem0xMi4wMDggMGgtNC4wMDJ2NC4wMDNoNC4wMDJWOC4wMTN6bTQuMDAzIDBoNC4wMDJ2NC4wMDNoLTQuMDAyVjguMDEzem0xMi4wMDggMGgtNC4wMDN2NC4wMDNoNC4wMDNWOC4wMTN6bTQuMDAyIDBoNC4wMDN2NC4wMDNINDAuMDNWOC4wMTN6bS0yNC4wMTUgOC4wMDVIOC4wMXY0LjAwM2g4LjAwNnYtNC4wMDN6bTQuMDAyIDBoNC4wMDN2NC4wMDNoLTQuMDAzdi00LjAwM3ptMTIuMDA4IDBoLTQuMDAzdjQuMDAzaDQuMDAzdi00LjAwM3ptMTIuMDA4IDB2NC4wMDNoLTguMDA1di00LjAwM2g4LjAwNXptLTMyLjAyMSA4LjAwNUg4LjAxdjQuMDAzaDQuMDAzdi00LjAwM3ptNC4wMDMgMGgyMC4wMTN2NC4wMDNIMTYuMDE2di00LjAwM3ptMjguMDE4IDBINDAuMDN2NC4wMDNoNC4wMDN2LTQuMDAzeiIgZmlsbD0iI0M1QzVDNSIvPjwvZz48ZGVmcz48Y2xpcFBhdGggaWQ9ImNsaXAwIj48cGF0aCBmaWxsPSIjZmZmIiBkPSJNMCAwaDUzdjM2SDB6Ii8+PC9jbGlwUGF0aD48L2RlZnM+PC9zdmc+") 50% center no-repeat; border: 4px solid rgb(37, 37, 38); }

.monaco-editor .tokens-inspect-widget { z-index: 50; user-select: text; padding: 10px; color: var(--vscode-editorHoverWidget-foreground); background-color: var(--vscode-editorHoverWidget-background); border: 1px solid var(--vscode-editorHoverWidget-border); }

.monaco-editor.hc-black .tokens-inspect-widget, .monaco-editor.hc-light .tokens-inspect-widget { border-width: 2px; }

.monaco-editor .tokens-inspect-widget .tokens-inspect-separator { height: 1px; border: 0px; background-color: var(--vscode-editorHoverWidget-border); }

.monaco-editor .tokens-inspect-widget .tm-token { font-family: var(--monaco-monospace-font); }

.monaco-editor .tokens-inspect-widget .tm-token-length { font-weight: 400; font-size: 60%; float: right; }

.monaco-editor .tokens-inspect-widget .tm-metadata-table { width: 100%; }

.monaco-editor .tokens-inspect-widget .tm-metadata-value { font-family: var(--monaco-monospace-font); text-align: right; }

.monaco-editor .tokens-inspect-widget .tm-token-type { font-family: var(--monaco-monospace-font); }

.quick-input-widget { font-size: 13px; }

.quick-input-widget .monaco-highlighted-label .highlight { color: rgb(0, 102, 191); }

.vs .quick-input-widget .monaco-list-row.focused .monaco-highlighted-label .highlight { color: rgb(157, 221, 255); }

.vs-dark .quick-input-widget .monaco-highlighted-label .highlight { color: rgb(0, 151, 251); }

.hc-black .quick-input-widget .monaco-highlighted-label .highlight { color: rgb(243, 133, 24); }

.hc-light .quick-input-widget .monaco-highlighted-label .highlight { color: rgb(15, 74, 133); }

.monaco-keybinding > .monaco-keybinding-key { background-color: rgba(221, 221, 221, 0.4); border-width: 1px; border-style: solid; border-color: rgba(204, 204, 204, 0.4) rgba(204, 204, 204, 0.4) rgba(187, 187, 187, 0.4); border-image: initial; box-shadow: rgba(187, 187, 187, 0.4) 0px -1px 0px inset; color: rgb(85, 85, 85); }

.hc-black .monaco-keybinding > .monaco-keybinding-key { background-color: transparent; border: 1px solid rgb(111, 195, 223); box-shadow: none; color: rgb(255, 255, 255); }

.hc-light .monaco-keybinding > .monaco-keybinding-key { background-color: transparent; border: 1px solid rgb(15, 74, 133); box-shadow: none; color: rgb(41, 41, 41); }

.vs-dark .monaco-keybinding > .monaco-keybinding-key { background-color: rgba(128, 128, 128, 0.17); border-width: 1px; border-style: solid; border-color: rgba(51, 51, 51, 0.6) rgba(51, 51, 51, 0.6) rgba(68, 68, 68, 0.6); border-image: initial; box-shadow: rgba(68, 68, 68, 0.6) 0px -1px 0px inset; color: rgb(204, 204, 204); }

.monaco-editor { font-family: -apple-system, BlinkMacSystemFont, "Segoe WPC", "Segoe UI", HelveticaNeue-Light, system-ui, Ubuntu, "Droid Sans", sans-serif; --monaco-monospace-font: "SF Mono",Monaco,Menlo,Consolas,"Ubuntu Mono","Liberation Mono","DejaVu Sans Mono","Courier New",monospace; }

.monaco-editor.hc-black .monaco-menu .monaco-action-bar.vertical .action-menu-item:focus .action-label, .monaco-editor.hc-light .monaco-menu .monaco-action-bar.vertical .action-menu-item:focus .action-label, .monaco-editor.vs-dark .monaco-menu .monaco-action-bar.vertical .action-menu-item:focus .action-label, .monaco-menu .monaco-action-bar.vertical .action-item .action-menu-item:focus .action-label { stroke-width: 1.2px; }

.monaco-hover p { margin: 0px; }

.monaco-aria-container { top: 0px; height: 1px; width: 1px; margin: -1px; overflow: hidden; padding: 0px; clip: rect(1px, 1px, 1px, 1px); clip-path: inset(50%); position: absolute !important; }

.action-widget { font-size: 13px; border-radius: 0px; min-width: 160px; max-width: 500px; z-index: 40; display: block; width: 100%; background-color: var(--vscode-editorWidget-background); color: var(--vscode-editorWidget-foreground); border: 1px solid var(--vscode-editorWidget-border) !important; }

.context-view-block { z-index: -1; }

.context-view-block, .context-view-pointerBlock { position: fixed; cursor: auto; left: 0px; top: 0px; width: 100%; height: 100%; }

.context-view-pointerBlock { z-index: 2; }

.action-widget .monaco-list { user-select: none; border: 0px !important; }

.action-widget .monaco-list:focus::before { outline: 0px !important; }

.action-widget .monaco-list .monaco-scrollable-element { overflow: visible; }

.action-widget .monaco-list .monaco-list-row { padding: 0px 10px; white-space: nowrap; cursor: pointer; touch-action: none; width: 100%; }

.action-widget .monaco-list .monaco-list-row.action.focused:not(.option-disabled) { color: var(--vscode-quickInputList-focusForeground); outline: 1px solid var(--vscode-menu-selectionBorder,transparent); outline-offset: -1px; background-color: var(--vscode-quickInputList-focusBackground) !important; }

.action-widget .monaco-list-row.group-header { color: var(--vscode-pickerGroup-foreground) !important; font-weight: 600; }

.action-widget .monaco-list .group-header, .action-widget .monaco-list .option-disabled, .action-widget .monaco-list .option-disabled .focused, .action-widget .monaco-list .option-disabled .focused::before, .action-widget .monaco-list .option-disabled::before { user-select: none; cursor: default !important; background-color: transparent !important; outline: solid 0px !important; }

.action-widget .monaco-list-row.action { display: flex; gap: 6px; align-items: center; }

.action-widget .monaco-list-row.action.option-disabled { color: var(--vscode-disabledForeground); }

.action-widget .monaco-list-row.action.option-disabled .codicon { opacity: 0.4; }

.action-widget .monaco-list-row.action:not(.option-disabled) .codicon { color: inherit; }

.action-widget .monaco-list-row.action .title { flex: 1 1 0%; overflow: hidden; text-overflow: ellipsis; }

.action-widget .action-widget-action-bar { background-color: var(--vscode-editorHoverWidget-statusBarBackground); border-top: 1px solid var(--vscode-editorHoverWidget-border); }

.action-widget .action-widget-action-bar::before { display: block; content: ""; width: 100%; }

.action-widget .action-widget-action-bar .actions-container { padding: 0px 8px; }

.action-widget-action-bar .action-label { color: var(--vscode-textLink-activeForeground); font-size: 12px; line-height: 22px; padding: 0px; pointer-events: all; }

.action-widget-action-bar .action-item { margin-right: 16px; pointer-events: none; }

.action-widget-action-bar .action-label:hover { background-color: transparent !important; }

.monaco-action-bar .action-item.menu-entry .action-label.icon { width: 16px; height: 16px; background-repeat: no-repeat; background-position: 50% center; background-size: 16px; }

.monaco-dropdown-with-default { flex-direction: row; border-radius: 5px; display: flex !important; }

.monaco-dropdown-with-default > .action-container > .action-label { margin-right: 0px; }

.monaco-dropdown-with-default > .action-container.menu-entry > .action-label.icon { width: 16px; height: 16px; background-repeat: no-repeat; background-position: 50% center; background-size: 16px; }

.monaco-dropdown-with-default > .dropdown-action-container > .monaco-dropdown > .dropdown-label .codicon[class*="codicon-"] { font-size: 12px; padding-left: 0px; padding-right: 0px; line-height: 16px; margin-left: -3px; }

.monaco-dropdown-with-default > .dropdown-action-container > .monaco-dropdown > .dropdown-label > .action-label { display: block; background-size: 16px; background-position: 50% center; background-repeat: no-repeat; }

.monaco-link { color: var(--vscode-textLink-foreground); }

.monaco-link:hover { color: var(--vscode-textLink-activeForeground); }

.quick-input-widget { position: absolute; width: 600px; z-index: 2550; left: 50%; margin-left: -300px; app-region: no-drag; border-radius: 6px; }

.quick-input-titlebar { display: flex; align-items: center; border-top-left-radius: 5px; border-top-right-radius: 5px; }

.quick-input-left-action-bar { display: flex; margin-left: 4px; flex: 1 1 0%; }

.quick-input-title { padding: 3px 0px; text-align: center; text-overflow: ellipsis; overflow: hidden; }

.quick-input-right-action-bar { display: flex; margin-right: 4px; flex: 1 1 0%; }

.quick-input-right-action-bar > .actions-container { justify-content: flex-end; }

.quick-input-titlebar .monaco-action-bar .action-label.codicon { background-position: 50% center; background-repeat: no-repeat; padding: 2px; }

.quick-input-description { margin: 6px; }

.quick-input-header .quick-input-description { margin: 4px 2px; }

.quick-input-header { display: flex; padding: 8px 6px 6px; }

.quick-input-widget.hidden-input .quick-input-header { padding: 0px; margin-bottom: 0px; }

.quick-input-and-message { display: flex; flex-direction: column; flex-grow: 1; min-width: 0px; position: relative; }

.quick-input-check-all { align-self: center; margin: 0px; }

.quick-input-filter { flex-grow: 1; display: flex; position: relative; }

.quick-input-box { flex-grow: 1; }

.quick-input-widget.show-checkboxes .quick-input-box, .quick-input-widget.show-checkboxes .quick-input-message { margin-left: 5px; }

.quick-input-visible-count { position: absolute; left: -10000px; }

.quick-input-count { align-self: center; position: absolute; right: 4px; display: flex; align-items: center; }

.quick-input-count .monaco-count-badge { vertical-align: middle; padding: 2px 4px; border-radius: 2px; min-height: auto; line-height: normal; }

.quick-input-action { margin-left: 6px; }

.quick-input-action .monaco-text-button { font-size: 11px; padding: 0px 6px; display: flex; height: 25px; align-items: center; }

.quick-input-message { margin-top: -1px; padding: 5px; overflow-wrap: break-word; }

.quick-input-message > .codicon { margin: 0px 0.2em; vertical-align: text-bottom; }

.quick-input-message a { color: inherit; }

.quick-input-progress.monaco-progress-container { position: relative; }

.quick-input-progress.monaco-progress-container, .quick-input-progress.monaco-progress-container .progress-bit { height: 2px; }

.quick-input-list { line-height: 22px; }

.quick-input-widget.hidden-input .quick-input-list { margin-top: 4px; padding-bottom: 4px; }

.quick-input-list .monaco-list { overflow: hidden; max-height: 440px; padding-bottom: 5px; }

.quick-input-list .monaco-scrollable-element { padding: 0px 5px; }

.quick-input-list .quick-input-list-entry { box-sizing: border-box; overflow: hidden; display: flex; height: 100%; padding: 0px 6px; }

.quick-input-list .quick-input-list-entry.quick-input-list-separator-border { border-top-width: 1px; border-top-style: solid; }

.quick-input-list .monaco-list-row { border-radius: 3px; }

.quick-input-list .monaco-list-row[data-index="0"] .quick-input-list-entry.quick-input-list-separator-border { border-top-style: none; }

.quick-input-list .quick-input-list-label { overflow: hidden; display: flex; height: 100%; flex: 1 1 0%; }

.quick-input-list .quick-input-list-checkbox { align-self: center; margin: 0px; }

.quick-input-list .quick-input-list-icon { background-size: 16px; background-position: 0px center; background-repeat: no-repeat; padding-right: 6px; width: 16px; height: 22px; display: flex; align-items: center; justify-content: center; }

.quick-input-list .quick-input-list-rows { overflow: hidden; text-overflow: ellipsis; display: flex; flex-direction: column; height: 100%; flex: 1 1 0%; margin-left: 5px; }

.quick-input-widget.show-checkboxes .quick-input-list .quick-input-list-rows { margin-left: 10px; }

.quick-input-widget .quick-input-list .quick-input-list-checkbox { display: none; }

.quick-input-widget.show-checkboxes .quick-input-list .quick-input-list-checkbox { display: inline; }

.quick-input-list .quick-input-list-rows > .quick-input-list-row { display: flex; align-items: center; }

.quick-input-list .quick-input-list-rows > .quick-input-list-row .monaco-icon-label, .quick-input-list .quick-input-list-rows > .quick-input-list-row .monaco-icon-label .monaco-icon-label-container > .monaco-icon-name-container { flex: 1 1 0%; }

.quick-input-list .quick-input-list-rows > .quick-input-list-row .codicon[class*="codicon-"] { vertical-align: text-bottom; }

.quick-input-list .quick-input-list-rows .monaco-highlighted-label > span { opacity: 1; }

.quick-input-list .quick-input-list-entry .quick-input-list-entry-keybinding { margin-right: 8px; }

.quick-input-list .quick-input-list-label-meta { opacity: 0.7; line-height: normal; text-overflow: ellipsis; overflow: hidden; }

.quick-input-list .monaco-highlighted-label .highlight { font-weight: 700; }

.quick-input-list .quick-input-list-entry .quick-input-list-separator { margin-right: 4px; }

.quick-input-list .quick-input-list-entry-action-bar { display: flex; flex: 0 1 0%; overflow: visible; }

.quick-input-list .quick-input-list-entry-action-bar .action-label { display: none; }

.quick-input-list .quick-input-list-entry-action-bar .action-label.codicon { margin-right: 4px; padding: 0px 2px 2px; }

.quick-input-list .quick-input-list-entry-action-bar { margin-top: 1px; margin-right: 4px; }

.quick-input-list .monaco-list-row.focused .quick-input-list-entry-action-bar .action-label, .quick-input-list .quick-input-list-entry .quick-input-list-entry-action-bar .action-label.always-visible, .quick-input-list .quick-input-list-entry:hover .quick-input-list-entry-action-bar .action-label { display: flex; }

.quick-input-list .monaco-list-row.focused .monaco-keybinding-key, .quick-input-list .monaco-list-row.focused .quick-input-list-entry .quick-input-list-separator { color: inherit; }

.quick-input-list .monaco-list-row.focused .monaco-keybinding-key { background: none; }

.extension-editor .codicon.codicon-error, .extensions-viewlet > .extensions .codicon.codicon-error, .markers-panel .marker-icon .codicon.codicon-error, .markers-panel .marker-icon.error, .monaco-editor .zone-widget .codicon.codicon-error, .preferences-editor .codicon.codicon-error, .text-search-provider-messages .providerMessage .codicon.codicon-error { color: var(--vscode-problemsErrorIcon-foreground); }

.extension-editor .codicon.codicon-warning, .extensions-viewlet > .extensions .codicon.codicon-warning, .markers-panel .marker-icon .codicon.codicon-warning, .markers-panel .marker-icon.warning, .monaco-editor .zone-widget .codicon.codicon-warning, .preferences-editor .codicon.codicon-warning, .text-search-provider-messages .providerMessage .codicon.codicon-warning { color: var(--vscode-problemsWarningIcon-foreground); }

.extension-editor .codicon.codicon-info, .extensions-viewlet > .extensions .codicon.codicon-info, .markers-panel .marker-icon .codicon.codicon-info, .markers-panel .marker-icon.info, .monaco-editor .zone-widget .codicon.codicon-info, .preferences-editor .codicon.codicon-info, .text-search-provider-messages .providerMessage .codicon.codicon-info { color: var(--vscode-problemsInfoIcon-foreground); }
------MultipartBoundary--o4C46MD1v5LjRKaEEJJp6V0O1heQ16TtDUGnAqoxwB----
Content-Type: text/css
Content-Transfer-Encoding: binary
Content-Location: https://www.gstatic.com/og/_/ss/k=og.qtm.6c-EVA8RIQg.L.W.O/m=qcwid,qba/excm=qaaw,qadd,qaid,qein,qhaw,qhba,qhbr,qhch,qhga,qhid,qhin/d=1/ed=1/ct=zgms/rs=AA2YrTst1B5KY57uLFRFvf1ggmX3Hzcwtw

@charset "utf-8";

.gb_R { border-radius: 50%; bottom: 2px; height: 18px; position: absolute; right: 0px; width: 18px; }

.gb_La { border-radius: 50%; box-shadow: rgba(60, 64, 67, 0.3) 0px 1px 2px 0px, rgba(60, 64, 67, 0.15) 0px 1px 3px 1px; margin: 2px; }

.gb_Ma { fill: rgb(249, 171, 0); }

.gb_H .gb_Ma { fill: rgb(253, 214, 99); }

.gb_Na > .gb_Ma { fill: rgb(217, 48, 37); }

.gb_H .gb_Na > .gb_Ma { fill: rgb(242, 139, 130); }

.gb_Na > .gb_Oa { fill: white; }

.gb_Oa, .gb_H .gb_Na > .gb_Oa { fill: rgb(32, 33, 36); }

.gb_Pa { clip-path: path("M 16 0 C 24.8366 0 32 7.16344 32 16 C 32 16.4964 31.9774 16.9875 31.9332 17.4723 C 30.5166 16.5411 28.8215 16 27 16 C 22.0294 16 18 20.0294 18 25 C 18 27.4671 18.9927 29.7024 20.6004 31.3282 C 19.1443 31.7653 17.5996 32 16 32 C 7.16344 32 0 24.8366 0 16 C 0 7.16344 7.16344 0 16 0 Z"); }

.gb_B .gb_R { display: block; }

.gb_Qc { background: rgba(60, 64, 67, 0.9); border-radius: 4px; color: rgb(255, 255, 255); font: 500 12px / 16px Roboto, arial, sans-serif; letter-spacing: 0.8px; margin-top: 4px; min-height: 14px; padding: 4px 8px; position: absolute; outline: transparent solid 1px; user-select: text; z-index: 1000; -webkit-font-smoothing: antialiased; }

.gb_Rc, .gb_Sc { text-align: left; }

.gb_Rc > * { color: rgb(196, 199, 197); line-height: 16px; }

.gb_Rc div:first-child { color: white; }

.gb_Fa { background: none; border: 1px solid transparent; border-radius: 50%; box-sizing: border-box; cursor: pointer; height: 40px; margin: 8px; outline: none; padding: 1px; position: absolute; right: 0px; top: 0px; width: 40px; }

.gb_Fa:hover { background-color: rgba(68, 71, 70, 0.08); }

.gb_Fa:focus, .gb_Fa:active { background-color: rgba(68, 71, 70, 0.12); }

.gb_Fa:focus-visible { border-color: rgb(11, 87, 208); outline: transparent solid 1px; outline-offset: -1px; }

.gb_H .gb_Fa:hover { background-color: rgba(227, 227, 227, 0.08); }

.gb_H .gb_Fa:focus, .gb_H .gb_Fa:active { background-color: rgba(227, 227, 227, 0.08); }

.gb_H .gb_Fa:focus-visible { border-color: rgb(168, 199, 250); }

.gb_Ha .gb_Ia { border: 1px solid transparent; border-radius: 4px; color: rgb(11, 87, 208); }

.gb_Ia:hover { color: rgb(8, 66, 160); }

.gb_Ia:focus, .gb_Ia:active { color: rgb(6, 46, 111); }

.gb_Ia:focus-visible { border-color: rgb(11, 87, 208); text-decoration: none; }

.gb_H .gb_Ia { color: rgb(168, 199, 250); }

.gb_H .gb_Ia:hover { color: rgb(211, 227, 253); }

.gb_H .gb_Ia:focus, .gb_H .gb_Ia:active { color: rgb(236, 243, 254); }

.gb_H .gb_Ia:focus-visible { border-color: rgb(168, 199, 250); color: rgb(168, 199, 250); outline: none; }

.gb_Ja { box-shadow: rgba(60, 64, 67, 0.3) 0px -1px 2px 0px, rgba(60, 64, 67, 0.15) 0px -2px 6px 2px; height: calc(100% - 16px); left: 0px; margin: 8px; position: absolute; top: 0px; width: calc(100% - 16px); }

.gb_Ka.gb_Ja { border-radius: 28px; box-shadow: rgba(0, 0, 0, 0.15) 0px 2px 6px 2px, rgba(0, 0, 0, 0.3) 0px 1px 2px 0px; height: 290px; }

@media only screen and (max-width: 452px) {
  .gb_Ka.gb_Ja { border-radius: 0px; height: 100%; margin: 0px; max-width: unset; padding: 0px; width: 100%; }
}

sentinel { }
------MultipartBoundary--o4C46MD1v5LjRKaEEJJp6V0O1heQ16TtDUGnAqoxwB----
Content-Type: text/css
Content-Transfer-Encoding: binary
Content-Location: https://ssl.gstatic.com/colaboratory-static/common/dbf976ca262648de3ec2dd49c71d3a64/v2/external/bundle.css

@charset "utf-8";

colab-cell-pair-slide, colab-cell-slide { --colab-chrome-font-size: 18px; --colab-code-font-size: var(--colab-chrome-font-size); --colab-run-button-position: static; }

colab-cell-pair-slide .toolbar, colab-cell-slide .toolbar { height: 40px; }

colab-cell-pair-slide .cell, colab-cell-slide .cell { margin: 4px; }

colab-cell-pair-slide .code.cell, colab-cell-slide .code.cell { margin-left: 28px; }

colab-cell-pair-slide .mirror-cell div.inputarea, colab-cell-slide .mirror-cell div.inputarea { overflow: visible; padding-left: 0px; }

colab-cell-pair-slide .slide, colab-cell-slide .slide { display: flex; -webkit-box-orient: vertical; -webkit-box-direction: normal; flex-direction: column; height: 100%; }

colab-cell-pair-slide .content, colab-cell-slide .content { -webkit-box-flex: 1; flex: 1 1 0%; height: calc(100% - 56px); display: flex; -webkit-box-align: center; align-items: center; }

colab-cell-pair-slide colab-shaded-scroller, colab-cell-slide colab-shaded-scroller { min-height: 0px; max-height: 100%; overflow: auto; padding: 0px 4px 4px 0px; }

colab-cell-pair-slide .toolbar-root, colab-cell-slide .toolbar-root { height: fit-content; position: sticky; top: 0px; width: 100%; z-index: 1; }

colab-cell-pair-slide .markdown, colab-cell-slide .markdown { font-size: var(--colab-chrome-font-size); }

colab-cell-pair-slide .markdown h1, colab-cell-slide .markdown h1 { font-size: 44px; }

colab-cell-pair-slide .markdown h2, colab-cell-slide .markdown h2 { font-size: 40px; }

colab-cell-pair-slide .markdown h3, colab-cell-slide .markdown h3 { font-size: 36px; }

colab-cell-pair-slide .markdown h4, colab-cell-slide .markdown h4 { font-size: 32px; }

colab-cell-pair-slide .markdown h5, colab-cell-slide .markdown h5 { font-size: 28px; }

colab-cell-pair-slide .markdown h6, colab-cell-slide .markdown h6 { font-size: 24px; }

colab-cell-pair-slide .markdown ol, colab-cell-pair-slide .markdown p, colab-cell-pair-slide .markdown span table, colab-cell-pair-slide .markdown span td, colab-cell-pair-slide .markdown span th, colab-cell-pair-slide .markdown span tr, colab-cell-pair-slide .markdown ul, colab-cell-slide .markdown ol, colab-cell-slide .markdown p, colab-cell-slide .markdown span table, colab-cell-slide .markdown span td, colab-cell-slide .markdown span th, colab-cell-slide .markdown span tr, colab-cell-slide .markdown ul { font-size: var(--colab-chrome-font-size); }

.slideshow-settings-content md-filled-select { padding: 12px 0px; }

.goog-modalpopup, .modal-dialog { box-shadow: rgba(0, 0, 0, 0.2) 0px 4px 16px; background: padding-box rgb(255, 255, 255); border: 1px solid rgba(0, 0, 0, 0.333); outline: 0px; position: absolute; }

.goog-modalpopup-bg, .modal-dialog-bg { background: rgb(255, 255, 255); left: 0px; position: absolute; top: 0px; }

div.goog-modalpopup-bg, div.modal-dialog-bg { opacity: 0.75; }

.modal-dialog { color: rgb(0, 0, 0); padding: 30px 42px; }

.modal-dialog-title { background-color: rgb(255, 255, 255); color: rgb(0, 0, 0); cursor: default; font-size: 16px; font-weight: 400; line-height: 24px; margin: 0px 0px 16px; }

.modal-dialog-title-close { height: 11px; opacity: 0.7; padding: 17px; position: absolute; right: 0px; top: 0px; width: 11px; }

.modal-dialog-title-close::after { content: ""; background: url("https://ssl.gstatic.com/ui/v1/dialog/close-x.png"); position: absolute; height: 11px; width: 11px; right: 17px; }

.modal-dialog-title-close:hover { opacity: 1; }

.modal-dialog-content { background-color: rgb(255, 255, 255); line-height: 1.4em; overflow-wrap: break-word; }

.modal-dialog-buttons { margin-top: 16px; }

.modal-dialog-buttons button { border-radius: 2px; background-color: rgb(245, 245, 245); background-image: -webkit-gradient(linear, 0% 0%, 0% 100%, from(rgb(245, 245, 245)), to(rgb(241, 241, 241))); border: 1px solid rgba(0, 0, 0, 0.1); color: rgb(68, 68, 68); cursor: default; font-family: inherit; font-size: 11px; font-weight: 700; height: 29px; line-height: 27px; margin: 0px 16px 0px 0px; min-width: 72px; outline: 0px; padding: 0px 8px; }

.modal-dialog-buttons button:hover { box-shadow: rgba(0, 0, 0, 0.1) 0px 1px 1px; background-color: rgb(248, 248, 248); background-image: -webkit-gradient(linear, 0% 0%, 0% 100%, from(rgb(248, 248, 248)), to(rgb(241, 241, 241))); border: 1px solid rgb(198, 198, 198); color: rgb(51, 51, 51); }

.modal-dialog-buttons button:active { background-color: rgb(248, 248, 248); background-image: -webkit-gradient(linear, 0% 0%, 0% 100%, from(rgb(248, 248, 248)), to(rgb(241, 241, 241))); border: 1px solid rgb(198, 198, 198); color: rgb(51, 51, 51); box-shadow: rgba(0, 0, 0, 0.1) 0px 1px 2px inset; }

.modal-dialog-buttons button:focus { border: 1px solid rgb(77, 144, 254); }

.modal-dialog-buttons button[disabled] { box-shadow: none; background: none rgb(255, 255, 255); border: 1px solid rgba(0, 0, 0, 0.05); color: rgb(184, 184, 184); }

.modal-dialog-buttons .goog-buttonset-action { background-color: rgb(77, 144, 254); background-image: -webkit-gradient(linear, 0% 0%, 0% 100%, from(rgb(77, 144, 254)), to(rgb(71, 135, 237))); border: 1px solid rgb(48, 121, 237); color: rgb(255, 255, 255); }

.modal-dialog-buttons .goog-buttonset-action:hover { background-color: rgb(53, 122, 232); background-image: -webkit-gradient(linear, 0% 0%, 0% 100%, from(rgb(77, 144, 254)), to(rgb(53, 122, 232))); border: 1px solid rgb(47, 91, 183); color: rgb(255, 255, 255); }

.modal-dialog-buttons .goog-buttonset-action:active { background-color: rgb(53, 122, 232); background-image: -webkit-gradient(linear, 0% 0%, 0% 100%, from(rgb(77, 144, 254)), to(rgb(53, 122, 232))); border: 1px solid rgb(47, 91, 183); color: rgb(255, 255, 255); box-shadow: rgba(0, 0, 0, 0.3) 0px 1px 2px inset; }

.modal-dialog-buttons .goog-buttonset-action:focus { box-shadow: rgb(255, 255, 255) 0px 0px 0px 1px inset; border: 1px solid transparent; outline: transparent 0px; }

.modal-dialog-buttons .goog-buttonset-action[disabled] { box-shadow: none; background: rgb(77, 144, 254); color: rgb(255, 255, 255); opacity: 0.5; }

.jfk-alert, .jfk-confirm, .jfk-prompt { width: 512px; }

.share-client-dialog { overflow: auto; box-sizing: border-box; max-height: 100% !important; width: auto !important; }

.share-client-dialog:focus { outline: 0px; }

* html .share-client-dialog { max-height: none !important; overflow: visible !important; }

:first-child + html .share-client-dialog { max-height: none !important; overflow: visible !important; }

.share-client-dialog .modal-dialog-content, .share-client-dialog .modal-dialog-title { padding: 0px; }

.share-client-dialog .share-client-dialog-hidden-title { height: 0px; margin: 0px; padding: 0px; }

.share-client-dialog .modal-dialog-title { font-family: arial, sans-serif; font-weight: 400; }

.share-client-content-iframe { display: flex; height: 100%; width: 100%; border: none; }

.share-client-dialog .modal-dialog-buttons { display: none; }

.share-client-error-dialog { font-family: arial, sans-serif; font-size: 12px; width: 400px; z-index: 3000; }

.share-client-loading-contents { height: 99px; text-align: center; width: 454px; }

.share-client-spinner { background-image: url("https://ssl.gstatic.com/docs/documents/share/images/spinner-2.gif"); background-size: 24px; display: inline-block; margin-top: 24px; width: 24px; height: 24px; }

.inline-share-ui-status { font-size: 12pt; font-weight: 700; height: 19px; padding: 5px 10px; background-color: rgb(241, 244, 255); }

.inline-share-ui-overlay { position: absolute; z-index: 150; background-color: rgb(255, 255, 255); opacity: 0; }

.share-client-panel-dialog-share { height: 100%; width: 100%; }

.share-client-panel-dialog-overlay { position: absolute; z-index: 150; }

.share-client-offscreen { position: absolute !important; left: -10000px !important; top: -10000px !important; }

.share-client-loading-dialog { font-family: arial, sans-serif; z-index: 3000; }

.share-client-loading-dialog:focus { outline: 0px; }

.modeElementsDark .share-client-loading-dialog .modal-dialog-title { color: rgb(227, 227, 227); }

.share-client-debug { display: none; position: absolute; bottom: 0px; right: 0px; color: rgb(119, 119, 119); font-size: 10px; }

.team-drive-share-client-dialog { border: none; border-radius: 2px; box-shadow: rgba(0, 0, 0, 0.14) 0px 24px 38px 3px, rgba(0, 0, 0, 0.12) 0px 9px 46px 8px, rgba(0, 0, 0, 0.2) 0px 11px 15px -7px; padding: 0px; }

.full-screen-share-client-dialog { height: 100vh; overflow: hidden; background-color: transparent !important; border: none !important; padding: 0px !important; width: 100vw !important; }

.full-screen-share-client-dialog .modal-dialog-content { background: transparent; height: 100%; width: 100%; }

.modal-dialog.share-client-dialog.team-drive-share-client-dialog { padding: 0px; }

.full-screen-share-client-dialog .modal-dialog-title, .team-drive-share-client-dialog .modal-dialog-title { display: none; }

.google-visualization-table { box-sizing: border-box; display: inline-block; vertical-align: bottom; }

.google-visualization-table * { box-sizing: inherit; }

.google-visualization-table > div:first-child { border: 0px solid rgb(238, 238, 238); }

.google-visualization-table > div:first-child.scrolling .google-visualization-table-table .frozen-column, .google-visualization-table > div:first-child.scrolling .google-visualization-table-table th { visibility: hidden; opacity: 0; color: transparent; }

.google-visualization-table > div:first-child.doneScrolling .google-visualization-table-table th { transition: opacity 0.25s ease-in 0.1s; }

.google-visualization-table > div:first-child.doneScrolling .google-visualization-table-table .frozen-column { transition: visibility, opacity 0.15s ease-in 0.15s; }

.google-visualization-table-table { font-family: arial, helvetica; font-size: 10pt; cursor: default; margin: 0px; background: rgb(255, 255, 255); border-spacing: 0px; border-collapse: separate; }

.google-visualization-table-table * { margin: 0px; }

.google-visualization-table .gradient { background-image: linear-gradient(rgba(255, 255, 255, 0.8) 0px, rgba(255, 255, 255, 0.7) 30%, rgba(255, 255, 255, 0.5) 60%, rgba(255, 255, 255, 0)); }

.google-visualization-table-tr-head { background-color: rgb(228, 233, 244); font-weight: 700; text-align: center; }

.google-visualization-table-sorthdr { cursor: pointer; }

.google-visualization-table-sortind { color: rgb(204, 204, 204); padding-left: 4px; }

.unsorted .google-visualization-table-sortind { display: none; }

.unsorted .google-visualization-table-sortind::after { content: " "; }

.sort-ascending .google-visualization-table-sortind::after { content: "▲"; }

.sort-descending .google-visualization-table-sortind::after { content: "▼"; }

.google-visualization-table-th { cursor: pointer; white-space: nowrap; }

.google-visualization-table-td { overflow: hidden; }

.google-visualization-table-td, .google-visualization-table-th { padding: 2px 0.35em; background-color: inherit; background-clip: padding-box; }

.google-visualization-table-table td, .google-visualization-table-table th { border-style: solid; border-color: rgb(238, 238, 238); border-image: initial; border-width: 0px 1px 1px 0px; padding: 2px 0.35em; }

.google-visualization-table-table th { position: relative; z-index: 10; }

.google-visualization-table-table td.frozen-column { position: relative; z-index: 5; }

.google-visualization-table-table thead th.frozen-column { z-index: 15; }

.google-visualization-table-table .last-frozen-column { border-right: 2px ridge rgb(238, 238, 238); }

.google-visualization-table-tr-even { background-color: rgb(255, 255, 255); }

.google-visualization-table-tr-odd { background-color: rgb(250, 250, 250); }

.google-visualization-table-tr-sel { background-color: rgb(214, 233, 248); }

.google-visualization-table-tr-over { background-color: rgb(231, 233, 249); }

.google-visualization-table-td.google-visualization-table-type-bool { text-align: center; font-family: "Arial Unicode MS", Arial, Helvetica; }

.google-visualization-table-td.google-visualization-table-type-date { text-align: center; }

.google-visualization-table-td.google-visualization-table-type-number { text-align: right; white-space: nowrap; }

.google-visualization-table-seq { text-align: right; color: rgb(102, 102, 102); }

.google-visualization-table-div-page { display: inline-block; width: 100%; padding: 1px 0px 0px 1px; border: 0px; background-color: rgb(228, 233, 244); font-family: Arial, sans-serif; }

.google-visualization-table-div-page [role="button"] { display: inline-block; cursor: pointer; margin-top: 2px; margin-bottom: 2px; font-family: "Arial Unicode MS", Arial, Helvetica; font-size: 10px; line-height: 10px; }

.google-visualization-table-div-page [role="button"] .goog-custom-button-inner-box { padding: 1px 1px 2px; }

.google-visualization-table-page-prev::before { content: "◄"; }

.google-visualization-table-page-next::before { content: "►"; }

.google-visualization-table-page-numbers { display: inline-block; zoom: 1; margin: 0px; vertical-align: middle; }

.ie8 .google-visualization-table-page-numbers { display: inline; }

.google-visualization-table-page-number { display: inline-block; background-color: rgb(228, 233, 244); border: 1px outset buttonshadow; border-radius: 3px; color: rgb(0, 0, 0); font-size: 10px; min-width: 10px; margin: 2px; padding: 0px 2px; text-align: center; text-decoration: none; vertical-align: middle; }

.google-visualization-table-page-number.current { font-weight: 700; font-size: 11px; background: rgb(254, 254, 254); border-style: inset; }

.google-visualization-table-page-number:hover { background: rgb(254, 254, 254); border-style: inset; }

.google-visualization-table .transparent { background-image: none; background-color: transparent; border-color: transparent; }

.google-visualization-table .transparentIE6 { background: none; }

.google-visualization-table td .transparent, .google-visualization-table th .transparent { color: transparent; opacity: 0; }

.google-visualization-table .google-visualization-hidden { visibility: hidden; pointer-events: none; }

.google-visualization-table-loadtest { padding-left: 6px; }

.peopleKitStyleGm3 { --pkw-background: var(--gm3-sys-color-background,#fff); --pkw-outline: var(--gm3-sys-color-outline,#747775); --pkw-outline-variant: var(--gm3-sys-color-outline-variant,#c4c7c5); --pkw-scrim: rgba(0,0,0,.32); --pkw-primary: var(--gm3-sys-color-primary,#0b57d0); --pkw-secondary-container: var(--gm3-sys-color-secondary-container,#c2e7ff); --pkw-on-secondary-container: var(--gm3-sys-color-on-secondary-container,#001d35); --pkw-error: var(--gm3-sys-color-error,#b3261e); --pkw-on-error: var(--gm3-sys-color-on-error,#fff); --pkw-error-container: var(--gm3-sys-color-error-container,#f9dedc); --pkw-error-container-low: #ffedea; --pkw-on-error-container: var(--gm3-sys-color-on-error-container,#410e0b); --pkw-caution: #7d5800; --pkw-caution-container: #ffdea9; --pkw-caution-container-low: #ffefd4; --pkw-on-caution-container: #271900; --pkw-on-surface: var(--gm3-sys-color-on-surface,#1f1f1f); --pkw-on-surface-variant: var(--gm3-sys-color-on-surface-variant,#444746); --pkw-surface-container: var(--gm3-sys-color-surface-container,#f0f4f9); --pkw-surface-container-high: var(--gm3-sys-color-surface-container-high,#e9eef6); --pkw-inverse-surface: var(--gm3-sys-color-inverse-surface,#303030); --pkw-inverse-on-surface: var(--gm3-sys-color-inverse-on-surface,#f2f2f2); }

.peoplekitThemeDark .peopleKitStyleGm3 { --pkw-background: var(--gm3-sys-color-background,#131314); --pkw-outline: var(--gm3-sys-color-outline,#8e918f); --pkw-outline-variant: var(--gm3-sys-color-outline-variant,#444746); --pkw-scrim: rgba(0,0,0,.32); --pkw-primary: var(--gm3-sys-color-primary,#a8c7fa); --pkw-secondary-container: var(--gm3-sys-color-secondary-container,#004a77); --pkw-on-secondary-container: var(--gm3-sys-color-on-secondary-container,#c2e7ff); --pkw-error: var(--gm3-sys-color-error,#f2b8b5); --pkw-on-error: var(--gm3-sys-color-on-error,#601410); --pkw-error-container: var(--gm3-sys-color-error-container,#8c1d18); --pkw-error-container-low: #410001; --pkw-on-error-container: var(--gm3-sys-color-on-error-container,#f9dedc); --pkw-caution: #ffba28; --pkw-caution-container: #5e4100; --pkw-caution-container-low: #503700; --pkw-on-caution-container: #ffdea9; --pkw-on-surface: var(--gm3-sys-color-on-surface,#e3e3e3); --pkw-on-surface-variant: var(--gm3-sys-color-on-surface-variant,#c4c7c5); --pkw-surface-container: var(--gm3-sys-color-surface-container,#1e1f20); --pkw-surface-container-high: var(--gm3-sys-color-surface-container-high,#282a2c); --pkw-inverse-surface: var(--gm3-sys-color-inverse-surface,#e3e3e3); --pkw-inverse-on-surface: var(--gm3-sys-color-inverse-on-surface,#303030); }

.peoplekitComponentsAvatarImplAvatarContainer { position: relative; }

.peoplekitComponentsAvatarImplAvatar { border-radius: 50%; outline: transparent solid 1px; overflow: hidden; }

.peoplekitComponentsAvatarImplBadgeIconImage { margin: auto; display: block; height: 100%; width: 100%; }

.peoplekitComponentsAvatarImplAvatarBadge { position: absolute; bottom: 0px; right: 0px; display: none; height: 30%; width: 30%; min-height: 30%; min-width: 30%; object-fit: cover; overflow: hidden; }

.peoplekitComponentsAvatarImplAvatarBadge.visible { display: inline; }

.isSelected .peoplekitComponentsAvatarImplAvatarBadge { display: none; }

.peoplekitComponentsAvatarImplContainer { display: flex; -webkit-box-orient: horizontal; -webkit-box-direction: normal; flex-direction: row; height: inherit; width: inherit; }

.peoplekitComponentsAvatarImplColumn { display: flex; -webkit-box-orient: vertical; -webkit-box-direction: normal; flex-direction: column; -webkit-box-flex: 1; flex: 1 1 0%; overflow: hidden; height: inherit; -webkit-box-align: stretch; align-items: stretch; }

.peoplekitComponentsAvatarImplRow { display: flex; -webkit-box-flex: 1; flex: 1 1 0%; overflow: hidden; }

.peoplekitComponentsAvatarImplDivider { margin: 1px; }

.peoplekitComponentsAvatarImplImageRoot { display: flex; -webkit-box-orient: vertical; -webkit-box-direction: normal; flex-direction: column; -webkit-box-flex: 1; flex: 1 1 auto; -webkit-box-align: center; place-items: center; transition: background 50ms ease-in-out; }

.peoplekitComponentsAvatarImplImageRoot.isLoading { background-clip: padding-box; background-color: var(--pkw-on-surface-variant,#bdc1c6); }

.peoplekitComponentsAvatarImplDefaultAvatarImage { display: none; }

.isNotLoaded .peoplekitComponentsAvatarImplDefaultAvatarImage { display: block; fill: var(--pkw-on-surface-variant,#5f6368); }

.peoplekitThemeDark .isNotLoaded .peoplekitComponentsAvatarImplDefaultAvatarImage { fill: var(--pkw-on-surface-variant,#9aa0a6); }

.peoplekitComponentsAvatarImplImage { opacity: 1; display: block; transition: opacity 50ms ease-in-out; }

.isLoading .peoplekitComponentsAvatarImplImage { opacity: 0; }

.isNotLoaded .peoplekitComponentsAvatarImplImage { display: none; }

.peoplekitComponentsChipChip { background: var(--pkw-background,#fff); border-radius: 50vh; box-shadow: 0 0 0 1px var(--pkw-outline,#dadce0) inset; color: var(--pkw-on-surface-variant,#5f6368); cursor: pointer; display: inline-block; -webkit-box-orient: vertical; -webkit-box-direction: normal; flex-direction: column; -webkit-box-pack: center; justify-content: center; margin: 4px; min-width: 1px; outline: transparent solid 1px; user-select: none; }

.peoplekitComponentsChipChip:hover { background: var(--pkw-background,#f8f9fa); color: var(--pkw-on-surface-variant,#202124); }

.peoplekitComponentsChipChip.isActive { background: var(--pkw-secondary-container,#e8f0fe); box-shadow: none; color: var(--pkw-on-secondary-container,#1967d2); outline-width: 2px; }

.peoplekitComponentsChipChip.isActive:hover { background: var(--pkw-secondary-container,#d2e3fc); color: var(--pkw-on-secondary-container,#174ea6); }

.peoplekitComponentsChipChip.isSpotlit { box-shadow: 0 0 0 2px var(--pkw-primary,#669df6) inset; outline-width: 3px; }

.peoplekitComponentsChipChip.isWarning { background: var(--pkw-caution-container-low,#fef7e0); box-shadow: 0 0 0 1px var(--pkw-caution,#fbbc04) inset; color: var(--pkw-caution,#5f6368); }

.peoplekitComponentsChipChip.isWarning.isActive { background: var(--pkw-caution-container,#fdd663); color: var(--pkw-on-caution-container,#3c4043); box-shadow: none; }

.peoplekitComponentsChipChip.isWarning.isActive:hover { background: var(--pkw-caution-container,#fcc934); color: var(--pkw-on-caution-container,#202124); }

.peoplekitComponentsChipChip.isWarning.isSpotlit { box-shadow: 0 0 0 2px var(--pkw-on-caution-container,#202124) inset; }

.peoplekitComponentsChipChip.isWarning:hover { background: var(--pkw-caution-container,#feefc3); color: var(--pkw-caution,#202124); }

.peoplekitComponentsChipChip.isError { background: var(--pkw-error-container-low,#fff); box-shadow: 0 0 0 1px var(--pkw-error,#ea4335) inset; color: var(--pkw-error,#c5221f); }

.peoplekitComponentsChipChip.isError.isActive { background: var(--pkw-error-container,rgba(217,48,37,.2)); color: var(--pkw-on-error-container,#a50e0e); box-shadow: none; }

.peoplekitComponentsChipChip.isError.isActive:hover { background: var(--pkw-error-container,rgba(217,48,37,.24)); color: var(--pkw-on-error-container,#a50e0e); }

.peoplekitComponentsChipChip.isError.isSpotlit { box-shadow: 0 0 0 2px var(--pkw-on-error-container,#a50e0e) inset; }

.peoplekitComponentsChipChip.isError:hover { background: var(--pkw-error-container,#fad2cf); color: var(--pkw-error,#a50e0e); }

.peoplekitComponentsChipChip.isDragged, .peoplekitComponentsChipChip.isDragged.isActive, .peoplekitComponentsChipChip.isDragged.isError, .peoplekitComponentsChipChip.isDragged.isSpotlit, .peoplekitComponentsChipChip.isDragged.isWarning { border-width: 0px; box-shadow: rgba(60, 64, 67, 0.3) 0px 1px 2px 0px, rgba(60, 64, 67, 0.15) 0px 2px 6px 2px; }

.peoplekitComponentsChipChip.isDragged.isActive .mdc-elevation-overlay, .peoplekitComponentsChipChip.isDragged.isError .mdc-elevation-overlay, .peoplekitComponentsChipChip.isDragged.isSpotlit .mdc-elevation-overlay, .peoplekitComponentsChipChip.isDragged.isWarning .mdc-elevation-overlay { opacity: 0; }

.peoplekitThemeDark .peoplekitComponentsChipChip.isDragged.isActive, .peoplekitThemeDark .peoplekitComponentsChipChip.isDragged.isError, .peoplekitThemeDark .peoplekitComponentsChipChip.isDragged.isSpotlit, .peoplekitThemeDark .peoplekitComponentsChipChip.isDragged.isWarning { border-width: 0px; box-shadow: rgba(60, 64, 67, 0.3) 0px 1px 2px 0px, rgba(60, 64, 67, 0.15) 0px 2px 6px 2px; }

.peoplekitComponentsChipChip.isDragged .mdc-elevation-overlay, .peoplekitThemeDark .peoplekitComponentsChipChip.isDragged.isActive .mdc-elevation-overlay, .peoplekitThemeDark .peoplekitComponentsChipChip.isDragged.isError .mdc-elevation-overlay, .peoplekitThemeDark .peoplekitComponentsChipChip.isDragged.isSpotlit .mdc-elevation-overlay, .peoplekitThemeDark .peoplekitComponentsChipChip.isDragged.isWarning .mdc-elevation-overlay { opacity: 0; }

.peoplekitComponentsChipChip.isDragged.peopleKitStyleGm3 { box-shadow: rgba(0, 0, 0, 0.3) 0px 1px 3px 0px, rgba(0, 0, 0, 0.15) 0px 4px 8px 3px; }

.peoplekitComponentsChipChip.isDisabled, .peoplekitComponentsChipChip.isDisabled:hover { cursor: default; opacity: 0.5; }

.peoplekitComponentsChipChip.isDeletionDisabled .peoplekitComponentsChipDeleteButton { display: none; }

.peoplekitThemeDark .peoplekitComponentsChipChip { background: var(--pkw-background,linear-gradient(0deg,rgba(232,234,237,.08),rgba(232,234,237,.08)),#202124); border-radius: 50vh; box-shadow: 0 0 0 1px var(--pkw-outline,#5f6368) inset; color: var(--pkw-on-surface-variant,#9aa0a6); cursor: pointer; display: inline-block; -webkit-box-orient: vertical; -webkit-box-direction: normal; flex-direction: column; -webkit-box-pack: center; justify-content: center; margin: 4px; min-width: 1px; outline: transparent solid 1px; user-select: none; }

.peoplekitThemeDark .peoplekitComponentsChipChip:hover { background: var(--pkw-background,linear-gradient(0deg,rgba(232,234,237,.04),rgba(232,234,237,.04)),linear-gradient(0deg,rgba(232,234,237,.08),rgba(232,234,237,.08)),#202124); color: var(--pkw-on-surface-variant,#e8eaed); }

.peoplekitThemeDark .peoplekitComponentsChipChip.isActive { background: var(--pkw-secondary-container,linear-gradient(0deg,rgba(138,180,248,.24),rgba(138,180,248,.24)),linear-gradient(0deg,rgba(232,234,237,.08),rgba(232,234,237,.08)),#202124); box-shadow: none; color: var(--pkw-on-secondary-container,#d2e3fc); outline-width: 2px; }

.peoplekitThemeDark .peoplekitComponentsChipChip.isActive:hover { background: var(--pkw-secondary-container,linear-gradient(0deg,rgba(138,180,248,.32),rgba(138,180,248,.32)),linear-gradient(0deg,rgba(232,234,237,.08),rgba(232,234,237,.08)),#202124); color: var(--pkw-on-secondary-container,#fff); }

.peoplekitThemeDark .peoplekitComponentsChipChip.isSpotlit { box-shadow: 0 0 0 2px var(--pkw-primary,#aecbfa) inset; outline-width: 3px; }

.peoplekitThemeDark .peoplekitComponentsChipChip.isWarning { background: var(--pkw-caution-container-low,linear-gradient(0deg,rgba(232,234,237,.08),rgba(232,234,237,.08)),#202124); box-shadow: 0 0 0 1px var(--pkw-caution,#fdd663) inset; color: var(--pkw-caution,#fdd663); }

.peoplekitThemeDark .peoplekitComponentsChipChip.isWarning.isActive { background: var(--pkw-caution-container,linear-gradient(0deg,rgba(253,214,99,.24),rgba(253,214,99,.24)),linear-gradient(0deg,rgba(232,234,237,.08),rgba(232,234,237,.08)),#202124); color: var(--pkw-on-caution-container,#feefc3); box-shadow: none; }

.peoplekitThemeDark .peoplekitComponentsChipChip.isWarning.isActive:hover { background: var(--pkw-caution-container,linear-gradient(0deg,rgba(253,214,99,.36),rgba(253,214,99,.36)),linear-gradient(0deg,rgba(232,234,237,.08),rgba(232,234,237,.08)),#202124); color: var(--pkw-on-caution-container,#fff); }

.peoplekitThemeDark .peoplekitComponentsChipChip.isWarning.isSpotlit { box-shadow: 0 0 0 2px var(--pkw-on-caution-container,#e8eaed) inset; }

.peoplekitThemeDark .peoplekitComponentsChipChip.isWarning:hover { background: var(--pkw-caution-container,linear-gradient(0deg,rgba(253,214,99,.04),rgba(253,214,99,.04)),linear-gradient(0deg,rgba(232,234,237,.08),rgba(232,234,237,.08)),#202124); color: var(--pkw-caution,#feefc3); }

.peoplekitThemeDark .peoplekitComponentsChipChip.isError { background: var(--pkw-error-container-low,linear-gradient(0deg,rgba(232,234,237,.08),rgba(232,234,237,.08)),#202124); box-shadow: 0 0 0 1px var(--pkw-error,#f28b82) inset; color: var(--pkw-error,#f28b82); }

.peoplekitThemeDark .peoplekitComponentsChipChip.isError.isActive { background: var(--pkw-error-container,linear-gradient(0deg,hsla(5,81%,73%,.24),hsla(5,81%,73%,.24)),linear-gradient(0deg,rgba(232,234,237,.08),rgba(232,234,237,.08)),#202124); color: var(--pkw-on-error-container,#fad2cf); box-shadow: none; }

.peoplekitThemeDark .peoplekitComponentsChipChip.isError.isActive:hover { background: var(--pkw-error-container,linear-gradient(0deg,hsla(5,81%,73%,.36),hsla(5,81%,73%,.36)),linear-gradient(0deg,rgba(232,234,237,.08),rgba(232,234,237,.08)),#202124); color: var(--pkw-on-error-container,#fce8e6); }

.peoplekitThemeDark .peoplekitComponentsChipChip.isError.isSpotlit { box-shadow: 0 0 0 2px var(--pkw-on-error-container,#fad2cf) inset; }

.peoplekitThemeDark .peoplekitComponentsChipChip.isError:hover { background: var(--pkw-error-container,linear-gradient(0deg,hsla(5,81%,73%,.04),hsla(5,81%,73%,.04)),linear-gradient(0deg,rgba(232,234,237,.08),rgba(232,234,237,.08)),#202124); color: var(--pkw-error,#fad2cf); }

.peoplekitThemeDark .peoplekitComponentsChipChip.isDragged, .peoplekitThemeDark .peoplekitComponentsChipChip.isDragged.isActive, .peoplekitThemeDark .peoplekitComponentsChipChip.isDragged.isError, .peoplekitThemeDark .peoplekitComponentsChipChip.isDragged.isSpotlit, .peoplekitThemeDark .peoplekitComponentsChipChip.isDragged.isWarning { border-width: 0px; box-shadow: rgba(60, 64, 67, 0.3) 0px 1px 2px 0px, rgba(60, 64, 67, 0.15) 0px 2px 6px 2px; }

.peoplekitThemeDark .peoplekitComponentsChipChip.isDragged.isActive .mdc-elevation-overlay, .peoplekitThemeDark .peoplekitComponentsChipChip.isDragged.isError .mdc-elevation-overlay, .peoplekitThemeDark .peoplekitComponentsChipChip.isDragged.isSpotlit .mdc-elevation-overlay, .peoplekitThemeDark .peoplekitComponentsChipChip.isDragged.isWarning .mdc-elevation-overlay { opacity: 0; }

.peoplekitThemeDark .peoplekitThemeDark .peoplekitComponentsChipChip.isDragged.isActive, .peoplekitThemeDark .peoplekitThemeDark .peoplekitComponentsChipChip.isDragged.isError, .peoplekitThemeDark .peoplekitThemeDark .peoplekitComponentsChipChip.isDragged.isSpotlit, .peoplekitThemeDark .peoplekitThemeDark .peoplekitComponentsChipChip.isDragged.isWarning { border-width: 0px; box-shadow: rgba(60, 64, 67, 0.3) 0px 1px 2px 0px, rgba(60, 64, 67, 0.15) 0px 2px 6px 2px; }

.peoplekitThemeDark .peoplekitComponentsChipChip.isDragged .mdc-elevation-overlay, .peoplekitThemeDark .peoplekitThemeDark .peoplekitComponentsChipChip.isDragged.isActive .mdc-elevation-overlay, .peoplekitThemeDark .peoplekitThemeDark .peoplekitComponentsChipChip.isDragged.isError .mdc-elevation-overlay, .peoplekitThemeDark .peoplekitThemeDark .peoplekitComponentsChipChip.isDragged.isSpotlit .mdc-elevation-overlay, .peoplekitThemeDark .peoplekitThemeDark .peoplekitComponentsChipChip.isDragged.isWarning .mdc-elevation-overlay { opacity: 0; }

.peoplekitThemeDark .peoplekitComponentsChipChip.isDragged.peopleKitStyleGm3 { box-shadow: rgba(0, 0, 0, 0.3) 0px 1px 3px 0px, rgba(0, 0, 0, 0.15) 0px 4px 8px 3px; }

.peoplekitThemeDark .peoplekitComponentsChipChip.isDisabled, .peoplekitThemeDark .peoplekitComponentsChipChip.isDisabled:hover { cursor: default; opacity: 0.5; }

.peoplekitThemeDark .peoplekitComponentsChipChip.isDeletionDisabled .peoplekitComponentsChipDeleteButton { display: none; }

.peopleKitStyleGm3 .peoplekitComponentsChipChip { position: relative; }

.peopleKitStyleGm3 .peoplekitComponentsChipChip::before { background: var(--pkw-on-surface-variant,var(--gm3-sys-color-on-surface-variant,#444746)); border-radius: 50vh; content: ""; height: 100%; left: 0px; opacity: 0; position: absolute; top: 0px; width: 100%; }

.peoplekitThemeDark .peopleKitStyleGm3 .peoplekitComponentsChipChip::before { background: var(--pkw-on-surface-variant,var(--gm3-sys-color-on-surface-variant,#c4c7c5)); }

.peopleKitStyleGm3 .peoplekitComponentsChipChip:hover::before { opacity: 0.08; }

.peopleKitStyleGm3 .peoplekitComponentsChipChip.isActive:hover::before { opacity: 0.1; }

.peopleKitStyleGm3 .peoplekitComponentsChipChip.isWarning:hover::before { opacity: 0.08; }

.peopleKitStyleGm3 .peoplekitComponentsChipChip.isWarning.isActive:hover::before { opacity: 0.1; }

.peopleKitStyleGm3 .peoplekitComponentsChipChip.isError:hover::before { opacity: 0.08; }

.peopleKitStyleGm3 .peoplekitComponentsChipChip.isError.isActive:hover::before { opacity: 0.1; }

.peoplekitComponentsChipChipRow { -webkit-box-align: stretch; align-items: stretch; display: flex; -webkit-box-orient: horizontal; -webkit-box-direction: normal; flex-flow: row; padding: 2px; }

.peoplekitComponentsChipLeft { -webkit-box-flex: initial; flex: initial; }

.peoplekitComponentsChipCenter { -webkit-box-align: stretch; place-items: stretch; display: flex; -webkit-box-flex: 1; flex: 1 1 auto; overflow: hidden; }

.peoplekitComponentsChipRight { -webkit-box-align: center; align-items: center; display: flex; -webkit-box-flex: initial; flex: initial; }

.peoplekitComponentsChipLabelContainer { display: flex; -webkit-box-orient: vertical; -webkit-box-direction: normal; flex-flow: column; -webkit-box-pack: center; justify-content: center; margin-left: 8px; margin-right: 8px; overflow: hidden; }

.peoplekitComponentsChipLabelRow { -webkit-box-flex: initial; flex: initial; }

.peoplekitComponentsChipLabel { letter-spacing: 0.0214286em; font-family: Roboto, Arial, sans-serif; font-size: 0.875rem; font-weight: 500; line-height: unset; max-width: 400px; overflow: hidden; text-overflow: ellipsis; white-space: nowrap; display: flex; }

.peopleKitStyleGm3 .peoplekitComponentsChipLabel { font-family: "Google Sans Text", "Google Sans", Roboto, Arial, sans-serif; font-size: 0.875rem; font-weight: 500; letter-spacing: 0px; line-height: 1.25rem; }

.peoplekitComponentsChipDisambiguationLabel.hasDisambiguationLabel { margin-left: 4px; }

.peoplekitComponentsChipDisplayLabel { -webkit-box-flex: 1; flex: 1 0 auto; overflow: hidden; text-overflow: ellipsis; max-width: 100%; }

.peoplekitComponentsChipDisambiguationLabel { overflow: hidden; text-overflow: ellipsis; }

.peoplekitComponentsChipAvatar { position: relative; }

.peoplekitComponentsChipAvatarContainer { height: inherit; width: inherit; position: relative; }

.peoplekitComponentsChipAvatarExclamationOverlay { border-radius: 50%; height: 100%; left: 0px; outline: transparent solid 1px; position: absolute; top: 0px; width: 100%; display: flex; -webkit-box-align: center; align-items: center; -webkit-box-pack: center; justify-content: center; }

.peoplekitComponentsChipAvatarExclamationOverlay.isError { background-color: var(--pkw-error,#c5221f); }

.peoplekitThemeDark .peoplekitComponentsChipAvatarExclamationOverlay.isError { background-color: var(--pkw-error,#f28b82); }

.peoplekitComponentsChipExclamationIcon { display: inline-flex; height: 85%; width: 85%; }

.peoplekitComponentsChipExclamationIcon.isError { fill: var(--pkw-on-error,#fff); }

.peoplekitThemeDark .peoplekitComponentsChipExclamationIcon.isError { fill: var(--pkw-on-error,#202124); }

@media (forced-colors: active) {
  .peoplekitComponentsChipExclamationIcon { filter: brightness(0); }
}

.peoplekitComponentsChipDeleteButton { -webkit-box-align: center; align-items: center; display: flex; height: 100%; max-height: 24px; margin-left: -3px; margin-right: 1px; width: 24px; z-index: 1; }

.peoplekitComponentsChipDeleteIcon { display: block; fill: currentcolor; margin: 0px auto; }

.peoplekitComponentsChipPlaceholderAvatarPlaceholder { border-radius: 50%; background-color: var(--pkw-secondary-fixed-dim,#aecbfa); }

.peoplekitComponentsChipPlaceholderLabelPlaceholder { align-self: center; background-color: var(--pkw-secondary-fixed-dim,#aecbfa); border-radius: 8px; height: 16px; margin-left: 8px; margin-right: 8px; width: 150px; }

.peoplekitComponentsChipPlaceholderShimmer { animation: 1.4s cubic-bezier(0.5, 0, 0.5, 1) 0s infinite normal none running fadeinout; }

@-webkit-keyframes fadeinout { 
  0% { opacity: 0.75; }
  50% { opacity: 1; }
  100% { opacity: 0.75; }
}

@keyframes fadeinout { 
  0% { opacity: 0.75; }
  50% { opacity: 1; }
  100% { opacity: 0.75; }
}

.peoplekitComponentsTooltipImplTooltip { font-family: Roboto, Arial, sans-serif; font-size: 0.75rem; letter-spacing: 0.025em; background-color: var(--pkw-inverse-surface,#3c4043); color: var(--pkw-inverse-on-surface,#f1f3f4); border-radius: 5px; box-sizing: border-box; font-weight: 700; line-height: 16px; min-width: 40px; max-width: 200px; min-height: 24px; max-height: 40vh; overflow: hidden; padding: 4px 8px; position: absolute; outline: transparent solid 1px; text-align: center; width: max-content; z-index: 9; }

.peoplekitThemeDark .peoplekitComponentsTooltipImplTooltip { background-color: var(--pkw-inverse-surface,#3c4043); color: var(--pkw-inverse-on-surface,#e8eaed); }

.peopleKitStyleGm3 .peoplekitComponentsTooltipImplTooltip { font-family: "Google Sans Text", "Google Sans", Roboto, Arial, sans-serif; font-size: 0.75rem; font-weight: 400; letter-spacing: 0.00625rem; line-height: 1rem; border-radius: 4px; }

.peoplekitComponentsButtonIconIconButton { background: none; border: none; border-radius: 50%; cursor: pointer; }

.peoplekitComponentsButtonIconIconButton:hover { background-color: var(--pkw-background,#dadce0); }

.peoplekitComponentsButtonIconIconButton:active { background-color: var(--pkw-background,#bdc1c6); }

.peoplekitComponentsButtonIconIconButton.isFocused { background-color: var(--pkw-background,#dadce0); outline: transparent solid 3px; }

.peoplekitComponentsButtonIconIconButton.googleMaterialDefaultDensity { height: 40px; padding: 8px; width: 40px; }

.peoplekitComponentsButtonIconIconButton.googleMaterialDefaultDensity .peoplekitComponentsButtonIconAdaptableIcon { height: 24px; width: 24px; }

.peoplekitComponentsButtonIconIconButton.workspaceMaterialComfortableDensity { height: 32px; padding: 6px; width: 32px; }

.peoplekitComponentsButtonIconIconButton.workspaceMaterialComfortableDensity .peoplekitComponentsButtonIconAdaptableIcon { height: 20px; width: 20px; }

.peoplekitComponentsButtonIconIconButton.workspaceMaterialCompactDensity { height: 28px; padding: 5px; width: 28px; }

.peoplekitComponentsButtonIconIconButton.workspaceMaterialCompactDensity .peoplekitComponentsButtonIconAdaptableIcon { height: 18px; width: 18px; }

.peoplekitThemeDark .peoplekitComponentsButtonIconIconButton { background: none; border: none; border-radius: 50%; cursor: pointer; }

.peoplekitThemeDark .peoplekitComponentsButtonIconIconButton:hover { background-color: var(--pkw-background,#5f6368); }

.peoplekitThemeDark .peoplekitComponentsButtonIconIconButton:active { background-color: var(--pkw-background,#80868b); }

.peoplekitThemeDark .peoplekitComponentsButtonIconIconButton.isFocused { background-color: var(--pkw-background,#5f6368); outline: transparent solid 3px; }

.peoplekitThemeDark .peoplekitComponentsButtonIconIconButton.googleMaterialDefaultDensity { height: 40px; padding: 8px; width: 40px; }

.peoplekitThemeDark .peoplekitComponentsButtonIconIconButton.googleMaterialDefaultDensity .peoplekitComponentsButtonIconAdaptableIcon { height: 24px; width: 24px; }

.peoplekitThemeDark .peoplekitComponentsButtonIconIconButton.workspaceMaterialComfortableDensity { height: 32px; padding: 6px; width: 32px; }

.peoplekitThemeDark .peoplekitComponentsButtonIconIconButton.workspaceMaterialComfortableDensity .peoplekitComponentsButtonIconAdaptableIcon { height: 20px; width: 20px; }

.peoplekitThemeDark .peoplekitComponentsButtonIconIconButton.workspaceMaterialCompactDensity { height: 28px; padding: 5px; width: 28px; }

.peoplekitThemeDark .peoplekitComponentsButtonIconIconButton.workspaceMaterialCompactDensity .peoplekitComponentsButtonIconAdaptableIcon { height: 18px; width: 18px; }

.peopleKitStyleGm3 .peoplekitComponentsButtonIconIconButton { position: relative; }

.peopleKitStyleGm3 .peoplekitComponentsButtonIconIconButton::before { background: var(--pkw-on-surface-variant,var(--gm3-sys-color-on-surface-variant,#444746)); border-radius: 50%; content: ""; height: 100%; left: 0px; opacity: 0; position: absolute; top: 0px; width: 100%; }

.peoplekitThemeDark .peopleKitStyleGm3 .peoplekitComponentsButtonIconIconButton::before { background: var(--pkw-on-surface-variant,var(--gm3-sys-color-on-surface-variant,#c4c7c5)); }

.peopleKitStyleGm3 .peoplekitComponentsButtonIconIconButton:hover::before { opacity: 0.16; }

.peopleKitStyleGm3 .peoplekitComponentsButtonIconIconButton:active::before { opacity: 0.2; }

.peopleKitStyleGm3 .peoplekitComponentsButtonIconIconButton.isFocused::before { opacity: 0.2; }

@media (forced-colors: none) {
  .peopleKitStyleGm3 .peoplekitComponentsButtonIconAdaptableIcon { filter: brightness(0) saturate(100%) invert(25%) sepia(11%) saturate(129%) hue-rotate(109deg) brightness(93%) contrast(86%); }
  .peoplekitThemeDark .peopleKitStyleGm3 .peoplekitComponentsButtonIconAdaptableIcon { filter: brightness(0) saturate(100%) invert(88%) sepia(2%) saturate(246%) hue-rotate(87deg) brightness(92%) contrast(88%); }
}

@media (forced-colors: active) and (prefers-color-scheme: dark) {
  .peoplekitComponentsButtonIconAdaptableIcon { filter: brightness(0) invert(1); }
}

@media (forced-colors: active) and (prefers-color-scheme: light) {
  .peoplekitComponentsButtonIconAdaptableIcon { filter: brightness(0); }
}

.peoplekitComponentsResultlistitemResultListItem { background: var(--pkw-background,#fff); display: flex; -webkit-box-orient: vertical; -webkit-box-direction: normal; flex-direction: column; -webkit-box-pack: center; justify-content: center; cursor: pointer; }

.peoplekitComponentsResultlistitemResultListItem:hover { background: var(--pkw-background,hsla(0,0%,4%,.04)); }

.peoplekitComponentsResultlistitemResultListItem:hover .peoplekitComponentsResultlistitemDisabledIconIndicator { background: var(--pkw-background,#f1f3f4); }

.peoplekitComponentsResultlistitemResultListItem.isActive { background: var(--pkw-background,hsla(0,0%,4%,.12)); outline: transparent solid 3px; outline-offset: -3px; }

.peoplekitComponentsResultlistitemResultListItem.isActive .peoplekitComponentsResultlistitemDisabledIconIndicator { background: var(--pkw-background,#f1f3f4); }

.peoplekitThemeDark .peoplekitComponentsResultlistitemResultListItem { background: var(--pkw-background,linear-gradient(0deg,rgba(232,234,237,.08),rgba(232,234,237,.08)),#202124); display: flex; -webkit-box-orient: vertical; -webkit-box-direction: normal; flex-direction: column; -webkit-box-pack: center; justify-content: center; cursor: pointer; }

.peoplekitThemeDark .peoplekitComponentsResultlistitemResultListItem:hover { background: var(--pkw-background,linear-gradient(0deg,rgba(232,234,237,.14),rgba(232,234,237,.14)),#202124); }

.peoplekitThemeDark .peoplekitComponentsResultlistitemResultListItem:hover .peoplekitComponentsResultlistitemDisabledIconIndicator { background: var(--pkw-background,rgba(241,243,244,.14)); }

.peoplekitThemeDark .peoplekitComponentsResultlistitemResultListItem.isActive { background: var(--pkw-background,linear-gradient(0deg,rgba(232,234,237,.19),rgba(232,234,237,.19)),#202124); outline: transparent solid 3px; outline-offset: -3px; }

.peoplekitThemeDark .peoplekitComponentsResultlistitemResultListItem.isActive .peoplekitComponentsResultlistitemDisabledIconIndicator { background: var(--pkw-background,rgba(241,243,244,.14)); }

.peopleKitStyleGm3 .peoplekitComponentsResultlistitemResultListItem { position: relative; }

.peopleKitStyleGm3 .peoplekitComponentsResultlistitemResultListItem::before { background: var(--pkw-on-surface-variant,var(--gm3-sys-color-on-surface-variant,#444746)); content: ""; height: 100%; left: 0px; opacity: 0; position: absolute; top: 0px; width: 100%; }

.peoplekitThemeDark .peopleKitStyleGm3 .peoplekitComponentsResultlistitemResultListItem::before { background: var(--pkw-on-surface-variant,var(--gm3-sys-color-on-surface-variant,#c4c7c5)); }

.peopleKitStyleGm3 .peoplekitComponentsResultlistitemResultListItem:hover::before { opacity: 0.08; }

.peopleKitStyleGm3 .peoplekitComponentsResultlistitemResultListItem.isActive::before { opacity: 0.1; }

.peoplekitComponentsResultlistitemResultListItem.googleMaterialDefaultDensity { min-height: 64px; }

.peoplekitComponentsResultlistitemResultListItem.googleMaterialDefaultDensity .peoplekitComponentsResultlistitemLabel { font-family: Roboto, Arial, sans-serif; line-height: 1.5rem; font-size: 1rem; letter-spacing: 0.00625em; font-weight: 400; }

.peopleKitStyleGm3 .peoplekitComponentsResultlistitemResultListItem.googleMaterialDefaultDensity .peoplekitComponentsResultlistitemLabel { font-family: "Google Sans Text", "Google Sans", Roboto, Arial, sans-serif; line-height: 1.5rem; font-size: 1rem; letter-spacing: 0px; font-weight: 400; }

.peoplekitComponentsResultlistitemResultListItem.googleMaterialDefaultDensity .peoplekitComponentsResultlistitemSublabel { font-family: Roboto, Arial, sans-serif; line-height: 1.25rem; font-size: 0.875rem; letter-spacing: 0.0142857em; font-weight: 400; }

.peopleKitStyleGm3 .peoplekitComponentsResultlistitemResultListItem.googleMaterialDefaultDensity .peoplekitComponentsResultlistitemSublabel { font-family: "Google Sans Text", "Google Sans", Roboto, Arial, sans-serif; font-size: 0.875rem; font-weight: 400; letter-spacing: 0px; line-height: 1.25rem; }

.peoplekitComponentsResultlistitemResultListItem.googleMaterialDefaultDensity .peoplekitComponentsResultlistitemWhiteCheckSvg { width: 24px; height: 24px; }

.peoplekitComponentsResultlistitemResultListItem.googleMaterialDefaultDensity .peoplekitComponentsResultlistitemMetaIcon { width: 25px; height: 25px; }

.peoplekitComponentsResultlistitemResultListItem.googleMaterialDefaultDensity .peoplekitComponentsResultlistitemResultListItemRow { padding: 8px 16px; }

.peopleKitStyleGm3 .peoplekitComponentsResultlistitemResultListItem.googleMaterialDefaultDensity { min-height: 72px; }

.peoplekitComponentsResultlistitemResultListItem.workspaceMaterialComfortableDensity { min-height: 52px; }

.peoplekitComponentsResultlistitemResultListItem.workspaceMaterialComfortableDensity .peoplekitComponentsResultlistitemLabel { font-family: Roboto, Arial, sans-serif; font-size: 0.875rem; letter-spacing: 0.0142857em; font-weight: 400; line-height: 1.25rem; }

.peopleKitStyleGm3 .peoplekitComponentsResultlistitemResultListItem.workspaceMaterialComfortableDensity .peoplekitComponentsResultlistitemLabel { font-family: "Google Sans Text", "Google Sans", Roboto, Arial, sans-serif; font-size: 0.875rem; font-weight: 400; letter-spacing: 0px; line-height: 1.25rem; }

.peoplekitComponentsResultlistitemResultListItem.workspaceMaterialComfortableDensity .peoplekitComponentsResultlistitemSublabel { font-family: Roboto, Arial, sans-serif; font-size: 0.75rem; letter-spacing: 0.025em; font-weight: 400; line-height: 1rem; }

.peopleKitStyleGm3 .peoplekitComponentsResultlistitemResultListItem.workspaceMaterialComfortableDensity .peoplekitComponentsResultlistitemSublabel { font-family: "Google Sans Text", "Google Sans", Roboto, Arial, sans-serif; font-size: 0.75rem; font-weight: 400; letter-spacing: 0.00625rem; line-height: 1rem; }

.peoplekitComponentsResultlistitemResultListItem.workspaceMaterialComfortableDensity .peoplekitComponentsResultlistitemWhiteCheckSvg { width: 19px; height: 19px; }

.peoplekitComponentsResultlistitemResultListItem.workspaceMaterialComfortableDensity .peoplekitComponentsResultlistitemMetaIcon { width: 20px; height: 20px; }

.peoplekitComponentsResultlistitemResultListItem.workspaceMaterialComfortableDensity .peoplekitComponentsResultlistitemResultListItemRow { padding-left: 12px; padding-right: 12px; }

.peoplekitComponentsResultlistitemResultListItem.workspaceMaterialCompactDensity { min-height: 44px; }

.peoplekitComponentsResultlistitemResultListItem.workspaceMaterialCompactDensity .peoplekitComponentsResultlistitemLabel { font-family: Roboto, Arial, sans-serif; font-size: 0.875rem; letter-spacing: 0.0142857em; font-weight: 400; line-height: 1.125; }

.peopleKitStyleGm3 .peoplekitComponentsResultlistitemResultListItem.workspaceMaterialCompactDensity .peoplekitComponentsResultlistitemLabel { font-family: "Google Sans Text", "Google Sans", Roboto, Arial, sans-serif; font-size: 0.875rem; font-weight: 400; letter-spacing: 0px; line-height: 1.25rem; }

.peoplekitComponentsResultlistitemResultListItem.workspaceMaterialCompactDensity .peoplekitComponentsResultlistitemSublabel { font-family: Roboto, Arial, sans-serif; font-size: 0.75rem; letter-spacing: 0.025em; font-weight: 400; line-height: 0.875rem; }

.peopleKitStyleGm3 .peoplekitComponentsResultlistitemResultListItem.workspaceMaterialCompactDensity .peoplekitComponentsResultlistitemSublabel { font-family: "Google Sans Text", "Google Sans", Roboto, Arial, sans-serif; font-size: 0.75rem; font-weight: 400; letter-spacing: 0.00625rem; line-height: 1rem; }

.peoplekitComponentsResultlistitemResultListItem.workspaceMaterialCompactDensity .peoplekitComponentsResultlistitemWhiteCheckSvg { width: 17px; height: 17px; }

.peoplekitComponentsResultlistitemResultListItem.workspaceMaterialCompactDensity .peoplekitComponentsResultlistitemMetaIcon { width: 20px; height: 20px; }

.peoplekitComponentsResultlistitemResultListItem.workspaceMaterialCompactDensity .peoplekitComponentsResultlistitemResultListItemRow { padding-left: 12px; padding-right: 12px; }

.peoplekitComponentsResultlistitemResultListItem.isDisabled { cursor: default; }

.peoplekitComponentsResultlistitemResultListItem.isDisabled .peoplekitComponentsResultlistitemLabel, .peoplekitComponentsResultlistitemResultListItem.isDisabled .peoplekitComponentsResultlistitemSublabelText { color: var(--pkw-on-surface,#3c4043); opacity: 0.38; }

.peoplekitThemeDark .peoplekitComponentsResultlistitemResultListItem.isDisabled .peoplekitComponentsResultlistitemLabel, .peoplekitThemeDark .peoplekitComponentsResultlistitemResultListItem.isDisabled .peoplekitComponentsResultlistitemSublabelText { color: var(--pkw-on-surface,#e8eaed); }

.peoplekitComponentsResultlistitemResultListItem.isDisabled .peoplekitComponentsResultlistitemAvatar { opacity: 0.5; }

.peoplekitComponentsResultlistitemResultListItem.isSelected .peoplekitComponentsResultlistitemAvatarSelectionOverlay { opacity: 1; transform: scale(1); }

.peoplekitComponentsResultlistitemResultListItem.isOutOfOffice { background-color: var(--pkw-caution-container-low,#ffefd5); }

.peoplekitComponentsResultlistitemResultListItemRow { -webkit-box-align: center; align-items: center; display: flex; -webkit-box-orient: horizontal; -webkit-box-direction: normal; flex-flow: row; }

.peoplekitComponentsResultlistitemLeft { -webkit-box-flex: initial; flex: initial; }

.peoplekitComponentsResultlistitemCenter { -webkit-box-flex: 1; flex: 1 1 auto; overflow: hidden; }

.peoplekitComponentsResultlistitemRight { display: inline-flex; -webkit-box-flex: initial; flex: initial; }

.peoplekitComponentsResultlistitemLabelContainer { align-content: flex-start; -webkit-box-align: start; align-items: flex-start; display: flex; -webkit-box-orient: vertical; -webkit-box-direction: normal; flex-flow: column; margin-right: 0px; }

.peopleKitStyleGm3 .peoplekitComponentsResultlistitemLabelContainer { margin-left: 16px; }

.peoplekitComponentsResultlistitemLabelContainer { margin-left: 12px; }

.peoplekitComponentsResultlistitemLabelRow { -webkit-box-flex: initial; flex: initial; width: 100%; }

.peoplekitComponentsResultlistitemLabel { display: flex; -webkit-box-orient: horizontal; -webkit-box-direction: normal; flex-direction: row; overflow: hidden; text-overflow: ellipsis; white-space: nowrap; }

.peoplekitComponentsResultlistitemLabelText { color: var(--pkw-on-surface,#3c4043); overflow: hidden; text-overflow: ellipsis; white-space: nowrap; }

.peoplekitThemeDark .peoplekitComponentsResultlistitemLabelText { color: var(--pkw-on-surface,#e8eaed); }

.peoplekitComponentsResultlistitemTags { display: flex; -webkit-box-orient: horizontal; -webkit-box-direction: normal; flex-direction: row; -webkit-box-align: center; align-items: center; }

.peoplekitComponentsResultlistitemSublabel { display: flex; -webkit-box-orient: horizontal; -webkit-box-direction: normal; flex-direction: row; overflow: hidden; text-overflow: ellipsis; white-space: nowrap; }

.peoplekitComponentsResultlistitemSublabelText { color: var(--pkw-on-surface-variant,#5f6368); overflow: hidden; text-overflow: ellipsis; white-space: nowrap; }

.peoplekitThemeDark .peoplekitComponentsResultlistitemSublabelText { color: var(--pkw-on-surface-variant,#9aa0a6); }

.peoplekitComponentsResultlistitemAvatar { position: relative; }

.peoplekitComponentsResultlistitemAvatarContainer { height: inherit; width: inherit; position: relative; }

.peoplekitComponentsResultlistitemAvatarSelectionOverlay { background-color: var(--pkw-primary,#1a73e8); border-radius: 50%; height: 100%; left: 0px; opacity: 0; outline: transparent solid 1px; position: absolute; top: 0px; transform: scale(0); transition: transform 0.15s ease-out, -webkit-transform 0.15s ease-out; width: 100%; display: flex; -webkit-box-align: center; align-items: center; -webkit-box-pack: center; justify-content: center; }

.peoplekitThemeDark .peoplekitComponentsResultlistitemAvatarSelectionOverlay { background-color: var(--pkw-primary,#8ab4f8); }

.peoplekitComponentsResultlistitemWhiteCheck { fill: var(--pkw-background,#fff); display: inline-flex; }

.peoplekitThemeDark .peoplekitComponentsResultlistitemWhiteCheck { fill: var(--pkw-background,#202124); }

@media (forced-colors: active) and (prefers-color-scheme: dark) {
  .peoplekitComponentsResultlistitemWhiteCheck { filter: brightness(0) invert(1); }
}

@media (forced-colors: active) and (prefers-color-scheme: light) {
  .peoplekitComponentsResultlistitemWhiteCheck { filter: brightness(0); }
}

.peoplekitComponentsResultlistitemOutOfOffice { font-family: Roboto, Arial, sans-serif; line-height: 1.25rem; font-size: 0.875rem; letter-spacing: 0.0142857em; font-weight: 400; color: var(--pkw-on-surface-variant,#5f6368); overflow: hidden; text-overflow: ellipsis; white-space: nowrap; display: none; }

.peoplekitThemeDark .peoplekitComponentsResultlistitemOutOfOffice { color: var(--pkw-on-surface-variant,#9aa0a6); }

.peopleKitStyleGm3 .peoplekitComponentsResultlistitemOutOfOffice { font-family: "Google Sans Text", "Google Sans", Roboto, Arial, sans-serif; font-size: 0.875rem; font-weight: 400; letter-spacing: 0px; line-height: 1.25rem; }

.peoplekitComponentsResultlistitemMetaIcon { margin-left: 16px; }

.peoplekitComponentsResultlistitemMetaIcon[src=""] { display: none; }

.peoplekitComponentsListImplList { list-style: none; margin: 0px; padding: 0px; }

.peoplekitComponentsListImplList:focus { outline: none; }

.peoplekitComponentsResultListCoreGroupSectionListContainer { overflow: hidden; transform-origin: center top; transition: 0.5s cubic-bezier(0.05, 0.7, 0.1, 1); }

.peoplekitComponentsResultListCoreGroupSectionListContainer.collapsed { height: 0px; transform: scaleY(0); transition: 0.2s cubic-bezier(0.3, 0, 0.8, 0.15); }

.peoplekitComponentsGroupingHeaderCollapsibleChevronContainer { -webkit-box-align: center; align-items: center; border-radius: 50%; cursor: pointer; display: flex; transition: transform 365ms cubic-bezier(0.4, 0, 0.2, 1), -webkit-transform 365ms cubic-bezier(0.4, 0, 0.2, 1); }

.peoplekitComponentsGroupingHeaderCollapsibleChevronContainer:hover { background: var(--pkw-background,hsla(0,0%,4%,.04)); }

.peoplekitComponentsGroupingHeaderCollapsibleChevronContainer:active { background: var(--pkw-background,hsla(0,0%,4%,.12)); }

.peoplekitComponentsGroupingHeaderCollapsibleChevronContainer.isSpotlit { background: var(--pkw-background,hsla(0,0%,4%,.12)); outline: transparent solid 3px; outline-offset: -3px; }

.peoplekitComponentsGroupingHeaderCollapsibleChevronContainer.rotate { transform: rotate(-180deg); }

.peoplekitThemeDark .peoplekitComponentsGroupingHeaderCollapsibleChevronContainer { -webkit-box-align: center; align-items: center; border-radius: 50%; cursor: pointer; display: flex; transition: transform 365ms cubic-bezier(0.4, 0, 0.2, 1), -webkit-transform 365ms cubic-bezier(0.4, 0, 0.2, 1); }

.peoplekitThemeDark .peoplekitComponentsGroupingHeaderCollapsibleChevronContainer:hover { background: var(--pkw-background,linear-gradient(0deg,rgba(232,234,237,.14),rgba(232,234,237,.14)),#202124); }

.peoplekitThemeDark .peoplekitComponentsGroupingHeaderCollapsibleChevronContainer:active { background: var(--pkw-background,linear-gradient(0deg,rgba(232,234,237,.19),rgba(232,234,237,.19)),#202124); }

.peoplekitThemeDark .peoplekitComponentsGroupingHeaderCollapsibleChevronContainer.isSpotlit { background: var(--pkw-background,linear-gradient(0deg,rgba(232,234,237,.19),rgba(232,234,237,.19)),#202124); outline: transparent solid 3px; outline-offset: -3px; }

.peoplekitThemeDark .peoplekitComponentsGroupingHeaderCollapsibleChevronContainer.rotate { transform: rotate(-180deg); }

.peopleKitStyleGm3 .peoplekitComponentsGroupingHeaderCollapsibleChevronContainer { position: relative; }

.peopleKitStyleGm3 .peoplekitComponentsGroupingHeaderCollapsibleChevronContainer::before { background: var(--pkw-on-surface-variant,var(--gm3-sys-color-on-surface-variant,#444746)); border-radius: 50%; content: ""; height: 100%; left: 0px; opacity: 0; position: absolute; top: 0px; width: 100%; }

.peoplekitThemeDark .peopleKitStyleGm3 .peoplekitComponentsGroupingHeaderCollapsibleChevronContainer::before { background: var(--pkw-on-surface-variant,var(--gm3-sys-color-on-surface-variant,#c4c7c5)); }

.peopleKitStyleGm3 .peoplekitComponentsGroupingHeaderCollapsibleChevronContainer:hover::before { opacity: 0.08; }

.peopleKitStyleGm3 .peoplekitComponentsGroupingHeaderCollapsibleChevronContainer:active::before { opacity: 0.1; }

.peopleKitStyleGm3 .peoplekitComponentsGroupingHeaderCollapsibleChevronContainer.isSpotlit::before { opacity: 0.1; }

.peoplekitComponentsGroupingHeaderCollapsibleChevron { fill: var(--pkw-on-surface-variant,#5f6368); }

.peoplekitThemeDark .peoplekitComponentsGroupingHeaderCollapsibleChevron { fill: var(--pkw-on-surface-variant,#f1f3f4); }

.peoplekitComponentsButtonLabelLabelButton { font-family: "Google Sans", Roboto, Arial, sans-serif; font-size: 0.875rem; letter-spacing: 0.0178571em; font-weight: 500; -webkit-box-align: center; align-items: center; background: none; border: none; border-radius: 4px; color: var(--pkw-primary,#1a73e8); display: flex; height: 36px; line-height: unset; outline: transparent solid 1px; padding: 0px 8px; user-select: none; }

.peoplekitComponentsButtonLabelLabelButton:hover { background-color: var(--pkw-surface-container-high,rgba(26,115,232,.04)); color: var(--pkw-primary,#174ea6); cursor: pointer; }

.peoplekitComponentsButtonLabelLabelButton:focus { background-color: var(--pkw-surface-container-high,rgba(26,115,232,.12)); color: var(--pkw-primary,#174ea6); cursor: pointer; outline-width: 3px; }

.peoplekitComponentsButtonLabelLabelButton.isDisabled { color: var(--pkw-on-surface,#3c4043); opacity: 0.38; }

.peoplekitThemeDark .peoplekitComponentsButtonLabelLabelButton { -webkit-box-align: center; align-items: center; background: none; border: none; border-radius: 4px; color: var(--pkw-primary,#8ab4f8); display: flex; height: 36px; line-height: unset; outline: transparent solid 1px; padding: 0px 8px; user-select: none; }

.peoplekitThemeDark .peoplekitComponentsButtonLabelLabelButton:hover { background-color: var(--pkw-surface-container-high,rgba(138,180,248,.04)); color: var(--pkw-primary,#d2e3fc); cursor: pointer; }

.peoplekitThemeDark .peoplekitComponentsButtonLabelLabelButton:focus { background-color: var(--pkw-surface-container-high,rgba(138,180,248,.12)); color: var(--pkw-primary,#d2e3fc); cursor: pointer; outline-width: 3px; }

.peoplekitThemeDark .peoplekitComponentsButtonLabelLabelButton.isDisabled { color: var(--pkw-on-surface,#e8eaed); opacity: 0.38; }

.peopleKitStyleGm3 .peoplekitComponentsButtonLabelLabelButton { font-family: "Google Sans Text", "Google Sans", Roboto, Arial, sans-serif; font-size: 0.875rem; font-weight: 500; letter-spacing: 0px; line-height: 1.25rem; border-radius: 20px; height: 40px; padding: 0px 24px; position: relative; }

.peopleKitStyleGm3 .peoplekitComponentsButtonLabelLabelButton::before { background: var(--pkw-primary,var(--gm3-sys-color-primary,#0b57d0)); border-radius: 20px; content: ""; height: 100%; left: 0px; opacity: 0; position: absolute; top: 0px; width: 100%; }

.peoplekitThemeDark .peopleKitStyleGm3 .peoplekitComponentsButtonLabelLabelButton::before { background: var(--pkw-primary,var(--gm3-sys-color-primary,#a8c7fa)); }

.peopleKitStyleGm3 .peoplekitComponentsButtonLabelLabelButton:hover::before { opacity: 0.08; }

.peopleKitStyleGm3 .peoplekitComponentsButtonLabelLabelButton:focus::before { opacity: 0.1; }

.peoplekitComponentsDialogImplScrim { background: var(--pkw-scrim,rgba(32,33,36,.6)); -webkit-box-align: center; align-items: center; box-sizing: border-box; display: flex; height: 100%; -webkit-box-pack: center; justify-content: center; left: 0px; position: fixed; top: 0px; width: 100%; z-index: 999999; }

.peoplekitThemeDark .peoplekitComponentsDialogImplScrim { background: var(--pkw-scrim,rgba(32,33,36,.6)); }

.peoplekitComponentsDialogImplDialog { border-width: 0px; box-shadow: rgba(60, 64, 67, 0.3) 0px 1px 3px 0px, rgba(60, 64, 67, 0.15) 0px 4px 8px 3px; background: var(--pkw-surface-container-high,#fff); text-wrap-mode: wrap; border-radius: 8px; max-width: 300px; outline: transparent solid 1px; overflow: hidden; }

.peoplekitComponentsDialogImplDialog .mdc-elevation-overlay { opacity: 0; }

.peoplekitThemeDark .peoplekitComponentsDialogImplDialog { background: var(--pkw-surface-container-high,linear-gradient(0deg,rgba(232,234,237,.08),rgba(232,234,237,.08)),#202124); }

.peoplekitComponentsDialogImplDialog.peopleKitStyleGm3 { box-shadow: rgba(0, 0, 0, 0.3) 0px 1px 3px 0px, rgba(0, 0, 0, 0.15) 0px 4px 8px 3px; border-radius: 28px; padding: 24px; }

.peoplekitComponentsDialogImplAvatarHeader { background: var(--pkw-surface-container-high,#fff); border-bottom: 1px solid var(--pkw-outline-variant,#dadce0); display: flex; -webkit-box-orient: vertical; -webkit-box-direction: normal; flex-direction: column; -webkit-box-pack: center; justify-content: center; padding: 12px; }

.peoplekitThemeDark .peoplekitComponentsDialogImplAvatarHeader { background: var(--pkw-surface-container-high,linear-gradient(0deg,rgba(232,234,237,.08),rgba(232,234,237,.08)),#202124); border-bottom: 1px solid var(--pkw-outline-variant,#80868b); }

.peopleKitStyleGm3 .peoplekitComponentsDialogImplAvatarHeader { padding: 0px 0px 8px; }

.peoplekitComponentsDialogImplTextHeader { font-family: "Google Sans", Roboto, Arial, sans-serif; line-height: 1.5rem; font-size: 1rem; letter-spacing: 0.00625em; font-weight: 500; background: var(--pkw-surface-container-high,#fff); color: var(--pkw-on-surface,#202124); margin: 24px 24px 20px; }

.peoplekitThemeDark .peoplekitComponentsDialogImplTextHeader { background: var(--pkw-surface-container-high,linear-gradient(0deg,rgba(232,234,237,.08),rgba(232,234,237,.08)),#202124); color: var(--pkw-on-surface,#e8eaed); }

.peopleKitStyleGm3 .peoplekitComponentsDialogImplTextHeader { font-family: "Google Sans", Roboto, Arial, sans-serif; font-size: 1.5rem; font-weight: 400; letter-spacing: 0px; line-height: 2rem; margin: 0px; }

.peoplekitComponentsDialogImplHeaderRow { -webkit-box-align: center; align-items: center; display: flex; -webkit-box-orient: horizontal; -webkit-box-direction: normal; flex-flow: row; }

.peoplekitComponentsDialogImplLeft { -webkit-box-flex: initial; flex: initial; }

.peoplekitComponentsDialogImplCenter { -webkit-box-flex: 1; flex: 1 1 auto; overflow: hidden; }

.peoplekitComponentsDialogImplAvatar { position: relative; }

.peoplekitComponentsDialogImplAvatarContainer { height: inherit; position: relative; width: inherit; }

.peoplekitComponentsDialogImplLabelContainer { align-content: flex-start; -webkit-box-align: start; align-items: flex-start; display: flex; -webkit-box-orient: vertical; -webkit-box-direction: normal; flex-flow: column; margin-left: 12px; margin-right: 0px; }

.peoplekitComponentsDialogImplLabelRow { -webkit-box-flex: initial; flex: initial; width: 100%; }

.peoplekitComponentsDialogImplLabel { font-family: "Google Sans", Roboto, Arial, sans-serif; line-height: 1.25rem; font-size: 0.875rem; letter-spacing: 0.0178571em; font-weight: 500; color: var(--pkw-on-surface,#202124); overflow: hidden; text-overflow: ellipsis; white-space: nowrap; }

.peoplekitThemeDark .peoplekitComponentsDialogImplLabel { color: var(--pkw-on-surface,#e8eaed); }

.peopleKitStyleGm3 .peoplekitComponentsDialogImplLabel { font-family: "Google Sans Text", "Google Sans", Roboto, Arial, sans-serif; font-size: 0.875rem; font-weight: 500; letter-spacing: 0px; line-height: 1.25rem; }

.peoplekitComponentsDialogImplSublabel { font-family: Roboto, Arial, sans-serif; line-height: 1rem; font-size: 0.75rem; letter-spacing: 0.025em; font-weight: 400; color: var(--pkw-on-surface-variant,#3c4043); overflow: hidden; text-overflow: ellipsis; white-space: nowrap; }

.peoplekitThemeDark .peoplekitComponentsDialogImplSublabel { color: var(--pkw-on-surface-variant,#9aa0a6); }

.peopleKitStyleGm3 .peoplekitComponentsDialogImplSublabel { font-family: "Google Sans Text", "Google Sans", Roboto, Arial, sans-serif; font-size: 0.75rem; font-weight: 500; letter-spacing: 0.00625rem; line-height: 1rem; }

.peoplekitComponentsDialogImplContent { font-family: Roboto, Arial, sans-serif; line-height: 1.5rem; font-size: 1rem; letter-spacing: 0.00625em; font-weight: 400; color: var(--pkw-on-surface-variant,#3c4043); margin: 24px 24px 20px; }

.peoplekitThemeDark .peoplekitComponentsDialogImplContent { color: var(--pkw-on-surface-variant,#e8eaed); }

.peopleKitStyleGm3 .peoplekitComponentsDialogImplContent { font-family: "Google Sans Text", "Google Sans", Roboto, Arial, sans-serif; font-size: 0.875rem; font-weight: 400; letter-spacing: 0px; line-height: 1.25rem; margin: 0px; padding-top: 16px; padding-bottom: 24px; }

.peoplekitComponentsDialogImplActions { display: flex; -webkit-box-pack: end; justify-content: flex-end; padding: 8px; }

.peopleKitStyleGm3 .peoplekitComponentsDialogImplActions { padding: 0px; }

.peoplekitComponentsDialogImplActionDivider { width: 8px; }

.peoplekitComponentsGroupingHeaderInfoInfoIconContainer { -webkit-box-align: center; align-items: center; border-radius: 50%; cursor: pointer; display: flex; transition: transform 365ms cubic-bezier(0.4, 0, 0.2, 1), -webkit-transform 365ms cubic-bezier(0.4, 0, 0.2, 1); }

.peoplekitComponentsGroupingHeaderInfoInfoIconContainer:hover { background: var(--pkw-background,hsla(0,0%,4%,.04)); }

.peoplekitComponentsGroupingHeaderInfoInfoIconContainer:active { background: var(--pkw-background,hsla(0,0%,4%,.12)); }

.peoplekitComponentsGroupingHeaderInfoInfoIconContainer.isSpotlit { background: var(--pkw-background,hsla(0,0%,4%,.12)); outline: transparent solid 3px; outline-offset: -3px; }

.peoplekitThemeDark .peoplekitComponentsGroupingHeaderInfoInfoIconContainer { -webkit-box-align: center; align-items: center; border-radius: 50%; cursor: pointer; display: flex; transition: transform 365ms cubic-bezier(0.4, 0, 0.2, 1), -webkit-transform 365ms cubic-bezier(0.4, 0, 0.2, 1); }

.peoplekitThemeDark .peoplekitComponentsGroupingHeaderInfoInfoIconContainer:hover { background: var(--pkw-background,linear-gradient(0deg,rgba(232,234,237,.14),rgba(232,234,237,.14)),#202124); }

.peoplekitThemeDark .peoplekitComponentsGroupingHeaderInfoInfoIconContainer:active { background: var(--pkw-background,linear-gradient(0deg,rgba(232,234,237,.19),rgba(232,234,237,.19)),#202124); }

.peoplekitThemeDark .peoplekitComponentsGroupingHeaderInfoInfoIconContainer.isSpotlit { background: var(--pkw-background,linear-gradient(0deg,rgba(232,234,237,.19),rgba(232,234,237,.19)),#202124); outline: transparent solid 3px; outline-offset: -3px; }

.peopleKitStyleGm3 .peoplekitComponentsGroupingHeaderInfoInfoIconContainer { position: relative; }

.peopleKitStyleGm3 .peoplekitComponentsGroupingHeaderInfoInfoIconContainer::before { background: var(--pkw-on-surface-variant,var(--gm3-sys-color-on-surface-variant,#444746)); border-radius: 50%; content: ""; height: 100%; left: 0px; opacity: 0; position: absolute; top: 0px; width: 100%; }

.peoplekitThemeDark .peopleKitStyleGm3 .peoplekitComponentsGroupingHeaderInfoInfoIconContainer::before { background: var(--pkw-on-surface-variant,var(--gm3-sys-color-on-surface-variant,#c4c7c5)); }

.peopleKitStyleGm3 .peoplekitComponentsGroupingHeaderInfoInfoIconContainer:hover::before { opacity: 0.08; }

.peopleKitStyleGm3 .peoplekitComponentsGroupingHeaderInfoInfoIconContainer:active::before { opacity: 0.1; }

.peopleKitStyleGm3 .peoplekitComponentsGroupingHeaderInfoInfoIconContainer.isSpotlit::before { opacity: 0.1; }

.peoplekitComponentsGroupingHeaderInfoLearnMoreLink { color: var(--pkw-primary,#1a73e8); text-decoration: underline; }

.peoplekitThemeDark .peoplekitComponentsGroupingHeaderInfoLearnMoreLink { color: var(--pkw-primary,#8ab4f8); }

.peoplekitComponentsGroupingHeaderInfoLearnMoreLink:visited { color: var(--pkw-primary,#1a73e8); }

.peoplekitThemeDark .peoplekitComponentsGroupingHeaderInfoLearnMoreLink:visited { color: var(--pkw-primary,#8ab4f8); }

.peoplekitComponentsGroupingHeaderInfoInfoIcon { fill: var(--pkw-on-surface-variant,#5f6368); height: 16px; padding: 5px; width: 16px; }

.peoplekitThemeDark .peoplekitComponentsGroupingHeaderInfoInfoIcon { fill: var(--pkw-on-surface-variant,#f1f3f4); }

@media (forced-colors: active) and (prefers-color-scheme: dark) {
  .peoplekitComponentsGroupingHeaderInfoInfoIcon { filter: brightness(0) invert(1); }
}

@media (forced-colors: active) and (prefers-color-scheme: light) {
  .peoplekitComponentsGroupingHeaderInfoInfoIcon { filter: brightness(0); }
}

.peoplekitComponentsGroupingHeaderGroupingHeader { background: var(--pkw-background,#fff); }

.peoplekitThemeDark .peoplekitComponentsGroupingHeaderGroupingHeader { background: var(--pkw-background,linear-gradient(0deg,rgba(232,234,237,.08),rgba(232,234,237,.08)),#202124); }

.peoplekitComponentsGroupingHeaderGroupingHeaderRow { -webkit-box-align: center; align-items: center; display: flex; -webkit-box-orient: horizontal; -webkit-box-direction: normal; flex-flow: row; padding-left: 16px; padding-right: 16px; }

.peoplekitComponentsGroupingHeaderHeader { font-family: Roboto, Arial, sans-serif; line-height: 1rem; font-size: 0.6875rem; letter-spacing: 0.0727273em; font-weight: 500; text-transform: uppercase; color: var(--pkw-on-surface-variant,#5f6368); padding-bottom: 11px; padding-top: 13px; }

.peoplekitThemeDark .peoplekitComponentsGroupingHeaderHeader { color: var(--pkw-on-surface-variant,#f1f3f4); }

.peopleKitStyleGm3 .peoplekitComponentsGroupingHeaderHeader { font-family: "Google Sans Text", "Google Sans", Roboto, Arial, sans-serif; font-size: 0.875rem; font-weight: 500; letter-spacing: 0px; line-height: 1.25rem; text-transform: none; padding: 6px 0px; }

.peoplekitComponentsGroupingHeaderAction { flex-shrink: initial; flex-basis: initial; -webkit-box-flex: 1; flex-grow: 1; }

.peoplekitComponentsGroupingHeaderActionRow { -webkit-box-align: center; align-items: center; display: flex; -webkit-box-orient: horizontal; -webkit-box-direction: normal; flex-direction: row; -webkit-box-pack: justify; justify-content: space-between; }

.peoplekitComponentsGroupingHeaderLeft { -webkit-box-flex: initial; flex: initial; }

.peoplekitComponentsGroupingHeaderRight { -webkit-box-flex: initial; flex: initial; margin-left: 16px; margin-right: 4px; }

.peoplekitComponentsTagTag { background: rgb(241, 243, 244); color: rgb(32, 33, 36); display: flex; -webkit-box-orient: horizontal; -webkit-box-direction: normal; flex-direction: row; -webkit-box-align: center; align-items: center; margin-left: 8px; border-radius: 4px; outline: transparent solid 1px; overflow: hidden; position: relative; }

.peoplekitComponentsTagTag.isWarning { background: rgb(251, 188, 4); color: rgb(32, 33, 36); }

.peopleKitStyleGm3 .peoplekitComponentsTagTag { background: var(--gm3-sys-color-surface-container-high,#e9eef6); color: var(--gm3-sys-color-on-surface-variant,#444746); }

.peopleKitStyleGm3 .peoplekitComponentsTagTag.isWarning { background: rgb(255, 187, 41); color: var(--gm3-sys-color-on-surface,#1f1f1f); }

@media (forced-colors: none) {
  .peopleKitStyleGm3 .peoplekitComponentsTagIcon.isWarning { filter: brightness(0) saturate(100%) invert(0) sepia(7%) saturate(1357%) hue-rotate(335deg) brightness(112%) contrast(76%); }
}

.googleMaterialDefaultDensity .peoplekitComponentsTagTag { height: 20px; min-width: 20px; }

.workspaceMaterialComfortableDensity .peoplekitComponentsTagTag, .workspaceMaterialCompactDensity .peoplekitComponentsTagTag { height: 16px; min-width: 16px; }

.googleMaterialDefaultDensity .peoplekitComponentsTagIcon { width: 16px; height: 16px; margin-left: 2px; font-size: 16px; }

.workspaceMaterialComfortableDensity .peoplekitComponentsTagIcon, .workspaceMaterialCompactDensity .peoplekitComponentsTagIcon { width: 14px; height: 14px; margin-left: 1px; font-size: 14px; }

.peoplekitComponentsTagUnrollingAltText { max-width: 0px; overflow: hidden; transition: max-width 0.3s; }

.peoplekitComponentsTagTag:hover .peoplekitComponentsTagUnrollingAltText { max-width: 1000px; }

@media (forced-colors: active) and (prefers-color-scheme: dark) {
  .peoplekitComponentsTagIcon { filter: brightness(0) invert(1); }
}

.peoplekitComponentsTagText { margin-left: 4px; margin-right: 4px; }

.googleMaterialDefaultDensity .peoplekitComponentsTagText { font-family: Roboto, Arial, sans-serif; line-height: 1.25rem; font-size: 0.875rem; letter-spacing: 0.0178571em; font-weight: 500; }

.googleMaterialDefaultDensity .peoplekitComponentsTagText.peopleKitStyleGm3 { font-family: "Google Sans Text", "Google Sans", Roboto, Arial, sans-serif; font-size: 0.875rem; font-weight: 400; letter-spacing: 0px; line-height: 1.25rem; }

.workspaceMaterialComfortableDensity .peoplekitComponentsTagText { font-family: Roboto, Arial, sans-serif; line-height: 1rem; font-size: 0.75rem; letter-spacing: 0.025em; font-weight: 400; }

.workspaceMaterialComfortableDensity .peoplekitComponentsTagText.peopleKitStyleGm3 { font-family: "Google Sans Text", "Google Sans", Roboto, Arial, sans-serif; font-size: 0.75rem; font-weight: 400; letter-spacing: 0.00625rem; line-height: 1rem; }

.workspaceMaterialCompactDensity .peoplekitComponentsTagText { font-family: Roboto, Arial, sans-serif; line-height: 1rem; font-size: 0.75rem; letter-spacing: 0.025em; font-weight: 400; }

.workspaceMaterialCompactDensity .peoplekitComponentsTagText.peopleKitStyleGm3 { font-family: "Google Sans Text", "Google Sans", Roboto, Arial, sans-serif; font-size: 0.75rem; font-weight: 400; letter-spacing: 0.00625rem; line-height: 1rem; }

.peoplekitComponentsResultlistitemDisabledDisableReasonContainer { -webkit-box-align: center; align-items: center; display: flex; }

.peoplekitComponentsResultlistitemDisabledTextIndicator { font-family: Roboto, Arial, sans-serif; line-height: 1.5rem; font-size: 1rem; letter-spacing: 0.00625em; font-weight: 400; color: var(--pkw-on-surface,#5f6368); }

.peoplekitThemeDark .peoplekitComponentsResultlistitemDisabledTextIndicator { color: var(--pkw-on-surface,#fff); }

.peopleKitStyleGm3 .peoplekitComponentsResultlistitemDisabledTextIndicator { font-family: "Google Sans Text", "Google Sans", Roboto, Arial, sans-serif; line-height: 1.5rem; font-size: 1rem; letter-spacing: 0px; font-weight: 400; }

.peoplekitComponentsResultlistitemDisabledIconIndicator { display: flex; -webkit-box-align: center; align-items: center; -webkit-box-pack: center; justify-content: center; background: var(--pkw-background,#f1f3f4); border-radius: 50px; width: 32px; height: 32px; margin-left: 16px; margin-right: 4px; }

.peoplekitThemeDark .peoplekitComponentsResultlistitemDisabledIconIndicator { background: var(--pkw-background,rgba(241,243,244,.14)); }

.peoplekitComponentsResultlistitemDisabledSelectedIcon { fill: var(--pkw-on-surface-variant,#5f6368); }

.peoplekitThemeDark .peoplekitComponentsResultlistitemDisabledSelectedIcon { fill: var(--pkw-on-surface-variant,#e8eaed); }

@media (forced-colors: active) and (prefers-color-scheme: dark) {
  .peoplekitComponentsResultlistitemDisabledSelectedIcon { filter: brightness(0) invert(1); }
}

@media (forced-colors: active) and (prefers-color-scheme: light) {
  .peoplekitComponentsResultlistitemDisabledSelectedIcon { filter: brightness(0); }
}

.peoplekitUiResultlistHeader { font-family: Roboto, Arial, sans-serif; line-height: 1rem; font-size: 0.6875rem; letter-spacing: 0.0727273em; font-weight: 500; text-transform: uppercase; background: var(--pkw-background,#fff); color: var(--pkw-on-surface-variant,#5f6368); padding-bottom: 12px; padding-left: 16px; padding-top: 12px; }

.peoplekitThemeDark .peoplekitUiResultlistHeader { background: var(--pkw-background,linear-gradient(0deg,rgba(232,234,237,.08),rgba(232,234,237,.08)),#202124); color: var(--pkw-on-surface-variant,#f1f3f4); }

.peopleKitStyleGm3 .peoplekitUiResultlistHeader { font-family: "Google Sans Text", "Google Sans", Roboto, Arial, sans-serif; font-size: 0.875rem; font-weight: 500; letter-spacing: 0px; line-height: 1.25rem; text-transform: none; }

.peoplekitComponentsAutocompleteInlineContainer { background: var(--pkw-background,#fff); height: 100%; display: flex; -webkit-box-orient: vertical; -webkit-box-direction: normal; flex-direction: column; overflow: hidden; user-select: none; }

.peoplekitThemeDark .peoplekitComponentsAutocompleteInlineContainer { background: var(--pkw-background,linear-gradient(0deg,rgba(232,234,237,.08),rgba(232,234,237,.08)),#202124); }

.peoplekitComponentsAutocompleteInlineContainer.isLoading .peoplekitComponentsAutocompleteInlineListContainer, .peoplekitComponentsAutocompleteInlineContainer.isLoading .peoplekitComponentsAutocompleteInlineNoResultsContainer { display: none; }

.peoplekitComponentsAutocompleteInlineContainer.isLoading .peoplekitComponentsAutocompleteInlineCircularProgress { display: flex; -webkit-box-pack: center; justify-content: center; -webkit-box-align: center; align-items: center; height: 100%; }

.peoplekitComponentsAutocompleteInlineContainer.isLoading .peoplekitComponentsAutocompleteInlineCircularProgress::before { -webkit-box-flex: 1; flex: 1 1 auto; }

.peoplekitComponentsAutocompleteInlineContainer.isLoading .peoplekitComponentsAutocompleteInlineCircularProgress::after { -webkit-box-flex: 1; flex: 1 1 auto; }

.peoplekitComponentsAutocompleteInlineContainer.noResults .peoplekitComponentsAutocompleteInlineCircularProgress, .peoplekitComponentsAutocompleteInlineContainer.noResults .peoplekitComponentsAutocompleteInlineListContainer { display: none; }

.peoplekitComponentsAutocompleteInlineContainer.noResults .peoplekitComponentsAutocompleteInlineNoResultsContainer { display: flex; -webkit-box-orient: vertical; -webkit-box-direction: normal; flex-direction: column; -webkit-box-pack: start; justify-content: flex-start; -webkit-box-align: center; align-items: center; height: 100%; overflow: auto; }

.peoplekitComponentsAutocompleteInlineListContainer { height: 100%; display: flex; -webkit-box-orient: vertical; -webkit-box-direction: normal; flex-direction: column; overflow: hidden; }

.peoplekitComponentsAutocompleteInlineCircularProgress, .peoplekitComponentsAutocompleteInlineNoResultsContainer { display: none; }

.peoplekitComponentsCircularprogressCircularProgress { display: inline-block; height: 40px; position: relative; width: 40px; direction: ltr; }

.peoplekitComponentsCircularprogressMessageContainer { height: 0px; overflow: hidden; position: absolute; width: 0px; }

.peoplekitComponentsCircularprogressCircularProgressContainer { width: 100%; height: 100%; }

.peoplekitComponentsCircularprogressCircularProgress.isActive .peoplekitComponentsCircularprogressCircularProgressContainer { animation: 1568ms linear 0s infinite normal none running circular-progress-container-rotate; }

.peoplekitComponentsCircularprogressCircularProgressLayer { height: 100%; opacity: 0; position: absolute; width: 100%; }

.peoplekitComponentsCircularprogressColorOne { border-color: rgb(66, 133, 244); }

.peoplekitComponentsCircularprogressColorTwo { border-color: rgb(234, 67, 53); }

.peoplekitComponentsCircularprogressColorThree { border-color: rgb(251, 188, 4); }

.peoplekitComponentsCircularprogressColorFour { border-color: rgb(52, 168, 83); }

.peoplekitComponentsCircularprogressCircularProgress.isActive .peoplekitComponentsCircularprogressCircularProgressLayer.peoplekitComponentsCircularprogressColorOne { animation: 5332ms cubic-bezier(0.4, 0, 0.2, 1) 0s infinite normal both running circular-progress-fill-unfill-rotate, 5332ms cubic-bezier(0.4, 0, 0.2, 1) 0s infinite normal both running circular-progress-blue-fade-in-out; }

.peoplekitComponentsCircularprogressCircularProgress.isActive .peoplekitComponentsCircularprogressCircularProgressLayer.peoplekitComponentsCircularprogressColorTwo { animation: 5332ms cubic-bezier(0.4, 0, 0.2, 1) 0s infinite normal both running circular-progress-fill-unfill-rotate, 5332ms cubic-bezier(0.4, 0, 0.2, 1) 0s infinite normal both running circular-progress-red-fade-in-out; }

.peoplekitComponentsCircularprogressCircularProgress.isActive .peoplekitComponentsCircularprogressCircularProgressLayer.peoplekitComponentsCircularprogressColorThree { animation: 5332ms cubic-bezier(0.4, 0, 0.2, 1) 0s infinite normal both running circular-progress-fill-unfill-rotate, 5332ms cubic-bezier(0.4, 0, 0.2, 1) 0s infinite normal both running circular-progress-yellow-fade-in-out; }

.peoplekitComponentsCircularprogressCircularProgress.isActive .peoplekitComponentsCircularprogressCircularProgressLayer.peoplekitComponentsCircularprogressColorFour { animation: 5332ms cubic-bezier(0.4, 0, 0.2, 1) 0s infinite normal both running circular-progress-fill-unfill-rotate, 5332ms cubic-bezier(0.4, 0, 0.2, 1) 0s infinite normal both running circular-progress-green-fade-in-out; }

.peoplekitComponentsCircularprogressGapPatch { position: absolute; box-sizing: border-box; top: 0px; left: 45%; width: 10%; height: 100%; overflow: hidden; border-color: inherit; }

.peoplekitComponentsCircularprogressGapPatch .peoplekitComponentsCircularprogressCircle { width: 1000%; left: -450%; }

.peoplekitComponentsCircularprogressCircleClipper { display: inline-block; position: relative; width: 50%; height: 100%; overflow: hidden; border-color: inherit; }

.peoplekitComponentsCircularprogressCircleClipper .peoplekitComponentsCircularprogressCircle { width: 200%; }

.peoplekitComponentsCircularprogressCircle { position: absolute; inset: 0px; box-sizing: border-box; height: 100%; border-width: 3px; border-style: solid; border-top-color: inherit; border-right-color: inherit; border-left-color: inherit; border-bottom-color: transparent; border-radius: 50%; animation: auto ease 0s 1 normal none running none; }

.peoplekitComponentsCircularprogressCircleClipper.peoplekitComponentsCircularprogressLeft .peoplekitComponentsCircularprogressCircle { border-right-color: transparent; transform: rotate(129deg); }

.peoplekitComponentsCircularprogressCircleClipper.peoplekitComponentsCircularprogressRight .peoplekitComponentsCircularprogressCircle { left: -100%; border-left-color: transparent; transform: rotate(-129deg); }

.peoplekitComponentsCircularprogressCircularProgress.isActive .peoplekitComponentsCircularprogressCircleClipper.peoplekitComponentsCircularprogressLeft .peoplekitComponentsCircularprogressCircle { animation: 1333ms cubic-bezier(0.4, 0, 0.2, 1) 0s infinite normal both running circular-progress-left-spin; }

.peoplekitComponentsCircularprogressCircularProgress.isActive .peoplekitComponentsCircularprogressCircleClipper.peoplekitComponentsCircularprogressRight .peoplekitComponentsCircularprogressCircle { animation: 1333ms cubic-bezier(0.4, 0, 0.2, 1) 0s infinite normal both running circular-progress-right-spin; }

.peoplekitComponentsCircularprogressCircularProgress.isWarmdown .peoplekitComponentsCircularprogressCircularProgressContainer { animation: 1568ms linear 0s infinite normal none running circular-progress-container-rotate, 0.4s cubic-bezier(0.4, 0, 0.2, 1) 0s 1 normal none running circular-progress-fade-out; }

@-webkit-keyframes circular-progress-container-rotate { 
  100% { transform: rotate(1turn); }
}

@keyframes circular-progress-container-rotate { 
  100% { transform: rotate(1turn); }
}

@-webkit-keyframes circular-progress-fill-unfill-rotate { 
  12.5% { transform: rotate(135deg); }
  25% { transform: rotate(270deg); }
  37.5% { transform: rotate(405deg); }
  50% { transform: rotate(540deg); }
  62.5% { transform: rotate(675deg); }
  75% { transform: rotate(810deg); }
  87.5% { transform: rotate(945deg); }
  100% { transform: rotate(3turn); }
}

@keyframes circular-progress-fill-unfill-rotate { 
  12.5% { transform: rotate(135deg); }
  25% { transform: rotate(270deg); }
  37.5% { transform: rotate(405deg); }
  50% { transform: rotate(540deg); }
  62.5% { transform: rotate(675deg); }
  75% { transform: rotate(810deg); }
  87.5% { transform: rotate(945deg); }
  100% { transform: rotate(3turn); }
}

@-webkit-keyframes circular-progress-blue-fade-in-out { 
  0% { opacity: 0.99; }
  25% { opacity: 0.99; }
  26% { opacity: 0; }
  89% { opacity: 0; }
  90% { opacity: 0.99; }
  100% { opacity: 0.99; }
}

@keyframes circular-progress-blue-fade-in-out { 
  0% { opacity: 0.99; }
  25% { opacity: 0.99; }
  26% { opacity: 0; }
  89% { opacity: 0; }
  90% { opacity: 0.99; }
  100% { opacity: 0.99; }
}

@-webkit-keyframes circular-progress-red-fade-in-out { 
  0% { opacity: 0; }
  15% { opacity: 0; }
  25% { opacity: 0.99; }
  50% { opacity: 0.99; }
  51% { opacity: 0; }
}

@keyframes circular-progress-red-fade-in-out { 
  0% { opacity: 0; }
  15% { opacity: 0; }
  25% { opacity: 0.99; }
  50% { opacity: 0.99; }
  51% { opacity: 0; }
}

@-webkit-keyframes circular-progress-yellow-fade-in-out { 
  0% { opacity: 0; }
  40% { opacity: 0; }
  50% { opacity: 0.99; }
  75% { opacity: 0.99; }
  76% { opacity: 0; }
}

@keyframes circular-progress-yellow-fade-in-out { 
  0% { opacity: 0; }
  40% { opacity: 0; }
  50% { opacity: 0.99; }
  75% { opacity: 0.99; }
  76% { opacity: 0; }
}

@-webkit-keyframes circular-progress-green-fade-in-out { 
  0% { opacity: 0; }
  65% { opacity: 0; }
  75% { opacity: 0.99; }
  90% { opacity: 0.99; }
  100% { opacity: 0; }
}

@keyframes circular-progress-green-fade-in-out { 
  0% { opacity: 0; }
  65% { opacity: 0; }
  75% { opacity: 0.99; }
  90% { opacity: 0.99; }
  100% { opacity: 0; }
}

@-webkit-keyframes circular-progress-left-spin { 
  0% { transform: rotate(130deg); }
  50% { transform: rotate(-5deg); }
  100% { transform: rotate(130deg); }
}

@keyframes circular-progress-left-spin { 
  0% { transform: rotate(130deg); }
  50% { transform: rotate(-5deg); }
  100% { transform: rotate(130deg); }
}

@-webkit-keyframes circular-progress-right-spin { 
  0% { transform: rotate(-130deg); }
  50% { transform: rotate(5deg); }
  100% { transform: rotate(-130deg); }
}

@keyframes circular-progress-right-spin { 
  0% { transform: rotate(-130deg); }
  50% { transform: rotate(5deg); }
  100% { transform: rotate(-130deg); }
}

@-webkit-keyframes circular-progress-fade-out { 
  0% { opacity: 0.99; }
  100% { opacity: 0; }
}

@keyframes circular-progress-fade-out { 
  0% { opacity: 0.99; }
  100% { opacity: 0; }
}

.peoplekitComponentsScrollboxScrollbar { border: none; outline: none; overflow: auto; }

.peoplekitComponentsNoResultsMessageNoResultsMessage { color: var(--pkw-on-surface,#5f6368); padding: 2em; text-align: center; -webkit-box-align: center; align-items: center; }

.peoplekitThemeDark .peoplekitComponentsNoResultsMessageNoResultsMessage { color: var(--pkw-on-surface,#9aa0a6); }

.peoplekitComponentsNoResultsMessageHeader { font-family: "Google Sans", Roboto, Arial, sans-serif; line-height: 1.5rem; font-size: 1rem; letter-spacing: 0.00625em; font-weight: 500; }

.peopleKitStyleGm3 .peoplekitComponentsNoResultsMessageHeader { font-family: "Google Sans Text", "Google Sans", Roboto, Arial, sans-serif; font-size: 1rem; font-weight: 500; letter-spacing: 0px; line-height: 1.5rem; }

.peoplekitComponentsNoResultsMessageExplanation { font-family: Roboto, Arial, sans-serif; line-height: 1.25rem; font-size: 0.875rem; letter-spacing: 0.0142857em; font-weight: 400; }

.peopleKitStyleGm3 .peoplekitComponentsNoResultsMessageExplanation { font-family: "Google Sans Text", "Google Sans", Roboto, Arial, sans-serif; font-size: 0.875rem; font-weight: 400; letter-spacing: 0px; line-height: 1.25rem; }

.peoplekitComponentsNoResultsMessageLearnMoreLink { color: inherit; text-decoration: underline; white-space: nowrap; }

.peoplekitComponentsAutocompletePopupContainer { border-width: 0px; box-shadow: rgba(60, 64, 67, 0.3) 0px 1px 3px 0px, rgba(60, 64, 67, 0.15) 0px 4px 8px 3px; background: var(--pkw-background,#fff); border-radius: 4px; display: flex; -webkit-box-orient: vertical; -webkit-box-direction: normal; flex-direction: column; outline: transparent solid 2px; padding-bottom: 8px; padding-top: 8px; position: absolute; user-select: none; z-index: 999999; }

.peoplekitComponentsAutocompletePopupContainer .mdc-elevation-overlay { opacity: 0; }

.peoplekitThemeDark .peoplekitComponentsAutocompletePopupContainer { background: var(--pkw-background,linear-gradient(0deg,rgba(232,234,237,.08),rgba(232,234,237,.08)),#202124); }

.peopleKitStyleGm3 .peoplekitComponentsAutocompletePopupContainer { box-shadow: rgba(0, 0, 0, 0.15) 0px 2px 6px 2px, rgba(0, 0, 0, 0.3) 0px 1px 2px 0px; }

.goog-menu { background: rgb(255, 255, 255); border-color: rgb(204, 204, 204) rgb(102, 102, 102) rgb(102, 102, 102) rgb(204, 204, 204); border-style: solid; border-width: 1px; font: 13px Arial, sans-serif; padding: 4px 0px; z-index: 20000; }

.goog-menuitem { color: rgb(0, 0, 0); font: 13px Arial, sans-serif; list-style: none; margin: 0px; padding: 4px 7em 4px 28px; white-space: nowrap; }

.goog-menuitem.goog-menuitem-rtl { padding-left: 7em; padding-right: 28px; }

.goog-menu-nocheckbox .goog-menuitem, .goog-menu-noicon .goog-menuitem { padding-left: 12px; }

.goog-menu-noaccel .goog-menuitem { padding-right: 20px; }

.goog-menuitem-content { color: rgb(0, 0, 0); font: 13px Arial, sans-serif; }

.goog-menuitem-disabled .goog-menuitem-accel, .goog-menuitem-disabled .goog-menuitem-content { color: rgb(204, 204, 204) !important; }

.goog-menuitem-disabled .goog-menuitem-icon { opacity: 0.3; }

.goog-menuitem-highlight, .goog-menuitem-hover { background-color: rgb(214, 233, 248); border-color: rgb(214, 233, 248); border-style: dotted; border-width: 1px 0px; padding-bottom: 3px; padding-top: 3px; }

.goog-menuitem-checkbox, .goog-menuitem-icon { background-repeat: no-repeat; height: 16px; left: 6px; position: absolute; right: auto; vertical-align: middle; width: 16px; }

.goog-menuitem-rtl .goog-menuitem-checkbox, .goog-menuitem-rtl .goog-menuitem-icon { left: auto; right: 6px; }

.goog-option-selected .goog-menuitem-checkbox, .goog-option-selected .goog-menuitem-icon { background: url("//ssl.gstatic.com/editor/editortoolbar.png") -512px 0px no-repeat; }

.goog-menuitem-accel { color: rgb(153, 153, 153); direction: ltr; left: auto; padding: 0px 6px; position: absolute; right: 0px; text-align: right; }

.goog-menuitem-rtl .goog-menuitem-accel { left: 0px; right: auto; text-align: left; }

.goog-menuitem-mnemonic-hint { text-decoration: underline; }

.goog-menuitem-mnemonic-separator { color: rgb(153, 153, 153); font-size: 12px; padding-left: 4px; }

.goog-menuseparator { border-top: 1px solid rgb(204, 204, 204); margin: 4px 0px; padding: 0px; }

.goog-combobox { background: url("//ssl.gstatic.com/closure/button-bg.gif") 0px 0px repeat-x scroll rgb(221, 221, 221); border: 1px solid rgb(181, 182, 181); font: small arial, sans-serif; }

.goog-combobox input { background-color: rgb(255, 255, 255); border-width: 0px 1px 0px 0px; border-top-style: initial; border-bottom-style: initial; border-left-style: initial; border-top-color: initial; border-bottom-color: initial; border-left-color: initial; border-image: initial; border-right-style: solid; border-right-color: rgb(181, 182, 181); color: rgb(0, 0, 0); font: small arial, sans-serif; margin: 0px; padding: 0px 0px 0px 2px; vertical-align: bottom; width: 200px; }

.goog-combobox input.label-input-label { background-color: rgb(255, 255, 255); color: rgb(170, 170, 170); }

.goog-combobox .goog-menu { margin-top: -1px; width: 219px; z-index: 1000; }

.goog-combobox-button { cursor: pointer; display: inline-block; font-size: 10px; text-align: center; width: 16px; }

* html .goog-combobox-button { padding: 0px 3px; }

.goog-inline-block { position: relative; display: inline-block; }

* html .goog-inline-block { display: inline; }

:first-child + html .goog-inline-block { display: inline; }

.goog-menubar { cursor: default; outline: none; position: relative; white-space: nowrap; background: rgb(255, 255, 255); }

.goog-menubar .goog-menu-button { padding: 1px; margin: 0px; outline: none; background: rgb(255, 255, 255); border: 1px solid rgb(255, 255, 255); }

.goog-menubar .goog-menu-button-dropdown { display: none; }

.goog-menubar .goog-menu-button-inner-box, .goog-menubar .goog-menu-button-outer-box { border: none; }

.goog-menubar .goog-menu-button-hover { background: rgb(238, 238, 238); border: 1px solid rgb(238, 238, 238); }

.goog-menubar .goog-menu-button-open { background: rgb(255, 255, 255); border-left: 1px solid rgb(204, 204, 204); border-right: 1px solid rgb(204, 204, 204); }

.goog-menubar .goog-menu-button-disabled { color: rgb(204, 204, 204); }

.goog-menu-button { background: url("//ssl.gstatic.com/editor/button-bg.png") 0px 0px repeat-x rgb(221, 221, 221); border: 0px; color: rgb(0, 0, 0); cursor: pointer; list-style: none; margin: 2px; outline: none; padding: 0px; text-decoration: none; vertical-align: middle; }

.goog-menu-button-inner-box, .goog-menu-button-outer-box { border-style: solid; border-color: rgb(170, 170, 170); vertical-align: top; }

.goog-menu-button-outer-box { margin: 0px; border-width: 1px 0px; padding: 0px; }

.goog-menu-button-inner-box { margin: 0px -1px; border-width: 0px 1px; padding: 3px 4px; }

* html .goog-menu-button-inner-box { left: -1px; }

* html .goog-menu-button-rtl .goog-menu-button-outer-box { left: -1px; right: auto; }

* html .goog-menu-button-rtl .goog-menu-button-inner-box { right: auto; }

:first-child + html .goog-menu-button-inner-box { left: -1px; }

:first-child + html .goog-menu-button-rtl .goog-menu-button-inner-box { left: 1px; right: auto; }

.goog-menu-button-disabled { background-image: none !important; opacity: 0.3; }

.goog-menu-button-disabled .goog-menu-button-caption, .goog-menu-button-disabled .goog-menu-button-dropdown, .goog-menu-button-disabled .goog-menu-button-inner-box, .goog-menu-button-disabled .goog-menu-button-outer-box { color: rgb(51, 51, 51) !important; border-color: rgb(153, 153, 153) !important; }

* html .goog-menu-button-disabled { margin: 2px 1px !important; padding: 0px 1px !important; }

:first-child + html .goog-menu-button-disabled { margin: 2px 1px !important; padding: 0px 1px !important; }

.goog-menu-button-hover .goog-menu-button-inner-box, .goog-menu-button-hover .goog-menu-button-outer-box { border-color: rgb(153, 204, 255) rgb(102, 153, 238) rgb(102, 153, 238) rgb(119, 170, 255) !important; }

.goog-menu-button-active, .goog-menu-button-open { background-color: rgb(187, 187, 187); background-position: 0px 100%; }

.goog-menu-button-focused .goog-menu-button-inner-box, .goog-menu-button-focused .goog-menu-button-outer-box { border-color: orange; }

.goog-menu-button-caption { padding: 0px 4px 0px 0px; vertical-align: top; }

.goog-menu-button-dropdown { height: 15px; width: 7px; background: url("//ssl.gstatic.com/editor/editortoolbar.png") -388px 0px no-repeat; vertical-align: top; }

.goog-menu-button-collapse-right, .goog-menu-button-collapse-right .goog-menu-button-inner-box, .goog-menu-button-collapse-right .goog-menu-button-outer-box { margin-right: 0px; }

.goog-menu-button-collapse-left, .goog-menu-button-collapse-left .goog-menu-button-inner-box, .goog-menu-button-collapse-left .goog-menu-button-outer-box { margin-left: 0px; }

.goog-menu-button-collapse-left .goog-menu-button-inner-box { border-left: 1px solid rgb(255, 255, 255); }

.goog-menu-button-collapse-left.goog-menu-button-checked .goog-menu-button-inner-box { border-left: 1px solid rgb(221, 221, 221); }

.goog-submenu-arrow { color: rgb(0, 0, 0); padding-right: 6px; right: 0px; }

.goog-menuitem-rtl .goog-submenu-arrow { text-align: left; left: 0px; right: auto; padding-left: 6px; }

.goog-menuitem-disabled .goog-submenu-arrow { color: rgb(204, 204, 204); }

.goog-tab { position: relative; padding: 4px 8px; color: rgb(0, 0, 204); text-decoration: underline; cursor: default; }

.goog-tab-bar-top .goog-tab { margin: 1px 4px 0px 0px; border-bottom: 0px; float: left; }

.goog-tab-bar-bottom::after, .goog-tab-bar-top::after { content: " "; display: block; height: 0px; clear: both; visibility: hidden; }

.goog-tab-bar-bottom .goog-tab { margin: 0px 4px 1px 0px; border-top: 0px; float: left; }

.goog-tab-bar-start .goog-tab { margin: 0px 0px 4px 1px; border-right: 0px; }

.goog-tab-bar-end .goog-tab { margin: 0px 1px 4px 0px; border-left: 0px; }

.goog-tab-hover { background: rgb(238, 238, 238); }

.goog-tab-disabled { color: rgb(102, 102, 102); }

.goog-tab-selected { color: rgb(0, 0, 0); background: rgb(255, 255, 255); text-decoration: none; font-weight: 700; border: 1px solid rgb(107, 144, 218); }

.goog-tab-bar-top { padding-top: 5px !important; padding-left: 5px !important; border-bottom: 1px solid rgb(107, 144, 218) !important; }

.goog-tab-bar-top .goog-tab-selected { top: 1px; margin-top: 0px; padding-bottom: 5px; }

.goog-tab-bar-bottom .goog-tab-selected { top: -1px; margin-bottom: 0px; padding-top: 5px; }

.goog-tab-bar-start .goog-tab-selected { left: 1px; margin-left: 0px; padding-right: 9px; }

.goog-tab-bar-end .goog-tab-selected { left: -1px; margin-right: 0px; padding-left: 9px; }

.goog-tab-bar { margin: 0px; border: 0px; padding: 0px; list-style: none; cursor: default; outline: none; background: rgb(235, 239, 249); }

.goog-tab-bar-clear { clear: both; height: 0px; overflow: hidden; }

.goog-tab-bar-start { float: left; }

.goog-tab-bar-end { float: right; }

* html .goog-tab-bar-start { margin-right: -3px; }

* html .goog-tab-bar-end { margin-left: -3px; }

.goog-toolbar { background: url("//ssl.gstatic.com/editor/toolbar-bg.png") 0px 100% repeat-x rgb(250, 250, 250); border-bottom: 1px solid rgb(213, 213, 213); cursor: default; font: 12px Arial, sans-serif; margin: 0px; outline: none; padding: 2px; position: relative; zoom: 1; }

.goog-toolbar-button { margin: 0px 2px; border: 0px; padding: 0px; font-family: Arial, sans-serif; color: rgb(51, 51, 51); text-decoration: none; list-style: none; vertical-align: middle; cursor: default; outline: none; }

.goog-toolbar-button-inner-box, .goog-toolbar-button-outer-box { border: 0px; vertical-align: top; }

.goog-toolbar-button-outer-box { margin: 0px; padding: 1px 0px; }

.goog-toolbar-button-inner-box { margin: 0px -1px; padding: 3px 4px; }

* html .goog-toolbar-button-inner-box { left: -1px; }

* html .goog-toolbar-button-rtl .goog-toolbar-button-outer-box { left: -1px; }

* html .goog-toolbar-button-rtl .goog-toolbar-button-inner-box { right: auto; }

:first-child + html .goog-toolbar-button-inner-box { left: -1px; }

:first-child + html .goog-toolbar-button-rtl .goog-toolbar-button-inner-box { left: 1px; right: auto; }

.goog-toolbar-button-disabled { opacity: 0.3; }

.goog-toolbar-button-disabled .goog-toolbar-button-inner-box, .goog-toolbar-button-disabled .goog-toolbar-button-outer-box { color: rgb(51, 51, 51) !important; border-color: rgb(153, 153, 153) !important; }

* html .goog-toolbar-button-disabled { background-color: rgb(240, 240, 240); margin: 0px 1px; padding: 0px 1px; }

:first-child + html .goog-toolbar-button-disabled { background-color: rgb(240, 240, 240); margin: 0px 1px; padding: 0px 1px; }

.goog-toolbar-button-active .goog-toolbar-button-outer-box, .goog-toolbar-button-checked .goog-toolbar-button-outer-box, .goog-toolbar-button-hover .goog-toolbar-button-outer-box, .goog-toolbar-button-selected .goog-toolbar-button-outer-box { border-width: 1px 0px; border-style: solid; padding: 0px; }

.goog-toolbar-button-active .goog-toolbar-button-inner-box, .goog-toolbar-button-checked .goog-toolbar-button-inner-box, .goog-toolbar-button-hover .goog-toolbar-button-inner-box, .goog-toolbar-button-selected .goog-toolbar-button-inner-box { border-width: 0px 1px; border-style: solid; padding: 3px; }

.goog-toolbar-button-hover .goog-toolbar-button-inner-box, .goog-toolbar-button-hover .goog-toolbar-button-outer-box { border-color: rgb(161, 186, 223) !important; }

.goog-toolbar-button-active, .goog-toolbar-button-checked, .goog-toolbar-button-selected { background-color: rgb(221, 225, 235) !important; }

.goog-toolbar-button-active .goog-toolbar-button-inner-box, .goog-toolbar-button-active .goog-toolbar-button-outer-box, .goog-toolbar-button-checked .goog-toolbar-button-inner-box, .goog-toolbar-button-checked .goog-toolbar-button-outer-box, .goog-toolbar-button-selected .goog-toolbar-button-inner-box, .goog-toolbar-button-selected .goog-toolbar-button-outer-box { border-color: rgb(114, 155, 209); }

.goog-toolbar-button-collapse-right, .goog-toolbar-button-collapse-right .goog-toolbar-button-inner-box, .goog-toolbar-button-collapse-right .goog-toolbar-button-outer-box { margin-right: 0px; }

.goog-toolbar-button-collapse-left, .goog-toolbar-button-collapse-left .goog-toolbar-button-inner-box, .goog-toolbar-button-collapse-left .goog-toolbar-button-outer-box { margin-left: 0px; }

* html .goog-toolbar-button-collapse-left .goog-toolbar-button-inner-box { left: 0px; }

:first-child + html .goog-toolbar-button-collapse-left .goog-toolbar-button-inner-box { left: 0px; }

.goog-toolbar-menu-button { margin: 0px 2px; border: 0px; padding: 0px; font-family: Arial, sans-serif; color: rgb(51, 51, 51); text-decoration: none; list-style: none; vertical-align: middle; cursor: default; outline: none; }

.goog-toolbar-menu-button-inner-box, .goog-toolbar-menu-button-outer-box { border: 0px; vertical-align: top; }

.goog-toolbar-menu-button-outer-box { margin: 0px; padding: 1px 0px; }

.goog-toolbar-menu-button-inner-box { margin: 0px -1px; padding: 3px 4px; }

* html .goog-toolbar-menu-button-inner-box { left: -1px; }

* html .goog-toolbar-menu-button-rtl .goog-toolbar-menu-button-outer-box { left: -1px; }

* html .goog-toolbar-menu-button-rtl .goog-toolbar-menu-button-inner-box { right: auto; }

:first-child + html .goog-toolbar-menu-button-inner-box { left: -1px; }

:first-child + html .goog-toolbar-menu-button-rtl .goog-toolbar-menu-button-inner-box { left: 1px; right: auto; }

.goog-toolbar-menu-button-disabled { opacity: 0.3; }

.goog-toolbar-menu-button-disabled .goog-toolbar-menu-button-inner-box, .goog-toolbar-menu-button-disabled .goog-toolbar-menu-button-outer-box { color: rgb(51, 51, 51) !important; border-color: rgb(153, 153, 153) !important; }

* html .goog-toolbar-menu-button-disabled { background-color: rgb(240, 240, 240); margin: 0px 1px; padding: 0px 1px; }

:first-child + html .goog-toolbar-menu-button-disabled { background-color: rgb(240, 240, 240); margin: 0px 1px; padding: 0px 1px; }

.goog-toolbar-menu-button-active .goog-toolbar-menu-button-outer-box, .goog-toolbar-menu-button-hover .goog-toolbar-menu-button-outer-box, .goog-toolbar-menu-button-open .goog-toolbar-menu-button-outer-box { border-width: 1px 0px; border-style: solid; padding: 0px; }

.goog-toolbar-menu-button-active .goog-toolbar-menu-button-inner-box, .goog-toolbar-menu-button-hover .goog-toolbar-menu-button-inner-box, .goog-toolbar-menu-button-open .goog-toolbar-menu-button-inner-box { border-width: 0px 1px; border-style: solid; padding: 3px; }

.goog-toolbar-menu-button-hover .goog-toolbar-menu-button-inner-box, .goog-toolbar-menu-button-hover .goog-toolbar-menu-button-outer-box { border-color: rgb(161, 186, 223) !important; }

.goog-toolbar-menu-button-active, .goog-toolbar-menu-button-open { background-color: rgb(221, 225, 235) !important; }

.goog-toolbar-menu-button-active .goog-toolbar-menu-button-inner-box, .goog-toolbar-menu-button-active .goog-toolbar-menu-button-outer-box, .goog-toolbar-menu-button-open .goog-toolbar-menu-button-inner-box, .goog-toolbar-menu-button-open .goog-toolbar-menu-button-outer-box { border-color: rgb(114, 155, 209); }

.goog-toolbar-menu-button-caption { padding: 0px 4px 0px 0px; vertical-align: middle; }

.goog-toolbar-menu-button-dropdown { width: 7px; background: url("//ssl.gstatic.com/editor/editortoolbar.png") -388px 0px no-repeat; vertical-align: middle; }

.goog-toolbar-separator { margin: 0px 2px; border-left: 1px solid rgb(214, 214, 214); border-right: 1px solid rgb(247, 247, 247); padding: 0px; width: 0px; text-decoration: none; list-style: none; outline: none; vertical-align: middle; line-height: normal; font-size: 120%; overflow: hidden; }

.goog-toolbar-select .goog-toolbar-menu-button-outer-box { border-width: 1px 0px; border-style: solid; padding: 0px; }

.goog-toolbar-select .goog-toolbar-menu-button-inner-box { border-width: 0px 1px; border-style: solid; padding: 3px; }

.goog-toolbar-select .goog-toolbar-menu-button-inner-box, .goog-toolbar-select .goog-toolbar-menu-button-outer-box { border-color: rgb(191, 203, 223); }

.goog-tree-root:focus { outline: none; }

.goog-tree-row { white-space: nowrap; font-style: ; font-variant: normal; font-weight: ; font-stretch: ; font-size: ; font-family: ; font-optical-sizing: ; font-size-adjust: ; font-kerning: ; font-feature-settings: ; font-variation-settings: ; line-height: 16px; height: 16px; }

.goog-tree-row span { overflow: hidden; text-overflow: ellipsis; }

.goog-tree-children { background-repeat: repeat-y; font: icon; background-image: url("//ssl.gstatic.com/closure/tree/I.png") !important; background-position-y: 1px !important; }

.goog-tree-children-nolines { font: icon; }

.goog-tree-icon { background-image: url("//ssl.gstatic.com/closure/tree/tree.png"); }

.goog-tree-expand-icon { vertical-align: middle; height: 16px; width: 16px; cursor: default; }

.goog-tree-expand-icon-plus { width: 19px; background-position: 0px 0px; }

.goog-tree-expand-icon-minus { width: 19px; background-position: -24px 0px; }

.goog-tree-expand-icon-tplus { width: 19px; background-position: -48px 0px; }

.goog-tree-expand-icon-tminus { width: 19px; background-position: -72px 0px; }

.goog-tree-expand-icon-lplus { width: 19px; background-position: -96px 0px; }

.goog-tree-expand-icon-lminus { width: 19px; background-position: -120px 0px; }

.goog-tree-expand-icon-t { width: 19px; background-position: -144px 0px; }

.goog-tree-expand-icon-l { width: 19px; background-position: -168px 0px; }

.goog-tree-expand-icon-blank { width: 19px; background-position: -168px -24px; }

.goog-tree-collapsed-folder-icon { vertical-align: middle; height: 16px; width: 16px; background-position: 0px -24px; }

.goog-tree-expanded-folder-icon { vertical-align: middle; height: 16px; width: 16px; background-position: -24px -24px; }

.goog-tree-file-icon { vertical-align: middle; height: 16px; width: 16px; background-position: -48px -24px; }

.goog-tree-item-label { margin-left: 3px; padding: 1px 2px; text-decoration: none; color: windowtext; cursor: default; }

.goog-tree-item-label:hover { text-decoration: underline; }

.selected .goog-tree-item-label { background-color: buttonface; color: buttontext; }

.focused .selected .goog-tree-item-label { background-color: highlight; color: highlighttext; }

.goog-tree-hide-root { display: none; }

html { --google-orange-600: #e8710a; --google-yellow-600: #f9ab00; --google-blue-700: #1967d2; --paper-amber-50: #fff8e1; --paper-amber-400: #ffca28; --paper-orange-300: #ffb74d; --paper-orange-400: #ffa726; --paper-orange-500: #ff9800; --paper-orange-700: #f57c00; --paper-grey-200: #eee; --paper-grey-300: #e0e0e0; --paper-grey-400: #bdbdbd; --paper-grey-600: #757575; --paper-grey-700: #616161; --paper-grey-800: #424242; --paper-red-100: #ffcdd2; --paper-red-900: #b71c1c; --paper-red-a700: #d50000; --md-icon-font: "Google Symbols"; --mdc-icon-font: "Google Symbols"; }

html { --colab-dialog-bg-z-index: 1001; --colab-dialog-z-index: 1002; --colab-above-dialog-z-index: 1003; --colab-below-dialog-bg-z-index: 1000; --colab-survey-z-index: 1000; --colab-border-color: #dadada; --colab-border-color-rgb: 218,218,218; --colab-bold-border-color: #747775; --colab-divider-color: #e1e3e1; --colab-debugger-line-color: var(--paper-red-100); --colab-highlighted-surface-color: var(--paper-grey-200); --colab-inverse-primary-color: #a8c7fa; --colab-inverse-surface-color: #303030; --colab-inverse-on-surface-color: #f2f2f2; --colab-primary-container-color: #d3e3fd; --colab-on-primary-container-color: #041e49; --colab-primary-surface-color: #fff; --colab-surface-container-color: #f0f4f9; --colab-surface-container-high-color: #e9eef6; --colab-surface-container-highest-color: #dde3ea; --colab-surface-container-low-color: #f8fafd; --colab-primary-text-color: #1f1f1f; --colab-primary-text-color-rgb: 31,31,31; --colab-secondary-text-color: #444746; --colab-tertiary-text-color: var(--paper-grey-600); --colab-secondary-container-color: #c2e7ff; --colab-on-secondary-container-color: #004a77; --colab-secondary-surface-color: #f7f7f7; --colab-gutter-icon-color: #8c8c8c; --colab-active-execution-icon-color: var(--paper-grey-800); --colab-primary-color: #0b57d0; --colab-primary-color-rgb: 11,87,208; --colab-on-primary-color: #fff; --colab-error-color: #b3261e; --colab-on-error-container-color: #8c1d18; --colab-diff-editor-background: #fff; --colab-composer-diff-background: #aceebb; --colab-local-diff-background: #eef; --colab-remote-diff-background: #feffe0; --colab-merged-diff-background: #d7fed8; --colab-status-okay: #128937; --ansi-black: #000; --ansi-red: #8b0000; --ansi-green: #006400; --ansi-yellow: #cdcd00; --ansi-blue: #00e; --ansi-magenta: #cd00cd; --ansi-cyan: #4682b4; --ansi-gray: #e5e5e5; --ansi-bright-black: #7f7f7f; --ansi-bright-red: red; --ansi-bright-green: #00d000; --ansi-bright-yellow: #ff0; --ansi-bright-blue: #5c5cff; --ansi-bright-magenta: #f0f; --ansi-bright-cyan: #0ff; --ansi-bright-gray: #fff; --colab-comment-highlight-color: #ffe082; --colab-smartpaste-highlight-color: rgba(255,224,130,.5); --colab-logo-dark: var(--google-orange-600); --colab-logo-light: var(--google-yellow-600); --colab-status-warning: #f09300; --colab-chrome-font-family: "Google Sans Text","Google Sans","Noto",sans-serif; --colab-google-sans-font-family: "Google Sans","Roboto","Noto",sans-serif; --colab-chrome-font-size: 14px; --colab-highlighted-text-background-color: #ffe07c; --colab-code-font-family: monospace; --colab-code-font-size: 14px; --colab-anchor-color: var(--colab-primary-color); --colab-editor-background: var(--colab-primary-surface-color); --colab-focus-ring-color: var(--colab-primary-color); --colab-icon-color: var(--colab-secondary-text-color); --colab-scrollbar-color: rgba(var(--colab-primary-text-color-rgb),0.24); --colab-scrollbar-hover-color: rgba(var(--colab-primary-text-color-rgb),0.48); --colab-scrollbar-active-color: rgba(var(--colab-primary-text-color-rgb),0.48); --mdc-theme-primary: var(--colab-primary-color); --mdc-theme-on-primary: var(--colab-primary-surface-color); --md-dialog-container-color: var(--colab-primary-surface-color); --md-sys-color-error: var(--colab-error-color); --md-sys-color-on-error-container: var(--colab-on-error-container-color); --md-sys-color-inverse-surface: var(--colab-inverse-surface-color); --md-sys-color-inverse-on-surface: var(--colab-inverse-on-surface-color); --md-sys-color-on-surface: var(--colab-primary-text-color); --md-sys-color-on-surface-variant: var(--colab-secondary-text-color); --md-sys-color-outline: var(--colab-bold-border-color); --md-sys-color-outline-variant: var(--colab-border-color); --md-sys-color-primary: var(--colab-primary-color); --md-sys-color-on-primary: var(--colab-on-primary-color); --md-sys-color-primary-container: var(--colab-primary-container-color); --md-sys-color-on-primary-container: var(
    --colab-on-primary-container-color
  ); --md-sys-color-secondary-container: var(--colab-secondary-container-color); --md-sys-color-on-secondary-container: var(
    --colab-on-secondary-container-color
  ); --md-sys-color-surface-container: var(--colab-surface-container-color); --md-sys-color-surface-container-high: var(
    --colab-surface-container-high-color
  ); --md-sys-color-surface-container-low: var(
    --colab-surface-container-low-color
  ); --md-elevated-button-leading-space: 16px; --md-elevated-button-trailing-space: 16px; --md-filled-tonal-button-with-leading-icon-trailing-space: 20px; --md-focus-ring-color: var(--colab-focus-ring-color); --md-icon-button-hover-state-layer-opacity: 0.08; --md-icon-button-pressed-state-layer-opacity: 0.12; --md-icon-button-state-layer-shape: 9999px; --md-outlined-text-field-disabled-input-text-color: var(
    --colab-primary-text-color
  ); --md-outlined-text-field-disabled-input-text-opacity: 0.38; --md-outlined-text-field-disabled-outline-color: var(
    --colab-primary-text-color
  ); }

html body.embedded { --colab-logo-dark: #3367d6; --colab-logo-light: #3b78e7; }

html.panel-ui-refresh { --colab-border-color: #c4c7c5; --colab-border-color-rgb: 196,199,197; }

html[theme="dark"] { --colab-border-color: #616161; --colab-border-color-rgb: 97,97,97; --colab-bold-border-color: #c4c7c5; --colab-divider-color: #444746; --colab-debugger-line-color: var(--paper-red-900); --colab-editor-focus-color: #282828; --colab-highlighted-surface-color: #525252; --colab-inverse-primary-color: #0b57d0; --colab-inverse-surface-color: #e3e3e3; --colab-inverse-on-surface-color: #303030; --colab-primary-container-color: #0842a0; --colab-on-primary-container-color: #d3e3fd; --colab-primary-surface-color: #383838; --colab-surface-container-color: #1e1f20; --colab-surface-container-high-color: #282a2c; --colab-surface-container-highest-color: #333537; --colab-surface-container-low-color: #1b1b1b; --colab-primary-text-color: #e3e3e3; --colab-primary-text-color-rgb: 227,227,227; --colab-secondary-text-color: #c4c7c5; --colab-tertiary-text-color: #b3b3b3; --colab-secondary-container-color: #004a77; --colab-on-secondary-container-color: #c2e7ff; --colab-secondary-surface-color: #454545; --colab-gutter-icon-color: #858585; --colab-active-execution-icon-color: var(--colab-icon-color); --colab-primary-color: #a8c7fa; --colab-primary-color-rgb: 168,199,250; --colab-on-primary-color: #062e6f; --colab-error-color: #f2b8b5; --colab-on-error-container-color: #f9dedc; --colab-diff-editor-background: #000; --colab-composer-diff-background: #234521; --colab-local-diff-background: #292935; --colab-remote-diff-background: #2e2f08; --colab-merged-diff-background: #09380b; --colab-status-okay: #00c752; --ansi-black: #7f7f7f; --ansi-red: #ff7a88; --ansi-green: #57bb8a; --ansi-yellow: #ff6; --ansi-blue: #82b1ff; --ansi-magenta: #cd00cd; --ansi-cyan: #99bbd7; --ansi-gray: #e5e5e5; --ansi-bright-green: #0f0; --colab-comment-highlight-color: #1a237e; --colab-smartpaste-highlight-color: rgba(255,224,130,.3); }

html[theme="dark"] body.embedded { --colab-editor-background: #000; --colab-secondary-surface-color: #202124; --colab-highlighted-surface-color: #202124; --colab-border-color: #3c4043; --colab-border-color-rgb: 60,64,67; }

html[theme="dark"]:not(.panel-ui-refresh) body.embedded { --colab-primary-surface-color: #131314; }

html[theme="dark"].panel-ui-refresh { --colab-border-color: #444746; --colab-border-color-rgb: 68,71,70; --colab-bold-border-color: #8e918f; --colab-highlighted-surface-color: rgba(var(--colab-primary-text-color-rgb),0.08); --colab-surface-container-low-color: #131314; --colab-primary-surface-color: #282a2c; --colab-surface-container-high-color: #333537; --colab-surface-container-highest-color: #37393b; }

html[editor="Classic Dark"] { --colab-editor-background: #1e1e1e; }

html[editor="High Contrast Dark"] { --colab-editor-background: #000; }

html[editor="Monokai"] { --colab-editor-background: #272822; }

html[editor="All Hallows Eve"] { --colab-editor-background: #000; }

html[editor="Amy"] { --colab-editor-background: #200020; }

html[editor="Birds Of Paradise"] { --colab-editor-background: #372725; }

html[editor="Blackboard"] { --colab-editor-background: #0c1021; }

html[editor="Clouds Midnight"] { --colab-editor-background: #191919; }

html[editor="Dominion Day"] { --colab-editor-background: #372725; }

html[editor="Espresso Libre"] { --colab-editor-background: #2a211c; }

html[editor="Merbivore"] { --colab-editor-background: #161616; }

html[editor="Night Owl"] { --colab-editor-background: #011627; }

html[editor="Oceanic Next"] { --colab-editor-background: #1b2b34; }

html[editor="Pastels On Dark"] { --colab-editor-background: #211e1e; }

html[editor="Space Cadet"] { --colab-editor-background: #0d0d0d; }

html[editor="Sunburst"] { --colab-editor-background: #000; }

html[editor="Twilight"] { --colab-editor-background: #141414; }

html[editor="Vibrant Ink"] { --colab-editor-background: #000; }

html[editor="Zenburnesque"] { --colab-editor-background: #404040; }

html[editor="Idle Fingers"] { --colab-editor-background: #323232; }

html[editor="Mono Industrial"] { --colab-editor-background: #222c28; }

html[editor="Synthwave84"] { --colab-border-color: rgba(52,41,79,.702); --colab-border-color-rgb: 52,41,79; --colab-primary-surface-color: #241b2f; --colab-secondary-surface-color: #49549539; --colab-editor-background: #262335; --colab-highlighted-surface-color: #372d4b; --colab-anchor-color: #f97e72; --ansi-red: #fe4450; --ansi-green: #72f1b8; --ansi-yellow: #f97e72; --ansi-blue: #03edf9; --ansi-magenta: #ff7edb; --ansi-cyan: #03edf9; --ansi-bright-red: #fe4450; --ansi-bright-green: #72f1b8; --ansi-bright-yellow: #fede5d; --ansi-bright-blue: #03edf9; --ansi-bright-magenta: #ff7edb; --ansi-bright-cyan: #03edf9; }

html[editor="Synthwave84"].panel-ui-refresh { --colab-border-color: rgba(112,89,171,.4); --colab-border-color-rgb: 112,89,171; --colab-highlighted-surface-color: #37294d99; --colab-primary-surface-color: #262335; --colab-surface-container-low-color: #171520; --colab-surface-container-color: #241b2f; --colab-surface-container-high-color: #2a2139; --colab-surface-container-highest-color: #34294f; }

html[editor="Classic Light"] { --colab-editor-background: #f7f7f7; }

html[editor="Chrome DevTools"], html[editor="Textmate (Mac Classic)"], html[editor="Xcode Default"], html[editor="Active4D"], html[editor="Clouds"], html[editor="Dreamweaver"], html[editor="Eiffel"], html[editor="IDLE"], html[editor="LAZY"], html[editor="Tomorrow"] { --colab-editor-background: #fff; }

html[editor="Dawn"] { --colab-editor-background: #f9f9f9; }

html[editor="GitHub"] { --colab-editor-background: #f8f8ff; }

html[editor="Kuroir Theme"] { --colab-editor-background: #e8e9e8; }

html[editor="Slush and Poppies"] { --colab-editor-background: #f1f1f1; }

html[editor="Solarized Light"] { --colab-editor-background: #fdf6e3; }

html[editor="iPlastic"] { --colab-editor-background: #eeeeeeeb; }

.code pre.editor.monaco { overflow: auto; white-space: nowrap; }

.cell pre.editor.monaco { margin: 0px; padding: 10px 8px; outline: none; }

colab-aida-message .markdown { --md-outlined-button-container-height: 28px; --md-outlined-button-leading-space: 12px; --md-outlined-button-trailing-space: 12px; --md-outlined-button-with-leading-icon-trailing-space: 12px; --md-outlined-button-with-trailing-icon-leading-space: 12px; --md-outlined-button-with-leading-icon-leading-space: 8px; --md-outlined-button-with-trailing-icon-trailing-space: 8px; --md-outlined-button-icon-size: 20px; }

colab-aida-message .markdown ol, colab-aida-message .markdown p, colab-aida-message .markdown ul { font-size: var(--colab-chrome-font-size); }

colab-aida-message .markdown > * { margin: 6px 0px; }

colab-aida-message .markdown .generated-code-warning { display: flex; -webkit-box-orient: vertical; -webkit-box-direction: normal; flex-direction: column; }

colab-aida-message .markdown .generated-code-warning pre { margin: 0px; }

colab-aida-message .markdown .generated-code-warning a { align-self: end; font-size: 0.8em; }

.converse.error { color: var(--colab-error-color); }

.chat-cursor { animation: 1.5s ease 0s infinite normal none running chat-cursor-blink; background: var(--colab-icon-color); display: inline-block; height: 18px; width: 10px; }

@-webkit-keyframes chat-cursor-blink { 
  0% { opacity: 0.1; }
  20% { opacity: 1; }
  80% { opacity: 1; }
  100% { opacity: 0.1; }
}

@keyframes chat-cursor-blink { 
  0% { opacity: 0.1; }
  20% { opacity: 1; }
  80% { opacity: 1; }
  100% { opacity: 0.1; }
}

colab-differ { display: flex; -webkit-box-orient: vertical; -webkit-box-direction: normal; flex-direction: column; -webkit-box-flex: 1; flex-grow: 1; }

colab-differ .monaco-editor { --vscode-editor-background: var(--colab-diff-editor-background); }

colab-differ .monaco-diff-editor { -webkit-box-flex: 1; flex-grow: 1; }

.differ { min-height: 300px; }

colab-differ .diff-annotation, colab-differ .diff-output, colab-differ .diff-title { color: var(--colab-primary-text-color); white-space: nowrap; }

colab-differ .diff-annotation, colab-differ .diff-title { font-weight: 700; }

.notebook-diff-titlebar { flex-shrink: 0; padding: 8px 8px 0px; }

.notebook-diff-options { padding-left: 8px; }

.notebook-diff-dialog .notebook-diff-options { padding: 8px 8px 0px; }

.notebook-diff-options label:has(md-checkbox) { margin-left: 16px; margin-top: 2px; }

.notebook-diff-container { display: flex; -webkit-box-orient: vertical; -webkit-box-direction: normal; flex-direction: column; -webkit-box-flex: 1; flex-grow: 1; justify-content: space-around; min-height: 300px; padding: 8px; }

.notebook-diff-dialog mwc-circular-progress { display: none; }

.notebook-diff-dialog .diff-loading mwc-circular-progress { display: block; margin: 0px auto; }

.notebook-diff-dialog { --mdc-dialog-max-width: 98vw; --mdc-dialog-min-width: 98vw; --mdc-dialog-max-height: 98vh; }

.notebook-diff-dialog:not(.secure-save-diff-dialog) .content-area { display: flex; -webkit-box-orient: vertical; -webkit-box-direction: normal; flex-direction: column; height: calc(-150px + 98vh); }

.secure-save-diff-dialog .content-area { min-height: 0px; max-width: 100%; }

.monaco-diff-editor .line-insert, .monaco-editor .line-insert { background-color: var(--vscode-diffEditor-insertedLineBackground,var(--vscode-diffEditor-insertedTextBackground)) !important; }

.monaco-diff-editor .gutter-insert, .monaco-editor .gutter-insert, .monaco-editor .inline-added-margin-view-zone { background-color: var(--vscode-diffEditorGutter-insertedLineBackground,var(--vscode-diffEditor-insertedLineBackground,var(--vscode-diffEditor-insertedTextBackground))) !important; }

.monaco-diff-editor .line-delete, .monaco-editor .line-delete { background-color: var(--vscode-diffEditor-removedLineBackground,var(--vscode-diffEditor-removedTextBackground)) !important; }

.monaco-diff-editor .gutter-delete, .monaco-editor .gutter-delete, .monaco-editor .inline-deleted-margin-view-zone { background-color: var(--vscode-diffEditorGutter-removedLineBackground,var(--vscode-diffEditor-removedLineBackground,var(--vscode-diffEditor-removedTextBackground))) !important; }

colab-executions { display: flex; -webkit-box-orient: vertical; -webkit-box-direction: normal; flex-direction: column; height: 100%; }

colab-executions colab-shaded-scroller { -webkit-box-flex: 1; flex-grow: 1; overflow-y: scroll; }

colab-executions .cell-execution-indicator { display: block; }

colab-executions .input { background: var(--colab-editor-background); border: 1px solid var(--colab-border-color); border-radius: 8px; font-family: var(--colab-code-font-family); overflow-x: auto; font-size: var(--colab-code-font-size); padding: 0px 8px; display: flex; flex-shrink: 0; margin: 4px; }

colab-executions .gutter { -webkit-box-align: center; align-items: center; position: relative; width: 36px; }

colab-executions .editor-host { background: var(--colab-editor-background); -webkit-box-flex: 1; flex-grow: 1; padding-top: 10px; position: relative; }

colab-executions .editor-host .monaco-editor { position: absolute; }

colab-executions .execution-count { margin-top: 4px; text-align: center; }

colab-executions .code-placeholder { color: var(--colab-tertiary-text-color); font-family: var(--colab-code-font-family); font-style: italic; left: 30px; pointer-events: none; position: absolute; top: 12px; z-index: 1; }

colab-executions .code-placeholder.code-fold { left: 48px; }

colab-executions .hidden { display: none; }

colab-executions .executions-placeholder { color: var(--colab-secondary-text-color); margin: 8px 4px; }

colab-execution { display: block; }

colab-execution .code md-icon { cursor: pointer; height: 26px; transition: transform 0.2s, -webkit-transform 0.2s; }

colab-execution .code .gutter { display: flex; -webkit-box-orient: vertical; -webkit-box-direction: normal; flex-direction: column; flex-shrink: 0; }

colab-execution .execution-count { color: var(--colab-secondary-text-color); cursor: default; font-family: var(--colab-code-font-family); }

colab-execution.collapsed .code md-icon { transform: rotate(-90deg); }

colab-execution .outputview, colab-execution colab-static-output-renderer { margin-left: 36px; }

colab-execution iframe { border: 0px; width: 100%; }

colab-execution .code { display: flex; }

colab-execution .source { background: var(--colab-editor-background); border: 1px solid var(--colab-border-color); border-radius: 8px; font-family: var(--colab-code-font-family); overflow-x: auto; font-size: var(--colab-code-font-size); padding: 8px; -webkit-box-flex: 1; flex-grow: 1; margin-right: 4px; }

colab-execution.collapsed .source-lines > * { display: none; }

colab-execution.collapsed .source-lines > .preview { display: inline; }

colab-execution .start-time { color: var(--colab-secondary-text-color); font-size: 0.8em; margin: 8px 8px 0px 6px; }

colab-execution.selected { background: var(--colab-highlighted-surface-color); }

colab-execution .entry-action { --md-icon-button-state-layer-height: 28px; }

colab-interactive-table { display: block; position: relative; }

colab-interactive-table.collapsed-layout { display: inline-block; }

colab-interactive-table .google-visualization-table-table th { border-bottom: 1px solid var(--colab-bold-border-color); border-right: 1px solid var(--colab-border-color); }

colab-interactive-table .google-visualization-table-table { border-bottom: 1px solid var(--colab-bold-border-color); border-left: 1px solid var(--colab-border-color); }

colab-interactive-table .google-visualization-table-table tbody { border-bottom: 0px; }

colab-interactive-table .google-visualization-table .gradient, colab-interactive-table .google-visualization-table-table, colab-interactive-table .google-visualization-table-table th, colab-interactive-table .google-visualization-table-tr-head { background: none; }

colab-interactive-table .google-visualization-table-tr-odd { background-color: var(--colab-secondary-surface-color); }

colab-interactive-table .google-visualization-table-tr-even { background-color: var(--colab-primary-surface-color); }

colab-interactive-table .google-visualization-table-tr-over, colab-interactive-table .google-visualization-table-tr-sel { background-color: var(--colab-highlighted-surface-color); }

colab-interactive-table .google-visualization-table-td:first-child::after { content: ""; display: inline-block; }

colab-interactive-table .google-visualization-table-table td { border-color: var(--colab-border-color); vertical-align: top; }

colab-interactive-table .google-visualization-table-page-number { color: var(--colab-primary-text-color); }

colab-interactive-table .google-visualization-table-div-page { background: none; text-align: right; }

colab-interactive-table .google-visualization-table-page-next, colab-interactive-table .google-visualization-table-page-prev { display: none; }

colab-interactive-table .google-visualization-table-page-number { border-radius: 3px; border: 1px solid transparent; box-sizing: border-box; display: inline-block; font-size: 11px; margin-left: 2px; min-width: 1.5em; padding: 0.5em 1em; text-align: center; }

colab-interactive-table .google-visualization-table-page-number.current { background-color: var(--colab-primary-surface-color); border: 1px solid rgb(151, 151, 151); }

colab-interactive-table .google-visualization-table-page-number:hover { background-color: rgb(88, 88, 88); color: rgb(255, 255, 255); }

colab-interactive-table .interactive-table-header { -webkit-box-align: center; align-items: center; display: flex; -webkit-box-pack: end; justify-content: flex-end; padding-right: 2px; }

colab-interactive-table .display-count { margin-right: 8px; }

colab-interactive-table .collapsible-controls > div { border: 1px solid rgb(204, 204, 204); margin: 8px; padding: 8px; position: relative; }

colab-interactive-table .collapsible-controls .close { cursor: pointer; font-size: 16pt; position: absolute; right: 4px; top: 0px; }

colab-interactive-table button.close, colab-interactive-table button.copy-show { background: none; border: none; color: var(--colab-icon-color); }

colab-interactive-table button.copy-show svg { fill: var(--colab-icon-color); height: 18px; width: 18px; }

colab-interactive-table .column-filters-container { display: grid; gap: 5px; grid-auto-rows: minmax(auto, 50px); grid-template-columns: repeat(auto-fill, minmax(300px, max-content)); }

colab-interactive-table .column-filter { display: inline-block; margin: 0px 32px 8px 0px; }

colab-interactive-table .column-filter label { display: block; }

colab-interactive-table .column-filter input[type="text"][name="from"], colab-interactive-table .column-filter input[type="text"][name="to"] { width: 70px; }

colab-interactive-table .num-per-page { float: left; margin-top: 2px; }

colab-interactive-table .goog-custom-button-outer-box { display: none; }

colab-interactive-table .help-anchor svg { fill: var(--colab-icon-color); height: 24px; margin-left: 8px; text-decoration: none; width: 24px; }

colab-interactive-table td.index_column { font-weight: 700; white-space: nowrap; }

colab-interactive-table .collapsible-controls textarea { min-height: 60px; width: 100%; }

colab-interactive-table select { background-color: var(--colab-primary-surface-color); color: var(--colab-primary-text-color); border-color: var(--colab-bold-border-color); border-radius: 4px; }

.colab-left-pane-action { --md-focus-ring-outward-offset: -3px; }

colab-left-pane:not(.panel-ui-refresh) .colab-left-pane-action { --md-icon-button-state-layer-height: 32px; --md-icon-button-state-layer-width: 32px; }

colab-left-pane:not(.panel-ui-refresh) .colab-left-pane-move, colab-left-pane:not(.panel-ui-refresh) .colab-left-pane-refresh, colab-left-pane:not(.panel-ui-refresh) .colab-left-pane-sort { margin-right: 4px; }

colab-left-pane { border-right: 1px solid var(--colab-border-color); display: flex; flex-shrink: 0; margin-top: 0px; min-width: 0px; will-change: opacity; }

colab-left-pane.panel-ui-refresh { border-right: none; --md-list-container-color: transparent; }

.colab-left-pane-open.panel-ui-refresh { margin-right: 3px; }

colab-left-pane .resizer-contents { background-color: var(--colab-primary-surface-color); overflow: hidden; padding-top: 8px; }

colab-left-pane.panel-ui-refresh .resizer-contents { background-color: var(--colab-surface-container-color); border-radius: 24px; padding-top: 0px; }

colab-left-pane .colab-left-pane-header { position: relative; }

colab-left-pane.panel-ui-refresh .colab-left-pane-header { -webkit-box-align: center; align-items: center; gap: 2px; margin: 8px 8px 8px 20px; }

colab-left-pane:not(.panel-ui-refresh) .resizer-thumb { margin-left: -4px; z-index: 100; }

colab-left-pane colab-resizer { flex-shrink: 1; min-width: 210px; max-width: 800px; width: 300px; }

colab-left-pane.panel-ui-refresh colab-resizer { width: 320px; }

colab-left-pane.has-user-secrets colab-resizer { width: 445px; }

colab-left-pane .left-pane-container, colab-left-pane .resizer-contents { display: flex; -webkit-box-orient: vertical; -webkit-box-direction: normal; flex-flow: column; -webkit-box-flex: 1; flex-grow: 1; overflow: hidden; }

colab-left-pane.panel-ui-refresh .left-pane-container { margin: 0px 20px 8px; }

body.mobile .notebook-vertical .colab-left-pane-nib { display: none; }

.colab-left-pane-nib .left-pane-top { -webkit-box-flex: 1; flex-grow: 1; padding-bottom: 8px; padding-top: 3px; }

.panel-ui-refresh .colab-left-pane-nib .left-pane-top { background-color: var(--colab-surface-container-color); border-radius: 24px; display: flex; -webkit-box-orient: vertical; -webkit-box-direction: normal; flex-direction: column; gap: 4px; padding: 8px 4px; }

colab-left-pane .colab-left-pane-nib div { -webkit-box-flex: 1; flex-grow: 1; }

.left-pane-content-title { -webkit-box-flex: 1; flex: 1 1 0%; font-family: var(--colab-google-sans-font-family); font-size: 16px; font-weight: 500; margin: 12px 8px 4px; }

.panel-ui-refresh .left-pane-content-title { margin: 0px; }

.colab-left-pane-nib { padding-bottom: 3px; }

.panel-ui-refresh .colab-left-pane-nib { height: fit-content; margin-right: 8px; padding-bottom: 0px; }

.colab-left-pane-nib md-icon-button { --md-focus-ring-outward-offset: -4px; }

colab-left-pane:not(.panel-ui-refresh) .colab-left-pane-nib md-icon-button { border-left: 2px solid transparent; --md-icon-button-state-layer-height: 38px; --md-icon-button-state-layer-width: 38px; }

colab-left-pane:not(.panel-ui-refresh) .colab-left-pane-nib md-icon-button[selected] { border-left-color: var(--colab-logo-dark); --md-icon-button-selected-hover-state-layer-color: var(
    --colab-logo-light
  ); --md-icon-button-selected-pressed-state-layer-color: var(
    --colab-logo-light
  ); --md-sys-color-primary: var(--colab-logo-dark); }

.panel-ui-refresh .colab-left-pane-nib md-icon-button { --md-sys-color-on-surface-variant: var(--colab-primary-text-color); }

.panel-ui-refresh .colab-left-pane-nib md-icon-button[selected] { background-color: var(--colab-primary-container-color); border-radius: 9999px; --md-sys-color-primary: var(--colab-on-secondary-container-color); }

@media (forced-colors: active) {
  .colab-left-pane-nib md-icon-button[selected] { --md-sys-color-primary: Highlight; }
  colab-left-pane:not(.panel-ui-refresh) .colab-left-pane-nib md-icon-button[selected] { border-left-color: highlight; }
}

.left-pane-button { padding-top: 6px; position: relative; }

.panel-ui-refresh .left-pane-button { padding-top: 0px; }

colab-left-pane-notifier { bottom: 7px; cursor: pointer; position: absolute; right: 6px; }

.notebook-merge-dialog .content-area { min-height: 0px; max-width: 100%; padding: 0px; }

.notebook-merge-dialog colab-shaded-scroller { margin-top: 8px; overflow: auto; }

.merger-local-diff { background-color: var(--colab-local-diff-background); }

.merger-remote-diff { background-color: var(--colab-remote-diff-background); }

.merger-merged-diff { background-color: var(--colab-merged-diff-background); }

.local-merge-arrow, .remote-merge-arrow { cursor: pointer; }

.local-merge-arrow::after, .merger-gutter, .remote-merge-arrow::after { font-family: var(--colab-chrome-font-family); font-size: 16px; font-weight: 700; }

.local-merge-arrow::after { content: "→"; }

.remote-merge-arrow::after { content: "←"; }

colab-merger-common { text-align: center; }

colab-cell-merger { display: block; margin: 20px; }

colab-cell-merger .cell { background: var(--colab-editor-background); border: 1px solid var(--colab-border-color); border-radius: 8px; font-family: var(--colab-code-font-family); overflow-x: auto; font-size: var(--colab-code-font-size); padding: 8px; }

colab-merger .code .editor.monaco { margin: 0px; }

colab-merger .layout.vertical.edit { flex-shrink: 1; min-width: 0px; }

.colab-merger-output { flex-basis: 200px; -webkit-box-flex: 1; flex-grow: 1; }

.merger-gutter { padding-left: 1px; width: 36px; }

.merger-gutter div { cursor: pointer; }

.merger-status > div { -webkit-box-flex: 1; flex: 1 1 33%; font-weight: 700; min-width: 0px; overflow: hidden; text-align: center; }

.colab-open-dialog md-filled-button, .colab-open-dialog md-text-button { margin: 10px; }

.colab-open-dialog md-filled-button.new-notebook { left: 0px; position: absolute; top: 8px; -webkit-font-smoothing: antialiased; }

.colab-open-dialog colab-side-tab-dialog-page-viewer .open-github-notebook { height: calc(100% - 10px); padding-top: 10px; }

.colab-open-dialog colab-github-repo-selector { margin-top: 8px; }

.colab-open-dialog .open-piper-notebook .buttons { margin: 10px 0px; padding-left: 8px; }

.colab-open-dialog .open-piper-notebook colab-workspace-list, .colab-open-dialog .open-piper-notebook-path { display: block; width: 620px; }

.colab-open-dialog .upload-file-target { border: 1px solid transparent; border-radius: 10px; height: calc(100% - 20px); text-align: center; width: calc(100% - 20px); }

.colab-open-dialog .upload-file-target label { background-color: var(--colab-primary-color); border-radius: 5px; color: var(--colab-on-primary-color); font-weight: 700; padding: 15px; cursor: pointer; }

.colab-open-dialog .upload-file-target label:focus { outline: 1px solid var(--colab-bold-border-color); }

.colab-open-dialog #upload-notebook { display: none; }

.colab-open-dialog .upload-file-target[active] { border-color: var(--colab-border-color); }

.colab-open-dialog .upload-file-target[disabled] { border: none; }

.colab-open-dialog .upload-file-target .uploading, .colab-open-dialog .upload-file-target[disabled] label { display: none; }

.colab-open-dialog .upload-file-target[disabled] .uploading { display: inline-block; }

.colab-open-dialog .upload-file-target[disabled] .uploading mwc-circular-progress { margin-bottom: 12px; }

.colab-open-dialog .upload-file-target::before { display: inline-block; height: 100%; vertical-align: middle; }

.colab-open-dialog .sky { margin-bottom: 20px; }

.colab-open-dialog md-icon.cloud { --md-icon-size: 200px; color: rgb(211, 211, 211); left: 50px; position: relative; font-variation-settings: "FILL" 1; user-select: none; }

.colab-open-dialog md-icon.cloud#light { --md-icon-size: 150px; color: rgb(238, 238, 238); left: -85px; top: 20px; }

.colab-open-dialog p { margin: 20px; }

@media only screen and (max-width: 430px) {
  .colab-open-dialog md-icon.cloud { left: 0px; }
  .colab-open-dialog md-icon.cloud#light { left: 30px; top: -120px; }
}

.colab-open-dialog .colab-icon.clear-history, .colab-open-dialog .colab-icon.reload { padding-right: 10px; padding-top: 10px; }

#sharing-dialog mwc-textfield { --mdc-text-field-fill-color: var(--colab-secondary-surface-color); cursor: pointer; display: block; margin-top: 8px; }

colab-table-of-contents { overflow: hidden; }

colab-table-of-contents colab-shaded-scroller { display: block; height: 100%; overflow-y: auto; padding-bottom: 20px; }

.panel-ui-refresh colab-table-of-contents colab-shaded-scroller { overflow: hidden auto; }

html:not(.panel-ui-refresh) .colab-toc-sections { padding: 8px 2px 0px 8px; }

.panel-ui-refresh .colab-toc-sections:has(.toc-cell) { margin-bottom: 12px; }

html:not(.panel-ui-refresh) .toc-section-cells { margin-left: 25px; }

.toc-add-section { --md-text-button-container-height: 28px; --md-text-button-leading-space: 12px; --md-text-button-trailing-space: 12px; --md-text-button-with-leading-icon-trailing-space: 12px; --md-text-button-with-trailing-icon-leading-space: 12px; --md-text-button-with-leading-icon-leading-space: 8px; --md-text-button-with-trailing-icon-trailing-space: 8px; --md-text-button-icon-size: 20px; margin-left: 8px; }

.toc-cell { position: relative; }

html:not(.panel-ui-refresh) .toc-cell-focused > .toc-cell a { border-left-color: var(--colab-logo-light); color: var(--colab-primary-text-color); font-weight: 700; }

.panel-ui-refresh .toc-cell-focused > .toc-cell a { border-left-color: var(--colab-primary-color); color: var(--colab-primary-color); }

html:not(.panel-ui-refresh) .toc-cell a { border-left: 3px solid transparent; color: var(--colab-secondary-text-color); display: block; margin: 8px 16px 8px 0px; padding: 6px 6px 6px 10px; text-decoration: none; }

.panel-ui-refresh .toc-cell a { border-left: 2px solid var(--colab-border-color); color: var(--colab-secondary-text-color); display: block; font-weight: 500; margin-right: 32px; overflow: hidden; padding-top: 6px; padding-right: 6px; padding-bottom: 6px; padding-left: calc(8px + var(--colab-toc-cell-depth, 0)*12px); text-decoration: none; text-overflow: ellipsis; white-space: nowrap; }

.toc-cell md-icon-button { opacity: 0; position: absolute; right: 10px; top: 3px; --md-focus-ring-outward-offset: -2px; --md-icon-button-state-layer-height: 24px; --md-icon-button-state-layer-width: 24px; }

.panel-ui-refresh .toc-cell md-icon-button { right: 4px; }

.toc-cell.menu-open md-icon-button, .toc-cell:focus-within md-icon-button, .toc-cell:hover md-icon-button, body.mobile .toc-cell md-icon-button { opacity: 0.5; }

@media (forced-colors: active) {
  .toc-cell.menu-open md-icon-button, .toc-cell:focus-within md-icon-button, .toc-cell:hover md-icon-button, body.mobile .toc-cell md-icon-button { opacity: 1; }
}

body colab-tab-pane.layout.hidden, colab-tab-layout-container colab-resizer.hidden { display: none; }

colab-tab-layout-container { background-color: var(--colab-primary-surface-color); min-height: 100px; }

colab-tab-layout-container.panel-ui-refresh { background-color: transparent; }

colab-tab-layout-container .notebook-tab { position: relative; }

colab-tab-pane .tab-pane-header { border-bottom: 1px solid var(--colab-border-color); --md-focus-ring-outward-offset: -2px; --md-divider-thickness: 0; }

.panel-ui-refresh colab-tab-pane .tab-pane-header { border-bottom: none; gap: 2px; margin: 8px 8px 8px 20px; }

colab-tab-layout-container .tab-pane-parent > colab-resizer.sn-resize .resizer-thumb { border-bottom: 1px solid var(--colab-border-color); }

colab-tab-layout-container.panel-ui-refresh .tab-pane-parent > colab-resizer.sn-resize .resizer-thumb { border-bottom: none; }

colab-tab-layout-container .tab-pane-parent > colab-resizer.sn-resize { min-height: 25px; max-height: 99%; }

colab-tab-layout-container .tab-pane-parent > colab-resizer.we-resize { border-left: 1px solid var(--colab-border-color); min-width: 25px; max-width: 99%; }

colab-tab-layout-container.panel-ui-refresh .tab-pane-parent > colab-resizer.we-resize { border-left: none; }

colab-tab-pane { background-color: var(--colab-primary-surface-color); flex-shrink: 1; max-width: 100%; min-height: 0px; min-width: 0px; }

.notebook-vertical:not(.embedded) .panel-ui-refresh colab-tab-pane { border-radius: 28px; overflow: clip; }

colab-tab-layout-container:not(.panel-ui-refresh) colab-tab-pane .tab-pane-header md-icon-button { height: 32px; margin: 2px 2px 0px; width: 32px; }

colab-tab-layout-container.panel-ui-refresh colab-tab-pane .colab-tab-header md-icon-button { margin: 0px; }

colab-tab-pane .tab-pane-container, colab-tab-pane > div { min-height: 0px; min-width: 0px; }

colab-tab-layout-container:not(.panel-ui-refresh) { --md-primary-tab-active-label-text-color: var(--colab-secondary-text-color); --md-primary-tab-label-text-color: var(--colab-secondary-text-color); }

colab-tab-layout-container.panel-ui-refresh md-primary-tab { padding: 0px; --md-primary-tab-active-indicator-color: var(--colab-primary-color); --md-primary-tab-active-indicator-shape: 0px; --md-primary-tab-active-indicator-height: 2px; --md-primary-tab-container-shape: 4px; --md-primary-tab-label-text-line-height: 24px; --md-sys-color-primary: var(--colab-primary-text-color); --md-sys-color-on-surface-variant: var(--colab-primary-text-color); }

colab-tab-layout-container.panel-ui-refresh md-primary-tab:not(:first-child) { margin-left: 8px; }

colab-tab-layout-container.panel-ui-refresh md-primary-tab[active] { --md-primary-tab-container-shape-end-end: 0px; --md-primary-tab-container-shape-end-start: 0px; }

colab-tab-layout-container.panel-ui-refresh .tab-pane-header md-primary-tab { --md-primary-tab-label-text-size: 16px; }

colab-tab-layout-container.panel-ui-refresh .tab-pane-header md-primary-tab[active]:only-of-type { --md-primary-tab-active-indicator-color: transparent; --md-primary-tab-container-shape-end-end: 4px; --md-primary-tab-container-shape-end-start: 4px; }

colab-tab-layout-container.panel-ui-refresh .tab-pane-header md-primary-tab[active]:only-of-type .tab-close { display: none; }

colab-tab-pane .tab-pane-header md-primary-tab { -webkit-box-flex: 0; flex-grow: 0; --md-primary-tab-container-height: 36px; }

colab-tab-layout-container.flexible-tabs .tab-close { overflow: hidden; vertical-align: middle; visibility: hidden; --md-focus-ring-outward-offset: -6px; --md-icon-button-icon-size: 18px; }

colab-tab-layout-container.flexible-tabs:not(.panel-ui-refresh) .tab-close { margin: 0px 0px 0px -2px; --md-icon-button-state-layer-height: 30px; --md-icon-button-state-layer-width: 30px; }

colab-tab-layout-container.flexible-tabs.panel-ui-refresh .tab-close { --md-focus-ring-outward-offset: -2px; --md-icon-button-icon-size: 20px; --md-icon-button-state-layer-height: 24px; --md-icon-button-state-layer-width: 24px; }

colab-tab-layout-container.flexible-tabs md-primary-tab:focus .tab-close, colab-tab-layout-container.flexible-tabs md-primary-tab:hover .tab-close, colab-tab-layout-container.flexible-tabs md-primary-tab[active] .tab-close { visibility: visible; }

colab-tab-layout-container.panel-ui-refresh .colab-tab-header { -webkit-box-align: center; align-items: center; display: flex; gap: 4px; padding-left: 4px; padding-right: 4px; }

colab-tab-layout-container:not(.panel-ui-refresh) colab-tab-pane .colab-tab-header { border-radius: 8px; padding-left: 4px; }

colab-tab-layout-container.panel-ui-refresh .colab-tab-title { display: flex; gap: 8px; }

colab-tab-layout-container:not(.panel-ui-refresh) .colab-tab-title { vertical-align: middle; }

colab-tab-pane md-primary-tab.dragging { opacity: 0.6; }

colab-tab md-linear-progress { margin-bottom: 5px; --md-linear-progress-active-indicator-color: var(--paper-orange-400); }

colab-tab md-linear-progress.hidden { display: none; }

colab-tab-pane colab-tab > colab-shaded-scroller { min-height: 0px; overflow: auto; padding: 8px; }

.panel-ui-refresh colab-tab-pane colab-tab > colab-shaded-scroller { padding: 0px; }

colab-tab { flex-shrink: 1; min-height: 0px; overflow: hidden; transition: background-color 0.1s linear; }

.notebook-vertical:not(.embedded) .panel-ui-refresh colab-tab { margin: 0px 20px 8px; }

.notebook-vertical:not(.embedded) .panel-ui-refresh colab-tab.notebook-tab-content { margin: 6px 10px 6px 6px; }

.notebook-vertical:not(.embedded) .panel-ui-refresh colab-tab.cell-tab { margin-left: 12px; margin-right: 12px; }

.notebook-vertical:not(.embedded) .panel-ui-refresh colab-tab.scratchpad { margin-left: 4px; margin-right: 8px; }

colab-tab.highlight { background-color: var(--colab-highlighted-surface-color); }

.tab-pane-container colab-tab:not(.selected-tab), colab-tab-layout-container:not(.drag-target) colab-resizer.no-tabs, colab-tab-layout-container:not(.drag-target) colab-tab-pane.no-header .tab-pane-header { display: none; }

colab-tab-layout-container .tab-pane-parent > colab-resizer { flex-shrink: 0; }

colab-tab-layout-container .tab-pane-parent { -webkit-box-flex: 1; flex-grow: 1; flex-shrink: 1; min-width: 0px; min-height: 0px; }

colab-tab-layout-container.panel-ui-refresh .tab-pane-parent { gap: 3px; }

colab-tab-layout-container.drag-target .tab-pane-parent > colab-resizer { min-height: 25%; min-width: 25%; }

colab-tab-pane md-primary-tab[draggable="true"] { cursor: move; }

colab-tab-pane md-tabs { min-width: 20px; position: relative; }

.panel-ui-refresh colab-tab-pane md-tabs { padding-right: 16px; }

colab-tab-pane .tab-drop-indicator { color: var(--colab-primary-color); position: absolute; top: 0px; z-index: 1; }

.right-pane-snap-hint { animation: 0.15s ease-out 0s 1 normal none running snapIn; background-color: var(--colab-scrollbar-color); bottom: 0px; display: none; pointer-events: none; position: absolute; right: 0px; top: 0px; width: 30%; z-index: var(--colab-dialog-bg-z-index); }

@-webkit-keyframes snapIn { 
  0% { opacity: 0; transform: scale(0.8); }
  100% { opacity: 1; transform: scale(1); }
}

@keyframes snapIn { 
  0% { opacity: 0; transform: scale(0.8); }
  100% { opacity: 1; transform: scale(1); }
}

colab-tab-layout { background-color: var(--colab-primary-surface-color); display: block; }

colab-tab-layout .tab-layout-header { background-color: var(--colab-secondary-surface-color); padding: 0px 4px 0px 8px; --md-sys-color-surface: var(--colab-secondary-surface-color); --md-divider-color: transparent; }

.panel-ui-refresh .tab-layout-header { -webkit-box-align: center; align-items: center; }

colab-tab-layout:not(.tabs-editing) .tabs-add-tab, colab-tab-layout:not(.tabs-editing) .tabs-delete-tab, colab-tab-layout:not(.tabs-editing) .tabs-rename-tab { display: none; }

#header-background, #header-content { display: flex; height: 100%; position: absolute; width: 100%; }

body.mobile #header-content { position: relative; }

.top-floater { background-color: var(--colab-primary-surface-color); }

.top-floater.panel-ui-refresh { background-color: transparent; }

.goog-submenu-arrow { color: var(--colab-icon-color); font-size: 70%; left: auto; padding-right: 0px; position: absolute; right: 15px; text-align: right; transition: 0.218s; }

.goog-menuitem { padding: 6px 10em 6px 15px; }

.goog-menu:has(.goog-option-selected) .goog-menuitem { padding-left: 39px; }

.goog-menuitem-highlight, .goog-menuitem-hover { background-color: var(--colab-highlighted-surface-color); border: none; }

.menubar-wrapper { display: inline-flex; }

#top-menubar .goog-menu-button-caption { font-weight: 500; padding: 0px; }

#top-menubar .goog-menu-button-caption, .goog-menu .goog-menuitem-content { color: var(--colab-primary-text-color); font-family: var(--colab-chrome-font-family); font-size: var(--colab-chrome-font-size); line-height: 20px; }

#top-menubar { background-color: transparent; border-radius: 4px; cursor: default; display: inline-flex; gap: 8px; outline: none; white-space: nowrap; }

#top-menubar.jsfocus { outline: var(--colab-focus-ring-color) auto 1px; outline-offset: 1px; }

.goog-menu { background: var(--colab-primary-surface-color); border-radius: 4px; border-color: var(--colab-primary-surface-color); box-shadow: rgba(0, 0, 0, 0.15) 0px 2px 6px 2px, rgba(0, 0, 0, 0.3) 0px 1px 2px 0px; cursor: default; margin: 0px; outline: none; overflow-y: auto; padding: 7px 0px; position: absolute; transition: opacity 0.218s; --md-icon-size: 20px; }

.goog-menuseparator { border-top: 1px solid var(--colab-border-color); margin: 6px 0px; }

.header-warning { -webkit-box-align: center; align-items: center; align-self: stretch; background: var(--colab-primary-container-color); display: flex; gap: 12px; -webkit-box-pack: center; justify-content: center; letter-spacing: 0px; padding: 8px 16px; line-height: 20px; }

.header-warning .message { color: var(--colab-primary-text-color); -webkit-box-flex: 1; flex: 1 0 0px; }

.header-warning .actions { display: flex; gap: 8px; -webkit-box-pack: end; justify-content: flex-end; }

.header-warning + .header-warning { margin-top: 1px; }

.header-warning .actions a { font-weight: 500; gap: 4px; padding: 4px 12px; text-decoration: none; }

.ai-warning { background-color: unset; border-bottom: 1px solid var(--colab-border-color); }

.header-staging { color: var(--colab-secondary-text-color); font-size: 12px; left: 50%; margin-left: -100px; position: absolute; text-align: center; width: 200px; }

body:not(.mobile) .top-floater #header { font: normal 13px var(--colab-chrome-font-family); height: 64px; text-align: left; width: 100%; }

#header { border-bottom: 1px solid var(--colab-border-color); position: relative; }

.panel-ui-refresh #header { border-bottom: none; }

#header-logo { height: 64px; padding-left: 10px; text-align: center; width: 50px; }

.panel-ui-refresh #header-logo { margin-left: 12px; padding-left: 0px; }

#header-logo > img { padding-top: 10px; position: relative; vertical-align: middle; width: 40px; }

body:not(.mobile) #header-doc-toolbar { overflow: hidden; padding-left: 8px; padding-top: 8px; }

body.mobile .panel-ui-refresh #header-doc-toolbar { margin-left: 12px; }

#document-info { -webkit-box-align: center; align-items: center; display: flex; height: 28px; margin-bottom: 2px; }

#document-info md-icon-button { --md-focus-ring-outward-offset: -2px; --md-icon-button-icon-size: 20px; --md-icon-button-state-layer-height: 28px; --md-icon-button-state-layer-width: 28px; }

.header-warning .close { --md-focus-ring-outward-offset: -2px; --md-icon-button-icon-size: 20px; --md-icon-button-state-layer-height: 28px; --md-icon-button-state-layer-width: 28px; margin: 0px -4px; --md-sys-color-on-surface-variant: var(--colab-primary-color); }

.notification { background-color: rgb(249, 237, 190); border: 1px solid rgb(211, 211, 211); margin-top: 20px; max-width: 200px; padding: 3px; position: relative; top: 0px; }

.doc-name { background: transparent; border: 1px solid transparent; color: var(--colab-primary-text-color); font: normal 18px var(--colab-google-sans-font-family); max-width: 100%; min-width: 65px; padding: 0px 4px 0px 3px; text-overflow: ellipsis; white-space: pre; }

md-text-button.deploy-button { --md-text-button-container-height: 40px; --md-text-button-icon-size: 24px; --md-sys-color-primary: var(--colab-primary-text-color); }

md-text-button.show-chat-button { --md-text-button-container-height: 40px; --md-text-button-icon-size: 24px; --md-sys-color-primary: var(--colab-primary-text-color); }

.doc-name:hover { border: 1px solid var(--paper-grey-200); }

#header-right { -webkit-box-align: center; align-items: center; display: flex; gap: 12px; margin-right: 16px; }

#header md-filled-tonal-button, #header md-icon-button, #header md-text-button { --md-focus-ring-outward-offset: -2px; }

#header md-filled-tonal-button { --md-filled-tonal-button-icon-size: 24px; }

#header-doc-toolbar .file-location-icon { flex-shrink: 0; --md-icon-size: 18px; margin: 0px 2px 0px 4px; }

#star-icon { flex-shrink: 0; }

#star-icon.starred md-icon { color: var(--colab-logo-dark); font-variation-settings: "FILL" 1; }

.goog-menuitem-checkbox { visibility: hidden; }

.goog-option-selected .goog-menuitem-checkbox { background: none; color: var(--colab-icon-color); height: 20px; left: 15px; visibility: visible; width: 20px; }

.goog-menubar .goog-menu-button-dropdown { background: none; }

.goog-menubar .goog-menu-button { background: transparent; border: none; border-radius: 4px; padding: 2px 4px; }

.goog-menubar .goog-menu-button-inner-box { margin: 0px; padding: 0px; }

.goog-menubar .goog-menu-button-hover { background: var(--colab-highlighted-surface-color); }

#top-menubar > div.goog-menu-button-open { background: var(--colab-highlighted-surface-color); }

@media (forced-colors: active), (prefers-contrast: more) {
  #top-menubar > div.goog-menu-button-open, .goog-menubar .goog-menu-button.goog-menu-button-hover, .goog-menuitem-highlight, .goog-menuitem-hover { outline: highlight solid 3px; outline-offset: -2px; }
}

.goog-menuitem-disabled, .goog-menuitem-disabled .goog-menuitem-accel, .goog-menuitem-disabled .goog-menuitem-checkbox, .goog-menuitem-disabled .goog-menuitem-content { color: var(--colab-primary-text-color) !important; }

.goog-menuitem-accel { color: var(--colab-secondary-text-color); padding-right: 15px; }

.goog-menuitem-disabled .goog-menuitem-content { opacity: 0.38; }

body.mobile #document-info { -webkit-box-flex: 1; flex-grow: 1; margin-left: 4px; margin-top: 6px; overflow: hidden; }

colab-callout h2 { color: var(--colab-on-primary-color); font-size: 16px; font-weight: 500; margin: 0px; }

body.embedded #document-info { display: none; }

body.embedded #header-doc-toolbar { -webkit-box-align: center; align-items: center; display: flex; padding-top: 0px; }

body.embedded .panel-ui-refresh #header-doc-toolbar { margin-left: 12px; }

body.embedded .menubar-wrapper { -webkit-box-align: center; align-items: center; }

body.embedded .top-floater #header { height: 40px; }

body.embedded #show-chat-button { --md-text-button-container-height: 32px; }

.history-view-dialog { --mdc-dialog-max-width: 98vw; --mdc-dialog-min-width: 98vw; --mdc-dialog-max-height: 98vh; }

.history-view-container { display: flex; -webkit-box-orient: vertical; -webkit-box-direction: normal; flex-direction: column; height: calc(-150px + 98vh); }

colab-history-view { display: block; height: 100%; min-width: 800px; overflow: hidden; }

.history-view-container .history-view-columns { height: calc(-150px + 98vh); min-height: 200px; overflow: hidden; }

.history-view-container .preview { overflow: hidden; }

.history-view-container .preview mwc-circular-progress { margin: auto; }

.history-view-left-column { border-right: 1px solid var(--colab-border-color); -webkit-box-flex: 0; flex-grow: 0; flex-shrink: 0; margin-top: 2px; width: 350px; }

.history-view-left-column mwc-checkbox { padding: 8px 8px 8px 18px; }

mwc-circular-progress.hidden { display: none; }

colab-history-list.supports-named-versions { border-top: 1px solid var(--colab-border-color); }

.ansibold { font-weight: 700; }

.ansiblack { color: rgb(0, 0, 0); }

.ansired { color: darkred; }

.ansigreen { color: rgb(0, 100, 0); }

.ansiyellow { color: brown; }

.ansiblue { color: rgb(0, 0, 139); }

.ansipurple { color: rgb(148, 0, 211); }

.ansicyan { color: rgb(70, 130, 180); }

.ansigray { color: gray; }

.ansibgblack { background-color: rgb(0, 0, 0); }

.ansibgred { background-color: red; }

.ansibggreen { background-color: green; }

.ansibgyellow { background-color: rgb(255, 255, 0); }

.ansibgblue { background-color: blue; }

.ansibgpurple { background-color: rgb(255, 0, 255); }

.ansibgcyan { background-color: cyan; }

.ansibggray { background-color: gray; }

.colab-assist-pane-input { margin: 14px 28px 14px 12px; }

.panel-ui-refresh .colab-assist-pane-input { margin: 8px 0px; }

colab-left-pane:not(.panel-ui-refresh) colab-assist-pane.horizontal .colab-assist-pane-input, colab-tab-layout-container:not(.panel-ui-refresh) colab-assist-pane.horizontal .colab-assist-pane-input { margin-bottom: 0px; }

.panel-ui-refresh colab-assist-pane.horizontal { gap: 8px; }

colab-assist-pane { height: 100%; overflow: hidden; width: 100%; }

colab-assist-pane > * { flex-basis: 50%; flex-shrink: 1; min-height: 50px; min-width: 100px; }

.colab-assist-pane-input[focused] { box-shadow: rgba(0, 0, 0, 0.14) 0px 2px 2px 0px, rgba(0, 0, 0, 0.12) 0px 1px 5px 0px, rgba(0, 0, 0, 0.2) 0px 3px 1px -2px; }

.colab-assist-progress { margin-right: 8px; visibility: hidden; --md-linear-progress-active-indicator-color: var(--paper-orange-400); }

.colab-assist-progress.searching { visibility: visible; }

.colab-assist-pane-results { flex-shrink: 1; max-height: unset; min-height: 0px; overflow: auto; }

colab-assist-pane-result { -webkit-box-align: center; align-items: center; border-bottom: solid 1px var(--paper-grey-200); cursor: pointer; display: flex; padding: 3px 4px; }

.panel-ui-refresh colab-assist-pane-result { border-bottom: none; }

.colab-assist-pane-result-text { -webkit-box-flex: 1; flex-grow: 1; overflow: hidden; text-overflow: ellipsis; white-space: nowrap; }

colab-assist-pane-result.selected { background: var(--colab-highlighted-surface-color); }

.colab-assist-pane-details { overflow: auto; padding: 0px 4px; }

.colab-assist-pane-doc-header { -webkit-box-align: center; align-items: center; display: flex; }

.colab-assist-pane-doc-title { -webkit-box-flex: 1; flex-grow: 1; font-size: 16px; overflow: hidden; text-overflow: ellipsis; white-space: nowrap; }

.colab-assist-pane-doc-title, .colab-assist-pane-documentation h2 { line-height: 24px; }

.colab-assist-pane-documentation h2 { font-size: 15px; }

.colab-assist-pane-documentation h3 { font-size: var(--colab-chrome-font-size); }

.colab-assist-pane-documentation h4 { font-size: 13px; }

.colab-assist-pane-documentation h5 { font-size: 11px; }

.colab-assist-pane-documentation h3, .colab-assist-pane-documentation h4, .colab-assist-pane-documentation h5 { line-height: 20px; }

.colab-assist-pane-no-selection .colab-assist-pane-code, .colab-assist-pane-no-selection .colab-assist-pane-doc-insert, .colab-assist-pane-no-selection .colab-assist-pane-view-source { display: none; }

.colab-assist-pane-code:has(.monaco) { background: var(--colab-editor-background); border: 1px solid var(--colab-border-color); border-radius: 8px; font-family: var(--colab-code-font-family); overflow-x: auto; font-size: var(--colab-code-font-size); padding: 8px 8px 0px; }

.colab-assist-pane-code .monaco .context-view.monaco-menu-container { display: none; }

.command-palette { color: var(--colab-secondary-text-color); margin-top: 2px; max-height: 400px; min-width: 500px; }

.command-palette md-outlined-text-field { margin: 8px 8px 16px; }

.command-palette-results { overflow: auto; }

.command-palette-result-item { cursor: pointer; padding: 2px 80px 2px 16px; position: relative; }

.command-palette .result-separator { border-top: 1px solid var(--colab-border-color); margin: 8px; }

.command-palette-match { font-weight: 700; }

.command-palette-result-item:hover { background: var(--colab-secondary-surface-color); }

.command-palette-result-item.selected { background: var(--colab-highlighted-surface-color); }

.command-palette-result-shortcut { color: var(--colab-secondary-text-color); direction: ltr; left: auto; padding: 0px 16px 0px 6px; position: absolute; right: 0px; text-align: right; }

.command-palette-backdrop.opened { opacity: 0; }

.colab-assist-result-insert { flex-shrink: 0; }

.cell { --colab-cell-gutter-width: 40px; align-content: flex-start; display: flex; -webkit-box-orient: vertical; -webkit-box-direction: normal; flex-direction: column; position: relative; }

html { --colab-cell-gutter-button-transition-time: 250ms; }

.monaco-scrollable-element > .invisible { display: none; }

.cell:focus { outline-style: none; }

.imported .imported-from-banner { -webkit-box-align: center; align-items: center; display: flex; gap: 4px; }

.imported-from-banner { display: none; padding: 6px 12px; }

.sync-imported-cell { --md-focus-ring-outward-offset: -2px; --md-icon-button-icon-size: 20px; --md-icon-button-state-layer-height: 28px; --md-icon-button-state-layer-width: 28px; }

.inputarea, .text-top-div { display: flex; -webkit-box-orient: horizontal; -webkit-box-direction: normal; flex-flow: row; }

.views-hide-code .inputarea, .views-hide-code .inputarea-toolbar, .views-hide-code .output-info { display: none !important; }

.views-hide-code .code .codecell-input-output { outline: none; }

.views-hide-code .code .output-content { border-top: none; }

.inputarea { background-color: var(--colab-editor-background); min-height: 24px; position: relative; }

.code .inputarea.form { background-color: var(--colab-primary-surface-color); }

.text .markdown { box-sizing: border-box; color: var(--colab-primary-text-color); line-height: 1.6; max-width: 1016px; min-height: 28px; padding-left: 8px; padding-right: 8px; width: 100%; overflow-wrap: break-word; }

.toc .markdown { padding-right: 100px; }

.markdown img { max-width: 100%; max-height: 100%; }

.markdown blockquote { border-left: 5px solid var(--colab-highlighted-surface-color); margin-left: 0px; padding: 0px 2em; }

pre { font-family: var(--colab-code-font-family); margin-bottom: 2px; margin-top: 2px; white-space: pre-wrap; }

.notebook-vertical.large-notebook { --colab-run-button-position: static; }

.code .editor.monaco { margin: 10px 8px 0px 0px; }

.debug-editor.flex, .editor.flex { min-width: 0px; }

.text * .editor { display: none; }

.text.edit * .editor { border-bottom: 1px dashed var(--paper-grey-600); display: block; }

.text.edit .editor-container { -webkit-box-orient: vertical; -webkit-box-direction: normal; flex-direction: column; -webkit-box-flex: 1; flex-grow: 1; overflow: hidden; }

.text.edit .editor-container.horizontal { display: flex; -webkit-box-orient: horizontal; -webkit-box-direction: normal; flex-direction: row; }

.text.edit .editor-root { background: var(--colab-editor-background); -webkit-box-flex: 1; flex-grow: 1; }

body:not(.mobile) .text.edit .editor-root { padding-top: 10px; }

.text.edit .editor-container.horizontal .editor-root { border-bottom-left-radius: 8px; flex-basis: 0px; overflow-x: auto; }

.text.edit .editor-container .text-top-div { -webkit-box-flex: 1; flex: 1 1 0%; overflow-x: auto; }

.text:not(.edit) .editor-container .text-top-div { width: 100%; }

.text.edit .editor { border: none; }

.text.edit .editor-container.horizontal .markdown { border-left: 1px solid var(--colab-border-color); }

.text.edit .editor-container:not(.horizontal) .editor { border-bottom: 1px solid var(--colab-border-color); }

.cell-contents { display: flex; -webkit-box-orient: vertical; -webkit-box-direction: normal; flex-direction: column; }

.main-content { border-radius: 8px; display: flex; -webkit-box-orient: vertical; -webkit-box-direction: normal; flex-direction: column; min-height: 38px; position: relative; }

.notebook-cell.focused .main-content { outline: 1px solid var(--colab-bold-border-color); }

.notebook-cell.agent-focused .main-content, .notebook-cell.focused:focus .main-content, .notebook-cell.focused:has(.monaco-editor.focused) .main-content { outline: 2px solid var(--colab-primary-color); }

.code .codecell-input-output { border-radius: 8px; display: flex; -webkit-box-orient: vertical; -webkit-box-direction: normal; flex-direction: column; outline: 1px solid var(--colab-border-color); }

.code div.inputarea { border-radius: 8px; }

.code .formview, .code colab-viz-toolbar { border-bottom-right-radius: 8px; border-top-right-radius: 8px; }

.code:has(.output-content:not([hidden])) div.inputarea.both:not(:has(.output-content)), .code:has(.output-content:not([hidden])) div.inputarea.code { border-bottom-left-radius: 0px; border-bottom-right-radius: 0px; }

.code:has(.output-content:not([hidden])) .formview:not(:has(.output-content)), .code:has(.output-content:not([hidden])) colab-viz-toolbar { border-bottom-right-radius: 0px; }

.code .output-content { border-top: 1px solid rgba(var(--colab-border-color-rgb),.4); }

.code .formview .output-content { border-top: none; }

.code .inputarea-toolbar { border-top: 0px; border-right: 0px; border-left: 0px; border-image: initial; border-bottom: 1px solid var(--colab-border-color); border-radius: 8px 8px 0px 0px; outline: 1px solid var(--colab-border-color); }

.code .inputarea-toolbar:not([invalid]) + div.inputarea { border-top-left-radius: 0px; border-top-right-radius: 0px; }

.code.notebook-cell.agent-focused .codecell-input-output, .code.notebook-cell.focused .codecell-input-output { outline-color: transparent; }

.code.notebook-cell.agent-focused:has(colab-form-title, .imported-from-banner, colab-cell-execution-schedule-editor:not([hidden])) .inputarea-toolbar, .code.notebook-cell.focused:has(colab-form-title, .imported-from-banner, colab-cell-execution-schedule-editor:not([hidden])) .inputarea-toolbar { border-radius: 0px; }

.code.notebook-cell.agent-focused:has(colab-form-title, .imported-from-banner, colab-cell-execution-schedule-editor:not([hidden])) div.inputarea, .code.notebook-cell.focused:has(colab-form-title, .imported-from-banner, colab-cell-execution-schedule-editor:not([hidden])) div.inputarea { border-top-left-radius: 0px; border-top-right-radius: 0px; }

.code.notebook-cell.agent-focused:has(colab-form-title, .imported-from-banner, colab-cell-execution-schedule-editor:not([hidden])) .formview, .code.notebook-cell.agent-focused:has(colab-form-title, .imported-from-banner, colab-cell-execution-schedule-editor:not([hidden])) colab-viz-toolbar, .code.notebook-cell.focused:has(colab-form-title, .imported-from-banner, colab-cell-execution-schedule-editor:not([hidden])) .formview, .code.notebook-cell.focused:has(colab-form-title, .imported-from-banner, colab-cell-execution-schedule-editor:not([hidden])) colab-viz-toolbar { border-top-right-radius: 0px; }

.output-content { display: flex; font-family: var(--colab-code-font-family); font-size: 10pt; }

.output-iframe-container { -webkit-box-flex: 1; flex: 1 1 0%; margin-right: 1px; min-width: 0px; }

.mirror-cell iframe, .output-iframe-sizer iframe { border: 0px; display: block; width: 100%; }

.mirror-cell colab-static-output-renderer { max-height: unset; }

.mirror-cell div.inputarea { outline: 1px solid var(--colab-border-color); overflow: hidden; padding-left: 10px; }

.mirror-cell:has(.monaco-editor.focused) div.inputarea { outline: 2px solid var(--colab-focus-ring-color); }

.editor { font-size: 13px; }

.add-cell { -webkit-box-align: center; align-items: center; align-self: center; display: flex; -webkit-box-orient: vertical; -webkit-box-direction: normal; flex-flow: column; height: 16px; position: relative; width: 100%; }

.add-cell > hr { border-right: 1px solid rgb(169, 169, 169); border-bottom: 1px solid rgb(169, 169, 169); border-left: 1px solid rgb(169, 169, 169); border-top: 1px none; left: 20px; opacity: 0; position: absolute; right: 20px; top: 0px; transition: visibility 0.25s, opacity 0.2s; visibility: hidden; }

.add-cell:hover > hr { opacity: 1; transition: visibility 0.1s, opacity 0.2s; visibility: visible; }

.add-cell-buttons { display: flex; font-family: var(--colab-chrome-font-family); margin-top: -4px; opacity: 0; transition: opacity 0.2s; visibility: hidden; z-index: 20; }

.add-cell-buttons md-outlined-button { --md-outlined-button-container-height: 28px; --md-outlined-button-leading-space: 12px; --md-outlined-button-trailing-space: 12px; --md-outlined-button-with-leading-icon-trailing-space: 12px; --md-outlined-button-with-trailing-icon-leading-space: 12px; --md-outlined-button-with-leading-icon-leading-space: 8px; --md-outlined-button-with-trailing-icon-trailing-space: 8px; --md-outlined-button-icon-size: 20px; background: var(--colab-primary-surface-color); gap: 2px; margin: 0px 8px; }

.add-cell > .add-cell-buttons { transition: opacity 0.2s 0.25s, visibility 0.25s; }

.add-cell:hover > .add-cell-buttons { opacity: 1; transition: opacity 0.2s 0.1s; visibility: visible; }

.cell > .add-cell { height: 12px; }

.cell .add-cell-buttons { margin-top: -8px; }

.cell .add-cell > hr { margin-top: 5px; }

.notebook-content > .add-cell { margin-top: -1px; }

.toc-refresh-button { --md-outlined-button-container-height: 28px; --md-outlined-button-leading-space: 12px; --md-outlined-button-trailing-space: 12px; --md-outlined-button-with-leading-icon-trailing-space: 12px; --md-outlined-button-with-trailing-icon-leading-space: 12px; --md-outlined-button-with-leading-icon-leading-space: 8px; --md-outlined-button-with-trailing-icon-trailing-space: 8px; --md-outlined-button-icon-size: 20px; position: absolute; right: 4px; top: 12px; }

.toc .main-content { min-height: 48px; }

.toc:not(.edit) .main-content { padding: 4px 8px; }

.section-header { --colab-run-button-size: 24px; -webkit-box-align: center; align-items: center; border-radius: 8px; cursor: pointer; display: flex; height: 32px; margin: 4px; padding: 0px 8px; }

.section-header:has(.section-header-container:hover) { background: var(--colab-highlighted-surface-color); }

.section-header-container { --md-icon-size: 15px; -webkit-box-align: center; align-items: center; color: var(--colab-secondary-text-color); display: flex; -webkit-box-flex: 1; flex-grow: 1; font-weight: 500; column-gap: 4px; height: 100%; }

.section-header-container span { margin-top: 2px; }

.notebook-busy .section-header { cursor: progress; }

.text colab-run-button { display: none; margin: -2px -4px 0px -10px; }

.text.executable colab-run-button { display: block; }

.toc * blockquote { margin: 0px 20px; }

.toc * p { margin: 0px; }

.cell.selected * .cell-mask { background: rgba(0, 156, 255, 0.35); border-radius: 8px; height: 100%; position: absolute; width: 100%; z-index: 10; }

.panel-sizing .cell-mask { height: 100%; position: absolute; width: 100%; z-index: 10; }

.cell.toc * .cell-mask { left: 0px; top: 0px; }

.cell-gutter { border-radius: 8px 0px 0px 8px; -webkit-box-orient: vertical; -webkit-box-direction: normal; flex-flow: column; min-height: 39px; width: var(--colab-cell-gutter-width); }

.cell-execution-container { bottom: 0px; left: 0px; position: absolute; top: 0px; width: var(--colab-cell-gutter-width); }

html[theme="dark"] body.embedded colab-cell-toolbar { background: var(--colab-secondary-surface-color); }

.cell-toolbar.sticky { position: sticky; top: 20px; z-index: 11; }

colab-tab-pane .scratchpad .cell { margin-left: 36px; }

colab-tab-pane .scratchpad .cell:has(.monaco-editor.focused) .codecell-input-output { outline: 2px solid var(--colab-focus-ring-color); }

.panel-ui-refresh colab-tab-pane .scratchpad .cell { margin-left: 40px; }

colab-cell-pair-slide .add-cell, colab-cell-slide .add-cell, colab-tab-pane .cell-tab .add-cell, colab-tab-pane .scratchpad .add-cell, colab-tab-pane .scratchpad .cell-toolbar, mwc-dialog .cell-tab .add-cell { display: none; visibility: hidden; }

.panel-ui-refresh .cell-tab colab-shaded-scroller { padding: 8px; }

.panel-ui-refresh .scratchpad colab-shaded-scroller { padding: 4px 4px 4px 0px; }

.markdown-toolbar { display: none; }

.text.edit .markdown-toolbar { --md-focus-ring-outward-offset: -2px; --md-icon-button-icon-size: 20px; --md-icon-button-state-layer-height: 32px; --md-icon-button-state-layer-width: 32px; --md-icon-size: 20px; -webkit-box-align: center; align-items: center; background-color: var(--colab-surface-container-low-color); border-top-left-radius: 8px; border-top-right-radius: 8px; display: flex; height: 40px; overflow: hidden; padding-left: 4px; white-space: nowrap; }

.text.edit:has(.imported-from-banner) .markdown-toolbar { border-top-left-radius: 0px; border-top-right-radius: 0px; }

.markdown-toolbar .markdown-toolbar-close-editor { margin-left: 12px; }

.markdown-toolbar .markdown-toolbar-latex span { line-height: 0.8em; }

.markdown-toolbar .markdown-toolbar-insert-image { cursor: pointer; display: inline-block; position: relative; }

.markdown-toolbar .markdown-toolbar-insert-image > * { pointer-events: none; }

.markdown-toolbar .markdown-toolbar-insert-image md-ripple { border-radius: var(--md-icon-button-state-layer-shape); --md-ripple-hover-color: var(--colab-icon-color); --md-ripple-pressed-color: var(--colab-icon-color); --md-ripple-hover-opacity: var(--md-icon-button-hover-state-layer-opacity); --md-ripple-pressed-opacity: var(
    --md-icon-button-pressed-state-layer-opacity
  ); }

.markdown-toolbar .markdown-toolbar-insert-image span { -webkit-box-align: center; align-items: center; display: inline-flex; height: var(--md-icon-button-state-layer-height); -webkit-box-pack: center; justify-content: center; pointer-events: auto; position: relative; width: var(--md-icon-button-state-layer-width); }

.markdown-toolbar .markdown-toolbar-insert-image span:focus { outline: none; }

.markdown-toolbar .markdown-image-input { display: none; }

@media (forced-colors: active) {
  body:not(.mobile) .markdown-toolbar .markdown-toolbar-insert-image:focus-within, body:not(.mobile) .markdown-toolbar .markdown-toolbar-insert-image:hover { --colab-icon-color: Highlight; }
  .markdown-toolbar .markdown-toolbar-preview { --colab-icon-color: ButtonText; --colab-primary-text-color: ButtonText; }
  .markdown-toolbar .markdown-toolbar-preview:focus-within, .markdown-toolbar .markdown-toolbar-preview:hover { --colab-icon-color: Highlight; --colab-primary-text-color: Highlight; }
}

.markdown-toolbar-blockquote md-icon { font-variation-settings: "FILL" 1; }

.text-cell-section-header { position: relative; }

md-icon-button.header-section-toggle { --md-focus-ring-outward-offset: -2px; --md-icon-button-icon-size: 20px; --md-icon-button-state-layer-height: 28px; --md-icon-button-state-layer-width: 28px; --md-sys-color-on-surface-variant: var(--colab-primary-text-color); left: -44px; min-height: 28px; min-width: 28px; position: absolute; transition: transform 0.2s, -webkit-transform 0.2s; }

.text.edit .header-section-toggle { display: none; }

.text.collapsed .header-section-toggle, colab-form-title.collapsed .header-section-toggle { transform: rotate(-90deg); }

.debugger-editor .monaco-editor .view-overlays .current-line, .editor .monaco-editor .view-overlays .current-line { background: none; border: 0px; }

.monaco-editor .overflowingContentWidgets .parameter-hints-widget > .wrapper { max-height: 250px; }

.monaco-editor-hover .hover-row.status-bar { display: none; }

.monaco-editor .overflowingContentWidgets .monaco-editor-hover .monaco-editor-hover-content, .monaco-editor .overflowingContentWidgets .parameter-hints-widget > .wrapper { max-width: 800px !important; }

.monaco-editor .monaco-editor-hover-content p { margin: 8px 0px; }

.monaco-editor .overflowingContentWidgets .suggest-widget, .monaco-editor .overflowingContentWidgets .suggest-widget.docs-side { width: 800px; }

.notebook-vertical.large-notebook .decorationsOverviewRuler { display: none; }

.debugger-editor .monaco-editor .margin-view-overlays .line-numbers.lh-odd, .editor .monaco-editor .margin-view-overlays .line-numbers.lh-odd { margin-top: 0px; }

.debugger-editor .monaco-editor .current-line ~ .line-numbers, .debugger-editor .monaco-editor .line-numbers, .editor .monaco-editor .current-line ~ .line-numbers, .editor .monaco-editor .line-numbers { color: var(--colab-tertiary-text-color); }

.editor .monaco-editor .quick-input-widget .monaco-list { max-height: none; min-height: 108px; }

.editor .monaco-editor .markdown-docs, .editor .monaco-editor .markdown-hover { white-space: pre !important; }

.editor .monaco-editor .codelens-decoration > a, .editor .monaco-editor .codelens-decoration > span { color: var(--colab-tertiary-text-color); }

.cell.focused .monaco-editor .current-line ~ .line-numbers { color: var(--colab-primary-text-color); }

#context-menu .goog-menuitem { padding-left: 18px; padding-right: 9em; }

#context-menu .goog-menuitem-accel { padding-right: 18px; }

body.mobile .inputarea { flex-wrap: wrap; }

body.mobile .outputview { overflow: auto; }

body.mobile .add-cell { max-width: 100px; overflow-x: hidden; visibility: hidden; }

.monaco-emacs-statusbar, .monaco-vim-statusbar { border-bottom-left-radius: 8px; border-bottom-right-radius: 8px; bottom: 0px; box-sizing: border-box; font-family: var(--colab-code-font-family); padding: 1px 4px 4px 8px; position: sticky; width: 100%; }

.monaco-vim-statusbar { background-color: var(--colab-editor-background); }

.monaco-vim-statusbar span { color: var(--colab-primary-text-color) !important; }

.cell.text:not(.edit) .monaco-emacs-statusbar, .cell:not(.focused) .monaco-emacs-statusbar, .cell:not(.focused) .monaco-vim-statusbar, .monaco-emacs-statusbar:empty { display: none !important; }

.mirror-toolbar { border-bottom: 1px solid var(--colab-border-color); gap: 6px; height: 40px; padding-left: 8px; --colab-cell-gutter-width: 32px; }

.mirror-toolbar md-icon-button { margin: 4px 0px; --md-focus-ring-outward-offset: -2px; --md-icon-button-icon-size: 20px; --md-icon-button-state-layer-height: 32px; --md-icon-button-state-layer-width: 32px; }

.panel-ui-refresh .mirror-toolbar { background-color: var(--colab-surface-container-color); border-bottom: none; border-radius: 100px; gap: 4px; margin: 0px 8px 4px; padding: 0px 4px; }

.mirror-cell-shadow { left: 0px; min-height: 8px; pointer-events: none; position: absolute; right: 0px; top: 41px; }

colab-tab-pane .cell-tab { position: relative; }

colab-static-output-renderer { display: block; font-size: var(--colab-chrome-font-size); max-height: 1000px; overflow: auto; padding: 7px 0px 10px 5px; }

.output:has(.output-toggle-enabled) colab-static-output-renderer { padding-bottom: 7px; }

.cell.running colab-static-output-renderer, colab-static-output-renderer { contain: layout; }

colab-static-output-renderer .stdin-widget { -webkit-box-align: center; align-items: center; display: inline; font-family: var(--colab-code-font-family); margin-right: 10px; margin-top: 10px; min-width: 250px; padding: 1px; }

colab-static-output-renderer .stdin-widget-hidden { visibility: hidden; }

colab-static-output-renderer pre { display: inline; white-space: pre; }

colab-static-output-renderer .output_text { display: inline; }

colab-static-output-renderer .execute_result.output_text pre { display: block; white-space: pre-wrap; }

colab-static-output-renderer input { background: var(--colab-primary-surface-color); border: 1px solid var(--colab-bold-border-color); color: var(--colab-primary-text-color); }

colab-static-output-renderer:focus { outline: none; }

.input-container { display: inline; position: relative; }

.input-container input.stdin-widget { margin-top: 0px; }

colab-static-output-renderer .stdin-widget:not(:focus) { border: none; outline: none; }

.input-container::after { animation: 1.2s step-end 0s infinite normal none running stdin-widget-blink; content: " "; height: 100%; left: 0px; pointer-events: none; position: absolute; top: 0px; width: 10px; }

.input-container.input-focused::after { display: none; }

@-webkit-keyframes stdin-widget-blink { 
  0% { background: transparent; }
  50% { background: var(--colab-secondary-text-color); }
  100% { background: transparent; }
}

@keyframes stdin-widget-blink { 
  0% { background: transparent; }
  50% { background: var(--colab-secondary-text-color); }
  100% { background: transparent; }
}

.monaco-currently-executing-line { border-color: transparent transparent transparent var(--colab-status-okay); border-style: solid; border-width: 6px 0px 6px 4px; margin-left: 1px; top: 3px; height: 0px !important; width: 0px !important; }

.smartpaste-insert-text { font-style: italic; background-color: var(--colab-smartpaste-highlight-color); color: var(--colab-tertiary-text-color) !important; }

.smartpaste-delete-text { font-style: italic; text-decoration: line-through; background-color: var(--colab-smartpaste-highlight-color); }

.code .lazy-editor { align-self: start; display: flex; margin: 10px 8px 0px 0px; flex-wrap: wrap; }

.code .lazy-editor { -webkit-box-orient: vertical; -webkit-box-direction: normal; flex-flow: column; }

.lazy-virtualized { display: flex; font-size: 14px; line-height: 19px; max-width: 100%; overflow-x: scroll; }

.lazy-virtualized-mobile { text-size-adjust: none; }

.lazy-virtualized-unstyled-scrollbars { overflow-x: hidden; padding-bottom: 10px; }

.lazy-virtualized .monaco-colorized { margin-left: 6px; white-space: pre; }

.lazy-virtualized::-webkit-scrollbar { height: 10px; width: 10px; }

.lazy-virtualized::-webkit-scrollbar-thumb { background-clip: border-box; background-color: var(--colab-scrollbar-color); min-height: 28px; padding: 0px; }

.code .lazy-editor .monaco { margin: 0px; max-width: 100%; }

.monaco-editor .inline-variable-value { background: var(--colab-highlighted-surface-color); border-radius: 2px; color: var(--colab-tertiary-text-color); font-style: italic; }

.monaco-editor .focused .wordHighlightText { opacity: 0.7; }

.monaco-editor .wordHighlightText { opacity: 0.3; }

.lazy-editor .lazy-gutter { color: var(--colab-tertiary-text-color); white-space: pre; }

.collaborator-selection-start { position: absolute; border-left: var(--selection-color) solid 2px; border-top: var(--selection-color) solid 2px; border-bottom: var(--selection-color) solid 2px; height: 100%; box-sizing: border-box; }

.collaborator-selection-start::after { position: absolute; border: 3px solid var(--selection-color); border-radius: 4px; left: -4px; top: -5px; }

.collaborator-selection { background-color: var(--selection-color); opacity: 0.5; }

.outputview { transition: height 0.2s; }

.agent-focus-label { --md-icon-size: 16px; -webkit-box-align: center; align-items: center; background: var(--colab-primary-color); border-top-left-radius: 4px; border-top-right-radius: 4px; color: var(--colab-on-primary-color); gap: 4px; padding: 4px 8px 2px 6px; width: fit-content; display: none; }

.agent-focus-label { margin-left: -2px; }

.agent-focused .agent-focus-label { display: inline-flex; }

.agent-focused.cell .cell-gutter, .agent-focused.cell .main-content, .agent-focused.cell .markdown-toolbar { border-top-left-radius: 0px; }

.newly-added.code .main-content, .newly-added.text .editor-container { --colab-primary-surface-color: var(--colab-composer-diff-background); --colab-secondary-surface-color: var(--colab-composer-diff-background); }

.newly-added .main-content { --colab-editor-background: var(--colab-composer-diff-background); }

.newly-added .main-content .monaco-editor { --vscode-editor-background: var(--colab-composer-diff-background); }

.newly-added .main-content .monaco-editor .margin { background-color: var(--colab-composer-diff-background); }

.newly-added .main-content .cell-gutter, .newly-added .main-content .editor-container, .newly-added .main-content .formview { background-color: var(--colab-composer-diff-background); }

.inputarea-toolbar { border: 1px solid var(--colab-border-color); }

.output:has(.output-toggle-enabled) .output-show-output { --md-text-button-container-height: 28px; --md-text-button-leading-space: 12px; --md-text-button-trailing-space: 12px; --md-text-button-with-leading-icon-trailing-space: 12px; --md-text-button-with-trailing-icon-leading-space: 12px; --md-text-button-with-leading-icon-leading-space: 8px; --md-text-button-with-trailing-icon-trailing-space: 8px; --md-text-button-icon-size: 20px; --md-focus-ring-outward-offset: -2px; }

label:has(md-checkbox) { display: inline-flex; place-items: center; }

label md-checkbox { flex-shrink: 0; }

label md-checkbox::part(focus-ring) { height: 30px; width: 30px; }

.collaborator1 { --selection-color: #fd00ff; }

.collaborator2 { --selection-color: #4461f5; }

.collaborator3 { --selection-color: #66f96b; }

.collaborator4 { --selection-color: #ffe942; }

.collaborator5 { --selection-color: #ff6642; }

.collaborator6 { --selection-color: #42caff; }

.comment-input-text { box-sizing: border-box; font-family: sans-serif; font-size: var(--colab-chrome-font-size); line-height: 1.4; min-height: 36px; outline: 0px; overflow: hidden; padding: 7px 8px; resize: none; width: 100%; }

.bottom-buttons, .comment-input-text { border-radius: 4px; }

.comment .comment-action-button, .comment .comment-action-dropdown, .comment .comment-date, .comment .comment-toggle-button { visibility: hidden; }

.comment.in-drive .comment-action-button, .comment.in-drive .comment-action-dropdown, .comment.in-drive .comment-date, .comment.in-drive .comment-toggle-button { visibility: visible; }

.comment-input { display: none; }

.editing > .comment-input { display: block; }

.comment-author { font-family: var(--colab-google-sans-font-family); margin-left: 45px; font-weight: 500; font-size: var(--colab-chrome-font-size); }

.comment .comment-author { margin-top: 11px; }

.comment.in-drive .comment-author { margin-top: 0px; }

.comment-image { border-radius: 50%; float: left; height: 32px; overflow: hidden; width: 32px; --md-icon-size: 32px; }

.comment-date { margin-left: 45px; font-size: 8pt; color: var(--colab-secondary-text-color); }

.comment-text { overflow-wrap: break-word; }

.comment-text.comment-collapsed-text { height: 71px; overflow-y: hidden; }

.editing > .comment-content .comment-text { display: none; }

.comment-content { margin: 12px 5px 12px 12px; }

.comment .comment-header { display: flex; margin-bottom: 4px; padding: 0px; position: relative; }

.comment.in-drive .comment-header { padding: 4px; }

.comment-input { padding: 0px 12px 1px; }

.comment .comment-text-container { padding: 0px; }

.comment.in-drive .comment-text-container { padding: 0px 4px 12px; }

.comment-collapse-control { color: var(--colab-anchor-color); cursor: pointer; font-size: 8pt; padding: 4px 0px 2px; width: 100%; }

.comment-collapse-control:hover { text-decoration: underline; }

.reply-chain > .comment-input { padding-top: 4px; }

.show-more-replies { cursor: pointer; display: block; margin: 12px; padding: 4px 4px 12px; }

.submit-button { margin-right: 4px; --md-filled-button-container-height: 26px; }

.cancel-button { --md-text-button-container-height: 26px; }

.cancel-button, .submit-button { --md-focus-ring-outward-offset: -4px; }

.comment-action-button { font-size: 13px; height: 20px; margin: 0px; min-width: 0px; opacity: 1; }

.comment-resolve-button { --md-icon-button-hover-state-layer-color: var(--colab-icon-color); --md-icon-button-pressed-state-layer-color: var(--colab-icon-color); --md-sys-color-on-surface-variant: var(--colab-primary-color); }

.comment-action-dropdown { background: transparent; height: 20px; margin: 0px; min-width: 0px; opacity: 0.8; text-transform: none; }

.comment-action-dropdown { padding: 0px; width: 20px; }

.comment-header > .comment-buttons { display: flex; position: absolute; right: 4px; top: 4px; }

.comment-buttons { -webkit-box-flex: 0; flex: 0 0 auto; }

.doc-comments-area > .comment > .reply-chain > .comment-input, .focused.in-drive > .reply-chain > .comment-input, .reply-chain > .comment-input.text-not-empty { display: block; }

.bottom-buttons { display: flex; padding-top: 8px; padding-bottom: 6px; height: 32px; font-family: var(--colab-google-sans-font-family); font-size: 14px; font-weight: 500; }

.bottom-buttons, .comment-author { letter-spacing: 0.25px; line-height: 12px; }

.sidebar { -webkit-box-flex: 0; flex: 0 0 260px; min-height: 100px; padding-left: 10px; padding-right: 20px; margin-right: 30px; }

.hide-comments .sidebar { display: none; }

.sidebar .comment { background: var(--colab-primary-surface-color); font-family: sans-serif; font-size: var(--colab-chrome-font-size); font-weight: 400; line-height: normal; margin-bottom: 5px; position: absolute; transition: 0.5s ease-in-out; width: 300px; }

.sidebar .comment.focused { box-shadow: rgba(0, 0, 0, 0.1) 0px 0px 4px; transform: translate(-10px); z-index: 50; }

.doc-comments-area { background: var(--colab-primary-surface-color); border: solid 1px var(--colab-border-color); box-shadow: rgba(0, 0, 0, 0.2) 0px 2px 4px; color: inherit; inset-inline-start: unset; max-height: 550px; outline: none; overflow-y: auto; padding: 0px; position: absolute; right: 20px; top: 57px; width: 434px; z-index: 987; }

.doc-comments-area.has-comments { padding-bottom: 18px; }

.doc-comments-area > .comment { margin: 8px 18px 18px; padding: 4px; position: relative; transition: 0.5s ease-in-out; }

.doc-comments-area * .reply-chain { margin-left: 16px; }

.doc-comments-buttons { background: var(--colab-secondary-surface-color); padding: 6px; text-align: right; }

.comment-fragment { display: block; position: relative; }

.comment-fragment.focused { box-shadow: rgba(0, 0, 0, 0.14) 0px 3px 4px 0px, rgba(0, 0, 0, 0.12) 0px 1px 8px 0px, rgba(0, 0, 0, 0.4) 0px 3px 3px -2px; }

.sidebar > .comment-fragment { border: 1px solid var(--colab-border-color); border-radius: 8px; }

.comment-author-info-container { -webkit-box-flex: 1; flex: 1 1 0%; }

.at-mention-message { color: var(--colab-tertiary-text-color); margin: 4px; font-size: 12px; font-weight: 400; letter-spacing: 0.3px; line-height: 16px; }

.comment-content a { text-decoration: none; }

.comment-content a:hover { text-decoration: underline; }

.peoplekitThemeDark .peoplekitComponentsAutocompletePopupContainer { box-shadow: rgba(0, 0, 0, 0.14) 0px 3px 4px 0px, rgba(0, 0, 0, 0.12) 0px 1px 8px 0px, rgba(0, 0, 0, 0.4) 0px 3px 3px -2px; --gm3-sys-color-background: var(--colab-primary-surface-color); }

.peoplekitComponentsAutocompletePopupContainer { max-width: 276px; }

.colab-comment-highlight-span { background-color: var(--colab-comment-highlight-color); }

.doc-comments-area .comment-toggle-button { display: none; }

.comment-toggle-button { background: transparent; border: none; border-radius: 8px; --md-focus-ring-shape: 8px; inset: 0px; position: absolute; pointer-events: none; outline: none; }

@-webkit-keyframes corgis { 
  0% { background-position: 120% center, -20% center, -20% center, 120% center; }
  25% { background-position: -20% center, -20% center, -20% center, 120% center; }
  30% { background-position: -20% center, -20% center, -20% center, 120% center; }
  55% { background-position: -20% center, 120% center, -20% center, 120% center; }
  65% { background-position: -20% center, 120% center, -20% center, 120% center; }
  95% { background-position: -20% center, 120% center, 120% center, -20% center; }
  100% { background-position: -20% center, 120% center, 120% center, -20% center; }
}

@keyframes corgis { 
  0% { background-position: 120% center, -20% center, -20% center, 120% center; }
  25% { background-position: -20% center, -20% center, -20% center, 120% center; }
  30% { background-position: -20% center, -20% center, -20% center, 120% center; }
  55% { background-position: -20% center, 120% center, -20% center, 120% center; }
  65% { background-position: -20% center, 120% center, -20% center, 120% center; }
  95% { background-position: -20% center, 120% center, 120% center, -20% center; }
  100% { background-position: -20% center, 120% center, 120% center, -20% center; }
}

.basic-corgi-mode, .december-holiday-corgi-mode, .halloween-corgi-mode, .pride-corgi-mode { background-repeat: no-repeat; background-size: contain; animation: 95s linear 0s infinite normal none running corgis; }

.basic-corgi-mode { background-image: url("../../v2/common/img/chocolatechip.gif"), url("../../v2/common/img/oreo.gif"), url("../../v2/common/img/oreo.gif"), url("../../v2/common/img/redvelvet.gif"); }

.halloween-corgi-mode { background-image: url("../../v2/common/img/halloween_chocolatechip.gif"), url("../../v2/common/img/halloween_oreo.gif"), url("../../v2/common/img/halloween_oreo.gif"), url("../../v2/common/img/halloween_redvelvet.gif"); }

.december-holiday-corgi-mode { background-image: url("../../v2/common/img/holiday_chocolatechip.gif"), url("../../v2/common/img/holiday_oreo.gif"), url("../../v2/common/img/holiday_oreo.gif"), url("../../v2/common/img/holiday_redvelvet.gif"); }

.pride-corgi-mode { background-image: url("../../v2/common/img/pride_chocolatechip.gif"), url("../../v2/common/img/oreo.gif"), url("../../v2/common/img/oreo.gif"), url("../../v2/common/img/redvelvet.gif"); }

@-webkit-keyframes crabs { 
  0% { background-position: -10% center; }
  5% { background-position: -10% center; }
  45% { background-position: 110% center; }
  50% { background-position: 110% center; }
  95% { background-position: -10% center; }
  100% { background-position: -10% center; }
}

@keyframes crabs { 
  0% { background-position: -10% center; }
  5% { background-position: -10% center; }
  45% { background-position: 110% center; }
  50% { background-position: 110% center; }
  95% { background-position: -10% center; }
  100% { background-position: -10% center; }
}

.crab-mode { animation: 60s linear 0s infinite normal none running crabs; background-repeat: no-repeat; background-size: contain; height: 100%; position: relative; width: 100%; }

.basic-crab { background-image: url("../../v2/common/img/crab.gif"); }

.christmas-crab { background-image: url("../../v2/common/img/christmas_crab.gif"); }

mwc-dialog.wide { --mdc-dialog-min-width: min(632px,99vw); }

mwc-dialog.very-wide { --mdc-dialog-min-width: min(750px,99vw); }

mwc-dialog.very-wide.colab-open-dialog { --mdc-dialog-min-width: min(900px,99vw); }

mwc-dialog md-text-button.deemphasize, mwc-dialog md-text-button[dialogaction="cancel"], mwc-dialog md-text-button[dialogaction="close"] { --md-sys-color-primary: var(--colab-primary-text-color); }

mwc-dialog .buttons md-text-button, mwc-dialog md-text-button[slot="primaryAction"], mwc-dialog md-text-button[slot="secondaryAction"] { --md-focus-ring-outward-offset: -2px; }

.modal-dialog-bg { z-index: var(--colab-dialog-bg-z-index); }

.modal-dialog { background: rgb(255, 255, 255); border-color: rgb(218, 218, 218); box-shadow: rgba(0, 0, 0, 0.14) 0px 2px 2px 0px, rgba(0, 0, 0, 0.12) 0px 1px 5px 0px, rgba(0, 0, 0, 0.2) 0px 3px 1px -2px; color: rgb(31, 31, 31); outline: none; padding: 4px 8px; z-index: var(--colab-dialog-z-index); }

.modal-dialog-title { background: rgb(255, 255, 255); }

.modal-dialog.share-client-error-dialog { background-color: rgb(255, 255, 255); border-radius: 3px; font-family: arial, sans-serif; padding: 8px; position: absolute; }

.modal-dialog-buttons { padding: 8px; text-align: center; }

mwc-dialog mwc-button.deemphasize, mwc-dialog mwc-button[dialogaction="cancel"], mwc-dialog mwc-button[dialogaction="close"] { --mdc-theme-primary: var(--colab-primary-text-color); }

#manage-views-dialog md-outlined-select { margin: 16px; }

#manage-views-dialog .buttons { margin-top: 30px; }

#error-dialog pre { background: var(--colab-editor-background); border: 1px solid var(--colab-border-color); border-radius: 8px; font-family: var(--colab-code-font-family); font-size: var(--colab-code-font-size); line-height: 21px; margin: 24px 0px 8px; max-height: 54px; overflow: auto; padding: 16px; }

.copy-error-button { --md-text-button-container-height: 28px; --md-text-button-leading-space: 12px; --md-text-button-trailing-space: 12px; --md-text-button-with-leading-icon-trailing-space: 12px; --md-text-button-with-trailing-icon-leading-space: 12px; --md-text-button-with-leading-icon-leading-space: 8px; --md-text-button-with-trailing-icon-trailing-space: 8px; --md-text-button-icon-size: 20px; }

#error-dialog .err-dialog-missing-field { background: var(--colab-editor-background); border: 1px solid var(--colab-border-color); border-radius: 8px; font-family: var(--colab-code-font-family); overflow-x: auto; padding: 1px 4px; }

mwc-dialog a md-icon { --md-icon-size: 16px; vertical-align: text-bottom; }

.shortcut-dialog { --mdc-dialog-max-width: min(800px,99vw); --mdc-dialog-min-width: min(800px,99vw); }

.shortcut-dialog-content h3 { margin-bottom: 6px; margin-top: 6px; }

.shortcut-grid { display: flex; -webkit-box-orient: horizontal; -webkit-box-direction: normal; flex-flow: wrap; width: 100%; }

.shortcut-column { -webkit-box-flex: 1; flex: 1 0 0px; }

.shortcut-preference { display: flex; margin: 8px 0px; min-width: 350px; }

.shortcut-preference md-icon-button { margin-left: 10px; --md-icon-button-state-layer-height: 24px; --md-icon-button-state-layer-width: 24px; }

.shortcut-preference-keys { display: inline-block; margin-right: 8px; min-width: 120px; text-align: center; vertical-align: top; }

.shortcut-preference-keys input { text-align: center; width: 116px; }

.shortcut-preference-description { display: inline-block; max-width: 215px; }

#shortcuts-reset { --md-focus-ring-outward-offset: -2px; }

mwc-dialog.colab-service-dialog { --colab-logo-dark: var(--paper-grey-700); --colab-logo-light: var(--paper-grey-700); }

.colab-service-dialog .preformatted { font-family: monospace; white-space: pre-wrap; }

.colab-service-dialog:has(.preformatted) { --mdc-dialog-min-width: 50vw; }

mwc-dialog .buttons { display: flex; -webkit-box-orient: horizontal; -webkit-box-direction: normal; flex-direction: row; -webkit-box-pack: end; justify-content: flex-end; }

.code-cell-preview { white-space: pre; max-height: 500px; display: block; overflow: auto; }

#preferences-dialog md-filled-select, #preferences-dialog md-filled-text-field { margin-top: 10px; margin-bottom: 10px; }

#preferences-dialog .noFun { color: var(--colab-error-color); }

#preferences-dialog md-filled-select, #preferences-dialog md-filled-text-field { min-width: 350px; }

colab-side-tab-dialog-page-viewer .right-content { box-sizing: border-box; width: 100%; }

colab-side-tab-dialog-page-viewer .upload-container { position: relative; }

.colab-side-tab-dialog { --mdc-dialog-min-width: 700px; }

colab-side-tab-dialog-page-viewer .spinner { -webkit-box-align: center; align-items: center; display: flex; -webkit-box-pack: center; justify-content: center; min-height: 100px; }

@media only screen and (max-width: 800px) {
  .colab-side-tab-dialog { --mdc-dialog-min-width: 75vw; }
}

mwc-dialog.colab-side-tab-dialog { --mdc-typography-headline6-font-family: var(
    --colab-google-sans-font-family
  ); }

colab-side-tab-dialog-page-viewer { display: block; height: 100%; }

colab-side-tab-dialog-page-viewer mwc-checkbox { display: flex; }

colab-side-tab-dialog-page-viewer md-list-item { --md-list-item-label-text-font: var(--colab-google-sans-font-family); --md-list-item-leading-space: 24px; --md-list-item-trailing-space: 8px; --md-list-item-disabled-opacity: 0.6; }

colab-side-tab-dialog-page-viewer[smallviewport] md-list-item:hover { background-color: var(--colab-highlighted-surface-color); }

colab-side-tab-dialog-page-viewer md-list-item[tabindex="0"] span { font-weight: 800; }

colab-side-tab-dialog-page-viewer md-list-item > md-icon { color: var(--colab-icon-color); --md-icon-size: 30px; }

@media (forced-colors: active), (prefers-contrast: more) {
  colab-side-tab-dialog-page-viewer md-list-item:active, colab-side-tab-dialog-page-viewer md-list-item:focus, colab-side-tab-dialog-page-viewer md-list-item:hover { outline: highlight solid 3px; outline-offset: -2px; }
}

colab-draggable { display: block; padding: 4px; position: relative; }

colab-drag-drop-target { display: block; margin: 0px 10px; min-height: 20px; min-width: 20px; }

colab-drag-drop-target.drop-target-selected { background-color: rgb(204, 204, 204); min-height: 40px; min-width: 40px; }

.formview-namelabel { font-family: var(--colab-code-font-family); font-size: 11pt; font-weight: 700; margin-right: 8px; }

.inputarea.form .formview-edit-button, body.mobile .formview-edit-button { display: none; }

.inputarea.form colab-form.formview, body.mobile colab-form.formview { padding-right: 12px; }

.inputarea .show-code-button { display: none; }

.inputarea.form .show-code-button { display: inline-block; }

.formview-edit-button { opacity: 0; transition: opacity 0.3s linear; }

.focused .formview-edit-button { opacity: 0.25; }

.focused .formview-edit-button:hover { opacity: 1; }

.formview-dropdown, .formview-input, .formview-slider { margin: 0px 0px 4px 16px; min-height: 42px; }

body.mobile .formview-dropdown, body.mobile .formview-input, body.mobile .formview-slider { margin: 4px 0px 16px 16px; }

body:not(.mobile) .formview-content, body:not(.mobile) .formview-namelabel, body:not(.mobile) .formview-valuelabel { display: inline-block; }

.formview-stringquotes { color: rgb(187, 187, 187); font-size: 150%; padding: 0px 4px; user-select: none; }

.formview md-checkbox { margin: 0px 8px; }

.formview md-outlined-select, .formview md-outlined-text-field { --md-outlined-field-top-space: 6px; --md-outlined-field-bottom-space: 6px; --md-outlined-field-leading-space: 10px; --md-outlined-field-content-space: 4px; --md-outlined-field-with-trailing-content-trailing-space: 4px; }

.input-error-area { font-size: 85%; max-width: 30%; }

.formview input[type="date"] { border-color: var(--colab-bold-border-color); border-radius: 4px; font-size: var(--colab-chrome-font-size); padding: 6px 8px; }

html[theme="dark"] .formview input[type="date"] { color-scheme: dark; }

.formview input[type="date"][disabled] { border-color: var(--md-outlined-text-field-disabled-outline-color); color: var(--md-outlined-text-field-disabled-input-text-color); opacity: var(--md-outlined-text-field-disabled-input-text-opacity); }

.formview input[type="date"].error { border-color: var(--colab-error-color); }

colab-form-title.formview-title { line-height: 1.4; margin: 0px 16px 0px 8px; position: relative; }

colab-form-markdown hr, colab-form-title hr { margin-top: 20px; }

.formview { background: var(--colab-primary-surface-color); overflow: auto hidden; padding: 6px 4px 8px 12px; --colab-input-dropdown-height: 30px; }

body:not(.mobile) .both .formview { border-left: 1px solid var(--colab-border-color); box-sizing: border-box; -webkit-box-flex: 0; flex-grow: 0; flex-shrink: 0; max-width: 50%; min-width: 50%; }

@media (orientation: portrait) {
  body.mobile .both .editor { min-width: 200px; -webkit-box-ordinal-group: 2; order: 1; padding-left: 40px; }
  body.mobile .both .lazy-editor > .editor { padding-left: 0px; }
  body.mobile .both .formview { min-width: 150px; padding-left: 4px; }
  body.mobile .both .formview { min-width: 200px; }
}

.formview .output-info:not(:has(.output-toggle-enabled)) { text-align: left; width: 32px; }

.editor-form-error { color: var(--colab-error-color); margin: 0px 14px 8px; }

.inputarea.code > .formview { display: none; }

.colab-lasso-active { user-select: none; }

.colab-lasso { position: absolute; top: 0px; left: 0px; }

.lasso-handle { position: absolute; top: 0px; left: 0px; }

.lasso-selection { position: absolute; top: 0px; left: 0px; background: rgba(0, 90, 255, 0.3); }

.edit-form-widget-dialog .dropdown-attributes colab-toolbar-button { display: flex; }

.edit-form-widget-dialog colab-shaded-scroller.dropdown-options-container { display: block; max-height: 220px; overflow: auto; padding: 0px 8px; }

.form-widget-attributes-container { display: inline-block; min-height: 250px; min-width: 330px; padding: 0px 10px; vertical-align: top; }

.form-widget-attributes-container mwc-select, .form-widget-attributes-container mwc-textarea, .form-widget-attributes-container mwc-textfield { margin-top: 16px; --mdc-typography-subtitle1-font-size: 16px; }

mwc-textfield.dropdown-option-input { margin-top: 2px; }

.edit-form-title-dialog .column { display: inline-block; padding: 0px 20px 0px 0px; vertical-align: top; }

.edit-form-title-dialog .form-width-container { -webkit-box-align: end; align-items: flex-end; display: flex; max-width: 225px; }

.edit-form-title-dialog .form-width-input { display: inline-block; max-width: calc(100% - 40px); }

.edit-form-title-dialog select { appearance: none; background-image: url("data:image/svg+xml;charset=US-ASCII,%3Csvg%20xmlns%3D%22http%3A%2F%2Fwww.w3.org%2F2000%2Fsvg%22%20width%3D%22292.4%22%20height%3D%22292.4%22%3E%3Cpath%20fill%3D%22rgb%28155%2C155%2C155%29%22%20d%3D%22M287%2069.4a17.6%2017.6%200%200%200-13-5.4H18.4c-5%200-9.3%201.8-12.9%205.4A17.6%2017.6%200%200%200%200%2082.2c0%205%201.8%209.3%205.4%2012.9l128%20127.9c3.6%203.6%207.8%205.4%2012.8%205.4s9.2-1.8%2012.8-5.4L287%2095c3.5-3.5%205.4-7.8%205.4-12.8%200-5-1.9-9.2-5.5-12.8z%22/%3E%3C/svg%3E"); background-repeat: no-repeat, repeat; background-position: right 0.7em top 50%, 0px 0px; background-size: 0.55em, 100%; background-color: var(--colab-primary-surface-color); border: 1px solid transparent; color: var(--colab-primary-text-color); font-size: 16px; margin: 8px 0px; padding: 0.6em 1.4em 0.5em 0.8em; }

colab-form-slider input[type="text"].range-output { background-color: var(--colab-primary-surface-color); border: none; outline: none; text-align: right; width: 60px; }

colab-form-slider input[type="range"] { appearance: none; background-color: transparent; border: none; cursor: pointer; margin: 15px 0px; outline: none; padding: 0px; position: relative; width: 100%; }

colab-form-slider input[type="range"]::-webkit-slider-runnable-track { background: var(--paper-grey-400); border-bottom: 3px solid var(--colab-primary-surface-color); border-top: 3px solid var(--colab-primary-surface-color); height: 9px; }

colab-form-slider input[type="range"]::-webkit-slider-thumb { transform-origin: 50% 50%; appearance: none; background-color: var(--google-blue-700); border-radius: 50%; border: none; height: 14px; margin: -5px 0px 0px; transition: 0.3s; width: 14px; }

colab-form-slider input[type="range"]:disabled::-webkit-slider-thumb { background-color: var(--paper-grey-400); }

colab-form-slider input[type="range"] { border: 1px solid var(--colab-primary-surface-color); }

colab-form-slider .range-output:disabled, colab-form-slider input[type="range"]:disabled { opacity: 0.5; }

.code.focused.aida-cell-button .formview-edit-button { margin-right: 28px; padding: 0px 2px 4px; width: 28px; height: 28px; }

.code.focused.aida-cell-button .formview-input .formview-edit-button { margin-left: -28px; }

@-webkit-keyframes kitty-mode-left-animation { 
  0% { background-position: 110% center, 110% center; }
  15% { background-position: 110% center, 110% center; }
  35% { background-position: -10% center, 110% center; }
  50% { background-position: -10% center, 110% center; }
  65% { background-position: -10% center, 110% center; }
  85% { background-position: -10% center, 110% center; }
  100% { background-position: -10% center, -10% center; }
}

@keyframes kitty-mode-left-animation { 
  0% { background-position: 110% center, 110% center; }
  15% { background-position: 110% center, 110% center; }
  35% { background-position: -10% center, 110% center; }
  50% { background-position: -10% center, 110% center; }
  65% { background-position: -10% center, 110% center; }
  85% { background-position: -10% center, 110% center; }
  100% { background-position: -10% center, -10% center; }
}

@-webkit-keyframes kitty-mode-right-animation { 
  0% { background-position: 110% center, 110% center; }
  15% { background-position: 110% center, 110% center; }
  35% { background-position: 110% center, 110% center; }
  50% { background-position: 110% center, 110% center; }
  65% { background-position: -10% center, 110% center; }
  85% { background-position: -10% center, 110% center; }
  100% { background-position: -10% center, -10% center; }
}

@keyframes kitty-mode-right-animation { 
  0% { background-position: 110% center, 110% center; }
  15% { background-position: 110% center, 110% center; }
  35% { background-position: 110% center, 110% center; }
  50% { background-position: 110% center, 110% center; }
  65% { background-position: -10% center, 110% center; }
  85% { background-position: -10% center, 110% center; }
  100% { background-position: -10% center, -10% center; }
}

@-webkit-keyframes kitty-mode-animation-slow { 
  0% { background-position: 110% center; }
  100% { background-position: -10% center; }
}

@keyframes kitty-mode-animation-slow { 
  0% { background-position: 110% center; }
  100% { background-position: -10% center; }
}

@-webkit-keyframes kitty-mode-animation-medium { 
  0% { background-position: 110% center; }
  5% { background-position: 110% center; }
  95% { background-position: -10% center; }
  100% { background-position: -10% center; }
}

@keyframes kitty-mode-animation-medium { 
  0% { background-position: 110% center; }
  5% { background-position: 110% center; }
  95% { background-position: -10% center; }
  100% { background-position: -10% center; }
}

@-webkit-keyframes kitty-mode-animation-fast { 
  0% { background-position: 110% center; }
  10% { background-position: 110% center; }
  90% { background-position: -10% center; }
  100% { background-position: -10% center; }
}

@keyframes kitty-mode-animation-fast { 
  0% { background-position: 110% center; }
  10% { background-position: 110% center; }
  90% { background-position: -10% center; }
  100% { background-position: -10% center; }
}

.stripes-kitty { background-image: url("../../v2/common/img/STRIPES.gif"); }

.kinako-kitty { background-image: url("../../v2/common/img/KINAKO.gif"); }

.midnight-kitty { background-image: url("../../v2/common/img/MIDNIGHT.gif"); }

.firefox-kitty { background-image: url("../../v2/common/img/FIREFOX.gif"); }

.maneki-kitty { background-image: url("../../v2/common/img/MANEKI.gif"); }

.valentin-kitty { background-image: url("../../v2/common/img/VALENTIN.gif"); }

.ghostpuffs-kitty { background-image: url("../../v2/common/img/GHOSTPUFFS.gif"); }

.psl-kitty { background-image: url("../../v2/common/img/PUMPKINSPICELATTE.gif"); }

.vampiregoth-kitty { background-image: url("../../v2/common/img/xX_vampiregoth91_Xx.gif"); }

.kace-kitty { background-image: url("../../v2/common/img/KACE.gif"); }

.ferris-kitty { background-image: url("../../v2/common/img/FERRIS.gif"); }

.sprinkles-kitty { background-image: url("../../v2/common/img/SPRINKLES.gif"); }

.kitty-mode-fast { animation: 40s linear 0s 1 normal none running kitty-mode-animation-fast; }

.kitty-mode-medium { animation: 40s linear 0s 1 normal none running kitty-mode-animation-medium; }

.kitty-mode-slow { animation: 40s linear 0s 1 normal none running kitty-mode-animation-slow; }

.kitty-left { transform: scaleX(-1); }

.kitty-canvas { background-repeat: no-repeat; background-size: 73px 60px; height: 100%; left: 0px; pointer-events: none; position: absolute; top: 0px; width: 100%; }

.power-overlay { height: 100%; left: 0px; pointer-events: none; position: absolute; top: 0px; width: 100%; z-index: 1; }

.power-label { background: linear-gradient(red, red) no-repeat text, darkred; bottom: 30px; color: transparent; display: block; font-family: impact; font-size: 24pt; pointer-events: none; position: absolute; right: 30px; z-index: 3; -webkit-text-stroke: 2px rgb(0, 0, 0); }

.power-label-clone { background-image: none; background-position: initial; background-size: initial; background-repeat: initial; background-attachment: initial; background-origin: initial; background-color: initial; color: red; z-index: 2; transition-property: margin-bottom, opacity; margin-bottom: 0px; opacity: 1; background-clip: unset; }

body.power-mode-enabled .notebook-vertical { overflow: hidden; }

@media print {
  body { overflow-y: visible !important; }
  .notebook-vertical { position: static !important; height: auto !important; }
  .notebook-container { height: auto !important; position: static !important; overflow-y: initial !important; }
  .notebook-content { border: initial !important; margin: initial !important; min-width: 0px !important; }
  .notebook-content-background, .notebook-tab-content { min-width: 0px !important; }
  #top-toolbar, .add-cell > *, .cell-toolbar, .footer-links, .notebook-scroll-shadow, .top-floater, colab-composer-floating-spark, colab-composer[view-mode="floating"], colab-left-pane, colab-resizer:has(colab-tab-pane), colab-snackbar, colab-status-bar { display: none !important; }
  .cell-gutter, colab-output-info { visibility: hidden !important; }
}

.colab-find-suffix { color: var(--colab-secondary-text-color); }

colab-left-pane .colab-find-suffix { margin: auto 0px; }

colab-find-replace.readonly .colab-find-replace, colab-find-replace.readonly .colab-replace-input { display: none; }

html:not(.panel-ui-refresh) colab-find-replace md-outlined-text-field { margin: 8px 8px 4px; width: 200px; --md-outlined-field-bottom-space: 4px; --md-outlined-field-leading-space: 8px; --md-outlined-field-top-space: 4px; }

.panel-ui-refresh colab-find-replace.layout.vertical { gap: 12px; }

.panel-ui-refresh colab-find-replace md-outlined-text-field { margin-left: 0px; }

colab-find-replace { overflow: hidden; padding: 4px 2px 6px 10px; --md-focus-ring-outward-offset: -3px; }

.panel-ui-refresh colab-find-replace { padding: 0px 0px 6px; }

colab-find-replace .colab-find-button { margin-left: 0px; margin-right: 0px; padding-left: 4px; padding-right: 4px; }

html:not(.panel-ui-refresh) colab-find-replace md-text-button { text-wrap: wrap; --md-sys-color-primary: var(--colab-icon-color); }

@media (forced-colors: active) {
  colab-find-replace md-text-button { --md-text-button-focus-label-text-color: Highlight; --md-text-button-hover-label-text-color: Highlight; --md-text-button-pressed-label-text-color: Highlight; }
}

colab-find-replace label:has(md-checkbox) { margin-right: 16px; }

colab-find-results { flex-shrink: 1; min-height: 40px; overflow: auto; }

colab-find-results md-list { -webkit-box-flex: 1; flex-grow: 1; overflow: hidden; --md-list-item-one-line-container-height: 39px; --md-list-item-top-space: 2px; --md-list-item-bottom-space: 2px; --md-focus-ring-outward-offset: -2px; }

.find-replace-result { border-bottom: solid 1px var(--paper-grey-200); display: flex; -webkit-box-orient: horizontal; -webkit-box-direction: normal; flex-direction: row; min-height: 31px; }

.panel-ui-refresh .find-replace-result { border-bottom: none; }

.find-replace-result.active-selected { background-color: var(--colab-highlighted-surface-color); }

.find-replace-result:first-child { border-top: solid 1px var(--paper-grey-200); }

.panel-ui-refresh .find-replace-result:first-child { border-top: none; }

.find-replace-result div { font-family: var(--colab-code-font-family); font-size: 13px; min-width: 0px; overflow: hidden; text-overflow: ellipsis; white-space: nowrap; }

.find-replace-result md-icon-button { margin: 0px; padding: 0px; display: none; --md-icon-button-icon-size: 20px; --md-icon-button-state-layer-height: 30px; --md-icon-button-state-layer-width: 36px; }

.find-replace-result:focus-within md-icon-button, .find-replace-result:hover md-icon-button { display: flex; }

colab-resizer { display: flex; }

colab-resizer.ew-resize, colab-resizer.we-resize { -webkit-box-orient: horizontal; -webkit-box-direction: normal; flex-flow: row; }

colab-resizer.ns-resize, colab-resizer.sn-resize { -webkit-box-orient: vertical; -webkit-box-direction: normal; flex-flow: column; }

colab-resizer > * { -webkit-box-flex: 1; flex-grow: 1; }

colab-resizer .ns-resize .resizer-contents, colab-resizer .sn-resize .resizer-contents { height: calc(100% - 5px); }

colab-resizer.ew-resize > *, colab-resizer.we-resize > * { min-width: 0px; }

.resizer-thumb { -webkit-box-flex: 0; flex: 0 0 5px; transition: background 0.1s; }

.resizer-thumb:hover { background: rgb(119, 119, 119); }

colab-resizer.ew-resize > .resizer-thumb, colab-resizer.we-resize > .resizer-thumb { cursor: ew-resize; }

colab-resizer.ns-resize > .resizer-thumb, colab-resizer.sn-resize > .resizer-thumb { cursor: ns-resize; height: 5px; }

colab-resizer.no-resize > .resizer-thumb { display: none; }

colab-resizing-grid { border-collapse: collapse; display: table; position: relative; width: 100%; }

.resizing-thumb { bottom: 0px; display: none; position: absolute; top: 0px; width: 4px; }

.resizing-grid-column-group { display: table-column-group; }

.resizing-grid-column { display: table-column; }

.resizing-grid-row { display: table-row; }

.resizing-grid-cell { display: table-cell; height: 50px; padding: 2px; vertical-align: top; }

colab-resizing-grid.resizing .resizing-thumb { cursor: ew-resize; }

colab-resizing-grid.resizing .resizing-thumb:active, colab-resizing-grid.resizing .resizing-thumb:hover { border-left: 2px solid rgb(0, 0, 0); }

colab-resizing-grid.resizing .resizing-grid-cell { border: 1px dashed rgb(0, 0, 0); }

colab-resizing-grid.resizing .resizing-thumb { display: block; }

.screenreader-only { border: 0px; clip: rect(0px, 0px, 0px, 0px); clip-path: inset(50%); height: 1px; margin: -1px; overflow: hidden; padding: 0px; position: absolute; white-space: nowrap; width: 1px; }

::-webkit-scrollbar { height: 12px; width: 12px; }

::-webkit-scrollbar-button { height: 0px; width: 0px; }

::-webkit-scrollbar-corner { background: transparent; }

::-webkit-scrollbar-thumb { background-clip: content-box; background-color: var(--colab-scrollbar-color); border: 2px solid transparent; border-radius: 8px; min-height: 28px; min-width: 28px; }

::-webkit-scrollbar-thumb:hover { background-color: var(--colab-scrollbar-hover-color); }

::-webkit-scrollbar-thumb:active { background-color: var(--colab-scrollbar-active-color); }

@supports not (selector(::-webkit-scrollbar)) {
  * { scrollbar-color: var(--colab-scrollbar-color) transparent; }
}

.text.has-statusbar:not(.edit) .monaco-emacs-statusbar, .text.has-statusbar:not(.edit) .monaco-vim-statusbar { display: none !important; }

.markdown a.error { color: var(--colab-error-color); text-decoration: underline dashed var(--colab-error-color); }

.text.edit .markdown a:not(.error) { color: var(--colab-anchor-color); }

.markdown-toolbar-preview[active] { font-weight: 700; }

.markdown span table { border-collapse: collapse; border-spacing: 0px; border: none; font-size: 12px; margin-left: 8px; table-layout: fixed; }

.markdown span thead { border-bottom: 1px solid rgb(0, 0, 0); vertical-align: bottom; }

.markdown span td, .markdown span th, .markdown span tr { border: none; line-height: 1; overflow: hidden; padding: 0.5em; text-overflow: ellipsis; vertical-align: middle; white-space: nowrap; }

.markdown span th { font-weight: 700; }

.markdown span tbody tr:nth-child(2n+1) { background: var(--colab-secondary-surface-color); }

.markdown span tbody tr:hover { background: var(--colab-highlighted-surface-color); }

body.mobile .markdown > span > p, body.mobile .markdown > span > table { display: block; width: 100%; }

body.mobile .markdown > span > table { overflow-x: auto; }

.markdown { line-height: 1.6; }

.markdown ol, .markdown p, .markdown ul { font-size: 16px; margin-bottom: 0.5em; margin-top: 0.5em; }

.markdown h1, .markdown h2, .markdown h3, .markdown h4, .markdown h5, .markdown h6 { font-weight: 400; margin-bottom: 0.5em; margin-top: 0.5em; }

.formview .markdown h1, .formview .markdown h2, .formview .markdown h3, .formview .markdown h4, .formview .markdown h5, .formview .markdown h6 { margin-bottom: 0px; margin-top: 0px; }

.formview { padding-top: 4px; }

.markdown h1 { font-size: 26px; }

.markdown h2 { font-size: 23px; }

.markdown h3 { font-size: 20px; }

.markdown h4 { font-size: 18px; }

.markdown h5, .markdown h6 { font-size: 16px; }

.markdown :not(pre) > code { background: var(--colab-editor-background); border: 1px solid var(--colab-border-color); border-radius: 8px; font-family: var(--colab-code-font-family); overflow-x: auto; padding: 1px 4px; }

.markdown pre { background: var(--colab-editor-background); border: 1px solid var(--colab-border-color); border-radius: 8px; font-family: var(--colab-code-font-family); overflow-x: auto; font-size: var(--colab-code-font-size); padding: 8px; margin: 1em 0px; white-space: pre; }

.cell-tab .header-section-toggle, .cell-tab .markdown-toolbar-preview, .cell-tab .text.edit .text-top-div, colab-cell-pair-slide .header-section-toggle, colab-cell-pair-slide .markdown-toolbar-preview, colab-cell-pair-slide .text.edit .text-top-div, colab-cell-slide .header-section-toggle, colab-cell-slide .markdown-toolbar-preview, colab-cell-slide .text.edit .text-top-div { display: none; }

.cell-tab .text.edit .editor-container:not(.horizontal) .editor, colab-cell-pair-slide .text.edit .editor-container:not(.horizontal) .editor, colab-cell-slide .text.edit .editor-container:not(.horizontal) .editor { border-bottom: none; }

.cell-tab .text.edit .main-content, colab-cell-pair-slide .text.edit .main-content, colab-cell-slide .text.edit .main-content { border-radius: 8px; outline: 1px solid var(--colab-border-color); overflow: hidden; }

.cell-tab .text.edit:has(.monaco-editor.focused) .main-content, colab-cell-pair-slide .text.edit:has(.monaco-editor.focused) .main-content, colab-cell-slide .text.edit:has(.monaco-editor.focused) .main-content { outline: 2px solid var(--colab-focus-ring-color); }

.markdown .markdown-google-sans { font-family: var(--colab-google-sans-font-family); }

.md-recitation { margin-top: 4px; }

.md-recitation ol { font-size: var(--colab-chrome-font-size); }

#top-toolbar { background-color: transparent; border-bottom: 1px solid var(--colab-border-color); gap: 4px; overflow: clip; padding: 4px 8px; position: relative; --md-focus-ring-outward-offset: -2px; }

#top-toolbar md-icon-button { --md-focus-ring-outward-offset: -2px; --md-icon-button-icon-size: 20px; --md-icon-button-state-layer-height: 28px; --md-icon-button-state-layer-width: 28px; --md-sys-color-on-surface-variant: var(--colab-primary-text-color); }

#top-toolbar md-icon-button[toggle] { --md-sys-color-primary: var(--colab-primary-text-color); }

#top-toolbar .toolbar-add-code-split md-icon-button { --md-icon-button-icon-size: 20px; --md-icon-button-state-layer-height: 32px; --md-icon-button-state-layer-width: 24px; --md-icon-button-state-layer-shape: 0 var(--colab-split-button-container-shape,4px) var(--colab-split-button-container-shape,4px) 0; --md-sys-color-on-surface-variant: var(--colab-primary-text-color); }

#top-toolbar .toolbar-add-code-split md-icon-button::part(focus-ring) { --md-focus-ring-shape-start-start: 0; --md-focus-ring-shape-start-end: var(--colab-split-button-container-shape,4px); --md-focus-ring-shape-end-end: var(--colab-split-button-container-shape,4px); --md-focus-ring-shape-end-start: 0; }

#top-toolbar.panel-ui-refresh { background-color: var(--colab-surface-container-color); border-bottom: none; border-radius: 100px; margin: 0px 12px; --colab-split-button-container-shape: 9999px; }

#top-toolbar.panel-ui-refresh.collapsed { margin-top: 8px; }

body.mobile #top-toolbar { padding: 0px 2px; }

body.mobile #top-toolbar colab-toolbar-button md-icon { --md-icon-size: 20px; vertical-align: middle; }

#top-toolbar .collapsed-options { display: none; }

#top-toolbar.collapsed .expanded-options { display: none; }

#top-toolbar .expanded-options, #top-toolbar.collapsed .collapsed-options { -webkit-box-align: center; align-items: center; display: inline-flex; gap: 4px; }

#top-toolbar.collapsed colab-permissions-button { display: none; }

#top-toolbar colab-last-saved-indicator { margin-left: 16px; }

.colab-separator { background: var(--colab-border-color); height: 20px; width: 1px; }

.notebook-scroll-shadow { left: 0px; min-height: 8px; pointer-events: none; position: absolute; right: 0px; top: 0px; }

.toolbar-add-code-split { display: flex; -webkit-box-align: center; align-items: center; }

#top-toolbar .embedded-branch-indicator { -webkit-box-align: center; align-items: center; background-color: var(--colab-surface-container-high-color); border-radius: 8px; display: flex; gap: 4px; padding: 4px; }

#top-toolbar .embedded-branch-indicator md-icon { color: var(--colab-icon-color); --md-icon-size: 18px; }

#top-toolbar.panel-ui-refresh .embedded-branch-indicator { background-color: var(--colab-surface-container-highest-color); }

#view-editor colab-drag-drop-target.drop-target-selected { min-height: 100px; }

.hidden-cell-pane colab-drag-drop-target { display: none; }

#view-editor #view-name { height: 34px; margin: 10px 12px 0px; --md-outlined-field-bottom-space: 6px; --md-outlined-field-leading-space: 10px; --md-outlined-field-top-space: 6px; }

#view-editor colab-drag-drop-zone { display: block; min-height: 100%; }

#view-editor colab-tab-layout colab-drag-drop-zone { border: 1px dashed rgb(0, 0, 0); }

#view-editor-hide-code-option { margin-left: 8px; }

#view-editor .edit-view-buttons { background: var(--colab-primary-surface-color); -webkit-box-flex: 0; flex: 0 0 0%; float: left; overflow: hidden; position: sticky; top: 0px; width: 30px; --md-icon-button-state-layer-height: 30px; --md-icon-button-state-layer-width: 30px; }

.draggable-cell > .view-draggable-paper > .edit-view-buttons .view-layout-control, .draggable-grid > .view-draggable-paper > .edit-view-buttons .view-cell-control, .draggable-tabs > .view-draggable-paper > .edit-view-buttons .view-cell-control, .hidden-cell-pane .view-move, .hidden-cell-pane .view-remove, .notebook-content .view-add, .notebook-content .view-drag { display: none; }

#view-editor .draggable-content { -webkit-box-flex: 1; flex: 1 1 0%; margin-left: 30px; min-height: 88px; overflow: hidden; padding: 4px; position: relative; }

#view-editor .draggable-cell-mask { cursor: move; }

#view-editor .draggable-cell-mask { inset: 0px; position: absolute; }

#view-editor .cell { z-index: 0; }

#view-editor .notebook-content { margin: 8px; padding: 0px 2px; }

#view-editor .view-header { padding-left: 8px; }

#view-editor .view-header .buttons { display: none; }

.notebook-cell-list > colab-drag-drop-zone > colab-drag-drop-target:last-of-type { min-height: 200px; }

.view-editor-toolbar { background-color: var(--colab-secondary-surface-color); box-shadow: rgba(0, 0, 0, 0.14) 0px 3px 4px 0px, rgba(0, 0, 0, 0.12) 0px 1px 8px 0px, rgba(0, 0, 0, 0.4) 0px 3px 3px -2px; order: -1; position: relative; }

.cells-not-in-view { overflow-y: auto; }

.view-controls { -webkit-box-align: center; align-items: center; display: flex; -webkit-box-flex: 1; flex-grow: 1; margin: 4px; }

.view-editor-cancel-button, .view-editor-save-button { margin: 4px; padding: 13px 0px; }

.view-draggable-paper { overflow: auto; }

.hidden-cell-pane colab-resizer { height: 150px; min-height: 150px; max-height: 500px; overflow: auto; }

.hidden-cell-pane .resizer-contents { display: flex; -webkit-box-orient: vertical; -webkit-box-direction: normal; flex-flow: column; margin-left: 18px; }

.hidden-cell-pane-title { flex-shrink: 0; padding: 0px 4px 0px 0px; }

.hidden-cell-pane-title h2 { -webkit-box-flex: 1; flex-grow: 1; margin: 4px 12px 0px; }

.hidden-cell-pane .cells-not-in-view { overflow-y: auto; }

.hidden-cell-pane .view-draggable-paper { background: var(--colab-primary-surface-color); display: block; margin-left: 8px; margin-right: 8px; }

#view-hidden-cells-button[active] { font-weight: 700; }

md-outlined-text-field.number-of-columns-input, md-outlined-text-field.number-of-rows-input { padding-top: 20px; }

.view-header { border-bottom: 1px solid var(--colab-border-color); padding: 0px 26px 16px 30px; position: relative; }

.panel-ui-refresh .view-header { border-bottom: none; }

.view-header a { color: rgb(0, 0, 0); text-decoration: none; }

.view-header h1 { -webkit-box-flex: 1; flex-grow: 1; }

.view-header md-icon { margin: 0px 8px; vertical-align: middle; }

.layouts-view .layout-grid table { width: 100%; }

.layouts-view .layout-grid td { vertical-align: top; }

.layout-grid img, .layout-tab img { max-width: 100%; }

.layouts-view colab-tab-layout { margin-top: 12px; }

.layouts-view .cell-toolbar, .views-hide-code .cell.code:not(.code-has-output) { display: none; }

.notebook-vertical { height: 100%; display: flex; -webkit-box-orient: vertical; -webkit-box-direction: normal; flex-flow: column; }

.notebook-horizontal { background-color: var(--colab-primary-surface-color); display: flex; -webkit-box-orient: horizontal; -webkit-box-direction: normal; flex-flow: row; -webkit-box-flex: 1; flex-grow: 1; overflow: clip; position: relative; min-height: 0px; }

.notebook-vertical:not(.embedded) .notebook-horizontal:has(.panel-ui-refresh) { background-color: transparent; margin: 8px 12px; }

.notebook-horizontal > div.layout.vertical { flex-shrink: 1; min-width: 200px; }

.exported-html .notebook-horizontal { overflow: visible; }

.overflow-flexbox-workaround { flex-basis: 50%; -webkit-box-orient: vertical; -webkit-box-direction: normal; flex-flow: column; -webkit-box-flex: 1; flex-grow: 1; position: relative; }

.notebook-container { height: 100%; overflow-y: scroll; position: absolute; width: 100%; }

.notebook-container:focus { outline: none; }

.exported-html .notebook-container { overflow-y: initial; }

.exported-html .top-floater { display: none; }

.notebook-scrolling-horizontal { display: flex; -webkit-box-orient: horizontal; -webkit-box-direction: normal; flex-flow: row; padding-bottom: 400px; -webkit-box-flex: 1; flex: 1 1 0%; }

.notebook-scrolling-horizontal-container { display: flex; -webkit-box-orient: vertical; -webkit-box-direction: normal; flex-direction: column; height: 100%; }

.notebook-content-background { -webkit-box-flex: 1; flex: 1 1 auto; min-width: 700px; }

.panel-ui-refresh .notebook-content-background { min-width: calc(var(--colab-notebook-content-min-width) + 100px); --colab-notebook-content-min-width: 300px; }

html:not(.panel-ui-refresh) body.mobile .notebook-content-background { min-width: 250px; }

body.mobile .panel-ui-refresh .notebook-content-background { --colab-notebook-content-min-width: 150px; }

.notebook-content { background-color: var(--colab-primary-surface-color); display: flex; -webkit-box-orient: vertical; -webkit-box-direction: normal; flex-direction: column; margin: 7px 0px 5px; min-height: 800px; min-width: 600px; padding: 2px 4px 8px 44px; }

.panel-ui-refresh .notebook-content { min-width: var(--colab-notebook-content-min-width); }

html:not(.panel-ui-refresh) body.mobile .notebook-content { min-width: 240px; }

.notebook-vertical:not(.embedded) .panel-ui-refresh .notebook-content { background-color: transparent; padding-left: 38px; padding-top: 1px; }

.notebook-content.readonly { padding-top: 17px; }

.notebook-content.readonly .cell { margin-top: 8px; }

.colab-left-pane-open .notebook-content { margin-left: 4px; }

.colab-left-pane-open .panel-ui-refresh .notebook-content { margin-left: 0px; }

.notebook-cell-list { background: var(--colab-primary-surface-color); }

colab-snackbar md-icon-button { --md-sys-color-on-surface-variant: var(--colab-inverse-on-surface-color); }

colab-snackbar md-text-button { --md-sys-color-primary: var(--colab-inverse-primary-color); }

.code-help { font-family: var(--colab-code-font-family); margin: 16px; white-space: pre-wrap; }

.code-help a:link { text-decoration: none; }

.code-help a:visited { text-decoration: none; }

.code-help a:hover { text-decoration: underline; }

.code-help a:active { text-decoration: underline; }

.notebook-busy { cursor: progress; }

[hidden] { display: none; }

.layout.horizontal { display: flex; -webkit-box-orient: horizontal; -webkit-box-direction: normal; flex-direction: row; }

.layout.noshrink { flex-shrink: 0; }

.layout.grow { -webkit-box-flex: 1; flex-grow: 1; }

.layout.vertical { display: flex; -webkit-box-orient: vertical; -webkit-box-direction: normal; flex-direction: column; }

.layout.center { -webkit-box-align: center; align-items: center; }

.layout.end { -webkit-box-align: end; align-items: flex-end; }

.flex { -webkit-box-flex: 1; flex: 1 1 0%; }

.nowrap { white-space: nowrap; }

.colab-large-icon { height: 60px; width: 40px; }

a { color: var(--colab-anchor-color); }

.proxies { height: 0px; overflow: hidden; }

.proxies iframe { border: 0px; display: none; height: 1px; position: absolute; inset: -9999px; width: 1px; }

.footer-links { padding: 8px 0px; text-align: center; }

.footer-links a { margin: 0px 4px; text-decoration: none; }

md-icon[filled] { font-variation-settings: "FILL" 1; }

md-filled-text-field.space-for-label, md-outlined-text-field.space-for-label { margin-top: 12px; }

input[type="date"], input[type="text"], textarea { background-color: var(--colab-primary-surface-color); border: 1px solid var(--colab-bold-border-color); color: var(--colab-primary-text-color); padding: 2px 1px; }

::-webkit-input-placeholder { color: var(--colab-secondary-text-color); }

::placeholder { color: var(--colab-secondary-text-color); }

html { height: 100%; }

body { background-color: var(--colab-primary-surface-color); color: var(--colab-primary-text-color); font-family: var(--colab-chrome-font-family); font-size: var(--colab-chrome-font-size); font-weight: 400; height: 100%; line-height: 1.24; margin: 0px; overflow-y: hidden; --mdc-button-disabled-ink-color: var(--colab-tertiary-text-color); --mdc-button-outline-color: var(--colab-border-color); --mdc-dialog-content-ink-color: var(--colab-primary-text-color); --mdc-dialog-heading-ink-color: var(--colab-primary-text-color); --mdc-dialog-z-index: 1003; --mdc-select-label-ink-color: var(--colab-secondary-text-color); --mdc-text-field-disabled-fill-color: transparent; --mdc-text-field-disabled-ink-color: var(--colab-primary-text-color); --mdc-text-field-fill-color: var(--colab-secondary-surface-color); --mdc-text-field-hover-line-color: var(--colab-primary-color); --mdc-text-field-idle-line-color: var(--colab-primary-text-color); --mdc-text-field-ink-color: var(--colab-primary-text-color); --mdc-text-field-label-ink-color: var(--colab-secondary-text-color); --mdc-text-field-outlined-idle-border-color: var(--colab-border-color); --mdc-text-field-outlined-hover-border-color: var(
    --colab-bold-border-color
  ); --mdc-select-outlined-idle-border-color: var(--colab-border-color); --mdc-select-outlined-hover-border-color: var(--colab-bold-border-color); --mdc-select-outlined-disabled-border-color: var(
    --colab-tertiary-text-color
  ); --mdc-theme-error: var(--colab-error-color); --mdc-theme-surface: var(--colab-primary-surface-color); --mdc-theme-on-surface: var(--colab-primary-text-color); --mdc-theme-text-disabled-on-light: var(--colab-tertiary-text-color); --mdc-theme-text-hint-on-background: var(--colab-primary-text-color); --mdc-theme-text-primary-on-background: var(--colab-primary-text-color); --mdc-theme-text-secondary-on-background: var(--colab-primary-text-color); --mdc-typography-body1-font-size: var(--colab-chrome-font-size); --mdc-typography-body1-letter-spacing: normal; --mdc-typography-button-letter-spacing: normal; --mdc-typography-button-text-transform: none; --mdc-typography-font-family: var(--colab-chrome-font-family); --mdc-typography-subtitle1-font-size: var(--colab-chrome-font-size); --mdc-typography-subtitle1-letter-spacing: normal; --mdc-ripple-press-opacity: 0.03; --mdc-ripple-focus-opacity: 0.07; --mdc-radio-unchecked-color: var(--colab-primary-text-color); --mdc-radio-disabled-color: var(--colab-tertiary-text-color); --mdc-select-fill-color: var(--colab-primary-surface-color); --mdc-select-ink-color: var(--colab-primary-text-color); --mdc-select-dropdown-icon-color: var(--colab-icon-color); --mdc-select-hover-line-color: var(--colab-bold-border-color); --mdc-select-idle-line-color: var(--colab-border-color); --mdc-menu-z-index: 11; --md-checkbox-outline-color: var(--colab-primary-text-color); --md-filled-button-label-text-size: var(--colab-chrome-font-size); --md-filled-button-container-height: 36px; --md-filled-button-leading-space: 16px; --md-filled-button-trailing-space: 16px; --md-filled-button-disabled-container-opacity: 0.06; --md-filled-button-disabled-label-text-color: var(
    --colab-secondary-text-color
  ); --md-filled-button-disabled-label-text-opacity: 1; --md-filled-text-field-label-text-size: var(--colab-chrome-font-size); --md-outlined-text-field-focus-outline-width: 2px; --md-outlined-text-field-label-text-size: var(--colab-chrome-font-size); --md-outlined-select-text-field-focus-outline-width: 2px; --md-focus-ring-width: 2px; --md-outlined-button-container-height: 36px; --md-outlined-button-label-text-size: var(--colab-chrome-font-size); --md-outlined-button-pressed-state-layer-opacity: 0.03; --md-ref-typeface-plain: var(--colab-chrome-font-family); --md-sys-color-surface: var(--colab-primary-surface-color); --md-sys-color-surface-container: var(--colab-primary-surface-color); --md-sys-color-surface-container-highest: var(
    --colab-secondary-surface-color
  ); --md-menu-item-selected-container-color: var(
    --colab-highlighted-surface-color
  ); --md-menu-item-selected-label-text-color: var(--colab-primary-text-color); --md-menu-item-label-text-size: 14px; --md-menu-item-one-line-container-height: 1.25rem; --md-menu-item-top-space: 0.25rem; --md-menu-item-bottom-space: 0.25rem; --md-text-button-container-height: 36px; --md-text-button-disabled-icon-color: var(--colab-tertiary-text-color); --md-text-button-disabled-icon-opacity: 1; --md-text-button-disabled-label-text-color: var(
    --colab-tertiary-text-color
  ); --md-text-button-disabled-label-text-opacity: 1; --md-text-button-pressed-state-layer-opacity: 0.03; --mdc-checkbox-checked-color: var(--colab-primary-color); --mdc-checkbox-disabled-color: var(--colab-tertiary-text-color); --mdc-checkbox-ink-color: var(--colab-primary-surface-color); --mdc-checkbox-ripple-size: 36px; --mdc-checkbox-state-layer-size: 36px; --mdc-checkbox-unchecked-color: var(--colab-primary-text-color); --md-switch-with-icon-handle-height: 18px; --md-switch-with-icon-handle-width: 18px; --md-switch-selected-handle-height: 18px; --md-switch-selected-handle-width: 18px; --md-switch-pressed-handle-height: 22px; --md-switch-pressed-handle-width: 22px; --md-switch-track-height: 26px; --md-switch-track-width: 40px; }

body:has(.panel-ui-refresh) { background-color: var(--colab-surface-container-low-color); }

body:has(.panel-ui-refresh) mark { background-color: var(--colab-highlighted-text-background-color); }

body.exported-html { overflow-y: visible; }

h1, h2, h3, h4, h5, h6 { color: var(--colab-primary-text-color); font-weight: 700; margin-bottom: 4px; }

p, ul { color: var(--colab-primary-text-color); margin-bottom: 6px; margin-top: 6px; }

pre { color: var(--colab-primary-text-color); margin-bottom: 0px; margin-top: 0px; }

body > .onegoogle { display: none; }

.colab-icon { color: var(--colab-icon-color); }

.grecaptcha-badge { display: none; }

mwc-textfield[outlined] { --mdc-typography-subtitle1-font-size: 16px; }

mwc-formfield { --mdc-theme-text-primary-on-background: var(--colab-primary-text-color); --mdc-theme-secondary: var(--colab-primary-color); --mdc-ripple-focus-opacity: 0.15; }

mwc-formfield[disabled] { color: var(--colab-tertiary-text-color); opacity: 0.7; --mdc-theme-text-primary-on-background: var(--colab-tertiary-text-color); }

@media (forced-colors: active) {
  body { --md-filled-button-hover-label-text-color: Highlight; --md-filled-button-pressed-label-text-color: Highlight; --md-filled-button-focus-label-text-color: Highlight; --md-filled-button-hover-icon-color: Highlight; --md-filled-button-pressed-icon-color: Highlight; --md-filled-button-focus-icon-color: Highlight; --md-text-button-hover-label-text-color: Highlight; --md-text-button-pressed-label-text-color: Highlight; --md-text-button-focus-label-text-color: Highlight; --md-text-button-hover-icon-color: Highlight; --md-text-button-pressed-icon-color: Highlight; --md-text-button-focus-icon-color: Highlight; --md-outlined-button-hover-label-text-color: Highlight; --md-outlined-button-pressed-label-text-color: Highlight; --md-outlined-button-focus-label-text-color: Highlight; --md-outlined-button-hover-icon-color: Highlight; --md-outlined-button-pressed-icon-color: Highlight; --md-outlined-button-focus-icon-color: Highlight; }
}

colab-github-repo-selector .github-repos { margin-right: 40px; }

colab-github-repo-selector md-filled-select { width: 100%; max-width: 300px; }

colab-github-repo-selector .open-in-github { vertical-align: middle; }

.github-scope-selector { margin: 0px 8px; display: flex; }

md-icon-button[href] md-icon { color: var(--colab-anchor-color); font-weight: 400; }

colab-file-browser { -webkit-box-flex: 1; flex-grow: 1; overflow-y: auto; }

.file-browser-message { padding: 10px; }

.panel-ui-refresh .file-browser-message { padding: 0px 0px 8px; }

colab-file-tree { display: flex; -webkit-box-orient: vertical; -webkit-box-direction: normal; flex-flow: column; -webkit-box-flex: 1; flex-grow: 1; overflow-y: auto; position: relative; }

colab-file-tree .files-drag-to-upload.layout { background: var(--colab-primary-surface-color); border: 2px dashed var(--paper-grey-400); bottom: 28px; display: flex; font-size: small; left: 12px; opacity: 0; padding: 4px 8px; pointer-events: none; position: absolute; right: 18px; transition: opacity 0.2s ease-in; }

colab-file-tree.file-hovered .files-drag-to-upload { opacity: 1; }

colab-file-tree .files-drag-to-upload * { margin: auto; }

.file-tree-composer-banner { -webkit-box-align: center; align-items: center; background: var(--colab-primary-container-color); border-radius: 8px; display: flex; gap: 8px; -webkit-box-pack: justify; justify-content: space-between; margin: 8px 16px; padding: 12px 16px; }

.file-tree-composer-banner-text { -webkit-box-flex: 2; flex-grow: 2; }

.file-tree-composer-banner-close { flex-shrink: 0; --md-icon-button-icon-size: 20px; --md-sys-color-on-surface-variant: var(--colab-primary-color); }

.file-tree-buttons { border-bottom: 1px solid var(--colab-border-color); display: flex; -webkit-box-orient: horizontal; -webkit-box-direction: normal; flex-direction: row; margin: 0px 16px 0px 8px; --md-sys-color-primary: var(--colab-icon-color); }

.panel-ui-refresh .file-tree-buttons { --md-focus-ring-outward-offset: -2px; --md-icon-button-icon-size: 20px; --md-icon-button-state-layer-height: 24px; --md-icon-button-state-layer-width: 24px; -webkit-box-align: center; align-items: center; background-color: var(--colab-surface-container-highest-color); border-bottom: none; border-radius: 20px; gap: 4px; margin: 0px 0px 4px; padding: 4px; --colab-icon-color: var(--colab-primary-text-color); --md-sys-color-on-surface-variant: var(--colab-primary-text-color); --md-sys-color-primary: var(--colab-primary-text-color); }

.file-tree-buttons md-icon-button { margin-right: 6px; }

.panel-ui-refresh .file-tree-buttons md-icon-button { margin-right: 0px; }

colab-file-tree .file-tree-upload-button { margin-right: 4px; }

.panel-ui-refresh colab-file-tree .file-tree-upload-button { margin-right: 0px; }

.panel-ui-refresh label:has(.file-tree-upload-button) { height: 24px; }

colab-file-tree #file-tree-upload-input { display: none; }

colab-file-tree .files-root { -webkit-box-flex: 1; flex-grow: 1; overflow-y: auto; }

.files-root > colab-file-view { height: 100%; }

colab-file-view { display: block; }

colab-file-view span { user-select: none; }

html:not(.panel-ui-refresh) colab-file-tree .file-icon { font-variation-settings: "FILL" 1; }

colab-file-tree .file-icon { flex-shrink: 0; --md-icon-size: 24px; width: 24px; }

colab-file-tree .file-title-row { -webkit-box-align: center; align-items: center; cursor: pointer; display: flex; gap: 4px; height: 32px; overflow: hidden; }

colab-file-tree .hidden-file { opacity: 0.7; }

colab-file-tree .file-title-row:hover, colab-file-view.focused, colab-file-view.hovered > .file-title-row, colab-file-view[active] > .file-title-row { background: var(--colab-highlighted-surface-color); }

colab-file-view .file-title-row colab-file-progress { height: 20px; width: 20px; }

colab-file-view .directory-icon { transition: transform 0.2s, -webkit-transform 0.2s; }

colab-file-view.collapsed .directory-icon { transform: rotate(-90deg); }

colab-file-view .overflow-ellipsis, colab-file-view.collapsed.overflow .overflow-ellipsis { display: none; padding-left: 50px; }

colab-file-view.overflow > .overflow-ellipsis { display: block; }

colab-file-uploader { -webkit-box-align: center; align-items: center; display: flex; padding: 8px; }

.file-upload-indicator { position: relative; height: 26px; width: 26px; }

colab-file-progress { position: relative; }

.file-upload-indicator:hover .file-upload-error, colab-file-progress .file-progress-cancel, colab-file-uploader .file-upload-error { display: none; }

colab-file-progress:hover .file-progress-cancel, colab-file-uploader.error .file-upload-error { display: block; }

.file-progress-icon, .file-upload-icon, colab-file-progress { height: 26px; width: 26px; --md-icon-size: 26px; }

.file-progress-icon, .file-upload-icon { left: 0px; position: absolute; top: 0px; }

@-webkit-keyframes file-progress-rotate { 
  100% { transform: rotate(1turn); }
}

@keyframes file-progress-rotate { 
  100% { transform: rotate(1turn); }
}

colab-file-progress.indeterminate svg { animation: 2332ms steps(12) 0s infinite normal none running file-progress-rotate; }

colab-file-progress .file-progress-fill { stroke: var(--colab-primary-color); }

colab-file-progress.error .file-progress-fill { stroke: var(--colab-error-color); }

colab-file-progress.paused .file-progress-fill { stroke: var(--colab-tertiary-text-color); opacity: 0.5; }

.file-upload-error { color: var(--colab-error-color); }

.file-tree-name, .file-tree-name-input { -webkit-box-flex: 1; flex-grow: 1; margin-top: 1px; overflow: hidden; text-overflow: ellipsis; white-space: nowrap; }

.file-tree-name-input { min-width: 0px; }

colab-file-view.selected { background-color: var(--colab-highlighted-surface-color); }

.file-title-row:not(.renaming) .file-tree-name-input { display: none; }

.file-title-row.renaming .file-tree-name { display: none; }

.file-browser-disk-display { display: none; margin: 4px 8px; }

md-icon.nonwriteable { color: var(--colab-icon-color); height: 20px; width: 20px; }

.add-to-composer-button { display: none; }

.add-to-composer-button md-icon { background: linear-gradient(to right top, rgb(33, 123, 254) 33.06%, rgb(7, 142, 251) 44.4%, rgb(161, 144, 255) 65.69%, rgb(189, 153, 254) 75.05%) text; color: transparent; }

.file-item-action-button { display: none; flex-shrink: 0; padding: 0px; --md-icon-button-icon-size: 24px; --md-icon-button-state-layer-height: 32px; --md-icon-button-state-layer-width: 32px; }

:not(.parent-link) > .file-title-row:focus-within .file-item-action-button:not([hidden]), :not(.parent-link) > .file-title-row:hover .file-item-action-button:not([hidden]), body.mobile :not(.parent-link) > .file-title-row .file-item-action-button:not([hidden]) { display: flex; }

colab-file-tree .colab-usage-bar-container { display: flex; -webkit-box-orient: vertical; -webkit-box-direction: normal; flex-direction: column; gap: 8px; }

colab-usage-bar { outline-offset: 3px; }

colab-files-ipynb-viewer, colab-files-text-viewer { display: flex; -webkit-box-orient: vertical; -webkit-box-direction: normal; flex-direction: column; -webkit-box-flex: 1; flex-grow: 1; overflow: hidden; }

colab-files-ipynb-viewer #ipynb-options { margin-bottom: 4px; white-space: nowrap; }

colab-files-ipynb-viewer .editor.flex { min-height: 0px; }

colab-file-viewer-manager { left: 0px; position: absolute; right: 0px; top: 0px; }

colab-files-image-viewer > img { max-width: 100%; }

colab-files-image-viewer > img.unconstrained { max-width: unset; }

.max-file-size > div { margin: 16px 0px; }

.max-file-size mwc-circular-progress { height: 20px; margin-right: 12px; width: 20px; }

.github-saver { width: 800px; }

.github-saver .github-branches, .github-saver .github-repos { -webkit-box-flex: 1; flex: 1 1 0%; margin-bottom: 16px; }

.local-kernel-dialog { max-width: 640px; }

#local-runtime-auth-url-input { height: 56px; width: 100%; }

.local-kernel-dialog-warning-icon { color: rgb(240, 147, 0); font-variation-settings: "FILL" 1; padding-right: 5px; vertical-align: top; }

.local-kernel-dialog-space-bottom { padding-bottom: 12px; }

.local-kernel-dialog-extra-details { padding-left: 12px; }

.local-kernel-dialog-content { color: var(--colab-primary-text-color); margin-bottom: 6px; margin-top: 6px; }

.local-kernel-troubleshooting-failure { color: var(--colab-error-color); font-variation-settings: "FILL" 1; padding-right: 5px; vertical-align: top; }

.local-kernel-troubleshooting-list { padding-left: 24px; }

.local-kernel-troubleshooting-list pre { margin: 0px; border: 1px solid rgb(0, 0, 0); padding: 5px; background: var(--colab-highlighted-surface-color); white-space: pre; overflow: auto; }
------MultipartBoundary--o4C46MD1v5LjRKaEEJJp6V0O1heQ16TtDUGnAqoxwB----
Content-Type: text/css
Content-Transfer-Encoding: binary
Content-Location: https://fonts.googleapis.com/css?family=Roboto:300,400,500,600,700|Google+Sans:300,400,500,600,700|Google+Sans+Text:400,500,700&display=block

@charset "utf-8";

@font-face { font-family: "Google Sans"; font-style: normal; font-weight: 400; font-display: block; src: url("https://fonts.gstatic.com/s/googlesans/v65/4UasrENHsxJlGDuGo1OIlJfC6l_24rlCK1Yo_Iqcsih3SAyH6cAwhX9RPiIUvbQoi-Entw.woff2") format("woff2"); unicode-range: U+308, U+530-58F, U+2010, U+2024, U+25CC, U+FB13-FB17; }

@font-face { font-family: "Google Sans"; font-style: normal; font-weight: 400; font-display: block; src: url("https://fonts.gstatic.com/s/googlesans/v65/4UasrENHsxJlGDuGo1OIlJfC6l_24rlCK1Yo_Iqcsih3SAyH6cAwhX9RPiAUvbQoi-Entw.woff2") format("woff2"); unicode-range: U+951-952, U+964-965, U+980-9FE, U+1CD0, U+1CD2, U+1CD5-1CD6, U+1CD8, U+1CE1, U+1CEA, U+1CED, U+1CF2, U+1CF5-1CF7, U+200C-200D, U+20B9, U+25CC, U+A8F1; }

@font-face { font-family: "Google Sans"; font-style: normal; font-weight: 400; font-display: block; src: url("https://fonts.gstatic.com/s/googlesans/v65/4UasrENHsxJlGDuGo1OIlJfC6l_24rlCK1Yo_Iqcsih3SAyH6cAwhX9RPh0UvbQoi-Entw.woff2") format("woff2"); unicode-range: U+2C7, U+2D8-2D9, U+2DB, U+307, U+1400-167F, U+18B0-18F5, U+25CC, U+11AB0-11ABF; }

@font-face { font-family: "Google Sans"; font-style: normal; font-weight: 400; font-display: block; src: local("Google Sans Regular"), local("GoogleSans-Regular"), url("https://fonts.gstatic.com/s/googlesans/v65/4UasrENHsxJlGDuGo1OIlJfC6l_24rlCK1Yo_Iqcsih3SAyH6cAwhX9RPj8UvbQoi-Entw.woff2") format("woff2"); unicode-range: U+460-52F, U+1C80-1C8A, U+20B4, U+2DE0-2DFF, U+A640-A69F, U+FE2E-FE2F; }

@font-face { font-family: "Google Sans"; font-style: normal; font-weight: 400; font-display: block; src: local("Google Sans Regular"), local("GoogleSans-Regular"), url("https://fonts.gstatic.com/s/googlesans/v65/4UasrENHsxJlGDuGo1OIlJfC6l_24rlCK1Yo_Iqcsih3SAyH6cAwhX9RPjYUvbQoi-Entw.woff2") format("woff2"); unicode-range: U+301, U+400-45F, U+490-491, U+4B0-4B1, U+2116; }

@font-face { font-family: "Google Sans"; font-style: normal; font-weight: 400; font-display: block; src: url("https://fonts.gstatic.com/s/googlesans/v65/4UasrENHsxJlGDuGo1OIlJfC6l_24rlCK1Yo_Iqcsih3SAyH6cAwhX9RPjMUvbQoi-Entw.woff2") format("woff2"); unicode-range: U+900-97F, U+1CD0-1CF9, U+200C-200D, U+20A8, U+20B9, U+20F0, U+25CC, U+A830-A839, U+A8E0-A8FF, U+11B00-11B09; }

@font-face { font-family: "Google Sans"; font-style: normal; font-weight: 400; font-display: block; src: url("https://fonts.gstatic.com/s/googlesans/v65/4UasrENHsxJlGDuGo1OIlJfC6l_24rlCK1Yo_Iqcsih3SAyH6cAwhX9RPiMUvbQoi-Entw.woff2") format("woff2"); unicode-range: U+30E, U+1200-1399, U+2D80-2DDE, U+AB01-AB2E, U+1E7E0-1E7E6, U+1E7E8-1E7EB, U+1E7ED-1E7EE, U+1E7F0-1E7FE; }

@font-face { font-family: "Google Sans"; font-style: normal; font-weight: 400; font-display: block; src: url("https://fonts.gstatic.com/s/googlesans/v65/4UasrENHsxJlGDuGo1OIlJfC6l_24rlCK1Yo_Iqcsih3SAyH6cAwhX9RPi0UvbQoi-Entw.woff2") format("woff2"); unicode-range: U+589, U+10A0-10FF, U+1C90-1CBA, U+1CBD-1CBF, U+205A, U+2D00-2D2F, U+2E31; }

@font-face { font-family: "Google Sans"; font-style: normal; font-weight: 400; font-display: block; src: local("Google Sans Regular"), local("GoogleSans-Regular"), url("https://fonts.gstatic.com/s/googlesans/v65/4UasrENHsxJlGDuGo1OIlJfC6l_24rlCK1Yo_Iqcsih3SAyH6cAwhX9RPj4UvbQoi-Entw.woff2") format("woff2"); unicode-range: U+1F00-1FFF; }

@font-face { font-family: "Google Sans"; font-style: normal; font-weight: 400; font-display: block; src: local("Google Sans Regular"), local("GoogleSans-Regular"), url("https://fonts.gstatic.com/s/googlesans/v65/4UasrENHsxJlGDuGo1OIlJfC6l_24rlCK1Yo_Iqcsih3SAyH6cAwhX9RPjEUvbQoi-Entw.woff2") format("woff2"); unicode-range: U+370-377, U+37A-37F, U+384-38A, U+38C, U+38E-3A1, U+3A3-3FF; }

@font-face { font-family: "Google Sans"; font-style: normal; font-weight: 400; font-display: block; src: url("https://fonts.gstatic.com/s/googlesans/v65/4UasrENHsxJlGDuGo1OIlJfC6l_24rlCK1Yo_Iqcsih3SAyH6cAwhX9RPikUvbQoi-Entw.woff2") format("woff2"); unicode-range: U+951-952, U+964-965, U+A80-AFF, U+200C-200D, U+20B9, U+25CC, U+A830-A839; }

@font-face { font-family: "Google Sans"; font-style: normal; font-weight: 400; font-display: block; src: url("https://fonts.gstatic.com/s/googlesans/v65/4UasrENHsxJlGDuGo1OIlJfC6l_24rlCK1Yo_Iqcsih3SAyH6cAwhX9RPhEUvbQoi-Entw.woff2") format("woff2"); unicode-range: U+951-952, U+964-965, U+A01-A76, U+200C-200D, U+20B9, U+25CC, U+262C, U+A830-A839; }

@font-face { font-family: "Google Sans"; font-style: normal; font-weight: 400; font-display: block; src: local("Google Sans Regular"), local("GoogleSans-Regular"), url("https://fonts.gstatic.com/s/googlesans/v65/4UasrENHsxJlGDuGo1OIlJfC6l_24rlCK1Yo_Iqcsih3SAyH6cAwhX9RPjAUvbQoi-Entw.woff2") format("woff2"); unicode-range: U+307-308, U+590-5FF, U+200C-2010, U+20AA, U+25CC, U+FB1D-FB4F; }

@font-face { font-family: "Google Sans"; font-style: normal; font-weight: 400; font-display: block; src: url("https://fonts.gstatic.com/s/googlesans/v65/4UasrENHsxJlGDuGo1OIlJfC6l_24rlCK1Yo_Iqcsih3SAyH6cAwhX9RPjkUvbQoi-Entw.woff2") format("woff2"); unicode-range: U+1780-17FF, U+19E0-19FF, U+200C-200D, U+25CC; }

@font-face { font-family: "Google Sans"; font-style: normal; font-weight: 400; font-display: block; src: url("https://fonts.gstatic.com/s/googlesans/v65/4UasrENHsxJlGDuGo1OIlJfC6l_24rlCK1Yo_Iqcsih3SAyH6cAwhX9RPjsUvbQoi-Entw.woff2") format("woff2"); unicode-range: U+E81-EDF, U+200C-200D, U+25CC; }

@font-face { font-family: "Google Sans"; font-style: normal; font-weight: 400; font-display: block; src: url("https://fonts.gstatic.com/s/googlesans/v65/4UasrENHsxJlGDuGo1OIlJfC6l_24rlCK1Yo_Iqcsih3SAyH6cAwhX9RPioUvbQoi-Entw.woff2") format("woff2"); unicode-range: U+307, U+323, U+951-952, U+964-965, U+D00-D7F, U+1CDA, U+1CF2, U+200C-200D, U+20B9, U+25CC, U+A830-A832; }

@font-face { font-family: "Google Sans"; font-style: normal; font-weight: 400; font-display: block; src: url("https://fonts.gstatic.com/s/googlesans/v65/4UasrENHsxJlGDuGo1OIlJfC6l_24rlCK1Yo_Iqcsih3SAyH6cAwhX9RPisUvbQoi-Entw.woff2") format("woff2"); unicode-range: U+951-952, U+964-965, U+B01-B77, U+1CDA, U+1CF2, U+200C-200D, U+20B9, U+25CC; }

@font-face { font-family: "Google Sans"; font-style: normal; font-weight: 400; font-display: block; src: url("https://fonts.gstatic.com/s/googlesans/v65/4UasrENHsxJlGDuGo1OIlJfC6l_24rlCK1Yo_Iqcsih3SAyH6cAwhX9RPi8UvbQoi-Entw.woff2") format("woff2"); unicode-range: U+964-965, U+D81-DF4, U+1CF2, U+200C-200D, U+25CC, U+111E1-111F4; }

@font-face { font-family: "Google Sans"; font-style: normal; font-weight: 400; font-display: block; src: url("https://fonts.gstatic.com/s/googlesans/v65/4UasrENHsxJlGDuGo1OIlJfC6l_24rlCK1Yo_Iqcsih3SAyH6cAwhX9RPlwUvbQoi-Entw.woff2") format("woff2"); unicode-range: U+1-C, U+E-1F, U+7F-9F, U+20DD-20E0, U+20E2-20E4, U+2150-218F, U+2190, U+2192, U+2194-2199, U+21AF, U+21E6-21F0, U+21F3, U+2218-2219, U+2299, U+22C4-22C6, U+2300-243F, U+2440-244A, U+2460-24FF, U+25A0-27BF, U+2800-28FF, U+2921-2922, U+2981, U+29BF, U+29EB, U+2B00-2BFF, U+4DC0-4DFF, U+FFF9-FFFB, U+10140-1018E, U+10190-1019C, U+101A0, U+101D0-101FD, U+102E0-102FB, U+10E60-10E7E, U+1D2C0-1D2D3, U+1D2E0-1D37F, U+1F000-1F0FF, U+1F100-1F1AD, U+1F1E6-1F1FF, U+1F30D-1F30F, U+1F315, U+1F31C, U+1F31E, U+1F320-1F32C, U+1F336, U+1F378, U+1F37D, U+1F382, U+1F393-1F39F, U+1F3A7-1F3A8, U+1F3AC-1F3AF, U+1F3C2, U+1F3C4-1F3C6, U+1F3CA-1F3CE, U+1F3D4-1F3E0, U+1F3ED, U+1F3F1-1F3F3, U+1F3F5-1F3F7, U+1F408, U+1F415, U+1F41F, U+1F426, U+1F43F, U+1F441-1F442, U+1F444, U+1F446-1F449, U+1F44C-1F44E, U+1F453, U+1F46A, U+1F47D, U+1F4A3, U+1F4B0, U+1F4B3, U+1F4B9, U+1F4BB, U+1F4BF, U+1F4C8-1F4CB, U+1F4D6, U+1F4DA, U+1F4DF, U+1F4E3-1F4E6, U+1F4EA-1F4ED, U+1F4F7, U+1F4F9-1F4FB, U+1F4FD-1F4FE, U+1F503, U+1F507-1F50B, U+1F50D, U+1F512-1F513, U+1F53E-1F54A, U+1F54F-1F5FA, U+1F610, U+1F650-1F67F, U+1F687, U+1F68D, U+1F691, U+1F694, U+1F698, U+1F6AD, U+1F6B2, U+1F6B9-1F6BA, U+1F6BC, U+1F6C6-1F6CF, U+1F6D3-1F6D7, U+1F6E0-1F6EA, U+1F6F0-1F6F3, U+1F6F7-1F6FC, U+1F700-1F7FF, U+1F800-1F80B, U+1F810-1F847, U+1F850-1F859, U+1F860-1F887, U+1F890-1F8AD, U+1F8B0-1F8BB, U+1F8C0-1F8C1, U+1F900-1F90B, U+1F93B, U+1F946, U+1F984, U+1F996, U+1F9E9, U+1FA00-1FA6F, U+1FA70-1FA7C, U+1FA80-1FA89, U+1FA8F-1FAC6, U+1FACE-1FADC, U+1FADF-1FAE9, U+1FAF0-1FAF8, U+1FB00-1FBFF; }

@font-face { font-family: "Google Sans"; font-style: normal; font-weight: 400; font-display: block; src: url("https://fonts.gstatic.com/s/googlesans/v65/4UasrENHsxJlGDuGo1OIlJfC6l_24rlCK1Yo_Iqcsih3SAyH6cAwhX9RPiQUvbQoi-Entw.woff2") format("woff2"); unicode-range: U+964-965, U+B82-BFA, U+200C-200D, U+20B9, U+25CC; }

@font-face { font-family: "Google Sans"; font-style: normal; font-weight: 400; font-display: block; src: url("https://fonts.gstatic.com/s/googlesans/v65/4UasrENHsxJlGDuGo1OIlJfC6l_24rlCK1Yo_Iqcsih3SAyH6cAwhX9RPi4UvbQoi-Entw.woff2") format("woff2"); unicode-range: U+951-952, U+964-965, U+C00-C7F, U+1CDA, U+1CF2, U+200C-200D, U+25CC; }

@font-face { font-family: "Google Sans"; font-style: normal; font-weight: 400; font-display: block; src: url("https://fonts.gstatic.com/s/googlesans/v65/4UasrENHsxJlGDuGo1OIlJfC6l_24rlCK1Yo_Iqcsih3SAyH6cAwhX9RPiYUvbQoi-Entw.woff2") format("woff2"); unicode-range: U+2D7, U+303, U+331, U+E01-E5B, U+200C-200D, U+25CC; }

@font-face { font-family: "Google Sans"; font-style: normal; font-weight: 400; font-display: block; src: local("Google Sans Regular"), local("GoogleSans-Regular"), url("https://fonts.gstatic.com/s/googlesans/v65/4UasrENHsxJlGDuGo1OIlJfC6l_24rlCK1Yo_Iqcsih3SAyH6cAwhX9RPj0UvbQoi-Entw.woff2") format("woff2"); unicode-range: U+102-103, U+110-111, U+128-129, U+168-169, U+1A0-1A1, U+1AF-1B0, U+300-301, U+303-304, U+308-309, U+323, U+329, U+1EA0-1EF9, U+20AB; }

@font-face { font-family: "Google Sans"; font-style: normal; font-weight: 400; font-display: block; src: local("Google Sans Regular"), local("GoogleSans-Regular"), url("https://fonts.gstatic.com/s/googlesans/v65/4UasrENHsxJlGDuGo1OIlJfC6l_24rlCK1Yo_Iqcsih3SAyH6cAwhX9RPjwUvbQoi-Entw.woff2") format("woff2"); unicode-range: U+100-2BA, U+2BD-2C5, U+2C7-2CC, U+2CE-2D7, U+2DD-2FF, U+304, U+308, U+329, U+1D00-1DBF, U+1E00-1E9F, U+1EF2-1EFF, U+2020, U+20A0-20AB, U+20AD-20C0, U+2113, U+2C60-2C7F, U+A720-A7FF; }

@font-face { font-family: "Google Sans"; font-style: normal; font-weight: 400; font-display: block; src: local("Google Sans Regular"), local("GoogleSans-Regular"), url("https://fonts.gstatic.com/s/googlesans/v65/4UasrENHsxJlGDuGo1OIlJfC6l_24rlCK1Yo_Iqcsih3SAyH6cAwhX9RPjIUvbQoi-E.woff2") format("woff2"); unicode-range: U+0-FF, U+131, U+152-153, U+2BB-2BC, U+2C6, U+2DA, U+2DC, U+304, U+308, U+329, U+2000-206F, U+20AC, U+2122, U+2191, U+2193, U+2212, U+2215, U+FEFF, U+FFFD; }

@font-face { font-family: "Google Sans"; font-style: normal; font-weight: 500; font-display: block; src: url("https://fonts.gstatic.com/s/googlesans/v65/4UasrENHsxJlGDuGo1OIlJfC6l_24rlCK1Yo_Iqcsih3SAyH6cAwhX9RPiIUvbQoi-Entw.woff2") format("woff2"); unicode-range: U+308, U+530-58F, U+2010, U+2024, U+25CC, U+FB13-FB17; }

@font-face { font-family: "Google Sans"; font-style: normal; font-weight: 500; font-display: block; src: url("https://fonts.gstatic.com/s/googlesans/v65/4UasrENHsxJlGDuGo1OIlJfC6l_24rlCK1Yo_Iqcsih3SAyH6cAwhX9RPiAUvbQoi-Entw.woff2") format("woff2"); unicode-range: U+951-952, U+964-965, U+980-9FE, U+1CD0, U+1CD2, U+1CD5-1CD6, U+1CD8, U+1CE1, U+1CEA, U+1CED, U+1CF2, U+1CF5-1CF7, U+200C-200D, U+20B9, U+25CC, U+A8F1; }

@font-face { font-family: "Google Sans"; font-style: normal; font-weight: 500; font-display: block; src: url("https://fonts.gstatic.com/s/googlesans/v65/4UasrENHsxJlGDuGo1OIlJfC6l_24rlCK1Yo_Iqcsih3SAyH6cAwhX9RPh0UvbQoi-Entw.woff2") format("woff2"); unicode-range: U+2C7, U+2D8-2D9, U+2DB, U+307, U+1400-167F, U+18B0-18F5, U+25CC, U+11AB0-11ABF; }

@font-face { font-family: "Google Sans"; font-style: normal; font-weight: 500; font-display: block; src: local("Google Sans Medium"), local("GoogleSans-Medium"), url("https://fonts.gstatic.com/s/googlesans/v65/4UasrENHsxJlGDuGo1OIlJfC6l_24rlCK1Yo_Iqcsih3SAyH6cAwhX9RPj8UvbQoi-Entw.woff2") format("woff2"); unicode-range: U+460-52F, U+1C80-1C8A, U+20B4, U+2DE0-2DFF, U+A640-A69F, U+FE2E-FE2F; }

@font-face { font-family: "Google Sans"; font-style: normal; font-weight: 500; font-display: block; src: local("Google Sans Medium"), local("GoogleSans-Medium"), url("https://fonts.gstatic.com/s/googlesans/v65/4UasrENHsxJlGDuGo1OIlJfC6l_24rlCK1Yo_Iqcsih3SAyH6cAwhX9RPjYUvbQoi-Entw.woff2") format("woff2"); unicode-range: U+301, U+400-45F, U+490-491, U+4B0-4B1, U+2116; }

@font-face { font-family: "Google Sans"; font-style: normal; font-weight: 500; font-display: block; src: url("https://fonts.gstatic.com/s/googlesans/v65/4UasrENHsxJlGDuGo1OIlJfC6l_24rlCK1Yo_Iqcsih3SAyH6cAwhX9RPjMUvbQoi-Entw.woff2") format("woff2"); unicode-range: U+900-97F, U+1CD0-1CF9, U+200C-200D, U+20A8, U+20B9, U+20F0, U+25CC, U+A830-A839, U+A8E0-A8FF, U+11B00-11B09; }

@font-face { font-family: "Google Sans"; font-style: normal; font-weight: 500; font-display: block; src: url("https://fonts.gstatic.com/s/googlesans/v65/4UasrENHsxJlGDuGo1OIlJfC6l_24rlCK1Yo_Iqcsih3SAyH6cAwhX9RPiMUvbQoi-Entw.woff2") format("woff2"); unicode-range: U+30E, U+1200-1399, U+2D80-2DDE, U+AB01-AB2E, U+1E7E0-1E7E6, U+1E7E8-1E7EB, U+1E7ED-1E7EE, U+1E7F0-1E7FE; }

@font-face { font-family: "Google Sans"; font-style: normal; font-weight: 500; font-display: block; src: url("https://fonts.gstatic.com/s/googlesans/v65/4UasrENHsxJlGDuGo1OIlJfC6l_24rlCK1Yo_Iqcsih3SAyH6cAwhX9RPi0UvbQoi-Entw.woff2") format("woff2"); unicode-range: U+589, U+10A0-10FF, U+1C90-1CBA, U+1CBD-1CBF, U+205A, U+2D00-2D2F, U+2E31; }

@font-face { font-family: "Google Sans"; font-style: normal; font-weight: 500; font-display: block; src: local("Google Sans Medium"), local("GoogleSans-Medium"), url("https://fonts.gstatic.com/s/googlesans/v65/4UasrENHsxJlGDuGo1OIlJfC6l_24rlCK1Yo_Iqcsih3SAyH6cAwhX9RPj4UvbQoi-Entw.woff2") format("woff2"); unicode-range: U+1F00-1FFF; }

@font-face { font-family: "Google Sans"; font-style: normal; font-weight: 500; font-display: block; src: local("Google Sans Medium"), local("GoogleSans-Medium"), url("https://fonts.gstatic.com/s/googlesans/v65/4UasrENHsxJlGDuGo1OIlJfC6l_24rlCK1Yo_Iqcsih3SAyH6cAwhX9RPjEUvbQoi-Entw.woff2") format("woff2"); unicode-range: U+370-377, U+37A-37F, U+384-38A, U+38C, U+38E-3A1, U+3A3-3FF; }

@font-face { font-family: "Google Sans"; font-style: normal; font-weight: 500; font-display: block; src: url("https://fonts.gstatic.com/s/googlesans/v65/4UasrENHsxJlGDuGo1OIlJfC6l_24rlCK1Yo_Iqcsih3SAyH6cAwhX9RPikUvbQoi-Entw.woff2") format("woff2"); unicode-range: U+951-952, U+964-965, U+A80-AFF, U+200C-200D, U+20B9, U+25CC, U+A830-A839; }

@font-face { font-family: "Google Sans"; font-style: normal; font-weight: 500; font-display: block; src: url("https://fonts.gstatic.com/s/googlesans/v65/4UasrENHsxJlGDuGo1OIlJfC6l_24rlCK1Yo_Iqcsih3SAyH6cAwhX9RPhEUvbQoi-Entw.woff2") format("woff2"); unicode-range: U+951-952, U+964-965, U+A01-A76, U+200C-200D, U+20B9, U+25CC, U+262C, U+A830-A839; }

@font-face { font-family: "Google Sans"; font-style: normal; font-weight: 500; font-display: block; src: local("Google Sans Medium"), local("GoogleSans-Medium"), url("https://fonts.gstatic.com/s/googlesans/v65/4UasrENHsxJlGDuGo1OIlJfC6l_24rlCK1Yo_Iqcsih3SAyH6cAwhX9RPjAUvbQoi-Entw.woff2") format("woff2"); unicode-range: U+307-308, U+590-5FF, U+200C-2010, U+20AA, U+25CC, U+FB1D-FB4F; }

@font-face { font-family: "Google Sans"; font-style: normal; font-weight: 500; font-display: block; src: url("https://fonts.gstatic.com/s/googlesans/v65/4UasrENHsxJlGDuGo1OIlJfC6l_24rlCK1Yo_Iqcsih3SAyH6cAwhX9RPjkUvbQoi-Entw.woff2") format("woff2"); unicode-range: U+1780-17FF, U+19E0-19FF, U+200C-200D, U+25CC; }

@font-face { font-family: "Google Sans"; font-style: normal; font-weight: 500; font-display: block; src: url("https://fonts.gstatic.com/s/googlesans/v65/4UasrENHsxJlGDuGo1OIlJfC6l_24rlCK1Yo_Iqcsih3SAyH6cAwhX9RPjsUvbQoi-Entw.woff2") format("woff2"); unicode-range: U+E81-EDF, U+200C-200D, U+25CC; }

@font-face { font-family: "Google Sans"; font-style: normal; font-weight: 500; font-display: block; src: url("https://fonts.gstatic.com/s/googlesans/v65/4UasrENHsxJlGDuGo1OIlJfC6l_24rlCK1Yo_Iqcsih3SAyH6cAwhX9RPioUvbQoi-Entw.woff2") format("woff2"); unicode-range: U+307, U+323, U+951-952, U+964-965, U+D00-D7F, U+1CDA, U+1CF2, U+200C-200D, U+20B9, U+25CC, U+A830-A832; }

@font-face { font-family: "Google Sans"; font-style: normal; font-weight: 500; font-display: block; src: url("https://fonts.gstatic.com/s/googlesans/v65/4UasrENHsxJlGDuGo1OIlJfC6l_24rlCK1Yo_Iqcsih3SAyH6cAwhX9RPisUvbQoi-Entw.woff2") format("woff2"); unicode-range: U+951-952, U+964-965, U+B01-B77, U+1CDA, U+1CF2, U+200C-200D, U+20B9, U+25CC; }

@font-face { font-family: "Google Sans"; font-style: normal; font-weight: 500; font-display: block; src: url("https://fonts.gstatic.com/s/googlesans/v65/4UasrENHsxJlGDuGo1OIlJfC6l_24rlCK1Yo_Iqcsih3SAyH6cAwhX9RPi8UvbQoi-Entw.woff2") format("woff2"); unicode-range: U+964-965, U+D81-DF4, U+1CF2, U+200C-200D, U+25CC, U+111E1-111F4; }

@font-face { font-family: "Google Sans"; font-style: normal; font-weight: 500; font-display: block; src: url("https://fonts.gstatic.com/s/googlesans/v65/4UasrENHsxJlGDuGo1OIlJfC6l_24rlCK1Yo_Iqcsih3SAyH6cAwhX9RPlwUvbQoi-Entw.woff2") format("woff2"); unicode-range: U+1-C, U+E-1F, U+7F-9F, U+20DD-20E0, U+20E2-20E4, U+2150-218F, U+2190, U+2192, U+2194-2199, U+21AF, U+21E6-21F0, U+21F3, U+2218-2219, U+2299, U+22C4-22C6, U+2300-243F, U+2440-244A, U+2460-24FF, U+25A0-27BF, U+2800-28FF, U+2921-2922, U+2981, U+29BF, U+29EB, U+2B00-2BFF, U+4DC0-4DFF, U+FFF9-FFFB, U+10140-1018E, U+10190-1019C, U+101A0, U+101D0-101FD, U+102E0-102FB, U+10E60-10E7E, U+1D2C0-1D2D3, U+1D2E0-1D37F, U+1F000-1F0FF, U+1F100-1F1AD, U+1F1E6-1F1FF, U+1F30D-1F30F, U+1F315, U+1F31C, U+1F31E, U+1F320-1F32C, U+1F336, U+1F378, U+1F37D, U+1F382, U+1F393-1F39F, U+1F3A7-1F3A8, U+1F3AC-1F3AF, U+1F3C2, U+1F3C4-1F3C6, U+1F3CA-1F3CE, U+1F3D4-1F3E0, U+1F3ED, U+1F3F1-1F3F3, U+1F3F5-1F3F7, U+1F408, U+1F415, U+1F41F, U+1F426, U+1F43F, U+1F441-1F442, U+1F444, U+1F446-1F449, U+1F44C-1F44E, U+1F453, U+1F46A, U+1F47D, U+1F4A3, U+1F4B0, U+1F4B3, U+1F4B9, U+1F4BB, U+1F4BF, U+1F4C8-1F4CB, U+1F4D6, U+1F4DA, U+1F4DF, U+1F4E3-1F4E6, U+1F4EA-1F4ED, U+1F4F7, U+1F4F9-1F4FB, U+1F4FD-1F4FE, U+1F503, U+1F507-1F50B, U+1F50D, U+1F512-1F513, U+1F53E-1F54A, U+1F54F-1F5FA, U+1F610, U+1F650-1F67F, U+1F687, U+1F68D, U+1F691, U+1F694, U+1F698, U+1F6AD, U+1F6B2, U+1F6B9-1F6BA, U+1F6BC, U+1F6C6-1F6CF, U+1F6D3-1F6D7, U+1F6E0-1F6EA, U+1F6F0-1F6F3, U+1F6F7-1F6FC, U+1F700-1F7FF, U+1F800-1F80B, U+1F810-1F847, U+1F850-1F859, U+1F860-1F887, U+1F890-1F8AD, U+1F8B0-1F8BB, U+1F8C0-1F8C1, U+1F900-1F90B, U+1F93B, U+1F946, U+1F984, U+1F996, U+1F9E9, U+1FA00-1FA6F, U+1FA70-1FA7C, U+1FA80-1FA89, U+1FA8F-1FAC6, U+1FACE-1FADC, U+1FADF-1FAE9, U+1FAF0-1FAF8, U+1FB00-1FBFF; }

@font-face { font-family: "Google Sans"; font-style: normal; font-weight: 500; font-display: block; src: url("https://fonts.gstatic.com/s/googlesans/v65/4UasrENHsxJlGDuGo1OIlJfC6l_24rlCK1Yo_Iqcsih3SAyH6cAwhX9RPiQUvbQoi-Entw.woff2") format("woff2"); unicode-range: U+964-965, U+B82-BFA, U+200C-200D, U+20B9, U+25CC; }

@font-face { font-family: "Google Sans"; font-style: normal; font-weight: 500; font-display: block; src: url("https://fonts.gstatic.com/s/googlesans/v65/4UasrENHsxJlGDuGo1OIlJfC6l_24rlCK1Yo_Iqcsih3SAyH6cAwhX9RPi4UvbQoi-Entw.woff2") format("woff2"); unicode-range: U+951-952, U+964-965, U+C00-C7F, U+1CDA, U+1CF2, U+200C-200D, U+25CC; }

@font-face { font-family: "Google Sans"; font-style: normal; font-weight: 500; font-display: block; src: url("https://fonts.gstatic.com/s/googlesans/v65/4UasrENHsxJlGDuGo1OIlJfC6l_24rlCK1Yo_Iqcsih3SAyH6cAwhX9RPiYUvbQoi-Entw.woff2") format("woff2"); unicode-range: U+2D7, U+303, U+331, U+E01-E5B, U+200C-200D, U+25CC; }

@font-face { font-family: "Google Sans"; font-style: normal; font-weight: 500; font-display: block; src: local("Google Sans Medium"), local("GoogleSans-Medium"), url("https://fonts.gstatic.com/s/googlesans/v65/4UasrENHsxJlGDuGo1OIlJfC6l_24rlCK1Yo_Iqcsih3SAyH6cAwhX9RPj0UvbQoi-Entw.woff2") format("woff2"); unicode-range: U+102-103, U+110-111, U+128-129, U+168-169, U+1A0-1A1, U+1AF-1B0, U+300-301, U+303-304, U+308-309, U+323, U+329, U+1EA0-1EF9, U+20AB; }

@font-face { font-family: "Google Sans"; font-style: normal; font-weight: 500; font-display: block; src: local("Google Sans Medium"), local("GoogleSans-Medium"), url("https://fonts.gstatic.com/s/googlesans/v65/4UasrENHsxJlGDuGo1OIlJfC6l_24rlCK1Yo_Iqcsih3SAyH6cAwhX9RPjwUvbQoi-Entw.woff2") format("woff2"); unicode-range: U+100-2BA, U+2BD-2C5, U+2C7-2CC, U+2CE-2D7, U+2DD-2FF, U+304, U+308, U+329, U+1D00-1DBF, U+1E00-1E9F, U+1EF2-1EFF, U+2020, U+20A0-20AB, U+20AD-20C0, U+2113, U+2C60-2C7F, U+A720-A7FF; }

@font-face { font-family: "Google Sans"; font-style: normal; font-weight: 500; font-display: block; src: local("Google Sans Medium"), local("GoogleSans-Medium"), url("https://fonts.gstatic.com/s/googlesans/v65/4UasrENHsxJlGDuGo1OIlJfC6l_24rlCK1Yo_Iqcsih3SAyH6cAwhX9RPjIUvbQoi-E.woff2") format("woff2"); unicode-range: U+0-FF, U+131, U+152-153, U+2BB-2BC, U+2C6, U+2DA, U+2DC, U+304, U+308, U+329, U+2000-206F, U+20AC, U+2122, U+2191, U+2193, U+2212, U+2215, U+FEFF, U+FFFD; }

@font-face { font-family: "Google Sans"; font-style: normal; font-weight: 600; font-display: block; src: url("https://fonts.gstatic.com/s/googlesans/v65/4UasrENHsxJlGDuGo1OIlJfC6l_24rlCK1Yo_Iqcsih3SAyH6cAwhX9RPiIUvbQoi-Entw.woff2") format("woff2"); unicode-range: U+308, U+530-58F, U+2010, U+2024, U+25CC, U+FB13-FB17; }

@font-face { font-family: "Google Sans"; font-style: normal; font-weight: 600; font-display: block; src: url("https://fonts.gstatic.com/s/googlesans/v65/4UasrENHsxJlGDuGo1OIlJfC6l_24rlCK1Yo_Iqcsih3SAyH6cAwhX9RPiAUvbQoi-Entw.woff2") format("woff2"); unicode-range: U+951-952, U+964-965, U+980-9FE, U+1CD0, U+1CD2, U+1CD5-1CD6, U+1CD8, U+1CE1, U+1CEA, U+1CED, U+1CF2, U+1CF5-1CF7, U+200C-200D, U+20B9, U+25CC, U+A8F1; }

@font-face { font-family: "Google Sans"; font-style: normal; font-weight: 600; font-display: block; src: url("https://fonts.gstatic.com/s/googlesans/v65/4UasrENHsxJlGDuGo1OIlJfC6l_24rlCK1Yo_Iqcsih3SAyH6cAwhX9RPh0UvbQoi-Entw.woff2") format("woff2"); unicode-range: U+2C7, U+2D8-2D9, U+2DB, U+307, U+1400-167F, U+18B0-18F5, U+25CC, U+11AB0-11ABF; }

@font-face { font-family: "Google Sans"; font-style: normal; font-weight: 600; font-display: block; src: url("https://fonts.gstatic.com/s/googlesans/v65/4UasrENHsxJlGDuGo1OIlJfC6l_24rlCK1Yo_Iqcsih3SAyH6cAwhX9RPj8UvbQoi-Entw.woff2") format("woff2"); unicode-range: U+460-52F, U+1C80-1C8A, U+20B4, U+2DE0-2DFF, U+A640-A69F, U+FE2E-FE2F; }

@font-face { font-family: "Google Sans"; font-style: normal; font-weight: 600; font-display: block; src: url("https://fonts.gstatic.com/s/googlesans/v65/4UasrENHsxJlGDuGo1OIlJfC6l_24rlCK1Yo_Iqcsih3SAyH6cAwhX9RPjYUvbQoi-Entw.woff2") format("woff2"); unicode-range: U+301, U+400-45F, U+490-491, U+4B0-4B1, U+2116; }

@font-face { font-family: "Google Sans"; font-style: normal; font-weight: 600; font-display: block; src: url("https://fonts.gstatic.com/s/googlesans/v65/4UasrENHsxJlGDuGo1OIlJfC6l_24rlCK1Yo_Iqcsih3SAyH6cAwhX9RPjMUvbQoi-Entw.woff2") format("woff2"); unicode-range: U+900-97F, U+1CD0-1CF9, U+200C-200D, U+20A8, U+20B9, U+20F0, U+25CC, U+A830-A839, U+A8E0-A8FF, U+11B00-11B09; }

@font-face { font-family: "Google Sans"; font-style: normal; font-weight: 600; font-display: block; src: url("https://fonts.gstatic.com/s/googlesans/v65/4UasrENHsxJlGDuGo1OIlJfC6l_24rlCK1Yo_Iqcsih3SAyH6cAwhX9RPiMUvbQoi-Entw.woff2") format("woff2"); unicode-range: U+30E, U+1200-1399, U+2D80-2DDE, U+AB01-AB2E, U+1E7E0-1E7E6, U+1E7E8-1E7EB, U+1E7ED-1E7EE, U+1E7F0-1E7FE; }

@font-face { font-family: "Google Sans"; font-style: normal; font-weight: 600; font-display: block; src: url("https://fonts.gstatic.com/s/googlesans/v65/4UasrENHsxJlGDuGo1OIlJfC6l_24rlCK1Yo_Iqcsih3SAyH6cAwhX9RPi0UvbQoi-Entw.woff2") format("woff2"); unicode-range: U+589, U+10A0-10FF, U+1C90-1CBA, U+1CBD-1CBF, U+205A, U+2D00-2D2F, U+2E31; }

@font-face { font-family: "Google Sans"; font-style: normal; font-weight: 600; font-display: block; src: url("https://fonts.gstatic.com/s/googlesans/v65/4UasrENHsxJlGDuGo1OIlJfC6l_24rlCK1Yo_Iqcsih3SAyH6cAwhX9RPj4UvbQoi-Entw.woff2") format("woff2"); unicode-range: U+1F00-1FFF; }

@font-face { font-family: "Google Sans"; font-style: normal; font-weight: 600; font-display: block; src: url("https://fonts.gstatic.com/s/googlesans/v65/4UasrENHsxJlGDuGo1OIlJfC6l_24rlCK1Yo_Iqcsih3SAyH6cAwhX9RPjEUvbQoi-Entw.woff2") format("woff2"); unicode-range: U+370-377, U+37A-37F, U+384-38A, U+38C, U+38E-3A1, U+3A3-3FF; }

@font-face { font-family: "Google Sans"; font-style: normal; font-weight: 600; font-display: block; src: url("https://fonts.gstatic.com/s/googlesans/v65/4UasrENHsxJlGDuGo1OIlJfC6l_24rlCK1Yo_Iqcsih3SAyH6cAwhX9RPikUvbQoi-Entw.woff2") format("woff2"); unicode-range: U+951-952, U+964-965, U+A80-AFF, U+200C-200D, U+20B9, U+25CC, U+A830-A839; }

@font-face { font-family: "Google Sans"; font-style: normal; font-weight: 600; font-display: block; src: url("https://fonts.gstatic.com/s/googlesans/v65/4UasrENHsxJlGDuGo1OIlJfC6l_24rlCK1Yo_Iqcsih3SAyH6cAwhX9RPhEUvbQoi-Entw.woff2") format("woff2"); unicode-range: U+951-952, U+964-965, U+A01-A76, U+200C-200D, U+20B9, U+25CC, U+262C, U+A830-A839; }

@font-face { font-family: "Google Sans"; font-style: normal; font-weight: 600; font-display: block; src: url("https://fonts.gstatic.com/s/googlesans/v65/4UasrENHsxJlGDuGo1OIlJfC6l_24rlCK1Yo_Iqcsih3SAyH6cAwhX9RPjAUvbQoi-Entw.woff2") format("woff2"); unicode-range: U+307-308, U+590-5FF, U+200C-2010, U+20AA, U+25CC, U+FB1D-FB4F; }

@font-face { font-family: "Google Sans"; font-style: normal; font-weight: 600; font-display: block; src: url("https://fonts.gstatic.com/s/googlesans/v65/4UasrENHsxJlGDuGo1OIlJfC6l_24rlCK1Yo_Iqcsih3SAyH6cAwhX9RPjkUvbQoi-Entw.woff2") format("woff2"); unicode-range: U+1780-17FF, U+19E0-19FF, U+200C-200D, U+25CC; }

@font-face { font-family: "Google Sans"; font-style: normal; font-weight: 600; font-display: block; src: url("https://fonts.gstatic.com/s/googlesans/v65/4UasrENHsxJlGDuGo1OIlJfC6l_24rlCK1Yo_Iqcsih3SAyH6cAwhX9RPjsUvbQoi-Entw.woff2") format("woff2"); unicode-range: U+E81-EDF, U+200C-200D, U+25CC; }

@font-face { font-family: "Google Sans"; font-style: normal; font-weight: 600; font-display: block; src: url("https://fonts.gstatic.com/s/googlesans/v65/4UasrENHsxJlGDuGo1OIlJfC6l_24rlCK1Yo_Iqcsih3SAyH6cAwhX9RPioUvbQoi-Entw.woff2") format("woff2"); unicode-range: U+307, U+323, U+951-952, U+964-965, U+D00-D7F, U+1CDA, U+1CF2, U+200C-200D, U+20B9, U+25CC, U+A830-A832; }

@font-face { font-family: "Google Sans"; font-style: normal; font-weight: 600; font-display: block; src: url("https://fonts.gstatic.com/s/googlesans/v65/4UasrENHsxJlGDuGo1OIlJfC6l_24rlCK1Yo_Iqcsih3SAyH6cAwhX9RPisUvbQoi-Entw.woff2") format("woff2"); unicode-range: U+951-952, U+964-965, U+B01-B77, U+1CDA, U+1CF2, U+200C-200D, U+20B9, U+25CC; }

@font-face { font-family: "Google Sans"; font-style: normal; font-weight: 600; font-display: block; src: url("https://fonts.gstatic.com/s/googlesans/v65/4UasrENHsxJlGDuGo1OIlJfC6l_24rlCK1Yo_Iqcsih3SAyH6cAwhX9RPi8UvbQoi-Entw.woff2") format("woff2"); unicode-range: U+964-965, U+D81-DF4, U+1CF2, U+200C-200D, U+25CC, U+111E1-111F4; }

@font-face { font-family: "Google Sans"; font-style: normal; font-weight: 600; font-display: block; src: url("https://fonts.gstatic.com/s/googlesans/v65/4UasrENHsxJlGDuGo1OIlJfC6l_24rlCK1Yo_Iqcsih3SAyH6cAwhX9RPlwUvbQoi-Entw.woff2") format("woff2"); unicode-range: U+1-C, U+E-1F, U+7F-9F, U+20DD-20E0, U+20E2-20E4, U+2150-218F, U+2190, U+2192, U+2194-2199, U+21AF, U+21E6-21F0, U+21F3, U+2218-2219, U+2299, U+22C4-22C6, U+2300-243F, U+2440-244A, U+2460-24FF, U+25A0-27BF, U+2800-28FF, U+2921-2922, U+2981, U+29BF, U+29EB, U+2B00-2BFF, U+4DC0-4DFF, U+FFF9-FFFB, U+10140-1018E, U+10190-1019C, U+101A0, U+101D0-101FD, U+102E0-102FB, U+10E60-10E7E, U+1D2C0-1D2D3, U+1D2E0-1D37F, U+1F000-1F0FF, U+1F100-1F1AD, U+1F1E6-1F1FF, U+1F30D-1F30F, U+1F315, U+1F31C, U+1F31E, U+1F320-1F32C, U+1F336, U+1F378, U+1F37D, U+1F382, U+1F393-1F39F, U+1F3A7-1F3A8, U+1F3AC-1F3AF, U+1F3C2, U+1F3C4-1F3C6, U+1F3CA-1F3CE, U+1F3D4-1F3E0, U+1F3ED, U+1F3F1-1F3F3, U+1F3F5-1F3F7, U+1F408, U+1F415, U+1F41F, U+1F426, U+1F43F, U+1F441-1F442, U+1F444, U+1F446-1F449, U+1F44C-1F44E, U+1F453, U+1F46A, U+1F47D, U+1F4A3, U+1F4B0, U+1F4B3, U+1F4B9, U+1F4BB, U+1F4BF, U+1F4C8-1F4CB, U+1F4D6, U+1F4DA, U+1F4DF, U+1F4E3-1F4E6, U+1F4EA-1F4ED, U+1F4F7, U+1F4F9-1F4FB, U+1F4FD-1F4FE, U+1F503, U+1F507-1F50B, U+1F50D, U+1F512-1F513, U+1F53E-1F54A, U+1F54F-1F5FA, U+1F610, U+1F650-1F67F, U+1F687, U+1F68D, U+1F691, U+1F694, U+1F698, U+1F6AD, U+1F6B2, U+1F6B9-1F6BA, U+1F6BC, U+1F6C6-1F6CF, U+1F6D3-1F6D7, U+1F6E0-1F6EA, U+1F6F0-1F6F3, U+1F6F7-1F6FC, U+1F700-1F7FF, U+1F800-1F80B, U+1F810-1F847, U+1F850-1F859, U+1F860-1F887, U+1F890-1F8AD, U+1F8B0-1F8BB, U+1F8C0-1F8C1, U+1F900-1F90B, U+1F93B, U+1F946, U+1F984, U+1F996, U+1F9E9, U+1FA00-1FA6F, U+1FA70-1FA7C, U+1FA80-1FA89, U+1FA8F-1FAC6, U+1FACE-1FADC, U+1FADF-1FAE9, U+1FAF0-1FAF8, U+1FB00-1FBFF; }

@font-face { font-family: "Google Sans"; font-style: normal; font-weight: 600; font-display: block; src: url("https://fonts.gstatic.com/s/googlesans/v65/4UasrENHsxJlGDuGo1OIlJfC6l_24rlCK1Yo_Iqcsih3SAyH6cAwhX9RPiQUvbQoi-Entw.woff2") format("woff2"); unicode-range: U+964-965, U+B82-BFA, U+200C-200D, U+20B9, U+25CC; }

@font-face { font-family: "Google Sans"; font-style: normal; font-weight: 600; font-display: block; src: url("https://fonts.gstatic.com/s/googlesans/v65/4UasrENHsxJlGDuGo1OIlJfC6l_24rlCK1Yo_Iqcsih3SAyH6cAwhX9RPi4UvbQoi-Entw.woff2") format("woff2"); unicode-range: U+951-952, U+964-965, U+C00-C7F, U+1CDA, U+1CF2, U+200C-200D, U+25CC; }

@font-face { font-family: "Google Sans"; font-style: normal; font-weight: 600; font-display: block; src: url("https://fonts.gstatic.com/s/googlesans/v65/4UasrENHsxJlGDuGo1OIlJfC6l_24rlCK1Yo_Iqcsih3SAyH6cAwhX9RPiYUvbQoi-Entw.woff2") format("woff2"); unicode-range: U+2D7, U+303, U+331, U+E01-E5B, U+200C-200D, U+25CC; }

@font-face { font-family: "Google Sans"; font-style: normal; font-weight: 600; font-display: block; src: url("https://fonts.gstatic.com/s/googlesans/v65/4UasrENHsxJlGDuGo1OIlJfC6l_24rlCK1Yo_Iqcsih3SAyH6cAwhX9RPj0UvbQoi-Entw.woff2") format("woff2"); unicode-range: U+102-103, U+110-111, U+128-129, U+168-169, U+1A0-1A1, U+1AF-1B0, U+300-301, U+303-304, U+308-309, U+323, U+329, U+1EA0-1EF9, U+20AB; }

@font-face { font-family: "Google Sans"; font-style: normal; font-weight: 600; font-display: block; src: url("https://fonts.gstatic.com/s/googlesans/v65/4UasrENHsxJlGDuGo1OIlJfC6l_24rlCK1Yo_Iqcsih3SAyH6cAwhX9RPjwUvbQoi-Entw.woff2") format("woff2"); unicode-range: U+100-2BA, U+2BD-2C5, U+2C7-2CC, U+2CE-2D7, U+2DD-2FF, U+304, U+308, U+329, U+1D00-1DBF, U+1E00-1E9F, U+1EF2-1EFF, U+2020, U+20A0-20AB, U+20AD-20C0, U+2113, U+2C60-2C7F, U+A720-A7FF; }

@font-face { font-family: "Google Sans"; font-style: normal; font-weight: 600; font-display: block; src: url("https://fonts.gstatic.com/s/googlesans/v65/4UasrENHsxJlGDuGo1OIlJfC6l_24rlCK1Yo_Iqcsih3SAyH6cAwhX9RPjIUvbQoi-E.woff2") format("woff2"); unicode-range: U+0-FF, U+131, U+152-153, U+2BB-2BC, U+2C6, U+2DA, U+2DC, U+304, U+308, U+329, U+2000-206F, U+20AC, U+2122, U+2191, U+2193, U+2212, U+2215, U+FEFF, U+FFFD; }

@font-face { font-family: "Google Sans"; font-style: normal; font-weight: 700; font-display: block; src: url("https://fonts.gstatic.com/s/googlesans/v65/4UasrENHsxJlGDuGo1OIlJfC6l_24rlCK1Yo_Iqcsih3SAyH6cAwhX9RPiIUvbQoi-Entw.woff2") format("woff2"); unicode-range: U+308, U+530-58F, U+2010, U+2024, U+25CC, U+FB13-FB17; }

@font-face { font-family: "Google Sans"; font-style: normal; font-weight: 700; font-display: block; src: url("https://fonts.gstatic.com/s/googlesans/v65/4UasrENHsxJlGDuGo1OIlJfC6l_24rlCK1Yo_Iqcsih3SAyH6cAwhX9RPiAUvbQoi-Entw.woff2") format("woff2"); unicode-range: U+951-952, U+964-965, U+980-9FE, U+1CD0, U+1CD2, U+1CD5-1CD6, U+1CD8, U+1CE1, U+1CEA, U+1CED, U+1CF2, U+1CF5-1CF7, U+200C-200D, U+20B9, U+25CC, U+A8F1; }

@font-face { font-family: "Google Sans"; font-style: normal; font-weight: 700; font-display: block; src: url("https://fonts.gstatic.com/s/googlesans/v65/4UasrENHsxJlGDuGo1OIlJfC6l_24rlCK1Yo_Iqcsih3SAyH6cAwhX9RPh0UvbQoi-Entw.woff2") format("woff2"); unicode-range: U+2C7, U+2D8-2D9, U+2DB, U+307, U+1400-167F, U+18B0-18F5, U+25CC, U+11AB0-11ABF; }

@font-face { font-family: "Google Sans"; font-style: normal; font-weight: 700; font-display: block; src: local("Google Sans Bold"), local("GoogleSans-Bold"), url("https://fonts.gstatic.com/s/googlesans/v65/4UasrENHsxJlGDuGo1OIlJfC6l_24rlCK1Yo_Iqcsih3SAyH6cAwhX9RPj8UvbQoi-Entw.woff2") format("woff2"); unicode-range: U+460-52F, U+1C80-1C8A, U+20B4, U+2DE0-2DFF, U+A640-A69F, U+FE2E-FE2F; }

@font-face { font-family: "Google Sans"; font-style: normal; font-weight: 700; font-display: block; src: local("Google Sans Bold"), local("GoogleSans-Bold"), url("https://fonts.gstatic.com/s/googlesans/v65/4UasrENHsxJlGDuGo1OIlJfC6l_24rlCK1Yo_Iqcsih3SAyH6cAwhX9RPjYUvbQoi-Entw.woff2") format("woff2"); unicode-range: U+301, U+400-45F, U+490-491, U+4B0-4B1, U+2116; }

@font-face { font-family: "Google Sans"; font-style: normal; font-weight: 700; font-display: block; src: url("https://fonts.gstatic.com/s/googlesans/v65/4UasrENHsxJlGDuGo1OIlJfC6l_24rlCK1Yo_Iqcsih3SAyH6cAwhX9RPjMUvbQoi-Entw.woff2") format("woff2"); unicode-range: U+900-97F, U+1CD0-1CF9, U+200C-200D, U+20A8, U+20B9, U+20F0, U+25CC, U+A830-A839, U+A8E0-A8FF, U+11B00-11B09; }

@font-face { font-family: "Google Sans"; font-style: normal; font-weight: 700; font-display: block; src: url("https://fonts.gstatic.com/s/googlesans/v65/4UasrENHsxJlGDuGo1OIlJfC6l_24rlCK1Yo_Iqcsih3SAyH6cAwhX9RPiMUvbQoi-Entw.woff2") format("woff2"); unicode-range: U+30E, U+1200-1399, U+2D80-2DDE, U+AB01-AB2E, U+1E7E0-1E7E6, U+1E7E8-1E7EB, U+1E7ED-1E7EE, U+1E7F0-1E7FE; }

@font-face { font-family: "Google Sans"; font-style: normal; font-weight: 700; font-display: block; src: url("https://fonts.gstatic.com/s/googlesans/v65/4UasrENHsxJlGDuGo1OIlJfC6l_24rlCK1Yo_Iqcsih3SAyH6cAwhX9RPi0UvbQoi-Entw.woff2") format("woff2"); unicode-range: U+589, U+10A0-10FF, U+1C90-1CBA, U+1CBD-1CBF, U+205A, U+2D00-2D2F, U+2E31; }

@font-face { font-family: "Google Sans"; font-style: normal; font-weight: 700; font-display: block; src: local("Google Sans Bold"), local("GoogleSans-Bold"), url("https://fonts.gstatic.com/s/googlesans/v65/4UasrENHsxJlGDuGo1OIlJfC6l_24rlCK1Yo_Iqcsih3SAyH6cAwhX9RPj4UvbQoi-Entw.woff2") format("woff2"); unicode-range: U+1F00-1FFF; }

@font-face { font-family: "Google Sans"; font-style: normal; font-weight: 700; font-display: block; src: local("Google Sans Bold"), local("GoogleSans-Bold"), url("https://fonts.gstatic.com/s/googlesans/v65/4UasrENHsxJlGDuGo1OIlJfC6l_24rlCK1Yo_Iqcsih3SAyH6cAwhX9RPjEUvbQoi-Entw.woff2") format("woff2"); unicode-range: U+370-377, U+37A-37F, U+384-38A, U+38C, U+38E-3A1, U+3A3-3FF; }

@font-face { font-family: "Google Sans"; font-style: normal; font-weight: 700; font-display: block; src: url("https://fonts.gstatic.com/s/googlesans/v65/4UasrENHsxJlGDuGo1OIlJfC6l_24rlCK1Yo_Iqcsih3SAyH6cAwhX9RPikUvbQoi-Entw.woff2") format("woff2"); unicode-range: U+951-952, U+964-965, U+A80-AFF, U+200C-200D, U+20B9, U+25CC, U+A830-A839; }

@font-face { font-family: "Google Sans"; font-style: normal; font-weight: 700; font-display: block; src: url("https://fonts.gstatic.com/s/googlesans/v65/4UasrENHsxJlGDuGo1OIlJfC6l_24rlCK1Yo_Iqcsih3SAyH6cAwhX9RPhEUvbQoi-Entw.woff2") format("woff2"); unicode-range: U+951-952, U+964-965, U+A01-A76, U+200C-200D, U+20B9, U+25CC, U+262C, U+A830-A839; }

@font-face { font-family: "Google Sans"; font-style: normal; font-weight: 700; font-display: block; src: local("Google Sans Bold"), local("GoogleSans-Bold"), url("https://fonts.gstatic.com/s/googlesans/v65/4UasrENHsxJlGDuGo1OIlJfC6l_24rlCK1Yo_Iqcsih3SAyH6cAwhX9RPjAUvbQoi-Entw.woff2") format("woff2"); unicode-range: U+307-308, U+590-5FF, U+200C-2010, U+20AA, U+25CC, U+FB1D-FB4F; }

@font-face { font-family: "Google Sans"; font-style: normal; font-weight: 700; font-display: block; src: url("https://fonts.gstatic.com/s/googlesans/v65/4UasrENHsxJlGDuGo1OIlJfC6l_24rlCK1Yo_Iqcsih3SAyH6cAwhX9RPjkUvbQoi-Entw.woff2") format("woff2"); unicode-range: U+1780-17FF, U+19E0-19FF, U+200C-200D, U+25CC; }

@font-face { font-family: "Google Sans"; font-style: normal; font-weight: 700; font-display: block; src: url("https://fonts.gstatic.com/s/googlesans/v65/4UasrENHsxJlGDuGo1OIlJfC6l_24rlCK1Yo_Iqcsih3SAyH6cAwhX9RPjsUvbQoi-Entw.woff2") format("woff2"); unicode-range: U+E81-EDF, U+200C-200D, U+25CC; }

@font-face { font-family: "Google Sans"; font-style: normal; font-weight: 700; font-display: block; src: url("https://fonts.gstatic.com/s/googlesans/v65/4UasrENHsxJlGDuGo1OIlJfC6l_24rlCK1Yo_Iqcsih3SAyH6cAwhX9RPioUvbQoi-Entw.woff2") format("woff2"); unicode-range: U+307, U+323, U+951-952, U+964-965, U+D00-D7F, U+1CDA, U+1CF2, U+200C-200D, U+20B9, U+25CC, U+A830-A832; }

@font-face { font-family: "Google Sans"; font-style: normal; font-weight: 700; font-display: block; src: url("https://fonts.gstatic.com/s/googlesans/v65/4UasrENHsxJlGDuGo1OIlJfC6l_24rlCK1Yo_Iqcsih3SAyH6cAwhX9RPisUvbQoi-Entw.woff2") format("woff2"); unicode-range: U+951-952, U+964-965, U+B01-B77, U+1CDA, U+1CF2, U+200C-200D, U+20B9, U+25CC; }

@font-face { font-family: "Google Sans"; font-style: normal; font-weight: 700; font-display: block; src: url("https://fonts.gstatic.com/s/googlesans/v65/4UasrENHsxJlGDuGo1OIlJfC6l_24rlCK1Yo_Iqcsih3SAyH6cAwhX9RPi8UvbQoi-Entw.woff2") format("woff2"); unicode-range: U+964-965, U+D81-DF4, U+1CF2, U+200C-200D, U+25CC, U+111E1-111F4; }

@font-face { font-family: "Google Sans"; font-style: normal; font-weight: 700; font-display: block; src: url("https://fonts.gstatic.com/s/googlesans/v65/4UasrENHsxJlGDuGo1OIlJfC6l_24rlCK1Yo_Iqcsih3SAyH6cAwhX9RPlwUvbQoi-Entw.woff2") format("woff2"); unicode-range: U+1-C, U+E-1F, U+7F-9F, U+20DD-20E0, U+20E2-20E4, U+2150-218F, U+2190, U+2192, U+2194-2199, U+21AF, U+21E6-21F0, U+21F3, U+2218-2219, U+2299, U+22C4-22C6, U+2300-243F, U+2440-244A, U+2460-24FF, U+25A0-27BF, U+2800-28FF, U+2921-2922, U+2981, U+29BF, U+29EB, U+2B00-2BFF, U+4DC0-4DFF, U+FFF9-FFFB, U+10140-1018E, U+10190-1019C, U+101A0, U+101D0-101FD, U+102E0-102FB, U+10E60-10E7E, U+1D2C0-1D2D3, U+1D2E0-1D37F, U+1F000-1F0FF, U+1F100-1F1AD, U+1F1E6-1F1FF, U+1F30D-1F30F, U+1F315, U+1F31C, U+1F31E, U+1F320-1F32C, U+1F336, U+1F378, U+1F37D, U+1F382, U+1F393-1F39F, U+1F3A7-1F3A8, U+1F3AC-1F3AF, U+1F3C2, U+1F3C4-1F3C6, U+1F3CA-1F3CE, U+1F3D4-1F3E0, U+1F3ED, U+1F3F1-1F3F3, U+1F3F5-1F3F7, U+1F408, U+1F415, U+1F41F, U+1F426, U+1F43F, U+1F441-1F442, U+1F444, U+1F446-1F449, U+1F44C-1F44E, U+1F453, U+1F46A, U+1F47D, U+1F4A3, U+1F4B0, U+1F4B3, U+1F4B9, U+1F4BB, U+1F4BF, U+1F4C8-1F4CB, U+1F4D6, U+1F4DA, U+1F4DF, U+1F4E3-1F4E6, U+1F4EA-1F4ED, U+1F4F7, U+1F4F9-1F4FB, U+1F4FD-1F4FE, U+1F503, U+1F507-1F50B, U+1F50D, U+1F512-1F513, U+1F53E-1F54A, U+1F54F-1F5FA, U+1F610, U+1F650-1F67F, U+1F687, U+1F68D, U+1F691, U+1F694, U+1F698, U+1F6AD, U+1F6B2, U+1F6B9-1F6BA, U+1F6BC, U+1F6C6-1F6CF, U+1F6D3-1F6D7, U+1F6E0-1F6EA, U+1F6F0-1F6F3, U+1F6F7-1F6FC, U+1F700-1F7FF, U+1F800-1F80B, U+1F810-1F847, U+1F850-1F859, U+1F860-1F887, U+1F890-1F8AD, U+1F8B0-1F8BB, U+1F8C0-1F8C1, U+1F900-1F90B, U+1F93B, U+1F946, U+1F984, U+1F996, U+1F9E9, U+1FA00-1FA6F, U+1FA70-1FA7C, U+1FA80-1FA89, U+1FA8F-1FAC6, U+1FACE-1FADC, U+1FADF-1FAE9, U+1FAF0-1FAF8, U+1FB00-1FBFF; }

@font-face { font-family: "Google Sans"; font-style: normal; font-weight: 700; font-display: block; src: url("https://fonts.gstatic.com/s/googlesans/v65/4UasrENHsxJlGDuGo1OIlJfC6l_24rlCK1Yo_Iqcsih3SAyH6cAwhX9RPiQUvbQoi-Entw.woff2") format("woff2"); unicode-range: U+964-965, U+B82-BFA, U+200C-200D, U+20B9, U+25CC; }

@font-face { font-family: "Google Sans"; font-style: normal; font-weight: 700; font-display: block; src: url("https://fonts.gstatic.com/s/googlesans/v65/4UasrENHsxJlGDuGo1OIlJfC6l_24rlCK1Yo_Iqcsih3SAyH6cAwhX9RPi4UvbQoi-Entw.woff2") format("woff2"); unicode-range: U+951-952, U+964-965, U+C00-C7F, U+1CDA, U+1CF2, U+200C-200D, U+25CC; }

@font-face { font-family: "Google Sans"; font-style: normal; font-weight: 700; font-display: block; src: url("https://fonts.gstatic.com/s/googlesans/v65/4UasrENHsxJlGDuGo1OIlJfC6l_24rlCK1Yo_Iqcsih3SAyH6cAwhX9RPiYUvbQoi-Entw.woff2") format("woff2"); unicode-range: U+2D7, U+303, U+331, U+E01-E5B, U+200C-200D, U+25CC; }

@font-face { font-family: "Google Sans"; font-style: normal; font-weight: 700; font-display: block; src: local("Google Sans Bold"), local("GoogleSans-Bold"), url("https://fonts.gstatic.com/s/googlesans/v65/4UasrENHsxJlGDuGo1OIlJfC6l_24rlCK1Yo_Iqcsih3SAyH6cAwhX9RPj0UvbQoi-Entw.woff2") format("woff2"); unicode-range: U+102-103, U+110-111, U+128-129, U+168-169, U+1A0-1A1, U+1AF-1B0, U+300-301, U+303-304, U+308-309, U+323, U+329, U+1EA0-1EF9, U+20AB; }

@font-face { font-family: "Google Sans"; font-style: normal; font-weight: 700; font-display: block; src: local("Google Sans Bold"), local("GoogleSans-Bold"), url("https://fonts.gstatic.com/s/googlesans/v65/4UasrENHsxJlGDuGo1OIlJfC6l_24rlCK1Yo_Iqcsih3SAyH6cAwhX9RPjwUvbQoi-Entw.woff2") format("woff2"); unicode-range: U+100-2BA, U+2BD-2C5, U+2C7-2CC, U+2CE-2D7, U+2DD-2FF, U+304, U+308, U+329, U+1D00-1DBF, U+1E00-1E9F, U+1EF2-1EFF, U+2020, U+20A0-20AB, U+20AD-20C0, U+2113, U+2C60-2C7F, U+A720-A7FF; }

@font-face { font-family: "Google Sans"; font-style: normal; font-weight: 700; font-display: block; src: local("Google Sans Bold"), local("GoogleSans-Bold"), url("https://fonts.gstatic.com/s/googlesans/v65/4UasrENHsxJlGDuGo1OIlJfC6l_24rlCK1Yo_Iqcsih3SAyH6cAwhX9RPjIUvbQoi-E.woff2") format("woff2"); unicode-range: U+0-FF, U+131, U+152-153, U+2BB-2BC, U+2C6, U+2DA, U+2DC, U+304, U+308, U+329, U+2000-206F, U+20AC, U+2122, U+2191, U+2193, U+2212, U+2215, U+FEFF, U+FFFD; }

@font-face { font-family: "Google Sans Text"; font-style: normal; font-weight: 400; font-display: block; src: url("https://fonts.gstatic.com/s/googlesanstext/v24/5aUu9-KzpRiLCAt4Unrc-xIKmCU5qFp2i0VBuxOCBA.woff2") format("woff2"); unicode-range: U+308, U+530-58F, U+2010, U+2024, U+25CC, U+FB13-FB17; }

@font-face { font-family: "Google Sans Text"; font-style: normal; font-weight: 400; font-display: block; src: url("https://fonts.gstatic.com/s/googlesanstext/v24/5aUu9-KzpRiLCAt4Unrc-xIKmCU5qFh2i0VBuxOCBA.woff2") format("woff2"); unicode-range: U+951-952, U+964-965, U+980-9FE, U+1CD0, U+1CD2, U+1CD5-1CD6, U+1CD8, U+1CE1, U+1CEA, U+1CED, U+1CF2, U+1CF5-1CF7, U+200C-200D, U+20B9, U+25CC, U+A8F1; }

@font-face { font-family: "Google Sans Text"; font-style: normal; font-weight: 400; font-display: block; src: url("https://fonts.gstatic.com/s/googlesanstext/v24/5aUu9-KzpRiLCAt4Unrc-xIKmCU5qGV2i0VBuxOCBA.woff2") format("woff2"); unicode-range: U+2C7, U+2D8-2D9, U+2DB, U+307, U+1400-167F, U+18B0-18F5, U+25CC, U+11AB0-11ABF; }

@font-face { font-family: "Google Sans Text"; font-style: normal; font-weight: 400; font-display: block; src: url("https://fonts.gstatic.com/s/googlesanstext/v24/5aUu9-KzpRiLCAt4Unrc-xIKmCU5qEd2i0VBuxOCBA.woff2") format("woff2"); unicode-range: U+460-52F, U+1C80-1C8A, U+20B4, U+2DE0-2DFF, U+A640-A69F, U+FE2E-FE2F; }

@font-face { font-family: "Google Sans Text"; font-style: normal; font-weight: 400; font-display: block; src: url("https://fonts.gstatic.com/s/googlesanstext/v24/5aUu9-KzpRiLCAt4Unrc-xIKmCU5qE52i0VBuxOCBA.woff2") format("woff2"); unicode-range: U+301, U+400-45F, U+490-491, U+4B0-4B1, U+2116; }

@font-face { font-family: "Google Sans Text"; font-style: normal; font-weight: 400; font-display: block; src: url("https://fonts.gstatic.com/s/googlesanstext/v24/5aUu9-KzpRiLCAt4Unrc-xIKmCU5qEt2i0VBuxOCBA.woff2") format("woff2"); unicode-range: U+900-97F, U+1CD0-1CF9, U+200C-200D, U+20A8, U+20B9, U+20F0, U+25CC, U+A830-A839, U+A8E0-A8FF, U+11B00-11B09; }

@font-face { font-family: "Google Sans Text"; font-style: normal; font-weight: 400; font-display: block; src: url("https://fonts.gstatic.com/s/googlesanstext/v24/5aUu9-KzpRiLCAt4Unrc-xIKmCU5qFt2i0VBuxOCBA.woff2") format("woff2"); unicode-range: U+30E, U+1200-1399, U+2D80-2DDE, U+AB01-AB2E, U+1E7E0-1E7E6, U+1E7E8-1E7EB, U+1E7ED-1E7EE, U+1E7F0-1E7FE; }

@font-face { font-family: "Google Sans Text"; font-style: normal; font-weight: 400; font-display: block; src: url("https://fonts.gstatic.com/s/googlesanstext/v24/5aUu9-KzpRiLCAt4Unrc-xIKmCU5qFV2i0VBuxOCBA.woff2") format("woff2"); unicode-range: U+589, U+10A0-10FF, U+1C90-1CBA, U+1CBD-1CBF, U+205A, U+2D00-2D2F, U+2E31; }

@font-face { font-family: "Google Sans Text"; font-style: normal; font-weight: 400; font-display: block; src: url("https://fonts.gstatic.com/s/googlesanstext/v24/5aUu9-KzpRiLCAt4Unrc-xIKmCU5qEZ2i0VBuxOCBA.woff2") format("woff2"); unicode-range: U+1F00-1FFF; }

@font-face { font-family: "Google Sans Text"; font-style: normal; font-weight: 400; font-display: block; src: url("https://fonts.gstatic.com/s/googlesanstext/v24/5aUu9-KzpRiLCAt4Unrc-xIKmCU5qEl2i0VBuxOCBA.woff2") format("woff2"); unicode-range: U+370-377, U+37A-37F, U+384-38A, U+38C, U+38E-3A1, U+3A3-3FF; }

@font-face { font-family: "Google Sans Text"; font-style: normal; font-weight: 400; font-display: block; src: url("https://fonts.gstatic.com/s/googlesanstext/v24/5aUu9-KzpRiLCAt4Unrc-xIKmCU5qFF2i0VBuxOCBA.woff2") format("woff2"); unicode-range: U+951-952, U+964-965, U+A80-AFF, U+200C-200D, U+20B9, U+25CC, U+A830-A839; }

@font-face { font-family: "Google Sans Text"; font-style: normal; font-weight: 400; font-display: block; src: url("https://fonts.gstatic.com/s/googlesanstext/v24/5aUu9-KzpRiLCAt4Unrc-xIKmCU5qGl2i0VBuxOCBA.woff2") format("woff2"); unicode-range: U+951-952, U+964-965, U+A01-A76, U+200C-200D, U+20B9, U+25CC, U+262C, U+A830-A839; }

@font-face { font-family: "Google Sans Text"; font-style: normal; font-weight: 400; font-display: block; src: url("https://fonts.gstatic.com/s/googlesanstext/v24/5aUu9-KzpRiLCAt4Unrc-xIKmCU5qEh2i0VBuxOCBA.woff2") format("woff2"); unicode-range: U+307-308, U+590-5FF, U+200C-2010, U+20AA, U+25CC, U+FB1D-FB4F; }

@font-face { font-family: "Google Sans Text"; font-style: normal; font-weight: 400; font-display: block; src: url("https://fonts.gstatic.com/s/googlesanstext/v24/5aUu9-KzpRiLCAt4Unrc-xIKmCU5qFB2i0VBuxOCBA.woff2") format("woff2"); unicode-range: U+951-952, U+964-965, U+C80-CF3, U+1CD0, U+1CD2-1CD3, U+1CDA, U+1CF2, U+1CF4, U+200C-200D, U+20B9, U+25CC, U+A830-A835; }

@font-face { font-family: "Google Sans Text"; font-style: normal; font-weight: 400; font-display: block; src: url("https://fonts.gstatic.com/s/googlesanstext/v24/5aUu9-KzpRiLCAt4Unrc-xIKmCU5qEF2i0VBuxOCBA.woff2") format("woff2"); unicode-range: U+1780-17FF, U+19E0-19FF, U+200C-200D, U+25CC; }

@font-face { font-family: "Google Sans Text"; font-style: normal; font-weight: 400; font-display: block; src: url("https://fonts.gstatic.com/s/googlesanstext/v24/5aUu9-KzpRiLCAt4Unrc-xIKmCU5qEN2i0VBuxOCBA.woff2") format("woff2"); unicode-range: U+E81-EDF, U+200C-200D, U+25CC; }

@font-face { font-family: "Google Sans Text"; font-style: normal; font-weight: 400; font-display: block; src: url("https://fonts.gstatic.com/s/googlesanstext/v24/5aUu9-KzpRiLCAt4Unrc-xIKmCU5qFJ2i0VBuxOCBA.woff2") format("woff2"); unicode-range: U+307, U+323, U+951-952, U+964-965, U+D00-D7F, U+1CDA, U+1CF2, U+200C-200D, U+20B9, U+25CC, U+A830-A832; }

@font-face { font-family: "Google Sans Text"; font-style: normal; font-weight: 400; font-display: block; src: url("https://fonts.gstatic.com/s/googlesanstext/v24/5aUu9-KzpRiLCAt4Unrc-xIKmCU5qFN2i0VBuxOCBA.woff2") format("woff2"); unicode-range: U+951-952, U+964-965, U+B01-B77, U+1CDA, U+1CF2, U+200C-200D, U+20B9, U+25CC; }

@font-face { font-family: "Google Sans Text"; font-style: normal; font-weight: 400; font-display: block; src: url("https://fonts.gstatic.com/s/googlesanstext/v24/5aUu9-KzpRiLCAt4Unrc-xIKmCU5qFd2i0VBuxOCBA.woff2") format("woff2"); unicode-range: U+964-965, U+D81-DF4, U+1CF2, U+200C-200D, U+25CC, U+111E1-111F4; }

@font-face { font-family: "Google Sans Text"; font-style: normal; font-weight: 400; font-display: block; src: url("https://fonts.gstatic.com/s/googlesanstext/v24/5aUu9-KzpRiLCAt4Unrc-xIKmCU5qCR2i0VBuxOCBA.woff2") format("woff2"); unicode-range: U+1-C, U+E-1F, U+7F-9F, U+20DD-20E0, U+20E2-20E4, U+2150-218F, U+2190, U+2192, U+2194-2199, U+21AF, U+21E6-21F0, U+21F3, U+2218-2219, U+2299, U+22C4-22C6, U+2300-243F, U+2440-244A, U+2460-24FF, U+25A0-27BF, U+2800-28FF, U+2921-2922, U+2981, U+29BF, U+29EB, U+2B00-2BFF, U+4DC0-4DFF, U+FFF9-FFFB, U+10140-1018E, U+10190-1019C, U+101A0, U+101D0-101FD, U+102E0-102FB, U+10E60-10E7E, U+1D2C0-1D2D3, U+1D2E0-1D37F, U+1F000-1F0FF, U+1F100-1F1AD, U+1F1E6-1F1FF, U+1F30D-1F30F, U+1F315, U+1F31C, U+1F31E, U+1F320-1F32C, U+1F336, U+1F378, U+1F37D, U+1F382, U+1F393-1F39F, U+1F3A7-1F3A8, U+1F3AC-1F3AF, U+1F3C2, U+1F3C4-1F3C6, U+1F3CA-1F3CE, U+1F3D4-1F3E0, U+1F3ED, U+1F3F1-1F3F3, U+1F3F5-1F3F7, U+1F408, U+1F415, U+1F41F, U+1F426, U+1F43F, U+1F441-1F442, U+1F444, U+1F446-1F449, U+1F44C-1F44E, U+1F453, U+1F46A, U+1F47D, U+1F4A3, U+1F4B0, U+1F4B3, U+1F4B9, U+1F4BB, U+1F4BF, U+1F4C8-1F4CB, U+1F4D6, U+1F4DA, U+1F4DF, U+1F4E3-1F4E6, U+1F4EA-1F4ED, U+1F4F7, U+1F4F9-1F4FB, U+1F4FD-1F4FE, U+1F503, U+1F507-1F50B, U+1F50D, U+1F512-1F513, U+1F53E-1F54A, U+1F54F-1F5FA, U+1F610, U+1F650-1F67F, U+1F687, U+1F68D, U+1F691, U+1F694, U+1F698, U+1F6AD, U+1F6B2, U+1F6B9-1F6BA, U+1F6BC, U+1F6C6-1F6CF, U+1F6D3-1F6D7, U+1F6E0-1F6EA, U+1F6F0-1F6F3, U+1F6F7-1F6FC, U+1F700-1F7FF, U+1F800-1F80B, U+1F810-1F847, U+1F850-1F859, U+1F860-1F887, U+1F890-1F8AD, U+1F8B0-1F8BB, U+1F8C0-1F8C1, U+1F900-1F90B, U+1F93B, U+1F946, U+1F984, U+1F996, U+1F9E9, U+1FA00-1FA6F, U+1FA70-1FA7C, U+1FA80-1FA89, U+1FA8F-1FAC6, U+1FACE-1FADC, U+1FADF-1FAE9, U+1FAF0-1FAF8, U+1FB00-1FBFF; }

@font-face { font-family: "Google Sans Text"; font-style: normal; font-weight: 400; font-display: block; src: url("https://fonts.gstatic.com/s/googlesanstext/v24/5aUu9-KzpRiLCAt4Unrc-xIKmCU5qFx2i0VBuxOCBA.woff2") format("woff2"); unicode-range: U+964-965, U+B82-BFA, U+200C-200D, U+20B9, U+25CC; }

@font-face { font-family: "Google Sans Text"; font-style: normal; font-weight: 400; font-display: block; src: url("https://fonts.gstatic.com/s/googlesanstext/v24/5aUu9-KzpRiLCAt4Unrc-xIKmCU5qFZ2i0VBuxOCBA.woff2") format("woff2"); unicode-range: U+951-952, U+964-965, U+C00-C7F, U+1CDA, U+1CF2, U+200C-200D, U+25CC; }

@font-face { font-family: "Google Sans Text"; font-style: normal; font-weight: 400; font-display: block; src: url("https://fonts.gstatic.com/s/googlesanstext/v24/5aUu9-KzpRiLCAt4Unrc-xIKmCU5qF52i0VBuxOCBA.woff2") format("woff2"); unicode-range: U+2D7, U+303, U+331, U+E01-E5B, U+200C-200D, U+25CC; }

@font-face { font-family: "Google Sans Text"; font-style: normal; font-weight: 400; font-display: block; src: url("https://fonts.gstatic.com/s/googlesanstext/v24/5aUu9-KzpRiLCAt4Unrc-xIKmCU5qEV2i0VBuxOCBA.woff2") format("woff2"); unicode-range: U+102-103, U+110-111, U+128-129, U+168-169, U+1A0-1A1, U+1AF-1B0, U+300-301, U+303-304, U+308-309, U+323, U+329, U+1EA0-1EF9, U+20AB; }

@font-face { font-family: "Google Sans Text"; font-style: normal; font-weight: 400; font-display: block; src: url("https://fonts.gstatic.com/s/googlesanstext/v24/5aUu9-KzpRiLCAt4Unrc-xIKmCU5qER2i0VBuxOCBA.woff2") format("woff2"); unicode-range: U+100-2BA, U+2BD-2C5, U+2C7-2CC, U+2CE-2D7, U+2DD-2FF, U+304, U+308, U+329, U+1D00-1DBF, U+1E00-1E9F, U+1EF2-1EFF, U+2020, U+20A0-20AB, U+20AD-20C0, U+2113, U+2C60-2C7F, U+A720-A7FF; }

@font-face { font-family: "Google Sans Text"; font-style: normal; font-weight: 400; font-display: block; src: url("https://fonts.gstatic.com/s/googlesanstext/v24/5aUu9-KzpRiLCAt4Unrc-xIKmCU5qEp2i0VBuxM.woff2") format("woff2"); unicode-range: U+0-FF, U+131, U+152-153, U+2BB-2BC, U+2C6, U+2DA, U+2DC, U+304, U+308, U+329, U+2000-206F, U+20AC, U+2122, U+2191, U+2193, U+2212, U+2215, U+FEFF, U+FFFD; }

@font-face { font-family: "Google Sans Text"; font-style: normal; font-weight: 500; font-display: block; src: url("https://fonts.gstatic.com/s/googlesanstext/v24/5aUp9-KzpRiLCAt4Unrc-xIKmCU5oLlVnnhjtjm4DZzFQQ.woff2") format("woff2"); unicode-range: U+308, U+530-58F, U+2010, U+2024, U+25CC, U+FB13-FB17; }

@font-face { font-family: "Google Sans Text"; font-style: normal; font-weight: 500; font-display: block; src: url("https://fonts.gstatic.com/s/googlesanstext/v24/5aUp9-KzpRiLCAt4Unrc-xIKmCU5oLlVnnpjtjm4DZzFQQ.woff2") format("woff2"); unicode-range: U+951-952, U+964-965, U+980-9FE, U+1CD0, U+1CD2, U+1CD5-1CD6, U+1CD8, U+1CE1, U+1CEA, U+1CED, U+1CF2, U+1CF5-1CF7, U+200C-200D, U+20B9, U+25CC, U+A8F1; }

@font-face { font-family: "Google Sans Text"; font-style: normal; font-weight: 500; font-display: block; src: url("https://fonts.gstatic.com/s/googlesanstext/v24/5aUp9-KzpRiLCAt4Unrc-xIKmCU5oLlVnkdjtjm4DZzFQQ.woff2") format("woff2"); unicode-range: U+2C7, U+2D8-2D9, U+2DB, U+307, U+1400-167F, U+18B0-18F5, U+25CC, U+11AB0-11ABF; }

@font-face { font-family: "Google Sans Text"; font-style: normal; font-weight: 500; font-display: block; src: url("https://fonts.gstatic.com/s/googlesanstext/v24/5aUp9-KzpRiLCAt4Unrc-xIKmCU5oLlVnmVjtjm4DZzFQQ.woff2") format("woff2"); unicode-range: U+460-52F, U+1C80-1C8A, U+20B4, U+2DE0-2DFF, U+A640-A69F, U+FE2E-FE2F; }

@font-face { font-family: "Google Sans Text"; font-style: normal; font-weight: 500; font-display: block; src: url("https://fonts.gstatic.com/s/googlesanstext/v24/5aUp9-KzpRiLCAt4Unrc-xIKmCU5oLlVnmxjtjm4DZzFQQ.woff2") format("woff2"); unicode-range: U+301, U+400-45F, U+490-491, U+4B0-4B1, U+2116; }

@font-face { font-family: "Google Sans Text"; font-style: normal; font-weight: 500; font-display: block; src: url("https://fonts.gstatic.com/s/googlesanstext/v24/5aUp9-KzpRiLCAt4Unrc-xIKmCU5oLlVnmljtjm4DZzFQQ.woff2") format("woff2"); unicode-range: U+900-97F, U+1CD0-1CF9, U+200C-200D, U+20A8, U+20B9, U+20F0, U+25CC, U+A830-A839, U+A8E0-A8FF, U+11B00-11B09; }

@font-face { font-family: "Google Sans Text"; font-style: normal; font-weight: 500; font-display: block; src: url("https://fonts.gstatic.com/s/googlesanstext/v24/5aUp9-KzpRiLCAt4Unrc-xIKmCU5oLlVnnljtjm4DZzFQQ.woff2") format("woff2"); unicode-range: U+30E, U+1200-1399, U+2D80-2DDE, U+AB01-AB2E, U+1E7E0-1E7E6, U+1E7E8-1E7EB, U+1E7ED-1E7EE, U+1E7F0-1E7FE; }

@font-face { font-family: "Google Sans Text"; font-style: normal; font-weight: 500; font-display: block; src: url("https://fonts.gstatic.com/s/googlesanstext/v24/5aUp9-KzpRiLCAt4Unrc-xIKmCU5oLlVnndjtjm4DZzFQQ.woff2") format("woff2"); unicode-range: U+589, U+10A0-10FF, U+1C90-1CBA, U+1CBD-1CBF, U+205A, U+2D00-2D2F, U+2E31; }

@font-face { font-family: "Google Sans Text"; font-style: normal; font-weight: 500; font-display: block; src: url("https://fonts.gstatic.com/s/googlesanstext/v24/5aUp9-KzpRiLCAt4Unrc-xIKmCU5oLlVnmRjtjm4DZzFQQ.woff2") format("woff2"); unicode-range: U+1F00-1FFF; }

@font-face { font-family: "Google Sans Text"; font-style: normal; font-weight: 500; font-display: block; src: url("https://fonts.gstatic.com/s/googlesanstext/v24/5aUp9-KzpRiLCAt4Unrc-xIKmCU5oLlVnmtjtjm4DZzFQQ.woff2") format("woff2"); unicode-range: U+370-377, U+37A-37F, U+384-38A, U+38C, U+38E-3A1, U+3A3-3FF; }

@font-face { font-family: "Google Sans Text"; font-style: normal; font-weight: 500; font-display: block; src: url("https://fonts.gstatic.com/s/googlesanstext/v24/5aUp9-KzpRiLCAt4Unrc-xIKmCU5oLlVnnNjtjm4DZzFQQ.woff2") format("woff2"); unicode-range: U+951-952, U+964-965, U+A80-AFF, U+200C-200D, U+20B9, U+25CC, U+A830-A839; }

@font-face { font-family: "Google Sans Text"; font-style: normal; font-weight: 500; font-display: block; src: url("https://fonts.gstatic.com/s/googlesanstext/v24/5aUp9-KzpRiLCAt4Unrc-xIKmCU5oLlVnktjtjm4DZzFQQ.woff2") format("woff2"); unicode-range: U+951-952, U+964-965, U+A01-A76, U+200C-200D, U+20B9, U+25CC, U+262C, U+A830-A839; }

@font-face { font-family: "Google Sans Text"; font-style: normal; font-weight: 500; font-display: block; src: url("https://fonts.gstatic.com/s/googlesanstext/v24/5aUp9-KzpRiLCAt4Unrc-xIKmCU5oLlVnmpjtjm4DZzFQQ.woff2") format("woff2"); unicode-range: U+307-308, U+590-5FF, U+200C-2010, U+20AA, U+25CC, U+FB1D-FB4F; }

@font-face { font-family: "Google Sans Text"; font-style: normal; font-weight: 500; font-display: block; src: url("https://fonts.gstatic.com/s/googlesanstext/v24/5aUp9-KzpRiLCAt4Unrc-xIKmCU5oLlVnnJjtjm4DZzFQQ.woff2") format("woff2"); unicode-range: U+951-952, U+964-965, U+C80-CF3, U+1CD0, U+1CD2-1CD3, U+1CDA, U+1CF2, U+1CF4, U+200C-200D, U+20B9, U+25CC, U+A830-A835; }

@font-face { font-family: "Google Sans Text"; font-style: normal; font-weight: 500; font-display: block; src: url("https://fonts.gstatic.com/s/googlesanstext/v24/5aUp9-KzpRiLCAt4Unrc-xIKmCU5oLlVnmNjtjm4DZzFQQ.woff2") format("woff2"); unicode-range: U+1780-17FF, U+19E0-19FF, U+200C-200D, U+25CC; }

@font-face { font-family: "Google Sans Text"; font-style: normal; font-weight: 500; font-display: block; src: url("https://fonts.gstatic.com/s/googlesanstext/v24/5aUp9-KzpRiLCAt4Unrc-xIKmCU5oLlVnmFjtjm4DZzFQQ.woff2") format("woff2"); unicode-range: U+E81-EDF, U+200C-200D, U+25CC; }

@font-face { font-family: "Google Sans Text"; font-style: normal; font-weight: 500; font-display: block; src: url("https://fonts.gstatic.com/s/googlesanstext/v24/5aUp9-KzpRiLCAt4Unrc-xIKmCU5oLlVnnBjtjm4DZzFQQ.woff2") format("woff2"); unicode-range: U+307, U+323, U+951-952, U+964-965, U+D00-D7F, U+1CDA, U+1CF2, U+200C-200D, U+20B9, U+25CC, U+A830-A832; }

@font-face { font-family: "Google Sans Text"; font-style: normal; font-weight: 500; font-display: block; src: url("https://fonts.gstatic.com/s/googlesanstext/v24/5aUp9-KzpRiLCAt4Unrc-xIKmCU5oLlVnnFjtjm4DZzFQQ.woff2") format("woff2"); unicode-range: U+951-952, U+964-965, U+B01-B77, U+1CDA, U+1CF2, U+200C-200D, U+20B9, U+25CC; }

@font-face { font-family: "Google Sans Text"; font-style: normal; font-weight: 500; font-display: block; src: url("https://fonts.gstatic.com/s/googlesanstext/v24/5aUp9-KzpRiLCAt4Unrc-xIKmCU5oLlVnnVjtjm4DZzFQQ.woff2") format("woff2"); unicode-range: U+964-965, U+D81-DF4, U+1CF2, U+200C-200D, U+25CC, U+111E1-111F4; }

@font-face { font-family: "Google Sans Text"; font-style: normal; font-weight: 500; font-display: block; src: url("https://fonts.gstatic.com/s/googlesanstext/v24/5aUp9-KzpRiLCAt4Unrc-xIKmCU5oLlVngZjtjm4DZzFQQ.woff2") format("woff2"); unicode-range: U+1-C, U+E-1F, U+7F-9F, U+20DD-20E0, U+20E2-20E4, U+2150-218F, U+2190, U+2192, U+2194-2199, U+21AF, U+21E6-21F0, U+21F3, U+2218-2219, U+2299, U+22C4-22C6, U+2300-243F, U+2440-244A, U+2460-24FF, U+25A0-27BF, U+2800-28FF, U+2921-2922, U+2981, U+29BF, U+29EB, U+2B00-2BFF, U+4DC0-4DFF, U+FFF9-FFFB, U+10140-1018E, U+10190-1019C, U+101A0, U+101D0-101FD, U+102E0-102FB, U+10E60-10E7E, U+1D2C0-1D2D3, U+1D2E0-1D37F, U+1F000-1F0FF, U+1F100-1F1AD, U+1F1E6-1F1FF, U+1F30D-1F30F, U+1F315, U+1F31C, U+1F31E, U+1F320-1F32C, U+1F336, U+1F378, U+1F37D, U+1F382, U+1F393-1F39F, U+1F3A7-1F3A8, U+1F3AC-1F3AF, U+1F3C2, U+1F3C4-1F3C6, U+1F3CA-1F3CE, U+1F3D4-1F3E0, U+1F3ED, U+1F3F1-1F3F3, U+1F3F5-1F3F7, U+1F408, U+1F415, U+1F41F, U+1F426, U+1F43F, U+1F441-1F442, U+1F444, U+1F446-1F449, U+1F44C-1F44E, U+1F453, U+1F46A, U+1F47D, U+1F4A3, U+1F4B0, U+1F4B3, U+1F4B9, U+1F4BB, U+1F4BF, U+1F4C8-1F4CB, U+1F4D6, U+1F4DA, U+1F4DF, U+1F4E3-1F4E6, U+1F4EA-1F4ED, U+1F4F7, U+1F4F9-1F4FB, U+1F4FD-1F4FE, U+1F503, U+1F507-1F50B, U+1F50D, U+1F512-1F513, U+1F53E-1F54A, U+1F54F-1F5FA, U+1F610, U+1F650-1F67F, U+1F687, U+1F68D, U+1F691, U+1F694, U+1F698, U+1F6AD, U+1F6B2, U+1F6B9-1F6BA, U+1F6BC, U+1F6C6-1F6CF, U+1F6D3-1F6D7, U+1F6E0-1F6EA, U+1F6F0-1F6F3, U+1F6F7-1F6FC, U+1F700-1F7FF, U+1F800-1F80B, U+1F810-1F847, U+1F850-1F859, U+1F860-1F887, U+1F890-1F8AD, U+1F8B0-1F8BB, U+1F8C0-1F8C1, U+1F900-1F90B, U+1F93B, U+1F946, U+1F984, U+1F996, U+1F9E9, U+1FA00-1FA6F, U+1FA70-1FA7C, U+1FA80-1FA89, U+1FA8F-1FAC6, U+1FACE-1FADC, U+1FADF-1FAE9, U+1FAF0-1FAF8, U+1FB00-1FBFF; }

@font-face { font-family: "Google Sans Text"; font-style: normal; font-weight: 500; font-display: block; src: url("https://fonts.gstatic.com/s/googlesanstext/v24/5aUp9-KzpRiLCAt4Unrc-xIKmCU5oLlVnn5jtjm4DZzFQQ.woff2") format("woff2"); unicode-range: U+964-965, U+B82-BFA, U+200C-200D, U+20B9, U+25CC; }

@font-face { font-family: "Google Sans Text"; font-style: normal; font-weight: 500; font-display: block; src: url("https://fonts.gstatic.com/s/googlesanstext/v24/5aUp9-KzpRiLCAt4Unrc-xIKmCU5oLlVnnRjtjm4DZzFQQ.woff2") format("woff2"); unicode-range: U+951-952, U+964-965, U+C00-C7F, U+1CDA, U+1CF2, U+200C-200D, U+25CC; }

@font-face { font-family: "Google Sans Text"; font-style: normal; font-weight: 500; font-display: block; src: url("https://fonts.gstatic.com/s/googlesanstext/v24/5aUp9-KzpRiLCAt4Unrc-xIKmCU5oLlVnnxjtjm4DZzFQQ.woff2") format("woff2"); unicode-range: U+2D7, U+303, U+331, U+E01-E5B, U+200C-200D, U+25CC; }

@font-face { font-family: "Google Sans Text"; font-style: normal; font-weight: 500; font-display: block; src: url("https://fonts.gstatic.com/s/googlesanstext/v24/5aUp9-KzpRiLCAt4Unrc-xIKmCU5oLlVnmdjtjm4DZzFQQ.woff2") format("woff2"); unicode-range: U+102-103, U+110-111, U+128-129, U+168-169, U+1A0-1A1, U+1AF-1B0, U+300-301, U+303-304, U+308-309, U+323, U+329, U+1EA0-1EF9, U+20AB; }

@font-face { font-family: "Google Sans Text"; font-style: normal; font-weight: 500; font-display: block; src: url("https://fonts.gstatic.com/s/googlesanstext/v24/5aUp9-KzpRiLCAt4Unrc-xIKmCU5oLlVnmZjtjm4DZzFQQ.woff2") format("woff2"); unicode-range: U+100-2BA, U+2BD-2C5, U+2C7-2CC, U+2CE-2D7, U+2DD-2FF, U+304, U+308, U+329, U+1D00-1DBF, U+1E00-1E9F, U+1EF2-1EFF, U+2020, U+20A0-20AB, U+20AD-20C0, U+2113, U+2C60-2C7F, U+A720-A7FF; }

@font-face { font-family: "Google Sans Text"; font-style: normal; font-weight: 500; font-display: block; src: url("https://fonts.gstatic.com/s/googlesanstext/v24/5aUp9-KzpRiLCAt4Unrc-xIKmCU5oLlVnmhjtjm4DZw.woff2") format("woff2"); unicode-range: U+0-FF, U+131, U+152-153, U+2BB-2BC, U+2C6, U+2DA, U+2DC, U+304, U+308, U+329, U+2000-206F, U+20AC, U+2122, U+2191, U+2193, U+2212, U+2215, U+FEFF, U+FFFD; }

@font-face { font-family: "Google Sans Text"; font-style: normal; font-weight: 700; font-display: block; src: url("https://fonts.gstatic.com/s/googlesanstext/v24/5aUp9-KzpRiLCAt4Unrc-xIKmCU5oPFTnnhjtjm4DZzFQQ.woff2") format("woff2"); unicode-range: U+308, U+530-58F, U+2010, U+2024, U+25CC, U+FB13-FB17; }

@font-face { font-family: "Google Sans Text"; font-style: normal; font-weight: 700; font-display: block; src: url("https://fonts.gstatic.com/s/googlesanstext/v24/5aUp9-KzpRiLCAt4Unrc-xIKmCU5oPFTnnpjtjm4DZzFQQ.woff2") format("woff2"); unicode-range: U+951-952, U+964-965, U+980-9FE, U+1CD0, U+1CD2, U+1CD5-1CD6, U+1CD8, U+1CE1, U+1CEA, U+1CED, U+1CF2, U+1CF5-1CF7, U+200C-200D, U+20B9, U+25CC, U+A8F1; }

@font-face { font-family: "Google Sans Text"; font-style: normal; font-weight: 700; font-display: block; src: url("https://fonts.gstatic.com/s/googlesanstext/v24/5aUp9-KzpRiLCAt4Unrc-xIKmCU5oPFTnkdjtjm4DZzFQQ.woff2") format("woff2"); unicode-range: U+2C7, U+2D8-2D9, U+2DB, U+307, U+1400-167F, U+18B0-18F5, U+25CC, U+11AB0-11ABF; }

@font-face { font-family: "Google Sans Text"; font-style: normal; font-weight: 700; font-display: block; src: url("https://fonts.gstatic.com/s/googlesanstext/v24/5aUp9-KzpRiLCAt4Unrc-xIKmCU5oPFTnmVjtjm4DZzFQQ.woff2") format("woff2"); unicode-range: U+460-52F, U+1C80-1C8A, U+20B4, U+2DE0-2DFF, U+A640-A69F, U+FE2E-FE2F; }

@font-face { font-family: "Google Sans Text"; font-style: normal; font-weight: 700; font-display: block; src: url("https://fonts.gstatic.com/s/googlesanstext/v24/5aUp9-KzpRiLCAt4Unrc-xIKmCU5oPFTnmxjtjm4DZzFQQ.woff2") format("woff2"); unicode-range: U+301, U+400-45F, U+490-491, U+4B0-4B1, U+2116; }

@font-face { font-family: "Google Sans Text"; font-style: normal; font-weight: 700; font-display: block; src: url("https://fonts.gstatic.com/s/googlesanstext/v24/5aUp9-KzpRiLCAt4Unrc-xIKmCU5oPFTnmljtjm4DZzFQQ.woff2") format("woff2"); unicode-range: U+900-97F, U+1CD0-1CF9, U+200C-200D, U+20A8, U+20B9, U+20F0, U+25CC, U+A830-A839, U+A8E0-A8FF, U+11B00-11B09; }

@font-face { font-family: "Google Sans Text"; font-style: normal; font-weight: 700; font-display: block; src: url("https://fonts.gstatic.com/s/googlesanstext/v24/5aUp9-KzpRiLCAt4Unrc-xIKmCU5oPFTnnljtjm4DZzFQQ.woff2") format("woff2"); unicode-range: U+30E, U+1200-1399, U+2D80-2DDE, U+AB01-AB2E, U+1E7E0-1E7E6, U+1E7E8-1E7EB, U+1E7ED-1E7EE, U+1E7F0-1E7FE; }

@font-face { font-family: "Google Sans Text"; font-style: normal; font-weight: 700; font-display: block; src: url("https://fonts.gstatic.com/s/googlesanstext/v24/5aUp9-KzpRiLCAt4Unrc-xIKmCU5oPFTnndjtjm4DZzFQQ.woff2") format("woff2"); unicode-range: U+589, U+10A0-10FF, U+1C90-1CBA, U+1CBD-1CBF, U+205A, U+2D00-2D2F, U+2E31; }

@font-face { font-family: "Google Sans Text"; font-style: normal; font-weight: 700; font-display: block; src: url("https://fonts.gstatic.com/s/googlesanstext/v24/5aUp9-KzpRiLCAt4Unrc-xIKmCU5oPFTnmRjtjm4DZzFQQ.woff2") format("woff2"); unicode-range: U+1F00-1FFF; }

@font-face { font-family: "Google Sans Text"; font-style: normal; font-weight: 700; font-display: block; src: url("https://fonts.gstatic.com/s/googlesanstext/v24/5aUp9-KzpRiLCAt4Unrc-xIKmCU5oPFTnmtjtjm4DZzFQQ.woff2") format("woff2"); unicode-range: U+370-377, U+37A-37F, U+384-38A, U+38C, U+38E-3A1, U+3A3-3FF; }

@font-face { font-family: "Google Sans Text"; font-style: normal; font-weight: 700; font-display: block; src: url("https://fonts.gstatic.com/s/googlesanstext/v24/5aUp9-KzpRiLCAt4Unrc-xIKmCU5oPFTnnNjtjm4DZzFQQ.woff2") format("woff2"); unicode-range: U+951-952, U+964-965, U+A80-AFF, U+200C-200D, U+20B9, U+25CC, U+A830-A839; }

@font-face { font-family: "Google Sans Text"; font-style: normal; font-weight: 700; font-display: block; src: url("https://fonts.gstatic.com/s/googlesanstext/v24/5aUp9-KzpRiLCAt4Unrc-xIKmCU5oPFTnktjtjm4DZzFQQ.woff2") format("woff2"); unicode-range: U+951-952, U+964-965, U+A01-A76, U+200C-200D, U+20B9, U+25CC, U+262C, U+A830-A839; }

@font-face { font-family: "Google Sans Text"; font-style: normal; font-weight: 700; font-display: block; src: url("https://fonts.gstatic.com/s/googlesanstext/v24/5aUp9-KzpRiLCAt4Unrc-xIKmCU5oPFTnmpjtjm4DZzFQQ.woff2") format("woff2"); unicode-range: U+307-308, U+590-5FF, U+200C-2010, U+20AA, U+25CC, U+FB1D-FB4F; }

@font-face { font-family: "Google Sans Text"; font-style: normal; font-weight: 700; font-display: block; src: url("https://fonts.gstatic.com/s/googlesanstext/v24/5aUp9-KzpRiLCAt4Unrc-xIKmCU5oPFTnnJjtjm4DZzFQQ.woff2") format("woff2"); unicode-range: U+951-952, U+964-965, U+C80-CF3, U+1CD0, U+1CD2-1CD3, U+1CDA, U+1CF2, U+1CF4, U+200C-200D, U+20B9, U+25CC, U+A830-A835; }

@font-face { font-family: "Google Sans Text"; font-style: normal; font-weight: 700; font-display: block; src: url("https://fonts.gstatic.com/s/googlesanstext/v24/5aUp9-KzpRiLCAt4Unrc-xIKmCU5oPFTnmNjtjm4DZzFQQ.woff2") format("woff2"); unicode-range: U+1780-17FF, U+19E0-19FF, U+200C-200D, U+25CC; }

@font-face { font-family: "Google Sans Text"; font-style: normal; font-weight: 700; font-display: block; src: url("https://fonts.gstatic.com/s/googlesanstext/v24/5aUp9-KzpRiLCAt4Unrc-xIKmCU5oPFTnmFjtjm4DZzFQQ.woff2") format("woff2"); unicode-range: U+E81-EDF, U+200C-200D, U+25CC; }

@font-face { font-family: "Google Sans Text"; font-style: normal; font-weight: 700; font-display: block; src: url("https://fonts.gstatic.com/s/googlesanstext/v24/5aUp9-KzpRiLCAt4Unrc-xIKmCU5oPFTnnBjtjm4DZzFQQ.woff2") format("woff2"); unicode-range: U+307, U+323, U+951-952, U+964-965, U+D00-D7F, U+1CDA, U+1CF2, U+200C-200D, U+20B9, U+25CC, U+A830-A832; }

@font-face { font-family: "Google Sans Text"; font-style: normal; font-weight: 700; font-display: block; src: url("https://fonts.gstatic.com/s/googlesanstext/v24/5aUp9-KzpRiLCAt4Unrc-xIKmCU5oPFTnnFjtjm4DZzFQQ.woff2") format("woff2"); unicode-range: U+951-952, U+964-965, U+B01-B77, U+1CDA, U+1CF2, U+200C-200D, U+20B9, U+25CC; }

@font-face { font-family: "Google Sans Text"; font-style: normal; font-weight: 700; font-display: block; src: url("https://fonts.gstatic.com/s/googlesanstext/v24/5aUp9-KzpRiLCAt4Unrc-xIKmCU5oPFTnnVjtjm4DZzFQQ.woff2") format("woff2"); unicode-range: U+964-965, U+D81-DF4, U+1CF2, U+200C-200D, U+25CC, U+111E1-111F4; }

@font-face { font-family: "Google Sans Text"; font-style: normal; font-weight: 700; font-display: block; src: url("https://fonts.gstatic.com/s/googlesanstext/v24/5aUp9-KzpRiLCAt4Unrc-xIKmCU5oPFTngZjtjm4DZzFQQ.woff2") format("woff2"); unicode-range: U+1-C, U+E-1F, U+7F-9F, U+20DD-20E0, U+20E2-20E4, U+2150-218F, U+2190, U+2192, U+2194-2199, U+21AF, U+21E6-21F0, U+21F3, U+2218-2219, U+2299, U+22C4-22C6, U+2300-243F, U+2440-244A, U+2460-24FF, U+25A0-27BF, U+2800-28FF, U+2921-2922, U+2981, U+29BF, U+29EB, U+2B00-2BFF, U+4DC0-4DFF, U+FFF9-FFFB, U+10140-1018E, U+10190-1019C, U+101A0, U+101D0-101FD, U+102E0-102FB, U+10E60-10E7E, U+1D2C0-1D2D3, U+1D2E0-1D37F, U+1F000-1F0FF, U+1F100-1F1AD, U+1F1E6-1F1FF, U+1F30D-1F30F, U+1F315, U+1F31C, U+1F31E, U+1F320-1F32C, U+1F336, U+1F378, U+1F37D, U+1F382, U+1F393-1F39F, U+1F3A7-1F3A8, U+1F3AC-1F3AF, U+1F3C2, U+1F3C4-1F3C6, U+1F3CA-1F3CE, U+1F3D4-1F3E0, U+1F3ED, U+1F3F1-1F3F3, U+1F3F5-1F3F7, U+1F408, U+1F415, U+1F41F, U+1F426, U+1F43F, U+1F441-1F442, U+1F444, U+1F446-1F449, U+1F44C-1F44E, U+1F453, U+1F46A, U+1F47D, U+1F4A3, U+1F4B0, U+1F4B3, U+1F4B9, U+1F4BB, U+1F4BF, U+1F4C8-1F4CB, U+1F4D6, U+1F4DA, U+1F4DF, U+1F4E3-1F4E6, U+1F4EA-1F4ED, U+1F4F7, U+1F4F9-1F4FB, U+1F4FD-1F4FE, U+1F503, U+1F507-1F50B, U+1F50D, U+1F512-1F513, U+1F53E-1F54A, U+1F54F-1F5FA, U+1F610, U+1F650-1F67F, U+1F687, U+1F68D, U+1F691, U+1F694, U+1F698, U+1F6AD, U+1F6B2, U+1F6B9-1F6BA, U+1F6BC, U+1F6C6-1F6CF, U+1F6D3-1F6D7, U+1F6E0-1F6EA, U+1F6F0-1F6F3, U+1F6F7-1F6FC, U+1F700-1F7FF, U+1F800-1F80B, U+1F810-1F847, U+1F850-1F859, U+1F860-1F887, U+1F890-1F8AD, U+1F8B0-1F8BB, U+1F8C0-1F8C1, U+1F900-1F90B, U+1F93B, U+1F946, U+1F984, U+1F996, U+1F9E9, U+1FA00-1FA6F, U+1FA70-1FA7C, U+1FA80-1FA89, U+1FA8F-1FAC6, U+1FACE-1FADC, U+1FADF-1FAE9, U+1FAF0-1FAF8, U+1FB00-1FBFF; }

@font-face { font-family: "Google Sans Text"; font-style: normal; font-weight: 700; font-display: block; src: url("https://fonts.gstatic.com/s/googlesanstext/v24/5aUp9-KzpRiLCAt4Unrc-xIKmCU5oPFTnn5jtjm4DZzFQQ.woff2") format("woff2"); unicode-range: U+964-965, U+B82-BFA, U+200C-200D, U+20B9, U+25CC; }

@font-face { font-family: "Google Sans Text"; font-style: normal; font-weight: 700; font-display: block; src: url("https://fonts.gstatic.com/s/googlesanstext/v24/5aUp9-KzpRiLCAt4Unrc-xIKmCU5oPFTnnRjtjm4DZzFQQ.woff2") format("woff2"); unicode-range: U+951-952, U+964-965, U+C00-C7F, U+1CDA, U+1CF2, U+200C-200D, U+25CC; }

@font-face { font-family: "Google Sans Text"; font-style: normal; font-weight: 700; font-display: block; src: url("https://fonts.gstatic.com/s/googlesanstext/v24/5aUp9-KzpRiLCAt4Unrc-xIKmCU5oPFTnnxjtjm4DZzFQQ.woff2") format("woff2"); unicode-range: U+2D7, U+303, U+331, U+E01-E5B, U+200C-200D, U+25CC; }

@font-face { font-family: "Google Sans Text"; font-style: normal; font-weight: 700; font-display: block; src: url("https://fonts.gstatic.com/s/googlesanstext/v24/5aUp9-KzpRiLCAt4Unrc-xIKmCU5oPFTnmdjtjm4DZzFQQ.woff2") format("woff2"); unicode-range: U+102-103, U+110-111, U+128-129, U+168-169, U+1A0-1A1, U+1AF-1B0, U+300-301, U+303-304, U+308-309, U+323, U+329, U+1EA0-1EF9, U+20AB; }

@font-face { font-family: "Google Sans Text"; font-style: normal; font-weight: 700; font-display: block; src: url("https://fonts.gstatic.com/s/googlesanstext/v24/5aUp9-KzpRiLCAt4Unrc-xIKmCU5oPFTnmZjtjm4DZzFQQ.woff2") format("woff2"); unicode-range: U+100-2BA, U+2BD-2C5, U+2C7-2CC, U+2CE-2D7, U+2DD-2FF, U+304, U+308, U+329, U+1D00-1DBF, U+1E00-1E9F, U+1EF2-1EFF, U+2020, U+20A0-20AB, U+20AD-20C0, U+2113, U+2C60-2C7F, U+A720-A7FF; }

@font-face { font-family: "Google Sans Text"; font-style: normal; font-weight: 700; font-display: block; src: url("https://fonts.gstatic.com/s/googlesanstext/v24/5aUp9-KzpRiLCAt4Unrc-xIKmCU5oPFTnmhjtjm4DZw.woff2") format("woff2"); unicode-range: U+0-FF, U+131, U+152-153, U+2BB-2BC, U+2C6, U+2DA, U+2DC, U+304, U+308, U+329, U+2000-206F, U+20AC, U+2122, U+2191, U+2193, U+2212, U+2215, U+FEFF, U+FFFD; }

@font-face { font-family: Roboto; font-style: normal; font-weight: 300; font-stretch: 100%; font-display: block; src: url("https://fonts.gstatic.com/s/roboto/v49/KFO7CnqEu92Fr1ME7kSn66aGLdTylUAMa3GUBHMdazTgWw.woff2") format("woff2"); unicode-range: U+460-52F, U+1C80-1C8A, U+20B4, U+2DE0-2DFF, U+A640-A69F, U+FE2E-FE2F; }

@font-face { font-family: Roboto; font-style: normal; font-weight: 300; font-stretch: 100%; font-display: block; src: url("https://fonts.gstatic.com/s/roboto/v49/KFO7CnqEu92Fr1ME7kSn66aGLdTylUAMa3iUBHMdazTgWw.woff2") format("woff2"); unicode-range: U+301, U+400-45F, U+490-491, U+4B0-4B1, U+2116; }

@font-face { font-family: Roboto; font-style: normal; font-weight: 300; font-stretch: 100%; font-display: block; src: url("https://fonts.gstatic.com/s/roboto/v49/KFO7CnqEu92Fr1ME7kSn66aGLdTylUAMa3CUBHMdazTgWw.woff2") format("woff2"); unicode-range: U+1F00-1FFF; }

@font-face { font-family: Roboto; font-style: normal; font-weight: 300; font-stretch: 100%; font-display: block; src: url("https://fonts.gstatic.com/s/roboto/v49/KFO7CnqEu92Fr1ME7kSn66aGLdTylUAMa3-UBHMdazTgWw.woff2") format("woff2"); unicode-range: U+370-377, U+37A-37F, U+384-38A, U+38C, U+38E-3A1, U+3A3-3FF; }

@font-face { font-family: Roboto; font-style: normal; font-weight: 300; font-stretch: 100%; font-display: block; src: url("https://fonts.gstatic.com/s/roboto/v49/KFO7CnqEu92Fr1ME7kSn66aGLdTylUAMawCUBHMdazTgWw.woff2") format("woff2"); unicode-range: U+302-303, U+305, U+307-308, U+310, U+312, U+315, U+31A, U+326-327, U+32C, U+32F-330, U+332-333, U+338, U+33A, U+346, U+34D, U+391-3A1, U+3A3-3A9, U+3B1-3C9, U+3D1, U+3D5-3D6, U+3F0-3F1, U+3F4-3F5, U+2016-2017, U+2034-2038, U+203C, U+2040, U+2043, U+2047, U+2050, U+2057, U+205F, U+2070-2071, U+2074-208E, U+2090-209C, U+20D0-20DC, U+20E1, U+20E5-20EF, U+2100-2112, U+2114-2115, U+2117-2121, U+2123-214F, U+2190, U+2192, U+2194-21AE, U+21B0-21E5, U+21F1-21F2, U+21F4-2211, U+2213-2214, U+2216-22FF, U+2308-230B, U+2310, U+2319, U+231C-2321, U+2336-237A, U+237C, U+2395, U+239B-23B7, U+23D0, U+23DC-23E1, U+2474-2475, U+25AF, U+25B3, U+25B7, U+25BD, U+25C1, U+25CA, U+25CC, U+25FB, U+266D-266F, U+27C0-27FF, U+2900-2AFF, U+2B0E-2B11, U+2B30-2B4C, U+2BFE, U+3030, U+FF5B, U+FF5D, U+1D400-1D7FF, U+1EE00-1EEFF; }

@font-face { font-family: Roboto; font-style: normal; font-weight: 300; font-stretch: 100%; font-display: block; src: url("https://fonts.gstatic.com/s/roboto/v49/KFO7CnqEu92Fr1ME7kSn66aGLdTylUAMaxKUBHMdazTgWw.woff2") format("woff2"); unicode-range: U+1-C, U+E-1F, U+7F-9F, U+20DD-20E0, U+20E2-20E4, U+2150-218F, U+2190, U+2192, U+2194-2199, U+21AF, U+21E6-21F0, U+21F3, U+2218-2219, U+2299, U+22C4-22C6, U+2300-243F, U+2440-244A, U+2460-24FF, U+25A0-27BF, U+2800-28FF, U+2921-2922, U+2981, U+29BF, U+29EB, U+2B00-2BFF, U+4DC0-4DFF, U+FFF9-FFFB, U+10140-1018E, U+10190-1019C, U+101A0, U+101D0-101FD, U+102E0-102FB, U+10E60-10E7E, U+1D2C0-1D2D3, U+1D2E0-1D37F, U+1F000-1F0FF, U+1F100-1F1AD, U+1F1E6-1F1FF, U+1F30D-1F30F, U+1F315, U+1F31C, U+1F31E, U+1F320-1F32C, U+1F336, U+1F378, U+1F37D, U+1F382, U+1F393-1F39F, U+1F3A7-1F3A8, U+1F3AC-1F3AF, U+1F3C2, U+1F3C4-1F3C6, U+1F3CA-1F3CE, U+1F3D4-1F3E0, U+1F3ED, U+1F3F1-1F3F3, U+1F3F5-1F3F7, U+1F408, U+1F415, U+1F41F, U+1F426, U+1F43F, U+1F441-1F442, U+1F444, U+1F446-1F449, U+1F44C-1F44E, U+1F453, U+1F46A, U+1F47D, U+1F4A3, U+1F4B0, U+1F4B3, U+1F4B9, U+1F4BB, U+1F4BF, U+1F4C8-1F4CB, U+1F4D6, U+1F4DA, U+1F4DF, U+1F4E3-1F4E6, U+1F4EA-1F4ED, U+1F4F7, U+1F4F9-1F4FB, U+1F4FD-1F4FE, U+1F503, U+1F507-1F50B, U+1F50D, U+1F512-1F513, U+1F53E-1F54A, U+1F54F-1F5FA, U+1F610, U+1F650-1F67F, U+1F687, U+1F68D, U+1F691, U+1F694, U+1F698, U+1F6AD, U+1F6B2, U+1F6B9-1F6BA, U+1F6BC, U+1F6C6-1F6CF, U+1F6D3-1F6D7, U+1F6E0-1F6EA, U+1F6F0-1F6F3, U+1F6F7-1F6FC, U+1F700-1F7FF, U+1F800-1F80B, U+1F810-1F847, U+1F850-1F859, U+1F860-1F887, U+1F890-1F8AD, U+1F8B0-1F8BB, U+1F8C0-1F8C1, U+1F900-1F90B, U+1F93B, U+1F946, U+1F984, U+1F996, U+1F9E9, U+1FA00-1FA6F, U+1FA70-1FA7C, U+1FA80-1FA89, U+1FA8F-1FAC6, U+1FACE-1FADC, U+1FADF-1FAE9, U+1FAF0-1FAF8, U+1FB00-1FBFF; }

@font-face { font-family: Roboto; font-style: normal; font-weight: 300; font-stretch: 100%; font-display: block; src: url("https://fonts.gstatic.com/s/roboto/v49/KFO7CnqEu92Fr1ME7kSn66aGLdTylUAMa3OUBHMdazTgWw.woff2") format("woff2"); unicode-range: U+102-103, U+110-111, U+128-129, U+168-169, U+1A0-1A1, U+1AF-1B0, U+300-301, U+303-304, U+308-309, U+323, U+329, U+1EA0-1EF9, U+20AB; }

@font-face { font-family: Roboto; font-style: normal; font-weight: 300; font-stretch: 100%; font-display: block; src: url("https://fonts.gstatic.com/s/roboto/v49/KFO7CnqEu92Fr1ME7kSn66aGLdTylUAMa3KUBHMdazTgWw.woff2") format("woff2"); unicode-range: U+100-2BA, U+2BD-2C5, U+2C7-2CC, U+2CE-2D7, U+2DD-2FF, U+304, U+308, U+329, U+1D00-1DBF, U+1E00-1E9F, U+1EF2-1EFF, U+2020, U+20A0-20AB, U+20AD-20C0, U+2113, U+2C60-2C7F, U+A720-A7FF; }

@font-face { font-family: Roboto; font-style: normal; font-weight: 300; font-stretch: 100%; font-display: block; src: url("https://fonts.gstatic.com/s/roboto/v49/KFO7CnqEu92Fr1ME7kSn66aGLdTylUAMa3yUBHMdazQ.woff2") format("woff2"); unicode-range: U+0-FF, U+131, U+152-153, U+2BB-2BC, U+2C6, U+2DA, U+2DC, U+304, U+308, U+329, U+2000-206F, U+20AC, U+2122, U+2191, U+2193, U+2212, U+2215, U+FEFF, U+FFFD; }

@font-face { font-family: Roboto; font-style: normal; font-weight: 400; font-stretch: 100%; font-display: block; src: url("https://fonts.gstatic.com/s/roboto/v49/KFO7CnqEu92Fr1ME7kSn66aGLdTylUAMa3GUBHMdazTgWw.woff2") format("woff2"); unicode-range: U+460-52F, U+1C80-1C8A, U+20B4, U+2DE0-2DFF, U+A640-A69F, U+FE2E-FE2F; }

@font-face { font-family: Roboto; font-style: normal; font-weight: 400; font-stretch: 100%; font-display: block; src: url("https://fonts.gstatic.com/s/roboto/v49/KFO7CnqEu92Fr1ME7kSn66aGLdTylUAMa3iUBHMdazTgWw.woff2") format("woff2"); unicode-range: U+301, U+400-45F, U+490-491, U+4B0-4B1, U+2116; }

@font-face { font-family: Roboto; font-style: normal; font-weight: 400; font-stretch: 100%; font-display: block; src: url("https://fonts.gstatic.com/s/roboto/v49/KFO7CnqEu92Fr1ME7kSn66aGLdTylUAMa3CUBHMdazTgWw.woff2") format("woff2"); unicode-range: U+1F00-1FFF; }

@font-face { font-family: Roboto; font-style: normal; font-weight: 400; font-stretch: 100%; font-display: block; src: url("https://fonts.gstatic.com/s/roboto/v49/KFO7CnqEu92Fr1ME7kSn66aGLdTylUAMa3-UBHMdazTgWw.woff2") format("woff2"); unicode-range: U+370-377, U+37A-37F, U+384-38A, U+38C, U+38E-3A1, U+3A3-3FF; }

@font-face { font-family: Roboto; font-style: normal; font-weight: 400; font-stretch: 100%; font-display: block; src: url("https://fonts.gstatic.com/s/roboto/v49/KFO7CnqEu92Fr1ME7kSn66aGLdTylUAMawCUBHMdazTgWw.woff2") format("woff2"); unicode-range: U+302-303, U+305, U+307-308, U+310, U+312, U+315, U+31A, U+326-327, U+32C, U+32F-330, U+332-333, U+338, U+33A, U+346, U+34D, U+391-3A1, U+3A3-3A9, U+3B1-3C9, U+3D1, U+3D5-3D6, U+3F0-3F1, U+3F4-3F5, U+2016-2017, U+2034-2038, U+203C, U+2040, U+2043, U+2047, U+2050, U+2057, U+205F, U+2070-2071, U+2074-208E, U+2090-209C, U+20D0-20DC, U+20E1, U+20E5-20EF, U+2100-2112, U+2114-2115, U+2117-2121, U+2123-214F, U+2190, U+2192, U+2194-21AE, U+21B0-21E5, U+21F1-21F2, U+21F4-2211, U+2213-2214, U+2216-22FF, U+2308-230B, U+2310, U+2319, U+231C-2321, U+2336-237A, U+237C, U+2395, U+239B-23B7, U+23D0, U+23DC-23E1, U+2474-2475, U+25AF, U+25B3, U+25B7, U+25BD, U+25C1, U+25CA, U+25CC, U+25FB, U+266D-266F, U+27C0-27FF, U+2900-2AFF, U+2B0E-2B11, U+2B30-2B4C, U+2BFE, U+3030, U+FF5B, U+FF5D, U+1D400-1D7FF, U+1EE00-1EEFF; }

@font-face { font-family: Roboto; font-style: normal; font-weight: 400; font-stretch: 100%; font-display: block; src: url("https://fonts.gstatic.com/s/roboto/v49/KFO7CnqEu92Fr1ME7kSn66aGLdTylUAMaxKUBHMdazTgWw.woff2") format("woff2"); unicode-range: U+1-C, U+E-1F, U+7F-9F, U+20DD-20E0, U+20E2-20E4, U+2150-218F, U+2190, U+2192, U+2194-2199, U+21AF, U+21E6-21F0, U+21F3, U+2218-2219, U+2299, U+22C4-22C6, U+2300-243F, U+2440-244A, U+2460-24FF, U+25A0-27BF, U+2800-28FF, U+2921-2922, U+2981, U+29BF, U+29EB, U+2B00-2BFF, U+4DC0-4DFF, U+FFF9-FFFB, U+10140-1018E, U+10190-1019C, U+101A0, U+101D0-101FD, U+102E0-102FB, U+10E60-10E7E, U+1D2C0-1D2D3, U+1D2E0-1D37F, U+1F000-1F0FF, U+1F100-1F1AD, U+1F1E6-1F1FF, U+1F30D-1F30F, U+1F315, U+1F31C, U+1F31E, U+1F320-1F32C, U+1F336, U+1F378, U+1F37D, U+1F382, U+1F393-1F39F, U+1F3A7-1F3A8, U+1F3AC-1F3AF, U+1F3C2, U+1F3C4-1F3C6, U+1F3CA-1F3CE, U+1F3D4-1F3E0, U+1F3ED, U+1F3F1-1F3F3, U+1F3F5-1F3F7, U+1F408, U+1F415, U+1F41F, U+1F426, U+1F43F, U+1F441-1F442, U+1F444, U+1F446-1F449, U+1F44C-1F44E, U+1F453, U+1F46A, U+1F47D, U+1F4A3, U+1F4B0, U+1F4B3, U+1F4B9, U+1F4BB, U+1F4BF, U+1F4C8-1F4CB, U+1F4D6, U+1F4DA, U+1F4DF, U+1F4E3-1F4E6, U+1F4EA-1F4ED, U+1F4F7, U+1F4F9-1F4FB, U+1F4FD-1F4FE, U+1F503, U+1F507-1F50B, U+1F50D, U+1F512-1F513, U+1F53E-1F54A, U+1F54F-1F5FA, U+1F610, U+1F650-1F67F, U+1F687, U+1F68D, U+1F691, U+1F694, U+1F698, U+1F6AD, U+1F6B2, U+1F6B9-1F6BA, U+1F6BC, U+1F6C6-1F6CF, U+1F6D3-1F6D7, U+1F6E0-1F6EA, U+1F6F0-1F6F3, U+1F6F7-1F6FC, U+1F700-1F7FF, U+1F800-1F80B, U+1F810-1F847, U+1F850-1F859, U+1F860-1F887, U+1F890-1F8AD, U+1F8B0-1F8BB, U+1F8C0-1F8C1, U+1F900-1F90B, U+1F93B, U+1F946, U+1F984, U+1F996, U+1F9E9, U+1FA00-1FA6F, U+1FA70-1FA7C, U+1FA80-1FA89, U+1FA8F-1FAC6, U+1FACE-1FADC, U+1FADF-1FAE9, U+1FAF0-1FAF8, U+1FB00-1FBFF; }

@font-face { font-family: Roboto; font-style: normal; font-weight: 400; font-stretch: 100%; font-display: block; src: url("https://fonts.gstatic.com/s/roboto/v49/KFO7CnqEu92Fr1ME7kSn66aGLdTylUAMa3OUBHMdazTgWw.woff2") format("woff2"); unicode-range: U+102-103, U+110-111, U+128-129, U+168-169, U+1A0-1A1, U+1AF-1B0, U+300-301, U+303-304, U+308-309, U+323, U+329, U+1EA0-1EF9, U+20AB; }

@font-face { font-family: Roboto; font-style: normal; font-weight: 400; font-stretch: 100%; font-display: block; src: url("https://fonts.gstatic.com/s/roboto/v49/KFO7CnqEu92Fr1ME7kSn66aGLdTylUAMa3KUBHMdazTgWw.woff2") format("woff2"); unicode-range: U+100-2BA, U+2BD-2C5, U+2C7-2CC, U+2CE-2D7, U+2DD-2FF, U+304, U+308, U+329, U+1D00-1DBF, U+1E00-1E9F, U+1EF2-1EFF, U+2020, U+20A0-20AB, U+20AD-20C0, U+2113, U+2C60-2C7F, U+A720-A7FF; }

@font-face { font-family: Roboto; font-style: normal; font-weight: 400; font-stretch: 100%; font-display: block; src: url("https://fonts.gstatic.com/s/roboto/v49/KFO7CnqEu92Fr1ME7kSn66aGLdTylUAMa3yUBHMdazQ.woff2") format("woff2"); unicode-range: U+0-FF, U+131, U+152-153, U+2BB-2BC, U+2C6, U+2DA, U+2DC, U+304, U+308, U+329, U+2000-206F, U+20AC, U+2122, U+2191, U+2193, U+2212, U+2215, U+FEFF, U+FFFD; }

@font-face { font-family: Roboto; font-style: normal; font-weight: 500; font-stretch: 100%; font-display: block; src: url("https://fonts.gstatic.com/s/roboto/v49/KFO7CnqEu92Fr1ME7kSn66aGLdTylUAMa3GUBHMdazTgWw.woff2") format("woff2"); unicode-range: U+460-52F, U+1C80-1C8A, U+20B4, U+2DE0-2DFF, U+A640-A69F, U+FE2E-FE2F; }

@font-face { font-family: Roboto; font-style: normal; font-weight: 500; font-stretch: 100%; font-display: block; src: url("https://fonts.gstatic.com/s/roboto/v49/KFO7CnqEu92Fr1ME7kSn66aGLdTylUAMa3iUBHMdazTgWw.woff2") format("woff2"); unicode-range: U+301, U+400-45F, U+490-491, U+4B0-4B1, U+2116; }

@font-face { font-family: Roboto; font-style: normal; font-weight: 500; font-stretch: 100%; font-display: block; src: url("https://fonts.gstatic.com/s/roboto/v49/KFO7CnqEu92Fr1ME7kSn66aGLdTylUAMa3CUBHMdazTgWw.woff2") format("woff2"); unicode-range: U+1F00-1FFF; }

@font-face { font-family: Roboto; font-style: normal; font-weight: 500; font-stretch: 100%; font-display: block; src: url("https://fonts.gstatic.com/s/roboto/v49/KFO7CnqEu92Fr1ME7kSn66aGLdTylUAMa3-UBHMdazTgWw.woff2") format("woff2"); unicode-range: U+370-377, U+37A-37F, U+384-38A, U+38C, U+38E-3A1, U+3A3-3FF; }

@font-face { font-family: Roboto; font-style: normal; font-weight: 500; font-stretch: 100%; font-display: block; src: url("https://fonts.gstatic.com/s/roboto/v49/KFO7CnqEu92Fr1ME7kSn66aGLdTylUAMawCUBHMdazTgWw.woff2") format("woff2"); unicode-range: U+302-303, U+305, U+307-308, U+310, U+312, U+315, U+31A, U+326-327, U+32C, U+32F-330, U+332-333, U+338, U+33A, U+346, U+34D, U+391-3A1, U+3A3-3A9, U+3B1-3C9, U+3D1, U+3D5-3D6, U+3F0-3F1, U+3F4-3F5, U+2016-2017, U+2034-2038, U+203C, U+2040, U+2043, U+2047, U+2050, U+2057, U+205F, U+2070-2071, U+2074-208E, U+2090-209C, U+20D0-20DC, U+20E1, U+20E5-20EF, U+2100-2112, U+2114-2115, U+2117-2121, U+2123-214F, U+2190, U+2192, U+2194-21AE, U+21B0-21E5, U+21F1-21F2, U+21F4-2211, U+2213-2214, U+2216-22FF, U+2308-230B, U+2310, U+2319, U+231C-2321, U+2336-237A, U+237C, U+2395, U+239B-23B7, U+23D0, U+23DC-23E1, U+2474-2475, U+25AF, U+25B3, U+25B7, U+25BD, U+25C1, U+25CA, U+25CC, U+25FB, U+266D-266F, U+27C0-27FF, U+2900-2AFF, U+2B0E-2B11, U+2B30-2B4C, U+2BFE, U+3030, U+FF5B, U+FF5D, U+1D400-1D7FF, U+1EE00-1EEFF; }

@font-face { font-family: Roboto; font-style: normal; font-weight: 500; font-stretch: 100%; font-display: block; src: url("https://fonts.gstatic.com/s/roboto/v49/KFO7CnqEu92Fr1ME7kSn66aGLdTylUAMaxKUBHMdazTgWw.woff2") format("woff2"); unicode-range: U+1-C, U+E-1F, U+7F-9F, U+20DD-20E0, U+20E2-20E4, U+2150-218F, U+2190, U+2192, U+2194-2199, U+21AF, U+21E6-21F0, U+21F3, U+2218-2219, U+2299, U+22C4-22C6, U+2300-243F, U+2440-244A, U+2460-24FF, U+25A0-27BF, U+2800-28FF, U+2921-2922, U+2981, U+29BF, U+29EB, U+2B00-2BFF, U+4DC0-4DFF, U+FFF9-FFFB, U+10140-1018E, U+10190-1019C, U+101A0, U+101D0-101FD, U+102E0-102FB, U+10E60-10E7E, U+1D2C0-1D2D3, U+1D2E0-1D37F, U+1F000-1F0FF, U+1F100-1F1AD, U+1F1E6-1F1FF, U+1F30D-1F30F, U+1F315, U+1F31C, U+1F31E, U+1F320-1F32C, U+1F336, U+1F378, U+1F37D, U+1F382, U+1F393-1F39F, U+1F3A7-1F3A8, U+1F3AC-1F3AF, U+1F3C2, U+1F3C4-1F3C6, U+1F3CA-1F3CE, U+1F3D4-1F3E0, U+1F3ED, U+1F3F1-1F3F3, U+1F3F5-1F3F7, U+1F408, U+1F415, U+1F41F, U+1F426, U+1F43F, U+1F441-1F442, U+1F444, U+1F446-1F449, U+1F44C-1F44E, U+1F453, U+1F46A, U+1F47D, U+1F4A3, U+1F4B0, U+1F4B3, U+1F4B9, U+1F4BB, U+1F4BF, U+1F4C8-1F4CB, U+1F4D6, U+1F4DA, U+1F4DF, U+1F4E3-1F4E6, U+1F4EA-1F4ED, U+1F4F7, U+1F4F9-1F4FB, U+1F4FD-1F4FE, U+1F503, U+1F507-1F50B, U+1F50D, U+1F512-1F513, U+1F53E-1F54A, U+1F54F-1F5FA, U+1F610, U+1F650-1F67F, U+1F687, U+1F68D, U+1F691, U+1F694, U+1F698, U+1F6AD, U+1F6B2, U+1F6B9-1F6BA, U+1F6BC, U+1F6C6-1F6CF, U+1F6D3-1F6D7, U+1F6E0-1F6EA, U+1F6F0-1F6F3, U+1F6F7-1F6FC, U+1F700-1F7FF, U+1F800-1F80B, U+1F810-1F847, U+1F850-1F859, U+1F860-1F887, U+1F890-1F8AD, U+1F8B0-1F8BB, U+1F8C0-1F8C1, U+1F900-1F90B, U+1F93B, U+1F946, U+1F984, U+1F996, U+1F9E9, U+1FA00-1FA6F, U+1FA70-1FA7C, U+1FA80-1FA89, U+1FA8F-1FAC6, U+1FACE-1FADC, U+1FADF-1FAE9, U+1FAF0-1FAF8, U+1FB00-1FBFF; }

@font-face { font-family: Roboto; font-style: normal; font-weight: 500; font-stretch: 100%; font-display: block; src: url("https://fonts.gstatic.com/s/roboto/v49/KFO7CnqEu92Fr1ME7kSn66aGLdTylUAMa3OUBHMdazTgWw.woff2") format("woff2"); unicode-range: U+102-103, U+110-111, U+128-129, U+168-169, U+1A0-1A1, U+1AF-1B0, U+300-301, U+303-304, U+308-309, U+323, U+329, U+1EA0-1EF9, U+20AB; }

@font-face { font-family: Roboto; font-style: normal; font-weight: 500; font-stretch: 100%; font-display: block; src: url("https://fonts.gstatic.com/s/roboto/v49/KFO7CnqEu92Fr1ME7kSn66aGLdTylUAMa3KUBHMdazTgWw.woff2") format("woff2"); unicode-range: U+100-2BA, U+2BD-2C5, U+2C7-2CC, U+2CE-2D7, U+2DD-2FF, U+304, U+308, U+329, U+1D00-1DBF, U+1E00-1E9F, U+1EF2-1EFF, U+2020, U+20A0-20AB, U+20AD-20C0, U+2113, U+2C60-2C7F, U+A720-A7FF; }

@font-face { font-family: Roboto; font-style: normal; font-weight: 500; font-stretch: 100%; font-display: block; src: url("https://fonts.gstatic.com/s/roboto/v49/KFO7CnqEu92Fr1ME7kSn66aGLdTylUAMa3yUBHMdazQ.woff2") format("woff2"); unicode-range: U+0-FF, U+131, U+152-153, U+2BB-2BC, U+2C6, U+2DA, U+2DC, U+304, U+308, U+329, U+2000-206F, U+20AC, U+2122, U+2191, U+2193, U+2212, U+2215, U+FEFF, U+FFFD; }

@font-face { font-family: Roboto; font-style: normal; font-weight: 600; font-stretch: 100%; font-display: block; src: url("https://fonts.gstatic.com/s/roboto/v49/KFO7CnqEu92Fr1ME7kSn66aGLdTylUAMa3GUBHMdazTgWw.woff2") format("woff2"); unicode-range: U+460-52F, U+1C80-1C8A, U+20B4, U+2DE0-2DFF, U+A640-A69F, U+FE2E-FE2F; }

@font-face { font-family: Roboto; font-style: normal; font-weight: 600; font-stretch: 100%; font-display: block; src: url("https://fonts.gstatic.com/s/roboto/v49/KFO7CnqEu92Fr1ME7kSn66aGLdTylUAMa3iUBHMdazTgWw.woff2") format("woff2"); unicode-range: U+301, U+400-45F, U+490-491, U+4B0-4B1, U+2116; }

@font-face { font-family: Roboto; font-style: normal; font-weight: 600; font-stretch: 100%; font-display: block; src: url("https://fonts.gstatic.com/s/roboto/v49/KFO7CnqEu92Fr1ME7kSn66aGLdTylUAMa3CUBHMdazTgWw.woff2") format("woff2"); unicode-range: U+1F00-1FFF; }

@font-face { font-family: Roboto; font-style: normal; font-weight: 600; font-stretch: 100%; font-display: block; src: url("https://fonts.gstatic.com/s/roboto/v49/KFO7CnqEu92Fr1ME7kSn66aGLdTylUAMa3-UBHMdazTgWw.woff2") format("woff2"); unicode-range: U+370-377, U+37A-37F, U+384-38A, U+38C, U+38E-3A1, U+3A3-3FF; }

@font-face { font-family: Roboto; font-style: normal; font-weight: 600; font-stretch: 100%; font-display: block; src: url("https://fonts.gstatic.com/s/roboto/v49/KFO7CnqEu92Fr1ME7kSn66aGLdTylUAMawCUBHMdazTgWw.woff2") format("woff2"); unicode-range: U+302-303, U+305, U+307-308, U+310, U+312, U+315, U+31A, U+326-327, U+32C, U+32F-330, U+332-333, U+338, U+33A, U+346, U+34D, U+391-3A1, U+3A3-3A9, U+3B1-3C9, U+3D1, U+3D5-3D6, U+3F0-3F1, U+3F4-3F5, U+2016-2017, U+2034-2038, U+203C, U+2040, U+2043, U+2047, U+2050, U+2057, U+205F, U+2070-2071, U+2074-208E, U+2090-209C, U+20D0-20DC, U+20E1, U+20E5-20EF, U+2100-2112, U+2114-2115, U+2117-2121, U+2123-214F, U+2190, U+2192, U+2194-21AE, U+21B0-21E5, U+21F1-21F2, U+21F4-2211, U+2213-2214, U+2216-22FF, U+2308-230B, U+2310, U+2319, U+231C-2321, U+2336-237A, U+237C, U+2395, U+239B-23B7, U+23D0, U+23DC-23E1, U+2474-2475, U+25AF, U+25B3, U+25B7, U+25BD, U+25C1, U+25CA, U+25CC, U+25FB, U+266D-266F, U+27C0-27FF, U+2900-2AFF, U+2B0E-2B11, U+2B30-2B4C, U+2BFE, U+3030, U+FF5B, U+FF5D, U+1D400-1D7FF, U+1EE00-1EEFF; }

@font-face { font-family: Roboto; font-style: normal; font-weight: 600; font-stretch: 100%; font-display: block; src: url("https://fonts.gstatic.com/s/roboto/v49/KFO7CnqEu92Fr1ME7kSn66aGLdTylUAMaxKUBHMdazTgWw.woff2") format("woff2"); unicode-range: U+1-C, U+E-1F, U+7F-9F, U+20DD-20E0, U+20E2-20E4, U+2150-218F, U+2190, U+2192, U+2194-2199, U+21AF, U+21E6-21F0, U+21F3, U+2218-2219, U+2299, U+22C4-22C6, U+2300-243F, U+2440-244A, U+2460-24FF, U+25A0-27BF, U+2800-28FF, U+2921-2922, U+2981, U+29BF, U+29EB, U+2B00-2BFF, U+4DC0-4DFF, U+FFF9-FFFB, U+10140-1018E, U+10190-1019C, U+101A0, U+101D0-101FD, U+102E0-102FB, U+10E60-10E7E, U+1D2C0-1D2D3, U+1D2E0-1D37F, U+1F000-1F0FF, U+1F100-1F1AD, U+1F1E6-1F1FF, U+1F30D-1F30F, U+1F315, U+1F31C, U+1F31E, U+1F320-1F32C, U+1F336, U+1F378, U+1F37D, U+1F382, U+1F393-1F39F, U+1F3A7-1F3A8, U+1F3AC-1F3AF, U+1F3C2, U+1F3C4-1F3C6, U+1F3CA-1F3CE, U+1F3D4-1F3E0, U+1F3ED, U+1F3F1-1F3F3, U+1F3F5-1F3F7, U+1F408, U+1F415, U+1F41F, U+1F426, U+1F43F, U+1F441-1F442, U+1F444, U+1F446-1F449, U+1F44C-1F44E, U+1F453, U+1F46A, U+1F47D, U+1F4A3, U+1F4B0, U+1F4B3, U+1F4B9, U+1F4BB, U+1F4BF, U+1F4C8-1F4CB, U+1F4D6, U+1F4DA, U+1F4DF, U+1F4E3-1F4E6, U+1F4EA-1F4ED, U+1F4F7, U+1F4F9-1F4FB, U+1F4FD-1F4FE, U+1F503, U+1F507-1F50B, U+1F50D, U+1F512-1F513, U+1F53E-1F54A, U+1F54F-1F5FA, U+1F610, U+1F650-1F67F, U+1F687, U+1F68D, U+1F691, U+1F694, U+1F698, U+1F6AD, U+1F6B2, U+1F6B9-1F6BA, U+1F6BC, U+1F6C6-1F6CF, U+1F6D3-1F6D7, U+1F6E0-1F6EA, U+1F6F0-1F6F3, U+1F6F7-1F6FC, U+1F700-1F7FF, U+1F800-1F80B, U+1F810-1F847, U+1F850-1F859, U+1F860-1F887, U+1F890-1F8AD, U+1F8B0-1F8BB, U+1F8C0-1F8C1, U+1F900-1F90B, U+1F93B, U+1F946, U+1F984, U+1F996, U+1F9E9, U+1FA00-1FA6F, U+1FA70-1FA7C, U+1FA80-1FA89, U+1FA8F-1FAC6, U+1FACE-1FADC, U+1FADF-1FAE9, U+1FAF0-1FAF8, U+1FB00-1FBFF; }

@font-face { font-family: Roboto; font-style: normal; font-weight: 600; font-stretch: 100%; font-display: block; src: url("https://fonts.gstatic.com/s/roboto/v49/KFO7CnqEu92Fr1ME7kSn66aGLdTylUAMa3OUBHMdazTgWw.woff2") format("woff2"); unicode-range: U+102-103, U+110-111, U+128-129, U+168-169, U+1A0-1A1, U+1AF-1B0, U+300-301, U+303-304, U+308-309, U+323, U+329, U+1EA0-1EF9, U+20AB; }

@font-face { font-family: Roboto; font-style: normal; font-weight: 600; font-stretch: 100%; font-display: block; src: url("https://fonts.gstatic.com/s/roboto/v49/KFO7CnqEu92Fr1ME7kSn66aGLdTylUAMa3KUBHMdazTgWw.woff2") format("woff2"); unicode-range: U+100-2BA, U+2BD-2C5, U+2C7-2CC, U+2CE-2D7, U+2DD-2FF, U+304, U+308, U+329, U+1D00-1DBF, U+1E00-1E9F, U+1EF2-1EFF, U+2020, U+20A0-20AB, U+20AD-20C0, U+2113, U+2C60-2C7F, U+A720-A7FF; }

@font-face { font-family: Roboto; font-style: normal; font-weight: 600; font-stretch: 100%; font-display: block; src: url("https://fonts.gstatic.com/s/roboto/v49/KFO7CnqEu92Fr1ME7kSn66aGLdTylUAMa3yUBHMdazQ.woff2") format("woff2"); unicode-range: U+0-FF, U+131, U+152-153, U+2BB-2BC, U+2C6, U+2DA, U+2DC, U+304, U+308, U+329, U+2000-206F, U+20AC, U+2122, U+2191, U+2193, U+2212, U+2215, U+FEFF, U+FFFD; }

@font-face { font-family: Roboto; font-style: normal; font-weight: 700; font-stretch: 100%; font-display: block; src: url("https://fonts.gstatic.com/s/roboto/v49/KFO7CnqEu92Fr1ME7kSn66aGLdTylUAMa3GUBHMdazTgWw.woff2") format("woff2"); unicode-range: U+460-52F, U+1C80-1C8A, U+20B4, U+2DE0-2DFF, U+A640-A69F, U+FE2E-FE2F; }

@font-face { font-family: Roboto; font-style: normal; font-weight: 700; font-stretch: 100%; font-display: block; src: url("https://fonts.gstatic.com/s/roboto/v49/KFO7CnqEu92Fr1ME7kSn66aGLdTylUAMa3iUBHMdazTgWw.woff2") format("woff2"); unicode-range: U+301, U+400-45F, U+490-491, U+4B0-4B1, U+2116; }

@font-face { font-family: Roboto; font-style: normal; font-weight: 700; font-stretch: 100%; font-display: block; src: url("https://fonts.gstatic.com/s/roboto/v49/KFO7CnqEu92Fr1ME7kSn66aGLdTylUAMa3CUBHMdazTgWw.woff2") format("woff2"); unicode-range: U+1F00-1FFF; }

@font-face { font-family: Roboto; font-style: normal; font-weight: 700; font-stretch: 100%; font-display: block; src: url("https://fonts.gstatic.com/s/roboto/v49/KFO7CnqEu92Fr1ME7kSn66aGLdTylUAMa3-UBHMdazTgWw.woff2") format("woff2"); unicode-range: U+370-377, U+37A-37F, U+384-38A, U+38C, U+38E-3A1, U+3A3-3FF; }

@font-face { font-family: Roboto; font-style: normal; font-weight: 700; font-stretch: 100%; font-display: block; src: url("https://fonts.gstatic.com/s/roboto/v49/KFO7CnqEu92Fr1ME7kSn66aGLdTylUAMawCUBHMdazTgWw.woff2") format("woff2"); unicode-range: U+302-303, U+305, U+307-308, U+310, U+312, U+315, U+31A, U+326-327, U+32C, U+32F-330, U+332-333, U+338, U+33A, U+346, U+34D, U+391-3A1, U+3A3-3A9, U+3B1-3C9, U+3D1, U+3D5-3D6, U+3F0-3F1, U+3F4-3F5, U+2016-2017, U+2034-2038, U+203C, U+2040, U+2043, U+2047, U+2050, U+2057, U+205F, U+2070-2071, U+2074-208E, U+2090-209C, U+20D0-20DC, U+20E1, U+20E5-20EF, U+2100-2112, U+2114-2115, U+2117-2121, U+2123-214F, U+2190, U+2192, U+2194-21AE, U+21B0-21E5, U+21F1-21F2, U+21F4-2211, U+2213-2214, U+2216-22FF, U+2308-230B, U+2310, U+2319, U+231C-2321, U+2336-237A, U+237C, U+2395, U+239B-23B7, U+23D0, U+23DC-23E1, U+2474-2475, U+25AF, U+25B3, U+25B7, U+25BD, U+25C1, U+25CA, U+25CC, U+25FB, U+266D-266F, U+27C0-27FF, U+2900-2AFF, U+2B0E-2B11, U+2B30-2B4C, U+2BFE, U+3030, U+FF5B, U+FF5D, U+1D400-1D7FF, U+1EE00-1EEFF; }

@font-face { font-family: Roboto; font-style: normal; font-weight: 700; font-stretch: 100%; font-display: block; src: url("https://fonts.gstatic.com/s/roboto/v49/KFO7CnqEu92Fr1ME7kSn66aGLdTylUAMaxKUBHMdazTgWw.woff2") format("woff2"); unicode-range: U+1-C, U+E-1F, U+7F-9F, U+20DD-20E0, U+20E2-20E4, U+2150-218F, U+2190, U+2192, U+2194-2199, U+21AF, U+21E6-21F0, U+21F3, U+2218-2219, U+2299, U+22C4-22C6, U+2300-243F, U+2440-244A, U+2460-24FF, U+25A0-27BF, U+2800-28FF, U+2921-2922, U+2981, U+29BF, U+29EB, U+2B00-2BFF, U+4DC0-4DFF, U+FFF9-FFFB, U+10140-1018E, U+10190-1019C, U+101A0, U+101D0-101FD, U+102E0-102FB, U+10E60-10E7E, U+1D2C0-1D2D3, U+1D2E0-1D37F, U+1F000-1F0FF, U+1F100-1F1AD, U+1F1E6-1F1FF, U+1F30D-1F30F, U+1F315, U+1F31C, U+1F31E, U+1F320-1F32C, U+1F336, U+1F378, U+1F37D, U+1F382, U+1F393-1F39F, U+1F3A7-1F3A8, U+1F3AC-1F3AF, U+1F3C2, U+1F3C4-1F3C6, U+1F3CA-1F3CE, U+1F3D4-1F3E0, U+1F3ED, U+1F3F1-1F3F3, U+1F3F5-1F3F7, U+1F408, U+1F415, U+1F41F, U+1F426, U+1F43F, U+1F441-1F442, U+1F444, U+1F446-1F449, U+1F44C-1F44E, U+1F453, U+1F46A, U+1F47D, U+1F4A3, U+1F4B0, U+1F4B3, U+1F4B9, U+1F4BB, U+1F4BF, U+1F4C8-1F4CB, U+1F4D6, U+1F4DA, U+1F4DF, U+1F4E3-1F4E6, U+1F4EA-1F4ED, U+1F4F7, U+1F4F9-1F4FB, U+1F4FD-1F4FE, U+1F503, U+1F507-1F50B, U+1F50D, U+1F512-1F513, U+1F53E-1F54A, U+1F54F-1F5FA, U+1F610, U+1F650-1F67F, U+1F687, U+1F68D, U+1F691, U+1F694, U+1F698, U+1F6AD, U+1F6B2, U+1F6B9-1F6BA, U+1F6BC, U+1F6C6-1F6CF, U+1F6D3-1F6D7, U+1F6E0-1F6EA, U+1F6F0-1F6F3, U+1F6F7-1F6FC, U+1F700-1F7FF, U+1F800-1F80B, U+1F810-1F847, U+1F850-1F859, U+1F860-1F887, U+1F890-1F8AD, U+1F8B0-1F8BB, U+1F8C0-1F8C1, U+1F900-1F90B, U+1F93B, U+1F946, U+1F984, U+1F996, U+1F9E9, U+1FA00-1FA6F, U+1FA70-1FA7C, U+1FA80-1FA89, U+1FA8F-1FAC6, U+1FACE-1FADC, U+1FADF-1FAE9, U+1FAF0-1FAF8, U+1FB00-1FBFF; }

@font-face { font-family: Roboto; font-style: normal; font-weight: 700; font-stretch: 100%; font-display: block; src: url("https://fonts.gstatic.com/s/roboto/v49/KFO7CnqEu92Fr1ME7kSn66aGLdTylUAMa3OUBHMdazTgWw.woff2") format("woff2"); unicode-range: U+102-103, U+110-111, U+128-129, U+168-169, U+1A0-1A1, U+1AF-1B0, U+300-301, U+303-304, U+308-309, U+323, U+329, U+1EA0-1EF9, U+20AB; }

@font-face { font-family: Roboto; font-style: normal; font-weight: 700; font-stretch: 100%; font-display: block; src: url("https://fonts.gstatic.com/s/roboto/v49/KFO7CnqEu92Fr1ME7kSn66aGLdTylUAMa3KUBHMdazTgWw.woff2") format("woff2"); unicode-range: U+100-2BA, U+2BD-2C5, U+2C7-2CC, U+2CE-2D7, U+2DD-2FF, U+304, U+308, U+329, U+1D00-1DBF, U+1E00-1E9F, U+1EF2-1EFF, U+2020, U+20A0-20AB, U+20AD-20C0, U+2113, U+2C60-2C7F, U+A720-A7FF; }

@font-face { font-family: Roboto; font-style: normal; font-weight: 700; font-stretch: 100%; font-display: block; src: url("https://fonts.gstatic.com/s/roboto/v49/KFO7CnqEu92Fr1ME7kSn66aGLdTylUAMa3yUBHMdazQ.woff2") format("woff2"); unicode-range: U+0-FF, U+131, U+152-153, U+2BB-2BC, U+2C6, U+2DA, U+2DC, U+304, U+308, U+329, U+2000-206F, U+20AC, U+2122, U+2191, U+2193, U+2212, U+2215, U+FEFF, U+FFFD; }
------MultipartBoundary--o4C46MD1v5LjRKaEEJJp6V0O1heQ16TtDUGnAqoxwB----
Content-Type: text/css
Content-Transfer-Encoding: binary
Content-Location: https://fonts.googleapis.com/css2?family=Google+Symbols:FILL@0..1&display=block

@charset "utf-8";

@font-face { font-family: "Google Symbols"; font-style: normal; font-weight: 400; font-display: block; src: url("https://fonts.gstatic.com/s/googlesymbols/v372/HhzZU5Ak9u-oMExPeInvcuEmPosC9zS3FYkFU68cPrjdKM1XMoDZlWmzc3IiWvF1SbxVhQidBnv_C_ar1J9g0sLBUv3G8taXmBpH-Bw.woff2") format("woff2"); }

.google-symbols { font-family: "Google Symbols"; font-weight: normal; font-style: normal; font-size: 24px; line-height: 1; letter-spacing: normal; text-transform: none; display: inline-block; white-space: nowrap; overflow-wrap: normal; direction: ltr; font-feature-settings: "liga"; -webkit-font-smoothing: antialiased; }
------MultipartBoundary--o4C46MD1v5LjRKaEEJJp6V0O1heQ16TtDUGnAqoxwB----
Content-Type: text/css
Content-Transfer-Encoding: binary
Content-Location: cid:css-3f47b6db-55fd-4239-8ad8-58dcde105231@mhtml.blink

@charset "utf-8";

.codicon-add::before { content: ""; }

.codicon-plus::before { content: ""; }

.codicon-gist-new::before { content: ""; }

.codicon-repo-create::before { content: ""; }

.codicon-lightbulb::before { content: ""; }

.codicon-light-bulb::before { content: ""; }

.codicon-repo::before { content: ""; }

.codicon-repo-delete::before { content: ""; }

.codicon-gist-fork::before { content: ""; }

.codicon-repo-forked::before { content: ""; }

.codicon-git-pull-request::before { content: ""; }

.codicon-git-pull-request-abandoned::before { content: ""; }

.codicon-record-keys::before { content: ""; }

.codicon-keyboard::before { content: ""; }

.codicon-tag::before { content: ""; }

.codicon-tag-add::before { content: ""; }

.codicon-tag-remove::before { content: ""; }

.codicon-person::before { content: ""; }

.codicon-person-follow::before { content: ""; }

.codicon-person-outline::before { content: ""; }

.codicon-person-filled::before { content: ""; }

.codicon-git-branch::before { content: ""; }

.codicon-git-branch-create::before { content: ""; }

.codicon-git-branch-delete::before { content: ""; }

.codicon-source-control::before { content: ""; }

.codicon-mirror::before { content: ""; }

.codicon-mirror-public::before { content: ""; }

.codicon-star::before { content: ""; }

.codicon-star-add::before { content: ""; }

.codicon-star-delete::before { content: ""; }

.codicon-star-empty::before { content: ""; }

.codicon-comment::before { content: ""; }

.codicon-comment-add::before { content: ""; }

.codicon-alert::before { content: ""; }

.codicon-warning::before { content: ""; }

.codicon-search::before { content: ""; }

.codicon-search-save::before { content: ""; }

.codicon-log-out::before { content: ""; }

.codicon-sign-out::before { content: ""; }

.codicon-log-in::before { content: ""; }

.codicon-sign-in::before { content: ""; }

.codicon-eye::before { content: ""; }

.codicon-eye-unwatch::before { content: ""; }

.codicon-eye-watch::before { content: ""; }

.codicon-circle-filled::before { content: ""; }

.codicon-primitive-dot::before { content: ""; }

.codicon-close-dirty::before { content: ""; }

.codicon-debug-breakpoint::before { content: ""; }

.codicon-debug-breakpoint-disabled::before { content: ""; }

.codicon-debug-hint::before { content: ""; }

.codicon-primitive-square::before { content: ""; }

.codicon-edit::before { content: ""; }

.codicon-pencil::before { content: ""; }

.codicon-info::before { content: ""; }

.codicon-issue-opened::before { content: ""; }

.codicon-gist-private::before { content: ""; }

.codicon-git-fork-private::before { content: ""; }

.codicon-lock::before { content: ""; }

.codicon-mirror-private::before { content: ""; }

.codicon-close::before { content: ""; }

.codicon-remove-close::before { content: ""; }

.codicon-x::before { content: ""; }

.codicon-repo-sync::before { content: ""; }

.codicon-sync::before { content: ""; }

.codicon-clone::before { content: ""; }

.codicon-desktop-download::before { content: ""; }

.codicon-beaker::before { content: ""; }

.codicon-microscope::before { content: ""; }

.codicon-vm::before { content: ""; }

.codicon-device-desktop::before { content: ""; }

.codicon-file::before { content: ""; }

.codicon-file-text::before { content: ""; }

.codicon-more::before { content: ""; }

.codicon-ellipsis::before { content: ""; }

.codicon-kebab-horizontal::before { content: ""; }

.codicon-mail-reply::before { content: ""; }

.codicon-reply::before { content: ""; }

.codicon-organization::before { content: ""; }

.codicon-organization-filled::before { content: ""; }

.codicon-organization-outline::before { content: ""; }

.codicon-new-file::before { content: ""; }

.codicon-file-add::before { content: ""; }

.codicon-new-folder::before { content: ""; }

.codicon-file-directory-create::before { content: ""; }

.codicon-trash::before { content: ""; }

.codicon-trashcan::before { content: ""; }

.codicon-history::before { content: ""; }

.codicon-clock::before { content: ""; }

.codicon-folder::before { content: ""; }

.codicon-file-directory::before { content: ""; }

.codicon-symbol-folder::before { content: ""; }

.codicon-logo-github::before { content: ""; }

.codicon-mark-github::before { content: ""; }

.codicon-github::before { content: ""; }

.codicon-terminal::before { content: ""; }

.codicon-console::before { content: ""; }

.codicon-repl::before { content: ""; }

.codicon-zap::before { content: ""; }

.codicon-symbol-event::before { content: ""; }

.codicon-error::before { content: ""; }

.codicon-stop::before { content: ""; }

.codicon-variable::before { content: ""; }

.codicon-symbol-variable::before { content: ""; }

.codicon-array::before { content: ""; }

.codicon-symbol-array::before { content: ""; }

.codicon-symbol-module::before { content: ""; }

.codicon-symbol-package::before { content: ""; }

.codicon-symbol-namespace::before { content: ""; }

.codicon-symbol-object::before { content: ""; }

.codicon-symbol-method::before { content: ""; }

.codicon-symbol-function::before { content: ""; }

.codicon-symbol-constructor::before { content: ""; }

.codicon-symbol-boolean::before { content: ""; }

.codicon-symbol-null::before { content: ""; }

.codicon-symbol-numeric::before { content: ""; }

.codicon-symbol-number::before { content: ""; }

.codicon-symbol-structure::before { content: ""; }

.codicon-symbol-struct::before { content: ""; }

.codicon-symbol-parameter::before { content: ""; }

.codicon-symbol-type-parameter::before { content: ""; }

.codicon-symbol-key::before { content: ""; }

.codicon-symbol-text::before { content: ""; }

.codicon-symbol-reference::before { content: ""; }

.codicon-go-to-file::before { content: ""; }

.codicon-symbol-enum::before { content: ""; }

.codicon-symbol-value::before { content: ""; }

.codicon-symbol-ruler::before { content: ""; }

.codicon-symbol-unit::before { content: ""; }

.codicon-activate-breakpoints::before { content: ""; }

.codicon-archive::before { content: ""; }

.codicon-arrow-both::before { content: ""; }

.codicon-arrow-down::before { content: ""; }

.codicon-arrow-left::before { content: ""; }

.codicon-arrow-right::before { content: ""; }

.codicon-arrow-small-down::before { content: ""; }

.codicon-arrow-small-left::before { content: ""; }

.codicon-arrow-small-right::before { content: ""; }

.codicon-arrow-small-up::before { content: ""; }

.codicon-arrow-up::before { content: ""; }

.codicon-bell::before { content: ""; }

.codicon-bold::before { content: ""; }

.codicon-book::before { content: ""; }

.codicon-bookmark::before { content: ""; }

.codicon-debug-breakpoint-conditional-unverified::before { content: ""; }

.codicon-debug-breakpoint-conditional::before { content: ""; }

.codicon-debug-breakpoint-conditional-disabled::before { content: ""; }

.codicon-debug-breakpoint-data-unverified::before { content: ""; }

.codicon-debug-breakpoint-data::before { content: ""; }

.codicon-debug-breakpoint-data-disabled::before { content: ""; }

.codicon-debug-breakpoint-log-unverified::before { content: ""; }

.codicon-debug-breakpoint-log::before { content: ""; }

.codicon-debug-breakpoint-log-disabled::before { content: ""; }

.codicon-briefcase::before { content: ""; }

.codicon-broadcast::before { content: ""; }

.codicon-browser::before { content: ""; }

.codicon-bug::before { content: ""; }

.codicon-calendar::before { content: ""; }

.codicon-case-sensitive::before { content: ""; }

.codicon-check::before { content: ""; }

.codicon-checklist::before { content: ""; }

.codicon-chevron-down::before { content: ""; }

.codicon-drop-down-button::before { content: ""; }

.codicon-chevron-left::before { content: ""; }

.codicon-chevron-right::before { content: ""; }

.codicon-chevron-up::before { content: ""; }

.codicon-chrome-close::before { content: ""; }

.codicon-chrome-maximize::before { content: ""; }

.codicon-chrome-minimize::before { content: ""; }

.codicon-chrome-restore::before { content: ""; }

.codicon-circle::before { content: ""; }

.codicon-circle-outline::before { content: ""; }

.codicon-debug-breakpoint-unverified::before { content: ""; }

.codicon-circle-slash::before { content: ""; }

.codicon-circuit-board::before { content: ""; }

.codicon-clear-all::before { content: ""; }

.codicon-clippy::before { content: ""; }

.codicon-close-all::before { content: ""; }

.codicon-cloud-download::before { content: ""; }

.codicon-cloud-upload::before { content: ""; }

.codicon-code::before { content: ""; }

.codicon-collapse-all::before { content: ""; }

.codicon-color-mode::before { content: ""; }

.codicon-comment-discussion::before { content: ""; }

.codicon-compare-changes::before { content: ""; }

.codicon-credit-card::before { content: ""; }

.codicon-dash::before { content: ""; }

.codicon-dashboard::before { content: ""; }

.codicon-database::before { content: ""; }

.codicon-debug-continue::before { content: ""; }

.codicon-debug-disconnect::before { content: ""; }

.codicon-debug-pause::before { content: ""; }

.codicon-debug-restart::before { content: ""; }

.codicon-debug-start::before { content: ""; }

.codicon-debug-step-into::before { content: ""; }

.codicon-debug-step-out::before { content: ""; }

.codicon-debug-step-over::before { content: ""; }

.codicon-debug-stop::before { content: ""; }

.codicon-debug::before { content: ""; }

.codicon-device-camera-video::before { content: ""; }

.codicon-device-camera::before { content: ""; }

.codicon-device-mobile::before { content: ""; }

.codicon-diff-added::before { content: ""; }

.codicon-diff-ignored::before { content: ""; }

.codicon-diff-modified::before { content: ""; }

.codicon-diff-removed::before { content: ""; }

.codicon-diff-renamed::before { content: ""; }

.codicon-diff::before { content: ""; }

.codicon-discard::before { content: ""; }

.codicon-editor-layout::before { content: ""; }

.codicon-empty-window::before { content: ""; }

.codicon-exclude::before { content: ""; }

.codicon-extensions::before { content: ""; }

.codicon-eye-closed::before { content: ""; }

.codicon-file-binary::before { content: ""; }

.codicon-file-code::before { content: ""; }

.codicon-file-media::before { content: ""; }

.codicon-file-pdf::before { content: ""; }

.codicon-file-submodule::before { content: ""; }

.codicon-file-symlink-directory::before { content: ""; }

.codicon-file-symlink-file::before { content: ""; }

.codicon-file-zip::before { content: ""; }

.codicon-files::before { content: ""; }

.codicon-filter::before { content: ""; }

.codicon-flame::before { content: ""; }

.codicon-fold-down::before { content: ""; }

.codicon-fold-up::before { content: ""; }

.codicon-fold::before { content: ""; }

.codicon-folder-active::before { content: ""; }

.codicon-folder-opened::before { content: ""; }

.codicon-gear::before { content: ""; }

.codicon-gift::before { content: ""; }

.codicon-gist-secret::before { content: ""; }

.codicon-gist::before { content: ""; }

.codicon-git-commit::before { content: ""; }

.codicon-git-compare::before { content: ""; }

.codicon-git-merge::before { content: ""; }

.codicon-github-action::before { content: ""; }

.codicon-github-alt::before { content: ""; }

.codicon-globe::before { content: ""; }

.codicon-grabber::before { content: ""; }

.codicon-graph::before { content: ""; }

.codicon-gripper::before { content: ""; }

.codicon-heart::before { content: ""; }

.codicon-home::before { content: ""; }

.codicon-horizontal-rule::before { content: ""; }

.codicon-hubot::before { content: ""; }

.codicon-inbox::before { content: ""; }

.codicon-issue-closed::before { content: ""; }

.codicon-issue-reopened::before { content: ""; }

.codicon-issues::before { content: ""; }

.codicon-italic::before { content: ""; }

.codicon-jersey::before { content: ""; }

.codicon-json::before { content: ""; }

.codicon-bracket::before { content: ""; }

.codicon-kebab-vertical::before { content: ""; }

.codicon-key::before { content: ""; }

.codicon-law::before { content: ""; }

.codicon-lightbulb-autofix::before { content: ""; }

.codicon-link-external::before { content: ""; }

.codicon-link::before { content: ""; }

.codicon-list-ordered::before { content: ""; }

.codicon-list-unordered::before { content: ""; }

.codicon-live-share::before { content: ""; }

.codicon-loading::before { content: ""; }

.codicon-location::before { content: ""; }

.codicon-mail-read::before { content: ""; }

.codicon-mail::before { content: ""; }

.codicon-markdown::before { content: ""; }

.codicon-megaphone::before { content: ""; }

.codicon-mention::before { content: ""; }

.codicon-milestone::before { content: ""; }

.codicon-mortar-board::before { content: ""; }

.codicon-move::before { content: ""; }

.codicon-multiple-windows::before { content: ""; }

.codicon-mute::before { content: ""; }

.codicon-no-newline::before { content: ""; }

.codicon-note::before { content: ""; }

.codicon-octoface::before { content: ""; }

.codicon-open-preview::before { content: ""; }

.codicon-package::before { content: ""; }

.codicon-paintcan::before { content: ""; }

.codicon-pin::before { content: ""; }

.codicon-play::before { content: ""; }

.codicon-run::before { content: ""; }

.codicon-plug::before { content: ""; }

.codicon-preserve-case::before { content: ""; }

.codicon-preview::before { content: ""; }

.codicon-project::before { content: ""; }

.codicon-pulse::before { content: ""; }

.codicon-question::before { content: ""; }

.codicon-quote::before { content: ""; }

.codicon-radio-tower::before { content: ""; }

.codicon-reactions::before { content: ""; }

.codicon-references::before { content: ""; }

.codicon-refresh::before { content: ""; }

.codicon-regex::before { content: ""; }

.codicon-remote-explorer::before { content: ""; }

.codicon-remote::before { content: ""; }

.codicon-remove::before { content: ""; }

.codicon-replace-all::before { content: ""; }

.codicon-replace::before { content: ""; }

.codicon-repo-clone::before { content: ""; }

.codicon-repo-force-push::before { content: ""; }

.codicon-repo-pull::before { content: ""; }

.codicon-repo-push::before { content: ""; }

.codicon-report::before { content: ""; }

.codicon-request-changes::before { content: ""; }

.codicon-rocket::before { content: ""; }

.codicon-root-folder-opened::before { content: ""; }

.codicon-root-folder::before { content: ""; }

.codicon-rss::before { content: ""; }

.codicon-ruby::before { content: ""; }

.codicon-save-all::before { content: ""; }

.codicon-save-as::before { content: ""; }

.codicon-save::before { content: ""; }

.codicon-screen-full::before { content: ""; }

.codicon-screen-normal::before { content: ""; }

.codicon-search-stop::before { content: ""; }

.codicon-server::before { content: ""; }

.codicon-settings-gear::before { content: ""; }

.codicon-settings::before { content: ""; }

.codicon-shield::before { content: ""; }

.codicon-smiley::before { content: ""; }

.codicon-sort-precedence::before { content: ""; }

.codicon-split-horizontal::before { content: ""; }

.codicon-split-vertical::before { content: ""; }

.codicon-squirrel::before { content: ""; }

.codicon-star-full::before { content: ""; }

.codicon-star-half::before { content: ""; }

.codicon-symbol-class::before { content: ""; }

.codicon-symbol-color::before { content: ""; }

.codicon-symbol-customcolor::before { content: ""; }

.codicon-symbol-constant::before { content: ""; }

.codicon-symbol-enum-member::before { content: ""; }

.codicon-symbol-field::before { content: ""; }

.codicon-symbol-file::before { content: ""; }

.codicon-symbol-interface::before { content: ""; }

.codicon-symbol-keyword::before { content: ""; }

.codicon-symbol-misc::before { content: ""; }

.codicon-symbol-operator::before { content: ""; }

.codicon-symbol-property::before { content: ""; }

.codicon-wrench::before { content: ""; }

.codicon-wrench-subaction::before { content: ""; }

.codicon-symbol-snippet::before { content: ""; }

.codicon-tasklist::before { content: ""; }

.codicon-telescope::before { content: ""; }

.codicon-text-size::before { content: ""; }

.codicon-three-bars::before { content: ""; }

.codicon-thumbsdown::before { content: ""; }

.codicon-thumbsup::before { content: ""; }

.codicon-tools::before { content: ""; }

.codicon-triangle-down::before { content: ""; }

.codicon-triangle-left::before { content: ""; }

.codicon-triangle-right::before { content: ""; }

.codicon-triangle-up::before { content: ""; }

.codicon-twitter::before { content: ""; }

.codicon-unfold::before { content: ""; }

.codicon-unlock::before { content: ""; }

.codicon-unmute::before { content: ""; }

.codicon-unverified::before { content: ""; }

.codicon-verified::before { content: ""; }

.codicon-versions::before { content: ""; }

.codicon-vm-active::before { content: ""; }

.codicon-vm-outline::before { content: ""; }

.codicon-vm-running::before { content: ""; }

.codicon-watch::before { content: ""; }

.codicon-whitespace::before { content: ""; }

.codicon-whole-word::before { content: ""; }

.codicon-window::before { content: ""; }

.codicon-word-wrap::before { content: ""; }

.codicon-zoom-in::before { content: ""; }

.codicon-zoom-out::before { content: ""; }

.codicon-list-filter::before { content: ""; }

.codicon-list-flat::before { content: ""; }

.codicon-list-selection::before { content: ""; }

.codicon-selection::before { content: ""; }

.codicon-list-tree::before { content: ""; }

.codicon-debug-breakpoint-function-unverified::before { content: ""; }

.codicon-debug-breakpoint-function::before { content: ""; }

.codicon-debug-breakpoint-function-disabled::before { content: ""; }

.codicon-debug-stackframe-active::before { content: ""; }

.codicon-circle-small-filled::before { content: ""; }

.codicon-debug-stackframe-dot::before { content: ""; }

.codicon-debug-stackframe::before { content: ""; }

.codicon-debug-stackframe-focused::before { content: ""; }

.codicon-debug-breakpoint-unsupported::before { content: ""; }

.codicon-symbol-string::before { content: ""; }

.codicon-debug-reverse-continue::before { content: ""; }

.codicon-debug-step-back::before { content: ""; }

.codicon-debug-restart-frame::before { content: ""; }

.codicon-call-incoming::before { content: ""; }

.codicon-call-outgoing::before { content: ""; }

.codicon-menu::before { content: ""; }

.codicon-expand-all::before { content: ""; }

.codicon-feedback::before { content: ""; }

.codicon-group-by-ref-type::before { content: ""; }

.codicon-ungroup-by-ref-type::before { content: ""; }

.codicon-account::before { content: ""; }

.codicon-bell-dot::before { content: ""; }

.codicon-debug-console::before { content: ""; }

.codicon-library::before { content: ""; }

.codicon-output::before { content: ""; }

.codicon-run-all::before { content: ""; }

.codicon-sync-ignored::before { content: ""; }

.codicon-pinned::before { content: ""; }

.codicon-github-inverted::before { content: ""; }

.codicon-debug-alt::before { content: ""; }

.codicon-server-process::before { content: ""; }

.codicon-server-environment::before { content: ""; }

.codicon-pass::before { content: ""; }

.codicon-stop-circle::before { content: ""; }

.codicon-play-circle::before { content: ""; }

.codicon-record::before { content: ""; }

.codicon-debug-alt-small::before { content: ""; }

.codicon-vm-connect::before { content: ""; }

.codicon-cloud::before { content: ""; }

.codicon-merge::before { content: ""; }

.codicon-export::before { content: ""; }

.codicon-graph-left::before { content: ""; }

.codicon-magnet::before { content: ""; }

.codicon-notebook::before { content: ""; }

.codicon-redo::before { content: ""; }

.codicon-check-all::before { content: ""; }

.codicon-pinned-dirty::before { content: ""; }

.codicon-pass-filled::before { content: ""; }

.codicon-circle-large-filled::before { content: ""; }

.codicon-circle-large::before { content: ""; }

.codicon-circle-large-outline::before { content: ""; }

.codicon-combine::before { content: ""; }

.codicon-gather::before { content: ""; }

.codicon-table::before { content: ""; }

.codicon-variable-group::before { content: ""; }

.codicon-type-hierarchy::before { content: ""; }

.codicon-type-hierarchy-sub::before { content: ""; }

.codicon-type-hierarchy-super::before { content: ""; }

.codicon-git-pull-request-create::before { content: ""; }

.codicon-run-above::before { content: ""; }

.codicon-run-below::before { content: ""; }

.codicon-notebook-template::before { content: ""; }

.codicon-debug-rerun::before { content: ""; }

.codicon-workspace-trusted::before { content: ""; }

.codicon-workspace-untrusted::before { content: ""; }

.codicon-workspace-unspecified::before { content: ""; }

.codicon-terminal-cmd::before { content: ""; }

.codicon-terminal-debian::before { content: ""; }

.codicon-terminal-linux::before { content: ""; }

.codicon-terminal-powershell::before { content: ""; }

.codicon-terminal-tmux::before { content: ""; }

.codicon-terminal-ubuntu::before { content: ""; }

.codicon-terminal-bash::before { content: ""; }

.codicon-arrow-swap::before { content: ""; }

.codicon-copy::before { content: ""; }

.codicon-person-add::before { content: ""; }

.codicon-filter-filled::before { content: ""; }

.codicon-wand::before { content: ""; }

.codicon-debug-line-by-line::before { content: ""; }

.codicon-inspect::before { content: ""; }

.codicon-layers::before { content: ""; }

.codicon-layers-dot::before { content: ""; }

.codicon-layers-active::before { content: ""; }

.codicon-compass::before { content: ""; }

.codicon-compass-dot::before { content: ""; }

.codicon-compass-active::before { content: ""; }

.codicon-azure::before { content: ""; }

.codicon-issue-draft::before { content: ""; }

.codicon-git-pull-request-closed::before { content: ""; }

.codicon-git-pull-request-draft::before { content: ""; }

.codicon-debug-all::before { content: ""; }

.codicon-debug-coverage::before { content: ""; }

.codicon-run-errors::before { content: ""; }

.codicon-folder-library::before { content: ""; }

.codicon-debug-continue-small::before { content: ""; }

.codicon-beaker-stop::before { content: ""; }

.codicon-graph-line::before { content: ""; }

.codicon-graph-scatter::before { content: ""; }

.codicon-pie-chart::before { content: ""; }

.codicon-bracket-dot::before { content: ""; }

.codicon-bracket-error::before { content: ""; }

.codicon-lock-small::before { content: ""; }

.codicon-azure-devops::before { content: ""; }

.codicon-verified-filled::before { content: ""; }

.codicon-newline::before { content: ""; }

.codicon-layout::before { content: ""; }

.codicon-layout-activitybar-left::before { content: ""; }

.codicon-layout-activitybar-right::before { content: ""; }

.codicon-layout-panel-left::before { content: ""; }

.codicon-layout-panel-center::before { content: ""; }

.codicon-layout-panel-justify::before { content: ""; }

.codicon-layout-panel-right::before { content: ""; }

.codicon-layout-panel::before { content: ""; }

.codicon-layout-sidebar-left::before { content: ""; }

.codicon-layout-sidebar-right::before { content: ""; }

.codicon-layout-statusbar::before { content: ""; }

.codicon-layout-menubar::before { content: ""; }

.codicon-layout-centered::before { content: ""; }

.codicon-layout-sidebar-right-off::before { content: ""; }

.codicon-layout-panel-off::before { content: ""; }

.codicon-layout-sidebar-left-off::before { content: ""; }

.codicon-target::before { content: ""; }

.codicon-indent::before { content: ""; }

.codicon-record-small::before { content: ""; }

.codicon-error-small::before { content: ""; }

.codicon-arrow-circle-down::before { content: ""; }

.codicon-arrow-circle-left::before { content: ""; }

.codicon-arrow-circle-right::before { content: ""; }

.codicon-arrow-circle-up::before { content: ""; }

.codicon-heart-filled::before { content: ""; }

.codicon-map::before { content: ""; }

.codicon-map-filled::before { content: ""; }

.codicon-circle-small::before { content: ""; }

.codicon-bell-slash::before { content: ""; }

.codicon-bell-slash-dot::before { content: ""; }

.codicon-comment-unresolved::before { content: ""; }

.codicon-git-pull-request-go-to-changes::before { content: ""; }

.codicon-git-pull-request-new-changes::before { content: ""; }

.codicon-search-fuzzy::before { content: ""; }

.codicon-comment-draft::before { content: ""; }

.codicon-send::before { content: ""; }

.codicon-sparkle::before { content: ""; }

.codicon-insert::before { content: ""; }

.codicon-dialog-error::before { content: ""; }

.codicon-dialog-warning::before { content: ""; }

.codicon-dialog-info::before { content: ""; }

.codicon-dialog-close::before { content: ""; }

.codicon-tree-item-expanded::before { content: ""; }

.codicon-tree-filter-on-type-on::before { content: ""; }

.codicon-tree-filter-on-type-off::before { content: ""; }

.codicon-tree-filter-clear::before { content: ""; }

.codicon-tree-item-loading::before { content: ""; }

.codicon-menu-selection::before { content: ""; }

.codicon-menu-submenu::before { content: ""; }

.codicon-menubar-more::before { content: ""; }

.codicon-scrollbar-button-left::before { content: ""; }

.codicon-scrollbar-button-right::before { content: ""; }

.codicon-scrollbar-button-up::before { content: ""; }

.codicon-scrollbar-button-down::before { content: ""; }

.codicon-toolbar-more::before { content: ""; }

.codicon-quick-input-back::before { content: ""; }

.codicon-widget-close::before { content: ""; }

.codicon-goto-previous-location::before { content: ""; }

.codicon-goto-next-location::before { content: ""; }

.codicon-diff-review-insert::before { content: ""; }

.codicon-diff-review-remove::before { content: ""; }

.codicon-diff-review-close::before { content: ""; }

.codicon-parameter-hints-next::before { content: ""; }

.codicon-parameter-hints-previous::before { content: ""; }

.codicon-suggest-more-info::before { content: ""; }

.codicon-inline-suggestion-hints-next::before { content: ""; }

.codicon-inline-suggestion-hints-previous::before { content: ""; }

.codicon-diff-insert::before { content: ""; }

.codicon-diff-remove::before { content: ""; }

.codicon-find-selection::before { content: ""; }

.codicon-find-collapsed::before { content: ""; }

.codicon-find-expanded::before { content: ""; }

.codicon-find-replace::before { content: ""; }

.codicon-find-replace-all::before { content: ""; }

.codicon-find-previous-match::before { content: ""; }

.codicon-find-next-match::before { content: ""; }

.codicon-folding-expanded::before { content: ""; }

.codicon-folding-collapsed::before { content: ""; }

.codicon-folding-manual-collapsed::before { content: ""; }

.codicon-folding-manual-expanded::before { content: ""; }

.codicon-marker-navigation-next::before { content: ""; }

.codicon-marker-navigation-previous::before { content: ""; }

.codicon-extensions-warning-message::before { content: ""; }

.monaco-editor .inputarea.ime-input { background-color: rgb(56, 56, 56); }

.monaco-editor .view-overlays .current-line { border: 2px solid rgb(40, 40, 40); }

.monaco-editor .margin-view-overlays .current-line-margin { border: 2px solid rgb(40, 40, 40); }

.monaco-editor .bracket-indent-guide.lvl-0 { --guide-color: rgba(255, 215, 0, 0.3); --guide-color-active: #ffd700; }

.monaco-editor .bracket-indent-guide.lvl-1 { --guide-color: rgba(218, 112, 214, 0.3); --guide-color-active: #da70d6; }

.monaco-editor .bracket-indent-guide.lvl-2 { --guide-color: rgba(23, 159, 255, 0.3); --guide-color-active: #179fff; }

.monaco-editor .bracket-indent-guide.lvl-3 { --guide-color: rgba(255, 215, 0, 0.3); --guide-color-active: #ffd700; }

.monaco-editor .bracket-indent-guide.lvl-4 { --guide-color: rgba(218, 112, 214, 0.3); --guide-color-active: #da70d6; }

.monaco-editor .bracket-indent-guide.lvl-5 { --guide-color: rgba(23, 159, 255, 0.3); --guide-color-active: #179fff; }

.monaco-editor .bracket-indent-guide.lvl-6 { --guide-color: rgba(255, 215, 0, 0.3); --guide-color-active: #ffd700; }

.monaco-editor .bracket-indent-guide.lvl-7 { --guide-color: rgba(218, 112, 214, 0.3); --guide-color-active: #da70d6; }

.monaco-editor .bracket-indent-guide.lvl-8 { --guide-color: rgba(23, 159, 255, 0.3); --guide-color-active: #179fff; }

.monaco-editor .bracket-indent-guide.lvl-9 { --guide-color: rgba(255, 215, 0, 0.3); --guide-color-active: #ffd700; }

.monaco-editor .bracket-indent-guide.lvl-10 { --guide-color: rgba(218, 112, 214, 0.3); --guide-color-active: #da70d6; }

.monaco-editor .bracket-indent-guide.lvl-11 { --guide-color: rgba(23, 159, 255, 0.3); --guide-color-active: #179fff; }

.monaco-editor .bracket-indent-guide.lvl-12 { --guide-color: rgba(255, 215, 0, 0.3); --guide-color-active: #ffd700; }

.monaco-editor .bracket-indent-guide.lvl-13 { --guide-color: rgba(218, 112, 214, 0.3); --guide-color-active: #da70d6; }

.monaco-editor .bracket-indent-guide.lvl-14 { --guide-color: rgba(23, 159, 255, 0.3); --guide-color-active: #179fff; }

.monaco-editor .bracket-indent-guide.lvl-15 { --guide-color: rgba(255, 215, 0, 0.3); --guide-color-active: #ffd700; }

.monaco-editor .bracket-indent-guide.lvl-16 { --guide-color: rgba(218, 112, 214, 0.3); --guide-color-active: #da70d6; }

.monaco-editor .bracket-indent-guide.lvl-17 { --guide-color: rgba(23, 159, 255, 0.3); --guide-color-active: #179fff; }

.monaco-editor .bracket-indent-guide.lvl-18 { --guide-color: rgba(255, 215, 0, 0.3); --guide-color-active: #ffd700; }

.monaco-editor .bracket-indent-guide.lvl-19 { --guide-color: rgba(218, 112, 214, 0.3); --guide-color-active: #da70d6; }

.monaco-editor .bracket-indent-guide.lvl-20 { --guide-color: rgba(23, 159, 255, 0.3); --guide-color-active: #179fff; }

.monaco-editor .bracket-indent-guide.lvl-21 { --guide-color: rgba(255, 215, 0, 0.3); --guide-color-active: #ffd700; }

.monaco-editor .bracket-indent-guide.lvl-22 { --guide-color: rgba(218, 112, 214, 0.3); --guide-color-active: #da70d6; }

.monaco-editor .bracket-indent-guide.lvl-23 { --guide-color: rgba(23, 159, 255, 0.3); --guide-color-active: #179fff; }

.monaco-editor .bracket-indent-guide.lvl-24 { --guide-color: rgba(255, 215, 0, 0.3); --guide-color-active: #ffd700; }

.monaco-editor .bracket-indent-guide.lvl-25 { --guide-color: rgba(218, 112, 214, 0.3); --guide-color-active: #da70d6; }

.monaco-editor .bracket-indent-guide.lvl-26 { --guide-color: rgba(23, 159, 255, 0.3); --guide-color-active: #179fff; }

.monaco-editor .bracket-indent-guide.lvl-27 { --guide-color: rgba(255, 215, 0, 0.3); --guide-color-active: #ffd700; }

.monaco-editor .bracket-indent-guide.lvl-28 { --guide-color: rgba(218, 112, 214, 0.3); --guide-color-active: #da70d6; }

.monaco-editor .bracket-indent-guide.lvl-29 { --guide-color: rgba(23, 159, 255, 0.3); --guide-color-active: #179fff; }

.monaco-editor .vertical { box-shadow: 1px 0 0 0 var(--guide-color) inset; }

.monaco-editor .horizontal-top { border-top: 1px solid var(--guide-color); }

.monaco-editor .horizontal-bottom { border-bottom: 1px solid var(--guide-color); }

.monaco-editor .vertical.indent-active { box-shadow: 1px 0 0 0 var(--guide-color-active) inset; }

.monaco-editor .horizontal-top.indent-active { border-top: 1px solid var(--guide-color-active); }

.monaco-editor .horizontal-bottom.indent-active { border-bottom: 1px solid var(--guide-color-active); }

.monaco-editor .line-numbers.dimmed-line-number { color: rgba(133, 133, 133, 0.4); }

.monaco-editor .cursors-layer .cursor { background-color: rgb(174, 175, 173); border-color: rgb(174, 175, 173); color: rgb(81, 80, 82); }

.monaco-editor .unexpected-closing-bracket { color: rgba(255, 18, 18, 0.8); }

.monaco-editor .bracket-highlighting-0 { color: rgb(255, 215, 0); }

.monaco-editor .bracket-highlighting-1 { color: rgb(218, 112, 214); }

.monaco-editor .bracket-highlighting-2 { color: rgb(23, 159, 255); }

.monaco-editor .bracket-highlighting-3 { color: rgb(255, 215, 0); }

.monaco-editor .bracket-highlighting-4 { color: rgb(218, 112, 214); }

.monaco-editor .bracket-highlighting-5 { color: rgb(23, 159, 255); }

.monaco-editor .bracket-highlighting-6 { color: rgb(255, 215, 0); }

.monaco-editor .bracket-highlighting-7 { color: rgb(218, 112, 214); }

.monaco-editor .bracket-highlighting-8 { color: rgb(23, 159, 255); }

.monaco-editor .bracket-highlighting-9 { color: rgb(255, 215, 0); }

.monaco-editor .bracket-highlighting-10 { color: rgb(218, 112, 214); }

.monaco-editor .bracket-highlighting-11 { color: rgb(23, 159, 255); }

.monaco-editor .bracket-highlighting-12 { color: rgb(255, 215, 0); }

.monaco-editor .bracket-highlighting-13 { color: rgb(218, 112, 214); }

.monaco-editor .bracket-highlighting-14 { color: rgb(23, 159, 255); }

.monaco-editor .bracket-highlighting-15 { color: rgb(255, 215, 0); }

.monaco-editor .bracket-highlighting-16 { color: rgb(218, 112, 214); }

.monaco-editor .bracket-highlighting-17 { color: rgb(23, 159, 255); }

.monaco-editor .bracket-highlighting-18 { color: rgb(255, 215, 0); }

.monaco-editor .bracket-highlighting-19 { color: rgb(218, 112, 214); }

.monaco-editor .bracket-highlighting-20 { color: rgb(23, 159, 255); }

.monaco-editor .bracket-highlighting-21 { color: rgb(255, 215, 0); }

.monaco-editor .bracket-highlighting-22 { color: rgb(218, 112, 214); }

.monaco-editor .bracket-highlighting-23 { color: rgb(23, 159, 255); }

.monaco-editor .bracket-highlighting-24 { color: rgb(255, 215, 0); }

.monaco-editor .bracket-highlighting-25 { color: rgb(218, 112, 214); }

.monaco-editor .bracket-highlighting-26 { color: rgb(23, 159, 255); }

.monaco-editor .bracket-highlighting-27 { color: rgb(255, 215, 0); }

.monaco-editor .bracket-highlighting-28 { color: rgb(218, 112, 214); }

.monaco-editor .bracket-highlighting-29 { color: rgb(23, 159, 255); }

.monaco-editor .squiggly-error { background: url("data:image/svg+xml,%3Csvg%20xmlns%3D'http%3A%2F%2Fwww.w3.org%2F2000%2Fsvg'%20viewBox%3D'0%200%206%203'%20enable-background%3D'new%200%200%206%203'%20height%3D'3'%20width%3D'6'%3E%3Cg%20fill%3D'%23f14c4c'%3E%3Cpolygon%20points%3D'5.5%2C0%202.5%2C3%201.1%2C3%204.1%2C0'%2F%3E%3Cpolygon%20points%3D'4%2C0%206%2C2%206%2C0.6%205.4%2C0'%2F%3E%3Cpolygon%20points%3D'0%2C2%201%2C3%202.4%2C3%200%2C0.6'%2F%3E%3C%2Fg%3E%3C%2Fsvg%3E") left bottom repeat-x; }

.monaco-editor .squiggly-warning { background: url("data:image/svg+xml,%3Csvg%20xmlns%3D'http%3A%2F%2Fwww.w3.org%2F2000%2Fsvg'%20viewBox%3D'0%200%206%203'%20enable-background%3D'new%200%200%206%203'%20height%3D'3'%20width%3D'6'%3E%3Cg%20fill%3D'%23cca700'%3E%3Cpolygon%20points%3D'5.5%2C0%202.5%2C3%201.1%2C3%204.1%2C0'%2F%3E%3Cpolygon%20points%3D'4%2C0%206%2C2%206%2C0.6%205.4%2C0'%2F%3E%3Cpolygon%20points%3D'0%2C2%201%2C3%202.4%2C3%200%2C0.6'%2F%3E%3C%2Fg%3E%3C%2Fsvg%3E") left bottom repeat-x; }

.monaco-editor .squiggly-info { background: url("data:image/svg+xml,%3Csvg%20xmlns%3D'http%3A%2F%2Fwww.w3.org%2F2000%2Fsvg'%20viewBox%3D'0%200%206%203'%20enable-background%3D'new%200%200%206%203'%20height%3D'3'%20width%3D'6'%3E%3Cg%20fill%3D'%233794ff'%3E%3Cpolygon%20points%3D'5.5%2C0%202.5%2C3%201.1%2C3%204.1%2C0'%2F%3E%3Cpolygon%20points%3D'4%2C0%206%2C2%206%2C0.6%205.4%2C0'%2F%3E%3Cpolygon%20points%3D'0%2C2%201%2C3%202.4%2C3%200%2C0.6'%2F%3E%3C%2Fg%3E%3C%2Fsvg%3E") left bottom repeat-x; }

.monaco-editor .squiggly-hint { background: url("data:image/svg+xml,%3Csvg%20xmlns%3D%22http%3A%2F%2Fwww.w3.org%2F2000%2Fsvg%22%20height%3D%223%22%20width%3D%2212%22%3E%3Cg%20fill%3D%22rgba(238%2C%20238%2C%20238%2C%200.7)%22%3E%3Ccircle%20cx%3D%221%22%20cy%3D%221%22%20r%3D%221%22%2F%3E%3Ccircle%20cx%3D%225%22%20cy%3D%221%22%20r%3D%221%22%2F%3E%3Ccircle%20cx%3D%229%22%20cy%3D%221%22%20r%3D%221%22%2F%3E%3C%2Fg%3E%3C%2Fsvg%3E") left bottom no-repeat; }

.monaco-editor.showUnused .squiggly-inline-unnecessary { opacity: 0.667; }

.monaco-editor .selectionHighlight { background-color: rgba(173, 214, 255, 0.07); }

.monaco-editor .diagonal-fill { background-image: linear-gradient(-45deg, rgba(204, 204, 204, 0.2) 12.5%, rgba(0, 0, 0, 0) 12.5%, rgba(0, 0, 0, 0) 50%, rgba(204, 204, 204, 0.2) 50%, rgba(204, 204, 204, 0.2) 62.5%, rgba(0, 0, 0, 0) 62.5%, rgba(0, 0, 0, 0) 100%); background-size: 8px 8px; }

.monaco-editor .findMatch { background-color: rgba(234, 92, 0, 0.33); }

.monaco-editor .currentFindMatch { background-color: rgb(81, 92, 106); }

.monaco-editor .findScope { background-color: rgba(58, 61, 65, 0.4); }

.monaco-editor .find-widget { background-color: rgb(37, 37, 38); }

.monaco-editor .find-widget { box-shadow: rgba(0, 0, 0, 0.36) 0px 0px 8px 2px; }

.monaco-editor .find-widget { color: rgb(204, 204, 204); }

.monaco-editor .find-widget.no-results .matchesCount { color: rgb(244, 135, 113); }

.monaco-editor .find-widget .monaco-sash { background-color: rgb(69, 69, 69); }

.monaco-editor .find-widget .button:not(.disabled):hover, .monaco-editor .find-widget .codicon-find-selection:hover { background-color: rgba(90, 93, 94, 0.31) !important; }

.monaco-editor .find-widget .monaco-inputbox.synthetic-focus { outline-color: rgb(0, 127, 212); }

.monaco-editor .monaco-hover .hover-row:not(:first-child):not(:empty) { border-top: 1px solid rgba(69, 69, 69, 0.5); }

.monaco-editor .monaco-hover hr { border-top: 1px solid rgba(69, 69, 69, 0.5); }

.monaco-editor .monaco-hover hr { border-bottom: 0px solid rgba(69, 69, 69, 0.5); }

.monaco-editor { --vscode-foreground: #cccccc; --vscode-disabledForeground: rgba(204, 204, 204, 0.5); --vscode-errorForeground: #f48771; --vscode-descriptionForeground: rgba(204, 204, 204, 0.7); --vscode-icon-foreground: #c5c5c5; --vscode-focusBorder: #007fd4; --vscode-textSeparator-foreground: rgba(255, 255, 255, 0.18); --vscode-textLink-foreground: #3794ff; --vscode-textLink-activeForeground: #3794ff; --vscode-textPreformat-foreground: #d7ba7d; --vscode-textBlockQuote-background: rgba(127, 127, 127, 0.1); --vscode-textBlockQuote-border: rgba(0, 122, 204, 0.5); --vscode-textCodeBlock-background: rgba(10, 10, 10, 0.4); --vscode-widget-shadow: rgba(0, 0, 0, 0.36); --vscode-input-background: #3c3c3c; --vscode-input-foreground: #cccccc; --vscode-inputOption-activeBorder: #007acc; --vscode-inputOption-hoverBackground: rgba(90, 93, 94, 0.5); --vscode-inputOption-activeBackground: rgba(0, 127, 212, 0.4); --vscode-inputOption-activeForeground: #ffffff; --vscode-input-placeholderForeground: rgba(204, 204, 204, 0.5); --vscode-inputValidation-infoBackground: #063b49; --vscode-inputValidation-infoBorder: #007acc; --vscode-inputValidation-warningBackground: #352a05; --vscode-inputValidation-warningBorder: #b89500; --vscode-inputValidation-errorBackground: #5a1d1d; --vscode-inputValidation-errorBorder: #be1100; --vscode-dropdown-background: #3c3c3c; --vscode-dropdown-foreground: #f0f0f0; --vscode-dropdown-border: #3c3c3c; --vscode-button-foreground: #ffffff; --vscode-button-separator: rgba(255, 255, 255, 0.4); --vscode-button-background: #0e639c; --vscode-button-hoverBackground: #1177bb; --vscode-button-secondaryForeground: #ffffff; --vscode-button-secondaryBackground: #3a3d41; --vscode-button-secondaryHoverBackground: #45494e; --vscode-badge-background: #4d4d4d; --vscode-badge-foreground: #ffffff; --vscode-scrollbar-shadow: #000000; --vscode-scrollbarSlider-background: rgba(121, 121, 121, 0.4); --vscode-scrollbarSlider-hoverBackground: rgba(100, 100, 100, 0.7); --vscode-scrollbarSlider-activeBackground: rgba(191, 191, 191, 0.4); --vscode-progressBar-background: #0e70c0; --vscode-editorError-foreground: #f14c4c; --vscode-editorWarning-foreground: #cca700; --vscode-editorInfo-foreground: #3794ff; --vscode-editorHint-foreground: rgba(238, 238, 238, 0.7); --vscode-sash-hoverBorder: #007fd4; --vscode-editor-background: #383838; --vscode-editor-foreground: #d4d4d4; --vscode-editorStickyScroll-background: #383838; --vscode-editorStickyScrollHover-background: #2a2d2e; --vscode-editorWidget-background: #252526; --vscode-editorWidget-foreground: #cccccc; --vscode-editorWidget-border: #454545; --vscode-quickInput-background: #252526; --vscode-quickInput-foreground: #cccccc; --vscode-quickInputTitle-background: rgba(255, 255, 255, 0.1); --vscode-pickerGroup-foreground: #3794ff; --vscode-pickerGroup-border: #3f3f46; --vscode-keybindingLabel-background: rgba(128, 128, 128, 0.17); --vscode-keybindingLabel-foreground: #cccccc; --vscode-keybindingLabel-border: rgba(51, 51, 51, 0.6); --vscode-keybindingLabel-bottomBorder: rgba(68, 68, 68, 0.6); --vscode-editor-selectionBackground: #264f78; --vscode-editor-inactiveSelectionBackground: #3a3d41; --vscode-editor-selectionHighlightBackground: rgba(173, 214, 255, 0.15); --vscode-editor-findMatchBackground: #515c6a; --vscode-editor-findMatchHighlightBackground: rgba(234, 92, 0, 0.33); --vscode-editor-findRangeHighlightBackground: rgba(58, 61, 65, 0.4); --vscode-searchEditor-findMatchBackground: rgba(234, 92, 0, 0.22); --vscode-search-resultsInfoForeground: rgba(204, 204, 204, 0.65); --vscode-editor-hoverHighlightBackground: rgba(38, 79, 120, 0.25); --vscode-editorHoverWidget-background: #252526; --vscode-editorHoverWidget-foreground: #cccccc; --vscode-editorHoverWidget-border: #454545; --vscode-editorHoverWidget-statusBarBackground: #2c2c2d; --vscode-editorLink-activeForeground: #4e94ce; --vscode-editorInlayHint-foreground: #cccccc; --vscode-editorInlayHint-background: rgba(77, 77, 77, 0.25); --vscode-editorInlayHint-typeForeground: #cccccc; --vscode-editorInlayHint-typeBackground: rgba(77, 77, 77, 0.25); --vscode-editorInlayHint-parameterForeground: #cccccc; --vscode-editorInlayHint-parameterBackground: rgba(77, 77, 77, 0.25); --vscode-editorLightBulb-foreground: #ffcc00; --vscode-editorLightBulbAutoFix-foreground: #75beff; --vscode-diffEditor-insertedTextBackground: #234521; --vscode-diffEditor-removedTextBackground: #5b2022; --vscode-diffEditor-insertedLineBackground: #22331f; --vscode-diffEditor-removedLineBackground: #3c1a1a; --vscode-diffEditor-diagonalFill: rgba(204, 204, 204, 0.2); --vscode-diffEditor-unchangedRegionBackground: #3e3e3e; --vscode-diffEditor-unchangedRegionForeground: #a3a2a2; --vscode-diffEditor-unchangedCodeBackground: rgba(116, 116, 116, 0.16); --vscode-list-focusOutline: #007fd4; --vscode-list-activeSelectionBackground: #04395e; --vscode-list-activeSelectionForeground: #ffffff; --vscode-list-inactiveSelectionBackground: #37373d; --vscode-list-hoverBackground: #2a2d2e; --vscode-list-dropBackground: #062f4a; --vscode-list-highlightForeground: #2aaaff; --vscode-list-focusHighlightForeground: #2aaaff; --vscode-list-invalidItemForeground: #b89500; --vscode-list-errorForeground: #f88070; --vscode-list-warningForeground: #cca700; --vscode-listFilterWidget-background: #252526; --vscode-listFilterWidget-outline: rgba(0, 0, 0, 0); --vscode-listFilterWidget-noMatchesOutline: #be1100; --vscode-listFilterWidget-shadow: rgba(0, 0, 0, 0.36); --vscode-list-filterMatchBackground: rgba(234, 92, 0, 0.33); --vscode-tree-indentGuidesStroke: #585858; --vscode-tree-inactiveIndentGuidesStroke: rgba(88, 88, 88, 0.4); --vscode-tree-tableColumnsBorder: rgba(204, 204, 204, 0.13); --vscode-tree-tableOddRowsBackground: rgba(204, 204, 204, 0.04); --vscode-list-deemphasizedForeground: #8c8c8c; --vscode-checkbox-background: #3c3c3c; --vscode-checkbox-selectBackground: #252526; --vscode-checkbox-foreground: #f0f0f0; --vscode-checkbox-border: #3c3c3c; --vscode-checkbox-selectBorder: #c5c5c5; --vscode-quickInputList-focusForeground: #ffffff; --vscode-quickInputList-focusBackground: #04395e; --vscode-menu-foreground: #f0f0f0; --vscode-menu-background: #3c3c3c; --vscode-menu-selectionForeground: #ffffff; --vscode-menu-selectionBackground: #04395e; --vscode-menu-separatorBackground: #606060; --vscode-toolbar-hoverBackground: rgba(90, 93, 94, 0.31); --vscode-toolbar-activeBackground: rgba(99, 102, 103, 0.31); --vscode-editor-snippetTabstopHighlightBackground: rgba(124, 124, 124, 0.3); --vscode-editor-snippetFinalTabstopHighlightBorder: #525252; --vscode-breadcrumb-foreground: rgba(204, 204, 204, 0.8); --vscode-breadcrumb-background: #383838; --vscode-breadcrumb-focusForeground: #e0e0e0; --vscode-breadcrumb-activeSelectionForeground: #e0e0e0; --vscode-breadcrumbPicker-background: #252526; --vscode-merge-currentHeaderBackground: rgba(64, 200, 174, 0.5); --vscode-merge-currentContentBackground: rgba(64, 200, 174, 0.2); --vscode-merge-incomingHeaderBackground: rgba(64, 166, 255, 0.5); --vscode-merge-incomingContentBackground: rgba(64, 166, 255, 0.2); --vscode-merge-commonHeaderBackground: rgba(96, 96, 96, 0.4); --vscode-merge-commonContentBackground: rgba(96, 96, 96, 0.16); --vscode-editorOverviewRuler-currentContentForeground: rgba(64, 200, 174, 0.5); --vscode-editorOverviewRuler-incomingContentForeground: rgba(64, 166, 255, 0.5); --vscode-editorOverviewRuler-commonContentForeground: rgba(96, 96, 96, 0.4); --vscode-editorOverviewRuler-findMatchForeground: rgba(209, 134, 22, 0.49); --vscode-editorOverviewRuler-selectionHighlightForeground: rgba(160, 160, 160, 0.8); --vscode-minimap-findMatchHighlight: #d18616; --vscode-minimap-selectionOccurrenceHighlight: #676767; --vscode-minimap-selectionHighlight: #264f78; --vscode-minimap-errorHighlight: rgba(255, 18, 18, 0.7); --vscode-minimap-warningHighlight: #cca700; --vscode-minimap-foregroundOpacity: #000000; --vscode-minimapSlider-background: rgba(121, 121, 121, 0.2); --vscode-minimapSlider-hoverBackground: rgba(100, 100, 100, 0.35); --vscode-minimapSlider-activeBackground: rgba(191, 191, 191, 0.2); --vscode-problemsErrorIcon-foreground: #f14c4c; --vscode-problemsWarningIcon-foreground: #cca700; --vscode-problemsInfoIcon-foreground: #3794ff; --vscode-charts-foreground: #cccccc; --vscode-charts-lines: rgba(204, 204, 204, 0.5); --vscode-charts-red: #f14c4c; --vscode-charts-blue: #3794ff; --vscode-charts-yellow: #cca700; --vscode-charts-orange: #d18616; --vscode-charts-green: #89d185; --vscode-charts-purple: #b180d7; --vscode-symbolIcon-arrayForeground: #cccccc; --vscode-symbolIcon-booleanForeground: #cccccc; --vscode-symbolIcon-classForeground: #ee9d28; --vscode-symbolIcon-colorForeground: #cccccc; --vscode-symbolIcon-constantForeground: #cccccc; --vscode-symbolIcon-constructorForeground: #b180d7; --vscode-symbolIcon-enumeratorForeground: #ee9d28; --vscode-symbolIcon-enumeratorMemberForeground: #75beff; --vscode-symbolIcon-eventForeground: #ee9d28; --vscode-symbolIcon-fieldForeground: #75beff; --vscode-symbolIcon-fileForeground: #cccccc; --vscode-symbolIcon-folderForeground: #cccccc; --vscode-symbolIcon-functionForeground: #b180d7; --vscode-symbolIcon-interfaceForeground: #75beff; --vscode-symbolIcon-keyForeground: #cccccc; --vscode-symbolIcon-keywordForeground: #cccccc; --vscode-symbolIcon-methodForeground: #b180d7; --vscode-symbolIcon-moduleForeground: #cccccc; --vscode-symbolIcon-namespaceForeground: #cccccc; --vscode-symbolIcon-nullForeground: #cccccc; --vscode-symbolIcon-numberForeground: #cccccc; --vscode-symbolIcon-objectForeground: #cccccc; --vscode-symbolIcon-operatorForeground: #cccccc; --vscode-symbolIcon-packageForeground: #cccccc; --vscode-symbolIcon-propertyForeground: #cccccc; --vscode-symbolIcon-referenceForeground: #cccccc; --vscode-symbolIcon-snippetForeground: #cccccc; --vscode-symbolIcon-stringForeground: #cccccc; --vscode-symbolIcon-structForeground: #cccccc; --vscode-symbolIcon-textForeground: #cccccc; --vscode-symbolIcon-typeParameterForeground: #cccccc; --vscode-symbolIcon-unitForeground: #cccccc; --vscode-symbolIcon-variableForeground: #75beff; --vscode-editor-lineHighlightBorder: #282828; --vscode-editor-rangeHighlightBackground: rgba(255, 255, 255, 0.04); --vscode-editor-symbolHighlightBackground: rgba(234, 92, 0, 0.33); --vscode-editorCursor-foreground: #aeafad; --vscode-editorWhitespace-foreground: rgba(227, 228, 226, 0.16); --vscode-editorIndentGuide-background: #404040; --vscode-editorIndentGuide-activeBackground: #707070; --vscode-editorLineNumber-foreground: #858585; --vscode-editorActiveLineNumber-foreground: #c6c6c6; --vscode-editorLineNumber-activeForeground: #c6c6c6; --vscode-editorRuler-foreground: #5a5a5a; --vscode-editorCodeLens-foreground: #999999; --vscode-editorBracketMatch-background: rgba(0, 100, 0, 0.1); --vscode-editorBracketMatch-border: #888888; --vscode-editorOverviewRuler-border: rgba(127, 127, 127, 0.3); --vscode-editorGutter-background: #383838; --vscode-editorUnnecessaryCode-opacity: rgba(0, 0, 0, 0.67); --vscode-editorGhostText-foreground: rgba(255, 255, 255, 0.34); --vscode-editorOverviewRuler-rangeHighlightForeground: rgba(0, 122, 204, 0.6); --vscode-editorOverviewRuler-errorForeground: rgba(255, 18, 18, 0.7); --vscode-editorOverviewRuler-warningForeground: #cca700; --vscode-editorOverviewRuler-infoForeground: #3794ff; --vscode-editorBracketHighlight-foreground1: #ffd700; --vscode-editorBracketHighlight-foreground2: #da70d6; --vscode-editorBracketHighlight-foreground3: #179fff; --vscode-editorBracketHighlight-foreground4: rgba(0, 0, 0, 0); --vscode-editorBracketHighlight-foreground5: rgba(0, 0, 0, 0); --vscode-editorBracketHighlight-foreground6: rgba(0, 0, 0, 0); --vscode-editorBracketHighlight-unexpectedBracket-foreground: rgba(255, 18, 18, 0.8); --vscode-editorBracketPairGuide-background1: rgba(0, 0, 0, 0); --vscode-editorBracketPairGuide-background2: rgba(0, 0, 0, 0); --vscode-editorBracketPairGuide-background3: rgba(0, 0, 0, 0); --vscode-editorBracketPairGuide-background4: rgba(0, 0, 0, 0); --vscode-editorBracketPairGuide-background5: rgba(0, 0, 0, 0); --vscode-editorBracketPairGuide-background6: rgba(0, 0, 0, 0); --vscode-editorBracketPairGuide-activeBackground1: rgba(0, 0, 0, 0); --vscode-editorBracketPairGuide-activeBackground2: rgba(0, 0, 0, 0); --vscode-editorBracketPairGuide-activeBackground3: rgba(0, 0, 0, 0); --vscode-editorBracketPairGuide-activeBackground4: rgba(0, 0, 0, 0); --vscode-editorBracketPairGuide-activeBackground5: rgba(0, 0, 0, 0); --vscode-editorBracketPairGuide-activeBackground6: rgba(0, 0, 0, 0); --vscode-editorUnicodeHighlight-border: #bd9b03; --vscode-editorUnicodeHighlight-background: rgba(189, 155, 3, 0.15); --vscode-editorOverviewRuler-bracketMatchForeground: #a0a0a0; --vscode-editor-linkedEditingBackground: rgba(255, 0, 0, 0.3); --vscode-editor-wordHighlightBackground: rgba(87, 87, 87, 0.72); --vscode-editor-wordHighlightStrongBackground: rgba(0, 73, 114, 0.72); --vscode-editor-wordHighlightTextBackground: rgba(87, 87, 87, 0.72); --vscode-editorOverviewRuler-wordHighlightForeground: rgba(160, 160, 160, 0.8); --vscode-editorOverviewRuler-wordHighlightStrongForeground: rgba(192, 160, 192, 0.8); --vscode-editorOverviewRuler-wordHighlightTextForeground: rgba(160, 160, 160, 0.8); --vscode-peekViewTitle-background: #252526; --vscode-peekViewTitleLabel-foreground: #ffffff; --vscode-peekViewTitleDescription-foreground: rgba(204, 204, 204, 0.7); --vscode-peekView-border: #3794ff; --vscode-peekViewResult-background: #252526; --vscode-peekViewResult-lineForeground: #bbbbbb; --vscode-peekViewResult-fileForeground: #ffffff; --vscode-peekViewResult-selectionBackground: rgba(51, 153, 255, 0.2); --vscode-peekViewResult-selectionForeground: #ffffff; --vscode-peekViewEditor-background: #001f33; --vscode-peekViewEditorGutter-background: #001f33; --vscode-peekViewEditorStickyScroll-background: #001f33; --vscode-peekViewResult-matchHighlightBackground: rgba(234, 92, 0, 0.3); --vscode-peekViewEditor-matchHighlightBackground: rgba(255, 143, 0, 0.6); --vscode-editorMarkerNavigationError-background: #f14c4c; --vscode-editorMarkerNavigationError-headerBackground: rgba(241, 76, 76, 0.1); --vscode-editorMarkerNavigationWarning-background: #cca700; --vscode-editorMarkerNavigationWarning-headerBackground: rgba(204, 167, 0, 0.1); --vscode-editorMarkerNavigationInfo-background: #3794ff; --vscode-editorMarkerNavigationInfo-headerBackground: rgba(55, 148, 255, 0.1); --vscode-editorMarkerNavigation-background: #383838; --vscode-editorHoverWidget-highlightForeground: #2aaaff; --vscode-editorSuggestWidget-background: #252526; --vscode-editorSuggestWidget-border: #454545; --vscode-editorSuggestWidget-foreground: #d4d4d4; --vscode-editorSuggestWidget-selectedForeground: #ffffff; --vscode-editorSuggestWidget-selectedBackground: #04395e; --vscode-editorSuggestWidget-highlightForeground: #2aaaff; --vscode-editorSuggestWidget-focusHighlightForeground: #2aaaff; --vscode-editorSuggestWidgetStatus-foreground: rgba(212, 212, 212, 0.5); --vscode-editor-foldBackground: rgba(38, 79, 120, 0.3); --vscode-editorGutter-foldingControlForeground: #c5c5c5; }

.mtk1 { color: rgb(212, 212, 212); }

.mtk2 { color: rgb(56, 56, 56); }

.mtk3 { color: rgb(204, 102, 102); }

.mtk4 { color: rgb(156, 220, 254); }

.mtk5 { color: rgb(206, 145, 120); }

.mtk6 { color: rgb(181, 206, 168); }

.mtk7 { color: rgb(96, 139, 78); }

.mtk8 { color: rgb(130, 183, 108); }

.mtk9 { color: rgb(86, 156, 214); }

.mtk10 { color: rgb(105, 165, 215); }

.mtk11 { color: rgb(242, 139, 130); }

.mtk12 { color: rgb(215, 186, 125); }

.mtk13 { color: rgb(212, 157, 135); }

.mtk14 { color: rgb(220, 220, 220); }

.mtk15 { color: rgb(128, 128, 128); }

.mtk16 { color: rgb(78, 201, 176); }

.mtk17 { color: rgb(220, 220, 170); }

.mtk18 { color: rgb(244, 71, 71); }

.mtk19 { color: rgb(130, 198, 255); }

.mtk20 { color: rgb(201, 156, 198); }

.mtk21 { color: rgb(197, 134, 192); }

.mtk22 { color: rgb(167, 152, 115); }

.mtk23 { color: rgb(221, 106, 111); }

.mtk24 { color: rgb(91, 180, 152); }

.mtk25 { color: rgb(144, 144, 144); }

.mtk26 { color: rgb(119, 136, 153); }

.mtk27 { color: rgb(255, 0, 255); }

.mtk28 { color: rgb(180, 102, 149); }

.mtk29 { color: rgb(255, 0, 0); }

.mtk30 { color: rgb(79, 118, 172); }

.mtk31 { color: rgb(61, 201, 176); }

.mtk32 { color: rgb(116, 176, 223); }

.mtk33 { color: rgb(72, 100, 170); }

.mtki { font-style: italic; }

.mtkb { font-weight: bold; }

.mtku { text-decoration: underline; text-underline-position: under; }

.mtks { text-decoration: line-through; }

.mtks.mtku { text-decoration: underline line-through; text-underline-position: under; }
------MultipartBoundary--o4C46MD1v5LjRKaEEJJp6V0O1heQ16TtDUGnAqoxwB----
Content-Type: text/css
Content-Transfer-Encoding: binary
Content-Location: cid:css-85e30e85-e942-4189-a76a-ace52e84d1d1@mhtml.blink

@charset "utf-8";

.MathJax_Display { text-align: center; margin: 0px; position: relative; text-indent: 0px; max-width: none; max-height: none; min-width: 0px; min-height: 0px; width: 100%; display: block !important; }

.MathJax .merror { background-color: rgb(255, 255, 136); color: rgb(204, 0, 0); border: 1px solid rgb(204, 0, 0); padding: 1px 3px; font-style: normal; font-size: 90%; }

.MathJax .MJX-monospace { font-family: monospace; }

.MathJax .MJX-sans-serif { font-family: sans-serif; }

#MathJax_Tooltip { background-color: infobackground; color: infotext; border: 1px solid black; box-shadow: rgb(170, 170, 170) 2px 2px 5px; padding: 3px 4px; z-index: 401; position: absolute; left: 0px; top: 0px; width: auto; height: auto; display: none; }

.MathJax { display: inline; font-style: normal; font-weight: normal; line-height: normal; font-size: 100%; font-size-adjust: none; text-indent: 0px; text-align: left; text-transform: none; letter-spacing: normal; word-spacing: normal; overflow-wrap: normal; white-space: nowrap; float: none; direction: ltr; max-width: none; max-height: none; min-width: 0px; min-height: 0px; border: 0px; padding: 0px; margin: 0px; }

.MathJax:focus, body :focus .MathJax { display: inline-table; }

.MathJax.MathJax_FullWidth { text-align: center; display: table-cell !important; width: 10000em !important; }

.MathJax img, .MathJax nobr, .MathJax a { border: 0px; padding: 0px; margin: 0px; max-width: 5000em; max-height: 5000em; min-width: 0px; min-height: 0px; vertical-align: 0px; line-height: normal; text-decoration: none; }

img.MathJax_strut { border: 0px !important; padding: 0px !important; margin: 0px !important; vertical-align: 0px !important; }

.MathJax span { display: inline; position: static; border: 0px; padding: 0px; margin: 0px; vertical-align: 0px; line-height: normal; text-decoration: none; box-sizing: content-box; }

.MathJax nobr { white-space: nowrap !important; }

.MathJax img { display: inline !important; float: none !important; }

.MathJax * { transition: none; }

.MathJax_Processing { visibility: hidden; position: fixed; width: 0px; height: 0px; overflow: hidden; }

.MathJax_Processed { display: none !important; }

.MathJax_test { font-style: normal; font-weight: normal; font-size: 100%; font-size-adjust: none; text-indent: 0px; text-transform: none; letter-spacing: normal; word-spacing: normal; overflow: hidden; height: 1px; }

.MathJax_test.mjx-test-display { display: table !important; }

.MathJax_test.mjx-test-inline { display: inline !important; margin-right: -1px; }

.MathJax_test.mjx-test-default { display: block !important; clear: both; }

.MathJax_ex_box { position: absolute; overflow: hidden; min-height: 0px; max-height: none; padding: 0px; border: 0px; margin: 0px; width: 1px; height: 60ex; display: inline-block !important; }

.MathJax_em_box { position: absolute; overflow: hidden; min-height: 0px; max-height: none; padding: 0px; border: 0px; margin: 0px; width: 1px; height: 60em; display: inline-block !important; }

.mjx-test-inline .MathJax_left_box { display: inline-block; width: 0px; float: left; }

.mjx-test-inline .MathJax_right_box { display: inline-block; width: 0px; float: right; }

.mjx-test-display .MathJax_right_box { min-width: 0px; max-width: none; padding: 0px; border: 0px; margin: 0px; display: table-cell !important; width: 10000em !important; }

.MathJax .MathJax_HitBox { cursor: text; background: white; opacity: 0; }

.MathJax .MathJax_HitBox * { filter: none; opacity: 1; background: transparent; }

#MathJax_Tooltip * { filter: none; opacity: 1; background: transparent; }

@font-face { font-family: MathJax_Main; src: url("https://colab.research.google.com/static/mathjax/fonts/HTML-CSS/TeX/woff/MathJax_Main-Regular.woff?V=2.7.5") format("woff"), url("https://colab.research.google.com/static/mathjax/fonts/HTML-CSS/TeX/otf/MathJax_Main-Regular.otf?V=2.7.5") format("opentype"); }

@font-face { font-family: MathJax_Main-bold; src: url("https://colab.research.google.com/static/mathjax/fonts/HTML-CSS/TeX/woff/MathJax_Main-Bold.woff?V=2.7.5") format("woff"), url("https://colab.research.google.com/static/mathjax/fonts/HTML-CSS/TeX/otf/MathJax_Main-Bold.otf?V=2.7.5") format("opentype"); }

@font-face { font-family: MathJax_Main-italic; src: url("https://colab.research.google.com/static/mathjax/fonts/HTML-CSS/TeX/woff/MathJax_Main-Italic.woff?V=2.7.5") format("woff"), url("https://colab.research.google.com/static/mathjax/fonts/HTML-CSS/TeX/otf/MathJax_Main-Italic.otf?V=2.7.5") format("opentype"); }

@font-face { font-family: MathJax_Math-italic; src: url("https://colab.research.google.com/static/mathjax/fonts/HTML-CSS/TeX/woff/MathJax_Math-Italic.woff?V=2.7.5") format("woff"), url("https://colab.research.google.com/static/mathjax/fonts/HTML-CSS/TeX/otf/MathJax_Math-Italic.otf?V=2.7.5") format("opentype"); }

@font-face { font-family: MathJax_Caligraphic; src: url("https://colab.research.google.com/static/mathjax/fonts/HTML-CSS/TeX/woff/MathJax_Caligraphic-Regular.woff?V=2.7.5") format("woff"), url("https://colab.research.google.com/static/mathjax/fonts/HTML-CSS/TeX/otf/MathJax_Caligraphic-Regular.otf?V=2.7.5") format("opentype"); }

@font-face { font-family: MathJax_Size1; src: url("https://colab.research.google.com/static/mathjax/fonts/HTML-CSS/TeX/woff/MathJax_Size1-Regular.woff?V=2.7.5") format("woff"), url("https://colab.research.google.com/static/mathjax/fonts/HTML-CSS/TeX/otf/MathJax_Size1-Regular.otf?V=2.7.5") format("opentype"); }

@font-face { font-family: MathJax_Size2; src: url("https://colab.research.google.com/static/mathjax/fonts/HTML-CSS/TeX/woff/MathJax_Size2-Regular.woff?V=2.7.5") format("woff"), url("https://colab.research.google.com/static/mathjax/fonts/HTML-CSS/TeX/otf/MathJax_Size2-Regular.otf?V=2.7.5") format("opentype"); }

@font-face { font-family: MathJax_Size3; src: url("https://colab.research.google.com/static/mathjax/fonts/HTML-CSS/TeX/woff/MathJax_Size3-Regular.woff?V=2.7.5") format("woff"), url("https://colab.research.google.com/static/mathjax/fonts/HTML-CSS/TeX/otf/MathJax_Size3-Regular.otf?V=2.7.5") format("opentype"); }

@font-face { font-family: MathJax_Size4; src: url("https://colab.research.google.com/static/mathjax/fonts/HTML-CSS/TeX/woff/MathJax_Size4-Regular.woff?V=2.7.5") format("woff"), url("https://colab.research.google.com/static/mathjax/fonts/HTML-CSS/TeX/otf/MathJax_Size4-Regular.otf?V=2.7.5") format("opentype"); }

.MathJax .noError { font-size: 90%; text-align: left; color: black; padding: 1px 3px; border: 1px solid; }
------MultipartBoundary--o4C46MD1v5LjRKaEEJJp6V0O1heQ16TtDUGnAqoxwB----
Content-Type: text/css
Content-Transfer-Encoding: binary
Content-Location: cid:css-a296d88a-4ef7-4a82-93dd-a7a64939cb30@mhtml.blink

@charset "utf-8";

.MJXp-script { font-size: 0.8em; }

.MJXp-right { transform-origin: right center; }

.MJXp-bold { font-weight: bold; }

.MJXp-italic { font-style: italic; }

.MJXp-scr { font-family: MathJax_Script, "Times New Roman", Times, STIXGeneral, serif; }

.MJXp-frak { font-family: MathJax_Fraktur, "Times New Roman", Times, STIXGeneral, serif; }

.MJXp-sf { font-family: MathJax_SansSerif, "Times New Roman", Times, STIXGeneral, serif; }

.MJXp-cal { font-family: MathJax_Caligraphic, "Times New Roman", Times, STIXGeneral, serif; }

.MJXp-mono { font-family: MathJax_Typewriter, "Times New Roman", Times, STIXGeneral, serif; }

.MJXp-largeop { font-size: 150%; }

.MJXp-largeop.MJXp-int { vertical-align: -0.2em; }

.MJXp-math { display: inline-block; line-height: 1.2; text-indent: 0px; font-family: "Times New Roman", Times, STIXGeneral, serif; white-space: nowrap; border-collapse: collapse; }

.MJXp-display { display: block; text-align: center; margin: 1em 0px; }

.MJXp-math span { display: inline-block; }

.MJXp-box { display: block !important; text-align: center; }

.MJXp-box::after { content: " "; }

.MJXp-rule { display: block !important; margin-top: 0.1em; }

.MJXp-char { display: block !important; }

.MJXp-mo { margin: 0px 0.15em; }

.MJXp-mfrac { margin: 0px 0.125em; vertical-align: 0.25em; }

.MJXp-denom { display: inline-table !important; width: 100%; }

.MJXp-denom > * { display: table-row !important; }

.MJXp-surd { vertical-align: top; }

.MJXp-surd > * { display: block !important; }

.MJXp-script-box > * { display: table !important; height: 50%; }

.MJXp-script-box > * > * { display: table-cell !important; vertical-align: top; }

.MJXp-script-box > :last-child > * { vertical-align: bottom; }

.MJXp-script-box > * > * > * { display: block !important; }

.MJXp-mphantom { visibility: hidden; }

.MJXp-munderover, .MJXp-munder { display: inline-table !important; }

.MJXp-over { display: inline-block !important; text-align: center; }

.MJXp-over > * { display: block !important; }

.MJXp-munderover > *, .MJXp-munder > * { display: table-row !important; }

.MJXp-mtable { vertical-align: 0.25em; margin: 0px 0.125em; }

.MJXp-mtable > * { display: inline-table !important; vertical-align: middle; }

.MJXp-mtr { display: table-row !important; }

.MJXp-mtd { text-align: center; padding: 0.5em 0px 0px 0.5em; display: table-cell !important; }

.MJXp-mtr > .MJXp-mtd:first-child { padding-left: 0px; }

.MJXp-mtr:first-child > .MJXp-mtd { padding-top: 0px; }

.MJXp-mlabeledtr { display: table-row !important; }

.MJXp-mlabeledtr > .MJXp-mtd:first-child { padding-left: 0px; }

.MJXp-mlabeledtr:first-child > .MJXp-mtd { padding-top: 0px; }

.MJXp-merror { background-color: rgb(255, 255, 136); color: rgb(204, 0, 0); border: 1px solid rgb(204, 0, 0); padding: 1px 3px; font-style: normal; font-size: 90%; }

.MJXp-scale0 { transform: scaleX(0); }

.MJXp-scale1 { transform: scaleX(0.1); }

.MJXp-scale2 { transform: scaleX(0.2); }

.MJXp-scale3 { transform: scaleX(0.3); }

.MJXp-scale4 { transform: scaleX(0.4); }

.MJXp-scale5 { transform: scaleX(0.5); }

.MJXp-scale6 { transform: scaleX(0.6); }

.MJXp-scale7 { transform: scaleX(0.7); }

.MJXp-scale8 { transform: scaleX(0.8); }

.MJXp-scale9 { transform: scaleX(0.9); }

.MathJax_PHTML .noError { font-size: 90%; text-align: left; color: black; padding: 1px 3px; border: 1px solid; }
------MultipartBoundary--o4C46MD1v5LjRKaEEJJp6V0O1heQ16TtDUGnAqoxwB----
Content-Type: text/css
Content-Transfer-Encoding: binary
Content-Location: cid:css-cc91cfe1-9394-4bf1-9122-bffadb9a60c6@mhtml.blink

@charset "utf-8";

.MathJax_Preview { color: rgb(136, 136, 136); }

#MathJax_Message { position: fixed; left: 1px; bottom: 2px; background-color: rgb(230, 230, 230); border: 1px solid rgb(149, 149, 149); margin: 0px; padding: 2px 8px; z-index: 102; color: black; font-size: 80%; width: auto; white-space: nowrap; }

#MathJax_MSIE_Frame { position: absolute; top: 0px; left: 0px; width: 0px; z-index: 101; border: 0px; margin: 0px; padding: 0px; }

.MathJax_Error { color: rgb(204, 0, 0); font-style: italic; }
------MultipartBoundary--o4C46MD1v5LjRKaEEJJp6V0O1heQ16TtDUGnAqoxwB----
Content-Type: text/css
Content-Transfer-Encoding: binary
Content-Location: cid:css-7e609b74-833c-4019-86d4-d9719d808bc9@mhtml.blink

@charset "utf-8";

#MathJax_Zoom { position: absolute; background-color: rgb(240, 240, 240); overflow: auto; display: block; z-index: 301; padding: 0.5em; border: 1px solid black; margin: 0px; font-weight: normal; font-style: normal; text-align: left; text-indent: 0px; text-transform: none; line-height: normal; letter-spacing: normal; word-spacing: normal; overflow-wrap: normal; white-space: nowrap; float: none; box-sizing: content-box; box-shadow: rgb(170, 170, 170) 5px 5px 15px; }

#MathJax_ZoomOverlay { position: absolute; left: 0px; top: 0px; z-index: 300; display: inline-block; width: 100%; height: 100%; border: 0px; padding: 0px; margin: 0px; background-color: white; opacity: 0; }

#MathJax_ZoomFrame { position: relative; display: inline-block; height: 0px; width: 0px; }

#MathJax_ZoomEventTrap { position: absolute; left: 0px; top: 0px; z-index: 302; display: inline-block; border: 0px; padding: 0px; margin: 0px; background-color: white; opacity: 0; }
------MultipartBoundary--o4C46MD1v5LjRKaEEJJp6V0O1heQ16TtDUGnAqoxwB----
Content-Type: text/css
Content-Transfer-Encoding: binary
Content-Location: cid:css-47c94ba0-02ad-4d82-94e2-78d68d8da86a@mhtml.blink

@charset "utf-8";

.MJX_Assistive_MathML { top: 0px; left: 0px; clip: rect(1px, 1px, 1px, 1px); user-select: none; position: absolute !important; padding: 1px 0px 0px !important; border: 0px !important; height: 1px !important; width: 1px !important; overflow: hidden !important; display: block !important; }

.MJX_Assistive_MathML.MJX_Assistive_MathML_Block { width: 100% !important; }
------MultipartBoundary--o4C46MD1v5LjRKaEEJJp6V0O1heQ16TtDUGnAqoxwB----
Content-Type: text/css
Content-Transfer-Encoding: binary
Content-Location: cid:css-ac9d814e-2986-418c-8f57-fa3412b8a5ec@mhtml.blink

@charset "utf-8";

#MathJax_About { position: fixed; left: 50%; width: auto; text-align: center; border: 3px outset; padding: 1em 2em; background-color: rgb(221, 221, 221); color: black; cursor: default; font-family: message-box; font-size: 120%; font-style: normal; text-indent: 0px; text-transform: none; line-height: normal; letter-spacing: normal; word-spacing: normal; overflow-wrap: normal; white-space: nowrap; float: none; z-index: 201; border-radius: 15px; box-shadow: rgb(128, 128, 128) 0px 10px 20px; }

#MathJax_About.MathJax_MousePost { outline: none; }

.MathJax_Menu { position: absolute; background-color: white; color: black; width: auto; padding: 5px 0px; border: 1px solid rgb(204, 204, 204); margin: 0px; cursor: default; font-style: ; font-variant: normal; font-weight: ; font-stretch: ; font-size: ; font-family: ; font-optical-sizing: ; font-size-adjust: ; font-kerning: ; font-feature-settings: ; font-variation-settings: ; text-align: left; text-indent: 0px; text-transform: none; line-height: normal; letter-spacing: normal; word-spacing: normal; overflow-wrap: normal; white-space: nowrap; float: none; z-index: 201; border-radius: 5px; box-shadow: rgb(128, 128, 128) 0px 10px 20px; }

.MathJax_MenuItem { padding: 1px 2em; background: transparent; }

.MathJax_MenuArrow { position: absolute; right: 0.5em; padding-top: 0.25em; color: rgb(102, 102, 102); font-size: 0.75em; }

.MathJax_MenuActive .MathJax_MenuArrow { color: white; }

.MathJax_MenuArrow.RTL { left: 0.5em; right: auto; }

.MathJax_MenuCheck { position: absolute; left: 0.7em; }

.MathJax_MenuCheck.RTL { right: 0.7em; left: auto; }

.MathJax_MenuRadioCheck { position: absolute; left: 0.7em; }

.MathJax_MenuRadioCheck.RTL { right: 0.7em; left: auto; }

.MathJax_MenuLabel { padding: 1px 2em 3px 1.33em; font-style: italic; }

.MathJax_MenuRule { border-top: 1px solid rgb(221, 221, 221); margin: 4px 3px; }

.MathJax_MenuDisabled { color: graytext; }

.MathJax_MenuActive { background-color: rgb(96, 104, 114); color: white; }

.MathJax_MenuDisabled:focus, .MathJax_MenuLabel:focus { background-color: rgb(232, 232, 232); }

.MathJax_ContextMenu:focus { outline: none; }

.MathJax_ContextMenu .MathJax_MenuItem:focus { outline: none; }

#MathJax_AboutClose { top: 0.2em; right: 0.2em; }

.MathJax_Menu .MathJax_MenuClose { top: -10px; left: -10px; }

.MathJax_MenuClose { position: absolute; cursor: pointer; display: inline-block; border: 2px solid rgb(170, 170, 170); border-radius: 18px; font-family: "Courier New", Courier; font-size: 24px; color: rgb(240, 240, 240); }

.MathJax_MenuClose span { display: block; background-color: rgb(170, 170, 170); border: 1.5px solid; border-radius: 18px; line-height: 0; padding: 8px 0px 6px; }

.MathJax_MenuClose:hover { color: white !important; border: 2px solid rgb(204, 204, 204) !important; }

.MathJax_MenuClose:hover span { background-color: rgb(204, 204, 204) !important; }

.MathJax_MenuClose:hover:focus { outline: none; }
------MultipartBoundary--o4C46MD1v5LjRKaEEJJp6V0O1heQ16TtDUGnAqoxwB----
Content-Type: text/css
Content-Transfer-Encoding: binary
Content-Location: cid:css-c9734a42-be38-4436-8e28-0f935463ea9a@mhtml.blink

@charset "utf-8";

.MathJax_Hover_Frame { border-radius: 0.25em; box-shadow: rgb(136, 51, 170) 0px 0px 15px; display: inline-block; position: absolute; border: 1px solid rgb(170, 102, 221) !important; }

.MathJax_Menu_Button .MathJax_Hover_Arrow { position: absolute; cursor: pointer; display: inline-block; border: 2px solid rgb(170, 170, 170); border-radius: 4px; font-family: "Courier New", Courier; font-size: 9px; color: rgb(240, 240, 240); }

.MathJax_Menu_Button .MathJax_Hover_Arrow span { display: block; background-color: rgb(170, 170, 170); border: 1px solid; border-radius: 3px; line-height: 0; padding: 4px; }

.MathJax_Hover_Arrow:hover { color: white !important; border: 2px solid rgb(204, 204, 204) !important; }

.MathJax_Hover_Arrow:hover span { background-color: rgb(204, 204, 204) !important; }
------MultipartBoundary--o4C46MD1v5LjRKaEEJJp6V0O1heQ16TtDUGnAqoxwB----
Content-Type: text/css
Content-Transfer-Encoding: binary
Content-Location: cid:css-e03570b3-f83f-462f-82e9-811a6fdda034@mhtml.blink

@charset "utf-8";

[inert] { pointer-events: none; cursor: default; }

[inert], [inert] * { user-select: none; }
------MultipartBoundary--o4C46MD1v5LjRKaEEJJp6V0O1heQ16TtDUGnAqoxwB----
Content-Type: text/css
Content-Transfer-Encoding: binary
Content-Location: cid:css-4429cc59-46ae-46a3-89d0-4a4189dd634d@mhtml.blink

@charset "utf-8";

.gb_yb { font: 13px / 27px Roboto, Arial, sans-serif; z-index: 986; }

@-webkit-keyframes gb__a { 
  0% { opacity: 0; }
  50% { opacity: 1; }
}

@keyframes gb__a { 
  0% { opacity: 0; }
  50% { opacity: 1; }
}

a.gb_Ra { border: none; color: rgb(66, 133, 244); cursor: default; font-weight: bold; outline: none; position: relative; text-align: center; text-decoration: none; text-transform: uppercase; white-space: nowrap; user-select: none; }

a.gb_Ra:hover::after, a.gb_Ra:focus::after { background-color: rgba(0, 0, 0, 0.12); content: ""; height: 100%; left: 0px; position: absolute; top: 0px; width: 100%; }

a.gb_Ra:hover, a.gb_Ra:focus { text-decoration: none; }

a.gb_Ra:active { background-color: rgba(153, 153, 153, 0.4); text-decoration: none; }

a.gb_Sa { background-color: rgb(66, 133, 244); color: rgb(255, 255, 255); }

a.gb_Sa:active { background-color: rgb(0, 67, 178); }

.gb_Ta { box-shadow: rgba(0, 0, 0, 0.16) 0px 1px 1px; }

.gb_Ra, .gb_Sa, .gb_Ua, .gb_Va { display: inline-block; line-height: 28px; padding: 0px 12px; border-radius: 2px; }

.gb_Ua, .gb_Va { background: rgb(248, 248, 248); border: 1px solid rgb(198, 198, 198); }

.gb_Ua, #gb a.gb_Ua.gb_Ua, .gb_Va, #gb a.gb_Va { color: rgb(102, 102, 102); cursor: default; text-decoration: none; }

.gb_Va { border: 1px solid rgb(66, 133, 244); font-weight: bold; outline: none; background: linear-gradient(rgb(67, 135, 253), rgb(70, 131, 234)); }

#gb a.gb_Va { color: rgb(255, 255, 255); }

.gb_Va:hover { box-shadow: rgba(0, 0, 0, 0.15) 0px 1px 0px; }

.gb_Va:active { box-shadow: rgba(0, 0, 0, 0.15) 0px 2px 0px inset; background: linear-gradient(rgb(60, 122, 228), rgb(63, 118, 211)); }

#gb .gb_Wa { background: rgb(255, 255, 255); border: 1px solid rgb(218, 220, 224); color: rgb(26, 115, 232); display: inline-block; text-decoration: none; }

#gb .gb_Wa:hover { background: rgb(248, 251, 255); border-color: rgb(218, 220, 224); color: rgb(23, 78, 166); }

#gb .gb_Wa:focus { background: rgb(244, 248, 255); color: rgb(23, 78, 166); outline: rgb(23, 78, 166) solid 1px; }

#gb .gb_Wa:active, #gb .gb_Wa:focus:active { background: rgb(236, 243, 254); color: rgb(23, 78, 166); }

#gb .gb_Wa.gb_H { background: transparent; border: 1px solid rgb(95, 99, 104); color: rgb(138, 180, 248); text-decoration: none; }

#gb .gb_Wa.gb_H:hover { background: rgba(255, 255, 255, 0.04); color: rgb(232, 234, 237); }

#gb .gb_Wa.gb_H:focus { background: rgba(232, 234, 237, 0.12); color: rgb(232, 234, 237); outline: rgb(232, 234, 237) solid 1px; }

#gb .gb_Wa.gb_H:active, #gb .gb_Wa.gb_H:focus:active { background: rgba(232, 234, 237, 0.1); color: rgb(232, 234, 237); }

.gb_ud { display: inline-block; padding: 4px; vertical-align: middle; }

.gb_vd .gb_R { bottom: -3px; right: -5px; }

.gb_ud:first-child, #gbsfw:first-child + .gb_ud { padding-left: 0px; }

.gb_D { position: relative; }

.gb_B { display: inline-block; outline: none; vertical-align: middle; border-radius: 2px; box-sizing: border-box; height: 40px; width: 40px; }

.gb_B, #gb#gb a.gb_B { cursor: pointer; text-decoration: none; }

.gb_B, a.gb_B { color: rgb(0, 0, 0); }

.gb_wd, .gb_xd { border-color: transparent transparent rgb(255, 255, 255); border-style: dashed dashed solid; border-width: 0px 8.5px 8.5px; display: none; position: absolute; left: 6.5px; top: 37px; z-index: 1; height: 0px; width: 0px; animation: 0.2s ease 0s 1 normal none running gb__a; }

.gb_xd { border-bottom-color: rgba(0, 0, 0, 0.2); top: 32px; }

.gb_ma { background: rgb(255, 255, 255); border: 1px solid rgba(0, 0, 0, 0.2); color: rgb(0, 0, 0); box-shadow: rgba(0, 0, 0, 0.2) 0px 2px 10px; display: none; outline: none; overflow: hidden; position: absolute; right: 8px; top: 62px; animation: 0.2s ease 0s 1 normal none running gb__a; border-radius: 2px; user-select: text; }

.gb_ud.gb_5a .gb_wd, .gb_ud.gb_5a .gb_xd, .gb_ud.gb_5a .gb_ma, .gb_5a.gb_ma { display: block; }

.gb_ud.gb_5a.gb_yd .gb_wd, .gb_ud.gb_5a.gb_yd .gb_xd { display: none; }

.gb_zd { position: absolute; right: 8px; top: 62px; z-index: -1; }

.gb_pb .gb_wd, .gb_pb .gb_xd, .gb_pb .gb_ma { margin-top: -10px; }

.gb_ud:first-child, #gbsfw:first-child + .gb_ud { padding-left: 4px; }

.gb_Ha.gb_Ad .gb_ud:first-child { padding-left: 0px; }

.gb_Bd { position: relative; }

.gb_hd .gb_Bd, .gb_Cd .gb_Bd { float: right; }

.gb_B { padding: 8px; cursor: pointer; }

.gb_B::after { content: ""; position: absolute; inset: -4px; }

.gb_Ha .gb_Dd:not(.gb_Ra):focus img { background-color: rgba(0, 0, 0, 0.2); outline: none; border-radius: 50%; }

.gb_Ed button svg, .gb_B { border-radius: 50%; }

.gb_Ed button:focus:not(:focus-visible) svg, .gb_Ed button:hover svg, .gb_Ed button:active svg, .gb_B:focus:not(:focus-visible), .gb_B:hover, .gb_B:active, .gb_B[aria-expanded="true"] { outline: none; }

.gb_2c .gb_Ed.gb_Fd button:focus-visible svg, .gb_Ed button:focus-visible svg, .gb_B:focus-visible { outline: rgb(32, 33, 36) solid 1px; }

.gb_2c .gb_Ed button:focus-visible svg, .gb_2c .gb_B:focus-visible { outline: rgb(241, 243, 244) solid 1px; }

@media (forced-colors: active) {
  .gb_2c .gb_Ed.gb_Fd button:focus-visible svg, .gb_Ed button:focus-visible svg, .gb_2c .gb_Ed button:focus-visible svg { outline: currentcolor solid 1px; }
}

.gb_2c .gb_Ed.gb_Fd button:focus svg, .gb_2c .gb_Ed.gb_Fd button:focus:hover svg, .gb_Ed button:focus svg, .gb_Ed button:focus:hover svg, .gb_B:focus, .gb_B:focus:hover { background-color: rgba(60, 64, 67, 0.1); }

.gb_2c .gb_Ed.gb_Fd button:active svg, .gb_Ed button:active svg, .gb_B:active { background-color: rgba(60, 64, 67, 0.12); }

.gb_2c .gb_Ed.gb_Fd button:hover svg, .gb_Ed button:hover svg, .gb_B:hover { background-color: rgba(60, 64, 67, 0.08); }

.gb_Xa .gb_B.gb_0a:hover { background-color: transparent; }

.gb_B[aria-expanded="true"], .gb_B:hover[aria-expanded="true"] { background-color: rgba(95, 99, 104, 0.24); }

.gb_B[aria-expanded="true"] .gb_F { fill: rgb(95, 99, 104); opacity: 1; }

.gb_2c .gb_Ed button:hover svg, .gb_2c .gb_B:hover { background-color: rgba(232, 234, 237, 0.08); }

.gb_2c .gb_Ed button:focus svg, .gb_2c .gb_Ed button:focus:hover svg, .gb_2c .gb_B:focus, .gb_2c .gb_B:focus:hover { background-color: rgba(232, 234, 237, 0.1); }

.gb_2c .gb_Ed button:active svg, .gb_2c .gb_B:active { background-color: rgba(232, 234, 237, 0.12); }

.gb_2c .gb_B[aria-expanded="true"], .gb_2c .gb_B:hover[aria-expanded="true"] { background-color: rgba(255, 255, 255, 0.12); }

.gb_2c .gb_B[aria-expanded="true"] .gb_F { fill: rgb(255, 255, 255); opacity: 1; }

.gb_ud { padding: 4px; }

.gb_Ha.gb_Ad .gb_ud { padding: 4px 2px; }

.gb_Ha.gb_Ad .gb_z.gb_ud { padding-left: 6px; }

.gb_ma { z-index: 991; line-height: normal; }

.gb_ma.gb_Hd { left: 0px; right: auto; }

@media (max-width: 350px) {
  .gb_ma.gb_Hd { left: 0px; }
}

.gb_Id .gb_ma { top: 56px; }

.gb_S { display: none !important; }

.gb_jb { visibility: hidden; }

.gb_J .gb_B { background-position: -64px -29px; opacity: 0.55; }

.gb_la .gb_J .gb_B { background-position: -64px -29px; }

.gb_2 .gb_J .gb_B { background-position: -29px -29px; opacity: 1; }

.gb_J .gb_B, .gb_J .gb_B:hover, .gb_J .gb_B:focus { opacity: 1; }

.gb_L { display: none; }

@media screen and (max-width: 319px) {
  .gb_Jd:not(.gb_Kd) .gb_J { display: none; visibility: hidden; }
}

.gb_R { display: none; }

.gb_od { font-family: "Google Sans", Roboto, Helvetica, Arial, sans-serif; font-size: 20px; font-weight: 400; letter-spacing: 0.25px; line-height: 48px; margin-bottom: 2px; opacity: 1; overflow: hidden; padding-left: 16px; position: relative; text-overflow: ellipsis; vertical-align: middle; top: 2px; white-space: nowrap; -webkit-box-flex: 1; flex: 1 1 auto; }

.gb_od.gb_pd { color: rgb(60, 64, 67); }

.gb_Ha.gb_9a .gb_od { margin-bottom: 0px; }

.gb_qd.gb_rd .gb_od { padding-left: 4px; }

.gb_Ha.gb_9a .gb_sd { position: relative; top: -2px; }

.gb_td { display: none; }

.gb_Ha { color: black; min-width: 160px; position: relative; transition: box-shadow 0.25s; }

.gb_Ha.gb_9c { min-width: 120px; }

.gb_Ha.gb_Qd .gb_Rd { display: none; }

.gb_Ha.gb_Qd .gb_Jd { height: 56px; }

header.gb_Ha { display: block; }

.gb_Ha svg { fill: currentcolor; }

.gb_Sd { position: fixed; top: 0px; width: 100%; }

.gb_Td { box-shadow: rgba(0, 0, 0, 0.14) 0px 4px 5px 0px, rgba(0, 0, 0, 0.12) 0px 1px 10px 0px, rgba(0, 0, 0, 0.2) 0px 2px 4px -1px; }

.gb_Ud { height: 64px; }

.gb_Jd { box-sizing: border-box; position: relative; width: 100%; display: flex; -webkit-box-pack: justify; justify-content: space-between; min-width: min-content; }

.gb_Ha:not(.gb_9a) .gb_Jd { padding: 8px; }

.gb_Ha.gb_Wd .gb_Jd { -webkit-box-flex: 1; flex: 1 0 auto; }

.gb_Ha .gb_Jd.gb_Kd.gb_Xd { min-width: 0px; }

.gb_Ha.gb_9a .gb_Jd { padding: 4px 4px 4px 8px; min-width: 0px; }

.gb_Rd { height: 48px; vertical-align: middle; white-space: nowrap; -webkit-box-align: center; align-items: center; display: flex; user-select: none; }

.gb_Zd > .gb_Rd { display: table-cell; width: 100%; }

.gb_qd { padding-right: 30px; box-sizing: border-box; -webkit-box-flex: 1; flex: 1 0 auto; }

.gb_Ha.gb_9a .gb_qd { padding-right: 14px; }

.gb_0d { -webkit-box-flex: 1; flex: 1 1 100%; }

.gb_0d > :only-child { display: inline-block; }

.gb_1d.gb_id { padding-left: 4px; }

.gb_1d.gb_2d, .gb_Ha.gb_Wd .gb_1d, .gb_Ha.gb_9a:not(.gb_Cd) .gb_1d { padding-left: 0px; }

.gb_Ha.gb_9a .gb_1d.gb_2d { padding-right: 0px; }

.gb_Ha.gb_9a .gb_1d.gb_2d .gb_Xa { margin-left: 10px; }

.gb_id { display: inline; }

.gb_Ha.gb_cd .gb_1d.gb_3d, .gb_Ha.gb_Cd .gb_1d.gb_3d { padding-left: 2px; }

.gb_od { display: inline-block; }

.gb_1d { box-sizing: border-box; height: 48px; line-height: normal; padding: 0px 4px 0px 30px; -webkit-box-flex: 0; flex: 0 0 auto; -webkit-box-pack: end; justify-content: flex-end; }

.gb_Cd { height: 48px; }

.gb_Ha.gb_Cd { min-width: auto; }

.gb_Cd .gb_1d { float: right; padding-left: 32px; }

.gb_Cd .gb_1d.gb_4d { padding-left: 0px; }

.gb_5d { font-size: 14px; max-width: 200px; overflow: hidden; padding: 0px 12px; text-overflow: ellipsis; white-space: nowrap; user-select: text; }

.gb_Md { transition: background-color 0.4s; }

.gb_8d { color: black; }

.gb_2c { color: white; }

.gb_Ha a, .gb_6c a { color: inherit; }

.gb_ca { color: rgba(0, 0, 0, 0.87); }

.gb_Ha svg, .gb_6c svg, .gb_qd .gb_Pd, .gb_hd .gb_Pd { color: rgb(95, 99, 104); opacity: 1; }

.gb_2c svg, .gb_6c.gb_ad svg { color: rgba(255, 255, 255, 0.87); }

.gb_2c .gb_qd .gb_Pd, .gb_2c .gb_qd .gb_1c, .gb_2c .gb_qd .gb_sd, .gb_6c.gb_ad .gb_Pd { color: rgba(255, 255, 255, 0.87); }

.gb_2c .gb_qd .gb_0c:not(.gb_9d) { opacity: 0.87; }

.gb_pd { color: inherit; opacity: 1; text-rendering: optimizelegibility; -webkit-font-smoothing: antialiased; }

.gb_2c .gb_pd, .gb_8d .gb_pd { opacity: 1; }

.gb_6d { position: relative; }

.gb_M { font-family: arial, sans-serif; line-height: normal; padding-right: 15px; }

a.gb_Z, span.gb_Z { color: rgba(0, 0, 0, 0.87); text-decoration: none; }

.gb_2c a.gb_Z, .gb_2c span.gb_Z { color: white; }

a.gb_Z:focus { outline-offset: 2px; }

a.gb_Z:hover { text-decoration: underline; }

.gb_0 { display: inline-block; padding-left: 15px; }

.gb_0 .gb_Z { display: inline-block; line-height: 24px; vertical-align: middle; }

.gb_Nd { font-family: "Google Sans", Roboto, Helvetica, Arial, sans-serif; font-weight: 500; font-size: 14px; letter-spacing: 0.25px; line-height: 16px; margin-left: 10px; margin-right: 8px; min-width: 96px; padding: 9px 23px; text-align: center; vertical-align: middle; border-radius: 4px; box-sizing: border-box; }

.gb_Ha.gb_Cd .gb_Nd { margin-left: 8px; }

#gb a.gb_Va.gb_Nd { cursor: pointer; }

.gb_Va.gb_Nd:hover { background: rgb(27, 102, 201); box-shadow: rgba(66, 64, 67, 0.15) 0px 1px 3px 1px, rgba(60, 64, 67, 0.3) 0px 1px 2px 0px; }

.gb_Va.gb_Nd:focus, .gb_Va.gb_Nd:hover:focus { background: rgb(28, 95, 186); box-shadow: rgba(66, 64, 67, 0.15) 0px 1px 3px 1px, rgba(60, 64, 67, 0.3) 0px 1px 2px 0px; }

.gb_Va.gb_Nd:active { background: rgb(27, 99, 193); box-shadow: rgba(66, 64, 67, 0.15) 0px 1px 3px 1px, rgba(60, 64, 67, 0.3) 0px 1px 2px 0px; }

.gb_Nd { background: rgb(26, 115, 232); border: 1px solid transparent; }

.gb_Ha.gb_9a .gb_Nd { padding: 9px 15px; min-width: 80px; }

.gb_7d { text-align: left; }

#gb .gb_2c a.gb_Nd:not(.gb_H), #gb.gb_2c a.gb_Nd { background: rgb(255, 255, 255); border-color: rgb(218, 220, 224); box-shadow: none; color: rgb(26, 115, 232); }

#gb a.gb_Va.gb_H.gb_Nd { background: rgb(138, 180, 248); border: 1px solid transparent; box-shadow: none; color: rgb(32, 33, 36); }

#gb .gb_2c a.gb_Nd:hover:not(.gb_H), #gb.gb_2c a.gb_Nd:hover { background: rgb(248, 251, 255); border-color: rgb(204, 224, 252); }

#gb a.gb_Va.gb_H.gb_Nd:hover { background: rgb(147, 186, 249); border-color: transparent; box-shadow: rgba(0, 0, 0, 0.15) 0px 1px 3px 1px, rgba(0, 0, 0, 0.3) 0px 1px 2px; }

#gb .gb_2c a.gb_Nd:focus:not(.gb_H), #gb .gb_2c a.gb_Nd:focus:hover:not(.gb_H), #gb.gb_2c a.gb_Nd:focus:not(.gb_H), #gb.gb_2c a.gb_Nd:focus:hover:not(.gb_H) { background: rgb(244, 248, 255); outline: rgb(201, 221, 252) solid 1px; }

#gb a.gb_Va.gb_H.gb_Nd:focus, #gb a.gb_Va.gb_H.gb_Nd:focus:hover { background: rgb(166, 198, 250); border-color: transparent; box-shadow: none; }

#gb .gb_2c a.gb_Nd:active:not(.gb_H), #gb.gb_2c a.gb_Nd:active { background: rgb(236, 243, 254); }

#gb a.gb_Va.gb_H.gb_Nd:active { background: rgb(161, 195, 249); box-shadow: rgba(60, 64, 67, 0.3) 0px 1px 2px, rgba(60, 64, 67, 0.15) 0px 2px 6px 2px; }

.gb_K { display: none; }

@media screen and (max-width: 319px) {
  .gb_Jd .gb_J { display: none; visibility: hidden; }
}

.gb_Xa { background-color: rgba(255, 255, 255, 0.88); border: 1px solid rgb(218, 220, 224); box-sizing: border-box; cursor: pointer; display: inline-block; max-height: 48px; overflow: hidden; outline: none; padding: 0px; vertical-align: middle; width: 134px; border-radius: 8px; }

.gb_Xa.gb_H { background-color: transparent; border: 1px solid rgb(95, 99, 104); }

.gb_4a { display: inherit; }

.gb_Xa.gb_H .gb_4a { background: rgb(255, 255, 255); border-radius: 4px; display: inline-block; left: 8px; margin-right: 5px; position: relative; padding: 3px; top: -1px; }

.gb_Xa:hover { border: 1px solid rgb(210, 227, 252); background-color: rgba(248, 250, 255, 0.88); }

.gb_Xa.gb_H:hover { background-color: rgba(241, 243, 244, 0.04); border: 1px solid rgb(95, 99, 104); }

.gb_Xa:focus-visible, .gb_Xa:focus { background-color: rgb(255, 255, 255); outline: rgb(32, 33, 36) solid 1px; box-shadow: rgba(60, 64, 67, 0.3) 0px 1px 2px 0px, rgba(60, 64, 67, 0.15) 0px 1px 3px 1px; }

.gb_Xa.gb_H:focus-visible, .gb_Xa.gb_H:focus { background-color: rgba(241, 243, 244, 0.12); outline: rgb(241, 243, 244) solid 1px; box-shadow: rgba(0, 0, 0, 0.15) 0px 1px 3px 1px, rgba(0, 0, 0, 0.3) 0px 1px 2px 0px; }

.gb_Xa.gb_H:active, .gb_Xa.gb_5a.gb_H:focus { background-color: rgba(241, 243, 244, 0.1); border: 1px solid rgb(95, 99, 104); }

.gb_6a { display: inline-block; padding-bottom: 2px; padding-left: 7px; padding-top: 2px; text-align: center; vertical-align: middle; }

.gb_6a { line-height: 32px; width: 78px; }

.gb_Xa.gb_H .gb_6a { line-height: 26px; margin-left: 0px; padding-bottom: 0px; padding-left: 0px; padding-top: 0px; width: 72px; }

.gb_6a.gb_7a { background-color: rgb(241, 243, 244); border-radius: 4px; margin-left: 8px; padding-left: 0px; line-height: 30px; }

.gb_6a.gb_7a .gb_8a { vertical-align: middle; }

.gb_Ha:not(.gb_9a) .gb_Xa { margin-left: 10px; margin-right: 4px; }

.gb_ab { max-height: 32px; width: 78px; }

.gb_Xa.gb_H .gb_ab { max-height: 26px; width: 72px; }

.gb_Q { background-size: 32px 32px; border: 0px; border-radius: 50%; display: block; margin: 0px; position: relative; height: 32px; width: 32px; z-index: 0; }

.gb_kb { background-color: rgb(232, 240, 254); border: 1px solid rgba(32, 33, 36, 0.08); position: relative; }

.gb_kb.gb_Q { height: 30px; width: 30px; }

.gb_kb.gb_Q:hover, .gb_kb.gb_Q:active { box-shadow: none; }

.gb_lb { background: rgb(255, 255, 255); border: none; border-radius: 50%; bottom: 2px; box-shadow: rgba(60, 64, 67, 0.3) 0px 1px 2px 0px, rgba(60, 64, 67, 0.15) 0px 1px 3px 1px; height: 14px; margin: 2px; position: absolute; right: 0px; width: 14px; line-height: normal; z-index: 1; }

.gb_mb { color: rgb(31, 113, 231); font: 400 22px / 32px "Google Sans", Roboto, Helvetica, Arial, sans-serif; text-align: center; text-transform: uppercase; }

@media (-webkit-min-device-pixel-ratio: 1.25), (min-device-pixel-ratio:1.25), (min-resolution: 1.25dppx) {
  .gb_Q::before, .gb_nb::before { display: inline-block; transform: scale(0.5); transform-origin: left 0px; }
  .gb_4 .gb_nb::before { }
}

.gb_Q:hover, .gb_Q:focus { box-shadow: rgba(0, 0, 0, 0.15) 0px 1px 0px; }

.gb_Q:active { box-shadow: rgba(0, 0, 0, 0.15) 0px 2px 0px inset; }

.gb_Q:active::after { background: rgba(0, 0, 0, 0.1); border-radius: 50%; content: ""; display: block; height: 100%; }

.gb_ob { cursor: pointer; line-height: 40px; min-width: 30px; opacity: 0.75; overflow: hidden; vertical-align: middle; text-overflow: ellipsis; }

.gb_B.gb_ob { width: auto; }

.gb_ob:hover, .gb_ob:focus { opacity: 0.85; }

.gb_pb .gb_ob, .gb_pb .gb_qb { line-height: 26px; }

#gb#gb.gb_pb a.gb_ob, .gb_pb .gb_qb { font-size: 11px; height: auto; }

.gb_rb { border-top: 4px solid rgb(0, 0, 0); border-left: 4px dashed transparent; border-right: 4px dashed transparent; display: inline-block; margin-left: 6px; opacity: 0.75; vertical-align: middle; }

.gb_0a:hover .gb_rb { opacity: 0.85; }

.gb_Xa > .gb_z { padding: 3px 3px 3px 4px; }

.gb_sb.gb_jb { color: rgb(255, 255, 255); }

.gb_2 .gb_ob, .gb_2 .gb_rb { opacity: 1; }

#gb#gb.gb_2.gb_2 a.gb_ob, #gb#gb .gb_2.gb_2 a.gb_ob { color: rgb(255, 255, 255); }

.gb_2.gb_2 .gb_rb { border-top-color: rgb(255, 255, 255); opacity: 1; }

.gb_la .gb_Q:hover, .gb_2 .gb_Q:hover, .gb_la .gb_Q:focus, .gb_2 .gb_Q:focus { box-shadow: rgba(0, 0, 0, 0.15) 0px 1px 0px, rgba(0, 0, 0, 0.2) 0px 1px 2px; }

.gb_tb .gb_z, .gb_ub .gb_z { position: absolute; right: 1px; }

.gb_z.gb_1, .gb_vb.gb_1, .gb_0a.gb_1 { -webkit-box-flex: 0; flex: 0 1 auto; }

.gb_wb.gb_xb .gb_ob { width: 30px !important; }

.gb_P { height: 40px; position: absolute; right: -5px; top: -5px; width: 40px; }

.gb_yb .gb_P, .gb_zb .gb_P { right: 0px; top: 0px; }

.gb_z .gb_B { padding: 4px; }

.gb_T { display: none; }

sentinel { }
------MultipartBoundary--o4C46MD1v5LjRKaEEJJp6V0O1heQ16TtDUGnAqoxwB----
Content-Type: text/html
Content-ID: <frame-8BE9959AE7035DB5960AC7900476DB85@mhtml.blink>
Content-Transfer-Encoding: binary
Content-Location: https://yg93eznmmps-496ff2e9c6d22116-0-colab.googleusercontent.com/outputframe.html?vrz=colab-external_20251021-090749_RC00_822053585

<!DOCTYPE html><html><head><meta http-equiv="Content-Type" content="text/html; charset=UTF-8">

</head><body><div id="output-area"><span id="output-header"> </span><div id="output-body"></div><span id="output-footer"></span></div></body></html>
------MultipartBoundary--o4C46MD1v5LjRKaEEJJp6V0O1heQ16TtDUGnAqoxwB----
Content-Type: text/html
Content-ID: <frame-C0CB138E93A1BFD5CBFE4A05F74CCDE2@mhtml.blink>
Content-Transfer-Encoding: binary
Content-Location: https://pz8lpr4b73o-496ff2e9c6d22116-0-colab.googleusercontent.com/outputframe.html?vrz=colab-external_20251021-090749_RC00_822053585

<!DOCTYPE html><html><head><meta http-equiv="Content-Type" content="text/html; charset=UTF-8">

</head><body><div id="output-area"><span id="output-header"> </span><div id="output-body"></div><span id="output-footer"></span></div></body></html>
------MultipartBoundary--o4C46MD1v5LjRKaEEJJp6V0O1heQ16TtDUGnAqoxwB----
Content-Type: text/html
Content-ID: <frame-1AB2EC2E3F003505FB3FBCB353F8221B@mhtml.blink>
Content-Transfer-Encoding: binary
Content-Location: https://feedback-pa.clients6.google.com/static/proxy.html?usegapi=1&jsh=m%3B%2F_%2Fscs%2Fabc-static%2F_%2Fjs%2Fk%3Dgapi.gapi.en._-6I1IsQqEQ.O%2Fd%3D1%2Frs%3DAHpOoo-gb-0PY0jVr-uVh6E5NrStS7aPkQ%2Fm%3D__features__#parent=https%3A%2F%2Fcolab.research.google.com&rpctoken=1313777965

<!DOCTYPE html><html><head><meta http-equiv="Content-Type" content="text/html; charset=UTF-8">
<title></title>
<meta http-equiv="X-UA-Compatible" content="IE=edge">


</head>
<body>


</body></html>
------MultipartBoundary--o4C46MD1v5LjRKaEEJJp6V0O1heQ16TtDUGnAqoxwB----
Content-Type: text/html
Content-ID: <frame-6C4D8168C3835BCE1734ACD5F6431B19@mhtml.blink>
Content-Transfer-Encoding: binary
Content-Location: https://www.google.com/recaptcha/api2/anchor?ar=1&k=6LfQPtEUAAAAAHBpAdFng54jyuB1V5w5dofknpip&co=aHR0cHM6Ly9jb2xhYi5yZXNlYXJjaC5nb29nbGUuY29tOjQ0Mw..&hl=id&v=KmpMK968ITgSdSG_2lbUmd1o&size=invisible&anchor-ms=20000&execute-ms=15000&cb=4c39vpch396n

<!DOCTYPE html><html dir="ltr" lang="id"><head><meta http-equiv="Content-Type" content="text/html; charset=UTF-8"><link rel="stylesheet" type="text/css" href="cid:css-1b7a8ca0-cb08-4e56-ab3f-11e27459ad29@mhtml.blink" />
<meta http-equiv="X-UA-Compatible" content="IE=edge">
<title>reCAPTCHA</title>

<link rel="stylesheet" type="text/css" href="https://www.gstatic.com/recaptcha/releases/KmpMK968ITgSdSG_2lbUmd1o/styles__ltr.css">

</head>
<body><div id="rc-anchor-alert" class="rc-anchor-alert"></div>

<div class="rc-anchor rc-anchor-invisible rc-anchor-light  rc-anchor-invisible-hover"><div id="recaptcha-accessible-status" class="rc-anchor-aria-status" aria-hidden="true">Recaptcha memerlukan verifikasi. </div><div class="rc-anchor-error-msg-container" style="display:none"><span class="rc-anchor-error-msg" aria-hidden="true"></span></div><div class="rc-anchor-normal-footer smalltext"><div class="rc-anchor-logo-large" role="presentation"><div class="rc-anchor-logo-img rc-anchor-logo-img-large"></div></div><div class="rc-anchor-pt"><a href="https://www.google.com/intl/id/policies/privacy/" target="_blank">Privasi</a><span aria-hidden="true" role="presentation"> - </span><a href="https://www.google.com/intl/id/policies/terms/" target="_blank">Persyaratan</a></div></div><div class="rc-anchor-invisible-text"><span>dilindungi oleh <strong>reCAPTCHA</strong></span><div class="rc-anchor-pt"><a href="https://www.google.com/intl/id/policies/privacy/" target="_blank" style="">Privasi</a><span aria-hidden="true" role="presentation"> - </span><a href="https://www.google.com/intl/id/policies/terms/" target="_blank" style="">Persyaratan</a></div></div></div><iframe style="display: none;"></iframe></body></html>
------MultipartBoundary--o4C46MD1v5LjRKaEEJJp6V0O1heQ16TtDUGnAqoxwB----
Content-Type: image/png
Content-Transfer-Encoding: binary
Content-Location: https://www.gstatic.com/recaptcha/api2/logo_48.png

�PNG

   IHDR   0   0   W��   gAMA  ���a    cHRM  z&  ��  �   ��  u0  �`  :�  p��Q<   bKGD      �C�   	pHYs     ��  IDATh�ݙP��=�8����Nx� �PlP8�;�C1iL#6��*�Z�!ڠ��
�3�po �o�L�i�I��1flڌ�4��ujL&6$�������ﱷ����Й��w���������,Z�z� ~��⏃�\��_�C�eKЖ��g��%��Pق�L7���96��q���L�ȃ�ƻk6��*�,xz��_쵬����B"#	��L(n��f��Yb�.*�8;����K)N���H)%�F"Ic�LB��Ԣ�٬����jG�uD��B����Tm��T��)�A}D�f��3V�����O�����t_��]�x�{o�����*� x?!W�j��@�
G=Ed�XF�������׏J�E?
/]��?p�W�H�d5% WA+�͜	�)2r��+�֡'qk8���/HS�[��۹u�z�P*����-�A} �	�I �P��S�ӄ�|��)��KS4����IΥ���W���@����S�s�s$`�X9����E�x=�u�*iJ���������k���ޝ�'���!�a
��*+� ���(ޚ�S�\h��ˣ�@����������I�$�%�2��	l�� ��a�|���U����y�ک�t
×8	��TFop+�@<g�����-�M����:�@��(���	��@�����>=�ofmWM{�e�,��D�r��Ҫ��w�T
L os��T@Rv��;���9����56<x��Ț����2�k�1���dd�V��m��y5�/4|��׮G�p�V�����6��}����Bє�����5���&��v�yTd�6����/m�K���(��\��׆�%�ᩪ��}��g���HdiPXēq�ݟ0d�7>�����HR(B�m_�G����wѲ������H�������}���S����)�]��}�DŻ�3J��5��P#\��8. C�W!	�� ��LHH�^�7�!>EII��c�~�}W^t~�[2�St��;2��X�*��Kh1���)/�yhZ��/˷����Qbɿ6����OFi���{T�|Ù쟍t�E$�\�<�����M; ��)!x�
�J+R�s	i����|M�[�Ri�����伪b���j).搴ï(p��焇�s~������Jк��"���С�ř�Ĵ8V�w�%�����l��<|���8��[��@w�6��9���B{�:�}�S2E�����}|%��y&(m����q�2Q& B������	�@1 4:�(&�8��Ll�{9v��e\�t�)F��ݒ��4��d@��c�A׭F��A���9�<100p5$$D�3h��B�o>��[:�[p����?K��3ӂa� 3����/zDG�� �5�X����	�>�UWWK���<8y����������cfff�477��S^u����[���˽�=ю;������ٳH|2)�Jx%�255uk��_%z�~MMM����Ix:H���!�	�Ν;����������t��Ә���Z�ڋ�a��W"��MN��|326���եܳgO�\.����������ѣ�O���Ζ���[剄O�A-u��E2��4���c���@3s��_�PwJvg�p�y�6*�a���t`��7��%	�偿�nMM��Âf���x!jkk���J����O�����~�BB���ן��ab������� ��X�e�l��_�����;ww�
�Z:s!CCC��j֒X��ٴys5����b�|_T\��|��O� 8�����%$*::Zu�ر�э��;::��Pý��{��D��Apx�C�l �j�ۡ�}�x__�ߔJ勨l|��Zv��"������������_O�m6�����723���w��{�~7E�h!�V���<Ly�;;;������`0�B~�2111;<<�E[[ە]�v_�n]~AO�e�sY>���-���A3�����?�������>�79��?�
��I�����7C�+(�/    IEND�B`�
------MultipartBoundary--o4C46MD1v5LjRKaEEJJp6V0O1heQ16TtDUGnAqoxwB----
Content-Type: text/css
Content-Transfer-Encoding: binary
Content-Location: https://www.gstatic.com/recaptcha/releases/KmpMK968ITgSdSG_2lbUmd1o/styles__ltr.css

@charset "utf-8";

.goog-inline-block { position: relative; display: inline-block; }

* html .goog-inline-block { display: inline; }

:first-child + html .goog-inline-block { display: inline; }

.recaptcha-checkbox { border: none; font-size: 1px; height: 28px; margin: 4px; width: 28px; overflow: visible; outline: 0px; vertical-align: text-bottom; }

.recaptcha-checkbox-border { border-radius: 2px; background-color: rgb(255, 255, 255); border: 2px solid rgb(68, 71, 70); font-size: 1px; height: 24px; position: absolute; width: 24px; z-index: 1; }

.recaptcha-checkbox-borderAnimation { background-image: url("data:image/png;base64,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"); background-repeat: no-repeat; border: none; height: 28px; outline: 0px; position: absolute; width: 28px; }

.recaptcha-checkbox-nodatauri.recaptcha-checkbox-borderAnimation { background-image: url("https://www.gstatic.com/recaptcha/api2/checkbox_sprite.png"); }

.recaptcha-checkbox-spinner-gif { border-radius: 2px; background-color: rgb(255, 255, 255); background-size: 24px; border: 2px solid rgb(68, 71, 70); height: 24px; left: 0px; position: absolute; top: 0px; width: 24px; }

.recaptcha-checkbox-spinner { background-color: rgb(249, 249, 249); border-width: 6px; border-style: solid; border-color: rgb(77, 144, 254) rgb(77, 144, 254) transparent transparent; border-image: initial; border-radius: 36px; height: 36px; left: -4px; outline: 0px; position: absolute; top: -4px; width: 36px; box-sizing: border-box; opacity: 0; animation: 2.5s linear 0s infinite normal none paused spinner-spin; transition-duration: 1s; }

@-webkit-keyframes spinner-spin { 
  0% { transform: rotateZ(0deg); }
  10% { transform: rotateZ(135deg); }
  25% { transform: rotateZ(245deg); }
  60% { transform: rotateZ(700deg); }
  75% { transform: rotateZ(810deg); }
  100% { transform: rotateZ(3turn); }
}

@keyframes spinner-spin { 
  0% { transform: rotateZ(0deg); }
  10% { transform: rotateZ(135deg); }
  25% { transform: rotateZ(245deg); }
  60% { transform: rotateZ(700deg); }
  75% { transform: rotateZ(810deg); }
  100% { transform: rotateZ(3turn); }
}

.recaptcha-checkbox-spinner-overlay { content: ""; position: absolute; top: -7px; left: -7px; width: 38px; height: 19px; background-color: rgb(249, 249, 249); animation: 1s linear 0s 1 normal none paused overlay-spin; transform-origin: center bottom; border-radius: 38px 38px 0px 0px; transform: rotateZ(45deg); opacity: 0; }

@-webkit-keyframes overlay-spin { 
  0% { opacity: 1; transform: rotateZ(45deg); }
  100% { opacity: 1; transform: rotateZ(225deg); }
}

@keyframes overlay-spin { 
  0% { opacity: 1; transform: rotateZ(45deg); }
  100% { opacity: 1; transform: rotateZ(225deg); }
}

.recaptcha-checkbox-checkmark { background-image: url("data:image/png;base64,iVBORw0KGgoAAAANSUhEUgAAACYAAATsCAMAAADb3wBdAAAAIGNIUk0AAHomAACAhAAA+gAAAIDoAAB1MAAA6mAAADqYAAAXcJy6UTwAAAFBUExURQAAAAAwGgALBgAqFgAWDAABAQAYDQBBIwBIJwA5HwCRTgAXDABuOwAcDwBSLABNKQB7QgCVUAAJBQBxPQAiEgBWLgABAABeMgB6QgA4HgAGAwB2PwBhNABGJgACAQBjNQBmNwADAgBvPABuOwAEAgBtOwB+RAAJBQCDRgANBwBxPQA0HABIJwB4QQBULQBULQB8QwBXLwB9QwBQKwApFgCYUgB2QAAGAwBKKABOKgCARQAHBAAeEAA3HgBXLwAjEwA+IQAFAwBAIwARCQCISQAMBwA1HQAzHAA8IAA/IgCQTgAWDABMKQAZDgCSTgBsOgAPCAAUCwCNTAAOCAASCgAQCQA2HQBRKwAuGQBaMQAtGABSLAAgEQA/IgA4HgCPTQBwPAACAQArFwBgNAATCgAaDgAqFwAIBAAUCwCeVf///4C5DhQAAABpdFJOUwBNEUMjAiZpdVzqJbEthXzG8Q+2N4sBl8VaCr6ccQOgpQWzsgawzA7TFbdUdMKIh8iMyYFC9r8JeH7PDDFZjThkCGgc3BRWU2Fm6SR7KeuuGCHkFx0aV4JKkkiEM2Vb5rQERZseKkQNIKs/1NYAAAABYktHRGolYpUOAAADVElEQVR42u3deVNSURyH8aMtWEkFGRTajeKabFESFuXSoq2UubRnuy3n/b+BuM40E3GH842bsfg8f/jXbwTP5XzmeHXAGCIiokiNjCpT+/YrUwcOsp5EFKXYmDJ16PARRaTxOAtKRFFEOiqJZO0xQaTjNqGYlDwxwcITURSRTqYUkaxNu+eSp5pzp92Pmpm0Uynh2WXOeFxIIkSKItJZtyJNkazNnnPPnW/O5XznnD9t7YUZ90/rZfMFZVW8UV4/RIgURSRbLDmfoJe10g/iTQVzZefjptLWXkwKy1yZzEgXzed1S4i0OyJdiikiVayNuUVqTtnLnkuk2eaXatItkmvql0hVpzWIRNSdSFdqikgVO1dzixT4cNUpUqXDnm4RqcPO/12kTj4gElGUrklTdemmx3VrQ+daRQr29I2CW6TwfdguUvhuRSREov6qXpGmrK1IUzY/L4gUShIiIRINZguaNZ1ueLQosqhZU/g3U4iESDQolXzNGuHPOTs+LP1XaxAJkWhQuimea+riueZWH1qDSIhEve+2Zo1017eubOm+tQaREIl6351l7fSzsiyJZKcRCZEQicKus3b6kS5ec7cKczt7+i4iIRIiUXvaO1rof9O6N+SnH0RCJNrN7mc0kZSrF+zWNCIhEiJR1z3gDhEiIRIi9U0P45pIjxqaSEVEQiREIkRCJERCJERCpL8SKf5YEenJqiKSeYpIiIRIiBRFJLOmiGQaq4pI6xuIhEiIhEhRRDKSSMZsCiIZ82xDEMk8X0EkREIkRIoi0h9T7n3omHrhKVMvFZFMCZEIkRBpEKdejc8KU7U5yZrXiIRIiIRI0abeSFPBd1OmjIkl2bOIhEjDIpKX03zwc5oP/gw7iBBpWESazysiGVPIaz4UOD8QIg2NSGVpKrjpIb0NVK0qfS6iSfEaJNpbIpm0NGVSae3TVVP8rkK0x0Qqadb4Oe3E4i8VuNZEiNTegmaNiWnWmEWsIUKkkEYkkYJ/iZOs8d5iDREihVSWRAru+haVb8ddXyKKINJaQhLJTCQkkcwWpx8iCumd9kbb7z80tLmP2sN+YuWJqL3Pmkj+F00kf4wlJaKu2/6qzX1b1+a2WFIi6rrv29rcD/HOzyZLSkRERL3qJ2+bn1T/Y0TVAAAAKHRFWHRkYXRlOnRpbWVzdGFtcAAyMDI1LTEwLTEyVDE5OjEwOjI3KzAwOjAwWKrQmgAAAABJRU5ErkJggg=="); background-repeat: no-repeat; border: none; height: 30px; left: -5px; outline: 0px; position: absolute; width: 38px; }

.rc-anchor-dark .recaptcha-checkbox-spinner, .rc-anchor-dark .recaptcha-checkbox-spinner-overlay { background-color: rgb(34, 34, 34); }

.recaptcha-checkbox-nodatauri.recaptcha-checkbox-checkmark { background-image: url("https://www.gstatic.com/recaptcha/api2/checkmark_sprite.png"); }

.recaptcha-checkbox-hover .recaptcha-checkbox-border, .recaptcha-checkbox-hover .recaptcha-checkbox-spinner-gif { box-shadow: rgba(0, 0, 0, 0.1) 0px 1px 1px inset; border: 2px solid rgb(178, 178, 178); }

.recaptcha-checkbox-focused .recaptcha-checkbox-border, .recaptcha-checkbox-focused .recaptcha-checkbox-spinner-gif { border: 2px solid rgb(77, 144, 254); }

.recaptcha-checkbox-active .recaptcha-checkbox-border, .recaptcha-checkbox-active .recaptcha-checkbox-spinner-gif { background-color: rgb(235, 235, 235); }

.recaptcha-checkbox-disabled .recaptcha-checkbox-border, .recaptcha-checkbox-disabled .recaptcha-checkbox-spinner-gif { background-color: rgb(241, 241, 241); }

.recaptcha-checkbox-loading .recaptcha-checkbox-spinner-gif { background-image: url("https://www.gstatic.com/recaptcha/api2/loading.gif"); }

.recaptcha-checkbox-checked .recaptcha-checkbox-border, .recaptcha-checkbox-checked .recaptcha-checkbox-spinner-gif { visibility: hidden; }

.recaptcha-checkbox-checked .recaptcha-checkbox-checkmark { background-position: 0px -600px; }

.recaptcha-checkbox-expired .recaptcha-checkbox-border, .recaptcha-checkbox-expired .recaptcha-checkbox-spinner-gif { border: 2px solid rgb(217, 48, 37); }

.recaptcha-checkbox-clearOutline.recaptcha-checkbox-focused .recaptcha-checkbox-border, .recaptcha-checkbox-clearOutline.recaptcha-checkbox-focused .recaptcha-checkbox-spinner-gif { border: 2px solid rgb(68, 71, 70); }

body { margin: 0px; }

.rc-anchor { border-radius: 3px; box-shadow: rgba(0, 0, 0, 0.08) 0px 0px 4px 1px; }

.rc-anchor-normal { height: 74px; width: 300px; }

.rc-anchor-compact { height: 136px; width: 156px; }

.rc-anchor-compact #rc-anchor-classic-warning { width: 140px; text-align: center; }

.rc-anchor-dark { background: rgb(34, 34, 34); color: rgb(255, 255, 255); }

.rc-anchor-dark.rc-anchor-normal, .rc-anchor-dark.rc-anchor-compact { border: 1px solid rgb(82, 82, 82); }

.rc-anchor-dark #rc-anchor-over-quota, .rc-anchor-dark.rc-anchor-compact #rc-anchor-over-quota, .rc-anchor-dark.rc-anchor-normal #rc-anchor-classic-warning, .rc-anchor-dark.rc-anchor-compact #rc-anchor-classic-warning { color: rgb(255, 255, 255); }

.rc-anchor-light { background: rgb(249, 249, 249); color: rgb(0, 0, 0); }

.rc-anchor-light.rc-anchor-normal, .rc-anchor-light.rc-anchor-compact { border: 1px solid rgb(211, 211, 211); }

.rc-inline-block { display: inline-block; height: 100%; }

.rc-anchor-center-container { display: table; height: 100%; }

.rc-anchor-center-item { display: table-cell; vertical-align: middle; }

.rc-anchor-content { display: inline-block; position: relative; }

.rc-anchor-normal .rc-anchor-content { height: 74px; width: 206px; }

.rc-anchor-compact .rc-anchor-content { height: 85px; }

.rc-anchor-error-message { color: rgb(255, 0, 0); font-family: Roboto, helvetica, arial, sans-serif; font-size: 14px; font-weight: 400; line-height: 16px; padding: 0px 10px; }

.rc-anchor-checkbox { margin: 0px 12px 2px; }

.rc-anchor-checkbox-label { font-family: Roboto, helvetica, arial, sans-serif; font-size: 14px; font-weight: 400; line-height: 17px; }

.rc-anchor-normal .rc-anchor-checkbox-label { width: 152px; }

.rc-anchor-compact .rc-anchor-checkbox-label { width: 95px; }

.rc-anchor-error-msg-container { color: rgb(217, 48, 37); font-family: Roboto, helvetica, arial, sans-serif; font-size: 12px; font-weight: 400; left: 0px; line-height: 14px; margin: 2px; position: absolute; top: 0px; }

.rc-anchor-normal.rc-anchor-error .rc-anchor-error-msg-container { width: 240px; }

.rc-anchor-normal.rc-anchor-error .rc-anchor-content { margin-top: 10px; }

.rc-anchor-compact.rc-anchor-error .rc-anchor-content { margin-top: 25px; }

.rc-anchor-normal-footer { display: inline-block; height: 74px; vertical-align: top; width: 70px; }

.rc-anchor-compact-footer { margin: 0px 12px; text-align: center; width: 136px; }

.rc-anchor-logo-img { background: url("https://www.gstatic.com/recaptcha/api2/logo_48.png") no-repeat; }

.rc-anchor-logo-img-ie8 { }

.rc-anchor-logo-text { cursor: default; font-family: Roboto, helvetica, arial, sans-serif; font-size: 10px; font-weight: 400; line-height: 10px; margin-top: 5px; text-align: center; }

.rc-anchor-light .rc-anchor-logo-text, .rc-anchor-light div a:link, .rc-anchor-light div a:visited { color: rgb(85, 85, 85); }

.rc-anchor-dark .rc-anchor-logo-text, .rc-anchor-dark div a:link, .rc-anchor-dark div a:visited { color: rgb(245, 245, 245); }

.rc-anchor-logo-portrait { margin: 10px 0px 0px 26px; width: 58px; user-select: none; }

.rc-anchor-logo-img-portrait { background-size: 32px; height: 32px; margin: 0px 13px; width: 32px; }

.rc-anchor-logo-landscape { user-select: none; }

.rc-anchor-logo-img-landscape { background-size: 24px; display: inline-block; height: 24px; width: 24px; }

.rc-anchor-logo-landscape-text-holder { display: inline-block; height: 24px; margin: 0px 2px; width: 54px; }

.rc-anchor-normal .rc-anchor-pt, .rc-anchor-invisible .rc-anchor-pt, .rc-anchor-compact .rc-anchor-pt { font-family: Roboto, helvetica, arial, sans-serif; font-size: 8px; font-weight: 400; }

.rc-anchor-pt { background-image: url("data:image/png;base64,iVBORw0KGgBX2EQZQBOnoDD2UcBhW1sSiNmRQ8RLXQFNGEeygBY2c9ObVv9U1t63RNBc6wgU2VvBPuEb0HRObDgBXlGjaztkBWm8aGJkATRZZa3RzU6xhDAwBuFJvGDokk0hlRv6FSghlBGdtzcqF6RQBVwudRzWvBcGFXHkxMO6F5Dx0B0GGK82EPKTobIlQ1OwBag4xQGEuQbhhZExTpOMDBdWcMLJAH6z05bpVM3n1yIHoBny71Em5nBb3FFaA1IB1nQYk269fH5kcxBuVnl2DwBHU8DmmdyZWV0Kp9/B/utvhXIgX65veQBbxxyTBBhPIp43wBuV2HH3NWZDvKaRUBcaWcBYwCccgG1CS5ayvpLA+VaS2AoJEGZWOY/OJHry+PRBih8RohtGaoLIEyGBdlheMvRrX9ddH3tfKX9eyhoEy/2dl3sqLyixil0zXIrepVxUhxsq0CN8YypdBCrZLgz43ZCkKTB8Pqf4WkFkNSU3fTWFahPQLh42Bv853YXR2dHIBo7Vtbh5kR3Jm/t/o8WUBb4M/nElvLlCkb4TpsrVtByaN2YWM35OlwBOjsdc8PAB01o/BdE5l9unUdAooYXA74zIBawZfP8ccRU+Gb5hvUABVU0zkLigyABoG7f6XMOZHcTVVMBdAFk3zQB1G/Ea9NwaXQnBZnF2RxZlSI96RQBI89vGAM3C9I9p4U+RXPsBdJjXfmUB/Nt6pN2ZX3cUin0lWs98YnyzBaWA3ZOr3R7hqBfatk020qBfBoRLHL6KHIBakhwo3XdbxkBUh6HRnEkfhv+fV1Zrn87g80uFFbUIA9Qtsxx+4pcPURUGvI/BHxZG75dkfdfKKVTm1OlkAQZD1Hb7EeEgylwBdHIenSyS95xEYe5pbgQBYZV2E255ZTuaZHo"); }

.rc-anchor-pt a { display: inline; padding: 2px 1px; text-decoration: none; }

.rc-anchor-pt a:hover { text-decoration: underline; }

.rc-anchor-normal .rc-anchor-pt { margin: 2px 11px 0px 0px; padding-right: 2px; position: absolute; right: 0px; text-align: right; width: 276px; }

.rc-anchor-compact .rc-anchor-pt { margin: 0px 0px 2px; width: 132px; }

.rc-anchor-aria-status { display: none; }

#rc-anchor-alert, .rc-anchor-alert { color: red; font-size: 9px; margin: 2px; position: absolute; top: 0px; }

#rc-anchor-classic-warning { bottom: 0px; color: rgb(85, 85, 85); font-family: Roboto, helvetica, arial, sans-serif; font-size: 9px; padding: 4px; position: absolute; width: 190px; display: flex; -webkit-box-align: center; align-items: center; height: 20px; }

#rc-anchor-classic-warning a { display: inline-block; position: relative; z-index: 1; padding: 4px; margin: -4px; }

#rc-anchor-over-quota { bottom: 0px; color: rgb(85, 85, 85); font-family: Roboto, helvetica, arial, sans-serif; font-size: 9px; padding: 4px; position: absolute; width: 170px; display: flex; -webkit-box-align: center; align-items: center; height: 20px; }

.rc-anchor-compact .rc-anchor-content #rc-anchor-over-quota { width: 148px; }

.rc-anchor-normal .rc-anchor-pt.rc-anchor-over-quota-pt { width: 130px; }

.rc-anchor-logo-portrait.rc-anchor-over-quota-logo { margin-top: 6px; }

#rc-anchor-invisible-over-quota, #rc-anchor-invisible-classic-warning { font-size: 9px; line-height: normal; }

#rc-anchor-invisible-over-quota, #rc-anchor-invisible-classic-warning a { color: white; }

.rc-anchor-invisible { height: 60px; width: 256px; display: flex; }

.rc-anchor-invisible-text { background: rgb(26, 115, 232); color: white; display: flex; flex-basis: 166px; -webkit-box-orient: vertical; -webkit-box-direction: normal; flex-direction: column; -webkit-box-flex: 1; flex-grow: 1; font-family: Roboto, helvetica, arial, sans-serif; font-size: 13px; font-weight: 400; height: 100%; -webkit-box-pack: center; justify-content: center; line-height: 20px; padding: 0px 16px; white-space: nowrap; }

.rc-anchor-invisible-text.smalltext { font-size: 12px; padding: 0px 10px; line-height: 16px; white-space: normal; }

.rc-anchor-invisible-text.smalltext .rc-anchor-pt { line-height: 12px; white-space: normal; }

.rc-anchor-invisible-text.smalltext .rc-anchor-pt a:link { font-size: 9px; }

.rc-anchor-normal-footer.smalltext .rc-anchor-pt { font-size: 5px; line-height: 6px; }

.rc-anchor-invisible-text strong { font-weight: 500; }

.rc-anchor-invisible .rc-anchor-normal-footer .rc-anchor-pt { transition: opacity 0.3s; text-align: center; width: 70px; margin-top: 2px; }

.rc-anchor-logo-img-large { transition: 0.3s; background-size: 40px; margin: 5px 15px 0px; height: 40px; width: 40px; }

.rc-anchor-invisible-nohover .rc-anchor-logo-img-large, .rc-anchor-invisible-hover-hovered .rc-anchor-logo-img-large { background-size: 44px; margin: 8px 13px 0px; height: 44px; width: 44px; }

.rc-anchor-invisible-nohover .rc-anchor-normal-footer .rc-anchor-pt, .rc-anchor-invisible-hover-hovered .rc-anchor-normal-footer .rc-anchor-pt { opacity: 0; }

.rc-anchor-invisible-nohover .rc-anchor-invisible-text .rc-anchor-pt, .rc-anchor-invisible-hover-hovered .rc-anchor-invisible-text .rc-anchor-pt { opacity: 1; }

.rc-anchor-invisible-text .rc-anchor-pt { transition: opacity 0.3s; }

.rc-anchor-invisible-text .rc-anchor-pt a:link, .rc-anchor-invisible-text .rc-anchor-pt a:visited { color: white; font-size: 10px; }

.rc-anchor-invisible-hover .rc-anchor-invisible-text .rc-anchor-pt a:link { display: none; }

.rc-anchor-invisible-nohover .rc-anchor-invisible-text .rc-anchor-pt a:link, .rc-anchor-invisible-hover-hovered .rc-anchor-invisible-text .rc-anchor-pt a:link { display: inline; }

.rc-anchor-invisible-hover .rc-anchor-normal-footer .rc-anchor-pt a:link { display: inline; }

.rc-anchor-invisible-nohover .rc-anchor-normal-footer .rc-anchor-pt a:link, .rc-anchor-invisible-hover-hovered .rc-anchor-normal-footer .rc-anchor-pt a:link { display: none; }

.rc-audiochallenge-response-field { margin: 7px; text-align: center; }

.rc-audiochallenge-response-field .rc-response-input-field { width: 220px; }

.rc-audiochallenge-error-message { color: rgb(217, 48, 37); font-family: Roboto, helvetica, arial, sans-serif; font-size: 14px; font-weight: 400; margin: 20px 20px 0px; }

.rc-audiochallenge-instructions { font-family: Roboto, helvetica, arial, sans-serif; font-size: 14px; font-weight: 400; margin: 10px 20px; }

.rc-audiochallenge-play-button { margin: 0px 20px; }

.rc-audiochallenge-play-button .rc-button-default { background: rgb(216, 216, 216); color: rgb(0, 0, 0); font-weight: 500; width: 100%; }

.rc-audiochallenge-input-label { font-family: Roboto, helvetica, arial, sans-serif; font-size: 14px; font-weight: 400; margin: 10px 20px; }

.rc-audiochallenge-control audio { height: 30px; width: 240px; }

.rc-audiochallenge-tdownload { margin: 5px 20px; text-align: center; }

.rc-audiochallenge-tdownload-link { background-image: url("https://www.gstatic.com/recaptcha/api2/download.png"); background-repeat: no-repeat; background-size: 36px; color: transparent; display: inline-block; height: 36px; opacity: 0.55; overflow: hidden; width: 36px; }

.rc-audiochallenge-tdownload-link:focus-visible { background-color: rgb(216, 216, 216); }

@media screen and (forced-colors: active) and (prefers-color-scheme: dark) {
  .rc-audiochallenge-tdownload-link { background-image: url("https://www.gstatic.com/recaptcha/api2/download_white.png"); background-repeat: no-repeat; background-size: 36px; color: transparent; display: inline-block; height: 36px; opacity: 0.55; overflow: hidden; width: 36px; }
}

.rc-audiochallenge-tdownload-link-on-dark { background-image: url("https://www.gstatic.com/recaptcha/api2/download_white.png"); background-repeat: no-repeat; background-size: 36px; color: transparent; display: inline-block; height: 36px; opacity: 0.55; overflow: hidden; width: 36px; }

.rc-audiochallenge-tdownload-link-on-dark:focus-visible { background-color: rgb(216, 216, 216); }

.rc-audiochallenge-tdownload-link:focus, .rc-audiochallenge-tdownload-link:hover { opacity: 0.8; outline: none; }

.rc-audiochallenge-tdownload-link-on-dark:focus, .rc-audiochallenge-tdownload-link-on-dark:hover { opacity: 0.8; outline: none; }

.fake-focus-audio { height: 0px; opacity: 0; width: 0px; }

.rc-button-default { background: rgb(26, 115, 232); border: 0px; border-radius: 2px; color: rgb(255, 255, 255); cursor: pointer; font-family: Roboto, helvetica, arial, sans-serif; font-size: 14px; font-weight: 500; height: 42px; line-height: 42px; min-width: 100px; padding: 0px 10px; text-align: center; text-transform: uppercase; transition: 0.5s; }

.rc-button-default:focus { outline: 0px; box-shadow: rgb(24, 90, 188) 0px 0px 0px 2pt; }

.rc-button-default-disabled { background: rgba(73, 143, 225, 0.5); cursor: default; }

.rc-button-red { background: rgb(226, 74, 74); }

.rc-button-default-disabled.rc-button-red { background: rgba(226, 74, 74, 0.49); }

.rc-canvas-image { display: none; }

.rc-canvas-canvas { cursor: pointer; }

body { margin: 0px; }

.rc-imageselect-instructions strong { font-weight: 900; display: block; font-size: 28px; }

.rc-footer { font-family: Roboto, helvetica, arial, sans-serif; position: relative; width: 100%; }

.rc-separator { border-top: 1px solid rgb(223, 223, 223); margin-bottom: 1px; }

.rc-controls { width: 100%; }

.primary-controls { height: 60px; }

.rc-buttons { float: left; height: 48px; margin: 6px 0px 6px 6px; background-repeat: no-repeat; }

.fake-focus { height: 0px; opacity: 0; width: 0px; }

.button-holder, .qr-button-holder { float: left; height: 48px; }

.rc-button-reload { background: url("https://www.gstatic.com/recaptcha/api2/refresh_2x.png"); }

.rc-button-reload:focus-visible { background-color: rgb(216, 216, 216); }

@media screen and (forced-colors: active) and (prefers-color-scheme: dark) {
  .rc-button-reload { background: url("https://www.gstatic.com/recaptcha/api2/refresh_white_2x.png"); }
}

.rc-button-reload-on-dark { background: url("https://www.gstatic.com/recaptcha/api2/refresh_white_2x.png"); }

.rc-button-reload-on-dark:focus-visible { background-color: rgb(216, 216, 216); }

.rc-button-audio { background: url("https://www.gstatic.com/recaptcha/api2/audio_2x.png"); }

.rc-button-audio:focus-visible { background-color: rgb(216, 216, 216); }

@media screen and (forced-colors: active) and (prefers-color-scheme: dark) {
  .rc-button-audio { background: url("https://www.gstatic.com/recaptcha/api2/audio_white_2x.png"); }
}

.rc-button-audio-on-dark { background: url("https://www.gstatic.com/recaptcha/api2/audio_white_2x.png"); }

.rc-button-audio-on-dark:focus-visible { background-color: rgb(216, 216, 216); }

.rc-button-image { background: url("https://www.gstatic.com/recaptcha/api2/image_2x.png"); }

.rc-button-image:focus-visible { background-color: rgb(216, 216, 216); }

@media screen and (forced-colors: active) and (prefers-color-scheme: dark) {
  .rc-button-image { background: url("https://www.gstatic.com/recaptcha/api2/image_white_2x.png"); }
}

.rc-button-image-on-dark { background: url("https://www.gstatic.com/recaptcha/api2/image_white_2x.png"); }

.rc-button-image-on-dark:focus-visible { background-color: rgb(216, 216, 216); }

.rc-button-liveness { background: url("https://www.gstatic.com/recaptcha/api2/liveness_dark.png"); }

.rc-button-qr { background: url("https://www.gstatic.com/recaptcha/api2/modac_mobile_dark.png"); }

.rc-button-liveness:focus-visible { background-color: rgb(216, 216, 216); }

.rc-button-qr:focus-visible { background-color: rgb(216, 216, 216); }

@media screen and (forced-colors: active) and (prefers-color-scheme: dark) {
  .rc-button-liveness { background: url("https://www.gstatic.com/recaptcha/api2/liveness_light.png"); }
}

@media screen and (forced-colors: active) and (prefers-color-scheme: dark) {
  .rc-button-qr { background: url("https://www.gstatic.com/recaptcha/api2/modac_mobile_light.png"); }
}

.rc-button-liveness-on-dark { background: url("https://www.gstatic.com/recaptcha/api2/liveness_light.png"); }

.rc-button-qr-on-dark { background: url("https://www.gstatic.com/recaptcha/api2/qr_light.png"); }

.rc-button-liveness-on-dark:focus-visible { background-color: rgb(216, 216, 216); }

.rc-button-qr-on-dark:focus-visible { background-color: rgb(216, 216, 216); }

.rc-button-help { background: url("https://www.gstatic.com/recaptcha/api2/info_2x.png"); }

.rc-button-help:focus-visible { background-color: rgb(216, 216, 216); }

@media screen and (forced-colors: active) and (prefers-color-scheme: dark) {
  .rc-button-help { background: url("https://www.gstatic.com/recaptcha/api2/info_white_2x.png"); }
}

.rc-button-help-on-dark { background: url("https://www.gstatic.com/recaptcha/api2/info_white_2x.png"); }

.rc-button-help-on-dark:focus-visible { background-color: rgb(216, 216, 216); }

.rc-button-undo { background: url("https://www.gstatic.com/recaptcha/api2/undo_2x.png"); }

.rc-button-undo:focus-visible { background-color: rgb(216, 216, 216); }

@media screen and (forced-colors: active) and (prefers-color-scheme: dark) {
  .rc-button-undo { background: url("https://www.gstatic.com/recaptcha/api2/undo_white_2x.png"); }
}

.rc-button-undo-on-dark { background: url("https://www.gstatic.com/recaptcha/api2/undo_white_2x.png"); }

.rc-button-undo-on-dark:focus-visible { background-color: rgb(216, 216, 216); }

.rc-button { background-size: 32px 32px; cursor: pointer; height: 48px; opacity: 0.55; width: 48px; padding: 0px; border: 0px; background-repeat: no-repeat; background-position: center center; }

.rc-button:focus, .rc-button:hover { opacity: 0.8; outline: none; }

.verify-button-holder { float: right; margin: 8px 8px 9px 0px; }

.rc-challenge-help { font-family: Roboto, helvetica, arial, sans-serif; font-size: 12px; font-weight: 400; overflow-y: scroll; padding: 5px 20px; }

.reload-icon { height: 16px; width: 16px; }

.apps-toast { position: relative; text-align: center; width: 100%; z-index: 101; }

.apps-toast-content { background: rgb(50, 50, 50); border-radius: 2px; box-shadow: rgba(0, 0, 0, 0.14) 0px 6px 10px, rgba(0, 0, 0, 0.12) 0px 1px 18px, rgba(0, 0, 0, 0.4) 0px 3px 5px -1px; color: rgb(238, 238, 238); display: inline-block; font: 12px / 20px Roboto, helvetica, arial, sans-serif; padding: 14px; text-align: center; }

.goog-container:focus { outline: none; }

.rc-defaultchallenge-response-field { margin: 7px; text-align: center; }

.rc-defaultchallenge-response-field .rc-response-input-field { width: 230px; }

.rc-defaultchallenge-payload { border: none; font-family: Roboto, helvetica, arial, sans-serif; font-size: 14px; font-weight: 400; min-height: 61px; text-align: center; }

.rc-defaultchallenge-incorrect-response { color: rgb(255, 27, 27); font-family: Roboto, helvetica, arial, sans-serif; font-size: 12px; font-weight: 400; line-height: 14px; margin-left: 20px; }

.rc-doscaptcha-header { padding: 10px; margin: 10px; height: 20%; background-color: rgb(26, 115, 232); }

.rc-doscaptcha-header-text { font-family: Roboto, helvetica, arial, sans-serif; font-size: 22px; font-weight: 400; text-align: center; color: white; }

.rc-doscaptcha-body { height: 80%; }

.rc-doscaptcha-body-text { font-family: Roboto, helvetica, arial, sans-serif; font-size: 16px; font-weight: 400; padding: 10px 15px; }

.rc-doscaptcha-footer { pointer-events: none; }

.recaptchaJavascriptChallengeLivenessOuterContainer { position: absolute; inset: 0px; display: flex; -webkit-box-orient: vertical; -webkit-box-direction: normal; flex-direction: column; }

.recaptchaJavascriptChallengeLivenessContainer { -webkit-box-flex: 1; flex-grow: 1; }

.goog-container:focus { outline: none; }

#rc-imageselect { min-width: 240px; font-family: Roboto, helvetica, arial, sans-serif; background-color: rgb(255, 255, 255); }

#rc-imageselect .rc-button:focus { outline: none; }

.rc-imageselect-desc { margin-left: -10px; margin-top: -10px; padding-right: 100px; position: relative; }

.rc-imageselect-instructions .rc-imageselect-desc strong { font-size: 22px; }

.rc-imageselect-desc span { display: block; }

.rc-imageselect-desc-no-canonical { position: relative; }

.rc-imageselect-desc-no-canonical span { display: block; }

.rc-imageselect-payload { min-width: 240px; margin: 0px 7px; padding: 7px 0px; }

.rc-imageselect-challenge { position: relative; width: 100%; height: 100%; }

.rc-footer { min-width: 240px; }

.rc-imageselect-incorrect-response, .rc-imageselect-error-dynamic-more, .rc-imageselect-error-select-more, .rc-imageselect-error-select-something { color: rgb(217, 48, 37); font-size: 14px; padding: 7px 0px; text-align: center; width: 100%; background-color: white; }

.rc-imageselect-desc-wrapper { margin-bottom: 6px; }

.rc-imageselect-checkbox { background: url("data:image/png;base64,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"); display: none; position: absolute; }

.rc-imageselect-report-image { inset: 0px; display: none; position: absolute; }

.rc-imageselect-table-42, .rc-imageselect-table-33, .rc-imageselect-table-44 { border-collapse: separate; border-spacing: 0px; width: 100%; height: 100%; transition: 1s; }

.rc-imageselect-table-42, .rc-imageselect-table-33 { margin: -2px; }

.rc-imageselect-table-44 { margin: -1px; }

.rc-imageselect-table-42 td { padding: 2px; }

.rc-imageselect-table-33 td { padding: 2px; }

.rc-imageselect-table-44 td { padding: 1px; }

.rc-image-tile-target tr, td { margin: 0px; }

.rc-imageselect-keyboard { position: relative; z-index: 100; outline: orange solid !important; }

td:focus { outline: none; }

.rc-image-tile-overlay { display: none; opacity: 0; position: absolute; background-color: rgb(26, 115, 232); width: 100%; height: 100%; z-index: 2; transition: opacity 1s cubic-bezier(0.49, 0.78, 0.46, 1.34); }

.rc-image-followup-tile { display: block; }

.rc-imageselect-dynamic-selected { position: relative; transition: 2s; opacity: 0.01; }

.rc-imageselect-dynamic-selected .rc-image-tile-target { opacity: 1; }

.rc-imageselect-dynamic-selected .rc-imageselect-checkbox { display: block; opacity: 1; background-size: cover; width: 60px; height: 60px; left: 50%; top: 50%; margin-left: -30px; margin-top: -30px; }

.rc-image-tile-target { -webkit-tap-highlight-color: rgba(0, 0, 0, 0); position: relative; }

.rc-imageselect-tileselected { position: relative; }

.rc-imageselect-tileselected .rc-image-tile-wrapper { transform: scale(0.8); }

.rc-image-tile-wrapper { transform: scale(1); }

.rc-imageselect-tileselected .rc-imageselect-checkbox { display: block; background-repeat: no-repeat; inset: 0px; }

.rc-imageselect-candidates { border: 2px solid white; box-sizing: border-box; height: 94px; overflow: hidden; position: absolute; right: 7px; top: 7px; width: 112px; }

.rc-imageselect-candidates > div { background-size: 112px 94px; display: inline-block; height: 94px; margin: 2px; position: relative; width: 112px; }

.rc-imageselect-challenge { box-sizing: border-box; text-align: center; user-select: none; }

.rc-imageselect-response-field-error { border-bottom: 1px solid rgb(255, 0, 0); }

.rc-imageselect-desc { font-size: 16px; }

.rc-imageselect-desc-wrapper span { font-size: 14px; }

.rc-imageselect-clear { clear: both; }

.rc-image-tile-wrapper { overflow: hidden; position: relative; transition: 0.1s; }

.rc-image-tile-wrapper img { position: relative; -webkit-user-drag: none; backface-visibility: hidden; }

.rc-image-tile-11 { width: 100%; height: 100%; }

.rc-image-tile-42 { width: 200%; height: 400%; }

.rc-image-tile-33 { width: 300%; height: 300%; }

.rc-image-tile-44 { width: 400%; height: 400%; }

.rc-imageselect-instructions { height: 113px; width: 100%; margin-bottom: 7px; position: relative; }

.rc-imageselect-desc-wrapper { background-color: rgb(26, 115, 232); position: relative; padding: 24px; color: white; height: 66px; font-size: 16px; }

.rc-imageselect-progress { background-color: rgb(65, 124, 193); position: absolute; bottom: 0px; right: 0px; width: 0px; height: 15px; transition: 1s; }

.rc-imageselect-carousel-offscreen-right { left: 105%; position: absolute; transition: 0.5s; }

.rc-imageselect-carousel-entering-right { left: 0px; position: absolute; transition: 0.5s; }

.rc-imageselect-carousel-mock-margin-1 { top: 1px; }

.rc-imageselect-carousel-mock-margin-2 { top: 2px; }

.rc-imageselect-carousel-leaving-left { left: 0px; opacity: 0.5; position: relative; transition: 0.5s; }

.rc-imageselect-carousel-offscreen-left { left: -105%; opacity: 0.5; position: relative; transition: 0.5s; }

.rc-imageselect-carousel-instructions { transition: 0.2s; opacity: 1; }

.rc-imageselect-carousel-instructions-hidden { opacity: 0.5; }

.rc-canonical-stop-sign { background: url("https://www.gstatic.com/recaptcha/api2/stop_sign.jpg") no-repeat; }

.rc-canonical-speed-limit { background: url("https://www.gstatic.com/recaptcha/api2/canonical_speed_limit.png") no-repeat; }

.rc-canonical-street-name { background: url("https://www.gstatic.com/recaptcha/api2/canonical_street_name.png") no-repeat; }

.rc-canonical-other { background: url("https://www.gstatic.com/recaptcha/api2/canonical_other.png") no-repeat; }

.rc-canonical-bounding-box { background: url("https://www.gstatic.com/recaptcha/api2/boundingbox2.gif") no-repeat; }

.rc-canonical-car { background: url("https://www.gstatic.com/recaptcha/api2/canonical_car.png") no-repeat; }

.rc-canonical-road { background: url("https://www.gstatic.com/recaptcha/api2/canonical_road.png") no-repeat; }

.rc-canonical-bridge { background: url("https://www.gstatic.com/recaptcha/api2/canonical_bridge.png") no-repeat; }

.recaptchaJavascriptChallengeQrOuterContainer { position: absolute; inset: 0px; display: flex; -webkit-box-orient: vertical; -webkit-box-direction: normal; flex-direction: column; -webkit-box-pack: center; justify-content: center; -webkit-box-align: center; align-items: center; }

.recaptchaJavascriptChallengeQrContainer { align-items: anchor-center; position: relative; -webkit-box-flex: 1; flex-grow: 1; margin: 10px; display: flex; -webkit-box-orient: vertical; -webkit-box-direction: normal; flex-direction: column; }

.recaptchaJavascriptChallengeQrCanvas { min-width: 200px; min-height: 200px; max-height: 45%; max-width: 40%; outline-offset: 0px; outline: solid 2px; border-radius: 2pt; padding: 20px; position: relative; border: 1px solid rgb(153, 153, 153); box-shadow: rgba(26, 115, 232, 0.3) 0px 0px 9px 2px; background: white; }

.recaptchaJavascriptChallengeQrBackground { background: url("https://www.gstatic.com/recaptcha/api2/modac_qr_background.svg") no-repeat; position: absolute; top: 50%; margin-top: -20%; width: 100%; height: 100%; }

.recaptchaJavascriptChallengeQrButton { background: rgb(26, 115, 232); border: 0px; color: rgb(255, 255, 255); cursor: pointer; font-family: Roboto, helvetica, arial, sans-serif; font-size: 14px; transition: 0.5s; border-radius: 25px; padding: 15px; text-transform: uppercase; text-decoration: none; position: relative; margin: 25% auto; }

.recaptchaJavascriptChallengeQrInstructionsContainer { text-align: center; font-family: Roboto, helvetica, arial, sans-serif; display: flex; -webkit-box-orient: vertical; -webkit-box-direction: normal; flex-direction: column; -webkit-box-pack: center; justify-content: center; -webkit-box-align: center; align-items: center; }

.recaptchaJavascriptChallengeQrShortInstructionsContainer { top: 0px; height: 113px; position: relative; background: rgb(26, 115, 232); text-align: center; margin: 0px auto; width: 100%; }

.recaptchaJavascriptChallengeQrShortInstructions { font-weight: 700; color: rgb(255, 255, 255); font-size: 20px; margin-top: 45px; }

.recaptchaJavascriptChallengeQrAdditionalInstructionsContainer { position: relative; display: flex; -webkit-box-orient: horizontal; -webkit-box-direction: normal; flex-direction: row; -webkit-box-align: center; align-items: center; -webkit-box-pack: center; justify-content: center; padding: 10px; }

.recaptchaJavascriptChallengeQrCameraIcon { background: url("https://www.gstatic.com/recaptcha/api2/modac_camera_dark.png") 0% 0% / contain no-repeat; display: inline-block; width: 30px; height: 30px; }

.recaptchaJavascriptChallengeQrMobileIcon { background: url("https://www.gstatic.com/recaptcha/api2/modac_mobile_dark.png") 0% 0% / contain no-repeat; display: inline-block; width: 30px; height: 30px; }

.recaptchaJavascriptChallengeQrAdditionalInstructions { font-weight: 400; font-size: 14px; padding: 10px 20px 10px 10px; max-width: 80%; line-height: 1.3; color: rgb(119, 119, 119); }

.recaptchaJavascriptChallengeQrCodeHidden { height: 0px; width: 0px; display: none; visibility: hidden; }

.recaptchaJavascriptChallengeQrCodeVisible { height: 200px; width: 200px; display: inline-block; visibility: visible; }

.recaptchaJavascriptChallengeQrButtonHidden { display: none; visibility: hidden; }

.recaptchaJavascriptChallengeQrButtonVisible { display: inline-block; visibility: visible; }

.rc-prepositional-payload { padding: 20px; font-family: Roboto, helvetica, arial, sans-serif; font-size: 14px; font-weight: 400; }

.rc-prepositional-select-more, .rc-prepositional-verify-failed { color: rgb(255, 27, 27); font-family: Roboto, helvetica, arial, sans-serif; font-size: 14px; font-weight: 400; margin: 20px 20px 0px; }

.rc-prepositional-target label { margin: 5px; float: right; }

.rc-prepositional-instructions { margin-bottom: 20px; }

.rc-prepositional-table { width: 100%; }

.rc-prepositional-table td { background: rgb(249, 249, 249); border: 1px solid rgb(255, 255, 255); color: rgb(0, 0, 0); cursor: pointer; font-family: Roboto, helvetica, arial, sans-serif; font-size: 14px; font-weight: 400; width: 40%; padding: 15px; }

.rc-prepositional-table td.rc-prepositional-selected { background: rgb(239, 239, 239); border: 1px solid rgb(101, 101, 101); }

.rc-2fa-payload { font-family: Roboto, Helvetica, Arial, sans-serif; font-weight: 400; font-size: 14px; color: rgb(32, 33, 36); text-align: center; }

.rc-2fa-background { background-color: rgb(236, 236, 236); width: 100%; height: 100%; overflow: auto; }

.rc-2fa-container { background-color: rgb(255, 255, 255); width: 328px; overflow: auto; margin: 100px auto; }

.rc-2fa-header { margin: 36px 0px 24px; font-size: 16px; }

.rc-2fa-instructions { margin: 24px 40px; line-height: 17.5px; }

.rc-2fa-response-field { text-align: center; }

.rc-2fa-response-field input { width: 11.2ch; height: 40px; line-height: 40px; margin: auto; border: 1px solid rgb(151, 151, 151); font-size: 20px; letter-spacing: 0.8ch; padding-left: 1.2ch; padding-right: 0px; }

.rc-2fa-response-field input:focus { border: 1px solid rgb(24, 90, 188); }

.rc-2fa-response-field-error input { border: 1px solid rgb(217, 48, 37); }

.rc-2fa-response-field-error input:focus { border: 1px solid rgb(217, 48, 37); }

.rc-2fa-error-message { height: 36px; font-size: 12px; color: rgb(217, 48, 37); margin: 2px 40px; }

.rc-2fa-submit-button-holder button { margin: 0px auto; min-width: 100px; height: 36px; line-height: 36px; text-transform: uppercase; text-align: center; font-weight: 500; letter-spacing: 1.25px; border-radius: 4px; background-color: rgb(24, 90, 188); border: 1px solid rgb(24, 90, 188); color: rgb(255, 255, 255); }

.rc-2fa-submit-button-holder button:disabled { background-color: white; border: 1px solid rgb(151, 151, 151); color: rgba(0, 0, 0, 0.38); }

.rc-2fa-cancel-button-holder button { margin: 20px auto; min-width: 100px; height: 36px; line-height: 36px; text-transform: uppercase; text-align: center; font-weight: 500; letter-spacing: 1.25px; border-radius: 4px; background: none; border: none; color: rgb(24, 90, 188); }

.rc-2fa-cancel-button-holder button:active { border: none; }

.rc-response-input-field { border: 1px solid rgb(116, 119, 117); border-radius: 2px; height: 36px; margin: 5px 0px; padding: 1px 9px; font-family: Roboto, helvetica, arial, sans-serif; font-size: 16px; font-weight: 400; outline: none; width: 270px; }

.rc-response-input-field:focus { border: 1px solid rgb(26, 115, 232); }

.rc-response-input-field-error, .rc-response-input-field-error:focus { border: 1px solid rgb(255, 0, 0); }

sentinel { }
------MultipartBoundary--o4C46MD1v5LjRKaEEJJp6V0O1heQ16TtDUGnAqoxwB----
Content-Type: text/css
Content-Transfer-Encoding: binary
Content-Location: cid:css-1b7a8ca0-cb08-4e56-ab3f-11e27459ad29@mhtml.blink

@charset "utf-8";

@font-face { font-family: Roboto; font-style: normal; font-weight: 400; src: local("Roboto Regular"), local("Roboto-Regular"), local("sans-serif"), url("//fonts.gstatic.com/s/roboto/v18/KFOmCnqEu92Fr1Mu72xKKTU1Kvnz.woff2") format("woff2"); unicode-range: U+460-52F, U+1C80-1C8A, U+20B4, U+2DE0-2DFF, U+A640-A69F, U+FE2E-FE2F; }

@font-face { font-family: Roboto; font-style: normal; font-weight: 400; src: local("Roboto Regular"), local("Roboto-Regular"), local("sans-serif"), url("//fonts.gstatic.com/s/roboto/v18/KFOmCnqEu92Fr1Mu5mxKKTU1Kvnz.woff2") format("woff2"); unicode-range: U+301, U+400-45F, U+490-491, U+4B0-4B1, U+2116; }

@font-face { font-family: Roboto; font-style: normal; font-weight: 400; src: local("Roboto Regular"), local("Roboto-Regular"), local("sans-serif"), url("//fonts.gstatic.com/s/roboto/v18/KFOmCnqEu92Fr1Mu7mxKKTU1Kvnz.woff2") format("woff2"); unicode-range: U+1F00-1FFF; }

@font-face { font-family: Roboto; font-style: normal; font-weight: 400; src: local("Roboto Regular"), local("Roboto-Regular"), local("sans-serif"), url("//fonts.gstatic.com/s/roboto/v18/KFOmCnqEu92Fr1Mu4WxKKTU1Kvnz.woff2") format("woff2"); unicode-range: U+370-377, U+37A-37F, U+384-38A, U+38C, U+38E-3A1, U+3A3-3FF; }

@font-face { font-family: Roboto; font-style: normal; font-weight: 400; src: local("Roboto Regular"), local("Roboto-Regular"), local("sans-serif"), url("//fonts.gstatic.com/s/roboto/v18/KFOmCnqEu92Fr1Mu7WxKKTU1Kvnz.woff2") format("woff2"); unicode-range: U+102-103, U+110-111, U+128-129, U+168-169, U+1A0-1A1, U+1AF-1B0, U+300-301, U+303-304, U+308-309, U+323, U+329, U+1EA0-1EF9, U+20AB; }

@font-face { font-family: Roboto; font-style: normal; font-weight: 400; src: local("Roboto Regular"), local("Roboto-Regular"), local("sans-serif"), url("//fonts.gstatic.com/s/roboto/v18/KFOmCnqEu92Fr1Mu7GxKKTU1Kvnz.woff2") format("woff2"); unicode-range: U+100-2BA, U+2BD-2C5, U+2C7-2CC, U+2CE-2D7, U+2DD-2FF, U+304, U+308, U+329, U+1D00-1DBF, U+1E00-1E9F, U+1EF2-1EFF, U+2020, U+20A0-20AB, U+20AD-20C0, U+2113, U+2C60-2C7F, U+A720-A7FF; }

@font-face { font-family: Roboto; font-style: normal; font-weight: 400; src: local("Roboto Regular"), local("Roboto-Regular"), local("sans-serif"), url("//fonts.gstatic.com/s/roboto/v18/KFOmCnqEu92Fr1Mu4mxKKTU1Kg.woff2") format("woff2"); unicode-range: U+0-FF, U+131, U+152-153, U+2BB-2BC, U+2C6, U+2DA, U+2DC, U+304, U+308, U+329, U+2000-206F, U+20AC, U+2122, U+2191, U+2193, U+2212, U+2215, U+FEFF, U+FFFD; }

@font-face { font-family: Roboto; font-style: normal; font-weight: 500; src: local("Roboto Medium"), local("Roboto-Medium"), local("sans-serif-medium"), url("//fonts.gstatic.com/s/roboto/v18/KFOlCnqEu92Fr1MmEU9fCRc4AMP6lbBP.woff2") format("woff2"); unicode-range: U+460-52F, U+1C80-1C8A, U+20B4, U+2DE0-2DFF, U+A640-A69F, U+FE2E-FE2F; }

@font-face { font-family: Roboto; font-style: normal; font-weight: 500; src: local("Roboto Medium"), local("Roboto-Medium"), local("sans-serif-medium"), url("//fonts.gstatic.com/s/roboto/v18/KFOlCnqEu92Fr1MmEU9fABc4AMP6lbBP.woff2") format("woff2"); unicode-range: U+301, U+400-45F, U+490-491, U+4B0-4B1, U+2116; }

@font-face { font-family: Roboto; font-style: normal; font-weight: 500; src: local("Roboto Medium"), local("Roboto-Medium"), local("sans-serif-medium"), url("//fonts.gstatic.com/s/roboto/v18/KFOlCnqEu92Fr1MmEU9fCBc4AMP6lbBP.woff2") format("woff2"); unicode-range: U+1F00-1FFF; }

@font-face { font-family: Roboto; font-style: normal; font-weight: 500; src: local("Roboto Medium"), local("Roboto-Medium"), local("sans-serif-medium"), url("//fonts.gstatic.com/s/roboto/v18/KFOlCnqEu92Fr1MmEU9fBxc4AMP6lbBP.woff2") format("woff2"); unicode-range: U+370-377, U+37A-37F, U+384-38A, U+38C, U+38E-3A1, U+3A3-3FF; }

@font-face { font-family: Roboto; font-style: normal; font-weight: 500; src: local("Roboto Medium"), local("Roboto-Medium"), local("sans-serif-medium"), url("//fonts.gstatic.com/s/roboto/v18/KFOlCnqEu92Fr1MmEU9fCxc4AMP6lbBP.woff2") format("woff2"); unicode-range: U+102-103, U+110-111, U+128-129, U+168-169, U+1A0-1A1, U+1AF-1B0, U+300-301, U+303-304, U+308-309, U+323, U+329, U+1EA0-1EF9, U+20AB; }

@font-face { font-family: Roboto; font-style: normal; font-weight: 500; src: local("Roboto Medium"), local("Roboto-Medium"), local("sans-serif-medium"), url("//fonts.gstatic.com/s/roboto/v18/KFOlCnqEu92Fr1MmEU9fChc4AMP6lbBP.woff2") format("woff2"); unicode-range: U+100-2BA, U+2BD-2C5, U+2C7-2CC, U+2CE-2D7, U+2DD-2FF, U+304, U+308, U+329, U+1D00-1DBF, U+1E00-1E9F, U+1EF2-1EFF, U+2020, U+20A0-20AB, U+20AD-20C0, U+2113, U+2C60-2C7F, U+A720-A7FF; }

@font-face { font-family: Roboto; font-style: normal; font-weight: 500; src: local("Roboto Medium"), local("Roboto-Medium"), local("sans-serif-medium"), url("//fonts.gstatic.com/s/roboto/v18/KFOlCnqEu92Fr1MmEU9fBBc4AMP6lQ.woff2") format("woff2"); unicode-range: U+0-FF, U+131, U+152-153, U+2BB-2BC, U+2C6, U+2DA, U+2DC, U+304, U+308, U+329, U+2000-206F, U+20AC, U+2122, U+2191, U+2193, U+2212, U+2215, U+FEFF, U+FFFD; }

@font-face { font-family: Roboto; font-style: normal; font-weight: 900; src: local("Roboto Black"), local("Roboto-Black"), local("sans-serif-black"), url("//fonts.gstatic.com/s/roboto/v18/KFOlCnqEu92Fr1MmYUtfCRc4AMP6lbBP.woff2") format("woff2"); unicode-range: U+460-52F, U+1C80-1C8A, U+20B4, U+2DE0-2DFF, U+A640-A69F, U+FE2E-FE2F; }

@font-face { font-family: Roboto; font-style: normal; font-weight: 900; src: local("Roboto Black"), local("Roboto-Black"), local("sans-serif-black"), url("//fonts.gstatic.com/s/roboto/v18/KFOlCnqEu92Fr1MmYUtfABc4AMP6lbBP.woff2") format("woff2"); unicode-range: U+301, U+400-45F, U+490-491, U+4B0-4B1, U+2116; }

@font-face { font-family: Roboto; font-style: normal; font-weight: 900; src: local("Roboto Black"), local("Roboto-Black"), local("sans-serif-black"), url("//fonts.gstatic.com/s/roboto/v18/KFOlCnqEu92Fr1MmYUtfCBc4AMP6lbBP.woff2") format("woff2"); unicode-range: U+1F00-1FFF; }

@font-face { font-family: Roboto; font-style: normal; font-weight: 900; src: local("Roboto Black"), local("Roboto-Black"), local("sans-serif-black"), url("//fonts.gstatic.com/s/roboto/v18/KFOlCnqEu92Fr1MmYUtfBxc4AMP6lbBP.woff2") format("woff2"); unicode-range: U+370-377, U+37A-37F, U+384-38A, U+38C, U+38E-3A1, U+3A3-3FF; }

@font-face { font-family: Roboto; font-style: normal; font-weight: 900; src: local("Roboto Black"), local("Roboto-Black"), local("sans-serif-black"), url("//fonts.gstatic.com/s/roboto/v18/KFOlCnqEu92Fr1MmYUtfCxc4AMP6lbBP.woff2") format("woff2"); unicode-range: U+102-103, U+110-111, U+128-129, U+168-169, U+1A0-1A1, U+1AF-1B0, U+300-301, U+303-304, U+308-309, U+323, U+329, U+1EA0-1EF9, U+20AB; }

@font-face { font-family: Roboto; font-style: normal; font-weight: 900; src: local("Roboto Black"), local("Roboto-Black"), local("sans-serif-black"), url("//fonts.gstatic.com/s/roboto/v18/KFOlCnqEu92Fr1MmYUtfChc4AMP6lbBP.woff2") format("woff2"); unicode-range: U+100-2BA, U+2BD-2C5, U+2C7-2CC, U+2CE-2D7, U+2DD-2FF, U+304, U+308, U+329, U+1D00-1DBF, U+1E00-1E9F, U+1EF2-1EFF, U+2020, U+20A0-20AB, U+20AD-20C0, U+2113, U+2C60-2C7F, U+A720-A7FF; }

@font-face { font-family: Roboto; font-style: normal; font-weight: 900; src: local("Roboto Black"), local("Roboto-Black"), local("sans-serif-black"), url("//fonts.gstatic.com/s/roboto/v18/KFOlCnqEu92Fr1MmYUtfBBc4AMP6lQ.woff2") format("woff2"); unicode-range: U+0-FF, U+131, U+152-153, U+2BB-2BC, U+2C6, U+2DA, U+2DC, U+304, U+308, U+329, U+2000-206F, U+20AC, U+2122, U+2191, U+2193, U+2212, U+2215, U+FEFF, U+FFFD; }
------MultipartBoundary--o4C46MD1v5LjRKaEEJJp6V0O1heQ16TtDUGnAqoxwB----
Content-Type: text/html
Content-ID: <frame-0A7D8053488D5C0ACB67CF6527D11A5A@mhtml.blink>
Content-Transfer-Encoding: binary
Content-Location: https://colab.research.google.com/_/bscframe

<!DOCTYPE html><html><head><meta http-equiv="Content-Type" content="text/html; charset=UTF-8"></head><body></body></html>
------MultipartBoundary--o4C46MD1v5LjRKaEEJJp6V0O1heQ16TtDUGnAqoxwB----
Content-Type: text/html
Content-ID: <frame-B589B629405A4929223A3E7E9949C641@mhtml.blink>
Content-Transfer-Encoding: binary

<html><head><meta http-equiv="Content-Type" content="text/html; charset=UTF-8"></head><body></body></html>
------MultipartBoundary--o4C46MD1v5LjRKaEEJJp6V0O1heQ16TtDUGnAqoxwB----
Content-Type: text/html
Content-ID: <frame-06A72ED4591937818E07C98450C4A754@mhtml.blink>
Content-Transfer-Encoding: binary
Content-Location: https://ogs.google.com/u/0/widget/account?baea=1&amb=1&origin=https%3A%2F%2Fcolab.research.google.com&cn=account&pid=425&spid=425

<!DOCTYPE html><html lang="id" dir="ltr"><head><meta http-equiv="Content-Type" content="text/html; charset=UTF-8"><link rel="stylesheet" type="text/css" href="cid:css-79c43509-e05e-4d0c-bdb9-06e8997dc6d7@mhtml.blink" /><link rel="stylesheet" type="text/css" href="cid:css-ae152b5b-175a-4caa-9e57-1c12315e65ec@mhtml.blink" /><link rel="stylesheet" type="text/css" href="cid:css-73ecbefb-4aac-4792-9b62-30d03abed9a0@mhtml.blink" /><link rel="stylesheet" type="text/css" href="cid:css-002fc719-d02e-4e7d-89c7-c6fd84421c54@mhtml.blink" /><base href="https://ogs.google.com/u/0/"><link rel="preconnect" href="https://www.gstatic.com/"><meta name="referrer" content="origin"><link rel="canonical" href="https://ogs.google.com/widget/account"><link rel="preconnect" href="https://www.gstatic.com/"><link rel="preconnect" href="https://ssl.gstatic.com/"><meta name="viewport" content="width=device-width, initial-scale=1.0"><title></title></head><body jscontroller="pjICDe" jsaction="rcuQ6b:npT2md; click:FAbpgf; auxclick:FAbpgf;UjQMac:.CLIENT;keydown:.CLIENT;keyup:.CLIENT;keypress:.CLIENT;nHjqDd:.CLIENT;LhiQec:.CLIENT;GvneHb:.CLIENT;qako4e:.CLIENT" class="EIlDfe"><div tabindex="0" aria-hidden="true" class="pw1uU" jsaction="focus:.CLIENT"></div><div class="MCcOAc IqBfM e2G3Fb EWZcud d8Etdd LcUz9d" id="yDmH0d"><div class="VUoKZ" aria-hidden="true"><div class="TRHLAc"></div></div><c-wiz jsrenderer="WNBcme" class="SSPGKf Aw3qqd" jsdata="deferred-c6" data-p="%.@.[&quot;https://colab.research.google.com/?authuser=$authuser&quot;,&quot;https://accounts.google.com/AddSession?hl=id&amp;continue=https://colab.research.google.com/%3Fauthuser%3D0&amp;ec=GAlAqQM&quot;,&quot;https://accounts.google.com/Logout?hl=id&amp;continue=https://colab.research.google.com/%3Fauthuser%3D0&amp;timeStmp=1761205652&amp;secTok=.AG5fkS_WVEf_Vk_y__6_B2nuo4PN3V2-dA&amp;ec=GAdAqQM&quot;,&quot;https://accounts.google.com/ListAccounts?listPages=0&amp;authuser=0&amp;pid=425&amp;gpsia=1&amp;source=ogb&amp;atic=1&amp;mo=1&amp;mn=1&amp;hl=id&amp;ts=250&quot;,0,0,&quot;&quot;,0,0,null,0,0,&quot;https://accounts.google.com/ServiceLogin?passive=true&amp;authuser=0&amp;continue=https%3A%2F%2Fcolab.research.google.com%2F%3Fauthuser%3D0&amp;ec=GAZAqQM&quot;,null,null,0,null,null,null,0],1,null,1,null,[1,9,5]]" jscontroller="TwklV" jsaction="rcuQ6b:npT2md;cFZhHc:Ea4cS;ITuR6d:Ea4cS;NlkbIb:VkqkX;myS8Cb:vFpuWe;mWL7Oe:Owtaxb;QLSUgf:YOgGsb;Ay7Rff:oYMGJd;MZ56ec:qTZkIf;qRPDvb:kvzNsb;UOCPhc:FybyJc;vaXpTc:BXkSsd;KyUiuc:NQqjJc;QedqJf:X7WLce;HMjq4c:EXjDbc;mAX9P:M89BG;bGI2gd:xX561d;zP530c:xX561d;" data-node-index="0;0" jsmodel="hc6Ubd Dteb7e" c-wiz="" data-ogpc=""><div class="T4LgNb" jsname="a9kxte"><div jsname="qJTHM" class="kFwPee"><div class="UFjXSc" data-ogmv="" role="dialog" aria-modal="true" aria-label="Akun dan setelan"><span data-is-tooltip-wrapper="true"><div jsaction="click:TvD9Pc"><button class="Pzuhxc CkSNRd" aria-label="Tutup" jsaction="click:h5M12e;clickmod:h5M12e;pointerdown:FEiYhc;pointerup:mF5Elf;pointerenter:EX0mI;pointerleave:vpvbp;pointercancel:xyn4sd;contextmenu:xexox;focus:h06R8; blur:zjh6rb; mlnRJb:fLiPzd" jscontroller="AZNOqf" data-tooltip-id="VuKd5" data-tooltip-anchor-boundary-type="1"><svg width="22" height="22" viewBox="1 1 22 22" focusable="false" class=" NMm5M"><path d="M19 6.41L17.59 5 12 10.59 6.41 5 5 6.41 10.59 12 5 17.59 6.41 19 12 13.41 17.59 19 19 17.59 13.41 12 19 6.41z"></path></svg></button></div><div class="ne2Ple-oshW8e-V67aGc" id="VuKd5" role="tooltip" aria-hidden="true">Tutup</div></span><div class="Lvwayc" jsname="Sx9Kwc"><div class="bMnvr" aria-hidden="true"><div class="eYSAde">devandramuda@gmail.com<div class="YfL2Bb"><img jsname="wsYqfb" alt="Gambar profil" class="JZFjpd" src="https://lh3.googleusercontent.com/a/ACg8ocL24XOrXqH3PjXPyt4KLrvKf9oXMOWmQQsLZQrJTkGOn9lJtw=s83-c-mo"><svg class="Q3ao0c" height="24px" width="24px" xml:space="preserve" xmlns="http://www.w3.org/2000/svg" xmlns:xlink="http://www.w3.org/1999/xlink"><circle stroke="currentColor" stroke-width="2" fill="transparent" r="12" cx="12" cy="12"></circle></svg></div></div></div><div class="sZ3gbf" jsname="s2gQvd"><div data-ogamc="" class="N2ncR" jsname="gPaY2e"><div jscontroller="hJpE8" jsaction="rcuQ6b:npT2md;" soy-skip="" ssk="5:uFjcN" style="display: none;"><div jscontroller="UMu52b" class="rxb0oe E2obDf vVD7V" data-progressvalue="0" data-buffervalue="1" jsname="Igk6W" jsaction="transitionend:e204de;"><div class="VfPpkd-qNpTzb-Mr8B3-V67aGc" jsname="a2gnBb">Loading accounts</div><div class="VfPpkd-qNpTzb-P1ekSe VfPpkd-qNpTzb-P1ekSe-OWXEXe-A9y3zc VfPpkd-qNpTzb-P1ekSe-OWXEXe-OiiCO-IhfUye" role="progressbar" aria-label="Loading accounts" jsname="LbNpof" aria-hidden="true"><div class="VfPpkd-qNpTzb-ajuXxc"><div class="VfPpkd-qNpTzb-ajuXxc-ZMv3u" style="flex-basis: 100%" jsname="W05Kj"></div><div class="VfPpkd-qNpTzb-ajuXxc-RxYbNe"></div></div><div class="VfPpkd-qNpTzb-P4pF8c VfPpkd-qNpTzb-Vw3Xuf-ZMv3u" style="transform: scaleX(0);" jsname="xFtQrc"><span class="VfPpkd-qNpTzb-P4pF8c-SmKAyb"></span></div><div class="VfPpkd-qNpTzb-P4pF8c VfPpkd-qNpTzb-ncAuFb-ZMv3u"><span class="VfPpkd-qNpTzb-P4pF8c-SmKAyb"></span></div></div></div></div><div class="GFYYTb" jscontroller="XDvpOd" jsaction="rcuQ6b:npT2md;mAX9P:M89BG;"><div class="VoqD8"><div class="eYSAde">devandramuda@gmail.com</div></div><div class="XS2qof Q3BXBb" aria-label="Ubah foto profil" jsaction="click:lj3vef" role="button" tabindex="0" data-cp=""><img jsname="wsYqfb" alt="Gambar profil" class="JZFjpd" src="https://lh3.googleusercontent.com/a/ACg8ocL24XOrXqH3PjXPyt4KLrvKf9oXMOWmQQsLZQrJTkGOn9lJtw=s83-c-mo"><svg class="Q3ao0c" height="80px" width="80px" xml:space="preserve" xmlns="http://www.w3.org/2000/svg" xmlns:xlink="http://www.w3.org/1999/xlink"><circle stroke="currentColor" stroke-width="2" fill="transparent" r="40" cx="40" cy="40"></circle></svg><div class="G5bXNb"><span data-is-tooltip-wrapper="true"><div class="GXg3Le" jscontroller="AZNOqf" jsaction="click:h5M12e;clickmod:h5M12e;pointerdown:FEiYhc;pointerup:mF5Elf;pointerenter:EX0mI;pointerleave:vpvbp;pointercancel:xyn4sd;contextmenu:xexox;focus:h06R8; blur:zjh6rb; mlnRJb:fLiPzd;" data-tooltip-id="toL4cc" data-tooltip-anchor-boundary-type="1" jsname="twx2Pc" aria-hidden="true"><svg width="18" height="18" viewBox="0 0 24 24" focusable="false" class="KkhfNb NMm5M"><path d="M20 5h-3.17L15 3H9L7.17 5H4c-1.1 0-2 .9-2 2v12c0 1.1.9 2 2 2h16c1.1 0 2-.9 2-2V7c0-1.1-.9-2-2-2zm0 14H4V7h16v12zM12 9c-2.21 0-4 1.79-4 4s1.79 4 4 4 4-1.79 4-4-1.79-4-4-4z"></path></svg></div><div class="ne2Ple-oshW8e-V67aGc" id="toL4cc" role="tooltip" aria-hidden="true">Ubah foto profil</div></span></div></div><div class="hCDve">Halo, Devandra.</div></div><div class="oNTUye" jscontroller="d0sHPd" jsaction="rcuQ6b:npT2md;XtxFJe:k1Ub3b;fKe6A:fgt1wf;D4153:pn7BNe;LOc7ge:NxtVeb;TaPkZe:lG9S2c;JVLlBe:cMYuw;"><span class="oREknc vZvJBb" jsaction="click:vyP2Ce" data-et="8"><a aria-label="Kelola Akun Google Anda (membuka tab baru)" rel="noopener noreferrer" class="coHE2" target="_blank" href="https://myaccount.google.com/?hl=id&amp;authuser=0&amp;utm_source=OGB&amp;utm_medium=act&amp;gar=WzBd&amp;sl=true"><div class="WkuXae">Kelola Akun Google Anda</div><div class="WkuXae R1DZsb">Kelola Akun Google</div><div class="WkuXae EPaIef">Akun Google</div></a></span><div jsname="zl5cLb"><div></div></div><div class="qLP7kc F249q" data-ml="" jsaction="XtxFJe:QLBayb,VfInxe;vaXpTc:BXkSsd;" jscontroller="G0shZd" data-la=""><div class="vuTfMd y5Iqsb qLP7kc Nry6De" style="max-height: 482px;" jscontroller="TbIeSc" jsaction="rcuQ6b:npT2md;XtxFJe:j1b6U;"><div jsaction="click:QQMvpc;" class="NoWrEb jFfZdd Dn5Ezd y5Iqsb" role="button" tabindex="0" aria-expanded="true" data-ac="5"><div class="hcVDfc"><span class="LzIwWe"><div class="YE2NVd"><div class="pRjiJb rF6lAb"><div class="SedFmc">Sembunyikan akun lainnya</div></div></div><div class="NBEMJ b60Avb"><img class="L2vhzb" src="https://lh3.googleusercontent.com/-5osFskPNilI/AAAAAAAAAAI/AAAAAAAAAAA/ALKGfkmoq7pOoSwx0cQSj_kWUShyXYAwbQ/s48-c/photo.jpg" alt="" crossorigin="" data-iml="2013.6000000238419"><svg class="Q3ao0c" height="24px" width="24px" xml:space="preserve" xmlns="http://www.w3.org/2000/svg" xmlns:xlink="http://www.w3.org/1999/xlink"><circle stroke="currentColor" stroke-width="2" fill="transparent" r="12" cx="12" cy="12"></circle></svg></div><div class="NBEMJ b60Avb"><img class="L2vhzb" src="https://lh3.googleusercontent.com/-JmN239KAh34/AAAAAAAAAAI/AAAAAAAAAAA/ALKGfkm2SSn19z4BDIVxJzPNEDAAzLl1Gg/s48-c/photo.jpg" alt="" crossorigin="" data-iml="1960.800000011921"><svg class="Q3ao0c" height="24px" width="24px" xml:space="preserve" xmlns="http://www.w3.org/2000/svg" xmlns:xlink="http://www.w3.org/1999/xlink"><circle stroke="currentColor" stroke-width="2" fill="transparent" r="12" cx="12" cy="12"></circle></svg></div><div class="NBEMJ b60Avb DzoHof"><span class="rGDtLc">+5</span><span class="sMYDJb">+4</span><span class="eqdvSb">+3</span></div><div class="DmSTqc NBEMJ"><svg width="22" height="22" viewBox="0 0 24 24" focusable="false" class="cllK4d NMm5M"><path d="M12 16.41l-6.71-6.7 1.42-1.42 5.29 5.3 5.29-5.3 1.42 1.42z"></path></svg></div></span></div></div><div class="AgzpI y5Iqsb qLP7kc"><span class="vZvJBb y5Iqsb" jsaction="click:vyP2Ce" data-et="4" data-pas="1"><a rel="noopener noreferrer" class="jFfZdd Dn5Ezd" target="_blank" href="https://colab.research.google.com/?authuser=1" data-au="1" data-email="teukudevandraa@gmail.com"><div class="hcVDfc"><span class="fVFoBd"><div class="DmSTqc"><div class="oMipDf"><img class="L2vhzb" alt="" src="https://lh3.googleusercontent.com/-5osFskPNilI/AAAAAAAAAAI/AAAAAAAAAAA/ALKGfkmoq7pOoSwx0cQSj_kWUShyXYAwbQ/s48-c/photo.jpg" data-iml="2014.2000000178814" crossorigin=""><svg class="Q3ao0c" xml:space="preserve" xmlns="http://www.w3.org/2000/svg" xmlns:xlink="http://www.w3.org/1999/xlink" height="32px" width="32px"><circle stroke="currentColor" stroke-width="2" fill="transparent" r="16" cx="16" cy="16"></circle></svg></div></div></span><span class="LzIwWe"><div class="YE2NVd"><div class="Ay4TQb"><div class="UMXEwb pRjiJb">teuku devandra</div></div><div class="MbHqJ VL7nWd">teukudevandraa@gmail.com</div></div></span></div><span class="BEzKdd">(membuka tab baru)</span></a></span><span class="vZvJBb y5Iqsb" jsaction="click:vyP2Ce" data-et="4" data-pas="1"><a rel="noopener noreferrer" class="jFfZdd Dn5Ezd" target="_blank" href="https://colab.research.google.com/?authuser=2" data-au="2" data-email="muhammaddevandra30@gmail.com"><div class="hcVDfc"><span class="fVFoBd"><div class="DmSTqc"><div class="oMipDf"><img class="L2vhzb" alt="" src="https://lh3.googleusercontent.com/-JmN239KAh34/AAAAAAAAAAI/AAAAAAAAAAA/ALKGfkm2SSn19z4BDIVxJzPNEDAAzLl1Gg/s48-c/photo.jpg" data-iml="1964.7000000178814" crossorigin=""><svg class="Q3ao0c" xml:space="preserve" xmlns="http://www.w3.org/2000/svg" xmlns:xlink="http://www.w3.org/1999/xlink" height="32px" width="32px"><circle stroke="currentColor" stroke-width="2" fill="transparent" r="16" cx="16" cy="16"></circle></svg></div></div></span><span class="LzIwWe"><div class="YE2NVd"><div class="Ay4TQb"><div class="UMXEwb pRjiJb">Muhammad Devandra</div></div><div class="MbHqJ VL7nWd">muhammaddevandra30@gmail.com</div></div></span></div><span class="BEzKdd">(membuka tab baru)</span></a></span><span class="vZvJBb y5Iqsb" jsaction="click:vyP2Ce" data-et="4" data-pas="1"><a rel="noopener noreferrer" class="jFfZdd Dn5Ezd" target="_blank" href="https://colab.research.google.com/?authuser=3" data-au="3" data-email="entertainmentasysyifa@gmail.com"><div class="hcVDfc"><span class="fVFoBd"><div class="DmSTqc"><div class="oMipDf"><img class="L2vhzb" alt="" src="https://lh3.googleusercontent.com/-VztumZryUjs/AAAAAAAAAAI/AAAAAAAAAAA/ALKGfklYtlq7L1oJZjUOZBvRXMjsj3JQyg/s48-c/photo.jpg" data-iml="1996.800000011921" crossorigin=""><svg class="Q3ao0c" xml:space="preserve" xmlns="http://www.w3.org/2000/svg" xmlns:xlink="http://www.w3.org/1999/xlink" height="32px" width="32px"><circle stroke="currentColor" stroke-width="2" fill="transparent" r="16" cx="16" cy="16"></circle></svg></div></div></span><span class="LzIwWe"><div class="YE2NVd"><div class="Ay4TQb"><div class="UMXEwb pRjiJb">asy syifa entertainment</div></div><div class="MbHqJ VL7nWd">entertainmentasysyifa@gmail.com</div></div></span></div><span class="BEzKdd">(membuka tab baru)</span></a></span><span class="vZvJBb y5Iqsb" jsaction="click:vyP2Ce" data-et="4" data-pas="1"><a rel="noopener noreferrer" class="jFfZdd Dn5Ezd" target="_blank" href="https://colab.research.google.com/?authuser=4" data-au="4" data-email="devanmuda2@gmail.com"><div class="hcVDfc"><span class="fVFoBd"><div class="DmSTqc"><div class="oMipDf"><img class="L2vhzb" alt="" src="https://lh3.googleusercontent.com/-TkfD8CST7VA/AAAAAAAAAAI/AAAAAAAAAAA/ALKGfkk8fhhws5kw6cp3I-f1V7iTC_OmJQ/s48-c/photo.jpg" data-iml="1997.5" crossorigin=""><svg class="Q3ao0c" xml:space="preserve" xmlns="http://www.w3.org/2000/svg" xmlns:xlink="http://www.w3.org/1999/xlink" height="32px" width="32px"><circle stroke="currentColor" stroke-width="2" fill="transparent" r="16" cx="16" cy="16"></circle></svg></div></div></span><span class="LzIwWe"><div class="YE2NVd"><div class="Ay4TQb"><div class="UMXEwb pRjiJb">Devanmuda</div></div><div class="MbHqJ VL7nWd">devanmuda2@gmail.com</div></div></span></div><span class="BEzKdd">(membuka tab baru)</span></a></span><span class="vZvJBb y5Iqsb" jsaction="click:vyP2Ce" data-et="4" data-pas="1"><a rel="noopener noreferrer" class="jFfZdd Dn5Ezd" target="_blank" href="https://colab.research.google.com/?authuser=5" data-au="5" data-email="0110125023@student.nurulfikri.ac.id"><div class="hcVDfc"><span class="fVFoBd"><div class="DmSTqc"><div class="oMipDf"><img class="L2vhzb" alt="" src="https://lh3.googleusercontent.com/-35yCWcBDb7A/AAAAAAAAAAI/AAAAAAAAAAA/ALKGfknNyo-Z7gz93rVgvZMNQkIOHdW3jw/s48-c/photo.jpg" data-iml="1997.300000011921" crossorigin=""><svg class="Q3ao0c" xml:space="preserve" xmlns="http://www.w3.org/2000/svg" xmlns:xlink="http://www.w3.org/1999/xlink" height="32px" width="32px"><circle stroke="currentColor" stroke-width="2" fill="transparent" r="16" cx="16" cy="16"></circle></svg></div></div></span><span class="LzIwWe"><div class="YE2NVd"><div class="Ay4TQb"><div class="UMXEwb pRjiJb">TEUKU MUHAMMAD DEVANDRA MUDA</div></div><div class="MbHqJ VL7nWd">0110125023@student.nurulfikri.ac.id</div></div></span></div><span class="BEzKdd">(membuka tab baru)</span></a></span><span class="vZvJBb y5Iqsb" jsaction="click:vyP2Ce" data-et="9"><a aria-label="Tambahkan akun lainnya (membuka tab baru)" rel="noopener noreferrer" class="Ne1enb jFfZdd Dn5Ezd" href="https://accounts.google.com/AddSession?hl=id&amp;continue=https://colab.research.google.com/%3Fauthuser%3D0&amp;ec=GAlAqQM" jsname="L8VV9b" target="_blank" data-aal=""><div class="hcVDfc"><span class="fVFoBd"><div class="DmSTqc"><svg width="21" height="21" viewBox="0 0 24 24" focusable="false" class="aFCkf NMm5M"><path d="M20 13h-7v7h-2v-7H4v-2h7V4h2v7h7v2z"></path></svg></div></span><span class="LzIwWe"><div class="YE2NVd"><div class="pRjiJb rF6lAb"><div class="SedFmc">Tambahkan akun lainnya</div></div></div></span></div></a></span><span class="vZvJBb y5Iqsb" jsaction="click:vyP2Ce" data-et="10" data-sobt="2" data-hml="true"><a rel="noopener noreferrer" class="Ne1enb jFfZdd Dn5Ezd" href="https://accounts.google.com/Logout?hl=id&amp;continue=https://colab.research.google.com/%3Fauthuser%3D0&amp;timeStmp=1761205652&amp;secTok=.AG5fkS_WVEf_Vk_y__6_B2nuo4PN3V2-dA&amp;ec=GAdAqQM" jsname="L8VV9b" target="_top" data-sol=""><div class="hcVDfc"><span class="fVFoBd"><div class="DmSTqc"><svg width="24" height="24" viewBox="0 0 24 24" focusable="false" class=" NMm5M"><path d="M17 18c1.1 0 2-.9 2-2s-.9-2-2-2-2 .9-2 2 .9 2 2 2zm3.86-2c0 .17-.01.33-.03.49l1.07.82c.1.08.13.21.06.32l-1.03 1.73c-.06.11-.2.16-.32.11l-1.28-.5c-.26.19-.55.36-.87.49l-.19 1.33c0 .12-.11.21-.24.21h-2.06c-.13 0-.23-.09-.26-.21l-.19-1.33c-.31-.12-.6-.29-.87-.49l-1.28.5c-.12.04-.25 0-.32-.11l-1.03-1.73a.26.26 0 0 1 .06-.32l1.09-.82a2.7 2.7 0 0 1 .01-.98l-1.09-.83a.235.235 0 0 1-.06-.32l1.03-1.73c.06-.11.2-.16.32-.11l1.28.5c.26-.19.55-.36.87-.49l.19-1.33c.02-.12.12-.21.25-.21h2.06c.13 0 .24.09.26.21l.19 1.33c.32.12.6.29.87.49l1.28-.5c.12-.04.25 0 .32.11l1.03 1.73c.06.11.03.24-.06.32l-1.09.83c.01.16.03.32.03.49zM10 6c1.1 0 2 .9 2 2s-.9 2-2 2-2-.9-2-2 .9-2 2-2zm1.02 7.05L10 15c-2.7 0-5.8 1.29-6 2.01V18h6l1.05 2H2v-3c0-2.66 5.33-4 8-4 .31 0 .65.02 1.02.05zM10 12c2.21 0 4-1.79 4-4s-1.79-4-4-4-4 1.79-4 4 1.79 4 4 4z"></path></svg></div></span><span class="LzIwWe"><div class="YE2NVd"><div class="pRjiJb rF6lAb"><div class="SedFmc">Kelola akun</div></div></div></span></div></a></span></div></div></div></div><div class="DgDbFe"><span class="vZvJBb" jsaction="click:vyP2Ce" data-et="14" data-dt="2"><span class="ZKKg9e"><span class="BVnP4c"><a aria-label="Kebijakan Privasi (membuka tab baru)" rel="noopener noreferrer" class="Z6NXed" target="_blank" href="https://policies.google.com/privacy?hl=id&amp;authuser=0">Kebijakan Privasi</a></span></span><span class="Z6NXed lGIeBc" aria-hidden="true">Kebijakan Privasi</span></span><span class="vZvJBb" jsaction="click:vyP2Ce" data-et="14" data-dt="1"><span class="ZKKg9e"><span class="BVnP4c"><a aria-label="Persyaratan Layanan (membuka tab baru)" rel="noopener noreferrer" class="Z6NXed" target="_blank" href="https://policies.google.com/terms?hl=id&amp;authuser=0">Persyaratan Layanan</a></span></span><span class="Z6NXed lGIeBc" aria-hidden="true">Persyaratan Layanan</span></span></div></div></div></div></div></div></div><c-data id="c6" jsdata=" bgKuze;_;$3"></c-data></c-wiz></div><div tabindex="0" aria-hidden="true" class="pw1uU" jsaction="focus:.CLIENT"></div></body></html>
------MultipartBoundary--o4C46MD1v5LjRKaEEJJp6V0O1heQ16TtDUGnAqoxwB----
Content-Type: image/png
Content-Transfer-Encoding: binary
Content-Location: https://lh3.googleusercontent.com/-35yCWcBDb7A/AAAAAAAAAAI/AAAAAAAAAAA/ALKGfknNyo-Z7gz93rVgvZMNQkIOHdW3jw/s48-c/photo.jpg

�PNG

   IHDR   0   0   �`n�   sBIT��O�   bKGD  W ���6   �IDATX�cd��0� �@; �:�u!0� B`�A�����Q��A,�jЕ�1#R��g�N[I
p�������O��O�������dV+5q��O?<~�Y���4w��G�<�v �d�jBt����iI5�D=� B`�A�����Q�"FD�:�`A# FD�:�u!0� B`�A���� A�#i=���    IEND�B`�
------MultipartBoundary--o4C46MD1v5LjRKaEEJJp6V0O1heQ16TtDUGnAqoxwB----
Content-Type: image/png
Content-Transfer-Encoding: binary
Content-Location: https://lh3.googleusercontent.com/-TkfD8CST7VA/AAAAAAAAAAI/AAAAAAAAAAA/ALKGfkk8fhhws5kw6cp3I-f1V7iTC_OmJQ/s48-c/photo.jpg

�PNG

   IHDR   0   0   �`n�   sBIT��O�   bKGD {  �X�L(  �IDATX���O(�q����ml,��`m�������R�Y9�).�������@8�p��H� L�2l<[������W��l;�ާ�_}���yz�z�Y��_l����b RD��H1���3C+]U&M�I*�O>��/�� �u�j,�������ӎ��{�������5�E-j���ʤqN�M�z��Q�A���>�=i��N;6]cw�Ȫss�bm>��Ǎ��HH`�4��Ex~����|����  �����8 cC5Ÿ"��s�F���U��� D�@1�(�� �x�b��>���r@:���UT�WH�e����u:�Y �$Q���7�^� .��y��ښ{� "!io��b��5�J��u�f�X;���%%ٻ|I���3jnG�y��~_:��w�w��Ph�A(���I��HH
��w�Ωw��4BD��H1)"�@���7v�tܓJ�8    IEND�B`�
------MultipartBoundary--o4C46MD1v5LjRKaEEJJp6V0O1heQ16TtDUGnAqoxwB----
Content-Type: image/png
Content-Transfer-Encoding: binary
Content-Location: https://lh3.googleusercontent.com/-VztumZryUjs/AAAAAAAAAAI/AAAAAAAAAAA/ALKGfklYtlq7L1oJZjUOZBvRXMjsj3JQyg/s48-c/photo.jpg

�PNG

   IHDR   0   0   �`n�   sBIT��O�   bKGD Q - ���m  'IDATX�c�]�0� �@; �:�u!0� B`�A�����Q�"��X(��/Ğ\n��/�/������ǟWO���p��� ��v1in������*��"ߔ�S�ˬ)B���^k9����|�����e�|�#�����,����g?�a,�!$�����p������[����������d�"{��3�:����ߐO�}������/�N���;9 ���%�x��ؘ!"LL��vCL������7E�P�A-󝴌E~���������@�!i��J,5������Ο?�"..�=}�� 8H�@��������N]?�.��Li�O�~V6&�_��"����!6_o`���wN��NK����t�<'sg��ιl߆��f�lL6�r������fedd�p셞�8#;3y&�B�v=^;�ڧ�?�9��xX���o�����_?�f``� �dF
�c��TD%�>��qh�Ï�~RbPZ��\u�rG �A�@u!0� B`�A�����Q�"FD  �ȒcAB�d    IEND�B`�
------MultipartBoundary--o4C46MD1v5LjRKaEEJJp6V0O1heQ16TtDUGnAqoxwB----
Content-Type: image/png
Content-Transfer-Encoding: binary
Content-Location: https://lh3.googleusercontent.com/-JmN239KAh34/AAAAAAAAAAI/AAAAAAAAAAA/ALKGfkm2SSn19z4BDIVxJzPNEDAAzLl1Gg/s48-c/photo.jpg

�PNG

   IHDR   0   0   �`n�   sBIT��O�   bKGD x � �4Kw�  7IDATX��OOA���l��EV��T�&�/~�~�~�~�{kOU[���H�-�D�5 Ąݤ�������f�0���y'�y�3�L��z�	Ǹ��	�`B4�&D�	�`B4���+���d¨?�����We)%-���;j�u�B�ߗx1�N�������3)��#�݅Ln�BtfDW�{#�'�M
�&=/����+)���woU�ۻp{D��φt��m*U� "AQ�{������M(Uk6	��5]xn]Iw��E��W�V�&! ��n�f�{"
 (��x��IH��l� `�7�*K������)h������Q��98�lw	�����" *��R���v	+� �P��0Ɨ��1���f�M	q��L���.����6�Y"�\v�����*� @Um��T�l��� �b��x$��7�=5��(��!��]N�G�����t}+sh%������F�CQdi)6��\����	(�* b�P�@6_�hUhs/��4�Sp8H�����YHm�noj'�+�p/W���' �����YO#�&D�	�`B4�&D�	��Ga�k�|�    IEND�B`�
------MultipartBoundary--o4C46MD1v5LjRKaEEJJp6V0O1heQ16TtDUGnAqoxwB----
Content-Type: image/png
Content-Transfer-Encoding: binary
Content-Location: https://lh3.googleusercontent.com/-5osFskPNilI/AAAAAAAAAAI/AAAAAAAAAAA/ALKGfkmoq7pOoSwx0cQSj_kWUShyXYAwbQ/s48-c/photo.jpg

�PNG

   IHDR   0   0   �`n�   sBIT��O�   bKGD � Q ӆ4  BIDATX���1K�@���MN�h����`]-��꠫B���9:*89�.���Щ�]\\"BEZ�m��C���䂼�)Y~�	u�KHS�k���% .q	�K@\�JH�OPP�| `�p��7����U]�=܊o.�R��R"�_ر�#o�L�	ds ���X??F���4z�(Pq��0 Z�l�zg4YT�U���w��[����@I���,ou+�S��	�K@\6@z�y�F��,�t�ux���,����> �X?��읻5���t#!��B`�f����73��/��:�w�տ<�V����% .q��"�K�� �    IEND�B`�
------MultipartBoundary--o4C46MD1v5LjRKaEEJJp6V0O1heQ16TtDUGnAqoxwB----
Content-Type: image/png
Content-Transfer-Encoding: binary
Content-Location: https://lh3.googleusercontent.com/a/ACg8ocL24XOrXqH3PjXPyt4KLrvKf9oXMOWmQQsLZQrJTkGOn9lJtw=s83-c-mo

�PNG

   IHDR   �   �   ݾ�P   sBIT��O�   bKGD � Q ӆ4  `IDATx���l�������][&l
��h�R'f�hf�8��51nƈ�9��,��.ә9��5j�$ňQЩ�:�)��40͊(��:	2;i7N+����$�D��r��}�����|?׾B�i�\��3�ש�Z�y@c# �D"�A�� B@! �D"�A�� B@! �D"�A�� B@! �D"�A�� B@! �D"�A�� B@! �D"�A�� B@! �D"�A�� B@! ��y0�x���ϐ��L�4Vq�%�*�ʾؙ}>�}�l\��3�JS��@Eo���r�RӔ�޹����S���t��t�@����Mo�xG������ܮ^���?�����J־>qWޛrF@5�|wV�;��?��x]�Я���D�8{���=�zpʅyo��wο���eJ�[l# C\כwL�=�ނEyO�j2=JS�DՏ9���85����e���N�����h�n�<z�	�<�v��=��rgv�����P��q=�mjq�)S�������c�Gҭ�ҭ�������ഋ�C�t;�(����bk�_��=���+' �lx0|�J)����E�ͭ�B���+���5��ؗ�D�x��ѫN��y@���m�N��ܮ^+�rC@�W�V�{I6�U̙6�x�-v&兀j��_3�˾�?O�Vnϼ�E7ڙ��]V.ߴ8ݶE,8���s��E@"��`��+��;t�ڦν��"�H*�`C��*5g�����[�d�^�����'�gk�UdF�����}�9���tt[�cR�2~�݁���i?���2&|�7�B�í����LJ6��\u���|_��Iџ��$��G�Y�c��nz;۱]s��l����0��n�,kK�  �ҏ��\u����%v�a�[/�4�r���9�✺# �ҏ�S��o�<kc,  �]���֖X@@�U	�������̫B��6Pĺ�>s
F�2QPdc��r��'a"�A�� B@! �D"T��_5���Ձh.f����FC@u�tWò�6�yN��;~�ʨ�%�yN�^���Ч֖X@@�9ݪUP��kc,  ����t�+ɻoZ�Swd�7�`�լ���Y" �����>���;�$����W���U���pȤ�����1M�u���@@&y�,�\���-y�����A@�~r�3� ́����ߍ���r�8�����-���%wTy��eC�q��=������#O՝H�h�J[s�" )g���o��>����_WY�dI�\�T��K��p彶��F@"�7=U��c�?���jeN�FNGw�/�ߟ�?�}��r���L�ES�)��3/u�n�rn�������)�S��
�.��.T�W�hT	Wݛ�_ceWnh���/������q�!*M��E|���rF@cr�z�C�]s�Y=�~��i����$��W�V�u�$
����)���s���j��aX��[>yO-�m@�( ���G +E��^z���eB�L�Y�y���Ux�! ��P���pŭy��|Y�ք�n�J�yO��$˲���?_��kҦ��8̆ӏދ�x!~�ż�L�m�X%����2������tx0����է'�ǛorF�:�ހƫ�! �D"�A�� B@! �D"�A�� B@! �D"�A�� B@! �D"�A�� B@! �D"�A�� B@! �D"�A�� B@! �D"�A�� B@! ����H���y    IEND�B`�
------MultipartBoundary--o4C46MD1v5LjRKaEEJJp6V0O1heQ16TtDUGnAqoxwB----
Content-Type: text/css
Content-Transfer-Encoding: binary
Content-Location: cid:css-002fc719-d02e-4e7d-89c7-c6fd84421c54@mhtml.blink

@charset "utf-8";

.k5Ptlb { display: inline-block; }

.Gbp3ze .O52YZb { background: rgb(11, 87, 208); color: white; }

@media (hover: hover) {
  .Gbp3ze .O52YZb:hover { background: rgb(31, 100, 212); }
}

@media (forced-colors: active) {
  .Gbp3ze .O52YZb:focus-visible { outline: transparent solid 1px; outline-offset: -2px; }
}

.Gbp3ze .O52YZb:focus-visible { outline: transparent solid 1px; outline-offset: -1px; }

.WLjaOb .Gbp3ze .O52YZb:focus-visible, .WLjaOb .Gbp3ze .O52YZb:focus-visible:hover { background: rgb(40, 107, 214); border-color: transparent; }

.Gbp3ze .O52YZb:active, .Gbp3ze .O52YZb:active:focus-visible { background: rgb(40, 107, 214); }

.Gbp3ze .O52YZb:focus-visible { background: rgb(40, 107, 214); color: white; outline: rgb(11, 87, 208) solid thin; outline-offset: 2px; }

.Gbp3ze .O52YZb:focus-visible:active { outline-style: none; }

.aRDKUe .Gbp3ze .O52YZb { background: rgb(168, 199, 250); color: rgb(6, 46, 111); }

@media (hover: hover) {
  .aRDKUe .Gbp3ze .O52YZb:hover { background: rgb(155, 187, 239); }
}

@media (forced-colors: active) {
  .aRDKUe .Gbp3ze .O52YZb:focus-visible { outline: transparent solid 1px; outline-offset: -1px; }
}

.aRDKUe .Gbp3ze .O52YZb:focus-visible { outline: transparent solid 1px; outline-offset: -1px; }

.WLjaOb.aRDKUe .Gbp3ze .O52YZb:focus-visible, .WLjaOb.aRDKUe .Gbp3ze .O52YZb:focus-visible:hover { background: rgb(149, 181, 233); border-color: transparent; }

.aRDKUe .Gbp3ze .O52YZb:active, .aRDKUe .Gbp3ze .O52YZb:active:focus-visible { background: rgb(149, 181, 233); }

.aRDKUe .Gbp3ze .O52YZb:focus-visible, .aRDKUe .Gbp3ze .O52YZb:focus-visible:hover { background: rgb(149, 181, 233); color: rgb(6, 46, 111); outline: rgb(168, 199, 250) solid thin; outline-offset: 2px; }

.aRDKUe .Gbp3ze .O52YZb:focus-visible:active { outline-style: none; }

.Gbp3ze .O52YZb { padding-left: 15px; padding-right: 15px; }

@media (hover: hover) {
  .aRDKUe .cpq96c:hover { background: rgb(42, 44, 49); }
}

.aRDKUe .cpq96c:focus-visible, .aRDKUe .cpq96c:focus-visible:hover, .aRDKUe .cpq96c:focus-visible:active { background: rgb(47, 51, 57); border-color: rgb(168, 199, 250); }

.aRDKUe .cpq96c:active, .aRDKUe .cpq96c:active:focus-visible { background: rgb(47, 51, 57); border-color: transparent; }

.k5Ptlb, .cpq96c { position: relative; max-width: 100%; text-align: center; }

.k5Ptlb::after, .cpq96c::after { content: ""; position: absolute; inset: -5px -1px; }

.Gbp3ze .SedFmc { max-height: 3rem; }

.Gbp3ze .BNVVO { display: flex; gap: 8px; justify-content: flex-end; flex-wrap: wrap-reverse; }

.pUR4Ie { fill: rgb(211, 123, 0); }

.aRDKUe .pUR4Ie { fill: rgb(255, 223, 153); }

.QLnTJd { fill: rgb(31, 31, 31); }

.aRDKUe .QLnTJd { fill: rgb(66, 31, 0); }

.qUNJcb .XdWBVd { color: var(--gm3-sys-color-on-surface,#1f1f1f); }

.aRDKUe .qUNJcb .XdWBVd { color: var(--gm3-sys-color-on-surface,#e3e3e3); }

.qUNJcb .EcP4Ae .LzIwWe { max-width: calc(100% - 56px); }

.qUNJcb .hcVDfc { gap: 16px; }

.qUNJcb .jFfZdd, .aRDKUe .qUNJcb .jFfZdd { background: rgba(105, 145, 214, 0.1); }

.qUNJcb .EcP4Ae.jFfZdd { padding-bottom: 7px; }

.qUNJcb .D2509d { color: var(--gm3-sys-color-primary,#0b57d0); }

.aRDKUe .qUNJcb .D2509d { color: var(--gm3-sys-color-primary,#a8c7fa); }

.qUNJcb .BNVVO { margin-top: 4px; }

.qUNJcb .tgObqf { height: 40px; position: relative; width: 40px; }

sentinel { }
------MultipartBoundary--o4C46MD1v5LjRKaEEJJp6V0O1heQ16TtDUGnAqoxwB----
Content-Type: text/css
Content-Transfer-Encoding: binary
Content-Location: cid:css-73ecbefb-4aac-4792-9b62-30d03abed9a0@mhtml.blink

@charset "utf-8";

:root { --boq-chrometransition-background: #eee; --boq-chrometransition-active-background-opacity: 0.8; }

.KL4X6e { background: var(--boq-chrometransition-background); inset: 0px; opacity: 0; position: absolute; }

.TuA45b { opacity: var(--boq-chrometransition-active-background-opacity); }

sentinel { }
------MultipartBoundary--o4C46MD1v5LjRKaEEJJp6V0O1heQ16TtDUGnAqoxwB----
Content-Type: text/css
Content-Transfer-Encoding: binary
Content-Location: cid:css-ae152b5b-175a-4caa-9e57-1c12315e65ec@mhtml.blink

@charset "utf-8";

@font-face { font-family: Roboto; font-style: normal; font-weight: 400; src: local("Roboto Regular"), local("Roboto-Regular"), local("sans-serif"), url("https://fonts.gstatic.com/s/roboto/v18/KFOmCnqEu92Fr1Mu72xKKTU1Kvnz.woff2") format("woff2"); unicode-range: U+460-52F, U+1C80-1C8A, U+20B4, U+2DE0-2DFF, U+A640-A69F, U+FE2E-FE2F; }

@font-face { font-family: Roboto; font-style: normal; font-weight: 400; src: local("Roboto Regular"), local("Roboto-Regular"), local("sans-serif"), url("https://fonts.gstatic.com/s/roboto/v18/KFOmCnqEu92Fr1Mu5mxKKTU1Kvnz.woff2") format("woff2"); unicode-range: U+301, U+400-45F, U+490-491, U+4B0-4B1, U+2116; }

@font-face { font-family: Roboto; font-style: normal; font-weight: 400; src: local("Roboto Regular"), local("Roboto-Regular"), local("sans-serif"), url("https://fonts.gstatic.com/s/roboto/v18/KFOmCnqEu92Fr1Mu7mxKKTU1Kvnz.woff2") format("woff2"); unicode-range: U+1F00-1FFF; }

@font-face { font-family: Roboto; font-style: normal; font-weight: 400; src: local("Roboto Regular"), local("Roboto-Regular"), local("sans-serif"), url("https://fonts.gstatic.com/s/roboto/v18/KFOmCnqEu92Fr1Mu4WxKKTU1Kvnz.woff2") format("woff2"); unicode-range: U+370-377, U+37A-37F, U+384-38A, U+38C, U+38E-3A1, U+3A3-3FF; }

@font-face { font-family: Roboto; font-style: normal; font-weight: 400; src: local("Roboto Regular"), local("Roboto-Regular"), local("sans-serif"), url("https://fonts.gstatic.com/s/roboto/v18/KFOmCnqEu92Fr1Mu7WxKKTU1Kvnz.woff2") format("woff2"); unicode-range: U+102-103, U+110-111, U+128-129, U+168-169, U+1A0-1A1, U+1AF-1B0, U+300-301, U+303-304, U+308-309, U+323, U+329, U+1EA0-1EF9, U+20AB; }

@font-face { font-family: Roboto; font-style: normal; font-weight: 400; src: local("Roboto Regular"), local("Roboto-Regular"), local("sans-serif"), url("https://fonts.gstatic.com/s/roboto/v18/KFOmCnqEu92Fr1Mu7GxKKTU1Kvnz.woff2") format("woff2"); unicode-range: U+100-2BA, U+2BD-2C5, U+2C7-2CC, U+2CE-2D7, U+2DD-2FF, U+304, U+308, U+329, U+1D00-1DBF, U+1E00-1E9F, U+1EF2-1EFF, U+2020, U+20A0-20AB, U+20AD-20C0, U+2113, U+2C60-2C7F, U+A720-A7FF; }

@font-face { font-family: Roboto; font-style: normal; font-weight: 400; src: local("Roboto Regular"), local("Roboto-Regular"), local("sans-serif"), url("https://fonts.gstatic.com/s/roboto/v18/KFOmCnqEu92Fr1Mu4mxKKTU1Kg.woff2") format("woff2"); unicode-range: U+0-FF, U+131, U+152-153, U+2BB-2BC, U+2C6, U+2DA, U+2DC, U+304, U+308, U+329, U+2000-206F, U+20AC, U+2122, U+2191, U+2193, U+2212, U+2215, U+FEFF, U+FFFD; }

@font-face { font-family: Roboto; font-style: normal; font-weight: 500; src: local("Roboto Medium"), local("Roboto-Medium"), local("sans-serif-medium"), url("https://fonts.gstatic.com/s/roboto/v18/KFOlCnqEu92Fr1MmEU9fCRc4AMP6lbBP.woff2") format("woff2"); unicode-range: U+460-52F, U+1C80-1C8A, U+20B4, U+2DE0-2DFF, U+A640-A69F, U+FE2E-FE2F; }

@font-face { font-family: Roboto; font-style: normal; font-weight: 500; src: local("Roboto Medium"), local("Roboto-Medium"), local("sans-serif-medium"), url("https://fonts.gstatic.com/s/roboto/v18/KFOlCnqEu92Fr1MmEU9fABc4AMP6lbBP.woff2") format("woff2"); unicode-range: U+301, U+400-45F, U+490-491, U+4B0-4B1, U+2116; }

@font-face { font-family: Roboto; font-style: normal; font-weight: 500; src: local("Roboto Medium"), local("Roboto-Medium"), local("sans-serif-medium"), url("https://fonts.gstatic.com/s/roboto/v18/KFOlCnqEu92Fr1MmEU9fCBc4AMP6lbBP.woff2") format("woff2"); unicode-range: U+1F00-1FFF; }

@font-face { font-family: Roboto; font-style: normal; font-weight: 500; src: local("Roboto Medium"), local("Roboto-Medium"), local("sans-serif-medium"), url("https://fonts.gstatic.com/s/roboto/v18/KFOlCnqEu92Fr1MmEU9fBxc4AMP6lbBP.woff2") format("woff2"); unicode-range: U+370-377, U+37A-37F, U+384-38A, U+38C, U+38E-3A1, U+3A3-3FF; }

@font-face { font-family: Roboto; font-style: normal; font-weight: 500; src: local("Roboto Medium"), local("Roboto-Medium"), local("sans-serif-medium"), url("https://fonts.gstatic.com/s/roboto/v18/KFOlCnqEu92Fr1MmEU9fCxc4AMP6lbBP.woff2") format("woff2"); unicode-range: U+102-103, U+110-111, U+128-129, U+168-169, U+1A0-1A1, U+1AF-1B0, U+300-301, U+303-304, U+308-309, U+323, U+329, U+1EA0-1EF9, U+20AB; }

@font-face { font-family: Roboto; font-style: normal; font-weight: 500; src: local("Roboto Medium"), local("Roboto-Medium"), local("sans-serif-medium"), url("https://fonts.gstatic.com/s/roboto/v18/KFOlCnqEu92Fr1MmEU9fChc4AMP6lbBP.woff2") format("woff2"); unicode-range: U+100-2BA, U+2BD-2C5, U+2C7-2CC, U+2CE-2D7, U+2DD-2FF, U+304, U+308, U+329, U+1D00-1DBF, U+1E00-1E9F, U+1EF2-1EFF, U+2020, U+20A0-20AB, U+20AD-20C0, U+2113, U+2C60-2C7F, U+A720-A7FF; }

@font-face { font-family: Roboto; font-style: normal; font-weight: 500; src: local("Roboto Medium"), local("Roboto-Medium"), local("sans-serif-medium"), url("https://fonts.gstatic.com/s/roboto/v18/KFOlCnqEu92Fr1MmEU9fBBc4AMP6lQ.woff2") format("woff2"); unicode-range: U+0-FF, U+131, U+152-153, U+2BB-2BC, U+2C6, U+2DA, U+2DC, U+304, U+308, U+329, U+2000-206F, U+20AC, U+2122, U+2191, U+2193, U+2212, U+2215, U+FEFF, U+FFFD; }

@font-face { font-family: "Google Material Icons"; font-style: normal; font-weight: 400; src: url("https://fonts.gstatic.com/s/googlematerialicons/v144/Gw6kwdfw6UnXLJCcmafZyFRXb3BL9rvi0QZG3Sy7X00.woff2") format("woff2"); }

.google-material-icons { font-family: "Google Material Icons"; font-weight: normal; font-style: normal; font-size: 24px; line-height: 1; letter-spacing: normal; text-transform: none; display: inline-block; white-space: nowrap; overflow-wrap: normal; direction: ltr; font-feature-settings: "liga"; -webkit-font-smoothing: antialiased; }

@font-face { font-family: "Google Material Icons Filled"; font-style: normal; font-weight: 400; src: url("https://fonts.gstatic.com/s/googlematerialiconsfilled/v118/WWXFlimHYg6HKI3TavMkbKdhBmDvgach8TVpeGsuueSZJH2QrPFo.woff2") format("woff2"); }

.google-material-icons-filled { font-family: "Google Material Icons Filled"; font-weight: normal; font-style: normal; font-size: 24px; line-height: 1; letter-spacing: normal; text-transform: none; display: inline-block; white-space: nowrap; overflow-wrap: normal; direction: ltr; font-feature-settings: "liga"; -webkit-font-smoothing: antialiased; }

@font-face { font-family: "Google Sans"; font-style: normal; font-weight: 400; src: url("https://fonts.gstatic.com/s/googlesans/v62/4UaRrENHsxJlGDuGo1OIlJfC6l_24rlCK1Yo_Iq2rgCIhM907-0x.woff2") format("woff2"); unicode-range: U+308, U+530-58F, U+2010, U+2024, U+25CC, U+FB13-FB17; }

@font-face { font-family: "Google Sans"; font-style: normal; font-weight: 400; src: url("https://fonts.gstatic.com/s/googlesans/v62/4UaRrENHsxJlGDuGo1OIlJfC6l_24rlCK1Yo_Iq2rACIhM907-0x.woff2") format("woff2"); unicode-range: U+951-952, U+964-965, U+980-9FE, U+1CD0, U+1CD2, U+1CD5-1CD6, U+1CD8, U+1CE1, U+1CEA, U+1CED, U+1CF2, U+1CF5-1CF7, U+200C-200D, U+20B9, U+25CC, U+A8F1; }

@font-face { font-family: "Google Sans"; font-style: normal; font-weight: 400; src: url("https://fonts.gstatic.com/s/googlesans/v62/4UaRrENHsxJlGDuGo1OIlJfC6l_24rlCK1Yo_Iq2kQCIhM907-0x.woff2") format("woff2"); unicode-range: U+2C7, U+2D8-2D9, U+2DB, U+307, U+1400-167F, U+18B0-18F5, U+25CC, U+11AB0-11ABF; }

@font-face { font-family: "Google Sans"; font-style: normal; font-weight: 400; src: url("https://fonts.gstatic.com/s/googlesans/v62/4UaRrENHsxJlGDuGo1OIlJfC6l_24rlCK1Yo_Iq2swCIhM907-0x.woff2") format("woff2"); unicode-range: U+460-52F, U+1C80-1C8A, U+20B4, U+2DE0-2DFF, U+A640-A69F, U+FE2E-FE2F; }

@font-face { font-family: "Google Sans"; font-style: normal; font-weight: 400; src: url("https://fonts.gstatic.com/s/googlesans/v62/4UaRrENHsxJlGDuGo1OIlJfC6l_24rlCK1Yo_Iq2ugCIhM907-0x.woff2") format("woff2"); unicode-range: U+301, U+400-45F, U+490-491, U+4B0-4B1, U+2116; }

@font-face { font-family: "Google Sans"; font-style: normal; font-weight: 400; src: url("https://fonts.gstatic.com/s/googlesans/v62/4UaRrENHsxJlGDuGo1OIlJfC6l_24rlCK1Yo_Iq2vwCIhM907-0x.woff2") format("woff2"); unicode-range: U+900-97F, U+1CD0-1CF9, U+200C-200D, U+20A8, U+20B9, U+20F0, U+25CC, U+A830-A839, U+A8E0-A8FF, U+11B00-11B09; }

@font-face { font-family: "Google Sans"; font-style: normal; font-weight: 400; src: url("https://fonts.gstatic.com/s/googlesans/v62/4UaRrENHsxJlGDuGo1OIlJfC6l_24rlCK1Yo_Iq2rwCIhM907-0x.woff2") format("woff2"); unicode-range: U+30E, U+1200-1399, U+2D80-2DDE, U+AB01-AB2E, U+1E7E0-1E7E6, U+1E7E8-1E7EB, U+1E7ED-1E7EE, U+1E7F0-1E7FE; }

@font-face { font-family: "Google Sans"; font-style: normal; font-weight: 400; src: url("https://fonts.gstatic.com/s/googlesans/v62/4UaRrENHsxJlGDuGo1OIlJfC6l_24rlCK1Yo_Iq2oQCIhM907-0x.woff2") format("woff2"); unicode-range: U+589, U+10A0-10FF, U+1C90-1CBA, U+1CBD-1CBF, U+205A, U+2D00-2D2F, U+2E31; }

@font-face { font-family: "Google Sans"; font-style: normal; font-weight: 400; src: url("https://fonts.gstatic.com/s/googlesans/v62/4UaRrENHsxJlGDuGo1OIlJfC6l_24rlCK1Yo_Iq2sgCIhM907-0x.woff2") format("woff2"); unicode-range: U+1F00-1FFF; }

@font-face { font-family: "Google Sans"; font-style: normal; font-weight: 400; src: url("https://fonts.gstatic.com/s/googlesans/v62/4UaRrENHsxJlGDuGo1OIlJfC6l_24rlCK1Yo_Iq2vQCIhM907-0x.woff2") format("woff2"); unicode-range: U+370-377, U+37A-37F, U+384-38A, U+38C, U+38E-3A1, U+3A3-3FF; }

@font-face { font-family: "Google Sans"; font-style: normal; font-weight: 400; src: url("https://fonts.gstatic.com/s/googlesans/v62/4UaRrENHsxJlGDuGo1OIlJfC6l_24rlCK1Yo_Iq2pQCIhM907-0x.woff2") format("woff2"); unicode-range: U+951-952, U+964-965, U+A80-AFF, U+200C-200D, U+20B9, U+25CC, U+A830-A839; }

@font-face { font-family: "Google Sans"; font-style: normal; font-weight: 400; src: url("https://fonts.gstatic.com/s/googlesans/v62/4UaRrENHsxJlGDuGo1OIlJfC6l_24rlCK1Yo_Iq2nQCIhM907-0x.woff2") format("woff2"); unicode-range: U+951-952, U+964-965, U+A01-A76, U+200C-200D, U+20B9, U+25CC, U+262C, U+A830-A839; }

@font-face { font-family: "Google Sans"; font-style: normal; font-weight: 400; src: url("https://fonts.gstatic.com/s/googlesans/v62/4UaRrENHsxJlGDuGo1OIlJfC6l_24rlCK1Yo_Iq2vACIhM907-0x.woff2") format("woff2"); unicode-range: U+307-308, U+590-5FF, U+200C-2010, U+20AA, U+25CC, U+FB1D-FB4F; }

@font-face { font-family: "Google Sans"; font-style: normal; font-weight: 400; src: url("https://fonts.gstatic.com/s/googlesans/v62/4UaRrENHsxJlGDuGo1OIlJfC6l_24rlCK1Yo_Iq2tQCIhM907-0x.woff2") format("woff2"); unicode-range: U+1780-17FF, U+19E0-19FF, U+200C-200D, U+25CC; }

@font-face { font-family: "Google Sans"; font-style: normal; font-weight: 400; src: url("https://fonts.gstatic.com/s/googlesans/v62/4UaRrENHsxJlGDuGo1OIlJfC6l_24rlCK1Yo_Iq2twCIhM907-0x.woff2") format("woff2"); unicode-range: U+E81-EDF, U+200C-200D, U+25CC; }

@font-face { font-family: "Google Sans"; font-style: normal; font-weight: 400; src: url("https://fonts.gstatic.com/s/googlesans/v62/4UaRrENHsxJlGDuGo1OIlJfC6l_24rlCK1Yo_Iq2pgCIhM907-0x.woff2") format("woff2"); unicode-range: U+307, U+323, U+951-952, U+964-965, U+D00-D7F, U+1CDA, U+1CF2, U+200C-200D, U+20B9, U+25CC, U+A830-A832; }

@font-face { font-family: "Google Sans"; font-style: normal; font-weight: 400; src: url("https://fonts.gstatic.com/s/googlesans/v62/4UaRrENHsxJlGDuGo1OIlJfC6l_24rlCK1Yo_Iq2pwCIhM907-0x.woff2") format("woff2"); unicode-range: U+951-952, U+964-965, U+B01-B77, U+1CDA, U+1CF2, U+200C-200D, U+20B9, U+25CC; }

@font-face { font-family: "Google Sans"; font-style: normal; font-weight: 400; src: url("https://fonts.gstatic.com/s/googlesans/v62/4UaRrENHsxJlGDuGo1OIlJfC6l_24rlCK1Yo_Iq2owCIhM907-0x.woff2") format("woff2"); unicode-range: U+964-965, U+D81-DF4, U+1CF2, U+200C-200D, U+25CC, U+111E1-111F4; }

@font-face { font-family: "Google Sans"; font-style: normal; font-weight: 400; src: url("https://fonts.gstatic.com/s/googlesans/v62/4UaRrENHsxJlGDuGo1OIlJfC6l_24rlCK1Yo_Iq20ACIhM907-0x.woff2") format("woff2"); unicode-range: U+1-C, U+E-1F, U+7F-9F, U+20DD-20E0, U+20E2-20E4, U+2150-218F, U+2190, U+2192, U+2194-2199, U+21AF, U+21E6-21F0, U+21F3, U+2218-2219, U+2299, U+22C4-22C6, U+2300-243F, U+2440-244A, U+2460-24FF, U+25A0-27BF, U+2800-28FF, U+2921-2922, U+2981, U+29BF, U+29EB, U+2B00-2BFF, U+4DC0-4DFF, U+FFF9-FFFB, U+10140-1018E, U+10190-1019C, U+101A0, U+101D0-101FD, U+102E0-102FB, U+10E60-10E7E, U+1D2C0-1D2D3, U+1D2E0-1D37F, U+1F000-1F0FF, U+1F100-1F1AD, U+1F1E6-1F1FF, U+1F30D-1F30F, U+1F315, U+1F31C, U+1F31E, U+1F320-1F32C, U+1F336, U+1F378, U+1F37D, U+1F382, U+1F393-1F39F, U+1F3A7-1F3A8, U+1F3AC-1F3AF, U+1F3C2, U+1F3C4-1F3C6, U+1F3CA-1F3CE, U+1F3D4-1F3E0, U+1F3ED, U+1F3F1-1F3F3, U+1F3F5-1F3F7, U+1F408, U+1F415, U+1F41F, U+1F426, U+1F43F, U+1F441-1F442, U+1F444, U+1F446-1F449, U+1F44C-1F44E, U+1F453, U+1F46A, U+1F47D, U+1F4A3, U+1F4B0, U+1F4B3, U+1F4B9, U+1F4BB, U+1F4BF, U+1F4C8-1F4CB, U+1F4D6, U+1F4DA, U+1F4DF, U+1F4E3-1F4E6, U+1F4EA-1F4ED, U+1F4F7, U+1F4F9-1F4FB, U+1F4FD-1F4FE, U+1F503, U+1F507-1F50B, U+1F50D, U+1F512-1F513, U+1F53E-1F54A, U+1F54F-1F5FA, U+1F610, U+1F650-1F67F, U+1F687, U+1F68D, U+1F691, U+1F694, U+1F698, U+1F6AD, U+1F6B2, U+1F6B9-1F6BA, U+1F6BC, U+1F6C6-1F6CF, U+1F6D3-1F6D7, U+1F6E0-1F6EA, U+1F6F0-1F6F3, U+1F6F7-1F6FC, U+1F700-1F7FF, U+1F800-1F80B, U+1F810-1F847, U+1F850-1F859, U+1F860-1F887, U+1F890-1F8AD, U+1F8B0-1F8BB, U+1F8C0-1F8C1, U+1F900-1F90B, U+1F93B, U+1F946, U+1F984, U+1F996, U+1F9E9, U+1FA00-1FA6F, U+1FA70-1FA7C, U+1FA80-1FA89, U+1FA8F-1FAC6, U+1FACE-1FADC, U+1FADF-1FAE9, U+1FAF0-1FAF8, U+1FB00-1FBFF; }

@font-face { font-family: "Google Sans"; font-style: normal; font-weight: 400; src: url("https://fonts.gstatic.com/s/googlesans/v62/4UaRrENHsxJlGDuGo1OIlJfC6l_24rlCK1Yo_Iq2qACIhM907-0x.woff2") format("woff2"); unicode-range: U+964-965, U+B82-BFA, U+200C-200D, U+20B9, U+25CC; }

@font-face { font-family: "Google Sans"; font-style: normal; font-weight: 400; src: url("https://fonts.gstatic.com/s/googlesans/v62/4UaRrENHsxJlGDuGo1OIlJfC6l_24rlCK1Yo_Iq2ogCIhM907-0x.woff2") format("woff2"); unicode-range: U+951-952, U+964-965, U+C00-C7F, U+1CDA, U+1CF2, U+200C-200D, U+25CC; }

@font-face { font-family: "Google Sans"; font-style: normal; font-weight: 400; src: url("https://fonts.gstatic.com/s/googlesans/v62/4UaRrENHsxJlGDuGo1OIlJfC6l_24rlCK1Yo_Iq2qgCIhM907-0x.woff2") format("woff2"); unicode-range: U+2D7, U+303, U+331, U+E01-E5B, U+200C-200D, U+25CC; }

@font-face { font-family: "Google Sans"; font-style: normal; font-weight: 400; src: url("https://fonts.gstatic.com/s/googlesans/v62/4UaRrENHsxJlGDuGo1OIlJfC6l_24rlCK1Yo_Iq2sQCIhM907-0x.woff2") format("woff2"); unicode-range: U+102-103, U+110-111, U+128-129, U+168-169, U+1A0-1A1, U+1AF-1B0, U+300-301, U+303-304, U+308-309, U+323, U+329, U+1EA0-1EF9, U+20AB; }

@font-face { font-family: "Google Sans"; font-style: normal; font-weight: 400; src: url("https://fonts.gstatic.com/s/googlesans/v62/4UaRrENHsxJlGDuGo1OIlJfC6l_24rlCK1Yo_Iq2sACIhM907-0x.woff2") format("woff2"); unicode-range: U+100-2BA, U+2BD-2C5, U+2C7-2CC, U+2CE-2D7, U+2DD-2FF, U+304, U+308, U+329, U+1D00-1DBF, U+1E00-1E9F, U+1EF2-1EFF, U+2020, U+20A0-20AB, U+20AD-20C0, U+2113, U+2C60-2C7F, U+A720-A7FF; }

@font-face { font-family: "Google Sans"; font-style: normal; font-weight: 400; src: url("https://fonts.gstatic.com/s/googlesans/v62/4UaRrENHsxJlGDuGo1OIlJfC6l_24rlCK1Yo_Iq2vgCIhM907w.woff2") format("woff2"); unicode-range: U+0-FF, U+131, U+152-153, U+2BB-2BC, U+2C6, U+2DA, U+2DC, U+304, U+308, U+329, U+2000-206F, U+20AC, U+2122, U+2191, U+2193, U+2212, U+2215, U+FEFF, U+FFFD; }

@font-face { font-family: "Google Sans"; font-style: normal; font-weight: 500; src: url("https://fonts.gstatic.com/s/googlesans/v62/4UaRrENHsxJlGDuGo1OIlJfC6l_24rlCK1Yo_Iq2rgCIhM907-0x.woff2") format("woff2"); unicode-range: U+308, U+530-58F, U+2010, U+2024, U+25CC, U+FB13-FB17; }

@font-face { font-family: "Google Sans"; font-style: normal; font-weight: 500; src: url("https://fonts.gstatic.com/s/googlesans/v62/4UaRrENHsxJlGDuGo1OIlJfC6l_24rlCK1Yo_Iq2rACIhM907-0x.woff2") format("woff2"); unicode-range: U+951-952, U+964-965, U+980-9FE, U+1CD0, U+1CD2, U+1CD5-1CD6, U+1CD8, U+1CE1, U+1CEA, U+1CED, U+1CF2, U+1CF5-1CF7, U+200C-200D, U+20B9, U+25CC, U+A8F1; }

@font-face { font-family: "Google Sans"; font-style: normal; font-weight: 500; src: url("https://fonts.gstatic.com/s/googlesans/v62/4UaRrENHsxJlGDuGo1OIlJfC6l_24rlCK1Yo_Iq2kQCIhM907-0x.woff2") format("woff2"); unicode-range: U+2C7, U+2D8-2D9, U+2DB, U+307, U+1400-167F, U+18B0-18F5, U+25CC, U+11AB0-11ABF; }

@font-face { font-family: "Google Sans"; font-style: normal; font-weight: 500; src: url("https://fonts.gstatic.com/s/googlesans/v62/4UaRrENHsxJlGDuGo1OIlJfC6l_24rlCK1Yo_Iq2swCIhM907-0x.woff2") format("woff2"); unicode-range: U+460-52F, U+1C80-1C8A, U+20B4, U+2DE0-2DFF, U+A640-A69F, U+FE2E-FE2F; }

@font-face { font-family: "Google Sans"; font-style: normal; font-weight: 500; src: url("https://fonts.gstatic.com/s/googlesans/v62/4UaRrENHsxJlGDuGo1OIlJfC6l_24rlCK1Yo_Iq2ugCIhM907-0x.woff2") format("woff2"); unicode-range: U+301, U+400-45F, U+490-491, U+4B0-4B1, U+2116; }

@font-face { font-family: "Google Sans"; font-style: normal; font-weight: 500; src: url("https://fonts.gstatic.com/s/googlesans/v62/4UaRrENHsxJlGDuGo1OIlJfC6l_24rlCK1Yo_Iq2vwCIhM907-0x.woff2") format("woff2"); unicode-range: U+900-97F, U+1CD0-1CF9, U+200C-200D, U+20A8, U+20B9, U+20F0, U+25CC, U+A830-A839, U+A8E0-A8FF, U+11B00-11B09; }

@font-face { font-family: "Google Sans"; font-style: normal; font-weight: 500; src: url("https://fonts.gstatic.com/s/googlesans/v62/4UaRrENHsxJlGDuGo1OIlJfC6l_24rlCK1Yo_Iq2rwCIhM907-0x.woff2") format("woff2"); unicode-range: U+30E, U+1200-1399, U+2D80-2DDE, U+AB01-AB2E, U+1E7E0-1E7E6, U+1E7E8-1E7EB, U+1E7ED-1E7EE, U+1E7F0-1E7FE; }

@font-face { font-family: "Google Sans"; font-style: normal; font-weight: 500; src: url("https://fonts.gstatic.com/s/googlesans/v62/4UaRrENHsxJlGDuGo1OIlJfC6l_24rlCK1Yo_Iq2oQCIhM907-0x.woff2") format("woff2"); unicode-range: U+589, U+10A0-10FF, U+1C90-1CBA, U+1CBD-1CBF, U+205A, U+2D00-2D2F, U+2E31; }

@font-face { font-family: "Google Sans"; font-style: normal; font-weight: 500; src: url("https://fonts.gstatic.com/s/googlesans/v62/4UaRrENHsxJlGDuGo1OIlJfC6l_24rlCK1Yo_Iq2sgCIhM907-0x.woff2") format("woff2"); unicode-range: U+1F00-1FFF; }

@font-face { font-family: "Google Sans"; font-style: normal; font-weight: 500; src: url("https://fonts.gstatic.com/s/googlesans/v62/4UaRrENHsxJlGDuGo1OIlJfC6l_24rlCK1Yo_Iq2vQCIhM907-0x.woff2") format("woff2"); unicode-range: U+370-377, U+37A-37F, U+384-38A, U+38C, U+38E-3A1, U+3A3-3FF; }

@font-face { font-family: "Google Sans"; font-style: normal; font-weight: 500; src: url("https://fonts.gstatic.com/s/googlesans/v62/4UaRrENHsxJlGDuGo1OIlJfC6l_24rlCK1Yo_Iq2pQCIhM907-0x.woff2") format("woff2"); unicode-range: U+951-952, U+964-965, U+A80-AFF, U+200C-200D, U+20B9, U+25CC, U+A830-A839; }

@font-face { font-family: "Google Sans"; font-style: normal; font-weight: 500; src: url("https://fonts.gstatic.com/s/googlesans/v62/4UaRrENHsxJlGDuGo1OIlJfC6l_24rlCK1Yo_Iq2nQCIhM907-0x.woff2") format("woff2"); unicode-range: U+951-952, U+964-965, U+A01-A76, U+200C-200D, U+20B9, U+25CC, U+262C, U+A830-A839; }

@font-face { font-family: "Google Sans"; font-style: normal; font-weight: 500; src: url("https://fonts.gstatic.com/s/googlesans/v62/4UaRrENHsxJlGDuGo1OIlJfC6l_24rlCK1Yo_Iq2vACIhM907-0x.woff2") format("woff2"); unicode-range: U+307-308, U+590-5FF, U+200C-2010, U+20AA, U+25CC, U+FB1D-FB4F; }

@font-face { font-family: "Google Sans"; font-style: normal; font-weight: 500; src: url("https://fonts.gstatic.com/s/googlesans/v62/4UaRrENHsxJlGDuGo1OIlJfC6l_24rlCK1Yo_Iq2tQCIhM907-0x.woff2") format("woff2"); unicode-range: U+1780-17FF, U+19E0-19FF, U+200C-200D, U+25CC; }

@font-face { font-family: "Google Sans"; font-style: normal; font-weight: 500; src: url("https://fonts.gstatic.com/s/googlesans/v62/4UaRrENHsxJlGDuGo1OIlJfC6l_24rlCK1Yo_Iq2twCIhM907-0x.woff2") format("woff2"); unicode-range: U+E81-EDF, U+200C-200D, U+25CC; }

@font-face { font-family: "Google Sans"; font-style: normal; font-weight: 500; src: url("https://fonts.gstatic.com/s/googlesans/v62/4UaRrENHsxJlGDuGo1OIlJfC6l_24rlCK1Yo_Iq2pgCIhM907-0x.woff2") format("woff2"); unicode-range: U+307, U+323, U+951-952, U+964-965, U+D00-D7F, U+1CDA, U+1CF2, U+200C-200D, U+20B9, U+25CC, U+A830-A832; }

@font-face { font-family: "Google Sans"; font-style: normal; font-weight: 500; src: url("https://fonts.gstatic.com/s/googlesans/v62/4UaRrENHsxJlGDuGo1OIlJfC6l_24rlCK1Yo_Iq2pwCIhM907-0x.woff2") format("woff2"); unicode-range: U+951-952, U+964-965, U+B01-B77, U+1CDA, U+1CF2, U+200C-200D, U+20B9, U+25CC; }

@font-face { font-family: "Google Sans"; font-style: normal; font-weight: 500; src: url("https://fonts.gstatic.com/s/googlesans/v62/4UaRrENHsxJlGDuGo1OIlJfC6l_24rlCK1Yo_Iq2owCIhM907-0x.woff2") format("woff2"); unicode-range: U+964-965, U+D81-DF4, U+1CF2, U+200C-200D, U+25CC, U+111E1-111F4; }

@font-face { font-family: "Google Sans"; font-style: normal; font-weight: 500; src: url("https://fonts.gstatic.com/s/googlesans/v62/4UaRrENHsxJlGDuGo1OIlJfC6l_24rlCK1Yo_Iq20ACIhM907-0x.woff2") format("woff2"); unicode-range: U+1-C, U+E-1F, U+7F-9F, U+20DD-20E0, U+20E2-20E4, U+2150-218F, U+2190, U+2192, U+2194-2199, U+21AF, U+21E6-21F0, U+21F3, U+2218-2219, U+2299, U+22C4-22C6, U+2300-243F, U+2440-244A, U+2460-24FF, U+25A0-27BF, U+2800-28FF, U+2921-2922, U+2981, U+29BF, U+29EB, U+2B00-2BFF, U+4DC0-4DFF, U+FFF9-FFFB, U+10140-1018E, U+10190-1019C, U+101A0, U+101D0-101FD, U+102E0-102FB, U+10E60-10E7E, U+1D2C0-1D2D3, U+1D2E0-1D37F, U+1F000-1F0FF, U+1F100-1F1AD, U+1F1E6-1F1FF, U+1F30D-1F30F, U+1F315, U+1F31C, U+1F31E, U+1F320-1F32C, U+1F336, U+1F378, U+1F37D, U+1F382, U+1F393-1F39F, U+1F3A7-1F3A8, U+1F3AC-1F3AF, U+1F3C2, U+1F3C4-1F3C6, U+1F3CA-1F3CE, U+1F3D4-1F3E0, U+1F3ED, U+1F3F1-1F3F3, U+1F3F5-1F3F7, U+1F408, U+1F415, U+1F41F, U+1F426, U+1F43F, U+1F441-1F442, U+1F444, U+1F446-1F449, U+1F44C-1F44E, U+1F453, U+1F46A, U+1F47D, U+1F4A3, U+1F4B0, U+1F4B3, U+1F4B9, U+1F4BB, U+1F4BF, U+1F4C8-1F4CB, U+1F4D6, U+1F4DA, U+1F4DF, U+1F4E3-1F4E6, U+1F4EA-1F4ED, U+1F4F7, U+1F4F9-1F4FB, U+1F4FD-1F4FE, U+1F503, U+1F507-1F50B, U+1F50D, U+1F512-1F513, U+1F53E-1F54A, U+1F54F-1F5FA, U+1F610, U+1F650-1F67F, U+1F687, U+1F68D, U+1F691, U+1F694, U+1F698, U+1F6AD, U+1F6B2, U+1F6B9-1F6BA, U+1F6BC, U+1F6C6-1F6CF, U+1F6D3-1F6D7, U+1F6E0-1F6EA, U+1F6F0-1F6F3, U+1F6F7-1F6FC, U+1F700-1F7FF, U+1F800-1F80B, U+1F810-1F847, U+1F850-1F859, U+1F860-1F887, U+1F890-1F8AD, U+1F8B0-1F8BB, U+1F8C0-1F8C1, U+1F900-1F90B, U+1F93B, U+1F946, U+1F984, U+1F996, U+1F9E9, U+1FA00-1FA6F, U+1FA70-1FA7C, U+1FA80-1FA89, U+1FA8F-1FAC6, U+1FACE-1FADC, U+1FADF-1FAE9, U+1FAF0-1FAF8, U+1FB00-1FBFF; }

@font-face { font-family: "Google Sans"; font-style: normal; font-weight: 500; src: url("https://fonts.gstatic.com/s/googlesans/v62/4UaRrENHsxJlGDuGo1OIlJfC6l_24rlCK1Yo_Iq2qACIhM907-0x.woff2") format("woff2"); unicode-range: U+964-965, U+B82-BFA, U+200C-200D, U+20B9, U+25CC; }

@font-face { font-family: "Google Sans"; font-style: normal; font-weight: 500; src: url("https://fonts.gstatic.com/s/googlesans/v62/4UaRrENHsxJlGDuGo1OIlJfC6l_24rlCK1Yo_Iq2ogCIhM907-0x.woff2") format("woff2"); unicode-range: U+951-952, U+964-965, U+C00-C7F, U+1CDA, U+1CF2, U+200C-200D, U+25CC; }

@font-face { font-family: "Google Sans"; font-style: normal; font-weight: 500; src: url("https://fonts.gstatic.com/s/googlesans/v62/4UaRrENHsxJlGDuGo1OIlJfC6l_24rlCK1Yo_Iq2qgCIhM907-0x.woff2") format("woff2"); unicode-range: U+2D7, U+303, U+331, U+E01-E5B, U+200C-200D, U+25CC; }

@font-face { font-family: "Google Sans"; font-style: normal; font-weight: 500; src: url("https://fonts.gstatic.com/s/googlesans/v62/4UaRrENHsxJlGDuGo1OIlJfC6l_24rlCK1Yo_Iq2sQCIhM907-0x.woff2") format("woff2"); unicode-range: U+102-103, U+110-111, U+128-129, U+168-169, U+1A0-1A1, U+1AF-1B0, U+300-301, U+303-304, U+308-309, U+323, U+329, U+1EA0-1EF9, U+20AB; }

@font-face { font-family: "Google Sans"; font-style: normal; font-weight: 500; src: url("https://fonts.gstatic.com/s/googlesans/v62/4UaRrENHsxJlGDuGo1OIlJfC6l_24rlCK1Yo_Iq2sACIhM907-0x.woff2") format("woff2"); unicode-range: U+100-2BA, U+2BD-2C5, U+2C7-2CC, U+2CE-2D7, U+2DD-2FF, U+304, U+308, U+329, U+1D00-1DBF, U+1E00-1E9F, U+1EF2-1EFF, U+2020, U+20A0-20AB, U+20AD-20C0, U+2113, U+2C60-2C7F, U+A720-A7FF; }

@font-face { font-family: "Google Sans"; font-style: normal; font-weight: 500; src: url("https://fonts.gstatic.com/s/googlesans/v62/4UaRrENHsxJlGDuGo1OIlJfC6l_24rlCK1Yo_Iq2vgCIhM907w.woff2") format("woff2"); unicode-range: U+0-FF, U+131, U+152-153, U+2BB-2BC, U+2C6, U+2DA, U+2DC, U+304, U+308, U+329, U+2000-206F, U+20AC, U+2122, U+2191, U+2193, U+2212, U+2215, U+FEFF, U+FFFD; }

@font-face { font-family: "Google Sans Display"; font-style: normal; font-weight: 400; src: url("https://fonts.gstatic.com/s/googlesansdisplay/v13/ea8FacM9Wef3EJPWRrHjgE4B6CnlZxHVDvr9oT3ZQZRENA.woff2") format("woff2"); unicode-range: U+301, U+400-45F, U+490-491, U+4B0-4B1, U+2116; }

@font-face { font-family: "Google Sans Display"; font-style: normal; font-weight: 400; src: url("https://fonts.gstatic.com/s/googlesansdisplay/v13/ea8FacM9Wef3EJPWRrHjgE4B6CnlZxHVDv39oT3ZQZRENA.woff2") format("woff2"); unicode-range: U+370-377, U+37A-37F, U+384-38A, U+38C, U+38E-3A1, U+3A3-3FF; }

@font-face { font-family: "Google Sans Display"; font-style: normal; font-weight: 400; src: url("https://fonts.gstatic.com/s/googlesansdisplay/v13/ea8FacM9Wef3EJPWRrHjgE4B6CnlZxHVDvH9oT3ZQZRENA.woff2") format("woff2"); unicode-range: U+102-103, U+110-111, U+128-129, U+168-169, U+1A0-1A1, U+1AF-1B0, U+300-301, U+303-304, U+308-309, U+323, U+329, U+1EA0-1EF9, U+20AB; }

@font-face { font-family: "Google Sans Display"; font-style: normal; font-weight: 400; src: url("https://fonts.gstatic.com/s/googlesansdisplay/v13/ea8FacM9Wef3EJPWRrHjgE4B6CnlZxHVDvD9oT3ZQZRENA.woff2") format("woff2"); unicode-range: U+100-2BA, U+2BD-2C5, U+2C7-2CC, U+2CE-2D7, U+2DD-2FF, U+304, U+308, U+329, U+1D00-1DBF, U+1E00-1E9F, U+1EF2-1EFF, U+2020, U+20A0-20AB, U+20AD-20C0, U+2113, U+2C60-2C7F, U+A720-A7FF; }

@font-face { font-family: "Google Sans Display"; font-style: normal; font-weight: 400; src: url("https://fonts.gstatic.com/s/googlesansdisplay/v13/ea8FacM9Wef3EJPWRrHjgE4B6CnlZxHVDv79oT3ZQZQ.woff2") format("woff2"); unicode-range: U+0-FF, U+131, U+152-153, U+2BB-2BC, U+2C6, U+2DA, U+2DC, U+304, U+308, U+329, U+2000-206F, U+20AC, U+2122, U+2191, U+2193, U+2212, U+2215, U+FEFF, U+FFFD; }

@font-face { font-family: "Google Symbols"; font-style: normal; font-weight: 400; src: url("https://fonts.gstatic.com/s/googlesymbols/v367/HhzZU5Ak9u-oMExPeInvcuEmPosC9zS3FYkFU68cPrjdKM1XMoDZlWmzc3IiWvF1SbxVhQidBnv_C_ar1J9g0sLBUv3G8taXmBpH-Bw.woff2") format("woff2"); }

.google-symbols { font-family: "Google Symbols"; font-weight: normal; font-style: normal; font-size: 24px; line-height: 1; letter-spacing: normal; text-transform: none; display: inline-block; white-space: nowrap; overflow-wrap: normal; direction: ltr; font-feature-settings: "liga"; -webkit-font-smoothing: antialiased; }
------MultipartBoundary--o4C46MD1v5LjRKaEEJJp6V0O1heQ16TtDUGnAqoxwB----
Content-Type: text/css
Content-Transfer-Encoding: binary
Content-Location: cid:css-79c43509-e05e-4d0c-bdb9-06e8997dc6d7@mhtml.blink

@charset "utf-8";

html, body { height: 100%; overflow: hidden; }

body { -webkit-font-smoothing: antialiased; color: rgba(0, 0, 0, 0.87); font-family: Roboto, RobotoDraft, Helvetica, Arial, sans-serif; margin: 0px; text-size-adjust: 100%; }

textarea { font-family: Roboto, RobotoDraft, Helvetica, Arial, sans-serif; }

a { text-decoration: none; color: rgb(41, 98, 255); }

img { border: none; }

* { -webkit-tap-highlight-color: transparent; }

#apps-debug-tracers { display: none; }

.VyAGDe { fill: rgb(211, 123, 0); }

.aRDKUe .VyAGDe { fill: rgb(255, 223, 153); }

.ATqlle { fill: var(--gm3-sys-color-on-surface,#1f1f1f); }

.aRDKUe .ATqlle { fill: rgb(66, 31, 0); }

.RvCOxe { fill: var(--gm3-sys-color-error,#b3261e); }

.aRDKUe .RvCOxe { fill: var(--gm3-sys-color-error,#f2b8b5); }

.AMEcUe { fill: white; }

.aRDKUe .AMEcUe { fill: rgb(66, 31, 0); }

.WppKZd { fill: rgb(128, 134, 139); }

.aRDKUe .WppKZd { fill: rgb(154, 160, 166); }

.mOayhc { fill: rgb(66, 133, 244); }

.YLTKge { fill: rgb(234, 67, 53); }

.p9ZcCd { fill: rgb(251, 188, 4); }

.VUxnQe { fill: rgb(52, 168, 83); }

.Lvwayc { background: rgb(233, 238, 246); border-radius: 28px; box-shadow: rgba(0, 0, 0, 0.15) 0px 4px 8px 3px, rgba(0, 0, 0, 0.3) 0px 1px 3px; height: 100%; outline: transparent solid 1px; overflow-x: hidden; position: relative; width: 100%; }

.aRDKUe .Lvwayc { background: rgb(40, 42, 44); }

.Aw3qqd .Lvwayc { border-radius: 0px; }

.N2ncR { background: none; box-sizing: border-box; height: auto; max-height: calc(-24px + 100vh); min-width: unset; position: relative; }

.Aw3qqd .N2ncR { height: auto; max-height: unset; min-height: 100%; padding-bottom: 60px; }

.vZvJBb { border-radius: 4px; }

.UFjXSc { box-sizing: border-box; height: auto; max-width: 436px; min-width: 240px; padding: 8px 12px 16px; position: relative; }

.Aw3qqd .UFjXSc { height: 100%; max-width: unset; padding: 0px; }

.DgDbFe { box-sizing: border-box; display: flex; flex-wrap: wrap; height: auto; justify-content: space-evenly; overflow: hidden; padding: 0px; text-align: center; }

.DgDbFe .vZvJBb { flex: 1 0 50%; position: relative; text-align: left; }

.DgDbFe .vZvJBb .lGIeBc { border: none; display: block; float: left; height: 0px; margin: 0px; opacity: 0; overflow-y: hidden; padding: 0px 12px 0px 0px; pointer-events: none; white-space: nowrap; }

.ZKKg9e { container: footerContainerLink / inline-size; display: block; height: 100%; width: 100%; }

.BVnP4c { align-items: center; display: block; height: 60px; line-height: 65px; width: 100%; }

.DgDbFe .vZvJBb:not(:first-child) .BVnP4c::before { content: "●"; font-size: 6px; left: -2px; position: absolute; top: -2px; vertical-align: top; }

.aRDKUe .DgDbFe .vZvJBb:not(:first-child) .BVnP4c::before { color: var(--gm3-sys-color-on-surface,#e3e3e3); }

.BVnP4c .Z6NXed { margin: 0px 0px 0px 8px; max-width: 350px; padding: 5px 4px; }

.DgDbFe .vZvJBb:first-child { text-align: right; }

.vZvJBb:first-child .Z6NXed { margin: 0px 8px 0px 0px; }

@media (max-width: 350px) {
  .BVnP4c .Z6NXed { max-width: 80vw; }
  .BVnP4c .lGIeBc { padding: 0px 2px; }
  .ZKKg9e { container: smallFooterContainerLink / inline-size; }
}

@media (max-width: 250px) {
  .cYudee { padding: 2px; }
}

@container footerContainerLink (min-width: 250px) {
  .BVnP4c .Z6NXed, .vZvJBb:first-child .Z6NXed { margin: 0px auto; }
  .BVnP4c { display: flex; height: 48px; justify-content: space-evenly; line-height: 48px; text-align: center; }
  .DgDbFe .vZvJBb:not(:first-child) .BVnP4c::before { height: 10px; top: -25px; width: 100%; }
}

@container smallFooterContainerLink (min-width: 150px) {
  .BVnP4c .Z6NXed.Z6NXed { margin: 0px auto; }
  .BVnP4c { display: flex; height: 48px; justify-content: space-evenly; line-height: 48px; text-align: center; }
  .DgDbFe .vZvJBb:not(:first-child) .BVnP4c::before { height: 10px; top: -25px; width: 100%; }
}

.Aw3qqd .DgDbFe { bottom: 0px; left: 0px; margin: 0px 16px; position: absolute; right: 0px; }

.Z6NXed { color: rgb(48, 48, 48); font-family: "Google Sans", Roboto; font-weight: 400; letter-spacing: 0.1px; font-size: 0.75rem; line-height: 1rem; position: relative; vertical-align: text-top; border-radius: 4px; border: 1px solid transparent; padding: 4px 7px; }

@media (hover: hover) {
  .Z6NXed:hover { background: rgba(68, 71, 70, 0.08); }
}

@media (forced-colors: active) {
  .Z6NXed:focus-visible { outline: transparent solid 1px; outline-offset: -2px; }
}

.Z6NXed:focus-visible { outline: transparent solid 1px; outline-offset: -1px; }

.WLjaOb .Z6NXed:focus-visible, .WLjaOb .Z6NXed:focus-visible:hover { background: rgba(68, 71, 70, 0.12); border-color: rgb(11, 87, 208); }

.Z6NXed:active, .Z6NXed:active:focus-visible { background: rgba(68, 71, 70, 0.12); }

@media (hover: hover) {
  .aRDKUe .Z6NXed:hover { background: rgba(227, 227, 227, 0.08); }
}

@media (forced-colors: active) {
  .aRDKUe .Z6NXed:focus-visible { outline: transparent solid 1px; outline-offset: -1px; }
}

.aRDKUe .Z6NXed:focus-visible { outline: transparent solid 1px; outline-offset: -1px; }

.WLjaOb.aRDKUe .Z6NXed:focus-visible, .WLjaOb.aRDKUe .Z6NXed:focus-visible:hover { background: rgba(227, 227, 227, 0.12); border-color: rgb(168, 199, 250); }

.aRDKUe .Z6NXed:active, .aRDKUe .Z6NXed:active:focus-visible { background: rgba(227, 227, 227, 0.12); }

.aRDKUe .Z6NXed { color: rgb(227, 227, 227); }

.Z6NXed::after { content: ""; position: absolute; inset: -12px 0px; }

.T6SHIc { border-bottom-color: var(--gm3-sys-color-surface-variant,#e1e3e1); border-bottom-width: 1px; border-bottom-style: solid; }

.aRDKUe .T6SHIc { border-color: var(--gm3-sys-color-outline-variant,#444746); }

.EAu5mb { float: left; }

.Y2rnLd { transform: translateZ(0px); background: rgb(168, 199, 250); border-radius: 50%; border: none; overflow: visible; position: relative; }

.aRDKUe .Y2rnLd { background: rgb(129, 201, 149); }

.EAu5mb, .Y2rnLd { height: 80px; width: 80px; }

.YfL2Bb .EAu5mb, .YfL2Bb .Y2rnLd { height: 24px; width: 24px; }

.KoNisf { font-family: "Google Sans", Roboto; color: var(--gm3-sys-color-on-primary-fixed-variant,#0842a0); border: none; font-size: 48px; line-height: 80px; text-align: center; text-transform: uppercase; vertical-align: middle; }

.aRDKUe .KoNisf { color: rgb(31, 31, 31); }

.YfL2Bb .KoNisf { font-size: 16px; line-height: 24px; }

.Q3ao0c { color: rgba(116, 119, 117, 0.08); border-radius: 50%; left: 0px; position: absolute; top: 0px; }

.aRDKUe .Q3ao0c { color: rgba(227, 227, 227, 0.08); }

[dir="rtl"] .Q3ao0c { transform: scaleX(-1); }

.pMoudc .L2vhzb { position: absolute; }

.BEzKdd { clip: rect(0px, 0px, 0px, 0px); clip-path: inset(50%); height: 1px; overflow: hidden; position: absolute; white-space: nowrap; width: 1px; }

.jFfZdd, .KDLkEc, .RroO5d, .Z6NXed, .pQpjR, .HfYFBc { outline: none; }

@media (forced-colors: active) {
  .jFfZdd:focus-visible, .KDLkEc:focus-visible, .RroO5d:focus-visible, .Z6NXed:focus-visible, .pQpjR:focus-visible, .HfYFBc:focus-visible { outline: transparent solid 2px; }
}

.N2ncR .vVD7V { bottom: 0px; height: 2px; overflow: hidden; position: absolute; top: 0px; width: 100%; }

.aRDKUe .N2ncR .vVD7V .VfPpkd-qNpTzb-P4pF8c-SmKAyb { border-color: rgb(102, 157, 246); }

.aRDKUe .N2ncR .vVD7V .VfPpkd-qNpTzb-ajuXxc-RxYbNe { background-color: rgba(138, 180, 248, 0.24); }

@media (forced-colors: active) {
  .aRDKUe .N2ncR .vVD7V .VfPpkd-qNpTzb-ajuXxc-RxYbNe { background-color: buttonborder; }
}

@media (-ms-high-contrast:active), (-ms-high-contrast:none) {
  .aRDKUe .N2ncR .vVD7V .VfPpkd-qNpTzb-ajuXxc-RxYbNe { background-color: transparent; background-image: url("data:image/svg+xml,%3Csvg version='1.1' xmlns='http://www.w3.org/2000/svg' xmlns:xlink='http://www.w3.org/1999/xlink' x='0px' y='0px' enable-background='new 0 0 5 2' xml:space='preserve' viewBox='0 0 5 2' preserveAspectRatio='none slice'%3E%3Ccircle cx='1' cy='1' r='1' fill='rgba(138, 180, 248, 0.24)'/%3E%3C/svg%3E"); }
}

.aRDKUe .N2ncR .vVD7V .VfPpkd-qNpTzb-ajuXxc-ZMv3u { background-color: rgba(138, 180, 248, 0.24); }

.sZ3gbf { height: 100%; }

.sZ3gbf { overflow-y: overlay; }

.sZ3gbf::-webkit-scrollbar { width: 16px; }

.sZ3gbf::-webkit-scrollbar-thumb { background-clip: padding-box; background-color: rgb(201, 205, 211); border-radius: 16px; border: 5px solid transparent; box-shadow: none; min-height: 50px; }

.aRDKUe .sZ3gbf::-webkit-scrollbar-thumb { background-color: rgb(70, 71, 73); }

.aRDKUe .sZ3gbf::-webkit-scrollbar-thumb:hover { background-color: rgb(81, 81, 83); }

.aRDKUe .sZ3gbf::-webkit-scrollbar-thumb:active { background-color: rgb(85, 86, 88); }

.sZ3gbf::-webkit-scrollbar-thumb:hover { background-color: rgb(190, 195, 200); }

.sZ3gbf::-webkit-scrollbar-thumb:active { background-color: rgb(185, 189, 193); }

.sZ3gbf::-webkit-scrollbar-track { background: transparent; border: none; margin-top: 56px; margin-bottom: 50px; }

@media screen and (max-width: 320px) {
  .sZ3gbf::-webkit-scrollbar { width: 8px; }
  .sZ3gbf::-webkit-scrollbar-thumb { border-radius: 8px; border-width: 2.5px; }
  .sZ3gbf::-webkit-scrollbar-thumb:hover { border-width: 2.5px; }
}

.nTODhf { font-variation-settings: "FILL" 1, "wght" 400, "GRAD" 0, "opsz" 24; }

.tfC9yc { display: inline-block; }

.bMnvr { background-color: var(--gm3-sys-color-surface-container-highest,#dde3ea); left: 0px; opacity: 0; pointer-events: none; position: absolute; right: 0px; text-align: center; transition: opacity 0.15s cubic-bezier(0.4, 0, 0.2, 1); z-index: 1; }

.aRDKUe .bMnvr { background-color: var(--gm3-sys-color-surface-container-highest,#333537); }

.bMnvr .JZFjpd { display: block; position: relative; }

.YeVHZd .bMnvr { opacity: 1; pointer-events: auto; }

.bMnvr .eYSAde { display: inline-block; margin: 18px 48px; overflow: visible; position: relative; }

.z74oAb { height: 88px; left: -4px; position: absolute; top: -4px; width: 88px; }

.BZ4Zgf { height: 30px; left: -3px; position: absolute; top: -3px; width: 30px; }

.YfL2Bb { height: 24px; border-radius: 50%; width: 24px; transform: translateY(12px); transition: transform 0.15s cubic-bezier(0.4, 0, 0.2, 1); position: absolute; left: -32px; top: -2px; }

.YeVHZd .YfL2Bb { transform: translateY(0px); }

.WNTTTe { color: rgb(168, 199, 250); }

.CkSNRd.Pzuhxc { position: absolute; right: 20px; top: 16px; z-index: 2; }

.CkSNRd { position: relative; color: var(--gm3-sys-color-on-surface-variant,#444746); background: none; border-radius: 50%; border: 1px solid transparent; cursor: pointer; height: 40px; width: 40px; outline: 0px; padding: 8px; }

@media (hover: hover) {
  .CkSNRd:hover { background: rgba(68, 71, 70, 0.08); }
}

@media (forced-colors: active) {
  .CkSNRd:focus-visible { outline: transparent solid 1px; outline-offset: -2px; }
}

.CkSNRd:focus-visible { outline: transparent solid 1px; outline-offset: -1px; }

.WLjaOb .CkSNRd:focus-visible, .WLjaOb .CkSNRd:focus-visible:hover { background: rgba(68, 71, 70, 0.12); border-color: rgb(11, 87, 208); }

.CkSNRd:active, .CkSNRd:active:focus-visible { background: rgba(68, 71, 70, 0.12); }

@media (hover: hover) {
  .aRDKUe .CkSNRd:hover { background: rgba(227, 227, 227, 0.08); }
}

@media (forced-colors: active) {
  .aRDKUe .CkSNRd:focus-visible { outline: transparent solid 1px; outline-offset: -1px; }
}

.aRDKUe .CkSNRd:focus-visible { outline: transparent solid 1px; outline-offset: -1px; }

.WLjaOb.aRDKUe .CkSNRd:focus-visible, .WLjaOb.aRDKUe .CkSNRd:focus-visible:hover { background: rgba(227, 227, 227, 0.12); border-color: rgb(168, 199, 250); }

.aRDKUe .CkSNRd:active, .aRDKUe .CkSNRd:active:focus-visible { background: rgba(227, 227, 227, 0.12); }

.CkSNRd::after { content: ""; position: absolute; inset: -5px; }

.aRDKUe .CkSNRd { color: var(--gm3-sys-color-on-surface-variant,#c4c7c5); }

.Aw3qqd .Pzuhxc { right: 8px; top: 8px; }

.N2ncR { padding-left: 16px; }

.GYBiJf .N2ncR { padding-right: 16px; padding-left: 16px; }

@media screen and (max-width: 320px) {
  .N2ncR { padding-left: 8px; }
}

.Aw3qqd .DgDbFe { margin-right: 0px; }

.sZ3gbf { overflow: hidden scroll; }

.O52YZb .SedFmc, .UojMw .SedFmc, .O52YZb .IyfHjd, .UojMw .IyfHjd { max-height: 2.5rem; }

.O52YZb, .UojMw, .gAlnEe { font-family: "Google Sans", Roboto; font-weight: 500; font-size: 0.875rem; line-height: 1.25rem; letter-spacing: normal; }

.O52YZb { padding: 9px 23px; border-radius: 100px; background-color: var(--gm3-sys-color-secondary-container,#c2e7ff); color: var(--gm3-sys-color-on-secondary-container,#001d35); border: 1px solid transparent; }

@media (hover: hover) {
  .O52YZb:hover { background: rgb(178, 215, 239); }
}

@media (forced-colors: active) {
  .O52YZb:focus-visible { outline: transparent solid 1px; outline-offset: -2px; }
}

.O52YZb:focus-visible { outline: transparent solid 1px; outline-offset: -1px; }

.WLjaOb .O52YZb:focus-visible, .WLjaOb .O52YZb:focus-visible:hover { background: rgb(171, 207, 231); border-color: rgb(11, 87, 208); }

.O52YZb:active, .O52YZb:active:focus-visible { background: rgb(171, 207, 231); }

.aRDKUe .O52YZb { background-color: var(--gm3-sys-color-secondary-container,#004a77); color: var(--gm3-sys-color-on-secondary-container,#c2e7ff); }

@media (hover: hover) {
  .aRDKUe .O52YZb:hover { background: rgb(16, 87, 130); }
}

@media (forced-colors: active) {
  .aRDKUe .O52YZb:focus-visible { outline: transparent solid 1px; outline-offset: -2px; }
}

.aRDKUe .O52YZb:focus-visible { outline: transparent solid 1px; outline-offset: -1px; }

.WLjaOb .aRDKUe .O52YZb:focus-visible, .WLjaOb .aRDKUe .O52YZb:focus-visible:hover { background: rgb(23, 93, 135); border-color: rgb(168, 199, 250); }

.aRDKUe .O52YZb:active, .aRDKUe .O52YZb:active:focus-visible { background: rgb(23, 93, 135); }

.O52YZb:hover { box-shadow: rgba(0, 0, 0, 0.3) 0px 1px 2px, rgba(0, 0, 0, 0.15) 0px 1px 3px 1px; }

.gAlnEe, .UojMw { color: var(--gm3-sys-color-primary,#0b57d0); background: none; border: 1px solid transparent; cursor: pointer; text-align: left; }

.aRDKUe .gAlnEe, .aRDKUe .UojMw { color: var(--gm3-sys-color-primary,#a8c7fa); }

.gAlnEe { padding: 9px 11px; border-radius: 100px; }

@media (hover: hover) {
  .gAlnEe:hover { background: rgba(11, 87, 208, 0.08); }
}

@media (forced-colors: active) {
  .gAlnEe:focus-visible { outline: transparent solid 1px; outline-offset: -2px; }
}

.gAlnEe:focus-visible { outline: transparent solid 1px; outline-offset: -1px; }

.WLjaOb .gAlnEe:focus-visible, .WLjaOb .gAlnEe:focus-visible:hover { background: rgba(11, 87, 208, 0.12); border-color: rgb(11, 87, 208); }

.gAlnEe:active, .gAlnEe:active:focus-visible { background: rgba(11, 87, 208, 0.12); }

@media (hover: hover) {
  .aRDKUe .gAlnEe:hover { background: rgba(168, 199, 250, 0.08); }
}

@media (forced-colors: active) {
  .aRDKUe .gAlnEe:focus-visible { outline: transparent solid 1px; outline-offset: -1px; }
}

.aRDKUe .gAlnEe:focus-visible { outline: transparent solid 1px; outline-offset: -1px; }

.WLjaOb.aRDKUe .gAlnEe:focus-visible, .WLjaOb.aRDKUe .gAlnEe:focus-visible:hover { background: rgba(168, 199, 250, 0.12); border-color: rgb(168, 199, 250); }

.aRDKUe .gAlnEe:active, .aRDKUe .gAlnEe:active:focus-visible { background: rgba(168, 199, 250, 0.12); }

.UojMw { padding: 9px 23px; border-radius: 100px; border-color: var(--gm3-sys-color-outline,#747775); }

@media (hover: hover) {
  .UojMw:hover { background: rgba(11, 87, 208, 0.08); }
}

@media (forced-colors: active) {
  .UojMw:focus-visible { outline: transparent solid 1px; outline-offset: -2px; }
}

.UojMw:focus-visible { outline: transparent solid 1px; outline-offset: -1px; }

.WLjaOb .UojMw:focus-visible, .WLjaOb .UojMw:focus-visible:hover { background: rgba(11, 87, 208, 0.12); border-color: rgb(11, 87, 208); }

.UojMw:active, .UojMw:active:focus-visible { background: rgba(11, 87, 208, 0.12); }

.aRDKUe .UojMw { border-color: var(--gm3-sys-color-outline,#8e918f); }

@media (hover: hover) {
  .aRDKUe .UojMw:hover { background: rgba(168, 199, 250, 0.08); }
}

@media (forced-colors: active) {
  .aRDKUe .UojMw:focus-visible { outline: transparent solid 1px; outline-offset: -1px; }
}

.aRDKUe .UojMw:focus-visible { outline: transparent solid 1px; outline-offset: -1px; }

.WLjaOb.aRDKUe .UojMw:focus-visible, .WLjaOb.aRDKUe .UojMw:focus-visible:hover { background: rgba(168, 199, 250, 0.12); border-color: rgb(168, 199, 250); }

.aRDKUe .UojMw:active, .aRDKUe .UojMw:active:focus-visible { background: rgba(168, 199, 250, 0.12); }

@media (prefers-contrast: more) or (prefers-contrast: custom) {
  .Lvwayc { --gm3-sys-color-primary: #174ea6; --gm3-sys-color-on-primary: #fff; --gm3-sys-color-primary-variant: #1967d2; --gm3-sys-color-secondary: #d2e3fc; --gm3-sys-color-on-secondary: #174ea6; --gm3-sys-color-secondary-variant: #90caf9; --gm3-sys-color-error: #b31412; --gm3-sys-color-on-error: #fff; --gm3-sys-color-surface: #fff; --gm3-sys-color-on-surface: #000; --gm3-sys-color-background: #fff; --gm3-sys-color-on-background: #000; --gm3-sys-color-hairline: #9aa0a6; --gm3-sys-color-on-surface-variant: #3c4043; --gm3-sys-color-shadow-color: #3c4043; --gm3-sys-color-textfield-primary: #174ea6; --gm3-sys-color-textfield-surface: #f1f3f4; --gm3-sys-color-textfield-surface-variant: #3c4043; }
  .aRDKUe .Lvwayc { --gm3-sys-color-primary: #aecbfa; --gm3-sys-color-on-primary: #000; --gm3-sys-color-secondary: rgba(100,181,246,0.48); --gm3-sys-color-on-secondary: #e8f0fe; --gm3-sys-color-error: #f6aea9; --gm3-sys-color-on-error: #000; --gm3-sys-color-surface: #000; --gm3-sys-color-on-surface: #fff; --gm3-sys-color-background: #000; --gm3-sys-color-on-background: #fff; --gm3-sys-color-hairline: #80868b; --gm3-sys-color-on-surface-variant: #bdc1c6; }
}

.NMm5M { fill: currentcolor; flex-shrink: 0; }

[dir="rtl"] .hhikbc { transform: scaleX(-1); }

@keyframes mdc-linear-progress-primary-indeterminate-translate { 
  0% { transform: translateX(0px); }
  20% { animation-timing-function: cubic-bezier(0.5, 0, 0.701732, 0.495819); transform: translateX(0px); }
  59.15% { animation-timing-function: cubic-bezier(0.302435, 0.381352, 0.55, 0.956352); transform: translateX(var(--mdc-linear-progress-primary-half,83.67142%)); }
  100% { transform: translateX(var(--mdc-linear-progress-primary-full,200.611057%)); }
}

@keyframes mdc-linear-progress-primary-indeterminate-scale { 
  0% { transform: scaleX(0.08); }
  36.65% { animation-timing-function: cubic-bezier(0.334731, 0.12482, 0.785844, 1); transform: scaleX(0.08); }
  69.15% { animation-timing-function: cubic-bezier(0.06, 0.11, 0.6, 1); transform: scaleX(0.661479); }
  100% { transform: scaleX(0.08); }
}

@keyframes mdc-linear-progress-secondary-indeterminate-translate { 
  0% { animation-timing-function: cubic-bezier(0.15, 0, 0.515058, 0.409685); transform: translateX(0px); }
  25% { animation-timing-function: cubic-bezier(0.31033, 0.284058, 0.8, 0.733712); transform: translateX(var(--mdc-linear-progress-secondary-quarter,37.651913%)); }
  48.35% { animation-timing-function: cubic-bezier(0.4, 0.627035, 0.6, 0.902026); transform: translateX(var(--mdc-linear-progress-secondary-half,84.386165%)); }
  100% { transform: translateX(var(--mdc-linear-progress-secondary-full,160.277782%)); }
}

@keyframes mdc-linear-progress-secondary-indeterminate-scale { 
  0% { animation-timing-function: cubic-bezier(0.205028, 0.057051, 0.57661, 0.453971); transform: scaleX(0.08); }
  19.15% { animation-timing-function: cubic-bezier(0.152313, 0.196432, 0.648374, 1.00432); transform: scaleX(0.457104); }
  44.15% { animation-timing-function: cubic-bezier(0.257759, -0.003163, 0.211762, 1.38179); transform: scaleX(0.72796); }
  100% { transform: scaleX(0.08); }
}

@keyframes mdc-linear-progress-primary-indeterminate-translate-reverse { 
  0% { transform: translateX(0px); }
  20% { animation-timing-function: cubic-bezier(0.5, 0, 0.701732, 0.495819); transform: translateX(0px); }
  59.15% { animation-timing-function: cubic-bezier(0.302435, 0.381352, 0.55, 0.956352); transform: translateX(var(--mdc-linear-progress-primary-half-neg,-83.67142%)); }
  100% { transform: translateX(var(--mdc-linear-progress-primary-full-neg,-200.611057%)); }
}

@keyframes mdc-linear-progress-secondary-indeterminate-translate-reverse { 
  0% { animation-timing-function: cubic-bezier(0.15, 0, 0.515058, 0.409685); transform: translateX(0px); }
  25% { animation-timing-function: cubic-bezier(0.31033, 0.284058, 0.8, 0.733712); transform: translateX(var(--mdc-linear-progress-secondary-quarter-neg,-37.651913%)); }
  48.35% { animation-timing-function: cubic-bezier(0.4, 0.627035, 0.6, 0.902026); transform: translateX(var(--mdc-linear-progress-secondary-half-neg,-84.386165%)); }
  100% { transform: translateX(var(--mdc-linear-progress-secondary-full-neg,-160.277782%)); }
}

@keyframes mdc-linear-progress-buffering-reverse { 
  0% { transform: translateX(-10px); }
}

.VfPpkd-qNpTzb-P1ekSe { position: relative; width: 100%; transform: translateZ(0px); outline: transparent solid 1px; overflow-x: hidden; transition: opacity 0.25s cubic-bezier(0.4, 0, 0.6, 1); }

@media screen and (forced-colors: active) {
  .VfPpkd-qNpTzb-P1ekSe { outline-color: canvastext; }
}

.VfPpkd-qNpTzb-P4pF8c { position: absolute; top: 0px; bottom: 0px; margin: auto 0px; width: 100%; animation: auto ease 0s 1 normal none running none; transform-origin: left top; transition: transform 0.25s cubic-bezier(0.4, 0, 0.6, 1); }

.VfPpkd-qNpTzb-P4pF8c-SmKAyb { display: inline-block; position: absolute; width: 100%; animation: auto ease 0s 1 normal none running none; border-top-style: solid; }

.VfPpkd-qNpTzb-ajuXxc { display: flex; position: absolute; top: 0px; bottom: 0px; margin: auto 0px; width: 100%; overflow: hidden; }

.VfPpkd-qNpTzb-ajuXxc-RxYbNe { background-repeat: repeat-x; flex: 1 1 auto; transform: rotate(180deg); mask-image: url("data:image/svg+xml,%3Csvg version='1.1' xmlns='http://www.w3.org/2000/svg' xmlns:xlink='http://www.w3.org/1999/xlink' x='0px' y='0px' enable-background='new 0 0 5 2' xml:space='preserve' viewBox='0 0 5 2' preserveAspectRatio='xMinYMin slice'%3E%3Ccircle cx='1' cy='1' r='1'/%3E%3C/svg%3E"); animation: 0.25s linear 0s infinite normal none running mdc-linear-progress-buffering; }

.VfPpkd-qNpTzb-ajuXxc-ZMv3u { flex: 0 1 100%; transition: flex-basis 0.25s cubic-bezier(0.4, 0, 0.6, 1); }

.VfPpkd-qNpTzb-Vw3Xuf-ZMv3u { transform: scaleX(0); }

.VfPpkd-qNpTzb-ncAuFb-ZMv3u { display: none; }

.VfPpkd-qNpTzb-P1ekSe-OWXEXe-A9y3zc .VfPpkd-qNpTzb-P4pF8c { transition: none; }

.VfPpkd-qNpTzb-P1ekSe-OWXEXe-A9y3zc .VfPpkd-qNpTzb-Vw3Xuf-ZMv3u { left: -145.167%; }

.VfPpkd-qNpTzb-P1ekSe-OWXEXe-A9y3zc .VfPpkd-qNpTzb-ncAuFb-ZMv3u { left: -54.8889%; display: block; }

.VfPpkd-qNpTzb-P1ekSe-OWXEXe-A9y3zc.VfPpkd-qNpTzb-P1ekSe-OWXEXe-OiiCO-IhfUye .VfPpkd-qNpTzb-Vw3Xuf-ZMv3u { animation: 2s linear 0s infinite normal none running mdc-linear-progress-primary-indeterminate-translate; }

.VfPpkd-qNpTzb-P1ekSe-OWXEXe-A9y3zc.VfPpkd-qNpTzb-P1ekSe-OWXEXe-OiiCO-IhfUye .VfPpkd-qNpTzb-Vw3Xuf-ZMv3u > .VfPpkd-qNpTzb-P4pF8c-SmKAyb { animation: 2s linear 0s infinite normal none running mdc-linear-progress-primary-indeterminate-scale; }

.VfPpkd-qNpTzb-P1ekSe-OWXEXe-A9y3zc.VfPpkd-qNpTzb-P1ekSe-OWXEXe-OiiCO-IhfUye .VfPpkd-qNpTzb-ncAuFb-ZMv3u { animation: 2s linear 0s infinite normal none running mdc-linear-progress-secondary-indeterminate-translate; }

.VfPpkd-qNpTzb-P1ekSe-OWXEXe-A9y3zc.VfPpkd-qNpTzb-P1ekSe-OWXEXe-OiiCO-IhfUye .VfPpkd-qNpTzb-ncAuFb-ZMv3u > .VfPpkd-qNpTzb-P4pF8c-SmKAyb { animation: 2s linear 0s infinite normal none running mdc-linear-progress-secondary-indeterminate-scale; }

[dir="rtl"] .VfPpkd-qNpTzb-P1ekSe:not([dir="ltr"]) .VfPpkd-qNpTzb-P4pF8c, .VfPpkd-qNpTzb-P1ekSe[dir="rtl"]:not([dir="ltr"]) .VfPpkd-qNpTzb-P4pF8c { right: 0px; transform-origin: right center; }

[dir="rtl"] .VfPpkd-qNpTzb-P1ekSe:not([dir="ltr"]).VfPpkd-qNpTzb-P1ekSe-OWXEXe-OiiCO-IhfUye .VfPpkd-qNpTzb-Vw3Xuf-ZMv3u, .VfPpkd-qNpTzb-P1ekSe[dir="rtl"]:not([dir="ltr"]).VfPpkd-qNpTzb-P1ekSe-OWXEXe-OiiCO-IhfUye .VfPpkd-qNpTzb-Vw3Xuf-ZMv3u { animation-name: mdc-linear-progress-primary-indeterminate-translate-reverse; }

[dir="rtl"] .VfPpkd-qNpTzb-P1ekSe:not([dir="ltr"]).VfPpkd-qNpTzb-P1ekSe-OWXEXe-OiiCO-IhfUye .VfPpkd-qNpTzb-ncAuFb-ZMv3u, .VfPpkd-qNpTzb-P1ekSe[dir="rtl"]:not([dir="ltr"]).VfPpkd-qNpTzb-P1ekSe-OWXEXe-OiiCO-IhfUye .VfPpkd-qNpTzb-ncAuFb-ZMv3u { animation-name: mdc-linear-progress-secondary-indeterminate-translate-reverse; }

[dir="rtl"] .VfPpkd-qNpTzb-P1ekSe:not([dir="ltr"]) .VfPpkd-qNpTzb-ajuXxc-RxYbNe, .VfPpkd-qNpTzb-P1ekSe[dir="rtl"]:not([dir="ltr"]) .VfPpkd-qNpTzb-ajuXxc-RxYbNe { animation: 0.25s linear 0s infinite normal none running mdc-linear-progress-buffering-reverse; transform: rotate(0deg); }

[dir="rtl"] .VfPpkd-qNpTzb-P1ekSe:not([dir="ltr"]).VfPpkd-qNpTzb-P1ekSe-OWXEXe-A9y3zc .VfPpkd-qNpTzb-Vw3Xuf-ZMv3u, .VfPpkd-qNpTzb-P1ekSe[dir="rtl"]:not([dir="ltr"]).VfPpkd-qNpTzb-P1ekSe-OWXEXe-A9y3zc .VfPpkd-qNpTzb-Vw3Xuf-ZMv3u { right: -145.167%; left: auto; }

[dir="rtl"] .VfPpkd-qNpTzb-P1ekSe:not([dir="ltr"]).VfPpkd-qNpTzb-P1ekSe-OWXEXe-A9y3zc .VfPpkd-qNpTzb-ncAuFb-ZMv3u, .VfPpkd-qNpTzb-P1ekSe[dir="rtl"]:not([dir="ltr"]).VfPpkd-qNpTzb-P1ekSe-OWXEXe-A9y3zc .VfPpkd-qNpTzb-ncAuFb-ZMv3u { right: -54.8889%; left: auto; }

.VfPpkd-qNpTzb-P1ekSe-OWXEXe-xTMeO { opacity: 0; }

.VfPpkd-qNpTzb-P1ekSe-OWXEXe-xTMeO-OiiCO-Xhs9z .VfPpkd-qNpTzb-ajuXxc-RxYbNe, .VfPpkd-qNpTzb-P1ekSe-OWXEXe-xTMeO-OiiCO-Xhs9z.VfPpkd-qNpTzb-P1ekSe-OWXEXe-A9y3zc .VfPpkd-qNpTzb-P4pF8c, .VfPpkd-qNpTzb-P1ekSe-OWXEXe-xTMeO-OiiCO-Xhs9z.VfPpkd-qNpTzb-P1ekSe-OWXEXe-A9y3zc .VfPpkd-qNpTzb-P4pF8c .VfPpkd-qNpTzb-P4pF8c-SmKAyb { animation: auto ease 0s 1 normal none running none; }

@keyframes mdc-linear-progress-buffering { 
  0% { transform: rotate(180deg) translateX(calc(var(--mdc-linear-progress-track-height, 4px)*-2.5)); }
}

.VfPpkd-qNpTzb-P4pF8c-SmKAyb { border-color: var(--mdc-linear-progress-active-indicator-color,#6200ee); }

.VfPpkd-qNpTzb-ajuXxc-RxYbNe { background-color: var(--mdc-linear-progress-track-color,#e6e6e6); }

@media (forced-colors: active) {
  .VfPpkd-qNpTzb-ajuXxc-RxYbNe { background-color: buttonborder; }
}

@media (-ms-high-contrast:active), (-ms-high-contrast:none) {
  .VfPpkd-qNpTzb-ajuXxc-RxYbNe { background-color: transparent; background-image: url("data:image/svg+xml,%3Csvg version='1.1' xmlns='http://www.w3.org/2000/svg' xmlns:xlink='http://www.w3.org/1999/xlink' x='0px' y='0px' enable-background='new 0 0 5 2' xml:space='preserve' viewBox='0 0 5 2' preserveAspectRatio='none slice'%3E%3Ccircle cx='1' cy='1' r='1' fill='%23e6e6e6'/%3E%3C/svg%3E"); }
}

.VfPpkd-qNpTzb-ajuXxc-ZMv3u { background-color: var(--mdc-linear-progress-track-color,#e6e6e6); }

.VfPpkd-qNpTzb-P1ekSe { height: max(var(--mdc-linear-progress-track-height,4px),var(--mdc-linear-progress-active-indicator-height,4px)); }

@media (-ms-high-contrast:active), (-ms-high-contrast:none) {
  .VfPpkd-qNpTzb-P1ekSe { height: 4px; }
}

.VfPpkd-qNpTzb-P4pF8c { height: var(--mdc-linear-progress-active-indicator-height,4px); }

.VfPpkd-qNpTzb-P4pF8c-SmKAyb { border-top-width: var(--mdc-linear-progress-active-indicator-height,4px); }

.VfPpkd-qNpTzb-ajuXxc { height: var(--mdc-linear-progress-track-height,4px); }

@media (-ms-high-contrast:active), (-ms-high-contrast:none) {
  .VfPpkd-qNpTzb-ajuXxc-RxYbNe { background-size: 10px var(--mdc-linear-progress-track-height,4px); }
}

.VfPpkd-qNpTzb-ajuXxc { border-radius: var(--mdc-linear-progress-track-shape,0); }

.ne2Ple-suEOdc { position: fixed; display: none; z-index: var(--gm3-tooltip-plain-z-index,2101); }

.ne2Ple-z59Tgd { box-sizing: border-box; min-block-size: 24px; min-inline-size: 40px; overflow-wrap: anywhere; overflow: hidden; padding-block: 4px; padding-inline: 8px; word-break: normal; max-block-size: var(--gm3-tooltip-plain-container-max-block-size,40vh); }

.ne2Ple-z59Tgd::before { position: absolute; box-sizing: border-box; inline-size: 100%; block-size: 100%; inset-block-start: 0px; inset-inline-start: 0px; border: 1px solid transparent; border-radius: inherit; content: ""; pointer-events: none; }

.ne2Ple-suEOdc-OWXEXe-TSZdd, .ne2Ple-suEOdc-OWXEXe-eo9XGd, .ne2Ple-suEOdc-OWXEXe-ZYIfFd { display: inline-flex; }

.ne2Ple-z59Tgd-OiiCO { opacity: 0; transform: scale(0.8); will-change: transform, opacity; }

.ne2Ple-suEOdc-OWXEXe-TSZdd .ne2Ple-z59Tgd-OiiCO { opacity: 1; transform: scale(1); }

.ne2Ple-suEOdc-OWXEXe-ZYIfFd .ne2Ple-z59Tgd-OiiCO { transform: scale(1); }

.ne2Ple-suEOdc-OWXEXe-eo9XGd-RCfa3e .ne2Ple-z59Tgd-OiiCO { transition: opacity 0.15s cubic-bezier(0, 0, 0.2, 1), transform 0.15s cubic-bezier(0, 0, 0.2, 1); }

.ne2Ple-suEOdc-OWXEXe-ZYIfFd-RCfa3e .ne2Ple-z59Tgd-OiiCO { transition: opacity 75ms cubic-bezier(0.4, 0, 1, 1); }

.ne2Ple-suEOdc-OWXEXe-pijamc .ne2Ple-z59Tgd { max-inline-size: 200px; background-color: var(--gm3-tooltip-plain-container-color,var(--gm3-sys-color-inverse-surface,#303030)); border-radius: var(--gm3-tooltip-plain-container-shape,4px); color: var(--gm3-tooltip-plain-supporting-text-color,var(--gm3-sys-color-inverse-on-surface,#f2f2f2)); font-family: var(--gm3-tooltip-plain-supporting-text-font,"Google Sans Flex","Google Sans Text","Google Sans",Roboto,Arial,sans-serif); font-size: var(--gm3-tooltip-plain-supporting-text-size,.75rem); font-weight: var(--gm3-tooltip-plain-supporting-text-weight,400); letter-spacing: var(--gm3-tooltip-plain-supporting-text-tracking,.00625rem); line-height: var(--gm3-tooltip-plain-supporting-text-line-height,1rem); text-align: center; font-variation-settings: var(--gm3-tooltip-plain-supporting-text-font-variation-settings,initial); }

.ne2Ple-suEOdc-OWXEXe-LlMNQd .ne2Ple-z59Tgd { text-align: start; }

.ne2Ple-oshW8e-V67aGc { position: absolute; left: -10000px; top: auto; inline-size: 1px; height: 1px; overflow: hidden; user-select: none; }

.rxb0oe { position: relative; }

.rxb0oe .VfPpkd-qNpTzb-P4pF8c-SmKAyb { border-color: rgb(66, 133, 244); }

.rxb0oe .VfPpkd-qNpTzb-ajuXxc-RxYbNe { background-color: rgb(232, 240, 254); }

@media (forced-colors: active) {
  .rxb0oe .VfPpkd-qNpTzb-ajuXxc-RxYbNe { background-color: buttonborder; }
}

@media (-ms-high-contrast:active), (-ms-high-contrast:none) {
  .rxb0oe .VfPpkd-qNpTzb-ajuXxc-RxYbNe { background-color: transparent; background-image: url("data:image/svg+xml,%3Csvg version='1.1' xmlns='http://www.w3.org/2000/svg' xmlns:xlink='http://www.w3.org/1999/xlink' x='0px' y='0px' enable-background='new 0 0 5 2' xml:space='preserve' viewBox='0 0 5 2' preserveAspectRatio='none slice'%3E%3Ccircle cx='1' cy='1' r='1' fill='rgb(232, 240, 254)'/%3E%3C/svg%3E"); }
}

.rxb0oe .VfPpkd-qNpTzb-ajuXxc-ZMv3u { background-color: rgb(232, 240, 254); }

.rxb0oe .VfPpkd-qNpTzb-Mr8B3-V67aGc { height: 100%; width: 100%; position: absolute; opacity: 0; overflow: hidden; z-index: -1; }

.jFfZdd { align-items: center; background: rgb(255, 255, 255); border: 1px solid transparent; box-sizing: border-box; display: flex; flex-direction: column; padding: 0px 15px; position: relative; }

.aRDKUe .jFfZdd { background: rgb(27, 27, 27); }

@media screen and (max-width: 320px) {
  .jFfZdd { padding: 0px 11px; }
}

.jFfZdd.Dn5Ezd { cursor: pointer; }

@media (hover: hover) {
  .jFfZdd.Dn5Ezd:hover { background: rgba(68, 71, 70, 0.08); }
}

@media (forced-colors: active) {
  .jFfZdd.Dn5Ezd:focus-visible { outline: transparent solid 1px; outline-offset: -2px; }
}

.jFfZdd.Dn5Ezd:focus-visible { outline: transparent solid 1px; outline-offset: -1px; }

.WLjaOb .jFfZdd.Dn5Ezd:focus-visible, .WLjaOb .jFfZdd.Dn5Ezd:focus-visible:hover { background: rgba(68, 71, 70, 0.12); border-color: rgb(11, 87, 208); }

.jFfZdd.Dn5Ezd:active, .jFfZdd.Dn5Ezd:active:focus-visible { background: rgba(68, 71, 70, 0.12); }

@media (hover: hover) {
  .aRDKUe .jFfZdd.Dn5Ezd:hover { background: rgba(227, 227, 227, 0.08); }
}

@media (forced-colors: active) {
  .aRDKUe .jFfZdd.Dn5Ezd:focus-visible { outline: transparent solid 1px; outline-offset: -1px; }
}

.aRDKUe .jFfZdd.Dn5Ezd:focus-visible { outline: transparent solid 1px; outline-offset: -1px; }

.WLjaOb.aRDKUe .jFfZdd.Dn5Ezd:focus-visible, .WLjaOb.aRDKUe .jFfZdd.Dn5Ezd:focus-visible:hover { background: rgba(227, 227, 227, 0.12); border-color: rgb(168, 199, 250); }

.aRDKUe .jFfZdd.Dn5Ezd:active, .aRDKUe .jFfZdd.Dn5Ezd:active:focus-visible { background: rgba(227, 227, 227, 0.12); }

.qLP7kc { border-radius: 30px; display: flex; flex-direction: column; gap: 2px; margin: 12px 0px 0px; text-align: left; }

.qLP7kc.y5Iqsb { margin: 0px; }

.y5Iqsb, .y5Iqsb .jFfZdd { border-radius: 4px; }

.y5Iqsb:not(.wukvjc):first-child, .y5Iqsb:not(.wukvjc):not(.qLP7kc):first-child .jFfZdd { border-top-left-radius: inherit; border-top-right-radius: inherit; }

.y5Iqsb:not(.wukvjc):last-child, .y5Iqsb:not(.wukvjc):not(.qLP7kc):last-child .jFfZdd { border-bottom-left-radius: inherit; border-bottom-right-radius: inherit; }

.y5Iqsb.wukvjc:first-child, .y5Iqsb.wukvjc:first-child .jFfZdd { border-bottom-left-radius: inherit; border-top-left-radius: inherit; }

.y5Iqsb.wukvjc:last-child, .y5Iqsb.wukvjc:last-child .jFfZdd { border-bottom-right-radius: inherit; border-top-right-radius: inherit; }

.JWEMkf { align-items: center; display: flex; flex-flow: wrap; gap: 2px; min-width: 0px; }

.wukvjc { flex: 1 1 calc(50% - 1px); }

@media screen and (max-width: 320px) {
  .JWEMkf { flex-direction: column; }
  .wukvjc { width: 100%; }
  .y5Iqsb.wukvjc:first-child, .y5Iqsb.wukvjc:first-child .jFfZdd { border-bottom-right-radius: 4px; border-bottom-left-radius: 4px; border-top-left-radius: inherit; border-top-right-radius: inherit; }
  .y5Iqsb.wukvjc:last-child, .y5Iqsb.wukvjc:last-child .jFfZdd { border-top-left-radius: 4px; border-top-right-radius: 4px; border-bottom-left-radius: inherit; border-bottom-right-radius: inherit; }
}

.vuTfMd { max-height: max(60px, 24px + 2.25rem); overflow: hidden; }

.vuTfMd { transition: max-height 0.2s ease-in-out; }

.PIlMcf > .AgzpI { visibility: hidden; }

.hcVDfc { align-items: center; display: flex; gap: 8px; min-height: calc(22px + 2.25rem); min-width: 0px; opacity: 1; width: 100%; }

.fVFoBd { flex-shrink: 0; }

.LzIwWe { align-items: center; display: flex; flex-grow: 1; justify-content: flex-start; gap: 8px; }

.c6cDBf, .SedFmc, .IyfHjd { -webkit-box-orient: vertical; display: -webkit-box; overflow: hidden; white-space: normal; }

.c6cDBf { -webkit-line-clamp: 1; text-overflow: ellipsis; }

.SedFmc { max-height: calc(2px + 2.25rem); -webkit-line-clamp: 2; }

.IyfHjd { -webkit-line-clamp: 3; }

.DmSTqc { color: var(--gm3-sys-color-on-surface-variant,#444746); height: 24px; }

.aRDKUe .DmSTqc { color: var(--gm3-sys-color-on-surface-variant,#c4c7c5); }

.LzIwWe.aa2aYe .DmSTqc { margin-left: -4px; }

.YE2NVd { align-items: center; display: flex; flex-flow: wrap; flex-grow: 1; gap: 2px 8px; justify-content: space-between; min-width: 0px; white-space: nowrap; }

.wukvjc .YE2NVd { align-items: flex-start; flex-direction: column; }

.pRjiJb { font-family: "Google Sans", Roboto; font-weight: 500; font-size: 0.875rem; line-height: 1.25rem; letter-spacing: normal; color: var(--gm3-sys-color-on-surface,#1f1f1f); flex-grow: 1; }

.aRDKUe .pRjiJb { color: var(--gm3-sys-color-on-surface,#e3e3e3); }

.MbHqJ { font-family: "Google Sans", Roboto; font-weight: 400; letter-spacing: 0.1px; font-size: 0.75rem; line-height: 1rem; color: var(--gm3-sys-color-on-surface-variant,#444746); }

.aRDKUe .MbHqJ { color: var(--gm3-sys-color-on-surface-variant,#c4c7c5); }

.YE2NVd:last-child .MbHqJ { margin-right: 8px; }

.rF6lAb .SedFmc { max-height: 2.5rem; }

.RztsYb { background: linear-gradient(135deg, transparent 25%, rgba(255, 255, 255, 0.8) 42%, transparent 59%); height: calc(22px + 2.25rem); left: -135.96px; position: absolute; width: 547.96px; }

.RztsYb { animation-duration: 1.5s; animation-fill-mode: forwards; animation-iteration-count: infinite; animation-name: shimmer-keyframes; animation-timing-function: linear; }

.aRDKUe .RztsYb { background: linear-gradient(135deg, transparent 25%, rgba(27, 27, 27, 0.8) 42%, transparent 59%); height: calc(22px + 2.25rem); left: -135.96px; position: absolute; width: 547.96px; }

@keyframes shimmer-keyframes { 
  0% { background-position: 0px 0px; }
  100% { background-position: 500px 0px; }
}

.aRDKUe .RztsYb { animation-duration: 1.5s; animation-fill-mode: forwards; animation-iteration-count: infinite; animation-name: shimmer-keyframes; animation-timing-function: linear; }

.CawIQc.jFfZdd { overflow: hidden; }

.CawIQc .DmSTqc, .CawIQc .pRjiJb, .CawIQc .MbHqJ { background: var(--gm3-sys-color-surface-container-high,#e9eef6); }

.aRDKUe .CawIQc .DmSTqc, .aRDKUe .CawIQc .pRjiJb, .aRDKUe .CawIQc .MbHqJ { background: var(--gm3-sys-color-surface-container-high,#282a2c); }

.CawIQc .DmSTqc { border-radius: 12px; height: 24px; width: 24px; }

.CawIQc .pRjiJb, .CawIQc .MbHqJ { border-radius: 8px; height: 16px; }

.CawIQc .pRjiJb { margin: 2px 0px; max-width: 45%; width: 114px; }

.CawIQc .MbHqJ { max-width: 65%; width: 150px; }

.CawIQc .YE2NVd { align-items: flex-start; flex-direction: column; }

.qLP7kc.Q4Bcre { margin: 16px 0px 12px; }

.EcP4Ae .jFfZdd, .EcP4Ae.jFfZdd { padding: 15px; }

.EcP4Ae .hcVDfc { align-items: flex-start; min-height: unset; }

.EcP4Ae .LzIwWe { max-width: calc(100% - 32px); }

.QTmAZd, .TcvBFb { color: var(--gm3-sys-color-on-surface,#1f1f1f); }

.aRDKUe .QTmAZd, .aRDKUe .TcvBFb { color: var(--gm3-sys-color-on-surface,#e3e3e3); }

.QTmAZd { font-family: "Google Sans", Roboto; font-weight: 500; font-size: 1rem; line-height: 1.5rem; letter-spacing: normal; }

.TcvBFb { font-family: "Google Sans", Roboto; font-weight: 500; font-size: 0.875rem; line-height: 1.25rem; letter-spacing: normal; margin-top: 2px; }

.XdWBVd { font-family: "Google Sans", Roboto; font-weight: 400; font-size: 0.875rem; line-height: 1.25rem; letter-spacing: normal; color: var(--gm3-sys-color-on-surface-variant,#444746); margin-top: 8px; white-space: normal; }

.aRDKUe .XdWBVd { color: var(--gm3-sys-color-on-surface-variant,#c4c7c5); }

.EpFb0e .XdWBVd { margin-top: 0px; }

.BNVVO { margin-top: 16px; width: 100%; }

.LzIwWe { font-weight: 500; white-space: nowrap; }

.hcVDfc { font-weight: 500; white-space: nowrap; height: 100%; }

.wukvjc .jFfZdd.Ne1enb, .jFfZdd.Dn5Ezd:not(.Nry6De):not(.EcP4Ae):not(.Ne1enb) { height: calc(24px + 2.25rem); }

.jFfZdd.Ne1enb { height: calc(14px + 2.5rem); }

.NoWrEb { flex-shrink: 0; }

.F249q .jFfZdd { padding-left: 23px; }

@media screen and (max-width: 320px) {
  .F249q .jFfZdd { padding-left: 15px; }
}

.F249q .JWEMkf:not(.MDVbF) .jFfZdd { padding-left: 15px; }

.F249q .DmSTqc:not(.NBEMJ) { height: 32px; width: 32px; }

.F249q .Ne1enb .DmSTqc:not(.NBEMJ) { height: 24px; padding: 4px; width: 24px; }

.F249q .JWEMkf .Ne1enb .DmSTqc { padding: 0px; }

.F249q .LzIwWe { max-width: calc(100% - 44px); }

.F249q .JWEMkf .LzIwWe { max-width: calc(100% - 32px); }

.NoWrEb { padding-top: 2px; }

.NoWrEb { transition: border-radius 25ms ease-in-out 175ms; }

.vuTfMd.Nry6De .NoWrEb { transition-delay: 0s; }

.vuTfMd:not(.Nry6De) .NoWrEb { border-bottom-left-radius: inherit; border-bottom-right-radius: inherit; }

.F249q .hcVDfc { gap: 12px; }

.F249q .NoWrEb .LzIwWe, .F249q .JWEMkf .hcVDfc { gap: 8px; max-width: none; }

.NoWrEb .hcVDfc { min-height: 56px; }

.Ne1enb .hcVDfc { min-height: 52px; }

.JWEMkf .Ne1enb .hcVDfc { min-height: calc(22px + 2.25rem); }

.jFfZdd.NoWrEb .SedFmc, .jFfZdd.Ne1enb .SedFmc { max-height: 2.5rem; }

.F249q .YE2NVd { align-items: flex-start; flex-direction: column; max-width: 100%; }

.F249q .Ne1enb .YE2NVd { flex-direction: row; }

.Ay4TQb { align-items: center; display: flex; gap: 8px; justify-content: space-between; max-width: 100%; width: 100%; }

.UMXEwb { flex-grow: 1; white-space: nowrap; overflow: hidden; text-overflow: ellipsis; }

.F249q .MbHqJ { overflow: hidden; text-overflow: ellipsis; width: 100%; }

.F249q .YE2NVd:last-child .MbHqJ { margin-right: 0px; }

.F249q .KoNisf { font-size: 22px; font-weight: 400; line-height: 32px; }

.F249q .b60Avb .KoNisf { font-size: 18px; line-height: 24px; }

.nol2lb { font-family: "Google Sans", Roboto; font-weight: 400; letter-spacing: 0.1px; font-size: 0.75rem; line-height: 1rem; color: var(--gm3-sys-color-on-surface-variant,#444746); background: rgb(211, 227, 253); border-radius: 4px; box-sizing: border-box; flex-shrink: 0; height: 1rem; max-width: calc(100% - 8px); overflow: hidden; padding: 0px 4px; text-overflow: ellipsis; white-space: nowrap; }

.aRDKUe .nol2lb { color: var(--gm3-sys-color-on-surface-variant,#c4c7c5); background: rgb(8, 66, 160); }

.nol2lb.U8sM3 { padding-left: 3px; }

.nol2lb.AJilCf { background: rgb(225, 227, 225); }

.aRDKUe .nol2lb.AJilCf { background: rgb(68, 71, 70); }

.JSx1ab { align-items: center; display: flex; flex-flow: wrap; gap: 8px; margin: 3px 0px 15px 44px; opacity: 1; width: calc(100% - 44px); }

@media screen and (max-width: 280px) {
  .JSx1ab { margin-left: 0px; width: 100%; }
}

.KDLkEc { display: inline-block; }

.vuTfMd:not(.Nry6De) .AgzpI .hcVDfc, .vuTfMd:not(.Nry6De) .AgzpI .JSx1ab { opacity: 0; }

.NoWrEb .NBEMJ, .AgzpI .hcVDfc, .AgzpI .JSx1ab { transition: opacity 0.2s ease-in-out; }

.vuTfMd.Nry6De .NoWrEb .b60Avb { opacity: 0; }

.b60Avb .L2vhzb { height: 24px; width: 24px; }

.NoWrEb .NBEMJ { flex-shrink: 0; font-size: 18px; height: 24px; opacity: 1; position: relative; width: 24px; }

@media screen and (min-width: 361px) {
  .NoWrEb .NBEMJ .rGDtLc, .NoWrEb .NBEMJ .sMYDJb { display: none; }
}

@media screen and (max-width: 360px) {
  .NoWrEb .NBEMJ:nth-last-child(3), .NoWrEb .NBEMJ .eqdvSb { display: none; }
}

@media screen and (max-width: 360px) and (min-width: 321px) {
  .NoWrEb .NBEMJ .rGDtLc, .NoWrEb .NBEMJ .eqdvSb { display: none; }
}

@media screen and (max-width: 320px) {
  .NoWrEb .NBEMJ:nth-last-child(4), .NoWrEb .NBEMJ .sMYDJb, .NoWrEb .NBEMJ .eqdvSb { display: none; }
}

@media screen and (max-width: 280px) {
  .NoWrEb .NBEMJ:nth-last-child(2), .NoWrEb .NBEMJ.rGDtLc { display: none; }
}

@media screen and (min-width: 361px) {
  .NoWrEb[data-ac="3"] .NBEMJ:nth-last-child(2) { display: none; }
}

@media screen and (max-width: 360px) {
  .NoWrEb[data-ac="3"] .NBEMJ:nth-last-child(4) { display: none; }
  .NoWrEb[data-ac="3"] .NBEMJ:nth-last-child(2) { display: inline-block; }
}

@media screen and (max-width: 320px) {
  .NoWrEb[data-ac="3"] .NBEMJ:nth-last-child(5) { display: none; }
  .NoWrEb[data-ac="3"] .NBEMJ:nth-last-child(2) { display: inline-block; }
}

@media screen and (max-width: 280px) {
  .NoWrEb[data-ac="3"] .NBEMJ:nth-last-child(2) { display: none; }
}

@media screen and (min-width: 321px) {
  .NoWrEb[data-ac="2"] .NBEMJ:nth-last-child(2) { display: none; }
}

@media screen and (max-width: 360px) {
  .NoWrEb[data-ac="2"] .NBEMJ:nth-last-child(3) { display: inline-block; }
}

@media screen and (max-width: 320px) {
  .NoWrEb[data-ac="2"] .NBEMJ:nth-last-child(3), .NoWrEb[data-ac="2"] .NBEMJ:nth-last-child(4) { display: none; }
  .NoWrEb[data-ac="2"] .NBEMJ:nth-last-child(2) { display: inline-block; }
}

@media screen and (max-width: 280px) {
  .NoWrEb[data-ac="2"] .NBEMJ:nth-last-child(2) { display: none; }
}

.NoWrEb .NBEMJ.DzoHof { font-family: "Google Sans", Roboto; font-weight: 400; letter-spacing: 0.1px; font-size: 12px; line-height: 16px; align-items: center; background: rgb(211, 227, 253); border-radius: 50%; box-sizing: border-box; display: flex; justify-content: center; text-align: center; }

.aRDKUe .NoWrEb .NBEMJ.DzoHof { color: rgb(19, 19, 20); }

.oMipDf { display: inline-block; height: 32px; position: relative; vertical-align: top; }

.L2vhzb { border-radius: 50%; display: block; height: 32px; width: 32px; }

.djaBsf { height: 40px; left: -4px; position: absolute; top: -4px; width: 40px; }

.aFCkf { background: rgb(233, 238, 246); border-radius: 50%; color: rgb(11, 87, 208); padding: 1.5px; }

.aRDKUe .aFCkf { background: rgb(40, 42, 44); color: rgb(168, 199, 250); }

.Nry6De .cllK4d { transform: rotate(180deg); }

.cllK4d { background: rgb(233, 238, 246); border-radius: 50%; color: rgb(68, 71, 70); padding: 1px; transform: rotate(0deg); }

.cllK4d { transition: transform 0.2s ease-in-out; }

.aRDKUe .cllK4d { background: rgb(40, 42, 44); color: rgb(196, 199, 197); }

.qYxqwd .Y2rnLd { border: none; height: 32px; width: 32px; }

.qYxqwd { display: inline-block; height: 32px; position: relative; vertical-align: top; }

.tZ9Q4 { display: inline-block; margin-right: 2px; vertical-align: bottom; }

.Ay4TQb { margin-top: 1px; margin-bottom: 1px; }

.F249q .vuTfMd .Nry6De .YE2NVd { min-height: 40px; }

.F249q .MbHqJ { margin-bottom: 1px; max-height: calc(-1px + 1rem); }

.F249q .vuTfMd .Nry6De .MbHqJ { margin-bottom: 0px; padding-bottom: 1px; }

.F249q .qYxqwd, .F249q .oMipDf { margin: 0px; }

.NoWrEb .NBEMJ.DzoHof.b60Avb { display: inline-block; min-width: 24px; align-items: unset; white-space: nowrap; vertical-align: middle; justify-content: unset; padding: 4px; }

@media screen and (max-width: 280px) {
  .NoWrEb .NBEMJ.DzoHof.b60Avb { display: none; }
}

@media screen and (max-width: 360px) {
  .NoWrEb[data-ac="3"] .NBEMJ.DzoHof.b60Avb, .NoWrEb[data-ac="2"] .NBEMJ.DzoHof.b60Avb { display: inline-block; }
}

@media screen and (max-width: 280px), screen and (min-width: 361px) {
  .NoWrEb[data-ac="3"] .NBEMJ.DzoHof.b60Avb, .NoWrEb[data-ac="2"] .NBEMJ.DzoHof.b60Avb { display: none; }
}

.JWEMkf.MDVbF { flex-direction: column; margin-bottom: 2px; }

.JWEMkf.MDVbF .y5Iqsb { width: 100%; }

.JWEMkf.MDVbF .y5Iqsb.wukvjc:first-child { border-bottom-right-radius: 4px; border-bottom-left-radius: 4px; border-top-left-radius: inherit; border-top-right-radius: inherit; }

.JWEMkf.MDVbF .y5Iqsb.wukvjc:last-child { border-top-left-radius: 4px; border-top-right-radius: 4px; border-bottom-left-radius: inherit; border-bottom-right-radius: inherit; }

.oNTUye { display: block; text-align: center; }

.oNTUye .oREknc { display: block; margin: 2px auto 16px; overflow: hidden; }

.coHE2 { position: relative; border-color: var(--gm3-sys-color-outline,#747775); background: none; border-radius: 100px; border-width: 1px; border-style: solid; display: inline-block; outline: 0px; padding: 9px 23px; text-align: center; }

@media (hover: hover) {
  .coHE2:hover { background: rgba(11, 87, 208, 0.08); }
}

@media (forced-colors: active) {
  .coHE2:focus-visible { outline: transparent solid 1px; outline-offset: -2px; }
}

.coHE2:focus-visible { outline: transparent solid 1px; outline-offset: -1px; }

.WLjaOb .coHE2:focus-visible, .WLjaOb .coHE2:focus-visible:hover { background: rgba(11, 87, 208, 0.12); border-color: rgb(11, 87, 208); }

.coHE2:active, .coHE2:active:focus-visible { background: rgba(11, 87, 208, 0.12); }

.coHE2::after { content: ""; position: absolute; inset: -5px -1px; }

.aRDKUe .coHE2 { border-color: var(--gm3-sys-color-outline,#8e918f); }

@media (hover: hover) {
  .aRDKUe .coHE2:hover { background: rgba(168, 199, 250, 0.08); }
}

@media (forced-colors: active) {
  .aRDKUe .coHE2:focus-visible { outline: transparent solid 1px; outline-offset: -1px; }
}

.aRDKUe .coHE2:focus-visible { outline: transparent solid 1px; outline-offset: -1px; }

.WLjaOb.aRDKUe .coHE2:focus-visible, .WLjaOb.aRDKUe .coHE2:focus-visible:hover { background: rgba(168, 199, 250, 0.12); border-color: rgb(168, 199, 250); }

.aRDKUe .coHE2:active, .aRDKUe .coHE2:active:focus-visible { background: rgba(168, 199, 250, 0.12); }

.WkuXae { font-family: "Google Sans", Roboto; font-weight: 500; font-size: 0.875rem; line-height: 1.25rem; letter-spacing: normal; color: var(--gm3-sys-color-primary,#0b57d0); max-width: 326px; vertical-align: top; }

.aRDKUe .WkuXae { color: var(--gm3-sys-color-primary,#a8c7fa); }

.X4zFZd { height: 18px; margin-right: 8px; margin-top: 1px; vertical-align: top; width: 18px; }

.wk3GB { fill: rgb(255, 255, 255); }

.J7Gacc { fill: var(--gm3-sys-color-error,#b3261e); }

.aRDKUe .wk3GB { fill: var(--gm3-sys-color-on-error,#601410); }

.aRDKUe .J7Gacc { fill: var(--gm3-sys-color-error,#f2b8b5); }

@media screen and (min-width: 321px) {
  .WkuXae { display: inline-block; }
  .WkuXae.R1DZsb, .WkuXae.EPaIef { display: none; }
}

@media screen and (max-width: 320px) {
  .WkuXae { display: none; }
  .WkuXae.R1DZsb { display: inline-block; }
  .WkuXae.EPaIef { display: none; }
}

@media screen and (max-width: 280px) {
  .WkuXae.R1DZsb { display: none; }
  .WkuXae.EPaIef { display: inline-block; }
}

.rDyYye .WkuXae { display: inline-block; }

.xjE3jd { min-height: unset; }

.GFYYTb { padding: 18px 0px 0px; }

.VoqD8 { min-height: 22px; }

.XS2qof { display: block; height: 80px; margin-left: auto; margin-right: auto; margin-top: 22px; outline: none; position: relative; width: 80px; }

.JZFjpd { border-radius: 50%; height: inherit; position: inherit; width: inherit; }

.pMoudc .JZFjpd { position: absolute; }

.eYSAde { font-family: "Google Sans", Roboto; font-size: 0.875rem; line-height: 1.25rem; letter-spacing: normal; color: var(--gm3-sys-color-on-surface,#1f1f1f); font-weight: 500; margin-left: auto; margin-right: auto; max-width: calc(100% - 64px); opacity: 1; overflow: hidden; text-align: center; text-overflow: ellipsis; transition: opacity 0.15s; }

.aRDKUe .eYSAde { color: var(--gm3-sys-color-on-surface,#e3e3e3); }

.YeVHZd .GFYYTb .eYSAde { opacity: 0; }

.hCDve { font-family: "Google Sans", Roboto; font-weight: 400; font-size: 1.375rem; line-height: 1.75rem; letter-spacing: normal; margin: 8px 0px; text-align: center; }

.aRDKUe .hCDve { color: var(--gm3-sys-color-on-background,#e3e3e3); }

.G5bXNb { background: rgb(233, 238, 246); border-radius: 50%; bottom: 0px; height: 24px; position: absolute; right: 0px; width: 24px; }

.aRDKUe .G5bXNb { background: rgb(40, 42, 44); }

.Q3BXBb { cursor: pointer; }

@media (hover: hover) {
  .Q3BXBb:hover .GXg3Le { background: rgba(68, 71, 70, 0.08); }
}

@media (forced-colors: active) {
  .Q3BXBb:focus-visible .GXg3Le { outline: transparent solid 1px; outline-offset: -2px; }
}

.Q3BXBb:focus-visible .GXg3Le { outline: transparent solid 1px; outline-offset: -1px; }

.WLjaOb .Q3BXBb:focus-visible .GXg3Le, .WLjaOb .Q3BXBb:focus-visible:hover .GXg3Le { background: rgba(68, 71, 70, 0.12); border-color: rgb(11, 87, 208); }

.Q3BXBb:active .GXg3Le, .Q3BXBb:active:focus-visible .GXg3Le { background: rgba(68, 71, 70, 0.12); }

@media (hover: hover) {
  .aRDKUe .Q3BXBb:hover .GXg3Le { background: rgba(227, 227, 227, 0.08); }
}

@media (forced-colors: active) {
  .aRDKUe .Q3BXBb:focus-visible .GXg3Le { outline: transparent solid 1px; outline-offset: -1px; }
}

.aRDKUe .Q3BXBb:focus-visible .GXg3Le { outline: transparent solid 1px; outline-offset: -1px; }

.WLjaOb.aRDKUe .Q3BXBb:focus-visible .GXg3Le, .WLjaOb.aRDKUe .Q3BXBb:focus-visible:hover .GXg3Le { background: rgba(227, 227, 227, 0.12); border-color: rgb(168, 199, 250); }

.aRDKUe .Q3BXBb:active .GXg3Le, .aRDKUe .Q3BXBb:active:focus-visible .GXg3Le { background: rgba(227, 227, 227, 0.12); }

.Q3BXBb:focus-visible { outline: none; }

.Q3BXBb:focus-visible .GXg3Le { outline-offset: -2px; outline: transparent solid 2px; }

.Q3BXBb:hover .GXg3Le, .Q3BXBb:focus-visible .GXg3Le, .Q3BXBb:active .GXg3Le, .WLjaOb .Q3BXBb:focus-visible .GXg3Le, .Q3BXBb:focus-visible .GXg3Le, .GXg3Le:hover, .GXg3Le:focus-visible, .GXg3Le:active, .WLjaOb .GXg3Le:focus-visible, .GXg3Le:focus-visible { color: var(--gm3-sys-color-primary,#0b57d0); }

.aRDKUe .Q3BXBb:hover .GXg3Le, .aRDKUe .Q3BXBb:focus-visible .GXg3Le, .aRDKUe .Q3BXBb:active .GXg3Le, .aRDKUe .WLjaOb .Q3BXBb:focus-visible .GXg3Le, .aRDKUe .Q3BXBb:focus-visible .GXg3Le, .aRDKUe .GXg3Le:hover, .aRDKUe .GXg3Le:focus-visible, .aRDKUe .GXg3Le:active, .aRDKUe .WLjaOb .GXg3Le:focus-visible, .aRDKUe .GXg3Le:focus-visible { color: var(--gm3-sys-color-primary,#a8c7fa); }

.GXg3Le { background: var(--gm3-sys-color-surface-container-lowest,#fff); border-radius: 50%; border: 1px solid transparent; bottom: 0px; box-sizing: border-box; color: var(--gm3-sys-color-on-surface,#1f1f1f); font-size: medium; height: 24px; padding: 2px; position: absolute; right: 0px; width: 24px; }

.aRDKUe .GXg3Le { background: var(--gm3-sys-color-surface-container-lowest,#0e0e0e); color: var(--gm3-sys-color-on-surface,#e3e3e3); }

.KkhfNb { color: currentcolor; }

.SDV7ef { color: rgb(48, 48, 48); font-family: "Google Sans", Roboto; font-weight: 400; letter-spacing: 0.1px; font-size: 0.75rem; line-height: 1rem; margin-left: auto; margin-right: auto; max-width: calc(100% - 64px); text-align: center; }

.aRDKUe .SDV7ef { color: rgb(227, 227, 227); }

.scjzPc { color: rgb(48, 48, 48); display: inline-block; padding: 3px 7px; }

.aRDKUe .scjzPc { color: rgb(227, 227, 227); }

.NoNCCf { color: var(--gm3-sys-color-primary,#0b57d0); display: inline-block; padding: 1px 7px; }

.aRDKUe .NoNCCf { color: var(--gm3-sys-color-primary,#a8c7fa); }

.pQpjR { position: relative; border-radius: 4px; border: 1px solid transparent; max-width: 100%; padding: 1px; }

@media (hover: hover) {
  .pQpjR:hover { background: rgba(68, 71, 70, 0.08); }
}

@media (forced-colors: active) {
  .pQpjR:focus-visible { outline: transparent solid 1px; outline-offset: -2px; }
}

.pQpjR:focus-visible { outline: transparent solid 1px; outline-offset: -1px; }

.WLjaOb .pQpjR:focus-visible, .WLjaOb .pQpjR:focus-visible:hover { background: rgba(68, 71, 70, 0.12); border-color: rgb(11, 87, 208); }

.pQpjR:active, .pQpjR:active:focus-visible { background: rgba(68, 71, 70, 0.12); }

@media (hover: hover) {
  .aRDKUe .pQpjR:hover { background: rgba(227, 227, 227, 0.08); }
}

@media (forced-colors: active) {
  .aRDKUe .pQpjR:focus-visible { outline: transparent solid 1px; outline-offset: -1px; }
}

.aRDKUe .pQpjR:focus-visible { outline: transparent solid 1px; outline-offset: -1px; }

.WLjaOb.aRDKUe .pQpjR:focus-visible, .WLjaOb.aRDKUe .pQpjR:focus-visible:hover { background: rgba(227, 227, 227, 0.12); border-color: rgb(168, 199, 250); }

.aRDKUe .pQpjR:active, .aRDKUe .pQpjR:active:focus-visible { background: rgba(227, 227, 227, 0.12); }

.pQpjR::after { content: ""; position: absolute; inset: -15px 0px; }

.pQpjR:focus { background: transparent; border-color: transparent; }

.aRDKUe .pQpjR:focus { background: transparent; }

.IKm3f .pQpjR { position: relative; }

.IKm3f .pQpjR::after { content: ""; position: absolute; inset: -22px 0px -8px; }

.IKm3f .pQpjR.HWT9Rc { position: relative; }

.IKm3f .pQpjR.HWT9Rc::after { content: ""; position: absolute; inset: -8px 0px -22px; }

.HWT9Rc { margin: 16px auto 2px; text-align: center; }

.SDV7ef .tfC9yc { max-width: calc(100% - 22px); vertical-align: top; }

.Ww4CF { display: inline-block; margin-right: 6px; vertical-align: top; }

.tI0LGd { line-height: 16px; margin: 0px; }

.H0GIIb { color: rgb(48, 48, 48); display: inline; margin: 0px; }

.aRDKUe .H0GIIb { color: rgb(227, 227, 227); }

c-wiz { contain: style; }

c-wiz > c-data { display: none; }

c-wiz.rETSD { contain: none; }

c-wiz.Ubi8Z { contain: layout style; }

.MCcOAc { inset: 0px; position: absolute; overflow: hidden; z-index: 1; }

.MCcOAc > .pGxpHc { flex-shrink: 0; flex-grow: 0; }

.IqBfM > .HLlAHb { align-items: center; display: flex; height: 60px; position: absolute; right: 16px; top: 0px; z-index: 9999; }

.VUoKZ { display: none; position: absolute; top: 0px; left: 0px; right: 0px; height: 3px; z-index: 1001; }

.TRHLAc { position: absolute; top: 0px; left: 0px; width: 25%; height: 100%; background: rgb(102, 136, 238); transform: scaleX(0); }

.TRHLAc { transform-origin: 0px 0px; }

.mIM26c .VUoKZ { display: block; }

.mIM26c .TRHLAc { animation: 1s cubic-bezier(0.4, 0, 1, 1) 0.1s infinite normal none running boqChromeapiPageProgressAnimation; }

.ghyPEc .VUoKZ { position: fixed; }

@keyframes boqChromeapiPageProgressAnimation { 
  0% { transform: scaleX(0); }
  50% { transform: scaleX(5); }
  100% { transform: scaleX(5) translateX(100%); }
}

.kFwPee { height: 100%; }

.ydMMEb { width: 100%; }

.SSPGKf { display: block; overflow-y: hidden; z-index: 1; }

.eejsDc { overflow-y: auto; }

.T4LgNb { inset: 0px; position: absolute; z-index: 1; }

.QMEh5b { position: absolute; top: 0px; left: 0px; right: 0px; z-index: 3; }

.AOq4tb { height: 56px; }

.kFwPee { position: relative; z-index: 1; height: 100%; }

.ydMMEb { height: 56px; width: 100%; }

.SSPGKf { overflow-y: hidden; position: absolute; inset: 0px; }

.ecJEib .AOq4tb, .ecJEib .ydMMEb { height: 64px; }

.e2G3Fb.EWZcud .AOq4tb, .e2G3Fb.EWZcud .ydMMEb { height: 48px; }

.e2G3Fb.b30Rkd .AOq4tb, .e2G3Fb.b30Rkd .ydMMEb { height: 56px; }

.XgRzu { left: 0px; position: absolute; top: 0px; }

.JVnSJf { height: calc(100% - 24px); left: 12px; overflow: hidden; pointer-events: none; position: absolute; top: 8px; width: calc(100% - 24px); z-index: 2; }

.Aw3qqd .JVnSJf { height: 100%; left: 0px; top: 0px; width: 100%; }

@media (prefers-reduced-motion) {
  .JVnSJf { display: none; }
}

.Z3fcMe { vertical-align: top; width: 20px; }

.cCJzwc.SGR9Cb { display: none; }

.RyXbcb { font-family: "Google Sans", Roboto; font-weight: 400; letter-spacing: 0.1px; font-size: 0.75rem; line-height: 1rem; align-items: center; display: flex; margin: 24px 0px 16px 16px; }

@media screen and (max-width: 320px) {
  .RyXbcb { margin-left: 8px; }
}

.idKC9b { color: var(--gm3-sys-color-on-surface-variant,#444746); }

.aRDKUe .idKC9b { color: var(--gm3-sys-color-on-surface-variant,#c4c7c5); }

.C6Fnkb, .N3AcWd { margin-left: 12px; }

@media screen and (max-width: 320px) {
  .C6Fnkb, .N3AcWd { margin-right: 4px; }
}

.C6Fnkb { color: var(--gm3-sys-color-primary,#0b57d0); }

.aRDKUe .C6Fnkb { color: var(--gm3-sys-color-primary,#a8c7fa); }

.N3AcWd { background-color: var(--gm3-sys-color-primary,#0b57d0); color: var(--gm3-sys-color-on-primary,#fff); border-radius: 4px; padding: 0px 4px; }

.aRDKUe .N3AcWd { background-color: var(--gm3-sys-color-primary,#a8c7fa); color: var(--gm3-sys-color-on-primary,#062e6f); }

.GgqZjb { height: 24px; position: relative; width: 24px; }

.GgqZjb .AHFKnd { border-top-color: ; border-right-color: ; border-left-color: ; display: none; animation: 1s linear 0s infinite normal none running spin; border-radius: 100%; border-width: 2px; border-style: solid; height: 16px; margin: 2px; width: 16px; border-bottom-color: rgb(255, 255, 255); }

.aRDKUe .GgqZjb .AHFKnd { border-top-color: ; border-right-color: ; border-left-color: ; border-bottom-color: rgb(27, 27, 27); }

.GgqZjb .HWIpkd { display: none; }

.GgqZjb .HWIpkd, .GgqZjb .qg6f2d, .GgqZjb .t1icec { height: 24px; left: 0px; position: absolute; top: 0px; width: 24px; }

.GgqZjb .t1icec { transition: transform 0.15s ease-out; }

.GgqZjb.j6Onab .t1icec { transform: rotate(-30deg) translate(5px, -4px); }

.GgqZjb.T76GB .AHFKnd { display: block; }

.GgqZjb.T76GB .t1icec { transform: rotate(-30deg) translate(5px, -4px); visibility: hidden; }

.GgqZjb.T76GB .qg6f2d { visibility: hidden; }

.GgqZjb.YlD73d .t1icec { transform: rotate(0deg) translate(0px, 0px); }

.GgqZjb.pVEsKb .HWIpkd { display: block; }

.GgqZjb.pVEsKb .t1icec, .GgqZjb.pVEsKb .qg6f2d { display: none; }

.IAMa4b { font-family: "Google Sans", Roboto; font-weight: 500; font-size: 0.875rem; line-height: 1.25rem; letter-spacing: normal; position: relative; color: var(--gm3-sys-color-primary,#0b57d0); border: 1px solid transparent; border-radius: 100px; cursor: pointer; padding: 10px 8px; }

@media (hover: hover) {
  .IAMa4b:hover { background: rgba(11, 87, 208, 0.08); }
}

@media (forced-colors: active) {
  .IAMa4b:focus-visible { outline: transparent solid 1px; outline-offset: -2px; }
}

.IAMa4b:focus-visible { outline: transparent solid 1px; outline-offset: -1px; }

.WLjaOb .IAMa4b:focus-visible, .WLjaOb .IAMa4b:focus-visible:hover { background: rgba(11, 87, 208, 0.12); border-color: rgb(11, 87, 208); }

.IAMa4b:active, .IAMa4b:active:focus-visible { background: rgba(11, 87, 208, 0.12); }

.IAMa4b::after { content: ""; position: absolute; inset: -4px 0px; }

.aRDKUe .IAMa4b { color: var(--gm3-sys-color-primary,#a8c7fa); }

@media (hover: hover) {
  .aRDKUe .IAMa4b:hover { background: rgba(168, 199, 250, 0.08); }
}

@media (forced-colors: active) {
  .aRDKUe .IAMa4b:focus-visible { outline: transparent solid 1px; outline-offset: -1px; }
}

.aRDKUe .IAMa4b:focus-visible { outline: transparent solid 1px; outline-offset: -1px; }

.WLjaOb.aRDKUe .IAMa4b:focus-visible, .WLjaOb.aRDKUe .IAMa4b:focus-visible:hover { background: rgba(168, 199, 250, 0.12); border-color: rgb(168, 199, 250); }

.aRDKUe .IAMa4b:active, .aRDKUe .IAMa4b:active:focus-visible { background: rgba(168, 199, 250, 0.12); }

.qADp8d.QajBpb { --gm3-snackbar-supporting-text-font: "Google Sans"; --gm3-snackbar-action-label-text-font: "Google Sans"; margin: 0px 36px 32px; }

.Aw3qqd .qADp8d.QajBpb { margin: 0px 24px 16px; }

.qADp8d.Vqs04b { --gm3-snackbar-action-focus-label-text-color: #0b57d0; --gm3-snackbar-action-hover-label-text-color: #0b57d0; --gm3-snackbar-action-hover-state-layer-color: #0b57d0; --gm3-snackbar-action-hover-state-layer-opacity: 0.08; --gm3-snackbar-action-label-text-color: #0b57d0; --gm3-snackbar-action-pressed-label-text-color: #0b57d0; --gm3-snackbar-action-pressed-state-layer-color: #0b57d0; --gm3-snackbar-action-pressed-state-layer-opacity: 0.12; --gm3-snackbar-container-color: #e3e3e3; --gm3-snackbar-supporting-text-color: #303030; }

@keyframes spin { 
  0% { transform: rotate(0deg); }
  50% { transform: rotate(180deg); }
  100% { transform: rotate(1turn); }
}

sentinel { }
------MultipartBoundary--o4C46MD1v5LjRKaEEJJp6V0O1heQ16TtDUGnAqoxwB----
Content-Type: text/html
Content-ID: <frame-99F16D308B565B07117B7B1ED690CB17@mhtml.blink>
Content-Transfer-Encoding: binary

<html><head><meta http-equiv="Content-Type" content="text/html; charset=UTF-8"></head><body></body></html>
------MultipartBoundary--o4C46MD1v5LjRKaEEJJp6V0O1heQ16TtDUGnAqoxwB------
